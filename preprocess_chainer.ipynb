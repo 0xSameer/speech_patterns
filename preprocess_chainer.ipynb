{
 "cells": [
  {
   "cell_type": "code",
   "execution_count": 43,
   "metadata": {
    "collapsed": true
   },
   "outputs": [],
   "source": [
    "from __future__ import print_function\n",
    "from __future__ import division\n",
    "import os\n",
    "import pickle\n",
    "import json\n",
    "import subprocess\n",
    "from IPython.display import display\n",
    "from IPython.display import Audio\n",
    "import bisect\n",
    "from collections import namedtuple\n",
    "import numpy as np\n",
    "import pandas as pd\n",
    "from collections import Counter\n",
    "from python_speech_features import mfcc\n",
    "import matplotlib.pyplot as plt\n",
    "import seaborn as sns\n",
    "import textwrap\n",
    "import nltk\n",
    "import math\n",
    "import scipy as sp\n",
    "import scipy.io.wavfile as wav\n",
    "from nltk.corpus import stopwords\n",
    "from tqdm import tqdm\n",
    "\n",
    "from matplotlib.ticker import MultipleLocator, \\\n",
    "     FormatStrFormatter, AutoMinorLocator\n",
    "%matplotlib inline"
   ]
  },
  {
   "cell_type": "code",
   "execution_count": 44,
   "metadata": {
    "collapsed": true
   },
   "outputs": [],
   "source": [
    "with open(\"config.json\") as json_data_file:\n",
    "    config = json.load(json_data_file)"
   ]
  },
  {
   "cell_type": "code",
   "execution_count": 45,
   "metadata": {
    "collapsed": true
   },
   "outputs": [],
   "source": [
    "Align = namedtuple('Align', ['word', 'start', 'end'])\n",
    "Node = namedtuple('Node', ['file', 'seg', 'start', 'end', 'es', 'es_cnt'])\n",
    "Eval = namedtuple('Eval', ['n1', 'n2', 'dtw', 'es_sim', 'es_cnt_sim', 'en_j_sim'])"
   ]
  },
  {
   "cell_type": "code",
   "execution_count": 46,
   "metadata": {
    "collapsed": true
   },
   "outputs": [],
   "source": [
    "align_dict = pickle.load(open(config['es']['align_dict_fname'], \"rb\"))"
   ]
  },
  {
   "cell_type": "code",
   "execution_count": 47,
   "metadata": {
    "collapsed": false
   },
   "outputs": [],
   "source": [
    "def read_segments_file(seg_fname):\n",
    "    segment_map = {}\n",
    "    with open(seg_fname, \"r\") as seg_f:\n",
    "        for i, line in enumerate(seg_f):\n",
    "            if i == 0:\n",
    "                continue\n",
    "            try:\n",
    "                line_items = line.strip().split()\n",
    "                seg_key = line_items[0]\n",
    "                file_id = line_items[1]\n",
    "                if file_id not in segment_map:\n",
    "                    segment_map[file_id] = {}\n",
    "                seg_start = float(line_items[6])\n",
    "                seg_end = float(line_items[7])\n",
    "                segment_map[file_id][seg_key] = (seg_start, seg_end)\n",
    "            except ValueError:\n",
    "                print(\"Incorrect line format at line: %d\" % i)\n",
    "    return segment_map\n",
    "        "
   ]
  },
  {
   "cell_type": "code",
   "execution_count": 48,
   "metadata": {
    "collapsed": true
   },
   "outputs": [],
   "source": [
    "segment_map = read_segments_file('../segments.txt')"
   ]
  },
  {
   "cell_type": "markdown",
   "metadata": {},
   "source": [
    "### Create folder to store utterance level, and VAD wavs"
   ]
  },
  {
   "cell_type": "code",
   "execution_count": 121,
   "metadata": {
    "collapsed": true
   },
   "outputs": [],
   "source": [
    "merged_wavs_path = \"../mergeWavs/\"\n",
    "uttr_vad_wavs_path = '../uttr_fa_vad_wavs'\n",
    "uttr_wavs_path = os.path.join(uttr_vad_wavs_path, \"uttr_wavs\")\n",
    "fa_vad_wavs_path = os.path.join(uttr_vad_wavs_path, \"fa_vad_wavs\")\n",
    "fa_vad_plp_path = os.path.join(uttr_vad_wavs_path, \"plp\")\n",
    "\n",
    "fa_vad_mfcc_path = os.path.join(uttr_vad_wavs_path, \"mfcc\")\n",
    "fa_vad_std_mfcc_path = os.path.join(uttr_vad_wavs_path, \"mfcc_std\")\n",
    "\n",
    "if not os.path.exists(uttr_vad_wavs_path):\n",
    "    os.makedirs(uttr_vad_wavs_path)\n",
    "if not os.path.exists(uttr_wavs_path):\n",
    "    os.makedirs(uttr_wavs_path)\n",
    "if not os.path.exists(fa_vad_wavs_path):\n",
    "    os.makedirs(fa_vad_wavs_path)\n",
    "if not os.path.exists(fa_vad_plp_path):\n",
    "    os.makedirs(fa_vad_plp_path)\n",
    "\n",
    "if not os.path.exists(fa_vad_mfcc_path):\n",
    "    os.makedirs(fa_vad_mfcc_path)\n",
    "\n",
    "if not os.path.exists(fa_vad_std_mfcc_path):\n",
    "    os.makedirs(fa_vad_std_mfcc_path)"
   ]
  },
  {
   "cell_type": "markdown",
   "metadata": {},
   "source": [
    "### Create uttr level wavs"
   ]
  },
  {
   "cell_type": "code",
   "execution_count": 24,
   "metadata": {
    "collapsed": false
   },
   "outputs": [],
   "source": [
    "def create_audio_wav(source_file, target_file, intervals):\n",
    "    intervals = intervals[:1] + [\"=%s\" % interval for interval in intervals[1:]]\n",
    "    subprocess.call([\"sox\", source_file, target_file, \\\n",
    "                     \"trim\", intervals[0]] + intervals[1:])\n",
    "    "
   ]
  },
  {
   "cell_type": "code",
   "execution_count": 25,
   "metadata": {
    "collapsed": false
   },
   "outputs": [],
   "source": [
    "def create_all_wavs():\n",
    "    for wav_fil in sorted(align_dict.keys()):\n",
    "        print(\"processing wav: %s\" % wav_fil)\n",
    "        wav_path = os.path.join(merged_wavs_path, \"{0:s}.wav\".format(wav_fil))\n",
    "        for j, uttr in enumerate(sorted(align_dict[wav_fil].keys())):\n",
    "            if j % 50 == 0:\n",
    "                print('processing uttr: %s' % uttr)\n",
    "            target_file = os.path.join(uttr_wavs_path, \"{0:s}.wav\".format(uttr))\n",
    "            intervals = list(map(str, segment_map[wav_fil][uttr]))\n",
    "            create_audio_wav(wav_path, target_file, intervals)\n",
    "            # create vad uttr\n",
    "            target_file = os.path.join(fa_vad_wavs_path, \"{0:s}_fa_vad.wav\".format(uttr))\n",
    "            intervals = []\n",
    "            uttr_start = segment_map[wav_fil][uttr][0]\n",
    "            for entry in align_dict[wav_fil][uttr]['es']:\n",
    "                s_t = \"{0:.2f}\".format(uttr_start + (entry.start/100))\n",
    "                e_t = \"{0:.2f}\".format(uttr_start + (entry.end/100))\n",
    "                intervals.extend([s_t, e_t])\n",
    "            create_audio_wav(wav_path, target_file, intervals)\n",
    "    "
   ]
  },
  {
   "cell_type": "code",
   "execution_count": 26,
   "metadata": {
    "collapsed": true
   },
   "outputs": [],
   "source": [
    "#----------------------------------------------------------\n",
    "# Uncomment to create uttr and vad level wavs\n",
    "#----------------------------------------------------------\n",
    "# create_all_wavs()"
   ]
  },
  {
   "cell_type": "markdown",
   "metadata": {},
   "source": [
    "### Create PLPs"
   ]
  },
  {
   "cell_type": "code",
   "execution_count": 27,
   "metadata": {
    "collapsed": true
   },
   "outputs": [],
   "source": [
    "def create_plp(wav_fname, plp_fname):\n",
    "    FEACALC = config['base'][\"feacalc\"]\n",
    "    subprocess.call([FEACALC,\"-plp\", \\\n",
    "                    \"12\", \"-cep\", \"13\", \"-dom\", \"cep\", \"-deltaorder\", \\\n",
    "                    \"2\", \"-dither\", \"-frqaxis\", \"bark\", \"-samplerate\", \\\n",
    "                    \"8000\", \"-win\", \"25\", \"-step\", \"10\", \"-ip\", \\\n",
    "                    \"MSWAVE\", \"-rasta\", \"false\", \"-compress\", \\\n",
    "                    \"true\", \"-op\", \"swappedraw\", \"-o\", plp_fname, wav_fname])"
   ]
  },
  {
   "cell_type": "code",
   "execution_count": 28,
   "metadata": {
    "collapsed": true
   },
   "outputs": [],
   "source": [
    "def create_all_plps():\n",
    "    for wav_fil in sorted(align_dict.keys()):\n",
    "        print(\"processing wav: %s\" % wav_fil)\n",
    "        for j, uttr in enumerate(sorted(align_dict[wav_fil].keys())):\n",
    "            if j % 50 == 0:\n",
    "                print('processing plp for uttr: %s' % uttr)\n",
    "            wav_fname = os.path.join(fa_vad_wavs_path, \"{0:s}_fa_vad.wav\".format(uttr))\n",
    "            plp_fname = os.path.join(fa_vad_plp_path, \"{0:s}_fa_vad.plp\".format(uttr))\n",
    "            \n",
    "            create_plp(wav_fname, plp_fname)\n",
    "\n",
    "    print(\"Completed!\")"
   ]
  },
  {
   "cell_type": "code",
   "execution_count": 29,
   "metadata": {
    "collapsed": false
   },
   "outputs": [],
   "source": [
    "#----------------------------------------------------------\n",
    "# Uncomment to create plps for vad wavs\n",
    "#----------------------------------------------------------\n",
    "# create_all_plps()"
   ]
  },
  {
   "cell_type": "markdown",
   "metadata": {},
   "source": [
    "## Create train/dev/test splits"
   ]
  },
  {
   "cell_type": "code",
   "execution_count": 50,
   "metadata": {
    "collapsed": true
   },
   "outputs": [],
   "source": [
    "def create_text_dict(align_dict):\n",
    "    text_dict = {\"train\" : {}, \"dev\": {}, \"test\": {}}\n",
    "#     for key in text_dict:\n",
    "#         text_dict[key] = {\"es\": {}, \"es_cnt\": {}, \"en\": {}, \"en_cnt\": {}}\n",
    "    with tqdm(total=len(align_dict)) as pbar:    \n",
    "        for fid in align_dict:\n",
    "            fid_val = int(fid)\n",
    "            for category, limits in config['es']['dataset_split'].items():\n",
    "                if fid_val >= limits[0] and fid_val <= limits[1]:\n",
    "                    for sid in align_dict[fid]:\n",
    "                        text_dict[category][sid] = align_dict[fid][sid]\n",
    "                    break\n",
    "            pbar.update(1)\n",
    "        # end for\n",
    "    # end with\n",
    "    print(\"file count\")\n",
    "    for key in text_dict:\n",
    "        print(\"{0:10s} | {1:d}\".format(key, len({sid.split('.')[0] for sid in text_dict[key]})))\n",
    "    \n",
    "    print(\"saving text dict as {0:s}\".format(config['es']['text_split_fname']))\n",
    "    pickle.dump(text_dict, open(config['es']['text_split_fname'], \"wb\"))\n",
    "    \n",
    "    return text_dict"
   ]
  },
  {
   "cell_type": "code",
   "execution_count": 51,
   "metadata": {
    "collapsed": false
   },
   "outputs": [
    {
     "name": "stderr",
     "output_type": "stream",
     "text": [
      "100%|██████████| 104/104 [00:00<00:00, 7049.25it/s]\n"
     ]
    },
    {
     "name": "stdout",
     "output_type": "stream",
     "text": [
      "file count\n",
      "train      | 71\n",
      "dev        | 13\n",
      "test       | 20\n",
      "saving text dict as ../text_split.dict\n"
     ]
    }
   ],
   "source": [
    "text_dict = create_text_dict(align_dict)"
   ]
  },
  {
   "cell_type": "markdown",
   "metadata": {},
   "source": [
    "## Create MT files"
   ]
  },
  {
   "cell_type": "code",
   "execution_count": 180,
   "metadata": {
    "collapsed": false
   },
   "outputs": [
    {
     "data": {
      "text/plain": [
       "'NO BECAUSE I AM NOT TAKING CLASSES NOW THAT IS WHAT I WAS WAITING FOR AT FIRST WAS TAKING CLASSES IN SUMMER BUT MY ECONOMIC ECONOMIC AID AID IN SUMMER WAS NOT VERY GOOD THEN HAD TO LEAVE THE CLASSES BECAUSE IF DIDN'"
      ]
     },
     "execution_count": 180,
     "metadata": {},
     "output_type": "execute_result"
    }
   ],
   "source": [
    "\" \".join([a.word for a in text_dict['train']['041.001']['en']])"
   ]
  },
  {
   "cell_type": "code",
   "execution_count": 191,
   "metadata": {
    "collapsed": true
   },
   "outputs": [],
   "source": [
    "def create_text_file(text_dict, cat, lang, vocab_fname):\n",
    "    with tqdm(total=len(text_dict[cat])) as pbar, open(vocab_fname, \"w\") as out_f:\n",
    "        for sid in sorted(text_dict[cat].keys()):\n",
    "            words = \" \".join([a.word for a in text_dict[cat][sid][lang]])\n",
    "            out_f.write(\"{0:s}\\n\".format(words))\n",
    "            pbar.update(1)\n",
    "        # end for\n",
    "    # end with"
   ]
  },
  {
   "cell_type": "code",
   "execution_count": 192,
   "metadata": {
    "collapsed": true
   },
   "outputs": [],
   "source": [
    "def create_vocab_file(text_dict, lang, vocab_fname):\n",
    "    cat = \"train\"\n",
    "    vocab = set()\n",
    "    with tqdm(total=len(text_dict[cat])) as pbar, open(vocab_fname, \"w\") as out_f:\n",
    "        for sid in sorted(text_dict[cat].keys()):\n",
    "            vocab |= set([a.word for a in text_dict[cat][sid][lang]])\n",
    "            pbar.update(1)\n",
    "        # end for\n",
    "        for w in vocab:\n",
    "            out_f.write(\"{0:s}\\n\".format(w))\n",
    "    # end with\n",
    "    print(\"vocab size = {0:d}\".format(len(vocab)))"
   ]
  },
  {
   "cell_type": "code",
   "execution_count": 188,
   "metadata": {
    "collapsed": true
   },
   "outputs": [],
   "source": [
    "en_vocab_fname = os.path.join(uttr_vad_wavs_path, \"vocab.en\")\n",
    "es_vocab_fname = os.path.join(uttr_vad_wavs_path, \"vocab.es\")\n",
    "\n",
    "en_train_fname = os.path.join(uttr_vad_wavs_path, \"train.en\")\n",
    "es_train_fname = os.path.join(uttr_vad_wavs_path, \"train.es\")\n",
    "\n",
    "en_dev_fname = os.path.join(uttr_vad_wavs_path, \"dev.en\")\n",
    "es_dev_fname = os.path.join(uttr_vad_wavs_path, \"dev.es\")\n",
    "\n",
    "en_test_fname = os.path.join(uttr_vad_wavs_path, \"test.en\")\n",
    "es_test_fname = os.path.join(uttr_vad_wavs_path, \"test.es\")"
   ]
  },
  {
   "cell_type": "code",
   "execution_count": 189,
   "metadata": {
    "collapsed": false
   },
   "outputs": [
    {
     "name": "stderr",
     "output_type": "stream",
     "text": [
      "100%|██████████| 13137/13137 [00:00<00:00, 82504.91it/s]\n",
      "100%|██████████| 13137/13137 [00:00<00:00, 118886.00it/s]\n",
      "100%|██████████| 2476/2476 [00:00<00:00, 94722.55it/s]\n",
      "100%|██████████| 2476/2476 [00:00<00:00, 119336.01it/s]\n",
      "100%|██████████| 1781/1781 [00:00<00:00, 93608.54it/s]\n",
      "100%|██████████| 1781/1781 [00:00<00:00, 111383.64it/s]\n"
     ]
    }
   ],
   "source": [
    "create_text_file(text_dict, 'train', \"es\", es_train_fname)\n",
    "create_text_file(text_dict, 'train', \"en\", en_train_fname)\n",
    "\n",
    "create_text_file(text_dict, 'dev', \"es\", es_dev_fname)\n",
    "create_text_file(text_dict, 'dev', \"en\", en_dev_fname)\n",
    "\n",
    "create_text_file(text_dict, 'test', \"es\", es_test_fname)\n",
    "create_text_file(text_dict, 'test', \"en\", en_test_fname)"
   ]
  },
  {
   "cell_type": "code",
   "execution_count": 194,
   "metadata": {
    "collapsed": false
   },
   "outputs": [
    {
     "name": "stderr",
     "output_type": "stream",
     "text": [
      "100%|██████████| 13137/13137 [00:00<00:00, 90013.17it/s]\n",
      "100%|██████████| 13137/13137 [00:00<00:00, 140410.09it/s]"
     ]
    },
    {
     "name": "stdout",
     "output_type": "stream",
     "text": [
      "vocab size = 8900\n",
      "vocab size = 5687\n"
     ]
    },
    {
     "name": "stderr",
     "output_type": "stream",
     "text": [
      "\n"
     ]
    }
   ],
   "source": [
    "create_vocab_file(text_dict, \"es\", es_vocab_fname)\n",
    "create_vocab_file(text_dict, \"en\", en_vocab_fname)"
   ]
  },
  {
   "cell_type": "code",
   "execution_count": 190,
   "metadata": {
    "collapsed": false
   },
   "outputs": [
    {
     "name": "stdout",
     "output_type": "stream",
     "text": [
      "NO PORQUE YA NO ESTOY TOMANDO CLASES AHORA ES ESO LO QUE ESTABA ESPERANDO ESTABA PRIMERO TOMANDO CLASES EN EL VERANO PERO MI AYUDA ECONóMICA PARA EL VERANO NO FUE MUY BUENA ENTONCES LAS TUVE QUE DEJAR LAS CLASES PORQUE SI NO NO VOY A TENER DINERO SUFICIENTE PARA PAGAR GRECIA\r\n",
      "AJá\r\n",
      "PARA VER COMO ESTáN LOS DOCUMENTOS Y DEMáS LO QUE PASA ES QUE COMO ME HE CAMBIADO DE CASA NO NO ME LLEGA NADA Y NO SE NADA\r\n",
      "MMM\r\n",
      "ENTONCES VOY A IR A VER COMO ESTá TODO EL ASUNTO YA LO úNICO QUE FALTARíA SERíA MI EXAMEN MéDICO Y QUE MANDEN LAS FOTOS DE MI PASAPORTE PARA MI PASAPORTE\r\n",
      "BUENO ENTONCES HACES ALLí UNA UNA UNA ESTE UN SEMESTRE Y EL SIGUIENTE SEMESTRE EN ESTADOS UNIDOS\r\n",
      "Sí\r\n",
      "COMúN Y CORRIENTE\r\n",
      "Sí\r\n",
      "OYE Y VENDRáS\r\n",
      "NO BECAUSE I AM NOT TAKING CLASSES NOW THAT IS WHAT I WAS WAITING FOR AT FIRST WAS TAKING CLASSES IN SUMMER BUT MY ECONOMIC ECONOMIC AID AID IN SUMMER WAS NOT VERY GOOD THEN HAD TO LEAVE THE CLASSES BECAUSE IF DIDN\r\n",
      "AHA\r\n",
      "TO SEE HOW THE DOCUMENTS ARE AND ELSE WHAT HAPPENS HAPPENS IS AS I HAVE CHANGED HOUSE DON DON\r\n",
      "HMM\r\n",
      "THEN AM GOING TO SEE HOW IS ALL THE ISSUE THE ONLY THING MISSING WOULD BE MY MEDICAL TEST AND HAVE PASSPORT PICTURES SENT FOR FOR MY MY PASSPORT\r\n",
      "WELL THEN MAKE THERE A A A WELL A SEMESTER AND THE NEXT SEMESTER IN UNITED STATES\r\n",
      "YES\r\n",
      "COMMON AND CURRENT\r\n",
      "YES\r\n",
      "LISTEN AND WILL COME\r\n"
     ]
    }
   ],
   "source": [
    "!head $es_vocab_fname; head $en_vocab_fname"
   ]
  },
  {
   "cell_type": "markdown",
   "metadata": {},
   "source": [
    "### Check transcripts and translations"
   ]
  },
  {
   "cell_type": "code",
   "execution_count": 55,
   "metadata": {
    "collapsed": false
   },
   "outputs": [],
   "source": [
    "es_words = [a.word for sid in text_dict['train'] for a in text_dict['train'][sid]['es']]\n",
    "es_cnt_words = [a.word for sid in text_dict['train'] for a in text_dict['train'][sid]['es_cnt']]\n",
    "en_words = [a.word for sid in text_dict['train'] for a in text_dict['train'][sid]['en']]\n",
    "en_cnt_words = [a.word for sid in text_dict['train'] for a in text_dict['train'][sid]['en_cnt']]"
   ]
  },
  {
   "cell_type": "code",
   "execution_count": 57,
   "metadata": {
    "collapsed": true
   },
   "outputs": [],
   "source": [
    "from collections import Counter"
   ]
  },
  {
   "cell_type": "code",
   "execution_count": 58,
   "metadata": {
    "collapsed": true
   },
   "outputs": [],
   "source": [
    "es_words_freq = Counter(es_words)\n",
    "es_cnt_words_freq = Counter(es_cnt_words)\n",
    "en_words_freq = Counter(en_words)\n",
    "en_cnt_words_freq = Counter(en_cnt_words)"
   ]
  },
  {
   "cell_type": "code",
   "execution_count": 59,
   "metadata": {
    "collapsed": false
   },
   "outputs": [
    {
     "name": "stdout",
     "output_type": "stream",
     "text": [
      "[('THE', 3781), ('AND', 3536), ('THAT', 3102), ('I', 2878), ('YES', 2578), ('TO', 2528), ('YOU', 1680), (\"'T\", 1666), ('NO', 1571), (\"'S\", 1559)]\n"
     ]
    }
   ],
   "source": [
    "print(sorted(en_words_freq.items(), reverse=True, key=lambda t:t[1])[:10])"
   ]
  },
  {
   "cell_type": "code",
   "execution_count": 60,
   "metadata": {
    "collapsed": false
   },
   "outputs": [
    {
     "name": "stdout",
     "output_type": "stream",
     "text": [
      "[('QUE', 5215), ('NO', 4508), ('Y', 3827), ('A', 3243), ('DE', 2989), ('Sí', 2850), ('LA', 2444), ('YA', 2057), ('ES', 2021), ('EL', 1998)]\n"
     ]
    }
   ],
   "source": [
    "print(sorted(es_words_freq.items(), reverse=True, key=lambda t:t[1])[:10])"
   ]
  },
  {
   "cell_type": "code",
   "execution_count": 181,
   "metadata": {
    "collapsed": false
   },
   "outputs": [
    {
     "name": "stdout",
     "output_type": "stream",
     "text": [
      "[(\"'M\", 490), (\"'S\", 1559), (\"'T\", 1666), (\"'LL\", 394), (\"'VE\", 146), (\"'D\", 23), (\"'RE\", 198), (\"'AM\", 8), (\"'\", 33), (\"'CLOCK\", 1), (\"O'CLOCK\", 1), (\"'OEUVRES\", 1), (\"'R\", 1), (\"'TS\", 1)]\n"
     ]
    }
   ],
   "source": [
    "print([(w,f) for w, f in en_words_freq.items() if \"'\" in w])"
   ]
  },
  {
   "cell_type": "code",
   "execution_count": 62,
   "metadata": {
    "collapsed": false
   },
   "outputs": [
    {
     "name": "stdout",
     "output_type": "stream",
     "text": [
      "[('<NOISE>', 387), ('<BACKGROUND>', 83), ('<LAUGH>', 758), ('<COUGH>', 9), ('<SNEEZE>', 4), ('<BREATH>', 15)]\n"
     ]
    }
   ],
   "source": [
    "print([(w,f) for w, f in es_words_freq.items() if \"<\" in w])"
   ]
  },
  {
   "cell_type": "markdown",
   "metadata": {},
   "source": [
    "## Create MFCCs"
   ]
  },
  {
   "cell_type": "code",
   "execution_count": 149,
   "metadata": {
    "collapsed": true
   },
   "outputs": [],
   "source": [
    "def create_mfcc(wav_fname, mfcc_fname, mfcc_std_fname):\n",
    "    rate, sig = wav.read(wav_fname)\n",
    "    mfcc_feat = mfcc(sig,rate)\n",
    "    d_mfcc_feat = delta(mfcc_feat, 2)\n",
    "    dd_mfcc_feat = delta(d_mfcc_feat, 2)\n",
    "    mfcc_feat = np.concatenate((mfcc_feat, d_mfcc_feat), axis=1)\n",
    "    mfcc_feat = np.concatenate((mfcc_feat, dd_mfcc_feat), axis=1)\n",
    "    mfcc_feat_std = (mfcc_feat - np.mean(mfcc_feat, axis=0)) / np.std(mfcc_feat, axis=0)\n",
    "    # save mfcc files\n",
    "    np.save(open(mfcc_fname, \"wb\"), mfcc_feat)\n",
    "    np.save(open(mfcc_std_fname, \"wb\"), mfcc_feat_std)"
   ]
  },
  {
   "cell_type": "code",
   "execution_count": 150,
   "metadata": {
    "collapsed": true
   },
   "outputs": [],
   "source": [
    "def create_all_mfccs():\n",
    "    with tqdm(total=len(align_dict)) as pbar:\n",
    "        for wav_fil in sorted(align_dict.keys()):\n",
    "            for j, uttr in enumerate(sorted(align_dict[wav_fil].keys())):\n",
    "                wav_fname = os.path.join(fa_vad_wavs_path, \"{0:s}_fa_vad.wav\".format(uttr))\n",
    "                mfcc_fname = os.path.join(fa_vad_mfcc_path, \"{0:s}_fa_vad.mfcc\".format(uttr))\n",
    "                mfcc_std_fname = os.path.join(fa_vad_std_mfcc_path, \"{0:s}_fa_vad.std.mfcc\".format(uttr))\n",
    "                create_mfcc(wav_fname, mfcc_fname, mfcc_std_fname)\n",
    "            # end for uttr\n",
    "            pbar.update(1)\n",
    "        # end for file\n",
    "    # end pbar\n",
    "\n",
    "    print(\"Completed!\")"
   ]
  },
  {
   "cell_type": "code",
   "execution_count": 151,
   "metadata": {
    "collapsed": false
   },
   "outputs": [
    {
     "name": "stderr",
     "output_type": "stream",
     "text": [
      " 29%|██▉       | 30/104 [01:18<02:04,  1.68s/it]/afs/inf.ed.ac.uk/user/s14/s1444673/anaconda3/envs/mtenv/lib/python3.6/site-packages/ipykernel/__main__.py:8: RuntimeWarning: invalid value encountered in true_divide\n",
      "100%|██████████| 104/104 [05:30<00:00,  3.72s/it]"
     ]
    },
    {
     "name": "stdout",
     "output_type": "stream",
     "text": [
      "Completed!\n"
     ]
    },
    {
     "name": "stderr",
     "output_type": "stream",
     "text": [
      "\n"
     ]
    }
   ],
   "source": [
    "create_all_mfccs()"
   ]
  },
  {
   "cell_type": "code",
   "execution_count": 152,
   "metadata": {
    "collapsed": false
   },
   "outputs": [
    {
     "name": "stdout",
     "output_type": "stream",
     "text": [
      "  17394   17394  347880\r\n"
     ]
    }
   ],
   "source": [
    "!ls ../uttr_fa_vad_wavs/mfcc/ | wc"
   ]
  },
  {
   "cell_type": "code",
   "execution_count": 153,
   "metadata": {
    "collapsed": true
   },
   "outputs": [],
   "source": [
    "haha = np.load(\"../uttr_fa_vad_wavs/mfcc/001.002_fa_vad.mfcc\")"
   ]
  },
  {
   "cell_type": "code",
   "execution_count": 154,
   "metadata": {
    "collapsed": false
   },
   "outputs": [
    {
     "data": {
      "text/plain": [
       "(139, 39)"
      ]
     },
     "execution_count": 154,
     "metadata": {},
     "output_type": "execute_result"
    }
   ],
   "source": [
    "haha.shape"
   ]
  },
  {
   "cell_type": "markdown",
   "metadata": {},
   "source": [
    "### etc code"
   ]
  },
  {
   "cell_type": "code",
   "execution_count": 81,
   "metadata": {
    "collapsed": true
   },
   "outputs": [],
   "source": [
    "from python_speech_features import delta"
   ]
  },
  {
   "cell_type": "code",
   "execution_count": 107,
   "metadata": {
    "collapsed": false
   },
   "outputs": [],
   "source": [
    "wavfile = os.path.join(uttr_wavs_path, \"001.002.wav\")\n",
    "(rate,sig) = wav.read(wavfile)\n",
    "mfcc_feat = mfcc(sig,rate)\n",
    "d_mfcc_feat = np.concatenate(mfcc_feat, delta(mfcc_feat, 2), axis=1)\n",
    "mfcc_feat = np.concatenate(mfcc_feat, delta(d_mfcc_feat, 2), axis=1)\n",
    "dd_mfcc_feat = delta(d_mfcc_feat, 2)"
   ]
  },
  {
   "cell_type": "code",
   "execution_count": 148,
   "metadata": {
    "collapsed": false
   },
   "outputs": [
    {
     "data": {
      "text/plain": [
       "(225, 39)"
      ]
     },
     "execution_count": 148,
     "metadata": {},
     "output_type": "execute_result"
    }
   ],
   "source": [
    "(rate,sig) = wav.read(wavfile)\n",
    "mfcc_feat = mfcc(sig,rate)\n",
    "d_mfcc_feat = delta(mfcc_feat, 2)\n",
    "dd_mfcc_feat = delta(d_mfcc_feat, 2)\n",
    "mfcc_feat = np.concatenate((mfcc_feat, d_mfcc_feat), axis=1)\n",
    "mfcc_feat = np.concatenate((mfcc_feat, dd_mfcc_feat), axis=1)\n",
    "mfcc_feat_std = (mfcc_feat - np.mean(mfcc_feat, axis=0)) / np.std(mfcc_feat, axis=0)\n",
    "mfcc_feat.shape"
   ]
  },
  {
   "cell_type": "code",
   "execution_count": 145,
   "metadata": {
    "collapsed": false
   },
   "outputs": [
    {
     "data": {
      "text/plain": [
       "(225, 52)"
      ]
     },
     "execution_count": 145,
     "metadata": {},
     "output_type": "execute_result"
    }
   ],
   "source": [
    "mfcc_feat.shape"
   ]
  },
  {
   "cell_type": "code",
   "execution_count": 123,
   "metadata": {
    "collapsed": true
   },
   "outputs": [],
   "source": [
    "create_mfcc(wavfile, fa_vad_mfcc_path)"
   ]
  },
  {
   "cell_type": "code",
   "execution_count": 126,
   "metadata": {
    "collapsed": false
   },
   "outputs": [],
   "source": [
    "!ls ../uttr_fa_vad_wavs/mfcc/"
   ]
  },
  {
   "cell_type": "code",
   "execution_count": 117,
   "metadata": {
    "collapsed": false
   },
   "outputs": [
    {
     "data": {
      "text/plain": [
       "'001.002.wav'"
      ]
     },
     "execution_count": 117,
     "metadata": {},
     "output_type": "execute_result"
    }
   ],
   "source": [
    "os.path.basename(wavfile)"
   ]
  },
  {
   "cell_type": "code",
   "execution_count": 108,
   "metadata": {
    "collapsed": false
   },
   "outputs": [
    {
     "data": {
      "text/plain": [
       "((225, 39), (225, 13), (225, 13))"
      ]
     },
     "execution_count": 108,
     "metadata": {},
     "output_type": "execute_result"
    }
   ],
   "source": [
    "mfcc_feat.shape, d_mfcc_feat.shape, dd_mfcc_feat.shape"
   ]
  },
  {
   "cell_type": "code",
   "execution_count": 109,
   "metadata": {
    "collapsed": false
   },
   "outputs": [
    {
     "data": {
      "text/plain": [
       "(array([  8.54303756, -25.03482944,  -3.42300258,  -7.95375789,\n",
       "         -3.84443312,  -6.1952858 , -11.45219107,   1.87897649,\n",
       "         -7.05916616, -16.38897308,   1.40664859,   0.43634576,  -0.24589086]),\n",
       " array([  8.54303756, -25.03482944,  -3.42300258,  -7.95375789,\n",
       "         -3.84443312,  -6.1952858 , -11.45219107,   1.87897649,\n",
       "         -7.05916616, -16.38897308,   1.40664859,   0.43634576,  -0.24589086]))"
      ]
     },
     "execution_count": 109,
     "metadata": {},
     "output_type": "execute_result"
    }
   ],
   "source": [
    "mfcc_feat_base[0,:], mfcc_feat[0, :13]"
   ]
  },
  {
   "cell_type": "code",
   "execution_count": 110,
   "metadata": {
    "collapsed": false
   },
   "outputs": [
    {
     "data": {
      "text/plain": [
       "(array([  1.12967002e-03,  -6.35149630e-01,   1.46086731e+00,\n",
       "          2.33510882e+00,   4.74836837e-01,  -1.09234739e+00,\n",
       "         -1.47314262e+00,   7.71047838e-01,   1.65089182e+00,\n",
       "          3.18544759e+00,  -1.53773528e+00,  -3.45056747e-01,\n",
       "         -1.56087548e+00]),\n",
       " array([  1.12967002e-03,  -6.35149630e-01,   1.46086731e+00,\n",
       "          2.33510882e+00,   4.74836837e-01,  -1.09234739e+00,\n",
       "         -1.47314262e+00,   7.71047838e-01,   1.65089182e+00,\n",
       "          3.18544759e+00,  -1.53773528e+00,  -3.45056747e-01,\n",
       "         -1.56087548e+00]))"
      ]
     },
     "execution_count": 110,
     "metadata": {},
     "output_type": "execute_result"
    }
   ],
   "source": [
    "d_mfcc_feat[0,:], mfcc_feat[0, 13:26]"
   ]
  },
  {
   "cell_type": "code",
   "execution_count": 111,
   "metadata": {
    "collapsed": false
   },
   "outputs": [
    {
     "data": {
      "text/plain": [
       "((39,), (39,))"
      ]
     },
     "execution_count": 111,
     "metadata": {},
     "output_type": "execute_result"
    }
   ],
   "source": [
    "np.mean(mfcc_feat, axis=0).shape, np.std(mfcc_feat, axis=0).shape"
   ]
  },
  {
   "cell_type": "code",
   "execution_count": 112,
   "metadata": {
    "collapsed": true
   },
   "outputs": [],
   "source": [
    "mfcc_feat_std = (mfcc_feat - np.mean(mfcc_feat, axis=0)) / np.std(mfcc_feat, axis=0)"
   ]
  },
  {
   "cell_type": "code",
   "execution_count": 113,
   "metadata": {
    "collapsed": false
   },
   "outputs": [
    {
     "data": {
      "text/plain": [
       "array([-0.00437915, -0.30292499,  0.55785951,  1.32699758,  0.20380063,\n",
       "       -0.34257392, -0.48811877,  0.28812347,  0.51641007,  1.11521123,\n",
       "       -0.50372484, -0.11665855, -0.53459715])"
      ]
     },
     "execution_count": 113,
     "metadata": {},
     "output_type": "execute_result"
    }
   ],
   "source": [
    "mfcc_feat_std[0, 13:26]"
   ]
  },
  {
   "cell_type": "code",
   "execution_count": 18,
   "metadata": {
    "collapsed": false
   },
   "outputs": [
    {
     "data": {
      "text/html": [
       "\n",
       "                <audio controls=\"controls\" >\n",
       "                    <source src=\"data:audio/x-wav;base64,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\" type=\"audio/x-wav\" />\n",
       "                    Your browser does not support the audio element.\n",
       "                </audio>\n",
       "              "
      ],
      "text/plain": [
       "<IPython.lib.display.Audio object>"
      ]
     },
     "execution_count": 18,
     "metadata": {},
     "output_type": "execute_result"
    }
   ],
   "source": [
    "Audio(os.path.join(uttr_wavs_path, \"001.002.wav\"))"
   ]
  },
  {
   "cell_type": "code",
   "execution_count": 19,
   "metadata": {
    "collapsed": false
   },
   "outputs": [
    {
     "data": {
      "text/html": [
       "\n",
       "                <audio controls=\"controls\" >\n",
       "                    <source src=\"data:audio/x-wav;base64,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\" type=\"audio/x-wav\" />\n",
       "                    Your browser does not support the audio element.\n",
       "                </audio>\n",
       "              "
      ],
      "text/plain": [
       "<IPython.lib.display.Audio object>"
      ]
     },
     "execution_count": 19,
     "metadata": {},
     "output_type": "execute_result"
    }
   ],
   "source": [
    "Audio(os.path.join(fa_vad_wavs_path, \"001.002_fa_vad.wav\"))"
   ]
  },
  {
   "cell_type": "code",
   "execution_count": 15,
   "metadata": {
    "collapsed": false
   },
   "outputs": [
    {
     "name": "stdout",
     "output_type": "stream",
     "text": [
      "AY QUé LINDA\n"
     ]
    }
   ],
   "source": [
    "print(\" \".join([w.word for w in align_dict[\"110\"][\"110.005\"][\"es\"]]))"
   ]
  },
  {
   "cell_type": "code",
   "execution_count": 73,
   "metadata": {
    "collapsed": false
   },
   "outputs": [
    {
     "name": "stdout",
     "output_type": "stream",
     "text": [
      "\n",
      "Input File     : '../uttr_fa_vad_wavs/fa_vad_wavs/110.005_fa_vad.wav'\n",
      "Channels       : 1\n",
      "Sample Rate    : 8000\n",
      "Precision      : 16-bit\n",
      "Duration       : 00:00:01.36 = 10880 samples ~ 102 CDDA sectors\n",
      "File Size      : 21.8k\n",
      "Bit Rate       : 128k\n",
      "Sample Encoding: 16-bit Signed Integer PCM\n",
      "\n",
      "\n",
      "Input File     : '../uttr_fa_vad_wavs/uttr_wavs/110.005.wav'\n",
      "Channels       : 1\n",
      "Sample Rate    : 8000\n",
      "Precision      : 16-bit\n",
      "Duration       : 00:00:02.05 = 16400 samples ~ 153.75 CDDA sectors\n",
      "File Size      : 32.8k\n",
      "Bit Rate       : 128k\n",
      "Sample Encoding: 16-bit Signed Integer PCM\n",
      "\n"
     ]
    }
   ],
   "source": [
    "!soxi ../uttr_fa_vad_wavs/fa_vad_wavs/110.005_fa_vad.wav\n",
    "!soxi ../uttr_fa_vad_wavs/uttr_wavs/110.005.wav"
   ]
  },
  {
   "cell_type": "code",
   "execution_count": null,
   "metadata": {
    "collapsed": true
   },
   "outputs": [],
   "source": []
  }
 ],
 "metadata": {
  "kernelspec": {
   "display_name": "Python 3",
   "language": "python",
   "name": "python3"
  },
  "language_info": {
   "codemirror_mode": {
    "name": "ipython",
    "version": 3
   },
   "file_extension": ".py",
   "mimetype": "text/x-python",
   "name": "python",
   "nbconvert_exporter": "python",
   "pygments_lexer": "ipython3",
   "version": "3.6.0"
  }
 },
 "nbformat": 4,
 "nbformat_minor": 0
}
