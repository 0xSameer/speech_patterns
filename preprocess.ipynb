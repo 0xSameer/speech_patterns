{
 "cells": [
  {
   "cell_type": "code",
   "execution_count": 1,
   "metadata": {
    "collapsed": true
   },
   "outputs": [],
   "source": [
    "from __future__ import print_function\n",
    "from __future__ import division\n",
    "import os\n",
    "import cPickle as pickle\n",
    "import json\n",
    "import subprocess\n",
    "from IPython.display import display\n",
    "from IPython.display import Audio"
   ]
  },
  {
   "cell_type": "markdown",
   "metadata": {},
   "source": [
    "# Preprocessing CALLHOME for ZRTools\n",
    "\n",
    "\n",
    "- Created: 26-Oct-2016\n"
   ]
  },
  {
   "cell_type": "markdown",
   "metadata": {},
   "source": [
    "## Create mapping for start time for each segment\n",
    "\n",
    "Format: Dictionary  \n",
    "key: {key: value}  \n",
    "*file: {file.seg.wav: start time}*  \n",
    "Name: segment_start.dict, segment_start.txt  "
   ]
  },
  {
   "cell_type": "code",
   "execution_count": 2,
   "metadata": {
    "collapsed": false
   },
   "outputs": [],
   "source": [
    "def read_segments_file(seg_fname):\n",
    "    segment_map = {}\n",
    "    with open(seg_fname, \"r\") as seg_f:\n",
    "        for i, line in enumerate(seg_f):\n",
    "            if i == 0:\n",
    "                continue\n",
    "            try:\n",
    "                line_items = line.strip().split()\n",
    "                seg_key = line_items[0]\n",
    "                file_id = line_items[1]\n",
    "                if file_id not in segment_map:\n",
    "                    segment_map[file_id] = {}\n",
    "                seg_start = int(float(line_items[6])*100)\n",
    "                segment_map[file_id][seg_key] = seg_start\n",
    "            except ValueError:\n",
    "                print(\"Incorrect line format at line: %d\" % i)\n",
    "    return segment_map\n",
    "        "
   ]
  },
  {
   "cell_type": "markdown",
   "metadata": {},
   "source": [
    "### Read segment map"
   ]
  },
  {
   "cell_type": "code",
   "execution_count": 3,
   "metadata": {
    "collapsed": false
   },
   "outputs": [],
   "source": [
    "segment_map = read_segments_file('../segments.txt')\n",
    "pickle.dump(segment_map, open(\"../segments.dict\", \"wb\"))"
   ]
  },
  {
   "cell_type": "markdown",
   "metadata": {},
   "source": [
    "## Create VAD files for merged wavs"
   ]
  },
  {
   "cell_type": "code",
   "execution_count": 14,
   "metadata": {
    "collapsed": false
   },
   "outputs": [],
   "source": [
    "def create_merged_vad(vad_file_id, segment_map, seg_vad_path, merged_vad_path):\n",
    "    total_dur_10ms = 0\n",
    "    total_dur_10ms_ge500ms = 0\n",
    "    with open(os.path.join(merged_vad_path, vad_file_id+\".vad\"), \"w\") as vad_f:\n",
    "        print(\"creating vad %s ...\" % vad_file_id)\n",
    "        for i, (seg_id, seg_start) in enumerate(sorted(segment_map[vad_file_id].items(), key=lambda t:t[0])):\n",
    "            with open(os.path.join(seg_vad_path, seg_id+\".vad\"), \"r\") as seg_vad_f:\n",
    "                for line in seg_vad_f:\n",
    "                    line_items = map(int, line.strip().split())\n",
    "                    start = seg_start+line_items[0]\n",
    "                    end = seg_start+line_items[1]\n",
    "                    total_dur_10ms += (end-start)\n",
    "                    total_dur_10ms_ge500ms += ((end - start) if (end-start) >= 50 else 0)\n",
    "                    out_line = (\"%d %d\\n\" %(start, end))\n",
    "                    vad_f.write(out_line)\n",
    "                # end for\n",
    "            # end reading seg file\n",
    "        # end looping over all segments\n",
    "    # end writing vad file\n",
    "    return total_dur_10ms, total_dur_10ms_ge500ms"
   ]
  },
  {
   "cell_type": "markdown",
   "metadata": {},
   "source": [
    "### Create new directory for merged vads"
   ]
  },
  {
   "cell_type": "code",
   "execution_count": 15,
   "metadata": {
    "collapsed": true
   },
   "outputs": [],
   "source": [
    "merged_vads_path = \"../mergedVads\"\n",
    "seg_vad_path = \"../vad\"\n",
    "if not os.path.exists(merged_vads_path):\n",
    "    os.makedirs(merged_vads_path)"
   ]
  },
  {
   "cell_type": "markdown",
   "metadata": {},
   "source": [
    "### Create merged vad for each file"
   ]
  },
  {
   "cell_type": "code",
   "execution_count": 16,
   "metadata": {
    "collapsed": true
   },
   "outputs": [
    {
     "name": "stdout",
     "output_type": "stream",
     "text": [
      "creating vad 090 ...\n",
      "creating vad 091 ...\n",
      "creating vad 092 ...\n",
      "creating vad 093 ...\n",
      "creating vad 094 ...\n",
      "creating vad 095 ...\n",
      "creating vad 096 ...\n",
      "creating vad 097 ...\n",
      "creating vad 010 ...\n",
      "creating vad 011 ...\n",
      "creating vad 012 ...\n",
      "creating vad 013 ...\n",
      "creating vad 014 ...\n",
      "creating vad 015 ...\n",
      "creating vad 018 ...\n",
      "creating vad 025 ...\n",
      "creating vad 024 ...\n",
      "creating vad 027 ...\n",
      "creating vad 026 ...\n",
      "creating vad 021 ...\n",
      "creating vad 023 ...\n",
      "creating vad 022 ...\n",
      "creating vad 029 ...\n",
      "creating vad 028 ...\n",
      "creating vad 115 ...\n",
      "creating vad 114 ...\n",
      "creating vad 038 ...\n",
      "creating vad 039 ...\n",
      "creating vad 111 ...\n",
      "creating vad 110 ...\n",
      "creating vad 113 ...\n",
      "creating vad 112 ...\n",
      "creating vad 032 ...\n",
      "creating vad 033 ...\n",
      "creating vad 030 ...\n",
      "creating vad 031 ...\n",
      "creating vad 036 ...\n",
      "creating vad 037 ...\n",
      "creating vad 034 ...\n",
      "creating vad 035 ...\n",
      "creating vad 051 ...\n",
      "creating vad 108 ...\n",
      "creating vad 049 ...\n",
      "creating vad 048 ...\n",
      "creating vad 047 ...\n",
      "creating vad 046 ...\n",
      "creating vad 045 ...\n",
      "creating vad 044 ...\n",
      "creating vad 043 ...\n",
      "creating vad 042 ...\n",
      "creating vad 041 ...\n",
      "creating vad 040 ...\n",
      "creating vad 058 ...\n",
      "creating vad 059 ...\n",
      "creating vad 103 ...\n",
      "creating vad 054 ...\n",
      "creating vad 056 ...\n",
      "creating vad 057 ...\n",
      "creating vad 050 ...\n",
      "creating vad 100 ...\n",
      "creating vad 052 ...\n",
      "creating vad 053 ...\n",
      "creating vad 101 ...\n",
      "creating vad 106 ...\n",
      "creating vad 107 ...\n",
      "creating vad 104 ...\n",
      "creating vad 105 ...\n",
      "creating vad 061 ...\n",
      "creating vad 060 ...\n",
      "creating vad 063 ...\n",
      "creating vad 062 ...\n",
      "creating vad 065 ...\n",
      "creating vad 064 ...\n",
      "creating vad 067 ...\n",
      "creating vad 066 ...\n",
      "creating vad 117 ...\n",
      "creating vad 116 ...\n",
      "creating vad 076 ...\n",
      "creating vad 077 ...\n",
      "creating vad 075 ...\n",
      "creating vad 072 ...\n",
      "creating vad 073 ...\n",
      "creating vad 070 ...\n",
      "creating vad 071 ...\n",
      "creating vad 078 ...\n",
      "creating vad 079 ...\n",
      "creating vad 119 ...\n",
      "creating vad 118 ...\n",
      "creating vad 089 ...\n",
      "creating vad 088 ...\n",
      "creating vad 083 ...\n",
      "creating vad 082 ...\n",
      "creating vad 081 ...\n",
      "creating vad 087 ...\n",
      "creating vad 086 ...\n",
      "creating vad 085 ...\n",
      "creating vad 084 ...\n",
      "creating vad 002 ...\n",
      "creating vad 001 ...\n",
      "creating vad 007 ...\n",
      "creating vad 006 ...\n",
      "creating vad 005 ...\n",
      "creating vad 009 ...\n",
      "creating vad 120 ...\n"
     ]
    }
   ],
   "source": [
    "total_dur_10ms, total_dur_10ms_ge500ms = 0, 0\n",
    "for vad_file_id in segment_map:\n",
    "    t1, t2 = create_merged_vad(vad_file_id, segment_map, seg_vad_path, merged_vads_path)\n",
    "    total_dur_10ms += t1\n",
    "    total_dur_10ms_ge500ms += t2"
   ]
  },
  {
   "cell_type": "code",
   "execution_count": 19,
   "metadata": {
    "collapsed": false
   },
   "outputs": [
    {
     "name": "stdout",
     "output_type": "stream",
     "text": [
      "4724341 3091219\n",
      "['13.123', '8.587']\n"
     ]
    }
   ],
   "source": [
    "print(total_dur_10ms, total_dur_10ms_ge500ms)\n",
    "print(map(lambda t: \"{0:.3f}\".format((t / 100.0 / 3600)), [total_dur_10ms, total_dur_10ms_ge500ms]))"
   ]
  },
  {
   "cell_type": "markdown",
   "metadata": {},
   "source": [
    "## Create PLP features"
   ]
  },
  {
   "cell_type": "code",
   "execution_count": 35,
   "metadata": {
    "collapsed": true
   },
   "outputs": [],
   "source": [
    "merged_wavs_path = \"../mergeWavs\"\n",
    "plp_path = \"../plp\"\n",
    "plp_norm_path = \"../std_plp\"\n",
    "if not os.path.exists(plp_path):\n",
    "    os.makedirs(plp_path)\n",
    "if not os.path.exists(plp_norm_path):\n",
    "    os.makedirs(plp_norm_path)"
   ]
  },
  {
   "cell_type": "code",
   "execution_count": 8,
   "metadata": {
    "collapsed": false
   },
   "outputs": [],
   "source": [
    "with open(\"config.json\") as json_data_file:\n",
    "    config = json.load(json_data_file)"
   ]
  },
  {
   "cell_type": "code",
   "execution_count": 21,
   "metadata": {
    "collapsed": false
   },
   "outputs": [],
   "source": [
    "def create_plp(wav_fname, plp_fname):\n",
    "    FEACALC = config['base'][\"feacalc\"]\n",
    "    subprocess.call([FEACALC,\"-plp\", \\\n",
    "                    \"12\", \"-cep\", \"13\", \"-dom\", \"cep\", \"-deltaorder\", \\\n",
    "                    \"2\", \"-dither\", \"-frqaxis\", \"bark\", \"-samplerate\", \\\n",
    "                    \"8000\", \"-win\", \"25\", \"-step\", \"10\", \"-ip\", \\\n",
    "                    \"MSWAVE\", \"-rasta\", \"false\", \"-compress\", \\\n",
    "                    \"true\", \"-op\", \"swappedraw\", \"-o\", plp_fname, wav_fname])\n",
    "\n",
    "    \n",
    "def normalize_plp(plp_fname, vad_fname, plp_norm_fname):\n",
    "    STANDFEAT = config['base'][\"standfeat\"]\n",
    "    # Standardize binary file, for VAD regions only\n",
    "    subprocess.call([STANDFEAT, \"-D\", \"39\", \"-infile\", \\\n",
    "                    plp_fname, \"-outfile\", plp_norm_fname, \\\n",
    "                    \"-vadfile\", vad_fname])"
   ]
  },
  {
   "cell_type": "code",
   "execution_count": 44,
   "metadata": {
    "collapsed": false
   },
   "outputs": [
    {
     "name": "stdout",
     "output_type": "stream",
     "text": [
      "plp for file 090 \n",
      "normalizing plp 090\n",
      "plp for file 023 \n",
      "normalizing plp 023\n",
      "plp for file 051 \n",
      "normalizing plp 051\n",
      "plp for file 052 \n",
      "normalizing plp 052\n",
      "plp for file 072 \n",
      "normalizing plp 072\n",
      "plp for file 006 \n",
      "normalizing plp 006\n",
      "Completed!\n"
     ]
    }
   ],
   "source": [
    "for i, file_id in enumerate(segment_map):\n",
    "    wav_fname = os.path.join(merged_wavs_path, file_id+\".wav\")\n",
    "    vad_fname = os.path.join(merged_vads_path, file_id+\".vad\")\n",
    "    plp_fname = os.path.join(plp_path, file_id+\".binary\")\n",
    "    plp_norm_fname = os.path.join(plp_norm_path, file_id+\".std.binary\")\n",
    "    \n",
    "    #print(file_id, wav_fname, vad_fname, plp_fname, plp_norm_fname)\n",
    "    \n",
    "    # create PLP\n",
    "    if i % 20 == 0:\n",
    "        print(\"plp for file %s \" % file_id)\n",
    "    \n",
    "    if not os.path.exists(plp_fname):\n",
    "        create_plp(wav_fname, plp_fname)\n",
    "    \n",
    "    if i % 20 == 0:\n",
    "        print(\"normalizing plp %s\" % file_id)\n",
    "    \n",
    "    if not os.path.exists(plp_norm_fname):\n",
    "        normalize_plp(plp_fname, vad_fname, plp_norm_fname)\n",
    "print(\"Completed!\")"
   ]
  },
  {
   "cell_type": "markdown",
   "metadata": {},
   "source": [
    "## Create LSH files"
   ]
  },
  {
   "cell_type": "code",
   "execution_count": 45,
   "metadata": {
    "collapsed": true
   },
   "outputs": [],
   "source": [
    "merged_wavs_path = \"../mergeWavs\"\n",
    "plp_path = \"../plp\"\n",
    "plp_norm_path = \"../std_plp\"\n",
    "lsh_path = \"../lsh\"\n",
    "if not os.path.exists(lsh_path):\n",
    "    os.makedirs(lsh_path)\n",
    "lsh_proj_fname = os.path.join(lsh_path, \"proj_S64xD39_seed1\")"
   ]
  },
  {
   "cell_type": "code",
   "execution_count": 56,
   "metadata": {
    "collapsed": true
   },
   "outputs": [],
   "source": [
    "def create_lsh_proj_file(lsh_proj_fname):\n",
    "    subprocess.call([config['base'][\"lsh_genproj\"], \\\n",
    "                     \"-D\",\"39\",\"-S\",\"64\",\"-seed\", \\\n",
    "                     \"1\",\"-projfile\", lsh_proj_fname])\n",
    "\n",
    "def create_lsh_file(plp_norm_fname, vad_fname, lsh_proj_fname, lsh_fname):\n",
    "    LSH = config['base'][\"lsh\"]\n",
    "    subprocess.call([LSH, \"-D\", \"39\", \"-S\", \"64\", \\\n",
    "                    \"-projfile\", lsh_proj_fname, \\\n",
    "                    \"-featfile\", plp_norm_fname, \"-sigfile\", \\\n",
    "                    lsh_fname, \"-vadfile\", vad_fname])"
   ]
  },
  {
   "cell_type": "code",
   "execution_count": 57,
   "metadata": {
    "collapsed": false
   },
   "outputs": [
    {
     "data": {
      "text/plain": [
       "True"
      ]
     },
     "execution_count": 57,
     "metadata": {},
     "output_type": "execute_result"
    }
   ],
   "source": [
    "create_lsh_proj_file(lsh_proj_fname)\n",
    "os.path.exists(lsh_proj_fname)"
   ]
  },
  {
   "cell_type": "code",
   "execution_count": 58,
   "metadata": {
    "collapsed": false
   },
   "outputs": [
    {
     "name": "stdout",
     "output_type": "stream",
     "text": [
      "lsh for file 090 \n",
      "lsh for file 023 \n",
      "lsh for file 051 \n",
      "lsh for file 052 \n",
      "lsh for file 072 \n",
      "lsh for file 006 \n",
      "Completed!\n"
     ]
    }
   ],
   "source": [
    "for i, file_id in enumerate(segment_map):\n",
    "    wav_fname = os.path.join(merged_wavs_path, file_id+\".wav\")\n",
    "    vad_fname = os.path.join(merged_vads_path, file_id+\".vad\")\n",
    "    plp_norm_fname = os.path.join(plp_norm_path, file_id+\".std.binary\")\n",
    "    lsh_fname = os.path.join(lsh_path, file_id+\".std.lsh64\")\n",
    "    \n",
    "    #print(file_id, wav_fname, vad_fname, plp_fname, plp_norm_fname)\n",
    "    \n",
    "    # create LSH\n",
    "    if i % 20 == 0:\n",
    "        print(\"lsh for file %s \" % file_id)\n",
    "    \n",
    "    if not os.path.exists(lsh_fname):\n",
    "        create_lsh_file(plp_norm_fname, vad_fname, lsh_proj_fname, lsh_fname)\n",
    "        \n",
    "print(\"Completed!\")"
   ]
  },
  {
   "cell_type": "markdown",
   "metadata": {},
   "source": [
    "## Create ZRTools discovery command files"
   ]
  },
  {
   "cell_type": "code",
   "execution_count": 72,
   "metadata": {
    "collapsed": false
   },
   "outputs": [],
   "source": [
    "exp_path = '../exp'\n",
    "if not os.path.exists(exp_path):\n",
    "    os.makedirs(exp_path)\n",
    "\n",
    "# List of wav files\n",
    "wav_file_list = sorted(segment_map.keys())\n",
    "exp_name = 'callhome'"
   ]
  },
  {
   "cell_type": "code",
   "execution_count": 78,
   "metadata": {
    "collapsed": false
   },
   "outputs": [
    {
     "name": "stdout",
     "output_type": "stream",
     "text": [
      "Generated files.base\n"
     ]
    }
   ],
   "source": [
    "with open(os.path.join(exp_path, 'files.base'), \"w\") as out_f:\n",
    "    for wav_file in wav_file_list:\n",
    "        out_f.write(wav_file+'\\n')\n",
    "print(\"Generated files.base\")"
   ]
  },
  {
   "cell_type": "code",
   "execution_count": 76,
   "metadata": {
    "collapsed": false
   },
   "outputs": [],
   "source": [
    "def create_discovery_cmd_scripts(exp_path, wav_file_list, exp_name, num_splits=1):\n",
    "    disc_file_split_base = \"disc_{0:d}.cmd\"\n",
    "    disc_file_split = os.path.join(exp_path, disc_file_split_base)\n",
    "    disc_split_file = os.path.join(exp_path, \"disc_split.txt\")\n",
    "    num_files = len(wav_file_list)\n",
    "    exp_local_path = os.path.join(\"exp\", exp_name)\n",
    "    cmd_string = \"scripts/plebdisc_filepair \\\"{0:s}\\\" \\\"{1:s}\\\" {2:s} 39\\n\"\n",
    "\n",
    "    total_lines = num_files * num_files\n",
    "    lines_per_file = total_lines // num_splits\n",
    "    smallfile = None\n",
    "    curr_line = 0\n",
    "    curr_file_num = 0\n",
    "\n",
    "    for i in xrange(num_files) :\n",
    "        if i % 20 == 0:\n",
    "            print(\"Progress: {0:d} out of: {1:d}\".format(curr_line+1, total_lines))\n",
    "        for j in xrange(num_files):\n",
    "            out_line = cmd_string.format(wav_file_list[i], \\\n",
    "                                              wav_file_list[j], \\\n",
    "                                              exp_local_path)\n",
    "            if curr_line % lines_per_file == 0:\n",
    "                if smallfile:\n",
    "                    smallfile.close()\n",
    "                small_filename = disc_file_split.format(curr_file_num)\n",
    "                smallfile = open(small_filename, \"w\")\n",
    "                curr_file_num += 1\n",
    "            smallfile.write(out_line)\n",
    "            curr_line += 1\n",
    "    if smallfile:\n",
    "        smallfile.close()\n",
    "\n",
    "    # Making a list of commands to execute the split disc list\n",
    "    full_split_cmd_string = \"nice sh {0:s} 1> {1:s} 2>{2:s} &\\n\"\n",
    "    split_cmd = os.path.join(exp_local_path, \"matches\",\"{0:s}.{1:d}\")\n",
    "    with open(disc_split_file, \"w\") as out_f:\n",
    "        for i in xrange(curr_file_num):\n",
    "            curr_split_file = os.path.join(exp_local_path, disc_file_split_base.format(i))\n",
    "            split_cmd_out = split_cmd.format(\"out\", i)\n",
    "            #split_cmd_err = split_cmd.format(\"err\", i)\n",
    "            split_cmd_err = \"/dev/null\"\n",
    "\n",
    "            out_line = \"nice sh \"\n",
    "            out_f.write(full_split_cmd_string.format(curr_split_file, \\\n",
    "                                                    split_cmd_out, \\\n",
    "                                                    split_cmd_err))\n",
    "\n",
    "    print(\"Completed - disc.cmd\")"
   ]
  },
  {
   "cell_type": "code",
   "execution_count": 77,
   "metadata": {
    "collapsed": false
   },
   "outputs": [
    {
     "name": "stdout",
     "output_type": "stream",
     "text": [
      "Progress: 1 out of: 10816\n",
      "Progress: 2081 out of: 10816\n",
      "Progress: 4161 out of: 10816\n",
      "Progress: 6241 out of: 10816\n",
      "Progress: 8321 out of: 10816\n",
      "Progress: 10401 out of: 10816\n",
      "Completed - disc.cmd\n"
     ]
    }
   ],
   "source": [
    "create_discovery_cmd_scripts(exp_path=exp_path, wav_file_list=wav_file_list, exp_name=exp_name, num_splits=25)"
   ]
  },
  {
   "cell_type": "code",
   "execution_count": 63,
   "metadata": {
    "collapsed": false
   },
   "outputs": [
    {
     "data": {
      "text/plain": [
       "['090', '091', '092', '093', '094']"
      ]
     },
     "execution_count": 63,
     "metadata": {},
     "output_type": "execute_result"
    }
   ],
   "source": [
    "map(segment_map.keys()[:5])"
   ]
  },
  {
   "cell_type": "code",
   "execution_count": 60,
   "metadata": {
    "collapsed": false
   },
   "outputs": [
    {
     "name": "stdout",
     "output_type": "stream",
     "text": [
      "['090', '091', '092', '093', '094', '095', '096', '097', '010', '011', '012', '013', '014', '015', '018', '025', '024', '027', '026', '021', '023', '022', '029', '028', '115', '114', '038', '039', '111', '110', '113', '112', '032', '033', '030', '031', '036', '037', '034', '035', '051', '108', '049', '048', '047', '046', '045', '044', '043', '042', '041', '040', '058', '059', '103', '054', '056', '057', '050', '100', '052', '053', '101', '106', '107', '104', '105', '061', '060', '063', '062', '065', '064', '067', '066', '117', '116', '076', '077', '075', '072', '073', '070', '071', '078', '079', '119', '118', '089', '088', '083', '082', '081', '087', '086', '085', '084', '002', '001', '007', '006', '005', '009', '120']\n"
     ]
    }
   ],
   "source": [
    "print(segment_map.keys())"
   ]
  },
  {
   "cell_type": "code",
   "execution_count": null,
   "metadata": {
    "collapsed": true
   },
   "outputs": [],
   "source": []
  }
 ],
 "metadata": {
  "kernelspec": {
   "display_name": "Python 2",
   "language": "python",
   "name": "python2"
  },
  "language_info": {
   "codemirror_mode": {
    "name": "ipython",
    "version": 2
   },
   "file_extension": ".py",
   "mimetype": "text/x-python",
   "name": "python",
   "nbconvert_exporter": "python",
   "pygments_lexer": "ipython2",
   "version": "2.7.12"
  }
 },
 "nbformat": 4,
 "nbformat_minor": 0
}
