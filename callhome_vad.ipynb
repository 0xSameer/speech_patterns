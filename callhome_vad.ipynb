{
 "cells": [
  {
   "cell_type": "code",
   "execution_count": null,
   "metadata": {
    "collapsed": true
   },
   "outputs": [],
   "source": [
    "# -*- coding: utf-8 -*-"
   ]
  },
  {
   "cell_type": "code",
   "execution_count": null,
   "metadata": {
    "collapsed": false
   },
   "outputs": [],
   "source": [
    "%run \"speechutils.py\""
   ]
  },
  {
   "cell_type": "code",
   "execution_count": null,
   "metadata": {
    "collapsed": true
   },
   "outputs": [],
   "source": [
    "ch = callhome_eval_init(\"config.json\")"
   ]
  },
  {
   "cell_type": "code",
   "execution_count": null,
   "metadata": {
    "collapsed": true
   },
   "outputs": [],
   "source": [
    "zrt_df, cols_to_show = ch.gen_zrt_df()"
   ]
  },
  {
   "cell_type": "markdown",
   "metadata": {},
   "source": [
    "## Words with long durations in transcripts"
   ]
  },
  {
   "cell_type": "code",
   "execution_count": null,
   "metadata": {
    "collapsed": false
   },
   "outputs": [],
   "source": [
    "print len(ch.es_cnt_words_dict.keys())\n",
    "print(ch.es_cnt_words_dict['001.001'][0].word)\n",
    "zrt_df.columns"
   ]
  },
  {
   "cell_type": "code",
   "execution_count": null,
   "metadata": {
    "collapsed": false
   },
   "outputs": [],
   "source": [
    "# Find words with transcript entries but no energy\n",
    "def es_words_by_dur(ch, dur=1000, cnt=False):\n",
    "    es_w_long = []\n",
    "    for fil, tlist in ch.es_words_dict.items():\n",
    "        for t in tlist:\n",
    "            if (t.end - t.start) >= (dur // 10) and t.word not in ['sil', 'sp']:\n",
    "                es_w_long.append((ch.file_info_dict[fil].target_file+'.wav', t.start, t.end, fil, t.word))\n",
    "    return es_w_long"
   ]
  },
  {
   "cell_type": "code",
   "execution_count": null,
   "metadata": {
    "collapsed": false
   },
   "outputs": [],
   "source": [
    "es_w_long = es_words_by_dur(ch, dur=800, cnt=False)"
   ]
  },
  {
   "cell_type": "code",
   "execution_count": null,
   "metadata": {
    "collapsed": true
   },
   "outputs": [],
   "source": [
    "es_w_long"
   ]
  },
  {
   "cell_type": "code",
   "execution_count": null,
   "metadata": {
    "collapsed": false
   },
   "outputs": [],
   "source": [
    "print(len(es_w_long))\n",
    "segid = es_w_long[5]\n",
    "print(segid)\n",
    "ch.gen_segment_wav(segid[0], segid[1], segid[2],\"temp.wav\" )\n",
    "display(IPython.display.Audio(\"temp.wav\"))\n",
    "display(IPython.display.Audio(segid[0]))\n",
    "ch.es_words_dict[segid[3]]"
   ]
  },
  {
   "cell_type": "code",
   "execution_count": null,
   "metadata": {
    "collapsed": false
   },
   "outputs": [],
   "source": [
    "# zrt_df.columns\n",
    "zrt_df[cols_to_show].head()"
   ]
  },
  {
   "cell_type": "code",
   "execution_count": null,
   "metadata": {
    "collapsed": false
   },
   "outputs": [],
   "source": [
    "ch.play_node_wav(6, detail=True)"
   ]
  },
  {
   "cell_type": "code",
   "execution_count": null,
   "metadata": {
    "collapsed": false
   },
   "outputs": [],
   "source": [
    "ch.play_node_source_wav(6)\n",
    "!soxi ../../corpora/callhome_es/out/061.164.wav "
   ]
  },
  {
   "cell_type": "code",
   "execution_count": null,
   "metadata": {
    "collapsed": true
   },
   "outputs": [],
   "source": []
  }
 ],
 "metadata": {
  "kernelspec": {
   "display_name": "Python 2",
   "language": "python",
   "name": "python2"
  },
  "language_info": {
   "codemirror_mode": {
    "name": "ipython",
    "version": 2
   },
   "file_extension": ".py",
   "mimetype": "text/x-python",
   "name": "python",
   "nbconvert_exporter": "python",
   "pygments_lexer": "ipython2",
   "version": "2.7.12"
  }
 },
 "nbformat": 4,
 "nbformat_minor": 0
}
