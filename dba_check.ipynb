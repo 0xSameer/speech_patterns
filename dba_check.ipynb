{
 "cells": [
  {
   "cell_type": "code",
   "execution_count": null,
   "metadata": {
    "collapsed": false
   },
   "outputs": [],
   "source": [
    "from __future__ import print_function\n",
    "from __future__ import division\n",
    "import os\n",
    "import pickle\n",
    "import json\n",
    "import subprocess\n",
    "from IPython.display import display\n",
    "from IPython.display import Audio\n",
    "import bisect\n",
    "from collections import namedtuple\n",
    "import numpy as np\n",
    "import pandas as pd\n",
    "from collections import Counter\n",
    "import matplotlib.pyplot as plt\n",
    "import seaborn as sns\n",
    "import textwrap\n",
    "import scipy.io.wavfile\n",
    "from python_speech_features import mfcc\n",
    "import tqdm\n",
    "\n",
    "%run ../antonissameer/dba.py\n",
    "%run ../antonissameer/utils.py\n",
    "\n",
    "from matplotlib.ticker import MultipleLocator, \\\n",
    "     FormatStrFormatter, AutoMinorLocator\n",
    "%matplotlib inline"
   ]
  },
  {
   "cell_type": "code",
   "execution_count": null,
   "metadata": {
    "collapsed": true
   },
   "outputs": [],
   "source": [
    "with open(\"config.json\") as json_data_file:\n",
    "    config = json.load(json_data_file)"
   ]
  },
  {
   "cell_type": "code",
   "execution_count": null,
   "metadata": {
    "collapsed": true
   },
   "outputs": [],
   "source": [
    "Align = namedtuple('Align', ['word', 'start', 'end'])"
   ]
  },
  {
   "cell_type": "code",
   "execution_count": null,
   "metadata": {
    "collapsed": false
   },
   "outputs": [],
   "source": [
    "segment_map = pickle.load(open(config['es']['segment_dict_fname'], \"rb\"))\n",
    "align_dict = pickle.load(open(config['es']['align_dict_fname'], \"rb\"), encoding='utf-8')"
   ]
  },
  {
   "cell_type": "markdown",
   "metadata": {},
   "source": [
    "### Find words spoken across speakers, and within speakers"
   ]
  },
  {
   "cell_type": "markdown",
   "metadata": {},
   "source": [
    "Find words longer than *threshold* ms in duration"
   ]
  },
  {
   "cell_type": "code",
   "execution_count": null,
   "metadata": {
    "collapsed": false
   },
   "outputs": [],
   "source": [
    "dur_thresh = 40 # 400 ms\n",
    "word_type = \"es_cnt\"\n",
    "\n",
    "def get_word_details(dur_thresh, word_type):\n",
    "    word_list = [(a.word, fid, sid, i) for fid in align_dict \n",
    "                for sid in align_dict[fid] \n",
    "                for i, a in enumerate(align_dict[fid][sid][word_type]) \n",
    "                if (a.end-a.start) > dur_thresh]\n",
    "\n",
    "    word_details = {}\n",
    "    for w, f, s, i in word_list:\n",
    "        if w not in word_details:\n",
    "            word_details[w] = {\"calls\":[f], \"uttrs\":[s], \"ixs\":[i]}\n",
    "        else:\n",
    "            word_details[w][\"calls\"].append(f)\n",
    "            word_details[w][\"uttrs\"].append(s)\n",
    "            word_details[w][\"ixs\"].append(i)\n",
    "    \n",
    "    for w in word_details:\n",
    "        word_details[w][\"word_count\"] = len(word_details[w][\"ixs\"])\n",
    "        word_details[w][\"call_count\"] = len(set(word_details[w][\"calls\"]))\n",
    "        word_details[w][\"uttr_count\"] = len(set(word_details[w][\"uttrs\"]))\n",
    "        \n",
    "    print(\"duration filter: {0:d} ms\".format(dur_thresh*10))\n",
    "    print(\"{0:10s} --- {1:5d}\".format(\"total words\", len(word_details)))\n",
    "    \n",
    "    return word_details"
   ]
  },
  {
   "cell_type": "code",
   "execution_count": null,
   "metadata": {
    "collapsed": true
   },
   "outputs": [],
   "source": [
    "def print_word_details(word_details, w):\n",
    "    print(\"details for: {0:10s}\".format(w))\n",
    "    print(\"{0:10s} | {1:5d}\".format(\"word count\", word_details[w][\"word_count\"]))\n",
    "    print(\"{0:10s} | {1:5d}\".format(\"call count\", word_details[w][\"call_count\"]))\n",
    "    print(\"{0:10s} | {1:5d}\".format(\"uttr count\", word_details[w][\"uttr_count\"]))"
   ]
  },
  {
   "cell_type": "code",
   "execution_count": null,
   "metadata": {
    "collapsed": false
   },
   "outputs": [],
   "source": [
    "word_details = get_word_details(dur_thresh, word_type)"
   ]
  },
  {
   "cell_type": "code",
   "execution_count": null,
   "metadata": {
    "collapsed": false
   },
   "outputs": [],
   "source": [
    "# display the most common words\n",
    "most_common = sorted([(w, word_details[w][\"word_count\"]) for w in word_details], \n",
    "                           reverse=True, key=lambda t:t[1])[:5]\n",
    "print(\"{0:20s} --- {1:10s}\".format(\"word\", \"count\"))\n",
    "print(\"\".join([\"{0:20s} --- {1:5d}\\n\".format(w, f) for w, f in most_common]))"
   ]
  },
  {
   "cell_type": "code",
   "execution_count": null,
   "metadata": {
    "collapsed": false
   },
   "outputs": [],
   "source": [
    "most_common_by_calls = sorted(\n",
    "    [(w, word_details[w][\"word_count\"], word_details[w][\"call_count\"]) \n",
    "     for w in word_details], reverse=True, key=lambda t:t[2])\n",
    "print(\"{0:10s} | {1:5} | {2:5} \".format(\"word\", \"count\", \"calls\"))\n",
    "print(\"\".join([\"{0:10s} | {1:5d} | {2:5d} \\n\".format(w,c,f) \n",
    "              for w, c, f in most_common_by_calls[:10]]))"
   ]
  },
  {
   "cell_type": "code",
   "execution_count": null,
   "metadata": {
    "collapsed": true
   },
   "outputs": [],
   "source": [
    "es_word = 'TELéFONO'\n",
    "uttr_wavs_path_string = \"../uttr_fa_vad_wavs/uttr_wavs/{0:s}.wav\""
   ]
  },
  {
   "cell_type": "code",
   "execution_count": null,
   "metadata": {
    "collapsed": false
   },
   "outputs": [],
   "source": [
    "print_word_details(word_details, es_word)"
   ]
  },
  {
   "cell_type": "code",
   "execution_count": null,
   "metadata": {
    "collapsed": true
   },
   "outputs": [],
   "source": [
    "def get_segment_wav(sid, start_10ms, end_10ms):\n",
    "    sr1, y1 = scipy.io.wavfile.read(uttr_wavs_path_string.format(sid))\n",
    "    start = start_10ms * int(sr1 / 100)\n",
    "    end = end_10ms * int(sr1 / 100)\n",
    "    return sr1, y1[start:end]"
   ]
  },
  {
   "cell_type": "code",
   "execution_count": null,
   "metadata": {
    "collapsed": true
   },
   "outputs": [],
   "source": [
    "def get_segment_mfcc(sid, start_10ms, end_10ms):\n",
    "    sr1, y1 = get_segment_wav(sid, start_10ms, end_10ms)\n",
    "    mfcc_segment = mfcc(y1, sr1)\n",
    "    return mfcc_segment"
   ]
  },
  {
   "cell_type": "code",
   "execution_count": null,
   "metadata": {
    "collapsed": true
   },
   "outputs": [],
   "source": [
    "def get_start_end_10ms(f,s,ind):\n",
    "    return align_dict[f][s][\"es_cnt\"][ind].start, align_dict[f][s][\"es_cnt\"][ind].end"
   ]
  },
  {
   "cell_type": "code",
   "execution_count": null,
   "metadata": {
    "collapsed": false
   },
   "outputs": [],
   "source": [
    "def compute_pairwise_dtw(loc_tuples):\n",
    "    d = len(loc_tuples)\n",
    "    cost = zeros((d, d))\n",
    "    \n",
    "    with tqdm(total=d*d) as pbar:\n",
    "        for i in range(d):\n",
    "            f1, s1, ind1 = loc_tuples[i]\n",
    "            start_i, end_i = get_start_end_10ms(f1, s1, ind1)\n",
    "            i_mfcc = get_segment_mfcc(s1, start_i, end_i)\n",
    "            for j in range(d):\n",
    "                it = i * d + (j + 1)\n",
    "                f2, s2, ind2 = es_cnt_word_loc[j]\n",
    "                start_j, end_j = get_start_end_10ms(f2, s2, ind2)\n",
    "                j_mfcc = get_segment_mfcc(s2, start_j, end_j)\n",
    "                # compute dtw\n",
    "                pair_cost = dtw(i_mfcc, j_mfcc)\n",
    "                cost[i,j] = cost[j,i] = pair_cost\n",
    "                pbar.set_description(\"it: {0:d}\".format(it))\n",
    "    return cost\n",
    "    "
   ]
  },
  {
   "cell_type": "code",
   "execution_count": null,
   "metadata": {
    "collapsed": true
   },
   "outputs": [],
   "source": [
    "def get_calls_for_word(words_details, word):\n",
    "    word_segments = {}\n",
    "    for w, f, s, i in words_details:\n",
    "        if w == word:\n",
    "            if f not in word_segments:\n",
    "                word_segments[f] = 1\n",
    "            else:\n",
    "                word_segments[f] += 1\n",
    "    print(\"done\")\n",
    "    return word_segments"
   ]
  },
  {
   "cell_type": "code",
   "execution_count": null,
   "metadata": {
    "collapsed": true
   },
   "outputs": [],
   "source": [
    "def play_audio_seg(words_details, w, ix):\n",
    "    call = words_details[w][\"calls\"][ix]\n",
    "    uttr = words_details[w][\"uttrs\"][ix]\n",
    "    index = words_details[w][\"ixs\"][ix]\n",
    "    start_i, end_i = get_start_end_10ms(call, uttr, index)\n",
    "    sr, y = get_segment_wav(uttr, start_i, end_i)\n",
    "    display(Audio(y, rate=sr))"
   ]
  },
  {
   "cell_type": "code",
   "execution_count": null,
   "metadata": {
    "collapsed": false
   },
   "outputs": [],
   "source": [
    "# Play few audio segments:\n",
    "for i in range(5):\n",
    "    print(\"{0:10s} | {1:7s}\".format(es_word, word_details[es_word][\"uttrs\"][i]))\n",
    "    play_audio_seg(word_details, es_word, i)"
   ]
  },
  {
   "cell_type": "code",
   "execution_count": null,
   "metadata": {
    "collapsed": false
   },
   "outputs": [],
   "source": [
    "y1.shape, y1.shape[0] / sr1 * 100, 227 * (sr1/100)"
   ]
  },
  {
   "cell_type": "code",
   "execution_count": null,
   "metadata": {
    "collapsed": false
   },
   "outputs": [],
   "source": [
    "mfcc1.shape"
   ]
  },
  {
   "cell_type": "code",
   "execution_count": null,
   "metadata": {
    "collapsed": false
   },
   "outputs": [],
   "source": [
    "!soxi \"../uttr_fa_vad_wavs/uttr_wavs/108.030.wav\""
   ]
  },
  {
   "cell_type": "code",
   "execution_count": null,
   "metadata": {
    "collapsed": true
   },
   "outputs": [],
   "source": []
  }
 ],
 "metadata": {
  "anaconda-cloud": {},
  "kernelspec": {
   "display_name": "Python [conda env:py3]",
   "language": "python",
   "name": "conda-env-py3-py"
  },
  "language_info": {
   "codemirror_mode": {
    "name": "ipython",
    "version": 3
   },
   "file_extension": ".py",
   "mimetype": "text/x-python",
   "name": "python",
   "nbconvert_exporter": "python",
   "pygments_lexer": "ipython3",
   "version": "3.5.2"
  }
 },
 "nbformat": 4,
 "nbformat_minor": 0
}
