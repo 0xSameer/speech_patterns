{
 "cells": [
  {
   "cell_type": "code",
   "execution_count": 36,
   "metadata": {
    "collapsed": false
   },
   "outputs": [],
   "source": [
    "from __future__ import print_function\n",
    "from __future__ import division\n",
    "import os\n",
    "import pickle\n",
    "import json\n",
    "import subprocess\n",
    "from IPython.display import display\n",
    "from IPython.display import Audio\n",
    "import bisect\n",
    "from collections import namedtuple\n",
    "import numpy as np\n",
    "import pandas as pd\n",
    "from collections import Counter\n",
    "import matplotlib.pyplot as plt\n",
    "import seaborn as sns\n",
    "import textwrap\n",
    "import scipy.io.wavfile\n",
    "from python_speech_features import mfcc\n",
    "from tqdm import tqdm\n",
    "import nltk\n",
    "from nltk.corpus import stopwords\n",
    "import bisect\n",
    "\n",
    "%run ../antonissameer/dba.py\n",
    "%run ../antonissameer/utils.py\n",
    "\n",
    "from matplotlib.ticker import MultipleLocator, \\\n",
    "     FormatStrFormatter, AutoMinorLocator\n",
    "%matplotlib inline"
   ]
  },
  {
   "cell_type": "code",
   "execution_count": 2,
   "metadata": {
    "collapsed": true
   },
   "outputs": [],
   "source": [
    "np.set_printoptions(precision=3)\n",
    "np.set_printoptions(suppress=True)"
   ]
  },
  {
   "cell_type": "code",
   "execution_count": 3,
   "metadata": {
    "collapsed": true
   },
   "outputs": [],
   "source": [
    "with open(\"config.json\") as json_data_file:\n",
    "    config = json.load(json_data_file)"
   ]
  },
  {
   "cell_type": "code",
   "execution_count": 4,
   "metadata": {
    "collapsed": true
   },
   "outputs": [],
   "source": [
    "Align = namedtuple('Align', ['word', 'start', 'end'])\n",
    "Instance = namedtuple('Instance', ['uttr', 'start', 'end'])"
   ]
  },
  {
   "cell_type": "code",
   "execution_count": 5,
   "metadata": {
    "collapsed": false
   },
   "outputs": [],
   "source": [
    "segment_map = pickle.load(open(config['es']['segment_dict_fname'], \"rb\"))\n",
    "align_dict = pickle.load(open(config['es']['align_dict_fname'], \"rb\"), encoding='utf-8')"
   ]
  },
  {
   "cell_type": "markdown",
   "metadata": {},
   "source": [
    "### Find words spoken across speakers, and within speakers"
   ]
  },
  {
   "cell_type": "markdown",
   "metadata": {},
   "source": [
    "Find words longer than *threshold* ms in duration"
   ]
  },
  {
   "cell_type": "code",
   "execution_count": 6,
   "metadata": {
    "collapsed": false
   },
   "outputs": [],
   "source": [
    "dur_thresh = 40 # 400 ms\n",
    "word_type = \"es_cnt\"\n",
    "\n",
    "def get_word_details(dur_thresh, word_type):\n",
    "    word_list = [(a.word, fid, sid, i) for fid in align_dict \n",
    "                for sid in align_dict[fid] \n",
    "                for i, a in enumerate(align_dict[fid][sid][word_type]) \n",
    "                if (a.end-a.start) > dur_thresh]\n",
    "\n",
    "    word_details = {}\n",
    "    for w, f, s, i in word_list:\n",
    "        if w not in word_details:\n",
    "            word_details[w] = {\"calls\":[f], \"uttrs\":[s], \"ixs\":[i]}\n",
    "        else:\n",
    "            word_details[w][\"calls\"].append(f)\n",
    "            word_details[w][\"uttrs\"].append(s)\n",
    "            word_details[w][\"ixs\"].append(i)\n",
    "    \n",
    "    for w in word_details:\n",
    "        word_details[w][\"word_count\"] = len(word_details[w][\"ixs\"])\n",
    "        word_details[w][\"call_count\"] = len(set(word_details[w][\"calls\"]))\n",
    "        word_details[w][\"uttr_count\"] = len(set(word_details[w][\"uttrs\"]))\n",
    "        \n",
    "    print(\"duration filter: {0:d} ms\".format(dur_thresh*10))\n",
    "    print(\"{0:10s} --- {1:5d}\".format(\"total words\", len(word_details)))\n",
    "    \n",
    "    return word_details"
   ]
  },
  {
   "cell_type": "code",
   "execution_count": 7,
   "metadata": {
    "collapsed": true
   },
   "outputs": [],
   "source": [
    "def print_index_details(word_details, w, i):\n",
    "    align_ix = word_details[w][\"ixs\"][i]\n",
    "    call_id = word_details[w][\"calls\"][i]\n",
    "    seg_id = word_details[w][\"uttrs\"][i]\n",
    "    loc = \"{0:d} - {1:d} ms\".format(align_dict[call_id][seg_id][word_type][align_ix].start, \n",
    "                    align_dict[call_id][seg_id][word_type][align_ix].end) \n",
    "    print(\"\"\"details for: {0:10s} \n",
    "             in uttr: {1:7s} \n",
    "             at time: {2:10s}\"\"\".format(w, word_details[w][\"uttrs\"][i], loc))"
   ]
  },
  {
   "cell_type": "code",
   "execution_count": 8,
   "metadata": {
    "collapsed": true
   },
   "outputs": [],
   "source": [
    "def print_word_details(word_details, w):\n",
    "    print(\"details for: {0:10s}\".format(w))\n",
    "    print(\"{0:10s} | {1:5d}\".format(\"word count\", word_details[w][\"word_count\"]))\n",
    "    print(\"{0:10s} | {1:5d}\".format(\"call count\", word_details[w][\"call_count\"]))\n",
    "    print(\"{0:10s} | {1:5d}\".format(\"uttr count\", word_details[w][\"uttr_count\"]))"
   ]
  },
  {
   "cell_type": "code",
   "execution_count": 9,
   "metadata": {
    "collapsed": false
   },
   "outputs": [
    {
     "name": "stdout",
     "output_type": "stream",
     "text": [
      "duration filter: 400 ms\n",
      "total words ---  8224\n"
     ]
    }
   ],
   "source": [
    "word_details = get_word_details(dur_thresh, word_type)"
   ]
  },
  {
   "cell_type": "code",
   "execution_count": 10,
   "metadata": {
    "collapsed": false
   },
   "outputs": [
    {
     "name": "stdout",
     "output_type": "stream",
     "text": [
      "word                 --- count     \n",
      "MMM                  ---   504\n",
      "<LAUGH>              ---   499\n",
      "ENTONCES             ---   450\n",
      "CLARO                ---   363\n",
      "AH                   ---   298\n",
      "\n"
     ]
    }
   ],
   "source": [
    "# display the most common words\n",
    "most_common = sorted([(w, word_details[w][\"word_count\"]) for w in word_details], \n",
    "                           reverse=True, key=lambda t:t[1])[:5]\n",
    "print(\"{0:20s} --- {1:10s}\".format(\"word\", \"count\"))\n",
    "print(\"\".join([\"{0:20s} --- {1:5d}\\n\".format(w, f) for w, f in most_common]))"
   ]
  },
  {
   "cell_type": "code",
   "execution_count": 11,
   "metadata": {
    "collapsed": false
   },
   "outputs": [
    {
     "name": "stdout",
     "output_type": "stream",
     "text": [
      "word       | count | calls \n",
      "ENTONCES   |   450 |    91 \n",
      "MMM        |   504 |    88 \n",
      "<LAUGH>    |   499 |    79 \n",
      "AH         |   298 |    79 \n",
      "BUENO      |   291 |    78 \n",
      "BIEN       |   247 |    77 \n",
      "CLARO      |   363 |    71 \n",
      "TELéFONO   |    94 |    55 \n",
      "EH         |   163 |    54 \n",
      "DESPUéS    |    70 |    50 \n",
      "\n"
     ]
    }
   ],
   "source": [
    "most_common_by_calls = sorted(\n",
    "    [(w, word_details[w][\"word_count\"], word_details[w][\"call_count\"]) \n",
    "     for w in word_details], reverse=True, key=lambda t:t[2])\n",
    "print(\"{0:10s} | {1:5} | {2:5} \".format(\"word\", \"count\", \"calls\"))\n",
    "print(\"\".join([\"{0:10s} | {1:5d} | {2:5d} \\n\".format(w,c,f) \n",
    "              for w, c, f in most_common_by_calls[:10]]))"
   ]
  },
  {
   "cell_type": "code",
   "execution_count": 12,
   "metadata": {
    "collapsed": true
   },
   "outputs": [],
   "source": [
    "es_word = 'TELéFONO'\n",
    "uttr_wavs_path_string = \"../uttr_fa_vad_wavs/uttr_wavs/{0:s}.wav\""
   ]
  },
  {
   "cell_type": "code",
   "execution_count": 13,
   "metadata": {
    "collapsed": false
   },
   "outputs": [
    {
     "name": "stdout",
     "output_type": "stream",
     "text": [
      "details for: TELéFONO  \n",
      "word count |    94\n",
      "call count |    55\n",
      "uttr count |    88\n"
     ]
    }
   ],
   "source": [
    "print_word_details(word_details, es_word)"
   ]
  },
  {
   "cell_type": "code",
   "execution_count": 14,
   "metadata": {
    "collapsed": true
   },
   "outputs": [],
   "source": [
    "def get_align_tuple(word_details, w, ix):\n",
    "    return (word_details[w][\"calls\"][ix], \n",
    "               word_details[w][\"uttrs\"][ix],\n",
    "               word_details[w][\"ixs\"][ix])"
   ]
  },
  {
   "cell_type": "code",
   "execution_count": 15,
   "metadata": {
    "collapsed": true
   },
   "outputs": [],
   "source": [
    "def get_segment_wav(sid, start_10ms, end_10ms):\n",
    "    sr1, y1 = scipy.io.wavfile.read(uttr_wavs_path_string.format(sid))\n",
    "    start = start_10ms * int(sr1 / 100)\n",
    "    end = end_10ms * int(sr1 / 100)\n",
    "    return sr1, y1[start:end]"
   ]
  },
  {
   "cell_type": "code",
   "execution_count": 16,
   "metadata": {
    "collapsed": true
   },
   "outputs": [],
   "source": [
    "def _get_segment_mfcc(sid, start_10ms, end_10ms):\n",
    "    sr1, y1 = get_segment_wav(sid, start_10ms, end_10ms)\n",
    "    mfcc_segment = mfcc(y1, sr1)\n",
    "    mfcc_segment = (mfcc_segment - np.mean(mfcc_segment)) / np.std(mfcc_segment)\n",
    "    return mfcc_segment"
   ]
  },
  {
   "cell_type": "code",
   "execution_count": 17,
   "metadata": {
    "collapsed": true
   },
   "outputs": [],
   "source": [
    "def get_start_end_10ms(f,s,ind):\n",
    "    return align_dict[f][s][\"es_cnt\"][ind].start, align_dict[f][s][\"es_cnt\"][ind].end"
   ]
  },
  {
   "cell_type": "code",
   "execution_count": 18,
   "metadata": {
    "collapsed": true
   },
   "outputs": [],
   "source": [
    "def compute_dtw(w_1, w_2):\n",
    "    f1, s1, ind1 = w_1\n",
    "    start_i, end_i = get_start_end_10ms(f1, s1, ind1)\n",
    "    i_mfcc = _get_segment_mfcc(s1, start_i, end_i)\n",
    "    \n",
    "    f2, s2, ind2 = w_2\n",
    "    start_j, end_j = get_start_end_10ms(f2, s2, ind2)\n",
    "    j_mfcc = _get_segment_mfcc(s2, start_j, end_j)\n",
    "    \n",
    "    # compute dtw\n",
    "    pair_cost, _ = dtw(i_mfcc, j_mfcc, doNorm=True)\n",
    "    return pair_cost"
   ]
  },
  {
   "cell_type": "code",
   "execution_count": 19,
   "metadata": {
    "collapsed": false
   },
   "outputs": [],
   "source": [
    "def compute_pairwise_dtw(loc_tuples):\n",
    "    d = len(loc_tuples)\n",
    "    cost = np.zeros((d, d))\n",
    "    \n",
    "    with tqdm(total=d*d) as pbar:\n",
    "        for i in range(d):\n",
    "#             f1, s1, ind1 = loc_tuples[i]\n",
    "#             start_i, end_i = get_start_end_10ms(f1, s1, ind1)\n",
    "#             i_mfcc = _get_segment_mfcc(s1, start_i, end_i)\n",
    "            cost[i,i] = 1\n",
    "            pbar.update(1)\n",
    "            for j in range(i+1, d):\n",
    "                it = i * d + (j + 1)\n",
    "#                 f2, s2, ind2 = loc_tuples[j]\n",
    "#                 start_j, end_j = get_start_end_10ms(f2, s2, ind2)\n",
    "#                 j_mfcc = _get_segment_mfcc(s2, start_j, end_j)\n",
    "                # compute dtw\n",
    "#                 pair_cost, _ = dtw(i_mfcc, j_mfcc, doNorm=True)\n",
    "                pair_cost = compute_dtw(loc_tuples[i], loc_tuples[j])\n",
    "                cost[i,j] = pair_cost\n",
    "                cost[j,i] = 1.0\n",
    "                pbar.set_description(\"it: {0:d}\".format(it))\n",
    "                pbar.update(2)\n",
    "    return cost\n",
    "    "
   ]
  },
  {
   "cell_type": "code",
   "execution_count": 20,
   "metadata": {
    "collapsed": true
   },
   "outputs": [],
   "source": [
    "def get_calls_for_word(words_details, word):\n",
    "    word_segments = {}\n",
    "    for w, f, s, i in words_details:\n",
    "        if w == word:\n",
    "            if f not in word_segments:\n",
    "                word_segments[f] = 1\n",
    "            else:\n",
    "                word_segments[f] += 1\n",
    "    print(\"done\")\n",
    "    return word_segments"
   ]
  },
  {
   "cell_type": "code",
   "execution_count": 21,
   "metadata": {
    "collapsed": true
   },
   "outputs": [],
   "source": [
    "def get_segment_mfcc(words_details, w, ix):\n",
    "    call, uttr, index = get_align_tuple(words_details, w, ix)\n",
    "    start_i, end_i = get_start_end_10ms(call, uttr, index)\n",
    "    return _get_segment_mfcc(uttr, start_i, end_i)"
   ]
  },
  {
   "cell_type": "code",
   "execution_count": 22,
   "metadata": {
    "collapsed": false
   },
   "outputs": [],
   "source": [
    "def play_uttr_seg(uttr, start_i, end_i):\n",
    "    sr, y = get_segment_wav(uttr, start_i, end_i)\n",
    "    display(Audio(y, rate=sr))"
   ]
  },
  {
   "cell_type": "code",
   "execution_count": 94,
   "metadata": {
    "collapsed": true
   },
   "outputs": [],
   "source": [
    "def play_align_seg(words_details, w, ix):\n",
    "    call = words_details[w][\"calls\"][ix]\n",
    "    uttr = words_details[w][\"uttrs\"][ix]\n",
    "    index = words_details[w][\"ixs\"][ix]\n",
    "    start_i, end_i = get_start_end_10ms(call, uttr, index)\n",
    "    time_str = \"{0:d} - {1:d} ms\".format(start_i, end_i) \n",
    "    print(\"{0:10s} | {1:7s} | {2:8s}\".format(es_word, \n",
    "                                             word_details[es_word][\"uttrs\"][ix],\n",
    "                                             time_str))\n",
    "    play_uttr_seg(uttr, start_i, end_i)"
   ]
  },
  {
   "cell_type": "code",
   "execution_count": 95,
   "metadata": {
    "collapsed": true
   },
   "outputs": [],
   "source": [
    "def get_dba_for_word_samples(word_details, w, ixs):\n",
    "    word_mfccs = []\n",
    "    for ix in ixs:\n",
    "        word_mfccs.append(get_segment_mfcc(word_details, w, ix))\n",
    "    word_dba = dba(s=word_mfccs)\n",
    "    return word_dba"
   ]
  },
  {
   "cell_type": "code",
   "execution_count": 118,
   "metadata": {
    "collapsed": true
   },
   "outputs": [],
   "source": [
    "def print_align(uttr, key='es'):\n",
    "    words = \" \".join([w.word for w in align_dict[i.uttr.split('.')[0]][i.uttr][key]])\n",
    "    print(\"{0:>15s} | {1:>40s}\".format(key + \" words\", words))"
   ]
  },
  {
   "cell_type": "code",
   "execution_count": 137,
   "metadata": {
    "collapsed": false
   },
   "outputs": [],
   "source": [
    "def find_align_words_for_node(uttr, start, end, key='es'):\n",
    "    align_words_list = align_dict[i.uttr.split('.')[0]][i.uttr][key]\n",
    "    words, start_times, end_times = zip(*(align_words_list))\n",
    "    start_i = bisect.bisect(end_times, start)\n",
    "    # end index will be 1 beyond the actual end\n",
    "    end_i = bisect.bisect(start_times, end) \n",
    "    print(\"{0:>15s} | {1:s}, DUR: {2:d} ms\".format(key + \" alignment\", \n",
    "                                                  \" \".join(words[start_i:end_i]),\n",
    "                                                 (end_times[end_i-1]-start_times[start_i])*10))\n",
    "    return words[start_i:end_i]"
   ]
  },
  {
   "cell_type": "code",
   "execution_count": 109,
   "metadata": {
    "collapsed": false
   },
   "outputs": [
    {
     "name": "stdout",
     "output_type": "stream",
     "text": [
      "TELéFONO   | 054.076 | 54 - 112 ms\n"
     ]
    },
    {
     "data": {
      "text/html": [
       "\n",
       "                <audio controls=\"controls\" >\n",
       "                    <source src=\"data:audio/wav;base64,UklGRmQkAABXQVZFZm10IBAAAAABAAEAQB8AAIA+AAACABAAZGF0YUAkAAAvAYoBqwAW/97/6P7K/Rb/Gv5f/hb/Mf6rAIoBXQFJA6QDKQWFBeUE8waXBr0Iqgc8BqoHWwQpBSkF5gEbAxQCqwDq/9P/jv92/mz/9f8tALz/IgBGAaAARgE2Al0BRgF2A3MB0//qAEj+Fv+8/0H9yv2l+3v6jv/PAYr86P6RAkj+IgBdAc8BdgMWAEkDKQX9AbcEPAZJA4UFtwTqAIkE0gNzAS0EZAI2AqQDdgPPARsD0gNQAIoB7QJyAEQAvP9J+0H9OQBD96X77QJ3++X8AQFf/rf8ivzl/KX7APy8AP0B9f9kAtIDFAJzAbgBqwCl/6QDNgK6/jYCGAHR/uz9nP1c/Hv6yv2l+yD6Qf23/Fz8nP26/hgBRgHK/YkA7QLo/nf/cwHqADkAvP+gAPX/3v+gAPX/FgAAAGYAfQCO/47/mv8W/xb/0/+l/+z9dv4W/wP+Gv4x/sr9Qf2c/Uj+5fxc/G/9t/wu/Ir8ivwT/Yr8APzT+3v6APxv/eX87P2N/gP+o/6N/jH+YP+a/43+YP/q/xb/jv+8AJQACwCl///+Lf9I/hP9nP0x/v/+nP3l/LD/sP/o/t7/cgCJAJr/Fv93/97/g//R/uj+o/66/nb+nP0D/nb+A/5v/W/9nP0a/uX8XPwx/nb+o/6j/uj+cgBEAIP/sP/1/7z/jf4x/tH+X/6c/Zz9Gv5E/0T///5s/zkARgGhATYCpAPlBCkFhQXgBSkFtwQABJECzwEWAC3/nP0u/Hf7d/tc/Fz8APxv/br+d/9f/rr+RgG4AS8BcwFJA6QDdgOJBOUEPAYpBRsD5gEW///+YP8g+hLtNuqm8BLt7+9D95QAfgx+DDcSlRyVHLkZSxgnG5UcuRmlE8gQGv6y3R3Vi9bRy9HL+deB7hsDWwTdFgcoKiUqJQMelRyVHOwNKQVOBykFBgiXBhAL6gCy3f3ha+PRyx3Vst2k6+j+8PTsDbwjJxtOIuAgKiVyH+wNNQ10CUYBQf0W/zwGqgcGCHQJsP8j6f3h2eSv06/TIN/t6lb4xPl+DJUcJxtyH3IfAx6VHH8RxwsrCuAFPAaGCscLfgzJ7WfZye351xjGZ9mO4ILzgvNp+ZUcch+5GeAgmSYHKN0WxwtaD/MGDflW+Oj+NgIAAHYDGAngBTjvjuDt6iDfHdUg37XnjPb69y0EuRmVHOAg4CBOIuAgXBSjDisKiQS8AGQC5QTSA6bwHdVr47LdX8CtzmfZa+Pt6jbqBghcFFoPuRlOIgcoch9LGN0W7hJ0Cej+GwNJAxb/ZAJJA1sECwDX+l3x2eQj6Wvjst1H5rXnFPIg+rf8xwvIEMgQpRM3Eu4Sow6GChALvQiXBoUFFAKl/3v6XfHJ7VvstedH5mvjtedb7DbqXfH692n5ZAKXBhgJfxE3Eu4SyhXIEBMVyhU1DaMOvQikA34MNgKc/YUFOfRb7F3x/eGO4Efmi9Zr4yPpjuDL8jn0Q/crChgJERCVHJUcTiJOIgMeAx4nG6UTERB+DIkE8PSB7jbqst2O4IvWitHZ5NbaIN/w9Fvspf/HC7cEAx5OIpUc4ypOInIfKiU3EjcSyBDSA5cGUABp+cvyI+nt6iDfIN9r46/TNurZ5I7gQf2m8EYBExW3BOAgKiW5GXYuch+VHJkmERA3EsgQigEGCJz9Mfam8Nnktedn2UTcRNyK0SPpjuCO4PX/XfGXBrkZdAkHKHUpch8vNColch/jKlwUpRPdFmQCqgdGAXr1XfFH5tnkZ9n512fZ0ctH5v3hjuABAcvyPAa5GXQJdSnjKnIfLzQqJU4i4yqlE6UTXBQ2AuAFvP969YHua+Nr4/nX1tqL1q3OI+mO4GvjvwI59BALJxsQC1Es4ypyHy80KiVyHwcoNxJ/EX8RZgA2AkT/OfRD97Xnst0j6R3VZ9lE3NHLpOtr4/3hhQXw9L0IAx69COMq4yonGy80TiKVHOMqWg83EqUT5fxJA2D/FPKy+Efm1toj6YrRZ9my3dHL7epr447gKQUx9r0IJxu9COMqBygnGy804CByHwcoow7KFX8Ro/4pBQD8evX69/3hst1r463OZ9kd1fTI7erW2o7gNgKm8McLyhV0CeMqvCMDHlMx4CByH7wjWg9/EewNmv+8/2n5gvPw9Djvst2O4Gvjrc6O4IvWrc7w9ETcI+l0CV3xNxLdFr0Idi5OIpUcUzGVHHIf4CAQCzcSNQ23/Mf/DfkU8vD0I+nW2tnkZ9mK0f3h0cvW2jjvr9Oy+AP+gvOVHBALfxFTMUsYmSZ2Lt0WByhyH3QJJxt0CZz9Tgc59Hr11/pr47Ldteev04vWIN8Yxo7gpOuv02/9DflD93IflwZLGFMxyhXjKlEsSxh2LrkZNQ2VHOAFAATgBV3xIPpD9yPpa+P94bLdi9aO4IrRi9YU8mfZge63BDjv3RalE70IUzGVHAMeLzRLGAcomSYQCwMeyBBkAqMOsvhp+QP+OO8j6Wvja+P510TcRNzRy+3q2eSy3SkFy/KJBHIfAAROInUp3RZTMbwjAx7jKt0WyhVLGL0IKwqkAyD61/oN+cnt/eEj6UTc+ddH5tHLjuAU8vnXG/tf/jn0ch9+DBEQdi5LGLwjdi7dFnUpmSZaD0sYyBCXBoYK1/ro9sr9OfSm8CDfZ9kj6fnXi9Zr4/3hDfk474LzXBTsDcoVSxgTFQcoSxjsDbkZ7hKjDscLhQXIEOwN5QSjDn4MNQ0rChALEu08w0fmrc59qdba1tpb7Mr9G/svNOMquRkMN5kmuRkABBTyvwKm8GvjhQXIEBEQ3RYqJXYu3RY3En8RGAE59Mnti9Z9qa3Orc6dnFvsAPxg/yoluRmhPy80EAsqJYUFNuqc/cntOfSXBjwGuRkDHgMeKiW5GTcSWg8YCSkFRNxWoorRrc4BgLLdAQGm8OAgch9ZReg58wbjKjcSR+aB7u/vOfSm8DYC4CCVHLkZKiUqJaMOIgABAcvyI+nJ7aTryrfKt4Lz7rRfwDcS8PTsDScbJxsvNJcGow65Gcvymv/tAl/+7A0QCzcSJxvsDaUT7hLTABQCpftp+bL4xPnRyzWvOO9fwFailwbE+bf8ch9yH+g53RbHCwMe7P3w9Mr9SP7tAk4H7A3dFqUTWg8REM8JsP9v/Xb+5fzV9TWvyrfw9J2cp7rdFl3xfxEqJXUp6DmGCloPSxhD9zn0b/2XBoUFzwndFt0W7hIREBgJvQgg+rL4zwEu/O/vfanRyzn05JaK0coVOfTdFnIfUzHoOeAFNxKVHLf8DfmFBaMOKwq9CBMV3RZaD+AFzwlOBy78CwDgBQD8ErLutDn0VqISsn4MMfYTFScbmSY2SOwNNQ1yH9IDYP9mAMcLNxKXBsgQAx7KFb0IERDsDYkEGwMGCLL4WaynuqTrVqKDvQAEsvi5GUsYKiVZRX8RKwq5GZcGGwMbA88JSxjsDX4Mch/dFoYKERArCisKhQU2AiPpNa8YxvnXfamK0SD6Gv65Ge4SmSYvNDUNyBDdFisKWg/zBn4MJxtaDzcSJxs3En8Row7sDVoPlwbJ7V/Ag72K0TWvX8Bb7Fb47hLdFrkZdi4DHn4MNxJ+DFoPERBhCFwUSxilE90WERDuEu4S7A3IEE4HR+Y8wzzDX8DutDzDjuBW+MgQyhWVHAcolRwTFREQEAulE+4Sfgw3Et0W3RZaDzUNpRPuEsgQ7A1f/v3h9MhfwIO9g73RyyDfsviGCsgQyhW5GUsYfxE1DewNNxKlEzcSNxITFd0WXBRaDzUNWg9aD+AFOfT51/TI9MgYxtHLHdVH5nf7qgdaD6UTpROlEzcSow7IEMgQyBA3EjcSpRPuEloP7A0QC3QJKQUx/jjvZ9nRyxjGGMav00TcNuog+r8CEAt/ETcSNxLIEMgQpRNcFDcSyBA3EjcSNxIREMcLdAlOB0YBVvgj6UTcitHRy4rRRNxr46Tr8PTK/YUFhgrsDaMOow5aD+4SpRPIEDcSyBBaDxEQfgzPCfMGSQO8/8T5pvBH5o7gRNyy3Wvj7eoU8uj2e/rT/xsDlwYQC8cLNQ1aDxEQERCjDn4MfgwrCk4H8wbSA7D/nP1p+dX1XfFb7Fvs7epb7F3xOfRD9xv7LvwW/4oBLQRhCM8JzwkQCzUNxwvHC8cLhgoGCGEIGAmFBTYCuAFg/3v6Dfl7+vr3MfaM9uj2svjo9p/3ivxv/S78X/64ARsD7QI2AjwG8wbSA6oHvQi3BDwG4AVJA+UESQPT/4oBUAAD/rz/Mf7K/Rb/SP4T/W/9OQBbABb/GAEYARYAigGRAooBvwLgBRsDtwSXBi0ElwYtBP0B4AUABJECdgP9ARQCigHK/W/90wDT/3f7AQGkAy78AQHlBIr8ivzqABYAuv4BAV0BsP+l/+r/5QQtBF0BhQXgBQAEGwO3BC0ENgK8AP/+NgIUAv/+lAAWAF0B7QIWAPX/WwS8/4r8vwKD/xP9NgKgALz/oQHTAC8BoAA2AuAFoABI/oUFqwCl+0kD7QK3/Hf/0gO8AOz9g//qAEYBFgB3/0T/qwBg/9P70wDq/3v63v8BAY3+ZgDtAqEBA/4YAWQCMf7K/aEB/QEa/mYAsP9f/gAELwGj/nf/uv4WAKP+pf8W/5z90//o/l/+uv5f/ur/LwGN/pz97QJE/6X7GAF3/1z8nP3l/BP95fwT/VX/ivwb+9H+SP4W/+z9LvxQAOr/b/26/tMAMf4T/S8BRP8D/qP+0f5I/m/9nP23/EYBGAEa/hgB//5E/7z/Mf4W/+X8uv6O/6X7t/zR/rf85fyN/tP75fxv/df6yv3K/Y3+cgCj/v0B0wBc/CIA5gF2/hr+A/7q/xb/Dflg/xQCIPox/hgBivwD/hsD5gFc/C78Mf5QAPX/nP1f/tf6nP24AS3/pf9v/ez9Lf9V/0T/nP1zAUj+0/svAQEB0f5bAHMBnP1s/5QAnP1yAET/5gE2Akn7XQFJA8T5pf+XBrz/E/0YAVAAt/wYAUkDnP1EANIDiQBf/rwA3v8D/qEBX/5v/WQCb/2N/jYCX/63/C78RgEpBUkDAQG/AuAFvABE/+AFKQXtAhQClACRAuoAFv/qAHMBAQF3/3f/cwGl/6P+XQEW/4r8g/8vAS0Auv5zAcf/yv3lBLcEoQGRArgBigEbAy0ENgKRAnYDzwE2AgAE7QIYAQAEGwP9AYkE5gE2AkkD6gBdAaQDpANf/rD/KQULAPX/0wC3/FAAIgCK/Gz/AQHq/4kALwGUAIP/dv5f/mYA0wB2/l0BNgIW/3YDWwSrAGQCAARbBHYDZAJJAwAE4AVOB5cGNgKgAN7/FALgBWQCuAEvAfX/0gORAo3+nP1s/47/o/4W/5z9Sful+1AAigEW/+j+7P0t/7r+nP28AO0CSQNs/+X8RP9g/6X/vP///hQCSQPPAWQCoQFQANMAXQH9Af0BlADK/bf8dv6O/1X/0/+a/5z9APwT/Zz9nP0W/2D/6P66/nb+0f68/0YBOQDo/gEB3v8W/5r/SP5E/7z/SP7T/9H+0/sT/cr9jf6w/43+6P5f/pz9LQDTALr+Fv8YAQsAx/+O/47/5gG8/9H+6v+6/nf/uv4T/Zz9yv23/OX8Mf4T/bf8t/yl+0H9E/0T/ez9t/wb+9f60/tv/Zz97P1f/kH9XPzX+hv75fyc/Y3+0/9E///+RP9s/zkALwHqAKsARgHmAc8BLwFyAAAACwDq/xYAZgAAAHIAUAAW///+Vf9f/sr9b/1v/Rr+nP1v/eX80/su/Lf8b/2N/o3+jf4a/l/+X/4x/v/+mv9g/7r+RP/q/6X/cgAvAUYBRgEYAV0BXQFyAAAACwBbAHIARADe/+j+uv6O/4P/UABzAS8B6gAtAOj+0f7o/mD/ZgC8ALwAAQHqAH0AvAAAAC3/6v/q/5r/x/8AANP/3v+rABgB5gHtApECNgIUAi8BFAKRAhsDLQQABHYDSQPtAmQCigFGAbwAcgAtANP/Lf8a/sr97P1f/v/+3v9bAFAAUABbAKEBSQPlBE4HTgfgBYUF0gOkA1sE5QQpBS0EFAJ2/nf7IPog+nv6xPn693r18PT695z9KQUrCscLfgwQCxAL7A1aD38RfxF+DIYKTge/AqEBXPzV9cnt2eT94Ufm7+8D/k4HGAngBY7/E/2gAPMGow7uEu4S7hLIEDcSExVcFBEQ8wbw9Nnk1tpn2dnkgvO8AE4HdgNE/2n5Q/el+0H9AQEpBb0Iow6lE8oVyhXdFhMVExXIEOAFgvP94WfZRNzt6mn5vwK3BJz9Q/eC88vy+vcg+hr+GwMGCBEQExUTFcoVXBSlE90WpRMQC1b4/eHW2kTcpOsb++YBGAGy+BTyXfEU8oz2Vvgg+o7/4AVaD90WyhU3En8R7hLdFksY7hKRAjbq1trW2tnkFPJc/En7MfZd8YHupvCC8/D0jPbT+y0EfgylE90W7hLuElwUyhW5GUsY7A1J+9nkRNyy3bXnOfRp+ej2FPI47xLtOO9d8RTyjPa6/gYIyBDKFd0WpRMTFd0WuRmVHN0WfgyM9o7gst0g3yPpgvND9zn0pvA478ntOO8U8hTyn/eKASsK7hLdFt0WyhXdFksYuRmVHN0WNQ3E+f3hRNyO4EfmFPLV9cvyge4474Huge4U8hTyQ/cABDUNpRNLGEsYSxi5GbkZuRmVHEsYfxE2ArXn1tqy3Wvjye3w9ILz7+/v713xOO8U8oLz1fUUAuwNExW5GQMeJxsnG5UcuRmVHLkZpRPPCV3xRNyy3WvjI+nv76bwye3J7cvypvCm8Dn0OfSN/jUN3RYnG5UclRyVHAMelRwnGycbSxg3EikFNupn2SDf2eQj6RLtge6k64HugvMU8oLz8PRW+JcGNxK5GZUcAx5yH3Ifch+VHLkZuRndFn8RRgFH5vnXjuBr47XnpOvt6qTrpvCC88vy8PTw9NP7EAtcFCcblRyVHHIfch/gIJUcJxvdFhMVNQ3697Ld+ddr49nktecj6SPpEu0U8qbwgvOf9zH29f/sDcoVuRknGwMech9yH3IfJxu5Gd0WNxK9CEP3juD5147ga+NH5tnk2eTt6l3xOO8U8g35afkiAMcL7hK5GbkZJxtyH+Agch+5GUsYyhXIEL0Ipfsj6SDf/eH94f3ha+Nr40fmye0476bwQ/fX+hb/qgd+DDcS3RbdFicbAx6VHLkZyhU3EqMOzwntAuj2pOtb7O3q2eTZ5P3hjuAj6TbqNuqm8Hr1n/eO/7cEGAmjDn8RpRMTFUsYSxjdFsoVpRPIEDUNPAal++j2gvPt6rXn2eQg3/3h2eRH5jbqge5d8UP3jf5JA70INQ0REO4SyhXdFksY3RbdFhMVNxLsDTwGivz698vyNupH5mvjjuBr49nk2eQj6cnt7+9D9zH+ZAIGCH4MWg83EhMV3RbdFksY3RYTFTcSNQ23BLf8IPrL8qTrI+lr4/3h2eRH5kfm7erJ7V3xIPpE/y0EKwp+DBEQpRPKFUsYuRm5GUsYExV/ETUNKQVv/Wn5y/Jb7CPp2eRr40fmR+a156Trge6C89f60/8pBYYKow43ElwU3Ra5GScbJxvdFhMVfxHHCwAEo/5p+RTyye0j6dnk2eQj6UfmI+kS7e/vMfYT/aEBTgd+DBEQpRPdFrkZJxuVHCcbSxgTFTcSxwtbBF/+DfkU8hLtNupH5tnktecj6SPpge5d8ej2b/2RAgYINQ1/EVwUSxi5GZUclRwnG0sYXBRaD2EI/QGK/PD07+9b7CPptecj6bXn7eo4713xMfbT+4kAlwYQC1oP7hLdFrkZJxuVHLkZ3RZcFFoPGAntAuz96Pam8BLtI+kj6SPpI+kj6RLtpvDw9CD6Lf+3BIYKow43Et0WSxgnGycbuRndFqUTERCGCnYDGv76913xEu026rXntecj6bXnpOvJ7V3xQ/e3/BQCqgd+DMgQXBTdFrkZJxu5GUsYExXIEBALKQXo/g35gvPJ7TbqtedH5rXntecj6Vvs7+859A35Lf9bBBgJ7A03EsoVSxi5GUsY3RZcFMgQfgyXBlsAIPo59DjvpOsj6UfmR+ZH5rXnNurJ7RTyjPbT+3MB4AUQCxEQ7hLdFksY3RbdFhMVfxHsDWEIkQK3/Iz2FPLJ7TbqtedH5kfmtecj6e3q7+/w9Pr3yv0bAwYINQ1aD6UTyhXdFt0WXBQ3EloPhgo8Bur/e/rV9V3xEu0j6bXnR+Yj6SPpNuoS7e/v8PQg+hr+6gDzBloPXBTdFksYXBTdFqUTERB+DNIDAQF2/lb4OfQ476Tr7eoj6SPpNupb7IHupvDw9Hv6d/8pBRALow6lE90WExWlE8gQow41Dc8JWwREAIr8svjw9F3xye1b7KTrpOuk64HuFPLV9cT5o/5JA6oHfgzIEKUTExUTFe4SyBBaDzUNzwkpBQsAG/v69zn0XfGB7lvs7epb7Mnt7++C81b4LvxGASkFGAnsDcgQXBTdFksYyhXuEsgQNQ0rCjwGcgCl+/r3gvOm8DjvEu2k61vsEu2m8Dn0+vfT+9MAhQW9CDUNyBBcFEsYSxjdFhMVfxGjDscLYQikA7D/G/vo9svy7+/J7RLtW+yk6xLtXfHV9Wn5nP1zASkFzwl+DH8RExXdFt0WyhWlE38Row5+DL0IWwREALf8Vvg59F3x7++m8O/vpvBd8RTy8PRD90n7LQApBRgJxwvsDREQNxLuEqUT7hLIEDUNzwlOB7cEuAG6/nv6jPbL8hTyy/IU8l3xFPKC8/D01fVp+eX8iQCkAzwGGAkQCxALNQ3sDaMOow5+DHQJ8wYpBRsDGAEx/kn7afno9vD08PTw9Dn08PTo9g351/oA/Mr9mv9dAaQDWwTgBb0IdAkrCs8JGAlOBykF0gORAv0BFgDK/S781/og+rL4+vf69+j2Q/ef90P3VvjX+i78Qf0t/yIACwAYAf0BdgOFBYUFAASkA6QDdgORArgB0wBE/wP+E/23/Lf80/vX+iD6e/rT+3f7G/vX+tf6t/yc/br+d//T/xYAWwDPARQCZAI2AnIA3v8AACIAg/9E/1/+ivzT+9f61/pJ+9P7XPwA/Hf7IPrX+lz8nP3//lAAvAAWAOj+//4LAC8BzwH9AWQCNgIYAYkAAAAW///+dv7s/ez9A/7K/W/9ivxJ+9f6pftc/BP9b/0a/tH+SP5f/mz/lABGAXMBLwG8APX/d/8WAIkAigFGAY7/jf7s/cr97P1f/v/+Lf/o/kj+jf53/y3/vP8BAc8BNgI2AmQCvwK/AhQCoQH9Ac8BRgHTADkA6v8W/zH+Gv5I/tH+6P6N/l/+A/6c/Xb+Lf9yABgBqwC8AC8BzwHtAtIDdgORApECGwPtAkkDkQKKAeoALQByAEYBcwHqABYAFv8W/2z/9f/qALgBZAKRAuYBcwFGAeYBSQMABC0EpAPtAs8BAQG8AOoARgHqAC0A0/+8/2z/uv66/mz/IgC8AAEB0wCgAAEBXQFzAbgB5gG4AeYBkQKkA1sEWwRbBLcEhQXgBTwG4AWFBeUEiQQABKQDdgO/As8B0wC8///+yv3l/C78d/tJ+3v6IPrE+SD61/pJ+1z8yv2D/0YB7QIABCkF4AWXBqoHYQgGCKoHlwaFBbcEpAM2AooBAACj/uz9Qf23/Lf8ivxc/Fz8XPwT/Zz9X/7R/i3/x/9bABgBFAIbA3YDSQNJA+0CvwJkAs8BRgGJAHf/dv5v/eX8t/y3/Lf8ivwu/Fz8t/xv/Uj+6P5s/2D/bP/q/30AAQFzAbgBzwHPAYoBRgEvAdMAlAAWAOr/9f9s/xb/uv4D/sr9nP1v/W/9Qf0T/eX85fzl/Lf8ivxc/C78LvzT+6X7pftJ+6X7Lvy3/EH9nP3K/cr9A/52/rr+RP+O/4P/g/+D/2D/YP+l/7z/3v8iAFAAlAC8ABgBRgFGAS8BAQEYAQEB6gDqAKsALQBg/3b+A/6c/W/9nP0T/bf8ivzT+6X7APwA/Fz8t/zl/BP9nP3K/Rr+dv5f/l/+X/5f/kj+Mf5f/jH+yv1v/UH9Qf1v/Zz9yv0x/l/+o/7R/hb/YP8AAH0AoAC8AAEBGAFGAYoBigHPAc8BigFGAUYBRgEvARgBAQG8AOoAAQHqAC8BRgFGAXMBRgEYAbwAcgAtAAAA0/+O/0T/Fv/o/rr+jf52/hr+SP4x/jH+jf6j/tH+Lf93/+r/fQDTAEYBzwE2ApEC7QJJA3YDdgNJA3YDSQPtAu0CkQI2AhQCuAEvAQEBvABbAFAAWwBEAEQALQAWACIALQA5AH0AiQC8ANMAGAFGAUYBigGhAf0BZAJkAmQCvwKRAr8CvwK/ApECkQKRAjYC/QHmAbgBcwFGAUYBLwEvAS8BXQFzAaEB5gHPAc8B5gH9ATYCFAIUAhQCNgI2AjYCNgI2AjYC/QHPAaEBcwEYAeoA0wBbAAsAx/+l/1X///4W/9H+uv7o/rr+uv7o/hb/Vf+O/8f/CwAtAIkAAQEvAV0BoQHPATYCNgKRAr8CkQKRApECkQKRAmQCNgKhAXMBGAG8AGYAFgDT/47/YP8W///+6P7o/rr+jf52/o3+X/5f/nb+dv6N/nb+o/66/tH+6P7o/tH+6P7o/tH+6P7R/rr+6P66/rr+0f7o/v/+//4W/xb/Lf8W///+6P4W///+//7//uj+6P7o/tH+0f66/qP+uv66/kj+dv52/kj+X/4x/hr+Mf5I/kj+SP5f/l/+SP5f/kj+Mf5f/l/+SP5f/l/+Mf5f/o3+Mf5f/nb+SP4x/jH+Mf4x/kj+X/4x/jH+X/4a/jH+SP4x/kj+SP5f/nb+SP5f/l/+jf52/nb+X/6N/qP+jf6j/o3+o/7o/qP+uv7R/tH+6P4W/xb///4W/xb/Fv9E/xb///7o/v/+0f7o/i3/Fv8W/y3/RP9E/2D/d/9E/2D/jv+l/6X/mv/H/9P/sP/q//X/AAD1/97/CwAAANP/FgAWAOr/AADq/97/9f/H/97/6v/T/97/9f8AABYAFgAWAC0AWwByAH0AlAC8AOoA6gABAQEBGAEYAUYBcwFdAYoBigFGAYoBoQGKAYoBigFzAYoBigFzAV0BXQFGARgBGAEBAeoA6gDqAOoA6gDTALwAvAC8AOoAAQEBAQEBGAFGAV0BcwFzAXMBoQHPAaEBuAHmAf0BFAL9Af0BNgI2AjYCNgL9Af0BFAIUAhQC/QHPAc8BzwGKAYoBoQFzAYoBoQGhAaEBoQFzAXMBigFzAXMBcwFGAUYBcwFGARgBRgEYAQEBAQHqALwAvAC8ALwAqwCUAJQAiQCJALwAvAC8ANMA6gDqAAEBGAEYAS8BRgEYAS8BGAEYAS8BRgEYAeoA6gC8AKsAvACJAJQAiQBQAEQAIgAAAPX/0//e/7z/x//q/97/sP+w/8f/3v/q/+r/AAAAABYAFgAWABYAIgAAAN7/3v/T/6X/pf+w/7D/sP+8/7D/sP+l/8f/3v/T/+r/6v/q/wAAFgAAAOr/FgAWABYAIgAWABYAIgAiAEQARABEACIAIgA5ADkAOQAWAAAAFgAAAN7/3v/q/8f/3v/q/yIAAAAAABYAAADe/+r/3v/T/wAAFgAAAOr/3v/T/97/6v8AAOr/x//q/+r/3v/H/7D/6v/q/8f/3v/e/8f/3v/T/97/AADq/wAAFgAWAEQARABbAEQAAAAAAAAAIgBEAFsAZgBbACIAFgDq/wAAAADq/+r/6v/H/97/x//q/+r/x//e/7D/jv+O/7D/x//e/97/3v8WACIA6v/q/wAAFgAWACIAOQBEADkAAADq/97/6v8AAOr/AADq/8f/3v/H/8f/x//T/7D/3v/e/97/6v/q/97/6v8AAAAAFgBEAEQAOQBEAFsARABEAEQAOQAAAOr/AAAWABYAFgA5AAAAx//T/+r/AADH/7D/x//T/7D/3v/H/8f/3v/T/xYAAADe/wAA6v8AAAAAx/8AAMf/jv+8/6X/sP/H/6X/x//q/8f/AAAWAOr/6v/q/+r/IgA5AAAAOQBbAFsARAAWAEQAOQBEAH0AfQB9ADkAAADq/yIAFgDe/+r/6v/T/6X/pf+O/47/pf+l/7D/sP+w/+r/AAAAABYAAADe/97/3v/q/yIAIgAiACIA6v8AACIAIgAWABYA6v/q/wAA3v8AAAAAx//q/8f/x/8WAAAAFgDq/8f/3v/H/8f/6v8WAOr/6v8iADkAOQBEACIAFgBEACIAFgAWAOr/AADe/97/6v/T/8f/x/+w/8f/x//T/+r/6v8WAOr/6v8WAOr/FgAiACIAOQAWAOr/6v8WACIAIgAWAAAAAADe/7D/sP+8/8f/x//H/wAAAADq/wAAAADe/97/3v/q/97/3v/q/yIAOQAWACIAAAAiAOr/\" type=\"audio/wav\" />\n",
       "                    Your browser does not support the audio element.\n",
       "                </audio>\n",
       "              "
      ],
      "text/plain": [
       "<IPython.lib.display.Audio object>"
      ]
     },
     "metadata": {},
     "output_type": "display_data"
    },
    {
     "name": "stdout",
     "output_type": "stream",
     "text": [
      "TELéFONO   | 116.046 | 548 - 601 ms\n"
     ]
    },
    {
     "data": {
      "text/html": [
       "\n",
       "                <audio controls=\"controls\" >\n",
       "                    <source src=\"data:audio/wav;base64,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\" type=\"audio/wav\" />\n",
       "                    Your browser does not support the audio element.\n",
       "                </audio>\n",
       "              "
      ],
      "text/plain": [
       "<IPython.lib.display.Audio object>"
      ]
     },
     "metadata": {},
     "output_type": "display_data"
    },
    {
     "name": "stdout",
     "output_type": "stream",
     "text": [
      "TELéFONO   | 116.002 | 585 - 639 ms\n"
     ]
    },
    {
     "data": {
      "text/html": [
       "\n",
       "                <audio controls=\"controls\" >\n",
       "                    <source src=\"data:audio/wav;base64,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\" type=\"audio/wav\" />\n",
       "                    Your browser does not support the audio element.\n",
       "                </audio>\n",
       "              "
      ],
      "text/plain": [
       "<IPython.lib.display.Audio object>"
      ]
     },
     "metadata": {},
     "output_type": "display_data"
    }
   ],
   "source": [
    "# Play few audio segments:\n",
    "for i in range(3):\n",
    "    play_align_seg(word_details, es_word, i)"
   ]
  },
  {
   "cell_type": "code",
   "execution_count": 98,
   "metadata": {
    "collapsed": false
   },
   "outputs": [],
   "source": [
    "word_tuples = [(word_details[es_word][\"calls\"][i], \n",
    "                word_details[es_word][\"uttrs\"][i], \n",
    "                word_details[es_word][\"ixs\"][i]) \n",
    "               for i in range(word_details[es_word][\"word_count\"])]"
   ]
  },
  {
   "cell_type": "code",
   "execution_count": 99,
   "metadata": {
    "collapsed": false
   },
   "outputs": [
    {
     "name": "stderr",
     "output_type": "stream",
     "text": [
      "it: 90: 100%|██████████| 100/100 [00:00<00:00, 202.55it/s]\n"
     ]
    }
   ],
   "source": [
    "cost = compute_pairwise_dtw(word_tuples[:10])"
   ]
  },
  {
   "cell_type": "markdown",
   "metadata": {},
   "source": [
    "### Get top 10 matches\n",
    "\n",
    "argpartition reorders indices by moving smaller elements in front of the *10th* largest value, and larger elements after it"
   ]
  },
  {
   "cell_type": "code",
   "execution_count": 100,
   "metadata": {
    "collapsed": true
   },
   "outputs": [],
   "source": [
    "def print_top_k_matches(arr2D, word_details, es_word, k=5, reverse=False):\n",
    "    if reverse:\n",
    "        arr2D[np.tril_indices(arr2D.shape[0])] = 0\n",
    "        ind = np.unravel_index(np.argpartition(arr2D, -k, axis=None)[-k:], arr2D.shape)\n",
    "    else:\n",
    "        arr2D[np.tril_indices(arr2D.shape[0])] = 1\n",
    "        ind = np.unravel_index(np.argpartition(arr2D, k, axis=None)[:k], arr2D.shape)\n",
    "    for i, (x,y) in enumerate(zip(ind[0], ind[1])):\n",
    "        #print(x,y)\n",
    "        x_t = get_align_tuple(word_details, es_word, x)\n",
    "        y_t = get_align_tuple(word_details, es_word, y)\n",
    "        print(\"--------------------\\n Pair - {0:2d}\".format(i))\n",
    "        play_align_seg(word_details, es_word, x)\n",
    "        play_align_seg(word_details, es_word, y)\n",
    "        print(\"{0:<25s} | {1:10.3f}\".format(\"dtw for seg 1 vs seg2\", 1-cost[x,y]))\n",
    "        #print(\"--------------------\\n computing dba\")\n",
    "        mfcc_x = get_segment_mfcc(word_details, es_word, x)\n",
    "        mfcc_y = get_segment_mfcc(word_details, es_word, y)\n",
    "        dba_repr = dba([get_segment_mfcc(word_details, es_word, x),\n",
    "                       get_segment_mfcc(word_details, es_word, y)])\n",
    "        # compute dtw\n",
    "        pair_cost_x, _ = dtw(mfcc_x, dba_repr, doNorm=True)\n",
    "        pair_cost_y, _ = dtw(mfcc_y, dba_repr, doNorm=True)\n",
    "        print(\"{0:<25s} | {1:10.3f}\".format(\"dtw for seg 1 vs DBA\", 1-pair_cost_x))\n",
    "        print(\"{0:<25s} | {1:10.3f}\".format(\"dtw for seg 2 vs DBA\", 1-pair_cost_y))\n",
    "        #print(\"{0:<25s} | {1:10.3f}\".format(\"dtw for seg 1 vs 2\", dtw(mfcc_x, mfcc_y, doNorm=True)[0]))\n",
    "        \n",
    "        '''\n",
    "        print(compute_dtw(get_align_tuple(word_details, es_word, x), \n",
    "                          get_align_tuple(word_details, es_word, y)))\n",
    "        '''\n",
    "    return ind\n",
    "    "
   ]
  },
  {
   "cell_type": "code",
   "execution_count": 112,
   "metadata": {
    "collapsed": true
   },
   "outputs": [
    {
     "name": "stdout",
     "output_type": "stream",
     "text": [
      "Best matches\n",
      "--------------------\n",
      " Pair -  0\n",
      "TELéFONO   | 093.216 | 150 - 221 ms\n"
     ]
    },
    {
     "data": {
      "text/html": [
       "\n",
       "                <audio controls=\"controls\" >\n",
       "                    <source src=\"data:audio/wav;base64,UklGRoQsAABXQVZFZm10IBAAAAABAAEAQB8AAIA+AAACABAAZGF0YWAsAABS/E37TftS/MT8iP1Z/8cACQGWAJYAQQA5/0z+K/5t/qb+Sf8QAJYAtwDHAAkBUQB6/xj/pv4r/ur9iP3q/W3+TP5t/qb+tv45//f+pv62/oX+hf5t/m3+bf5t/kz+pv5t/oX+GP/G/hj/av96/6//av9J/0n/1/5t/sn9R/1H/Sb9iP3Q//gAlf6V/lEACP8m/Uz+CP+F/pX+t/9yACj/iP2I/cn9yf22/pYAawG3AKcAawHVAeD/Jv2k/FL8jvtN+yb9Of8IAEoBuQIWAloBxwB6/0z+6v0r/m3+Wf8wAMcApwCGAFEAn/+G/zn/KP96/xgAIACGAIYASQByACAAOf9J/+f+xv45/2r/ev/Y/0EAhgDHADoBGQHoALcAegDw/+D/t//g/+D/r/9RANgACQEZASkBGQEJAdgAUQAQAAj/QQDaAjAAyf1JANgA9/62/oYAOgFBANgANwIWAvUB1QGTARkBYQCGAKcAYQB6AKcAawGTAegAegBqACgAx//Q/7cAkwHVAZMBkwHHAEkAYQBBADAA6ACTAVcCmQKZArkCVwKTAfgA2ACWABgA4P/w/1kAtwAZAToBSgFKAToBGQHHACkBkwGTAdUBkwE6AWsBkwEpAVoBtAG0AbQBkwGTAZMBWgFKAacAagCGAFkASQDw/8f/OQAwACgApwD4AHsBkwEpAWsBtAFrAUoBkwEJAccAtwBBAIYAQQC//xgAOQByADkAegAJAYYAMABJAEEA2P+O/7//lv+G/+j/8P8wAFkAegCWAGEAegAwABgA0P9Z/2r/Wf85/zn/jv+//5b/4P/w/+j/0P+O/7//lv+///D/ev/o/+j/ev96/3r/hv+//3r/p/+v/5b/hv8Y/0n/9/62/tf+pv6m/oX+bf6V/kz+K/7G/kn/yf3q/Qj/qf0r/lL89/7q/ef+GP8IAHr/Sf/g/0z+Sf+I/Sv+qf2p/Sv+qf3Y/wv++P/3/pX+hgD4AL0GkPWp/XwG/vFAB64DJv3oCKT8MQRaAcb+Zgip/Qv+VwJn/Sv+CP/P+4P8r/+D/Ab9C/4m/Wf9qf22/sr61/5t/iv+5/6G/5X+GAC//0z+jv9t/tf+cgB6/wv+xwBJ/zn/lgDl/Pf+1/5M/gj/qf2zBBYCEfwpAXr/bf4r/oj9hv8L/kf96v1RAEkA+ACTAQv+UQAm/RH8x/8WAjAAxwBrAYX+0P8r/tf+9QFrAYX++gK5AhH8+gUAAOX8kwGD/GsB4wcHD5nqCPRsFornpv7tCR34fBn+8Uj6Bw+z77ME2AAN9TcCcAquA/UB8wrA+GYI7QkI9DwDegw7Bqn9awlXAl0Tig+/2HAK7Qlr4X8NgfL6BZAdZuBn/fQEj+i4BbPvcOLoCLPvnuv9DMX57wNNEAv+fw1YEvMKZxVNEFcCXRNdE00QlR6BGoscai9nFQcPig/VAcD4A/Nr4ZTps+9144bzE/aG80n/SPoD8x34o+yZ6hH8XRMiIZX2UxEdU5kCT8I1vQy1+fAguVOQdvCp/Uz+QSeQHQlPhGfX/iIhy0Jr4Yv01Ny11oQO3t6e65AdUxG9Bl0TYhSaH5M3GPedOR1TltBjxlOQpaB14wy1bcgxBIEHVSudOac76nv0SncFiDUCDnrklfaMznsBifqz73oMkB0pAWIUkB3LQjJXILmINf9/fJg/jCqIDLXU3M6ojM6uAzEEGwMyV/RKgRrzCg31CU9m4BaEq9Rjxn/lo+yK52IUSykD85M3LCMsI0ZbNb0dU/9/KogqiBaEILmMzs6oHfjE/HgCdhjLQq1v/383AmcVmGvjrBaEjM4guaPsv9jtCSIhai/zCrE9CU/qe+p7Nb2Ya/9/U5A/jBaEuqSMzs6omepn/Tn/cRenO29j/39iFF0Tb2M/jCqINb0/jLXWjM5/+JUecReVHjYliDW8P/9/Xy3X/q1vf+UqiBaEKohPwgy1Nb0m/XAKfw3LQkZb/3+Ya+8Dy0LzChaEILn3sDW9a+G11mIUkB0sI5AddDFfLQlP/39t/oscb2MMtSqIKogWhAy1zqhjxkj6jvtiFPRKW1/qex1TcReTN2bgP4w1vQy1jM611qjtgRpsFkEnlR50MfRK/3/qe9D/mGv/f4zOFoQ/jGiUNb3OqLXWTP5N+3wZ9EqYa9Z3ai+VHp0597A/jCC5DLVPwqHSs++EDmwWLCNiFJM3wXP/f0ZblfYdU505zqgqiFOQILlPwjW9Jv1cA00QNiVvY61vBw8iIac7fjM1vRaEjM4guSC5odKK5wcPUxH/Bk0QvD9GW/MKltAiIYRneMoWhM6oKoggueOsT8JN+2YI+AtqL9Z3wXO9BhsDsT1VK7qkKohPwjW9tdaE5pkCIiF0MYQOsT3/f/9//38iIep7/3+MzmiUaJTjrKvUDLXe3r//YhRsFrE9hGfWdzJXhvMiIU0QU5CloM6o97CMztTc/vFNEJAdGwMiIVtf/3/LQjW9CU/LQj+MfJgqiOOsmeq6pDW9E/YCDpUegRpNEHQx4EaKD/MKOwaO/4Yb/vF14/8GdQsT9jsGuQJ3BXEXXRNLKXQxdhhLKWcVig9LKXDiT8LjB3DiDLW11k/CgsyE+Wbg3t7oCPQEawFsFnoMXROVHn8NXRMCDkP5/waVHlUrbBZxF4YbAg6VHhsDodKG85D1bci11ozONb165Kjtytr+8a//NgViFE0QTRCBGoEaixxiFFoB4wfzCjcCkB0iIegAIiEiIVn/IiHP+23IUvyK5yC51Nyr1E/Cmep/5dTcDPuD/NoCXRMCDlMRixxsFnEXTRDoAAcPdQtsFn4z/Qz9DEspVwJdE3EXjM6U6Tn/eMqr1NTcWcR147PvZuCt7vf+NwJNEFMR/QyVHoEaYhRiFDoB4weKD3ULcRc2JVUr6AhwCiwjZ/3e3rXW1NzU3GPGltC11rXWCPSQ9Y/oMQRYEooPbBb9DFgSkB1iFE0QuAUr/msJNwJ2GJ05YhSVHmovyvpsFq//eMpBAMraDLX58E/C46yGAI/ov9j9DOX8Ag5LKf0MixwiIWcVkB1NEJX+OgExBHsBLCOxPV0TNiV0MdUBNiWGG0/Ca+Go7SC5jM54yiC5iuez74rnOgFwCnEXQSd2GJAdQSd8GWwWig8T9hH8rgOa9zYldDHoADYlNiXl/H4zSPoMtcD4ytrOqL/YRMAMtZX2meqE5nAKcAqLHF8tfBksI2ovixx2GFgSmvf0BO8DGACdOVUrQAedOYEahPl0MWvh46zVAaHSzqhr4SC5Nb0G+mbgeuT9DIEHgRpBJ1MRLCNLKWcVkB11C63uQAfVAbgFsT2LHBYCpzs2BTsGiDVjxmPGTRA1vSC5f+UMtYzOhv/e3p7rhA7oCCIhIiECDiIhLCNnFXwZuAUd+OMHK/5iFJ05egx2GJ05HfiBGmovT8LK2hAA46xjxr/Yzqje3hH81NwN9WYIOwaBGnwZBw+LHIYbUxEHD8/7E/azBE37NiWINbb+Syl0Mf7xXy1NEAy1CPR28OOsodK11gy1o+zA+MraVwJNEHAKLCOBGl0TIiF2GE0Q7QkB+X/4uQKuA18tNiUpAX4zgRod+H4z1Nz3sPgLltDjrN7eRMAguRj3lOlr4egIegwCDiwjdhhsFiwjdhhNEGYIHfhcA1cCXRN+M+0JXROdOSb9cReINW3ItdazBAy1Nb1r4Qy1q9Sk/Gbgo+z4C3AKfBkiIWIUgRosI2wWig9KARj3eAIxBCwjSymzBFUrQSez70spMQQMtcX5o+zjrMraodIMtajtBvrK2lL8WBL4C4YbIiFdE4scNiVsFnULFgJcAxYCfBl0MfMKlR6xPcD4ZxWINU/CWcRwCnjK46y11mPGtdauA6PsiudiFHwZWBKLHHYYXRMiIWwWBvrl/Mr6mveV/l8ty0ICDlUry0I7BnYYhOaRnKPsre66pG3Itdah0u0J5fyo7ZUefjN2GE0QbBZYEnEXvQZ/5YbzC/4D84rnTfu8P1tfcRe//8tCiDVYEr/Y46yK5/oFRMDjrMraj+joCEAHz/sJT4Rnhht2GH4zlR5iFITmT8L58K3uq9S11gj0XRPLQh1TltA2JdZ3RMBPwuOsfJh1CyC5KoiK5xj3mepwCkspW1/qe5AdIiHBc00QjM7K2m3I1Nze3lnEqO3A+Kb+CU+tb2ovDfX0Sog1DLVjxuOsILne3iC5ytqp/cX5WBL0Sq1v/3/Wd4Yb4EaVHqWggszOqLqkytqMzpnqDPvA+H4zwXPX/s6oW1+Yaz+MKoholJGcZuDjrKvUGP8N9V0TnTn/f/9/YhSuA0ZbkzfjrPew97BolIzOltCt7kj6uAVNEJhrrW9141Ur/3/K2lOQP4xTkFnERMC11ikBegxnFeBGwXPqe/9/QSf0SoRnodJolCC5kZz3sJbQv9gWApD1Zgj0SsFzSynjrAIOb2N4yiqIKoholOOsILmL9IQOawmINf9//3//f+BGhGfqexj3U5BPwgy1DLWh0tTcSPr58OgICU/qe1tfbchdE61vRMA/jFOQKoiloPewZuCf/1cCQSf/f/9//3+Ya0Zb/3+E5iqIbci6pM6oWcSW0HbwDfVcA4YbwXOYa1nEIiHqewy1FoSRnD+MkZxjxrXWPAP4CzYl/3/qe/9//3/gRq1vWQA/jDW9Nb18mAy1q9TK2m3+f+WVHvRKfAauA5TpHVNfLRaEP4w/jBaERMA1vUf9+gV2GFtf/3//f/9/wXPqe2IUpaBTkG3IaJR4ynXjre64BTn/dDEdU2cVRlt28EEnwXM1vSqIKogqiLqk97De3obzCPTLQoRnLCNvY61vsT1qLwPzkZy6pPewltBr4Zr3UxFiFEsprW//f/9/Bv1GW/9/hOZTkHyYfJhPwjW9dvCI/QIOIiHqe/9//3+EZ5M3MQTjrCqIaJRTkHjKv9iU6TYFtwBqLyIhcRdvY57rpzv/f3jKKog/jCqIzqgMtcraev/oCJM3y0J2GNZ3/39iFKn9tdZolCqIDLWMzn/lhPnoAFUrIiHLQm9j/39+M2r/1neo7SqIFoQ/jM6oNb3e3mbgYhR8GQlPhGdNEJhriDWr1Jr397A/jM6oDLVm4HbwkwFLKXEX9EoJT2ovrW9YEoRn/3+MzmiUFoQ/jOOsbciK58D4NiX0SuBGXROtb61vuAVD+SC5uqTjrOOstdZr4dj/+AAsI2IUdDFvY/9/fBmL9EZbEfw/jCqIKohTkOOsWcR4ysr6fjMdU29jb2MdU0Zbai9tyCC5f+V/5avUa+HF+VgSIiF2GIEay0L/f9Z3iudfLUZbltCRnCqIKojjrCC597BjxtoCSyl0MZ05LCNqL+BGmh+U6Y/oKACj7JTphvNI+vMKZxUHD5AdRlvqe1UrZxUsI5D1q9QMtWiUU5A1vZbQeMqo7TsGZxVBJ1UrIiE2JV8tXRN1C1gSdwXl/CkBpwDq/XoMUxGLHLE9fjNmCHwGGP+h0rXWbcj3sDW9eMq11t7egfLG/mYIfBmLHIEalR6aH3wZTRAHD3oM+AvtCfgLWBKVHiIh8wpAB0z+iuez72bgT8KCzL/YodJr4ajts+8bA/gLegx2GJofkB1nFVMRTRD9DE0QhA51C10TLCOLHAcP/Qw2BZX2gfKe69Tc1NzK2r/Ya+GU6aPslfb6Au0JTRBiFGIUYhRTEVgS8wrjB00QdQtdE3EX8wrjB3cF1QGuA8r6re6o7Y/ocOJw4nDilOmz7/nwUvyuA+gIAg5NEF0TZxVTEVMRbBZiFPMK+AtTEXULfAYbAwz7hPkY9w31GPcD87Pv+fCz7wPzi/T+8Zr3R/1N+9oCdQvjB2YIhA5/DU0Qig/9DFgSTRB1C2sJCQHF+UP5SPoT9obzCPSz73bwE/YD80P59QHF+X/4swRKAUf99AS9BrkCZgh6DOMH/Qz9DHoM8wqBBwcPfQNN+8n9gfID8/nwre7+8bPvgfKG84n6pv7q/Tn/av9yBFcCmQIxBKn9dwV1C9UBOwbzCvQE+AvoCK4DgQcWAtUBifqG8xP2dvD58IHygfKL9A31Q/nA+Lf/QAc3ApMBPAMxBBsD4wfjB2f9gQf9DOgAvQbzCtf+WgE7Bij/Jv0d+APz/vH58H/4GPd28JX2SPpD+YX+fQPaArcAav8WAoEHfAYI/+j/awnzClwDFgJmCIEHeAKzBHr/TfuO+5r3E/b58HzxQ/nA+IT5xfkd+IP8NwJrARH8SgHzCrQB1QHoCFcCuAU7BtoC1QFrCXoMyvqv/2YIjvsT9sD4DPsN9ZD1yvoY95X2f/gd+In6eALP+/D/6AjP+64D/Qzw/4EHegwxBHwG7Qn/Bn0DYQBhAFwDGP/q/U37E/Yd+B34SPqa94v0wPgr/vgAhPmJ+vQEfQM2Ba4DGQHoCO0JBw8CDpkC6Aj4CxsDswSuA+8Dxfmz7wb9g/wI9B34E/YI9MX5xPzK+gv+/wb6BWf9dwUCDjsGgQdrCUAHTRDtCXwGBw+BBzYF8wrVARH8Tfv+8YbzgfKe65r3Hfio7R34pv5N+23+MQSBB2sJ4wc7BugIfAboCAIOcAroCOgIBw/9DDsG8wq4Bc/7lfYY9wj0gfId+P7xE/Yd+P7xjvvF+X0DWBJt/sf/YhQ2BQkB+AvoCIoP7Qm9Bl0TawmBB/0MlgCV/gb9s++z7/7xdvAY9wPz+fCQ9Q31jvtRALQBvQb0BAAApwAHD1gS6AhrCXAKawnzCoQOBw/4C3wGQ/kY9x34fPGz76Psnuuo7XbwDfWV9sr66v3l/Ab9NgVTEXoMgQcCDu0J9AT4C4oPUxFNEGYIBw9sFuMHmvcD8/7xqO2j7LPvre6o7Znq+fCO+5X2EfzjB3sBfQMCDnwG9AT9DOMHuQJwCu0JTRB2GE0QcAphALPvre6z76Psmep145Tpo+yo7Yv0i/S2/uMHXAO4BbgF+AuKD+0J7Qn9DAIO6Aj4C3wZcRdYEnAKlfao7ZTpj+ie64Tma+GE5qPsre4N9Yn6z/uuA7ME7QkHDzYFawlTEXoM8wrzCooPfBmVHnEXAg45/7Pvnut143DilOl/5X/lmeqe6/nwifrq/ccA4wdmCP0Mig/9DGsJ/wbjB2sJUxGBGoscfBlxF/8G+fCe63Di3t6E5nDicOKK55nq+fDA+Kn9MQTtCe0Jfw0HD/MK8wroCHoMAg4HD3wZLCMiIYEa6AiG84rnZuDe3oTmeuRm4Hrkf+X58BH8tv7jB00QegwHD1gSig9YEvMKuAXtCYQOhhtBJ0EnNiX4C6Psa+HU3N7edePe3tTcdeOK5wj0hv8bA+0JTRD9DAIOYhRNEP0MawlrCeMH+AuLHEEnXy1LKYQOs+/e3r/Y1Nxw4nXj1Nze3pTpfPEAAEAH+AtNEAIOWBJdE00QWBLjBzwDdwWzBFgSIiFLKUspWBJ88bXWjM611mvh3t6/2N7eiucN9X0Dawl1C2wWdhhsFmIU/QxNEPgLrgO9BmsJcRdLKXQxiDWBGgPzytqMzrXWf+WK52bgZuBw4n/4cAr4C2IUcRdYEmIUUxHtCfMKMQRH/TkAyf3tCZAdXy1+M4QOhOah0njKltBr4XDiv9hr4XXjhPlNEFgSfBmBGmwWgRpYEk0Qfw07BmsBCP93BWIULCOINYg1dhiU6W3IRMCMztTc3t6/2N7ea+EY9/MKXROQHWcVUxFsFlgSBw9/DVcCg/yk/DcCYhRVK6c7pztsFnDiWcQ1vW3I3t7e3ozO1Nxm4B34UxFiFJAdfBlnFZAdig8CDnoMmvdD+VL8EfxNECIhkze8P3EXiud4yiC5T8K/2NTcjM6MzmvhAfl/DXwZIiGLHGwWhhtiFFMRhA5BAKT8HfgG/VMRQSexPeBGNiWo7W3INb01vZbQltBtyILMq9Sz7wcPfBlBJ0EnfBmVHoEaXRNTEXgCwPjF+cD4awlVK7E94EZ0MY77ytpZxCC5Y8aMzmPGWcSMzoTmQAeBGpAdIiGGG4YbhhtNEH8NcgSa95X2E/Y5/3YYkzf0SstCcRd/5ZbQbchjxnjKbch4yoLMa+ExBIscNiU2JSIhmh8iIXYYXRPoCJX2/vH+8Q31/Qx0MfRK4EYsI7PvgsxPwmPGY8Y1vTW9Y8be3pX2bBZBJ0spSykiISIhIiFnFf0MmvcN9Rj3fPGzBF0TiDUdU4g1WBLe3mPGeMpPwlnENb01vbXWnuv9DCwjVStfLVUrSylfLUEnWBKuA4bzgfII9A31+AtqLwlP9EpLKZr3gsx4ykTANb01vQy1WcTK2hj3fBkiIUEnVSssI0spXy1iFOgIf/io7YHyre7VAYEakzcyV6c7XROK54zOodJjxkTADLU1vdTco+wCDjYlIiFLKVUrSyl+Mywj7QnHAP7xo+wD83zxegB2GJM39EpqLw31odKh0mPGNb0Mtc6oWcTe3pX2bBYiISwjQSdLKYg1dDF8GfgLyf2z75X2fPET9vMKnTkdU7w/QSez76HS1NxPwk/C97C6pHjKj+hKAXEXgRosI2ovai90MUspawlJ/wj0nuv58K3uBv02JfRK4EZfLSgAytpw4oLMNb01vbqkILnU3HzxegxiFGwWVSt0MX4zkzd2GK4DE/ao7Q31qO3+8VMRiDXLQnQxXRPe3t7eZuBjxjW9zqgMtb/YlOm4BX8NYhQ2JWoviDWINSIhegzP+wPzA/Oo7f7x1QEiIac7VStYEp7rZuCe65bQRMD3sAy1tdaU6U37/Qx/DSwjai+dObE9LCNnFeMHJv1S/BP2Q/l/DWovVSuBGugIZuCt7t7eT8JPwuOsRMC/2ITmEfzK+jYFbBYsI3QxdDEiIXEXdQsm/Uf9BvowAFgSXy1LKYoP5fyU6aPsnuu11oLMNb2h0ornqO1M/joB/waBGiwjVStLKZofcRf4C1wD7wMgALgFYhSLHGcV6AjK+gPzlfae63Div9iMzrXWdeOK563uA/NcA1gSkB02JZUefBlnFYQO/QztCe0JegxYEoEa4wez77PvUvyz73rkcOK11tTchOaP6LPvs+8Y9/oFBw9xF4sccRdYEmIUXRNsFmwWlR5LKVgSyf3jB1cCUvwY93rka+F65N7ev9hr4ajtmeqG8zn/ewFNEGcVUxFdE2cVbBaBGiwjiDVBJ2YIWBLoCEf9fQN149Tcj+jK2qvUtdaE5pnqiucY9wb6gQdnFU0QUxFiFHYYkB0sI6c7nTlYEmIUcReWAHwGDfW11nrk1Nx4ypbQytqK53/lo+wd+Gr/UxFNEP0MUxFTEXwZmh90MctChht6DCIh7QkxBBsD3t5w4nXjgsx4yrXWeuR145TpHfgY/00QXRP9DIoPTRBsFoEaai/gRoEa7wOLHP0MtAExBGvh1Nxr4YLMbcir1N7ea+GK55X2C/79DF0ThA74C00QdhiVHqc74EbzCnr/ixz4CzYFTfvK2sraa+Gh0mPGtdaK53Xjs+8d+LcAXRMCDu0J/QxNEIEaLCOxPbw/7Qkm/XEX6AjA+APzv9ir1HXjltB4ymbgeuSU6ZX2g/wCDk0Q7Ql6DOMHUxGVHn4z9EpBJ0P5TP5iFFwDqO2Z6qvUv9h/5XjKodKK557rSPqp/egIcRf9DH8NcArjB4scNiXLQuBGig+o7Yn6bBbK+t7ev9hPwsraf+WMzt7ehOYT9voF4wdnFU0Qig/tCXIEdhgsI5M3sT1LKXIEeuSJ+rgFf+XK2mPGgsxw4t7ef+WK53bw+AtdE4scgRoHD38NcApnFUEnpzudOZofegyz7/nwmvd/5dTcT8J4ynXja+ED857rs+/tCVMRLCOBGv0McAq9BnwZVSt0MVUrig9N+5X2Bvqo7bXWgsxZxKHShOaz7x34kPWTAVMRgRpLKYEa/QxNEFMRQSeINV8thhtJAAPzifr58N7eltBPwoLMcOKz7xH8AfmO+3ULYhQiIZofhA4HD2wWLCOINVUrWBIY96PsQ/mo7b/YjM5jxqHSiucY91wDhf6uA10ThhsiIYEaUxGGGywjiDV0MYscfAaZ6p7riue11qHST8KW0Irno+zq/XgCswSKD10TixxsFlMRhhsiIYg1kzeVHugIs++e65TpodKh0m3IltCK56jtMQTjB0AHXRNNEGwWTRBsFjYlsT0JT2ovYhSz73/lj+h4ylnEILk1vcraj+jaAugIfAYCDmwWNiWaH2IUYhT9DHwZNiUsI2wWA/N143DideOP6HDiytp146jttv7jB/QEGP8Y98/7dQtfLTJXCU90MeMHa+EI9ITmWcQ1vfewT8Kr1Hzxfw3jB1gSbBaLHEspLCM2JXwZcReVHoEahA6o7ZbQltC11nXjo+yU6QPzz/tAB10T/QzVARP2jvtdE6c7RlvLQiwjA/PK2p7rv9h4yiC546x4yt7epPxYEn8NTRBYEl0TIiE2JTYlLCN8GXwZTRAD89TcjM6h0tTca+Go7bPvz/uzBH8N/QwxBMn9tAF2GLE9MlfLQpofmerK2nDiodJjxgy1DLWW0HrkcgRiFAcPWBJ1C2IUXy10MX4zai98GXULhvPK2rXWjM6/2NTcZuAD82f9egxNEHAKZgg5/38Nmh+nOzJXpztNELPvj+h65IzObcg1vU/C1Nyj7GsJXRP4C38NdwWBGnQxnTnLQn4zZxUY97/Ytda11qHSq9Sr1HXji/ToCGwWdQu4BTYFUxF0MTJXMld+M0z+1Nze3rXWq9RjxiC5eMre3s/7dhh2GAIOgQdYElUrsT1bXwlPbBYT9rXWgsze3rXWjM611t7eE/bzCmcVUxHoCO0JdhiTNzJXRltfLajteMqW0JbQltCMzjW9jM5/5bQBdhhYEvMKUxGVHstCmGtvY18tA/N4ynjKtda11pbQeMqr1JTpcgRsFnEXhA5NEJAdvD9vY0ZbNiVw4jW9WcSMzqvUeMpEwKvUnutAB3YYbBZ8GZofXy0dU5hrCU9xF7/YNb1jxpbQq9SMzoLMytoI9GsJXRNYEmwWlR6INTJXMldqLwj0WcRjxoLMltCMzm3IodKK51oBUxFxF4scLCN0MfRKb2P0Sl0TytpPwmPGjM611pbQodJr4QPzuAWEDmcVhhs2Jac7CU/0SlUrA/Njxm3IeMqW0JbQgszK2pnqBv3zClgSkB0iIX4zHVMJT34zrgOMzlnEbciCzKvUjM611ornkPVABwIOcRciIV8ty0L0SrE9bBZr4W3IeMqCzKHSq9S11nDiCPT4//MKcRciIVUry0L0SstChhuU6ZbQbch4yqHSltC11nDis+/P+/8GUxGVHlUrvD/gRp05hhue65bQjM6MzqvUtdbK2nXjre5M/mYIcRc2JV8ty0LgRp05dhio7avUodKW0KHSq9S11nDis+8B+XwGZxUiIWovpzvLQn4zfw2K56HSodKr1LXWtdbe3pTpi/SO++gIdhg2JYg1vD+nO0sprgOK57/Yq9S/2NTcytp146jtlfYAAH8NkB1LKYg1pzt0MXYYhvNr4dTcq9S/2Mra1NyK53bwHfhyBGcVLCN0MZM3fjM2JbgFo+xr4d7e3t7K2t7ef+X58B34uQJTEZUeVSt0MX4zSylTERP2hObe3t7e3t7e3oTmre4I9KT8Zgh2GEEnXy1fLTYlWBJS/KjtdeN142vha+GE5p7rgfJS/P8GcRc2JV8tXy0iIWIUFgJ88YrndeN/5YTmiueo7Yv0TftAB2cVIiFLKUEnmh9YEnIAA/OZ6n/lf+WK557rs+8N9U37gQdiFCIhNiUsI3YY8wpS/APzmeqK54rnhOaz75D1hPlyBP0MbBaLHIYbdhiEDngCxfn58KPsqO2j7HbwDfUd+BYC6AhTEXEXYhRiFAIO9ARM/pD1gfL58K3uA/MN9cX5agC9BgIOig9/Df0MawkxBPD/BvrA+Iv0gfIN9ZX2z/sQAK4D/wZAB2sJ7QlAB3IEt//P+0P5mvd/+IT5SPrq/bb+WgE2BXIEOwa4BXgC1QHG/s/7z/vA+MX5UvxS/L//KP/Q/5kC1QHVAWsBx/9Z/xj/Of/G/kz+R/1S/OX86v2n/+D/hv+GAJ//Wf9BAG3+ev9BAEz+x/96/+r9lf7l/Ef9qf0m/W3+qf2p/er9C/45/xj/t/8AABgA6AC3/xj/1/5n/cT8Bv0G/er96v1n/W3+hv8wAFoBSgEJAacAav9RAIb/C/7q/RH8z/tM/sb+hf5t/oP8Jv3Q/2EA1QEpAQj/+P/4/zkAQQAr/qn9Z/1n/ab+tv56/wgACP8QAMcA6ADVARkB+AD4/23+TP6p/YX+ev/n/p//GAAwAOgACADw/xAAhgBrAUEAjv8I/+r9CP96/2r/CP/X/rf/egBXAtUBCQG0AegAWgFrAZYAEABM/sn9TP45/9UB9QGGAJMBGQHHAFcCagDH/5YAv/9RAHoAMAD4/2r/CADHACkBGQFaAXsBCQHoAPgACADg//gACQFKAbQB6AD4AIYAlv9rAXgCFgIWAugACQFrAdD/GQGnAEkA9QEgALcAkwGGANUB2ACGAJMBpwD1AbkCeAIWAqcAegDHAAkBFgLHAND/KABq//gAewFrAdoCxwCnABYCxwAJAccAcgApAQgAUQBKAdgAFgLVAbcA1QFyADoBuQLoAPUBCQHHAJkCpwDHABkBOQBXAmsB+AAJAUn/pwByAOD/1QH4ALcA6AAwAAkBcgBhAIYA+P8wAFn/Of8AAIYAhgDw/9D/hgBKAWsBGQGf/7f/+AAIANj/Wf/X/jAA8P+WAOgA8P+nAMf/Of8QAFn/r//g/zn/+P/o/5//xv5t/oX+KP+G/7f/QQAgAEEAx//X/ob/r/8QAK//bf7X/uf+lf6V/m3+bf56/7cAKADoACAA5/6W/0z+TP62/gv+tv6V/rb+pv5t/qb+lf5J/xAA8P/w/9f+K/6V/ij/av9t/qn9K/7X/kn/9/73/m3+K/73/sb+p/+v/yv+hf5t/kz+CP/X/qb+bf6V/uf+bf45/wj/1/4wAGr/GP+//yj/GP+2/oX+9/73/pX+C/5M/kz+TP62/m3+pv6W/xgAagBRAIb/2P9q/0z+TP5t/kz+pv4I/9f+CP/w/5b/t/8IADn/Of85//f+GP/G/uf+1/7X/nr/Of85/7f/Wf/Q/7//Sf/Q/47/ev9Z/2r/4P+3/yAACAAwAHoACAAoAL//lv+//7f/8P85AGoAKABhABgA4P+nAND/v/9BAPj/hgDg/7f/hgC//wgA2ACnADoB6ADw/2EAlgBRAFEAIADg/8cAKQGnAFoBGQEAALcAtwCWABkBlgBBANgAOgFKAZMBSgGnAFoB9QE6AUoB+ACGAEoBSgF7AdUBGQEpAZMB+AD4AAkBxwCGAMcAtwD4AGsB6ADHACkB+AA6AXsBOgEpAZMBWgH4AGsBWgEJAbQBOgH4ALQB+ADoACkBpwBKAToBOgHVAWsBWgF7AUoBSgEJAegAtwB6AKcAcgAgAKcAhgBZANgAtwByAIYAtwDYAPgA6ACnAMcApwCWALcAhgAwAHoAxwDoABkBKQEJAUoBOgHYAOgA+ACGAGEAWQDHALcASQCGAEkAhgCGACAAWQAQAAAAUQDo//j/MADg/yAAOQDH/8f/GAAgABgAGAAYAJ//r//g/6f/av+v/7//p/+v/6f/r/+G/6//2P96/6//av9Z/6//r/+//5//Sf+O/5//KP85/1n/KP9J/xj/1/4Y/yj/Wf/G/uf+KP/3/hj/1/7G/ij/GP/X/qb+5/73/uf+9/7X/vf+1/6m/sb+CP85/8b+tv4I/xj/CP+2/rb+5/4I/5X+lf6V/qb+5/73/vf+lf6V/oX+lf7n/pX+lf73/gj/9/4Y//f+tv62/rb+GP8I/9f+9/73/vf+5/4I/yj/KP8Y/9f+9/7X/vf+Of8Y/7b+pv6m/rb+pv7X/gj/1/7X/ij/Wf85/wj/Of9q/wj/GP96/3r/KP96/5//Of+f/6f/Sf9J/0n/av+//7//2P/H/+D/0P+O/7f/hv96/+j/4P+f/9j/EACW/5b/jv+v//j/r//H/wgAKAAQAMf/CADQ/6f/2P8QACgA0P8gAEEA0P+//+D/2P9BADAA+P8gAFEAMADw/ygA6P/g/zAA4P85AEEA2P8gANj/v//Y/xgAMADQ/8f/EAAYAL//n/+//wAAIAC3/6//r/+//7//0P8YAEEAMADw/+D/OQDo/zkAUQDw/0EASQBhAEkA+P8wAPj/8P8wAEkAOQDg/8f/x/+//7f/2P8AAOD/AAAwABAAKAC//wgAKAC3/7//r//Q/8f/v//H/8f/OQAgAPj/GADo/yAAOQBBACAA8P8IAPD/AADw//j/2P+v/7//t/+//9j/EAAwACgAMADQ/8f/2P8gAEEA2P8wADkA6P/o/zkAUQBRAEkA8P85AFkAQQAAAMf/AAAYAPj/t//w/xAA0P8gACAAMAAQANj/+P/Q//D/x/+f/7//n/+3/6f/t/+//xgAKADg/7f/6P8gAEkASQBJAPD/OQAAAPD/WQBBAGoAQQAAANj/6P/H/+j/IADg/xAA2P+3/ygAEADQ//D/0P+W/9D/AADQ/wgAx//H/xgA2P+//+D/IADQ/9j/IADw/xAAUQAYAPj/CADw/wgASQAwAOj/0P/g/zAA4P/w/zAA8P/g/zkAQQBZAEEA+P8gAFkAMABhACgAAAAQAAAAr//w/xAA4P/Q/xAA0P+v/7//p//Q//j/0P8IADAAGAAwAMf/0P8QANj/t//Q/7//x/+3/+D/GADg/xAASQDH/9j/IAAwACgA0P/Q/7//6P8gAPD/v//o/zkAWQBBADkA8P/H//j/KAAAACgAUQA5AOj/6P8gAEkAOQDo/7//2P/Q/ygAOQDY/9j/IAAwACAAMADH/8f/EAC//7f/r/+//xgAt//Q/wgA0P8QADkAt//Q/7f/2P8wAEEAOQDg/+j/KADo/ygA6P/g/0EAMABRACgA+P8AAAAAAAD4//j/8P8AAOj/p/+//7//GAAgABgAKAAoACgA0P+v/9D/x/8oADAA4P8gADAA6P8gAFkAx/8AABAA+P8YAFEAMABBADAAOQDQ/9D/GADQ/7f/t/+v/xgACADQ//D/v/8AABgAv/+f/+D/+P/o//j/+P8AAAgAGAAAADAAWQAAAAAAUQBRAGEAUQBhAEEA8P8oAA==\" type=\"audio/wav\" />\n",
       "                    Your browser does not support the audio element.\n",
       "                </audio>\n",
       "              "
      ],
      "text/plain": [
       "<IPython.lib.display.Audio object>"
      ]
     },
     "metadata": {},
     "output_type": "display_data"
    },
    {
     "name": "stdout",
     "output_type": "stream",
     "text": [
      "TELéFONO   | 093.227 | 182 - 224 ms\n"
     ]
    },
    {
     "data": {
      "text/html": [
       "\n",
       "                <audio controls=\"controls\" >\n",
       "                    <source src=\"data:audio/wav;base64,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\" type=\"audio/wav\" />\n",
       "                    Your browser does not support the audio element.\n",
       "                </audio>\n",
       "              "
      ],
      "text/plain": [
       "<IPython.lib.display.Audio object>"
      ]
     },
     "metadata": {},
     "output_type": "display_data"
    },
    {
     "name": "stdout",
     "output_type": "stream",
     "text": [
      "dtw for seg 1 vs seg2     |      0.852\n",
      "dtw for seg 1 vs DBA      |      0.857\n",
      "dtw for seg 2 vs DBA      |      0.994\n",
      "\n",
      "\n",
      "--------------------\n",
      "Worst matches\n",
      "--------------------\n",
      " Pair -  0\n",
      "TELéFONO   | 054.076 | 54 - 112 ms\n"
     ]
    },
    {
     "data": {
      "text/html": [
       "\n",
       "                <audio controls=\"controls\" >\n",
       "                    <source src=\"data:audio/wav;base64,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\" type=\"audio/wav\" />\n",
       "                    Your browser does not support the audio element.\n",
       "                </audio>\n",
       "              "
      ],
      "text/plain": [
       "<IPython.lib.display.Audio object>"
      ]
     },
     "metadata": {},
     "output_type": "display_data"
    },
    {
     "name": "stdout",
     "output_type": "stream",
     "text": [
      "TELéFONO   | 027.043 | 224 - 270 ms\n"
     ]
    },
    {
     "data": {
      "text/html": [
       "\n",
       "                <audio controls=\"controls\" >\n",
       "                    <source src=\"data:audio/wav;base64,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\" type=\"audio/wav\" />\n",
       "                    Your browser does not support the audio element.\n",
       "                </audio>\n",
       "              "
      ],
      "text/plain": [
       "<IPython.lib.display.Audio object>"
      ]
     },
     "metadata": {},
     "output_type": "display_data"
    },
    {
     "name": "stdout",
     "output_type": "stream",
     "text": [
      "dtw for seg 1 vs seg2     |      0.666\n",
      "dtw for seg 1 vs DBA      |      0.698\n",
      "dtw for seg 2 vs DBA      |      0.994\n"
     ]
    }
   ],
   "source": [
    "print(\"Best matches\")\n",
    "ind = print_top_k_matches(cost, word_details, es_word, 1, reverse=False)\n",
    "print(\"\\n\\n--------------------\")\n",
    "print(\"Worst matches\")\n",
    "ind = print_top_k_matches(cost, word_details, es_word, 1, reverse=True)"
   ]
  },
  {
   "cell_type": "code",
   "execution_count": 30,
   "metadata": {
    "collapsed": true
   },
   "outputs": [
    {
     "name": "stdout",
     "output_type": "stream",
     "text": [
      "[[ 0.     0.218  0.27   0.334  0.25   0.268  0.234  0.255  0.248  0.322]\n",
      " [ 0.     0.     0.228  0.202  0.267  0.21   0.207  0.255  0.233  0.247]\n",
      " [ 0.     0.     0.     0.299  0.304  0.277  0.293  0.278  0.257  0.229]\n",
      " [ 0.     0.     0.     0.     0.261  0.202  0.254  0.29   0.267  0.247]\n",
      " [ 0.     0.     0.     0.     0.     0.148  0.173  0.249  0.326  0.25 ]\n",
      " [ 0.     0.     0.     0.     0.     0.     0.164  0.274  0.292  0.198]\n",
      " [ 0.     0.     0.     0.     0.     0.     0.     0.231  0.205  0.265]\n",
      " [ 0.     0.     0.     0.     0.     0.     0.     0.     0.217  0.243]\n",
      " [ 0.     0.     0.     0.     0.     0.     0.     0.     0.     0.265]\n",
      " [ 0.     0.     0.     0.     0.     0.     0.     0.     0.     0.   ]]\n"
     ]
    },
    {
     "data": {
      "image/png": "[encoded data removed]",
      "text/plain": [
       "<matplotlib.figure.Figure at 0x117ef7588>"
      ]
     },
     "metadata": {},
     "output_type": "display_data"
    }
   ],
   "source": [
    "# plt.imshow(cost, cmap=\"summer\", interpolation='nearest')\n",
    "# sns.heatmap(cost, annot=True, fmt=\".1f\")\n",
    "sns.heatmap(cost)\n",
    "print(cost)"
   ]
  },
  {
   "cell_type": "markdown",
   "metadata": {},
   "source": [
    "### Use prototypes for sub-proto-clustering"
   ]
  },
  {
   "cell_type": "code",
   "execution_count": 69,
   "metadata": {
    "collapsed": false
   },
   "outputs": [
    {
     "name": "stdout",
     "output_type": "stream",
     "text": [
      "LINGUISTICS 089.177 535 563\n",
      "LINGUISTICS 089.177 563 625\n",
      "JOHNNY 070.147 182 200\n",
      "EXPLAIN 048.072 701 764\n",
      "EXPLAIN 066.042 190 246\n",
      "EXPLAIN 078.133 583 640\n",
      "EXPLAIN 082.070 660 709\n",
      "EXPLAIN 083.200 648 703\n",
      "EXPLAIN 089.007 13 35\n",
      "EXPLAIN 089.007 131 247\n",
      "  117608  470432 2367875 ../antonissameer/week2/prototypes-subtrain-goldVAD-bin/details.txt\n"
     ]
    }
   ],
   "source": [
    "!head -n 10 \"../antonissameer/week2/prototypes-oracle-bin/details.txt\"\n",
    "!wc \"../antonissameer/week2/prototypes-subtrain-goldVAD-bin/details.txt\""
   ]
  },
  {
   "cell_type": "code",
   "execution_count": 55,
   "metadata": {
    "collapsed": false
   },
   "outputs": [
    {
     "name": "stdout",
     "output_type": "stream",
     "text": [
      "117608\n"
     ]
    }
   ],
   "source": [
    "proto_details = {}\n",
    "instances = 0\n",
    "with open(config['proto']['instance_details'], \"r\") as f:\n",
    "    for line in f:\n",
    "        line_items = line.strip().split()\n",
    "        proto_name = line_items[0]\n",
    "        if proto_name not in proto_details:\n",
    "            proto_details[proto_name] = []\n",
    "        instance = Instance(line_items[1], int(line_items[2]), int(line_items[3]))\n",
    "        proto_details[proto_name].append(instance)\n",
    "        instances += 1\n",
    "print(instances)"
   ]
  },
  {
   "cell_type": "code",
   "execution_count": 73,
   "metadata": {
    "collapsed": false
   },
   "outputs": [
    {
     "name": "stdout",
     "output_type": "stream",
     "text": [
      "               proto | # instances\n",
      "                SAYS |        118\n",
      "                TALK |        118\n",
      "               SINCE |        114\n",
      "               MONEY |        111\n",
      "                 DAD |        111\n",
      "             HUNDRED |        111\n",
      "                EVEN |        108\n",
      "               HELLO |        106\n",
      "             ANOTHER |        105\n",
      "                 GOT |        105\n"
     ]
    }
   ],
   "source": [
    "en_stop_words = set(nltk.corpus.stopwords.words(\"english\"))\n",
    "proto_sorted_by_instances = [k for k, v in sorted(proto_details.items(), \n",
    "                                                  reverse=True, key=lambda t: len(t[1]))\n",
    "                             if k.lower() not in en_stop_words]\n",
    "# proto_details[es_word]\n",
    "k_start = 75\n",
    "k_end = k_start + 10\n",
    "print(\"{0:>20s} | {1:>10s}\".format(\"proto\",\"# instances\"))\n",
    "print(\"\\n\".join(\"{0:>20s} | {1:>10d}\".format(k, len(proto_details[k])) \n",
    "                for k in proto_sorted_by_instances[k_start: k_end]))\n",
    "# en_stop_words"
   ]
  },
  {
   "cell_type": "code",
   "execution_count": 74,
   "metadata": {
    "collapsed": false
   },
   "outputs": [
    {
     "data": {
      "text/plain": [
       "[Instance(uttr='058.140', start=24, end=56),\n",
       " Instance(uttr='058.140', start=114, end=144),\n",
       " Instance(uttr='048.145', start=78, end=113),\n",
       " Instance(uttr='048.145', start=156, end=188),\n",
       " Instance(uttr='063.046', start=806, end=840)]"
      ]
     },
     "execution_count": 74,
     "metadata": {},
     "output_type": "execute_result"
    }
   ],
   "source": [
    "proto_details['HUNDRED'][:5]"
   ]
  },
  {
   "cell_type": "code",
   "execution_count": 138,
   "metadata": {
    "collapsed": false
   },
   "outputs": [
    {
     "name": "stdout",
     "output_type": "stream",
     "text": [
      "       uttr = 058.140, duration (ms) = 320        \n",
      "   es alignment | PICO DE PESOS, DUR: 700 ms\n",
      "       es words | CIENTO Y PICO DE PESOS CIENTO SESENTA Y PICO CREO\n",
      "       en words | HUNDRED SOMETHING DOLLARS ONE HUNDRED SIXTY SIXTY SOMETHING THINK\n"
     ]
    },
    {
     "data": {
      "text/html": [
       "\n",
       "                <audio controls=\"controls\" >\n",
       "                    <source src=\"data:audio/wav;base64,UklGRiQUAABXQVZFZm10IBAAAAABAAEAQB8AAIA+AAACABAAZGF0YQAUAAC+EOkRlA++EOkRlA/1DKEKdwlMCM4E6QK/ASH/gvxz+XP5CPoy+3P5c/lz+d74c/ky+zL7Yv0h/wkCEwRUAukCjQYiB40GdwmhCuEIIge3B7cH+AXOBCoBIf+M/kH+gvzt+536c/lJ+HP5nfoy+9743vhz+Qj6CPoy+974SfhJ+N743vgI+t74c/ne+HP5c/ne+N74Sfje+HP53vgy+wj63vgf94n2ifaJ9l/19PWJ9on2ifaJ9sr0ifYf97T3tPe097T3tPe093P5tPfe+N749PWJ9h/3NfQL85bxlvF28nbylvFC70LvlvFC70LvdvIL85bxdvKg8/T1ifaJ9vT19PWJ9h/39PW09974tPe090n4H/fe+N74tPdf9Yn2tPfe+HP5tPeJ9kn4H/df9fT1Sfgf94n2X/WJ9h/3X/XK9F/1NfQ19KDzX/XK9Mr0X/WJ9rT33vgI+nP5nfoX/SH/vwFKALb/tv+s/Yz+If+s/Rf9F/2C/KL7Yv33/db+9/1B/hf9jP5KAJUAKgGVALb/tv8AABMEzgR+AzQD6QLfALb/AAAAAAAAdAGVALb/3wAqAZUAdAG/AVQC6QJUAukCEwT4BSIHTAhMCOEI4Qi3B+EITAhMCOEItwdMCEwIdwlMCCIHTAi3B0wIIgd3CaEKDAp3CXcJTAh3CcsLDArhCHcJ4QhMCCIH4Qh3CUwI4QhMCHcJ4Qh3CQwKDAqhCuEIdwkMCqEKNguhCqEKDAqhCgwKdwnLCzYLNgs2CzYLYAzLC2AMYAyKDYoNywuhCqEKDAp3CTYLNguhCjYLywtMCLcHTAjOBM4EjQb4BY0GIgf4BfgF+AWNBkwItwf4BY0GdwlMCCIHtwdMCLcHTAiNBkwIjQb4BUwI4QjhCOEI+AXOBM4EyQN+A14ECQIqAXQBtv8h/0oAlQAqAZUAKgEJAkoAtv9r/7b/SgAAAAAAIf/W/oz+AACVAJUAa/9r/5UAlQB0AZUAa/+VAGv/If8AAL8BlQCs/Rf9AAC/AZUAAAAAAGv/dAG/Ad8AlQBUAnQBdAF0AYz+F/0AAN8AN/xz+Wv/lQAX/Z36N/z3/Rf99/3W/oz+dAE0A8kDdAG/Ad8AlQC/AQAAzPwy+4z+dwnOBEn4CPrpAjQDMvve+Gv/NAMAADL7rP1UAs4EzgR+A2MF4QjhCI0GVAJUAlQClQD3/e377fsI+rT3nfpJ+In2tPcI+jL7CPqd+iH/a/+s/cz8vwETBFQCvwFUAs4EzgRr/54C4QhMCPgFVAKeAs4EngIqAQAAvwG/AQAAdAG/AQAAF/2s/Wv/nfre+Kz93wDt+974CPoy+zf8nfpf9Un4If9r/3P5zPy/ATQDdAEX/d8A4Qh3CXQBrP1MCIoNzgT3/VQCdwkiB3QBjP5r/zQDAAAI+nP5If+/Aaz93vgy+4z+a/83/Mz8F/1r/5UAnfqJ9jf8zgTpAnP53vjfACIHlQDe+N74vwFMCDQDnfoy+xMEYAw0A536lQDLC/UMngI3/L8BYAzLC2v/nfrfALcHEwQI+on2N/w3/LT3yvTe+JUA9/019JbxSfgAAKz9H/eJ9sz8vwGVAJ36F/0TBBME3wCVAMkDDArLC6EK4QihCmAMyws2C2oOvhBqDpQPlA+UD4oNtwfpAqz9tPcX7vDlXd602bfSYNe30rTZXd7w5e3snfr4BYoNZxWjIUktSS1JLUkt9CpMJuMfZRz3I0ktoChMJp0v8jFJLfcjEBq+ECoBROgM1brLa7vst/Gp8alDs2jCZcld3jX0jQZnFfcjSS1GNEY0SS30KqAoZRy+EDYL+AUJArb/c/lB/koAtv9+AyIHdwlMCKz9F+5u6Qj6KgEL80n4ExOPHRMTPRS5HuMfvhAI+pbxROhj0Gu7Q7NDs5quSaWarr3EYNdH4TX09QxlHPcj9CryMZs2SS2jIWUckhahCt8A3vi09zX0lvFC73bylvFC70LvF+7t7ELvQu9C78PrceIJ3JvjF+5f9Yn2a/++EJIWExO8F48dZxWNBkn4mepd3rrLv71ru+y3Q7Pst73EY9C02ZvjdvIqAbcHvhCPHfcj9yOjIeMfuR68F+kR9Qx3CX4Da/8y+zX0bPBC78Prw+tu6W7pmert7BfuQu9C7xfuQu9C7+3sCPpUAvf9+AW+EIoNDAoMCmMFQf6J9u3sROhd3gzVDNUM1bfStNld3sbkbPAy+34DlA+8F7ke9yP0KqAooCj3I6Mhjx0TE2oOoQpUAkH+a//t+x/3tPcL83byH/df9TX0yvQL88r0SfgI+gj6F/1KAH4DyQN3CZQPlA+UDz0UExOhCvgFzgQAAKL79PW09x/3oPPK9N74F/0qAV4EDApqDhMTvBdlHDobjx1lHDob5hhnFb4QlA+UD2oOywv1DPUMYAzhCI0GIgehCmAMTAg2CxMTExMTEz0UvhBqDgwKfgNB/vT1F+4a58bkm+Ob4/DlbumW8YL8IgcTEzob9yP0KkktnS/0KkktoCijIWUcvBcTE4oN9QxMCCIHtwf4BfgF4QgiB2MFYwXOBH4DngJr/2L91v6s/aL7zPw3/Kz9N/ze+Aj6MvsI+jL7MvvW/r8BXgRjBUwINgvLC/UMlA9qDmoOlA9qDooNywvLC8sL4QgiB8kDfgNUAkoAjP4X/TL73vgf97T3H/e093P53vhf9Yn2H/cI+jL7gvxr/0oAa/8AALb/SgBUAjQDKgG/ASoB3wBr/zf8nfoI+kn4X/XK9PT1X/Vf9aDzdvJs8AvzNfQL8zX0X/X09d74c/kI+p36c/ne+J363vje+N74Sfgf91/1yvSJ9sr09PU19Mr0H/df9V/19PUf90n4Sfje+B/39PXK9F/1C/OW8WzwlvGW8WzwbPAL85bxlvF28gvzNfRf9Yn29PUf90n4c/kI+on2X/WJ9rT3H/e093P5Sfgf94n2X/WJ9sr0C/ML88r09PU19JbxC/Og86DzoPML8zX0ifb09bT33vgI+oL89/1B/oz+Yv1B/kH+Yv2s/e37MvsI+kn4nfoy+6L73vi097T3c/md+oL8rP1B/qz99/33/db+9/1B/kH+rP1B/t8AvwGVAEoAvwEJAgkCNANUAiH/SgCVAJUA3wAAAJUAIf/3/QAAKgEqAZUA6QLJAyIHdwkiByIH+AUiB+EITAh3CUwIIgeNBkwIDAp3CUwItwf4BY0G+AUiB7cHtwe3B40GYwX4BY0GjQa3B0wIIgciB0wINgtgDDYLNgt3CXcJDAoMCncJ4QihCgwKNgv1DDYLDAqhCgwKDAqhCqEK4Qh3CTYLywv1DGoO9QyhCmAMYAw2C8sLywt3CeEIdwl3CaEKDAp3CUwI4QjhCOEI4Qh3CeEIIgeNBkwIDAqhCjYLoQp3CSIHIgdMCCIHtwdMCCIHtwdMCLcHTAgiB/gFYwXOBM4EYwVjBWMF+AUiB/gFYwWNBo0G+AUiB/gFIgdMCCIH+AXOBDQDfgM0A14EVAKVAGv/7fsy+/f9rP3t+zL7Yv1r/3QBlQBr/4z+a//fAL8B3wAqAXQBAABr/wAAlQCVAGv/9/2s/ZUAdAFUAp4CNANUAt8A3wCVAJUAAACM/gAA9/2s/az9rP33/cz8F/2s/Rf9rP0X/Wv/dAFUAr8BdAG/Ab8BvwF+AzQDVAK/Ad8A3wCVAIz+F/2s/ff9N/wX/Yz+zPzM/Kz97fsX/ff9AAB0Ad8A3wAqAXQBdAF0AVQClQCs/Rf9If8h/yH/jP5r/wAAAAAAAGv/lQBUAp4CVAJ0AVQCdAEAAN8AdAGVAN8A3wCVACH/AAAAAPf9zPwX/az9N/zM/Kz99/3W/vf9If+M/pUA3wAAAN8AVAK/AVQCVAK/AZ4CNAPfAN8A3wBr/yH/lQD3/cz8F/0y+6z9lQAh/2v/rP0X/az9a/+VAN8AVAIqAZUA3wBr/wAAa/+s/az9If9r/3QBa/9r/3QBngKeAnQBa/8y+7T33viVADYLlA++EGoOdwnOBL8B7fs19ELvF+5C75bxdvIL8zX0CPpr/xMEEwQiB0wI+AVMCAwKtwciB2MFzgQTBI0GzgS/Ab8Ba/8h/wAAlQBUAoz+zPzt+0n43vgI+nP53vhJ+HP5CPoy++37rP2VAFQCNAMTBCIHdwljBb8BIf+VAHQBvwGeAjQDvwGVAJ4CvwGVAJ4CdAHW/vf9jP73/Yz+rP0y+wj6c/mJ9rT3tPcI+jf87fsy+2v/dAF+AxMEEwTOBPgFyQNUAjQDzgSNBs4EzgTOBM4EzgQ0A8kDzgRUAjQDzgTJAxMEngITBFQC9/0I+jX0bPBC7+3smeoa5xrnROhE6MPrlvHK9J36vwEiBzYLlA9nFeYYOhu8FxMTag53Cc4EzgTLCzob9CpGNEY08jH0KqMhvhAy+3HivcSarkmloKD3m6Cg8anst7rLROhMCKMh7zgUSEFCmzZJLTob+AVf9fDlXd5d3nHiw+sy+84ETAhgDJQPZxW8Fz0UvhBgDDL7ceIRx+y3DNXe+BMToyH0KvQqSS2bNqAoYAzw5Wu7SaWlklOJqoQBgKWSmq630h/3ZxVMJp0vQzsUSBRIQUJMJo0GQu9x4mDXt9IM1bTZw+tB/jYLZxW8F5QP4QhUAqDzF+7t7ETobukX7hfuROi02RHHtNl+A0wmmD0USO848jGbNvcjvwG02ZqupZKqhKqEU4mlkpquZcls8GcV9CpGNJ0v9CpJLaAouR6+EEn4Gueb4/Dlw+ve+FQCYAy5HvQqSS2jIUwIifa09x/3bulH4bTZm+MX/ekRvBe+EJUAxuQM1WzwExNMJp0vSS1MJvQqSS1nFZbxt9JDs/Gpmq6arpquaMJj0ELv6RFMJvIx8jH0KqAo8jGdL+MfZxWNBsz8fgPOBFQC4Qi+EBAaoCj0KmUc9Qxr/8r0Sfgy+2zwROhE6Aj6lA+5HvcjoyHjH+YYYwVE6AncCPplHPIx7D/vOPQqSS2gKJQPQu9j0EOzmq7st2u7Zcm02ZbxPRSdL0M77zhGNEY0nS9JLaMhvhD4Bd8AXgS3B0wIag4QGvQqnS9JLfcj6REqAWzw7exJ+Bf9lvFE6HbyYwXjH/IxSS1MJvcjkhZUAkfhaMJj0Df8OhtJLUY09Cr0Kps2TCaNBnHiaMLst+y3v71owrfSm+MqAaMh8jHyMfcj9yNGNEY0oChnFTL7dvIy+4z+c/md+oL8ywujIaAoOhsMCjX0bumW8aDzC/MX7m7pbPD4BRAauR5lHD0UlA9qDmv/tNnxqZquXd5qDqAonS/0Kkwm8jFGNL4QxuRru6CgoKCarpqu7LdlycbktwejIZ0vnS9JLfQq9yMQGhMEF+4d4AncXd7w5e3sMvvLC2UcTCajIWcVdAHK9G7pCdwM1WPQt9IJ3BfuYv2+EBAaOhsQGpIWYAy092DX8an3mxTA7ezLC+MfoyEQGvcjSS0QGjX0usvxqfebSaVJpfGp7LcOzkLv6RFMJkY0mzZGNEktoCi8F2v/7exd3rTZCdzw5RfuCPp3CTob9yNlHM4EdvKZ6kToGufw5bTZYNdx4pbxzgQTE2cVkhZnFWoOdAFE6L+98am9xO3sNgujIfcjZRzjH/QqoyFMCETovcRDs0Oz7Le/vRHHYNdE6PgFuR6dL+w/QzubNkY09Cq5HmAMtPca513eceJC7974+AW+EDoboyGjIWUcdwmJ9hfuw+uZ6hrnGucX7oL8ag5lHOMfuR6SFukR9QwX/W7pxuQL80wI5hijIeMfPRTpEZQPTAjt+8PrtNm6yw7OYNeb42zwCPqVAAwKvBdMJvIxRjSdL6Ao9yOjIY8dvBcTE5QPlA++ED0UPRRnFekRywt3CUwIzgRKAPf99/3W/gkCzgQ0AzQDngLpAhMEjQa3ByIH4QhMCLcHIgdUAukCTAhqDhMTExM9FL4QlA++EGoOdwleBNb+CPoI+jf89/0X/WL93wB+A/gF4Qh3CTYLag6+EBMT6RHpERMTPRQTExMT6RG+EJQPag71DDYL4QjhCEwIzgR+A34D3wBi/Z363vje+N74Mvud+nP5c/ne+N74c/md+gj6CPoy+974H/e090n4Sfgy+zL7gvxKAGMFTAhMCHcJdwnhCKEKDAoiB2MFzgR0Ad8AlQBr/yH/9/2C/Bf9N/wy+3P5c/lJ+Aj6nfre+F/1lvFs8ELvlvE19GzwbPAX7hfuQu9C70LvQu+W8ZbxdvKJ9on2tPdJ+En43vgI+p36N/zt+zf89/0X/e37rP2s/ff9Yv3t+3P53vgf94n29PU19HbylvGW8TX0dvIL83bylvGW8WzwQu9C78Pr7ewX7kLvF+7t7O3sF+6W8XbylvEL88r0ifaJ9t74MvsX/db+If+VAL8B3wC/Abb/9/03/En4X/WJ9vT1ifb09cr0H/cI+gj6c/kf9x/3H/eJ9sr0C/ML83bylvE19KDzNfT09Yn2NfQ19In2H/fe+LT33vhr/78BYwVMCDYLDAqhCmoOYAw2CwwK+AX4BWMFYwVUAmv/If9B/qz9ovtz+Un4ifaJ9on29PWJ9on2Sfjt+2L9AACeAvgFIgd3CTYL4QjhCOEITAh3CaEKTAi3B+EIdwnLC8sLoQqhCuEItwciB0wIdwkiB40G+AUiB3cJdwlMCOEItwciB40GTAh3CUwI4QhMCAwKdwkiB+EIDAqhCjYLDAp3CSIHtwdMCEwI4Qi3B+EIDArLC/UMNgs2C6EKdwkiByIHNgsMCrcHIgd3CcsL9QyUD74QvhC+EL4Qag5qDpQPag7LCzYLNguhCgwKNgvLC8sLDAp3CUwIjQbOBL8Ba/8h/98AKgEqAVQCngJ0AQ==\" type=\"audio/wav\" />\n",
       "                    Your browser does not support the audio element.\n",
       "                </audio>\n",
       "              "
      ],
      "text/plain": [
       "<IPython.lib.display.Audio object>"
      ]
     },
     "metadata": {},
     "output_type": "display_data"
    },
    {
     "name": "stdout",
     "output_type": "stream",
     "text": [
      "       uttr = 058.140, duration (ms) = 300        \n",
      "   es alignment | CIENTO SESENTA, DUR: 920 ms\n",
      "       es words | CIENTO Y PICO DE PESOS CIENTO SESENTA Y PICO CREO\n",
      "       en words | HUNDRED SOMETHING DOLLARS ONE HUNDRED SIXTY SIXTY SOMETHING THINK\n"
     ]
    },
    {
     "data": {
      "text/html": [
       "\n",
       "                <audio controls=\"controls\" >\n",
       "                    <source src=\"data:audio/wav;base64,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\" type=\"audio/wav\" />\n",
       "                    Your browser does not support the audio element.\n",
       "                </audio>\n",
       "              "
      ],
      "text/plain": [
       "<IPython.lib.display.Audio object>"
      ]
     },
     "metadata": {},
     "output_type": "display_data"
    },
    {
     "name": "stdout",
     "output_type": "stream",
     "text": [
      "       uttr = 048.145, duration (ms) = 350        \n",
      "   es alignment | SEISCIENTAS PESETAS, DUR: 870 ms\n",
      "       es words | SON SEISCIENTAS PESETAS SETECIENTAS Y PUEDES COMER LO QUE QUIERAS\n",
      "       en words | ARE SIX HUNDRED PESETAS SEVEN HUNDRED AND CAN EAT WHATEVER WHATEVER WANT\n"
     ]
    },
    {
     "data": {
      "text/html": [
       "\n",
       "                <audio controls=\"controls\" >\n",
       "                    <source src=\"data:audio/wav;base64,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\" type=\"audio/wav\" />\n",
       "                    Your browser does not support the audio element.\n",
       "                </audio>\n",
       "              "
      ],
      "text/plain": [
       "<IPython.lib.display.Audio object>"
      ]
     },
     "metadata": {},
     "output_type": "display_data"
    },
    {
     "name": "stdout",
     "output_type": "stream",
     "text": [
      "       uttr = 048.145, duration (ms) = 320        \n",
      "   es alignment | SETECIENTAS, DUR: 760 ms\n",
      "       es words | SON SEISCIENTAS PESETAS SETECIENTAS Y PUEDES COMER LO QUE QUIERAS\n",
      "       en words | ARE SIX HUNDRED PESETAS SEVEN HUNDRED AND CAN EAT WHATEVER WHATEVER WANT\n"
     ]
    },
    {
     "data": {
      "text/html": [
       "\n",
       "                <audio controls=\"controls\" >\n",
       "                    <source src=\"data:audio/wav;base64,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\" type=\"audio/wav\" />\n",
       "                    Your browser does not support the audio element.\n",
       "                </audio>\n",
       "              "
      ],
      "text/plain": [
       "<IPython.lib.display.Audio object>"
      ]
     },
     "metadata": {},
     "output_type": "display_data"
    },
    {
     "name": "stdout",
     "output_type": "stream",
     "text": [
      "       uttr = 063.046, duration (ms) = 340        \n",
      "   es alignment | DóLARES, DUR: 440 ms\n",
      "       es words | TIENES QUE TENER UN LOCAL DE ACUERDO A SUS EH SUS ESPECIFICACIONES O QUé ES LO QUE TIENE QUE TENER EL LOCAL TIENES QUE ABRIR UNA LETRA DE CRéDITO POR QUINIENTOS MIL DóLARES ABIERTA\n",
      "       en words | YOU NEED HAVE A PLACE ACCORDING TO THEIR EH THEIR SPECIFICATIONS OR WHAT THE PLACE NEEDS TO HAVE HAVE TO OPEN A LINE OF CREDIT FOR FIVE HUNDRED THOUSAND DOLLARS OPEN\n"
     ]
    },
    {
     "data": {
      "text/html": [
       "\n",
       "                <audio controls=\"controls\" >\n",
       "                    <source src=\"data:audio/wav;base64,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\" type=\"audio/wav\" />\n",
       "                    Your browser does not support the audio element.\n",
       "                </audio>\n",
       "              "
      ],
      "text/plain": [
       "<IPython.lib.display.Audio object>"
      ]
     },
     "metadata": {},
     "output_type": "display_data"
    }
   ],
   "source": [
    "for i in proto_details['HUNDRED'][:5]:\n",
    "    uttr_string = \"uttr = {0:s}, duration (ms) = {1:d}\".format(i.uttr, (i.end-i.start)*10)\n",
    "    print(\"{0:^50s}\".format(uttr_string))\n",
    "    _ = find_align_words_for_node(*i)\n",
    "    print_align(i.uttr, \"es\")\n",
    "    print_align(i.uttr, \"en\")\n",
    "    play_uttr_seg(*i)\n"
   ]
  },
  {
   "cell_type": "code",
   "execution_count": null,
   "metadata": {
    "collapsed": true
   },
   "outputs": [],
   "source": []
  }
 ],
 "metadata": {
  "anaconda-cloud": {},
  "kernelspec": {
   "display_name": "Python [conda env:py3]",
   "language": "python",
   "name": "conda-env-py3-py"
  },
  "language_info": {
   "codemirror_mode": {
    "name": "ipython",
    "version": 3
   },
   "file_extension": ".py",
   "mimetype": "text/x-python",
   "name": "python",
   "nbconvert_exporter": "python",
   "pygments_lexer": "ipython3",
   "version": "3.5.2"
  }
 },
 "nbformat": 4,
 "nbformat_minor": 0
}
