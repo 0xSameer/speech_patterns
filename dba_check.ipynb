{
 "cells": [
  {
   "cell_type": "code",
   "execution_count": 210,
   "metadata": {
    "collapsed": false
   },
   "outputs": [],
   "source": [
    "from __future__ import print_function\n",
    "from __future__ import division\n",
    "import os\n",
    "import pickle\n",
    "import json\n",
    "import subprocess\n",
    "from IPython.display import display\n",
    "from IPython.display import Audio\n",
    "import bisect\n",
    "from collections import namedtuple\n",
    "import numpy as np\n",
    "import pandas as pd\n",
    "from collections import Counter\n",
    "import matplotlib.pyplot as plt\n",
    "import seaborn as sns\n",
    "import textwrap\n",
    "import scipy.io.wavfile\n",
    "from python_speech_features import mfcc\n",
    "\n",
    "%run ../antonissameer/dba.py\n",
    "%run ../antonissameer/utils.py\n",
    "\n",
    "from matplotlib.ticker import MultipleLocator, \\\n",
    "     FormatStrFormatter, AutoMinorLocator\n",
    "%matplotlib inline"
   ]
  },
  {
   "cell_type": "code",
   "execution_count": 175,
   "metadata": {
    "collapsed": true
   },
   "outputs": [],
   "source": [
    "with open(\"config.json\") as json_data_file:\n",
    "    config = json.load(json_data_file)"
   ]
  },
  {
   "cell_type": "code",
   "execution_count": 176,
   "metadata": {
    "collapsed": true
   },
   "outputs": [],
   "source": [
    "Align = namedtuple('Align', ['word', 'start', 'end'])"
   ]
  },
  {
   "cell_type": "code",
   "execution_count": 177,
   "metadata": {
    "collapsed": false
   },
   "outputs": [],
   "source": [
    "segment_map = pickle.load(open(config['es']['segment_dict_fname'], \"rb\"))\n",
    "align_dict = pickle.load(open(config['es']['align_dict_fname'], \"rb\"), encoding='utf-8')"
   ]
  },
  {
   "cell_type": "markdown",
   "metadata": {},
   "source": [
    "### Find words spoken across speakers, and within speakers"
   ]
  },
  {
   "cell_type": "markdown",
   "metadata": {},
   "source": [
    "Find words longer than *threshold* ms in duration"
   ]
  },
  {
   "cell_type": "code",
   "execution_count": 178,
   "metadata": {
    "collapsed": false
   },
   "outputs": [
    {
     "name": "stdout",
     "output_type": "stream",
     "text": [
      "duration filter: 400 ms\n",
      "total es words       | 34263\n",
      "total es cnt words   | 28087\n"
     ]
    }
   ],
   "source": [
    "dur_thresh = 40 # 800 ms\n",
    "\n",
    "es_words = [a.word for fid in align_dict \n",
    "            for sid in align_dict[fid] for a in align_dict[fid][sid]['es'] \n",
    "            if (a.end-a.start) > dur_thresh]\n",
    "es_cnt_words = [(a.word, fid, sid, i) for fid in align_dict \n",
    "                for sid in align_dict[fid] \n",
    "                for i, a in enumerate(align_dict[fid][sid]['es_cnt']) \n",
    "                if (a.end-a.start) > dur_thresh]\n",
    "\n",
    "print(\"duration filter: {0:d} ms\".format(dur_thresh*10))\n",
    "print(\"{0:20s} | {1:5d}\".format(\"total es words\", len(es_words)))\n",
    "\n",
    "print(\"{0:20s} | {1:5d}\".format(\"total es cnt words\", len(es_cnt_words)))"
   ]
  },
  {
   "cell_type": "code",
   "execution_count": 179,
   "metadata": {
    "collapsed": false
   },
   "outputs": [],
   "source": [
    "es_cnt_word_count = Counter([w for w, f, _, _ in es_cnt_words])\n",
    "es_cnt_word_calls = {}\n",
    "es_cnt_word_call_count = {}\n",
    "for w, f, _, _ in es_cnt_words:\n",
    "    if w not in es_cnt_word_calls:\n",
    "        es_cnt_word_calls[w] = set([f])\n",
    "    else:\n",
    "        es_cnt_word_calls[w].update([f])\n",
    "\n",
    "for w, f, _, _ in es_cnt_words:\n",
    "    es_cnt_word_call_count[w] = len(es_cnt_word_calls[w])\n",
    "    \n",
    "es_cnt_word_details = [(w, es_cnt_word_count[w], es_cnt_word_call_count[w]) \n",
    "                       for w in es_cnt_word_count]\n",
    "es_cnt_word_loc = {}\n",
    "for w, f, s, i in es_cnt_words:\n",
    "    if w not in es_cnt_word_loc:\n",
    "        es_cnt_word_loc[w] = [(f,s,i)]\n",
    "    else:\n",
    "        es_cnt_word_loc[w].append((f,s,i))\n"
   ]
  },
  {
   "cell_type": "code",
   "execution_count": 180,
   "metadata": {
    "collapsed": false
   },
   "outputs": [
    {
     "name": "stdout",
     "output_type": "stream",
     "text": [
      "word                 --- count     \n",
      "MMM                  ---   504\n",
      "<LAUGH>              ---   499\n",
      "ENTONCES             ---   450\n",
      "CLARO                ---   363\n",
      "AH                   ---   298\n",
      "\n"
     ]
    }
   ],
   "source": [
    "# display the most common words\n",
    "print(\"{0:20s} --- {1:10s}\".format(\"word\", \"count\"))\n",
    "print(\"\".join([\"{0:20s} --- {1:5d}\\n\".format(w, f) for w, f in es_cnt_word_count.most_common(5)]))"
   ]
  },
  {
   "cell_type": "code",
   "execution_count": 181,
   "metadata": {
    "collapsed": false
   },
   "outputs": [
    {
     "name": "stdout",
     "output_type": "stream",
     "text": [
      "word                 --- count --- files\n",
      "ENTONCES             ---   450 ---    91\n",
      "MMM                  ---   504 ---    88\n",
      "<LAUGH>              ---   499 ---    79\n",
      "AH                   ---   298 ---    79\n",
      "BUENO                ---   291 ---    78\n",
      "BIEN                 ---   247 ---    77\n",
      "CLARO                ---   363 ---    71\n",
      "TELéFONO             ---    94 ---    55\n",
      "EH                   ---   163 ---    54\n",
      "DESPUéS              ---    70 ---    50\n",
      "\n"
     ]
    }
   ],
   "source": [
    "es_cnt_word_details = sorted(es_cnt_word_details, reverse=True, key=lambda t:t[2])\n",
    "print(\"{0:20s} --- {1:5} --- {2:5}\".format(\"word\", \"count\", \"files\"))\n",
    "print(\"\".join([\"{0:20s} --- {1:5d} --- {2:5d}\\n\".format(w,c,f) \n",
    "              for w, c, f in es_cnt_word_details[:10]]))"
   ]
  },
  {
   "cell_type": "code",
   "execution_count": 182,
   "metadata": {
    "collapsed": true
   },
   "outputs": [],
   "source": [
    "es_word = 'TELéFONO'"
   ]
  },
  {
   "cell_type": "code",
   "execution_count": 207,
   "metadata": {
    "collapsed": true
   },
   "outputs": [],
   "source": [
    "def get_segment_mfcc(sid, start_10ms, end_10ms):\n",
    "    sr1, y1 = scipy.io.wavfile.read(\"../uttr_fa_vad_wavs/uttr_wavs/{0:s}.wav\".format(sid))\n",
    "    start = start_10ms * (sr1 / 100)\n",
    "    end = end_10ms * (sr1 / 100)\n",
    "    mfcc_segment = mfcc(y1[start:end], sr1)\n",
    "    return mfcc_segment"
   ]
  },
  {
   "cell_type": "code",
   "execution_count": null,
   "metadata": {
    "collapsed": true
   },
   "outputs": [],
   "source": [
    "def compute_pairwise_dtw(es_cnt_word_loc, w):\n",
    "    cost = \n",
    "    f1, s1, i1 = es_cnt_word_loc[w]"
   ]
  },
  {
   "cell_type": "code",
   "execution_count": 183,
   "metadata": {
    "collapsed": false
   },
   "outputs": [
    {
     "name": "stdout",
     "output_type": "stream",
     "text": [
      "108  029  078  085  090  070  012  100  082  043  095  015  033  048  116  045  113  007  115  032  110  049  083  071  021  073  088  094  092  041  101  009  006  063  065  052  075  086  030  018  084  087  120  038  054  027  081  059  014  093  047  056  053  072  001\n"
     ]
    }
   ],
   "source": [
    "print(\"  \".join(es_cnt_word_calls[es_word]))"
   ]
  },
  {
   "cell_type": "code",
   "execution_count": 184,
   "metadata": {
    "collapsed": false
   },
   "outputs": [
    {
     "data": {
      "text/plain": [
       "[('108', '108.030', 1),\n",
       " ('078', '078.146', 6),\n",
       " ('090', '090.018', 10),\n",
       " ('090', '090.018', 12),\n",
       " ('090', '090.015', 1)]"
      ]
     },
     "execution_count": 184,
     "metadata": {},
     "output_type": "execute_result"
    }
   ],
   "source": [
    "es_cnt_word_loc[es_word][:5]"
   ]
  },
  {
   "cell_type": "code",
   "execution_count": 205,
   "metadata": {
    "collapsed": false
   },
   "outputs": [
    {
     "data": {
      "text/plain": [
       "[Align(word='CONTESTABA', start=172, end=216),\n",
       " Align(word='TELéFONO', start=227, end=282),\n",
       " Align(word='AYER', start=282, end=319),\n",
       " Align(word='EH', start=319, end=340)]"
      ]
     },
     "execution_count": 205,
     "metadata": {},
     "output_type": "execute_result"
    }
   ],
   "source": [
    "align_dict['108']['108.030']['es_cnt']"
   ]
  },
  {
   "cell_type": "code",
   "execution_count": 186,
   "metadata": {
    "collapsed": true
   },
   "outputs": [],
   "source": [
    "get_segment_mfcc(es_cnt_word_loc[es_word], start_10ms, end_10ms)"
   ]
  },
  {
   "cell_type": "code",
   "execution_count": 203,
   "metadata": {
    "collapsed": false
   },
   "outputs": [
    {
     "data": {
      "text/plain": [
       "((27360,), 342.0, 18160.0)"
      ]
     },
     "execution_count": 203,
     "metadata": {},
     "output_type": "execute_result"
    }
   ],
   "source": [
    "y1.shape, y1.shape[0] / sr1 * 100, 227 * (sr1/100)"
   ]
  },
  {
   "cell_type": "code",
   "execution_count": 204,
   "metadata": {
    "collapsed": false
   },
   "outputs": [
    {
     "data": {
      "text/plain": [
       "(341, 13)"
      ]
     },
     "execution_count": 204,
     "metadata": {},
     "output_type": "execute_result"
    }
   ],
   "source": [
    "mfcc1.shape"
   ]
  },
  {
   "cell_type": "code",
   "execution_count": 192,
   "metadata": {
    "collapsed": false
   },
   "outputs": [
    {
     "name": "stdout",
     "output_type": "stream",
     "text": [
      "\r\n",
      "Input File     : '../uttr_fa_vad_wavs/uttr_wavs/108.030.wav'\r\n",
      "Channels       : 1\r\n",
      "Sample Rate    : 8000\r\n",
      "Precision      : 16-bit\r\n",
      "Duration       : 00:00:03.42 = 27360 samples ~ 256.5 CDDA sectors\r\n",
      "File Size      : 54.8k\r\n",
      "Bit Rate       : 128k\r\n",
      "Sample Encoding: 16-bit Signed Integer PCM\r\n",
      "\r\n"
     ]
    }
   ],
   "source": [
    "!soxi \"../uttr_fa_vad_wavs/uttr_wavs/108.030.wav\""
   ]
  },
  {
   "cell_type": "code",
   "execution_count": null,
   "metadata": {
    "collapsed": true
   },
   "outputs": [],
   "source": []
  }
 ],
 "metadata": {
  "kernelspec": {
   "display_name": "Python [conda env:py3]",
   "language": "python",
   "name": "conda-env-py3-py"
  },
  "language_info": {
   "codemirror_mode": {
    "name": "ipython",
    "version": 3
   },
   "file_extension": ".py",
   "mimetype": "text/x-python",
   "name": "python",
   "nbconvert_exporter": "python",
   "pygments_lexer": "ipython3",
   "version": "3.5.2"
  }
 },
 "nbformat": 4,
 "nbformat_minor": 0
}
