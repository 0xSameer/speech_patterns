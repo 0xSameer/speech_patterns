{
 "cells": [
  {
   "cell_type": "code",
   "execution_count": 90,
   "metadata": {
    "collapsed": true
   },
   "outputs": [],
   "source": [
    "from __future__ import print_function\n",
    "from __future__ import division\n",
    "import os\n",
    "import cPickle as pickle\n",
    "import json\n",
    "import subprocess\n",
    "from IPython.display import display\n",
    "from IPython.display import Audio\n",
    "import bisect\n",
    "from collections import namedtuple\n",
    "import numpy as np\n",
    "import pandas as pd"
   ]
  },
  {
   "cell_type": "code",
   "execution_count": 91,
   "metadata": {
    "collapsed": true
   },
   "outputs": [],
   "source": [
    "with open(\"config.json\") as json_data_file:\n",
    "    config = json.load(json_data_file)"
   ]
  },
  {
   "cell_type": "code",
   "execution_count": 92,
   "metadata": {
    "collapsed": true
   },
   "outputs": [],
   "source": [
    "nodes_fname = config[\"es\"]['nodes_fname']\n",
    "seg_nodes_fname = config[\"es\"]['seg_nodes_fname']\n",
    "nodes_dict_fname = config[\"es\"]['nodes_dict_fname']\n",
    "edges_utd_fname = config[\"es\"]['edges_utd_fname']\n",
    "edges_olap_fname = config[\"es\"]['edges_olap_fname']\n",
    "edges_all_fname = config[\"es\"]['edges_all_fname']\n",
    "edges_score_fname = config[\"es\"]['edges_score_fname']\n",
    "clusters_fname = config[\"es\"]['clusters_fname']\n",
    "pairs_fname = config['es']['score_pairs_fname']\n",
    "eval_fname = config['es']['eval_pairs_fname']"
   ]
  },
  {
   "cell_type": "code",
   "execution_count": 93,
   "metadata": {
    "collapsed": true
   },
   "outputs": [],
   "source": [
    "Align = namedtuple('Align', ['word', 'start', 'end'])\n",
    "Node = namedtuple('Node', ['file', 'seg', 'start', 'end', 'es', 'es_cnt'])"
   ]
  },
  {
   "cell_type": "code",
   "execution_count": 94,
   "metadata": {
    "collapsed": true
   },
   "outputs": [],
   "source": [
    "Eval = namedtuple('Eval', ['n1', 'n2', 'dtw', 'es_sim', 'es_cnt_sim', 'en_j_sim'])"
   ]
  },
  {
   "cell_type": "code",
   "execution_count": 95,
   "metadata": {
    "collapsed": true
   },
   "outputs": [],
   "source": [
    "segment_map = pickle.load(open(config['es']['segment_dict_fname'], \"rb\"))\n",
    "align_dict = pickle.load(open(config['es']['align_dict_fname'], \"rb\"))"
   ]
  },
  {
   "cell_type": "code",
   "execution_count": 96,
   "metadata": {
    "collapsed": false
   },
   "outputs": [],
   "source": [
    "nodes_dict = pickle.load(open(nodes_dict_fname, \"rb\"))\n",
    "pairs_list = pickle.load(open(pairs_fname, \"rb\"))"
   ]
  },
  {
   "cell_type": "markdown",
   "metadata": {},
   "source": [
    "# Evaluate all valid pairs discovered\n",
    "\n",
    "- Calculate es sim, es content word sim, en content word sim\n",
    "- Calculate num correct pairs, num total, num content correct, at D=80, and D=87"
   ]
  },
  {
   "cell_type": "code",
   "execution_count": 97,
   "metadata": {
    "collapsed": true
   },
   "outputs": [],
   "source": [
    "def similarity_jaccard(w_list1, w_list2):\n",
    "    common_keys = set(w_list1) & set(w_list2)\n",
    "    union_keys = set(w_list1) | set(w_list2)\n",
    "    jaccard_dist = (0 if len(union_keys) == 0 else len(common_keys) / len(union_keys))\n",
    "    return jaccard_dist"
   ]
  },
  {
   "cell_type": "code",
   "execution_count": 98,
   "metadata": {
    "collapsed": true
   },
   "outputs": [],
   "source": [
    "def similarity_match_any(w_list1, w_list2):\n",
    "    common_words_len = len(set(w_list1) & set(w_list2))\n",
    "    return max(min(1, common_words_len), 0)"
   ]
  },
  {
   "cell_type": "code",
   "execution_count": 112,
   "metadata": {
    "collapsed": false
   },
   "outputs": [],
   "source": [
    "def eval_utd_pairs(pairs_list, nodes_dict, segment_map, eval_fname):\n",
    "    eval_list = []\n",
    "    \n",
    "    display_den = int(len(pairs_list) / 10)\n",
    "    \n",
    "    for pair_num, pair in enumerate(pairs_list, start=1):\n",
    "        \n",
    "        if pair_num % display_den == 0:\n",
    "            print(\"Evluating pair number: %d\" % pair_num)\n",
    "            \n",
    "        n1_id = pair[0]\n",
    "        n2_id = pair[1]\n",
    "        n1 = nodes_dict[pair[0]]\n",
    "        n2 = nodes_dict[pair[1]]\n",
    "        dtw = pair[2]\n",
    "        \n",
    "        es_sim = similarity_match_any(n1.es, n2.es)\n",
    "        es_cnt_sim = similarity_match_any(n1.es_cnt, n2.es_cnt)\n",
    "        \n",
    "        en_n1 = [a.word for a in align_dict[n1.file][n1.seg]['en_cnt']]\n",
    "        en_n2 = [a.word for a in align_dict[n2.file][n2.seg]['en_cnt']]\n",
    "        en_j_sim = similarity_jaccard(en_n1, en_n2)\n",
    "        \n",
    "        #eval_dict[pair_num] = Eval(n1_id, n2_id, dtw, es_sim, es_cnt_sim, en_j_sim)\n",
    "        eval_list.append(Eval(n1_id, n2_id, dtw, es_sim, es_cnt_sim, en_j_sim))\n",
    "    \n",
    "    # Saving eval\n",
    "    pickle.dump(eval_list, open(eval_fname, \"wb\"))\n",
    "    print(\"Finished evaluating %d pairs\" % pair_num)\n",
    "    return eval_list"
   ]
  },
  {
   "cell_type": "code",
   "execution_count": 113,
   "metadata": {
    "collapsed": true
   },
   "outputs": [
    {
     "name": "stdout",
     "output_type": "stream",
     "text": [
      "Evluating pair number: 21369\n",
      "Evluating pair number: 42738\n",
      "Evluating pair number: 64107\n",
      "Evluating pair number: 85476\n",
      "Evluating pair number: 106845\n",
      "Evluating pair number: 128214\n",
      "Evluating pair number: 149583\n",
      "Evluating pair number: 170952\n",
      "Evluating pair number: 192321\n",
      "Evluating pair number: 213690\n",
      "Finished evaluating 213692 pairs\n"
     ]
    }
   ],
   "source": [
    "eval_list = eval_utd_pairs(pairs_list, nodes_dict, segment_map, eval_fname)"
   ]
  },
  {
   "cell_type": "code",
   "execution_count": 114,
   "metadata": {
    "collapsed": false
   },
   "outputs": [],
   "source": [
    "eval_df = pd.DataFrame(eval_dict, columns=Eval._fields)"
   ]
  },
  {
   "cell_type": "code",
   "execution_count": 103,
   "metadata": {
    "collapsed": false
   },
   "outputs": [
    {
     "name": "stdout",
     "output_type": "stream",
     "text": [
      "Total pairs evaluated: 213692\n",
      "pairs with es word match: 28669\n",
      "pairs with es content word match: 10117\n",
      "pairs with D >= 0.87: 113148\n",
      "pairs with es word match: 17958\n",
      "pairs with es content word match: 7589\n"
     ]
    }
   ],
   "source": [
    "# All matches\n",
    "print('Total pairs evaluated: %d' % len(eval_list))\n",
    "\n",
    "es_match = [i for i, e in enumerate(eval_list) if e.es_sim == 1]\n",
    "es_cnt_match = [i for i, e in enumerate(eval_list) if e.es_cnt_sim == 1]\n",
    "print('pairs with es word match: %d' % len(es_match))\n",
    "print('pairs with es content word match: %d' % len(es_cnt_match))\n",
    "\n",
    "# D=0.87\n",
    "es_87_pairs = [i for i, e in enumerate(eval_list) if e.dtw >= 0.88]\n",
    "es_87_match = [i for i, e in enumerate(eval_list) if e.es_sim == 1 and e.dtw >= 0.88]\n",
    "es_87_cnt_match = [i for i, e in enumerate(eval_list) if e.es_cnt_sim == 1 and e.dtw >= 0.88]\n",
    "print('pairs with D >= 0.87: %d' % len(es_87_pairs))\n",
    "print('pairs with es word match: %d' % len(es_87_match))\n",
    "print('pairs with es content word match: %d' % len(es_87_cnt_match))"
   ]
  },
  {
   "cell_type": "markdown",
   "metadata": {},
   "source": [
    "# Clusters\n",
    "\n",
    "- calculate cluster purity, and most common word\n",
    "- generate features, parallel corpora"
   ]
  },
  {
   "cell_type": "code",
   "execution_count": null,
   "metadata": {
    "collapsed": true
   },
   "outputs": [],
   "source": []
  }
 ],
 "metadata": {
  "kernelspec": {
   "display_name": "Python 2",
   "language": "python",
   "name": "python2"
  },
  "language_info": {
   "codemirror_mode": {
    "name": "ipython",
    "version": 2
   },
   "file_extension": ".py",
   "mimetype": "text/x-python",
   "name": "python",
   "nbconvert_exporter": "python",
   "pygments_lexer": "ipython2",
   "version": "2.7.11"
  }
 },
 "nbformat": 4,
 "nbformat_minor": 0
}
