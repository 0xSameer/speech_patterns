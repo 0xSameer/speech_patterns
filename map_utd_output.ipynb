{
 "cells": [
  {
   "cell_type": "code",
   "execution_count": 94,
   "metadata": {
    "collapsed": false
   },
   "outputs": [],
   "source": [
    "from __future__ import print_function\n",
    "from __future__ import division\n",
    "import os\n",
    "import pickle\n",
    "import json\n",
    "import subprocess\n",
    "from IPython.display import display\n",
    "from IPython.display import Audio\n",
    "import bisect\n",
    "from collections import namedtuple"
   ]
  },
  {
   "cell_type": "code",
   "execution_count": 95,
   "metadata": {
    "collapsed": false
   },
   "outputs": [
    {
     "name": "stdout",
     "output_type": "stream",
     "text": [
      "[NbConvertApp] Converting notebook preprocess.ipynb to script\n",
      "[NbConvertApp] Writing 14144 bytes to preprocess.py\n"
     ]
    }
   ],
   "source": [
    "!jupyter nbconvert --to script preprocess.ipynb"
   ]
  },
  {
   "cell_type": "code",
   "execution_count": 96,
   "metadata": {
    "collapsed": false
   },
   "outputs": [],
   "source": [
    "from preprocess import read_file_list"
   ]
  },
  {
   "cell_type": "markdown",
   "metadata": {},
   "source": [
    "# Map ZRTools output to transcripts\n",
    "\n",
    "- Create modified .nodes file\n",
    "- Create mapping between es words, and nodes"
   ]
  },
  {
   "cell_type": "code",
   "execution_count": 97,
   "metadata": {
    "collapsed": false
   },
   "outputs": [],
   "source": [
    "with open(\"config.json\") as json_data_file:\n",
    "    config = json.load(json_data_file)"
   ]
  },
  {
   "cell_type": "code",
   "execution_count": 98,
   "metadata": {
    "collapsed": false
   },
   "outputs": [],
   "source": [
    "# nodes_fname = config[\"es\"]['nodes_fname']\n",
    "seg_nodes_fname = config[\"es\"]['seg_nodes_fname']\n",
    "nodes_dict_fname = config[\"es\"]['nodes_dict_fname']\n",
    "\n",
    "edges_utd_fname = config[\"es\"]['edges_utd_fname']\n",
    "edges_olap_fname = config[\"es\"]['edges_olap_fname']\n",
    "edges_all_fname = config[\"es\"]['edges_all_fname']\n",
    "edges_score_fname = config[\"es\"]['edges_score_fname']\n",
    "\n",
    "clusters_utd_fname = config['es']['clusters_utd_fname']\n",
    "clusters_fname = config['es']['clusters_fname']\n",
    "\n",
    "feats_fname = config['es']['feats_fname']\n",
    "feats_dict_fname = config['es']['feats_dict_fname']"
   ]
  },
  {
   "cell_type": "code",
   "execution_count": 99,
   "metadata": {
    "collapsed": false
   },
   "outputs": [],
   "source": [
    "Node = namedtuple('Node', ['seg', 'start', 'end'])"
   ]
  },
  {
   "cell_type": "markdown",
   "metadata": {},
   "source": [
    "## Nodes - find transcript words corresponding to node start and end times\n",
    "\n",
    "Create node dictionary:\n",
    "    - node id\n",
    "    - seg id\n",
    "    - start time\n",
    "    - end time"
   ]
  },
  {
   "cell_type": "code",
   "execution_count": 100,
   "metadata": {
    "collapsed": true
   },
   "outputs": [],
   "source": [
    "def map_nodes_align(seg_nodes_fname):\n",
    "    nodes_dict = {}\n",
    "    with open(seg_nodes_fname, \"r\") as seg_nodes_f:\n",
    "        for nid, line in enumerate(seg_nodes_f, start=1):\n",
    "            line_items = line.strip().split()\n",
    "            seg_id = line_items[0]\n",
    "            start_t, end_t = map(int, line_items[1:3])\n",
    "            \n",
    "            nodes_dict[nid] = Node(seg_id, start_t, end_t)\n",
    "            if nid % 1000000 == 0:\n",
    "                print('reading node %d' % nid)\n",
    "    print(\"finished reading %d nodes\" % nid)\n",
    "    return nodes_dict\n",
    "    pass"
   ]
  },
  {
   "cell_type": "markdown",
   "metadata": {},
   "source": [
    "# Edges - create a valid edges file"
   ]
  },
  {
   "cell_type": "code",
   "execution_count": 101,
   "metadata": {
    "collapsed": true
   },
   "outputs": [],
   "source": [
    "# def read_edges(nodes_dict):\n",
    "#     olap_dict = {}\n",
    "#     pairs_list = []\n",
    "#     # process clusters file\n",
    "#     with open(config['es']['edges_olap_fname'], \"r\") as in_f:\n",
    "#         for i, line in enumerate(in_f):\n",
    "#             line_items = list(map(int, line.strip().split()))\n",
    "#             olap_dict[line_items[0]] = line_items[0]\n",
    "#             if len(line_items) > 1:\n",
    "#                 for j in line_items[1:]:\n",
    "#                     olap_dict[j] = line_items[0]\n",
    "\n",
    "#     # Read edges dict\n",
    "#     with open(config['es']['edges_utd_fname'], \"r\") as in_f:\n",
    "#         for i, line in enumerate(in_f):\n",
    "#             if i % 1000000 == 0:\n",
    "#                 print(\"Processing line: %d\" % (i+1))\n",
    "#             line_items = line.strip().split()\n",
    "#             node_1 = int(line_items[0])\n",
    "#             node_2 = int(line_items[1])\n",
    "#             if node_1 not in olap_dict:\n",
    "#                 olap_dict[node_1] = node_1\n",
    "#             if node_2 not in olap_dict:\n",
    "#                 olap_dict[node_2] = node_2\n",
    "#             dtw_val = float(line_items[2]) / 1000.0\n",
    "\n",
    "#             node_1 = olap_dict[node_1]\n",
    "#             node_2 = olap_dict[node_2]\n",
    "\n",
    "#             # Add to pairs list as a tuple\n",
    "#             pairs_list.append((min(node_1, node_2), max(node_1, node_2), dtw_val))\n",
    "\n",
    "\n",
    "#     print(\"Finished - reading edges ...\")\n",
    "#     print(\"Removing duplicates in pairs list\")\n",
    "#     set_pairs = list(set(pairs_list))\n",
    "#     print(\"Set length: %d and List length: %d\" %(len(set_pairs), len(pairs_list)))\n",
    "#     pairs_list = sorted(list(set_pairs))\n",
    "# #     with open(config['es']['edges_list_fname'], \"w\") as out_f:\n",
    "# #         for (n1, n2, dtw) in set_pairs:\n",
    "# #             out_line = \"%d\\t%d\\t%.3f\\n\" % (n1, n2, dtw)\n",
    "# #             out_f.write(out_line)\n",
    "#     pickle.dump(set_pairs, open(config['es']['edges_list_fname'], \"wb\"))\n",
    "#     print(\"finished writing edges\")\n",
    "    \n",
    "#     # validity check for duplicates\n",
    "#     set_nodes_only = [(n1,n2) for n1, n2, dtw in set_pairs]\n",
    "#     if len(set_pairs) != len(set_nodes_only):\n",
    "#         raise IOError\n",
    "#     return set_pairs   \n",
    "    "
   ]
  },
  {
   "cell_type": "code",
   "execution_count": 102,
   "metadata": {
    "collapsed": true
   },
   "outputs": [],
   "source": [
    "def read_edges(nodes_dict):\n",
    "    pairs_list = []\n",
    "\n",
    "    # Read edges dict\n",
    "    with open(config['es']['edges_all_fname'], \"r\") as in_f:\n",
    "        for i, line in enumerate(in_f):\n",
    "            if i % 1000000 == 0:\n",
    "                print(\"Processing line: %d\" % (i+1))\n",
    "            line_items = line.strip().split()\n",
    "            node_1 = int(line_items[0])\n",
    "            node_2 = int(line_items[1])\n",
    "            seg_id_1 = nodes_dict[node_1].seg\n",
    "            seg_id_2 = nodes_dict[node_2].seg\n",
    "            dtw_val = float(line_items[2]) / 1000.0\n",
    "\n",
    "            # Add to pairs list as a tuple\n",
    "            pairs_list.append((min(seg_id_1, seg_id_2), max(seg_id_1, seg_id_2), dtw_val))\n",
    "\n",
    "\n",
    "    print(\"Finished - reading edges ...\")\n",
    "    print(\"Removing duplicates in pairs list\")\n",
    "    set_pairs = list(set(pairs_list))\n",
    "    print(\"Set length: %d and List length: %d\" %(len(set_pairs), len(pairs_list)))\n",
    "#     pairs_list = sorted(list(set_pairs))\n",
    "    pairs_list = sorted(pairs_list)\n",
    "#     with open(config['es']['edges_list_fname'], \"w\") as out_f:\n",
    "#         for (n1, n2, dtw) in set_pairs:\n",
    "#             out_line = \"%d\\t%d\\t%.3f\\n\" % (n1, n2, dtw)\n",
    "#             out_f.write(out_line)\n",
    "    pickle.dump(pairs_list, open(config['es']['edges_list_fname'], \"wb\"))\n",
    "    print(\"finished writing edges\")\n",
    "    \n",
    "    # validity check for duplicates\n",
    "    set_nodes_only = [(n1,n2) for n1, n2, dtw in set_pairs]\n",
    "    if len(set_pairs) != len(set_nodes_only):\n",
    "        raise IOError\n",
    "    return pairs_list   \n",
    "    "
   ]
  },
  {
   "cell_type": "markdown",
   "metadata": {
    "collapsed": true
   },
   "source": [
    "# Clusters\n",
    "\n",
    "- Save list of clusters\n",
    "- Generate bag of cluster ids for each segment\n",
    "    - use nodes per segment as replace with cluster id\n",
    "    - if no node found, use cluster id -1"
   ]
  },
  {
   "cell_type": "code",
   "execution_count": 103,
   "metadata": {
    "collapsed": true
   },
   "outputs": [],
   "source": [
    "def load_clusters(clusters_utd_fname):\n",
    "    clusters = []\n",
    "    with open(clusters_utd_fname, \"r\") as in_f:\n",
    "        for line in in_f:\n",
    "            try:\n",
    "                nodes = map(int, line.strip().split())\n",
    "                clusters.append(nodes)\n",
    "            except:\n",
    "                print(line)                    \n",
    "    return clusters"
   ]
  },
  {
   "cell_type": "code",
   "execution_count": 104,
   "metadata": {
    "collapsed": true
   },
   "outputs": [],
   "source": [
    "def generate_pseudowords_for_segments(nodes_dict, clusters, feats_fname, feats_dict_fname):\n",
    "    feats_dict = {}\n",
    "    total_errors = 0\n",
    "    display_den = len(clusters) // 10\n",
    "    \n",
    "    for clid, nodes in enumerate(clusters):\n",
    "        if clid % display_den == 0:\n",
    "            print('processing cluster %d out of %d' % (clid, len(clusters)))\n",
    "        for nid in nodes:\n",
    "            node = nodes_dict[nid]\n",
    "            if node.seg not in feats_dict:\n",
    "                feats_dict[node.seg] = []\n",
    "            feats_dict[node.seg].append(str(clid))\n",
    "    \n",
    "    print(\"total clusters: %d\" % clid)\n",
    "    # Get complete list of segment ids\n",
    "    file_list = read_file_list()\n",
    "    segids = file_list[\"train\"] + file_list[\"test\"]\n",
    "    \n",
    "    with open(feats_fname, \"w\") as out_f:\n",
    "        for seg_id in sorted(segids):\n",
    "            # adding -1 for missing pseudotext\n",
    "            if seg_id not in feats_dict:\n",
    "                #outline = \"-1\\n\"\n",
    "                total_errors += 1\n",
    "                feats_dict[seg_id] = ['-1']\n",
    "            \n",
    "            outline = \" \".join(map(str,sorted(feats_dict[seg_id])))\n",
    "            outline = outline.strip() + \"\\n\"\n",
    "            out_f.write(outline)\n",
    "            \n",
    "    print(\"Finished writing features file: %s\" % os.path.basename(feats_fname))\n",
    "    print(\"Writing to file: %s\" % os.path.basename(feats_dict_fname))\n",
    "    pickle.dump(feats_dict, open(feats_dict_fname, \"wb\"))\n",
    "    print(\"Pseudowords not found for: %d segments, out of total: %d segments\" % (total_errors, len(segids)))\n",
    "    "
   ]
  },
  {
   "cell_type": "code",
   "execution_count": 105,
   "metadata": {
    "collapsed": true
   },
   "outputs": [],
   "source": [
    "def check_dur_pseudotext(segment_map, nodes_dict, clusters, feats_fname, feats_dict_fname):\n",
    "    dur_dict = {}\n",
    "    total_errors = 0\n",
    "    total_dur = 0\n",
    "    display_den = len(clusters) // 10\n",
    "    \n",
    "    for clid, nodes in enumerate(clusters):\n",
    "        if clid % display_den == 0:\n",
    "            print('processing cluster %d out of %d' % (clid, len(clusters)))\n",
    "        for nid in nodes:\n",
    "            node = nodes_dict[nid]\n",
    "            if node.seg not in dur_dict:\n",
    "                dur_dict[node.seg] = set()\n",
    "            dur_dict[node.seg] |= set(range(node.start, node.end+1))\n",
    "            \n",
    "    # Get complete list of segment ids\n",
    "    file_list = read_file_list()\n",
    "    segids = file_list[\"train\"] + file_list[\"test\"]\n",
    "    \n",
    "    print(\"Total segments with pseudotext: %d\" % len(dur_dict))\n",
    "    print(\"Total calls with pseudotext: %d\" % len(set([sid.split(\".\")[0] for sid in dur_dict])))\n",
    "    print(\"Total segments: %d\" % len(segids))\n",
    "    total_dur = sum([len(dur_list) for dur_list in dur_dict.values()])\n",
    "    print(\"Total duration: %d secs, %.2f hours\" % (total_dur, total_dur / 100 / 3600))    "
   ]
  },
  {
   "cell_type": "markdown",
   "metadata": {},
   "source": [
    "### Main"
   ]
  },
  {
   "cell_type": "code",
   "execution_count": 106,
   "metadata": {
    "collapsed": false
   },
   "outputs": [],
   "source": [
    "file_list = read_file_list()\n",
    "segids = file_list[\"train\"] + file_list[\"test\"]"
   ]
  },
  {
   "cell_type": "code",
   "execution_count": 107,
   "metadata": {
    "collapsed": false
   },
   "outputs": [
    {
     "data": {
      "text/plain": [
       "259"
      ]
     },
     "execution_count": 107,
     "metadata": {},
     "output_type": "execute_result"
    }
   ],
   "source": [
    "len(segids)"
   ]
  },
  {
   "cell_type": "code",
   "execution_count": 108,
   "metadata": {
    "collapsed": false
   },
   "outputs": [
    {
     "name": "stdout",
     "output_type": "stream",
     "text": [
      "finished reading 1938 nodes\n"
     ]
    }
   ],
   "source": [
    "nodes_dict = map_nodes_align(seg_nodes_fname)"
   ]
  },
  {
   "cell_type": "code",
   "execution_count": 109,
   "metadata": {
    "collapsed": true
   },
   "outputs": [],
   "source": [
    "pickle.dump(nodes_dict, open(nodes_dict_fname, \"wb\"))"
   ]
  },
  {
   "cell_type": "code",
   "execution_count": 110,
   "metadata": {
    "collapsed": true
   },
   "outputs": [],
   "source": [
    "nodes_dict = pickle.load(open(nodes_dict_fname, \"rb\"))"
   ]
  },
  {
   "cell_type": "code",
   "execution_count": 111,
   "metadata": {
    "collapsed": false
   },
   "outputs": [
    {
     "name": "stdout",
     "output_type": "stream",
     "text": [
      "Processing line: 1\n",
      "Finished - reading edges ...\n",
      "Removing duplicates in pairs list\n",
      "Set length: 853 and List length: 3756\n",
      "finished writing edges\n"
     ]
    }
   ],
   "source": [
    "edges_list = read_edges(nodes_dict)"
   ]
  },
  {
   "cell_type": "code",
   "execution_count": 112,
   "metadata": {
    "collapsed": false
   },
   "outputs": [],
   "source": [
    "edges_seg_ids = [\"{0:s}_{1:s}\".format(s1, s2) for s1, s2, dtw in edges_list]"
   ]
  },
  {
   "cell_type": "code",
   "execution_count": 113,
   "metadata": {
    "collapsed": false
   },
   "outputs": [
    {
     "data": {
      "text/plain": [
       "3756"
      ]
     },
     "execution_count": 113,
     "metadata": {},
     "output_type": "execute_result"
    }
   ],
   "source": [
    "len(edges_list)"
   ]
  },
  {
   "cell_type": "code",
   "execution_count": 114,
   "metadata": {
    "collapsed": false
   },
   "outputs": [],
   "source": [
    "from collections import Counter"
   ]
  },
  {
   "cell_type": "code",
   "execution_count": 115,
   "metadata": {
    "collapsed": true
   },
   "outputs": [],
   "source": [
    "edges_seg_ids = Counter([\"{0:s}_{1:s}\".format(s1, s2) for s1, s2, dtw in edges_list])"
   ]
  },
  {
   "cell_type": "code",
   "execution_count": 116,
   "metadata": {
    "collapsed": false
   },
   "outputs": [
    {
     "data": {
      "text/plain": [
       "[('ghost_ghost', 779),\n",
       " ('fooling_fooling', 611),\n",
       " ('strongbear_strongbear', 351),\n",
       " ('owlman_owlman', 332),\n",
       " ('telescope_telescope', 284),\n",
       " ('fooling_ghost', 187),\n",
       " ('oldcouple_oldcouple', 116),\n",
       " ('047_047', 83),\n",
       " ('227_227', 61),\n",
       " ('050_050', 52),\n",
       " ('133_133', 52),\n",
       " ('136_136', 51),\n",
       " ('fooling_telescope', 49),\n",
       " ('ghost_telescope', 46),\n",
       " ('ghost_owlman', 43),\n",
       " ('oldcouple_owlman', 43),\n",
       " ('ghost_strongbear', 38),\n",
       " ('fooling_owlman', 35),\n",
       " ('fooling_strongbear', 32),\n",
       " ('ghost_oldcouple', 24),\n",
       " ('owlman_strongbear', 23),\n",
       " ('owlman_telescope', 21),\n",
       " ('201_201', 19),\n",
       " ('240_240', 18),\n",
       " ('041_041', 17),\n",
       " ('215_215', 17),\n",
       " ('180_180', 15),\n",
       " ('fooling_oldcouple', 15),\n",
       " ('055_055', 12),\n",
       " ('250_250', 9),\n",
       " ('250_ghost', 9),\n",
       " ('168_168', 8),\n",
       " ('oldcouple_strongbear', 8),\n",
       " ('201_ghost', 7),\n",
       " ('030_030', 6),\n",
       " ('191_191', 6),\n",
       " ('197_197', 6),\n",
       " ('226_226', 6),\n",
       " ('strongbear_telescope', 6),\n",
       " ('050_ghost', 5),\n",
       " ('227_fooling', 5),\n",
       " ('stonewoman_stonewoman', 5),\n",
       " ('030_owlman', 4),\n",
       " ('041_owlman', 4),\n",
       " ('041_strongbear', 4),\n",
       " ('047_050', 4),\n",
       " ('050_133', 4),\n",
       " ('050_227', 4),\n",
       " ('050_fooling', 4),\n",
       " ('133_strongbear', 4),\n",
       " ('136_strongbear', 4),\n",
       " ('156_158', 4),\n",
       " ('180_owlman', 4),\n",
       " ('214_214', 4),\n",
       " ('215_fooling', 4),\n",
       " ('oldcouple_telescope', 4),\n",
       " ('156_156', 3),\n",
       " ('158_158', 3),\n",
       " ('192_192', 3),\n",
       " ('194_194', 3)]"
      ]
     },
     "execution_count": 116,
     "metadata": {},
     "output_type": "execute_result"
    }
   ],
   "source": [
    "edges_seg_ids.most_common(60)"
   ]
  },
  {
   "cell_type": "code",
   "execution_count": 117,
   "metadata": {
    "collapsed": false
   },
   "outputs": [],
   "source": [
    "test_set = file_list[\"test\"]"
   ]
  },
  {
   "cell_type": "code",
   "execution_count": 118,
   "metadata": {
    "collapsed": true
   },
   "outputs": [],
   "source": [
    "edges_test_seg_ids = Counter([\"{0:s}_{1:s}\".format(s1, s2) \n",
    "                              for s1, s2, dtw in edges_list \n",
    "                              if s1 in test_set and s2 in test_set])"
   ]
  },
  {
   "cell_type": "code",
   "execution_count": 119,
   "metadata": {
    "collapsed": false
   },
   "outputs": [
    {
     "data": {
      "text/plain": [
       "22"
      ]
     },
     "execution_count": 119,
     "metadata": {},
     "output_type": "execute_result"
    }
   ],
   "source": [
    "len(edges_test_seg_ids)"
   ]
  },
  {
   "cell_type": "code",
   "execution_count": 120,
   "metadata": {
    "collapsed": false
   },
   "outputs": [
    {
     "data": {
      "text/plain": [
       "3052"
      ]
     },
     "execution_count": 120,
     "metadata": {},
     "output_type": "execute_result"
    }
   ],
   "source": [
    "sum([c for i, c in edges_test_seg_ids.items()])"
   ]
  },
  {
   "cell_type": "code",
   "execution_count": 121,
   "metadata": {
    "collapsed": true
   },
   "outputs": [],
   "source": [
    "clusters = load_clusters(clusters_utd_fname)"
   ]
  },
  {
   "cell_type": "code",
   "execution_count": 122,
   "metadata": {
    "collapsed": true
   },
   "outputs": [],
   "source": [
    "pickle.dump(clusters, open(clusters_fname, \"wb\"))"
   ]
  },
  {
   "cell_type": "code",
   "execution_count": 123,
   "metadata": {
    "collapsed": false
   },
   "outputs": [
    {
     "name": "stdout",
     "output_type": "stream",
     "text": [
      "processing cluster 0 out of 206\n",
      "processing cluster 20 out of 206\n",
      "processing cluster 40 out of 206\n",
      "processing cluster 60 out of 206\n",
      "processing cluster 80 out of 206\n",
      "processing cluster 100 out of 206\n",
      "processing cluster 120 out of 206\n",
      "processing cluster 140 out of 206\n",
      "processing cluster 160 out of 206\n",
      "processing cluster 180 out of 206\n",
      "processing cluster 200 out of 206\n",
      "total clusters: 205\n",
      "Finished writing features file: pseudowords.feats\n",
      "Writing to file: pseudowords.dict\n",
      "Pseudowords not found for: 199 segments, out of total: 259 segments\n"
     ]
    }
   ],
   "source": [
    "generate_pseudowords_for_segments(nodes_dict, clusters, feats_fname, feats_dict_fname)"
   ]
  },
  {
   "cell_type": "code",
   "execution_count": 124,
   "metadata": {
    "collapsed": false
   },
   "outputs": [],
   "source": [
    "# valid_pairs = read_edges()"
   ]
  },
  {
   "cell_type": "code",
   "execution_count": 125,
   "metadata": {
    "collapsed": false
   },
   "outputs": [
    {
     "name": "stdout",
     "output_type": "stream",
     "text": [
      "finished reading 1938 nodes\n",
      "Processing line: 1\n",
      "Finished - reading edges ...\n",
      "Removing duplicates in pairs list\n",
      "Set length: 853 and List length: 3756\n",
      "finished writing edges\n",
      "processing cluster 0 out of 206\n",
      "processing cluster 20 out of 206\n",
      "processing cluster 40 out of 206\n",
      "processing cluster 60 out of 206\n",
      "processing cluster 80 out of 206\n",
      "processing cluster 100 out of 206\n",
      "processing cluster 120 out of 206\n",
      "processing cluster 140 out of 206\n",
      "processing cluster 160 out of 206\n",
      "processing cluster 180 out of 206\n",
      "processing cluster 200 out of 206\n",
      "total clusters: 205\n",
      "Finished writing features file: pseudowords.feats\n",
      "Writing to file: pseudowords.dict\n",
      "Pseudowords not found for: 199 segments, out of total: 259 segments\n",
      "maining\n"
     ]
    }
   ],
   "source": [
    "def main():\n",
    "    nodes_dict = map_nodes_align(seg_nodes_fname)\n",
    "    pickle.dump(nodes_dict, open(nodes_dict_fname, \"wb\"))\n",
    "    valid_pairs = read_edges(nodes_dict)\n",
    "\n",
    "    clusters = load_clusters(clusters_utd_fname)\n",
    "    pickle.dump(clusters, open(clusters_fname, \"wb\"))\n",
    "\n",
    "    generate_pseudowords_for_segments(nodes_dict, clusters, feats_fname, feats_dict_fname)\n",
    "\n",
    "    #check_dur_pseudotext(segment_map, nodes_dict, clusters, feats_fname, feats_dict_fname)\n",
    "    print(\"maining\")\n",
    "\n",
    "if __name__ == \"__main__\":\n",
    "    main()"
   ]
  },
  {
   "cell_type": "code",
   "execution_count": 57,
   "metadata": {
    "collapsed": true
   },
   "outputs": [],
   "source": [
    "def get_output_files():\n",
    "    out_files = sorted([os.path.join(config[\"es\"][\"matches\"], f) \n",
    "                        for f in os.listdir(config[\"es\"][\"matches\"]) if f.startswith(\"out.\")], \n",
    "                       key=lambda s: int(s.rsplit(\".\", 1)[1]))\n",
    "    return out_files"
   ]
  },
  {
   "cell_type": "code",
   "execution_count": null,
   "metadata": {
    "collapsed": true
   },
   "outputs": [],
   "source": [
    "for wav_file in [f for f in os.listdir(\"../arapaho/\") if f.endswith(\"ED.wav\")]:\n",
    "    mono_wav_fname = wav_file.replace(\".mp3.SOX-CONVERTED.wav\", \".wav\")\n",
    "    mono_wav_fname = os.path.join(\"../arapaho-test-wavs\", mono_wav_fname)\n",
    "    subprocess.call([config['base'][\"sox\"], os.path.join(\"../arapaho-mp3s/\", wav_file), \n",
    "                     mono_wav_fname, \"remix\", \"1-2\"])"
   ]
  },
  {
   "cell_type": "code",
   "execution_count": 134,
   "metadata": {
    "collapsed": true
   },
   "outputs": [],
   "source": [
    "train_test_str = \"test\"\n",
    "dual_wav_path = \"../ainu/ainu-{0:s}-wavs/\".format(train_test_str)\n",
    "mono_wav_path = \"../ainu/ainu-{0:s}-mono-wavs/\".format(train_test_str)\n",
    "mono_8k_wav_path = \"../ainu/{0:s}-wavs/\".format(train_test_str)"
   ]
  },
  {
   "cell_type": "code",
   "execution_count": 135,
   "metadata": {
    "collapsed": false
   },
   "outputs": [],
   "source": [
    "for wav_file in [f for f in os.listdir(dual_wav_path) if f.endswith(\".wav\")]:\n",
    "    #mono_wav_fname = wav_file.replace(\".mp3.SOX-CONVERTED.wav\", \".wav\")\n",
    "    mono_wav_fname = os.path.join(mono_wav_path, wav_file)\n",
    "    subprocess.call([config['base'][\"sox\"], os.path.join(dual_wav_path, wav_file), \n",
    "                     mono_wav_fname, \"remix\", \"1-2\"])"
   ]
  },
  {
   "cell_type": "code",
   "execution_count": 136,
   "metadata": {
    "collapsed": true
   },
   "outputs": [],
   "source": [
    "for wav_file in [f for f in os.listdir(mono_wav_path) if f.endswith(\".wav\")]:\n",
    "    in_wav_fname = os.path.join(mono_wav_path, wav_file)\n",
    "    mono_8k_wav_fname = os.path.join(mono_8k_wav_path, wav_file)\n",
    "    \n",
    "    subprocess.call([config['base'][\"sox\"], \"-t\", \"wav\", \n",
    "                     in_wav_fname, \"-t\", \"wav\", \"-e\", \"signed-integer\", \n",
    "                      \"-b\", \"16\", \"-c\", \"1\", \"-r\", \"8000\", \"--no-dither\", \n",
    "                     mono_8k_wav_fname])"
   ]
  },
  {
   "cell_type": "code",
   "execution_count": 97,
   "metadata": {
    "collapsed": false
   },
   "outputs": [
    {
     "name": "stdout",
     "output_type": "stream",
     "text": [
      "CoffeeScript\t   JavaScript\t\t    preprocess.ipynb\r\n",
      "Colors\t\t   keyword_spot_post.ipynb  preprocess.py\r\n",
      "config_file.ipynb  Load\t\t\t    __pycache__\r\n",
      "config.json\t   map_utd_output.ipynb     Shell\r\n",
      "Editing\t\t   map_utd_output.py\t    Spell\r\n",
      "eval_utd.ipynb\t   misc.ipynb\t\t    Text,\r\n",
      "General\t\t   Moving\t\t    visualize_utd.ipynb\r\n",
      "Helper\t\t   mt_exp.ipynb\r\n"
     ]
    }
   ],
   "source": [
    "# $SOXBIN -t wav ${SRCFILE} -t wav -e signed-integer -b 16 -c 1 -r 8000 --no-dither ${WAV_FILE}"
   ]
  },
  {
   "cell_type": "code",
   "execution_count": 10,
   "metadata": {
    "collapsed": false
   },
   "outputs": [
    {
     "name": "stdout",
     "output_type": "stream",
     "text": [
      "../../../ZRTools/scripts/mark_energy.py -i ../arapaho/arapaho-train-mono-wavs/111.wav -o ../arapaho/arapaho-train-evads/111.vad -s 0.4 -e 0\n",
      "../../../ZRTools/scripts/mark_energy.py -i ../arapaho/arapaho-train-mono-wavs/250.wav -o ../arapaho/arapaho-train-evads/250.vad -s 0.4 -e 0\n",
      "../../../ZRTools/scripts/mark_energy.py -i ../arapaho/arapaho-train-mono-wavs/025.wav -o ../arapaho/arapaho-train-evads/025.vad -s 0.4 -e 0\n",
      "../../../ZRTools/scripts/mark_energy.py -i ../arapaho/arapaho-train-mono-wavs/029.wav -o ../arapaho/arapaho-train-evads/029.vad -s 0.4 -e 0\n",
      "../../../ZRTools/scripts/mark_energy.py -i ../arapaho/arapaho-train-mono-wavs/045.wav -o ../arapaho/arapaho-train-evads/045.vad -s 0.4 -e 0\n",
      "../../../ZRTools/scripts/mark_energy.py -i ../arapaho/arapaho-train-mono-wavs/122.wav -o ../arapaho/arapaho-train-evads/122.vad -s 0.4 -e 0\n",
      "../../../ZRTools/scripts/mark_energy.py -i ../arapaho/arapaho-train-mono-wavs/150.wav -o ../arapaho/arapaho-train-evads/150.vad -s 0.4 -e 0\n",
      "../../../ZRTools/scripts/mark_energy.py -i ../arapaho/arapaho-train-mono-wavs/081.wav -o ../arapaho/arapaho-train-evads/081.vad -s 0.4 -e 0\n",
      "../../../ZRTools/scripts/mark_energy.py -i ../arapaho/arapaho-train-mono-wavs/185.wav -o ../arapaho/arapaho-train-evads/185.vad -s 0.4 -e 0\n",
      "../../../ZRTools/scripts/mark_energy.py -i ../arapaho/arapaho-train-mono-wavs/167.wav -o ../arapaho/arapaho-train-evads/167.vad -s 0.4 -e 0\n",
      "../../../ZRTools/scripts/mark_energy.py -i ../arapaho/arapaho-train-mono-wavs/130.wav -o ../arapaho/arapaho-train-evads/130.vad -s 0.4 -e 0\n",
      "../../../ZRTools/scripts/mark_energy.py -i ../arapaho/arapaho-train-mono-wavs/247.wav -o ../arapaho/arapaho-train-evads/247.vad -s 0.4 -e 0\n",
      "../../../ZRTools/scripts/mark_energy.py -i ../arapaho/arapaho-train-mono-wavs/043.wav -o ../arapaho/arapaho-train-evads/043.vad -s 0.4 -e 0\n",
      "../../../ZRTools/scripts/mark_energy.py -i ../arapaho/arapaho-train-mono-wavs/040.wav -o ../arapaho/arapaho-train-evads/040.vad -s 0.4 -e 0\n",
      "../../../ZRTools/scripts/mark_energy.py -i ../arapaho/arapaho-train-mono-wavs/021.wav -o ../arapaho/arapaho-train-evads/021.vad -s 0.4 -e 0\n",
      "../../../ZRTools/scripts/mark_energy.py -i ../arapaho/arapaho-train-mono-wavs/066.wav -o ../arapaho/arapaho-train-evads/066.vad -s 0.4 -e 0\n",
      "../../../ZRTools/scripts/mark_energy.py -i ../arapaho/arapaho-train-mono-wavs/140.wav -o ../arapaho/arapaho-train-evads/140.vad -s 0.4 -e 0\n",
      "../../../ZRTools/scripts/mark_energy.py -i ../arapaho/arapaho-train-mono-wavs/035.wav -o ../arapaho/arapaho-train-evads/035.vad -s 0.4 -e 0\n",
      "../../../ZRTools/scripts/mark_energy.py -i ../arapaho/arapaho-train-mono-wavs/061.wav -o ../arapaho/arapaho-train-evads/061.vad -s 0.4 -e 0\n",
      "../../../ZRTools/scripts/mark_energy.py -i ../arapaho/arapaho-train-mono-wavs/209.wav -o ../arapaho/arapaho-train-evads/209.vad -s 0.4 -e 0\n",
      "../../../ZRTools/scripts/mark_energy.py -i ../arapaho/arapaho-train-mono-wavs/174.wav -o ../arapaho/arapaho-train-evads/174.vad -s 0.4 -e 0\n",
      "../../../ZRTools/scripts/mark_energy.py -i ../arapaho/arapaho-train-mono-wavs/169.wav -o ../arapaho/arapaho-train-evads/169.vad -s 0.4 -e 0\n",
      "../../../ZRTools/scripts/mark_energy.py -i ../arapaho/arapaho-train-mono-wavs/131.wav -o ../arapaho/arapaho-train-evads/131.vad -s 0.4 -e 0\n",
      "../../../ZRTools/scripts/mark_energy.py -i ../arapaho/arapaho-train-mono-wavs/018.wav -o ../arapaho/arapaho-train-evads/018.vad -s 0.4 -e 0\n",
      "../../../ZRTools/scripts/mark_energy.py -i ../arapaho/arapaho-train-mono-wavs/239.wav -o ../arapaho/arapaho-train-evads/239.vad -s 0.4 -e 0\n",
      "../../../ZRTools/scripts/mark_energy.py -i ../arapaho/arapaho-train-mono-wavs/022.wav -o ../arapaho/arapaho-train-evads/022.vad -s 0.4 -e 0\n",
      "../../../ZRTools/scripts/mark_energy.py -i ../arapaho/arapaho-train-mono-wavs/151.wav -o ../arapaho/arapaho-train-evads/151.vad -s 0.4 -e 0\n",
      "../../../ZRTools/scripts/mark_energy.py -i ../arapaho/arapaho-train-mono-wavs/031.wav -o ../arapaho/arapaho-train-evads/031.vad -s 0.4 -e 0\n",
      "../../../ZRTools/scripts/mark_energy.py -i ../arapaho/arapaho-train-mono-wavs/217.wav -o ../arapaho/arapaho-train-evads/217.vad -s 0.4 -e 0\n",
      "../../../ZRTools/scripts/mark_energy.py -i ../arapaho/arapaho-train-mono-wavs/207.wav -o ../arapaho/arapaho-train-evads/207.vad -s 0.4 -e 0\n",
      "../../../ZRTools/scripts/mark_energy.py -i ../arapaho/arapaho-train-mono-wavs/006.wav -o ../arapaho/arapaho-train-evads/006.vad -s 0.4 -e 0\n",
      "../../../ZRTools/scripts/mark_energy.py -i ../arapaho/arapaho-train-mono-wavs/101.wav -o ../arapaho/arapaho-train-evads/101.vad -s 0.4 -e 0\n",
      "../../../ZRTools/scripts/mark_energy.py -i ../arapaho/arapaho-train-mono-wavs/137.wav -o ../arapaho/arapaho-train-evads/137.vad -s 0.4 -e 0\n",
      "../../../ZRTools/scripts/mark_energy.py -i ../arapaho/arapaho-train-mono-wavs/110.wav -o ../arapaho/arapaho-train-evads/110.vad -s 0.4 -e 0\n",
      "../../../ZRTools/scripts/mark_energy.py -i ../arapaho/arapaho-train-mono-wavs/005.wav -o ../arapaho/arapaho-train-evads/005.vad -s 0.4 -e 0\n",
      "../../../ZRTools/scripts/mark_energy.py -i ../arapaho/arapaho-train-mono-wavs/161.wav -o ../arapaho/arapaho-train-evads/161.vad -s 0.4 -e 0\n",
      "../../../ZRTools/scripts/mark_energy.py -i ../arapaho/arapaho-train-mono-wavs/220.wav -o ../arapaho/arapaho-train-evads/220.vad -s 0.4 -e 0\n",
      "../../../ZRTools/scripts/mark_energy.py -i ../arapaho/arapaho-train-mono-wavs/097.wav -o ../arapaho/arapaho-train-evads/097.vad -s 0.4 -e 0\n",
      "../../../ZRTools/scripts/mark_energy.py -i ../arapaho/arapaho-train-mono-wavs/147.wav -o ../arapaho/arapaho-train-evads/147.vad -s 0.4 -e 0\n",
      "../../../ZRTools/scripts/mark_energy.py -i ../arapaho/arapaho-train-mono-wavs/033.wav -o ../arapaho/arapaho-train-evads/033.vad -s 0.4 -e 0\n",
      "../../../ZRTools/scripts/mark_energy.py -i ../arapaho/arapaho-train-mono-wavs/030.wav -o ../arapaho/arapaho-train-evads/030.vad -s 0.4 -e 0\n",
      "../../../ZRTools/scripts/mark_energy.py -i ../arapaho/arapaho-train-mono-wavs/138.wav -o ../arapaho/arapaho-train-evads/138.vad -s 0.4 -e 0\n",
      "../../../ZRTools/scripts/mark_energy.py -i ../arapaho/arapaho-train-mono-wavs/136.wav -o ../arapaho/arapaho-train-evads/136.vad -s 0.4 -e 0\n",
      "../../../ZRTools/scripts/mark_energy.py -i ../arapaho/arapaho-train-mono-wavs/156.wav -o ../arapaho/arapaho-train-evads/156.vad -s 0.4 -e 0\n",
      "../../../ZRTools/scripts/mark_energy.py -i ../arapaho/arapaho-train-mono-wavs/160.wav -o ../arapaho/arapaho-train-evads/160.vad -s 0.4 -e 0\n",
      "../../../ZRTools/scripts/mark_energy.py -i ../arapaho/arapaho-train-mono-wavs/059.wav -o ../arapaho/arapaho-train-evads/059.vad -s 0.4 -e 0\n",
      "../../../ZRTools/scripts/mark_energy.py -i ../arapaho/arapaho-train-mono-wavs/243.wav -o ../arapaho/arapaho-train-evads/243.vad -s 0.4 -e 0\n",
      "../../../ZRTools/scripts/mark_energy.py -i ../arapaho/arapaho-train-mono-wavs/096.wav -o ../arapaho/arapaho-train-evads/096.vad -s 0.4 -e 0\n",
      "../../../ZRTools/scripts/mark_energy.py -i ../arapaho/arapaho-train-mono-wavs/142.wav -o ../arapaho/arapaho-train-evads/142.vad -s 0.4 -e 0\n",
      "../../../ZRTools/scripts/mark_energy.py -i ../arapaho/arapaho-train-mono-wavs/054.wav -o ../arapaho/arapaho-train-evads/054.vad -s 0.4 -e 0\n",
      "../../../ZRTools/scripts/mark_energy.py -i ../arapaho/arapaho-train-mono-wavs/190.wav -o ../arapaho/arapaho-train-evads/190.vad -s 0.4 -e 0\n",
      "../../../ZRTools/scripts/mark_energy.py -i ../arapaho/arapaho-train-mono-wavs/123.wav -o ../arapaho/arapaho-train-evads/123.vad -s 0.4 -e 0\n",
      "../../../ZRTools/scripts/mark_energy.py -i ../arapaho/arapaho-train-mono-wavs/068.wav -o ../arapaho/arapaho-train-evads/068.vad -s 0.4 -e 0\n",
      "../../../ZRTools/scripts/mark_energy.py -i ../arapaho/arapaho-train-mono-wavs/090.wav -o ../arapaho/arapaho-train-evads/090.vad -s 0.4 -e 0\n",
      "../../../ZRTools/scripts/mark_energy.py -i ../arapaho/arapaho-train-mono-wavs/145.wav -o ../arapaho/arapaho-train-evads/145.vad -s 0.4 -e 0\n",
      "../../../ZRTools/scripts/mark_energy.py -i ../arapaho/arapaho-train-mono-wavs/117.wav -o ../arapaho/arapaho-train-evads/117.vad -s 0.4 -e 0\n",
      "../../../ZRTools/scripts/mark_energy.py -i ../arapaho/arapaho-train-mono-wavs/139.wav -o ../arapaho/arapaho-train-evads/139.vad -s 0.4 -e 0\n",
      "../../../ZRTools/scripts/mark_energy.py -i ../arapaho/arapaho-train-mono-wavs/052.wav -o ../arapaho/arapaho-train-evads/052.vad -s 0.4 -e 0\n",
      "../../../ZRTools/scripts/mark_energy.py -i ../arapaho/arapaho-train-mono-wavs/163.wav -o ../arapaho/arapaho-train-evads/163.vad -s 0.4 -e 0\n",
      "../../../ZRTools/scripts/mark_energy.py -i ../arapaho/arapaho-train-mono-wavs/034.wav -o ../arapaho/arapaho-train-evads/034.vad -s 0.4 -e 0\n",
      "../../../ZRTools/scripts/mark_energy.py -i ../arapaho/arapaho-train-mono-wavs/013.wav -o ../arapaho/arapaho-train-evads/013.vad -s 0.4 -e 0\n",
      "../../../ZRTools/scripts/mark_energy.py -i ../arapaho/arapaho-train-mono-wavs/168.wav -o ../arapaho/arapaho-train-evads/168.vad -s 0.4 -e 0\n",
      "../../../ZRTools/scripts/mark_energy.py -i ../arapaho/arapaho-train-mono-wavs/071.wav -o ../arapaho/arapaho-train-evads/071.vad -s 0.4 -e 0\n",
      "../../../ZRTools/scripts/mark_energy.py -i ../arapaho/arapaho-train-mono-wavs/149.wav -o ../arapaho/arapaho-train-evads/149.vad -s 0.4 -e 0\n",
      "../../../ZRTools/scripts/mark_energy.py -i ../arapaho/arapaho-train-mono-wavs/242.wav -o ../arapaho/arapaho-train-evads/242.vad -s 0.4 -e 0\n",
      "../../../ZRTools/scripts/mark_energy.py -i ../arapaho/arapaho-train-mono-wavs/028.wav -o ../arapaho/arapaho-train-evads/028.vad -s 0.4 -e 0\n",
      "../../../ZRTools/scripts/mark_energy.py -i ../arapaho/arapaho-train-mono-wavs/055.wav -o ../arapaho/arapaho-train-evads/055.vad -s 0.4 -e 0\n",
      "../../../ZRTools/scripts/mark_energy.py -i ../arapaho/arapaho-train-mono-wavs/036.wav -o ../arapaho/arapaho-train-evads/036.vad -s 0.4 -e 0\n",
      "../../../ZRTools/scripts/mark_energy.py -i ../arapaho/arapaho-train-mono-wavs/128.wav -o ../arapaho/arapaho-train-evads/128.vad -s 0.4 -e 0\n",
      "../../../ZRTools/scripts/mark_energy.py -i ../arapaho/arapaho-train-mono-wavs/141.wav -o ../arapaho/arapaho-train-evads/141.vad -s 0.4 -e 0\n",
      "../../../ZRTools/scripts/mark_energy.py -i ../arapaho/arapaho-train-mono-wavs/158.wav -o ../arapaho/arapaho-train-evads/158.vad -s 0.4 -e 0\n",
      "../../../ZRTools/scripts/mark_energy.py -i ../arapaho/arapaho-train-mono-wavs/087.wav -o ../arapaho/arapaho-train-evads/087.vad -s 0.4 -e 0\n",
      "../../../ZRTools/scripts/mark_energy.py -i ../arapaho/arapaho-train-mono-wavs/238.wav -o ../arapaho/arapaho-train-evads/238.vad -s 0.4 -e 0\n",
      "../../../ZRTools/scripts/mark_energy.py -i ../arapaho/arapaho-train-mono-wavs/201.wav -o ../arapaho/arapaho-train-evads/201.vad -s 0.4 -e 0\n",
      "../../../ZRTools/scripts/mark_energy.py -i ../arapaho/arapaho-train-mono-wavs/050.wav -o ../arapaho/arapaho-train-evads/050.vad -s 0.4 -e 0\n",
      "../../../ZRTools/scripts/mark_energy.py -i ../arapaho/arapaho-train-mono-wavs/041.wav -o ../arapaho/arapaho-train-evads/041.vad -s 0.4 -e 0\n",
      "../../../ZRTools/scripts/mark_energy.py -i ../arapaho/arapaho-train-mono-wavs/120.wav -o ../arapaho/arapaho-train-evads/120.vad -s 0.4 -e 0\n",
      "../../../ZRTools/scripts/mark_energy.py -i ../arapaho/arapaho-train-mono-wavs/062.wav -o ../arapaho/arapaho-train-evads/062.vad -s 0.4 -e 0\n",
      "../../../ZRTools/scripts/mark_energy.py -i ../arapaho/arapaho-train-mono-wavs/088.wav -o ../arapaho/arapaho-train-evads/088.vad -s 0.4 -e 0\n",
      "../../../ZRTools/scripts/mark_energy.py -i ../arapaho/arapaho-train-mono-wavs/124.wav -o ../arapaho/arapaho-train-evads/124.vad -s 0.4 -e 0\n",
      "../../../ZRTools/scripts/mark_energy.py -i ../arapaho/arapaho-train-mono-wavs/001.wav -o ../arapaho/arapaho-train-evads/001.vad -s 0.4 -e 0\n",
      "../../../ZRTools/scripts/mark_energy.py -i ../arapaho/arapaho-train-mono-wavs/017.wav -o ../arapaho/arapaho-train-evads/017.vad -s 0.4 -e 0\n",
      "../../../ZRTools/scripts/mark_energy.py -i ../arapaho/arapaho-train-mono-wavs/057.wav -o ../arapaho/arapaho-train-evads/057.vad -s 0.4 -e 0\n",
      "../../../ZRTools/scripts/mark_energy.py -i ../arapaho/arapaho-train-mono-wavs/098.wav -o ../arapaho/arapaho-train-evads/098.vad -s 0.4 -e 0\n",
      "../../../ZRTools/scripts/mark_energy.py -i ../arapaho/arapaho-train-mono-wavs/221.wav -o ../arapaho/arapaho-train-evads/221.vad -s 0.4 -e 0\n",
      "../../../ZRTools/scripts/mark_energy.py -i ../arapaho/arapaho-train-mono-wavs/216.wav -o ../arapaho/arapaho-train-evads/216.vad -s 0.4 -e 0\n",
      "../../../ZRTools/scripts/mark_energy.py -i ../arapaho/arapaho-train-mono-wavs/170.wav -o ../arapaho/arapaho-train-evads/170.vad -s 0.4 -e 0\n",
      "../../../ZRTools/scripts/mark_energy.py -i ../arapaho/arapaho-train-mono-wavs/231.wav -o ../arapaho/arapaho-train-evads/231.vad -s 0.4 -e 0\n",
      "../../../ZRTools/scripts/mark_energy.py -i ../arapaho/arapaho-train-mono-wavs/194.wav -o ../arapaho/arapaho-train-evads/194.vad -s 0.4 -e 0\n",
      "../../../ZRTools/scripts/mark_energy.py -i ../arapaho/arapaho-train-mono-wavs/089.wav -o ../arapaho/arapaho-train-evads/089.vad -s 0.4 -e 0\n",
      "../../../ZRTools/scripts/mark_energy.py -i ../arapaho/arapaho-train-mono-wavs/104.wav -o ../arapaho/arapaho-train-evads/104.vad -s 0.4 -e 0\n",
      "../../../ZRTools/scripts/mark_energy.py -i ../arapaho/arapaho-train-mono-wavs/144.wav -o ../arapaho/arapaho-train-evads/144.vad -s 0.4 -e 0\n",
      "../../../ZRTools/scripts/mark_energy.py -i ../arapaho/arapaho-train-mono-wavs/032.wav -o ../arapaho/arapaho-train-evads/032.vad -s 0.4 -e 0\n",
      "../../../ZRTools/scripts/mark_energy.py -i ../arapaho/arapaho-train-mono-wavs/219.wav -o ../arapaho/arapaho-train-evads/219.vad -s 0.4 -e 0\n",
      "../../../ZRTools/scripts/mark_energy.py -i ../arapaho/arapaho-train-mono-wavs/132.wav -o ../arapaho/arapaho-train-evads/132.vad -s 0.4 -e 0\n",
      "../../../ZRTools/scripts/mark_energy.py -i ../arapaho/arapaho-train-mono-wavs/172.wav -o ../arapaho/arapaho-train-evads/172.vad -s 0.4 -e 0\n",
      "../../../ZRTools/scripts/mark_energy.py -i ../arapaho/arapaho-train-mono-wavs/182.wav -o ../arapaho/arapaho-train-evads/182.vad -s 0.4 -e 0\n",
      "../../../ZRTools/scripts/mark_energy.py -i ../arapaho/arapaho-train-mono-wavs/246.wav -o ../arapaho/arapaho-train-evads/246.vad -s 0.4 -e 0\n",
      "../../../ZRTools/scripts/mark_energy.py -i ../arapaho/arapaho-train-mono-wavs/162.wav -o ../arapaho/arapaho-train-evads/162.vad -s 0.4 -e 0\n",
      "../../../ZRTools/scripts/mark_energy.py -i ../arapaho/arapaho-train-mono-wavs/103.wav -o ../arapaho/arapaho-train-evads/103.vad -s 0.4 -e 0\n",
      "../../../ZRTools/scripts/mark_energy.py -i ../arapaho/arapaho-train-mono-wavs/046.wav -o ../arapaho/arapaho-train-evads/046.vad -s 0.4 -e 0\n",
      "../../../ZRTools/scripts/mark_energy.py -i ../arapaho/arapaho-train-mono-wavs/114.wav -o ../arapaho/arapaho-train-evads/114.vad -s 0.4 -e 0\n",
      "../../../ZRTools/scripts/mark_energy.py -i ../arapaho/arapaho-train-mono-wavs/024.wav -o ../arapaho/arapaho-train-evads/024.vad -s 0.4 -e 0\n",
      "../../../ZRTools/scripts/mark_energy.py -i ../arapaho/arapaho-train-mono-wavs/063.wav -o ../arapaho/arapaho-train-evads/063.vad -s 0.4 -e 0\n",
      "../../../ZRTools/scripts/mark_energy.py -i ../arapaho/arapaho-train-mono-wavs/166.wav -o ../arapaho/arapaho-train-evads/166.vad -s 0.4 -e 0\n",
      "../../../ZRTools/scripts/mark_energy.py -i ../arapaho/arapaho-train-mono-wavs/051.wav -o ../arapaho/arapaho-train-evads/051.vad -s 0.4 -e 0\n",
      "../../../ZRTools/scripts/mark_energy.py -i ../arapaho/arapaho-train-mono-wavs/129.wav -o ../arapaho/arapaho-train-evads/129.vad -s 0.4 -e 0\n",
      "../../../ZRTools/scripts/mark_energy.py -i ../arapaho/arapaho-train-mono-wavs/159.wav -o ../arapaho/arapaho-train-evads/159.vad -s 0.4 -e 0\n",
      "../../../ZRTools/scripts/mark_energy.py -i ../arapaho/arapaho-train-mono-wavs/112.wav -o ../arapaho/arapaho-train-evads/112.vad -s 0.4 -e 0\n",
      "../../../ZRTools/scripts/mark_energy.py -i ../arapaho/arapaho-train-mono-wavs/148.wav -o ../arapaho/arapaho-train-evads/148.vad -s 0.4 -e 0\n",
      "../../../ZRTools/scripts/mark_energy.py -i ../arapaho/arapaho-train-mono-wavs/193.wav -o ../arapaho/arapaho-train-evads/193.vad -s 0.4 -e 0\n",
      "../../../ZRTools/scripts/mark_energy.py -i ../arapaho/arapaho-train-mono-wavs/153.wav -o ../arapaho/arapaho-train-evads/153.vad -s 0.4 -e 0\n",
      "../../../ZRTools/scripts/mark_energy.py -i ../arapaho/arapaho-train-mono-wavs/133.wav -o ../arapaho/arapaho-train-evads/133.vad -s 0.4 -e 0\n",
      "../../../ZRTools/scripts/mark_energy.py -i ../arapaho/arapaho-train-mono-wavs/070.wav -o ../arapaho/arapaho-train-evads/070.vad -s 0.4 -e 0\n",
      "../../../ZRTools/scripts/mark_energy.py -i ../arapaho/arapaho-train-mono-wavs/245.wav -o ../arapaho/arapaho-train-evads/245.vad -s 0.4 -e 0\n",
      "../../../ZRTools/scripts/mark_energy.py -i ../arapaho/arapaho-train-mono-wavs/165.wav -o ../arapaho/arapaho-train-evads/165.vad -s 0.4 -e 0\n",
      "../../../ZRTools/scripts/mark_energy.py -i ../arapaho/arapaho-train-mono-wavs/115.wav -o ../arapaho/arapaho-train-evads/115.vad -s 0.4 -e 0\n",
      "../../../ZRTools/scripts/mark_energy.py -i ../arapaho/arapaho-train-mono-wavs/086.wav -o ../arapaho/arapaho-train-evads/086.vad -s 0.4 -e 0\n",
      "../../../ZRTools/scripts/mark_energy.py -i ../arapaho/arapaho-train-mono-wavs/074.wav -o ../arapaho/arapaho-train-evads/074.vad -s 0.4 -e 0\n",
      "../../../ZRTools/scripts/mark_energy.py -i ../arapaho/arapaho-train-mono-wavs/026.wav -o ../arapaho/arapaho-train-evads/026.vad -s 0.4 -e 0\n",
      "../../../ZRTools/scripts/mark_energy.py -i ../arapaho/arapaho-train-mono-wavs/210.wav -o ../arapaho/arapaho-train-evads/210.vad -s 0.4 -e 0\n",
      "../../../ZRTools/scripts/mark_energy.py -i ../arapaho/arapaho-train-mono-wavs/225.wav -o ../arapaho/arapaho-train-evads/225.vad -s 0.4 -e 0\n",
      "../../../ZRTools/scripts/mark_energy.py -i ../arapaho/arapaho-train-mono-wavs/222.wav -o ../arapaho/arapaho-train-evads/222.vad -s 0.4 -e 0\n",
      "../../../ZRTools/scripts/mark_energy.py -i ../arapaho/arapaho-train-mono-wavs/076.wav -o ../arapaho/arapaho-train-evads/076.vad -s 0.4 -e 0\n",
      "../../../ZRTools/scripts/mark_energy.py -i ../arapaho/arapaho-train-mono-wavs/196.wav -o ../arapaho/arapaho-train-evads/196.vad -s 0.4 -e 0\n",
      "../../../ZRTools/scripts/mark_energy.py -i ../arapaho/arapaho-train-mono-wavs/134.wav -o ../arapaho/arapaho-train-evads/134.vad -s 0.4 -e 0\n",
      "../../../ZRTools/scripts/mark_energy.py -i ../arapaho/arapaho-train-mono-wavs/171.wav -o ../arapaho/arapaho-train-evads/171.vad -s 0.4 -e 0\n",
      "../../../ZRTools/scripts/mark_energy.py -i ../arapaho/arapaho-train-mono-wavs/014.wav -o ../arapaho/arapaho-train-evads/014.vad -s 0.4 -e 0\n",
      "../../../ZRTools/scripts/mark_energy.py -i ../arapaho/arapaho-train-mono-wavs/197.wav -o ../arapaho/arapaho-train-evads/197.vad -s 0.4 -e 0\n",
      "../../../ZRTools/scripts/mark_energy.py -i ../arapaho/arapaho-train-mono-wavs/176.wav -o ../arapaho/arapaho-train-evads/176.vad -s 0.4 -e 0\n",
      "../../../ZRTools/scripts/mark_energy.py -i ../arapaho/arapaho-train-mono-wavs/235.wav -o ../arapaho/arapaho-train-evads/235.vad -s 0.4 -e 0\n",
      "../../../ZRTools/scripts/mark_energy.py -i ../arapaho/arapaho-train-mono-wavs/078.wav -o ../arapaho/arapaho-train-evads/078.vad -s 0.4 -e 0\n",
      "../../../ZRTools/scripts/mark_energy.py -i ../arapaho/arapaho-train-mono-wavs/100.wav -o ../arapaho/arapaho-train-evads/100.vad -s 0.4 -e 0\n",
      "../../../ZRTools/scripts/mark_energy.py -i ../arapaho/arapaho-train-mono-wavs/004.wav -o ../arapaho/arapaho-train-evads/004.vad -s 0.4 -e 0\n",
      "../../../ZRTools/scripts/mark_energy.py -i ../arapaho/arapaho-train-mono-wavs/173.wav -o ../arapaho/arapaho-train-evads/173.vad -s 0.4 -e 0\n",
      "../../../ZRTools/scripts/mark_energy.py -i ../arapaho/arapaho-train-mono-wavs/060.wav -o ../arapaho/arapaho-train-evads/060.vad -s 0.4 -e 0\n",
      "../../../ZRTools/scripts/mark_energy.py -i ../arapaho/arapaho-train-mono-wavs/249.wav -o ../arapaho/arapaho-train-evads/249.vad -s 0.4 -e 0\n",
      "../../../ZRTools/scripts/mark_energy.py -i ../arapaho/arapaho-train-mono-wavs/127.wav -o ../arapaho/arapaho-train-evads/127.vad -s 0.4 -e 0\n",
      "../../../ZRTools/scripts/mark_energy.py -i ../arapaho/arapaho-train-mono-wavs/228.wav -o ../arapaho/arapaho-train-evads/228.vad -s 0.4 -e 0\n",
      "../../../ZRTools/scripts/mark_energy.py -i ../arapaho/arapaho-train-mono-wavs/073.wav -o ../arapaho/arapaho-train-evads/073.vad -s 0.4 -e 0\n",
      "../../../ZRTools/scripts/mark_energy.py -i ../arapaho/arapaho-train-mono-wavs/020.wav -o ../arapaho/arapaho-train-evads/020.vad -s 0.4 -e 0\n",
      "../../../ZRTools/scripts/mark_energy.py -i ../arapaho/arapaho-train-mono-wavs/152.wav -o ../arapaho/arapaho-train-evads/152.vad -s 0.4 -e 0\n",
      "../../../ZRTools/scripts/mark_energy.py -i ../arapaho/arapaho-train-mono-wavs/065.wav -o ../arapaho/arapaho-train-evads/065.vad -s 0.4 -e 0\n",
      "../../../ZRTools/scripts/mark_energy.py -i ../arapaho/arapaho-train-mono-wavs/039.wav -o ../arapaho/arapaho-train-evads/039.vad -s 0.4 -e 0\n",
      "../../../ZRTools/scripts/mark_energy.py -i ../arapaho/arapaho-train-mono-wavs/199.wav -o ../arapaho/arapaho-train-evads/199.vad -s 0.4 -e 0\n",
      "../../../ZRTools/scripts/mark_energy.py -i ../arapaho/arapaho-train-mono-wavs/234.wav -o ../arapaho/arapaho-train-evads/234.vad -s 0.4 -e 0\n",
      "../../../ZRTools/scripts/mark_energy.py -i ../arapaho/arapaho-train-mono-wavs/224.wav -o ../arapaho/arapaho-train-evads/224.vad -s 0.4 -e 0\n",
      "../../../ZRTools/scripts/mark_energy.py -i ../arapaho/arapaho-train-mono-wavs/011.wav -o ../arapaho/arapaho-train-evads/011.vad -s 0.4 -e 0\n",
      "../../../ZRTools/scripts/mark_energy.py -i ../arapaho/arapaho-train-mono-wavs/094.wav -o ../arapaho/arapaho-train-evads/094.vad -s 0.4 -e 0\n",
      "../../../ZRTools/scripts/mark_energy.py -i ../arapaho/arapaho-train-mono-wavs/092.wav -o ../arapaho/arapaho-train-evads/092.vad -s 0.4 -e 0\n",
      "../../../ZRTools/scripts/mark_energy.py -i ../arapaho/arapaho-train-mono-wavs/009.wav -o ../arapaho/arapaho-train-evads/009.vad -s 0.4 -e 0\n",
      "../../../ZRTools/scripts/mark_energy.py -i ../arapaho/arapaho-train-mono-wavs/093.wav -o ../arapaho/arapaho-train-evads/093.vad -s 0.4 -e 0\n",
      "../../../ZRTools/scripts/mark_energy.py -i ../arapaho/arapaho-train-mono-wavs/184.wav -o ../arapaho/arapaho-train-evads/184.vad -s 0.4 -e 0\n",
      "../../../ZRTools/scripts/mark_energy.py -i ../arapaho/arapaho-train-mono-wavs/175.wav -o ../arapaho/arapaho-train-evads/175.vad -s 0.4 -e 0\n",
      "../../../ZRTools/scripts/mark_energy.py -i ../arapaho/arapaho-train-mono-wavs/233.wav -o ../arapaho/arapaho-train-evads/233.vad -s 0.4 -e 0\n",
      "../../../ZRTools/scripts/mark_energy.py -i ../arapaho/arapaho-train-mono-wavs/105.wav -o ../arapaho/arapaho-train-evads/105.vad -s 0.4 -e 0\n",
      "../../../ZRTools/scripts/mark_energy.py -i ../arapaho/arapaho-train-mono-wavs/099.wav -o ../arapaho/arapaho-train-evads/099.vad -s 0.4 -e 0\n",
      "../../../ZRTools/scripts/mark_energy.py -i ../arapaho/arapaho-train-mono-wavs/214.wav -o ../arapaho/arapaho-train-evads/214.vad -s 0.4 -e 0\n",
      "../../../ZRTools/scripts/mark_energy.py -i ../arapaho/arapaho-train-mono-wavs/121.wav -o ../arapaho/arapaho-train-evads/121.vad -s 0.4 -e 0\n",
      "../../../ZRTools/scripts/mark_energy.py -i ../arapaho/arapaho-train-mono-wavs/230.wav -o ../arapaho/arapaho-train-evads/230.vad -s 0.4 -e 0\n",
      "../../../ZRTools/scripts/mark_energy.py -i ../arapaho/arapaho-train-mono-wavs/215.wav -o ../arapaho/arapaho-train-evads/215.vad -s 0.4 -e 0\n",
      "../../../ZRTools/scripts/mark_energy.py -i ../arapaho/arapaho-train-mono-wavs/198.wav -o ../arapaho/arapaho-train-evads/198.vad -s 0.4 -e 0\n",
      "../../../ZRTools/scripts/mark_energy.py -i ../arapaho/arapaho-train-mono-wavs/236.wav -o ../arapaho/arapaho-train-evads/236.vad -s 0.4 -e 0\n",
      "../../../ZRTools/scripts/mark_energy.py -i ../arapaho/arapaho-train-mono-wavs/191.wav -o ../arapaho/arapaho-train-evads/191.vad -s 0.4 -e 0\n",
      "../../../ZRTools/scripts/mark_energy.py -i ../arapaho/arapaho-train-mono-wavs/023.wav -o ../arapaho/arapaho-train-evads/023.vad -s 0.4 -e 0\n",
      "../../../ZRTools/scripts/mark_energy.py -i ../arapaho/arapaho-train-mono-wavs/212.wav -o ../arapaho/arapaho-train-evads/212.vad -s 0.4 -e 0\n",
      "../../../ZRTools/scripts/mark_energy.py -i ../arapaho/arapaho-train-mono-wavs/113.wav -o ../arapaho/arapaho-train-evads/113.vad -s 0.4 -e 0\n",
      "../../../ZRTools/scripts/mark_energy.py -i ../arapaho/arapaho-train-mono-wavs/107.wav -o ../arapaho/arapaho-train-evads/107.vad -s 0.4 -e 0\n",
      "../../../ZRTools/scripts/mark_energy.py -i ../arapaho/arapaho-train-mono-wavs/106.wav -o ../arapaho/arapaho-train-evads/106.vad -s 0.4 -e 0\n",
      "../../../ZRTools/scripts/mark_energy.py -i ../arapaho/arapaho-train-mono-wavs/067.wav -o ../arapaho/arapaho-train-evads/067.vad -s 0.4 -e 0\n",
      "../../../ZRTools/scripts/mark_energy.py -i ../arapaho/arapaho-train-mono-wavs/002.wav -o ../arapaho/arapaho-train-evads/002.vad -s 0.4 -e 0\n",
      "../../../ZRTools/scripts/mark_energy.py -i ../arapaho/arapaho-train-mono-wavs/218.wav -o ../arapaho/arapaho-train-evads/218.vad -s 0.4 -e 0\n",
      "../../../ZRTools/scripts/mark_energy.py -i ../arapaho/arapaho-train-mono-wavs/248.wav -o ../arapaho/arapaho-train-evads/248.vad -s 0.4 -e 0\n",
      "../../../ZRTools/scripts/mark_energy.py -i ../arapaho/arapaho-train-mono-wavs/072.wav -o ../arapaho/arapaho-train-evads/072.vad -s 0.4 -e 0\n",
      "../../../ZRTools/scripts/mark_energy.py -i ../arapaho/arapaho-train-mono-wavs/135.wav -o ../arapaho/arapaho-train-evads/135.vad -s 0.4 -e 0\n",
      "../../../ZRTools/scripts/mark_energy.py -i ../arapaho/arapaho-train-mono-wavs/058.wav -o ../arapaho/arapaho-train-evads/058.vad -s 0.4 -e 0\n",
      "../../../ZRTools/scripts/mark_energy.py -i ../arapaho/arapaho-train-mono-wavs/080.wav -o ../arapaho/arapaho-train-evads/080.vad -s 0.4 -e 0\n",
      "../../../ZRTools/scripts/mark_energy.py -i ../arapaho/arapaho-train-mono-wavs/178.wav -o ../arapaho/arapaho-train-evads/178.vad -s 0.4 -e 0\n",
      "../../../ZRTools/scripts/mark_energy.py -i ../arapaho/arapaho-train-mono-wavs/195.wav -o ../arapaho/arapaho-train-evads/195.vad -s 0.4 -e 0\n",
      "../../../ZRTools/scripts/mark_energy.py -i ../arapaho/arapaho-train-mono-wavs/180.wav -o ../arapaho/arapaho-train-evads/180.vad -s 0.4 -e 0\n",
      "../../../ZRTools/scripts/mark_energy.py -i ../arapaho/arapaho-train-mono-wavs/053.wav -o ../arapaho/arapaho-train-evads/053.vad -s 0.4 -e 0\n",
      "../../../ZRTools/scripts/mark_energy.py -i ../arapaho/arapaho-train-mono-wavs/205.wav -o ../arapaho/arapaho-train-evads/205.vad -s 0.4 -e 0\n",
      "../../../ZRTools/scripts/mark_energy.py -i ../arapaho/arapaho-train-mono-wavs/119.wav -o ../arapaho/arapaho-train-evads/119.vad -s 0.4 -e 0\n",
      "../../../ZRTools/scripts/mark_energy.py -i ../arapaho/arapaho-train-mono-wavs/064.wav -o ../arapaho/arapaho-train-evads/064.vad -s 0.4 -e 0\n",
      "../../../ZRTools/scripts/mark_energy.py -i ../arapaho/arapaho-train-mono-wavs/037.wav -o ../arapaho/arapaho-train-evads/037.vad -s 0.4 -e 0\n",
      "../../../ZRTools/scripts/mark_energy.py -i ../arapaho/arapaho-train-mono-wavs/206.wav -o ../arapaho/arapaho-train-evads/206.vad -s 0.4 -e 0\n",
      "../../../ZRTools/scripts/mark_energy.py -i ../arapaho/arapaho-train-mono-wavs/164.wav -o ../arapaho/arapaho-train-evads/164.vad -s 0.4 -e 0\n",
      "../../../ZRTools/scripts/mark_energy.py -i ../arapaho/arapaho-train-mono-wavs/187.wav -o ../arapaho/arapaho-train-evads/187.vad -s 0.4 -e 0\n",
      "../../../ZRTools/scripts/mark_energy.py -i ../arapaho/arapaho-train-mono-wavs/008.wav -o ../arapaho/arapaho-train-evads/008.vad -s 0.4 -e 0\n",
      "../../../ZRTools/scripts/mark_energy.py -i ../arapaho/arapaho-train-mono-wavs/204.wav -o ../arapaho/arapaho-train-evads/204.vad -s 0.4 -e 0\n",
      "../../../ZRTools/scripts/mark_energy.py -i ../arapaho/arapaho-train-mono-wavs/003.wav -o ../arapaho/arapaho-train-evads/003.vad -s 0.4 -e 0\n",
      "../../../ZRTools/scripts/mark_energy.py -i ../arapaho/arapaho-train-mono-wavs/042.wav -o ../arapaho/arapaho-train-evads/042.vad -s 0.4 -e 0\n",
      "../../../ZRTools/scripts/mark_energy.py -i ../arapaho/arapaho-train-mono-wavs/118.wav -o ../arapaho/arapaho-train-evads/118.vad -s 0.4 -e 0\n",
      "../../../ZRTools/scripts/mark_energy.py -i ../arapaho/arapaho-train-mono-wavs/226.wav -o ../arapaho/arapaho-train-evads/226.vad -s 0.4 -e 0\n",
      "../../../ZRTools/scripts/mark_energy.py -i ../arapaho/arapaho-train-mono-wavs/183.wav -o ../arapaho/arapaho-train-evads/183.vad -s 0.4 -e 0\n",
      "../../../ZRTools/scripts/mark_energy.py -i ../arapaho/arapaho-train-mono-wavs/047.wav -o ../arapaho/arapaho-train-evads/047.vad -s 0.4 -e 0\n",
      "../../../ZRTools/scripts/mark_energy.py -i ../arapaho/arapaho-train-mono-wavs/143.wav -o ../arapaho/arapaho-train-evads/143.vad -s 0.4 -e 0\n",
      "../../../ZRTools/scripts/mark_energy.py -i ../arapaho/arapaho-train-mono-wavs/049.wav -o ../arapaho/arapaho-train-evads/049.vad -s 0.4 -e 0\n",
      "../../../ZRTools/scripts/mark_energy.py -i ../arapaho/arapaho-train-mono-wavs/188.wav -o ../arapaho/arapaho-train-evads/188.vad -s 0.4 -e 0\n",
      "../../../ZRTools/scripts/mark_energy.py -i ../arapaho/arapaho-train-mono-wavs/240.wav -o ../arapaho/arapaho-train-evads/240.vad -s 0.4 -e 0\n",
      "../../../ZRTools/scripts/mark_energy.py -i ../arapaho/arapaho-train-mono-wavs/241.wav -o ../arapaho/arapaho-train-evads/241.vad -s 0.4 -e 0\n",
      "../../../ZRTools/scripts/mark_energy.py -i ../arapaho/arapaho-train-mono-wavs/192.wav -o ../arapaho/arapaho-train-evads/192.vad -s 0.4 -e 0\n",
      "../../../ZRTools/scripts/mark_energy.py -i ../arapaho/arapaho-train-mono-wavs/227.wav -o ../arapaho/arapaho-train-evads/227.vad -s 0.4 -e 0\n",
      "../../../ZRTools/scripts/mark_energy.py -i ../arapaho/arapaho-train-mono-wavs/146.wav -o ../arapaho/arapaho-train-evads/146.vad -s 0.4 -e 0\n",
      "../../../ZRTools/scripts/mark_energy.py -i ../arapaho/arapaho-train-mono-wavs/027.wav -o ../arapaho/arapaho-train-evads/027.vad -s 0.4 -e 0\n",
      "../../../ZRTools/scripts/mark_energy.py -i ../arapaho/arapaho-train-mono-wavs/083.wav -o ../arapaho/arapaho-train-evads/083.vad -s 0.4 -e 0\n",
      "../../../ZRTools/scripts/mark_energy.py -i ../arapaho/arapaho-train-mono-wavs/015.wav -o ../arapaho/arapaho-train-evads/015.vad -s 0.4 -e 0\n",
      "../../../ZRTools/scripts/mark_energy.py -i ../arapaho/arapaho-train-mono-wavs/044.wav -o ../arapaho/arapaho-train-evads/044.vad -s 0.4 -e 0\n",
      "../../../ZRTools/scripts/mark_energy.py -i ../arapaho/arapaho-train-mono-wavs/095.wav -o ../arapaho/arapaho-train-evads/095.vad -s 0.4 -e 0\n",
      "../../../ZRTools/scripts/mark_energy.py -i ../arapaho/arapaho-train-mono-wavs/007.wav -o ../arapaho/arapaho-train-evads/007.vad -s 0.4 -e 0\n",
      "../../../ZRTools/scripts/mark_energy.py -i ../arapaho/arapaho-train-mono-wavs/157.wav -o ../arapaho/arapaho-train-evads/157.vad -s 0.4 -e 0\n",
      "../../../ZRTools/scripts/mark_energy.py -i ../arapaho/arapaho-train-mono-wavs/203.wav -o ../arapaho/arapaho-train-evads/203.vad -s 0.4 -e 0\n",
      "../../../ZRTools/scripts/mark_energy.py -i ../arapaho/arapaho-train-mono-wavs/012.wav -o ../arapaho/arapaho-train-evads/012.vad -s 0.4 -e 0\n",
      "../../../ZRTools/scripts/mark_energy.py -i ../arapaho/arapaho-train-mono-wavs/084.wav -o ../arapaho/arapaho-train-evads/084.vad -s 0.4 -e 0\n",
      "../../../ZRTools/scripts/mark_energy.py -i ../arapaho/arapaho-train-mono-wavs/189.wav -o ../arapaho/arapaho-train-evads/189.vad -s 0.4 -e 0\n",
      "../../../ZRTools/scripts/mark_energy.py -i ../arapaho/arapaho-train-mono-wavs/200.wav -o ../arapaho/arapaho-train-evads/200.vad -s 0.4 -e 0\n",
      "../../../ZRTools/scripts/mark_energy.py -i ../arapaho/arapaho-train-mono-wavs/016.wav -o ../arapaho/arapaho-train-evads/016.vad -s 0.4 -e 0\n",
      "../../../ZRTools/scripts/mark_energy.py -i ../arapaho/arapaho-train-mono-wavs/075.wav -o ../arapaho/arapaho-train-evads/075.vad -s 0.4 -e 0\n",
      "../../../ZRTools/scripts/mark_energy.py -i ../arapaho/arapaho-train-mono-wavs/177.wav -o ../arapaho/arapaho-train-evads/177.vad -s 0.4 -e 0\n",
      "../../../ZRTools/scripts/mark_energy.py -i ../arapaho/arapaho-train-mono-wavs/056.wav -o ../arapaho/arapaho-train-evads/056.vad -s 0.4 -e 0\n",
      "../../../ZRTools/scripts/mark_energy.py -i ../arapaho/arapaho-train-mono-wavs/223.wav -o ../arapaho/arapaho-train-evads/223.vad -s 0.4 -e 0\n",
      "../../../ZRTools/scripts/mark_energy.py -i ../arapaho/arapaho-train-mono-wavs/208.wav -o ../arapaho/arapaho-train-evads/208.vad -s 0.4 -e 0\n",
      "../../../ZRTools/scripts/mark_energy.py -i ../arapaho/arapaho-train-mono-wavs/155.wav -o ../arapaho/arapaho-train-evads/155.vad -s 0.4 -e 0\n",
      "../../../ZRTools/scripts/mark_energy.py -i ../arapaho/arapaho-train-mono-wavs/010.wav -o ../arapaho/arapaho-train-evads/010.vad -s 0.4 -e 0\n",
      "../../../ZRTools/scripts/mark_energy.py -i ../arapaho/arapaho-train-mono-wavs/102.wav -o ../arapaho/arapaho-train-evads/102.vad -s 0.4 -e 0\n",
      "../../../ZRTools/scripts/mark_energy.py -i ../arapaho/arapaho-train-mono-wavs/091.wav -o ../arapaho/arapaho-train-evads/091.vad -s 0.4 -e 0\n",
      "../../../ZRTools/scripts/mark_energy.py -i ../arapaho/arapaho-train-mono-wavs/019.wav -o ../arapaho/arapaho-train-evads/019.vad -s 0.4 -e 0\n",
      "../../../ZRTools/scripts/mark_energy.py -i ../arapaho/arapaho-train-mono-wavs/181.wav -o ../arapaho/arapaho-train-evads/181.vad -s 0.4 -e 0\n",
      "../../../ZRTools/scripts/mark_energy.py -i ../arapaho/arapaho-train-mono-wavs/179.wav -o ../arapaho/arapaho-train-evads/179.vad -s 0.4 -e 0\n",
      "../../../ZRTools/scripts/mark_energy.py -i ../arapaho/arapaho-train-mono-wavs/082.wav -o ../arapaho/arapaho-train-evads/082.vad -s 0.4 -e 0\n",
      "../../../ZRTools/scripts/mark_energy.py -i ../arapaho/arapaho-train-mono-wavs/077.wav -o ../arapaho/arapaho-train-evads/077.vad -s 0.4 -e 0\n",
      "../../../ZRTools/scripts/mark_energy.py -i ../arapaho/arapaho-train-mono-wavs/109.wav -o ../arapaho/arapaho-train-evads/109.vad -s 0.4 -e 0\n",
      "../../../ZRTools/scripts/mark_energy.py -i ../arapaho/arapaho-train-mono-wavs/229.wav -o ../arapaho/arapaho-train-evads/229.vad -s 0.4 -e 0\n",
      "../../../ZRTools/scripts/mark_energy.py -i ../arapaho/arapaho-train-mono-wavs/211.wav -o ../arapaho/arapaho-train-evads/211.vad -s 0.4 -e 0\n",
      "../../../ZRTools/scripts/mark_energy.py -i ../arapaho/arapaho-train-mono-wavs/048.wav -o ../arapaho/arapaho-train-evads/048.vad -s 0.4 -e 0\n",
      "../../../ZRTools/scripts/mark_energy.py -i ../arapaho/arapaho-train-mono-wavs/232.wav -o ../arapaho/arapaho-train-evads/232.vad -s 0.4 -e 0\n",
      "../../../ZRTools/scripts/mark_energy.py -i ../arapaho/arapaho-train-mono-wavs/126.wav -o ../arapaho/arapaho-train-evads/126.vad -s 0.4 -e 0\n",
      "../../../ZRTools/scripts/mark_energy.py -i ../arapaho/arapaho-train-mono-wavs/202.wav -o ../arapaho/arapaho-train-evads/202.vad -s 0.4 -e 0\n",
      "../../../ZRTools/scripts/mark_energy.py -i ../arapaho/arapaho-train-mono-wavs/251.wav -o ../arapaho/arapaho-train-evads/251.vad -s 0.4 -e 0\n",
      "../../../ZRTools/scripts/mark_energy.py -i ../arapaho/arapaho-train-mono-wavs/069.wav -o ../arapaho/arapaho-train-evads/069.vad -s 0.4 -e 0\n",
      "../../../ZRTools/scripts/mark_energy.py -i ../arapaho/arapaho-train-mono-wavs/154.wav -o ../arapaho/arapaho-train-evads/154.vad -s 0.4 -e 0\n",
      "../../../ZRTools/scripts/mark_energy.py -i ../arapaho/arapaho-train-mono-wavs/108.wav -o ../arapaho/arapaho-train-evads/108.vad -s 0.4 -e 0\n",
      "../../../ZRTools/scripts/mark_energy.py -i ../arapaho/arapaho-train-mono-wavs/237.wav -o ../arapaho/arapaho-train-evads/237.vad -s 0.4 -e 0\n",
      "../../../ZRTools/scripts/mark_energy.py -i ../arapaho/arapaho-train-mono-wavs/125.wav -o ../arapaho/arapaho-train-evads/125.vad -s 0.4 -e 0\n",
      "../../../ZRTools/scripts/mark_energy.py -i ../arapaho/arapaho-train-mono-wavs/079.wav -o ../arapaho/arapaho-train-evads/079.vad -s 0.4 -e 0\n",
      "../../../ZRTools/scripts/mark_energy.py -i ../arapaho/arapaho-train-mono-wavs/186.wav -o ../arapaho/arapaho-train-evads/186.vad -s 0.4 -e 0\n",
      "../../../ZRTools/scripts/mark_energy.py -i ../arapaho/arapaho-train-mono-wavs/038.wav -o ../arapaho/arapaho-train-evads/038.vad -s 0.4 -e 0\n",
      "../../../ZRTools/scripts/mark_energy.py -i ../arapaho/arapaho-train-mono-wavs/213.wav -o ../arapaho/arapaho-train-evads/213.vad -s 0.4 -e 0\n",
      "../../../ZRTools/scripts/mark_energy.py -i ../arapaho/arapaho-train-mono-wavs/000.wav -o ../arapaho/arapaho-train-evads/000.vad -s 0.4 -e 0\n",
      "../../../ZRTools/scripts/mark_energy.py -i ../arapaho/arapaho-train-mono-wavs/116.wav -o ../arapaho/arapaho-train-evads/116.vad -s 0.4 -e 0\n",
      "../../../ZRTools/scripts/mark_energy.py -i ../arapaho/arapaho-train-mono-wavs/085.wav -o ../arapaho/arapaho-train-evads/085.vad -s 0.4 -e 0\n",
      "../../../ZRTools/scripts/mark_energy.py -i ../arapaho/arapaho-train-mono-wavs/244.wav -o ../arapaho/arapaho-train-evads/244.vad -s 0.4 -e 0\n"
     ]
    }
   ],
   "source": [
    "for wav_file in [f for f in os.listdir(\"../arapaho/arapaho-train-mono-wavs/\") if f.endswith(\".wav\")]:\n",
    "    vad_fname = os.path.join(\"../arapaho/arapaho-train-evads\", wav_file.replace(\".wav\", \".vad\"))\n",
    "    mono_wav_fname = os.path.join(\"../arapaho/arapaho-train-mono-wavs/\", wav_file)\n",
    "    print(\" \".join(map(str, [config['base'][\"energy\"], \"-i\", \n",
    "                     mono_wav_fname, \"-o\", vad_fname, \"-s\", \"0.4\", \"-e\", \"0\"])))\n",
    "    subprocess.call([\"python\", config['base'][\"energy\"], \"-i\", \n",
    "                     mono_wav_fname, \"-o\", vad_fname, \"-s\", \"0.4\", \"-e\", \"0\"])\n"
   ]
  },
  {
   "cell_type": "code",
   "execution_count": 90,
   "metadata": {
    "collapsed": true
   },
   "outputs": [],
   "source": [
    "# python scripts/mark_energy.py -i $WAV_FILE -o $VAD_FILE.tmp -s 0.4 -e 0\n",
    "# cat $VAD_FILE.tmp | awk '{print int($1*100),int($2*100);}' > $VAD_FILE\n",
    "# rm $VAD_FILE.tmp"
   ]
  },
  {
   "cell_type": "markdown",
   "metadata": {},
   "source": []
  }
 ],
 "metadata": {
  "kernelspec": {
   "display_name": "Python 3",
   "language": "python",
   "name": "python3"
  },
  "language_info": {
   "codemirror_mode": {
    "name": "ipython",
    "version": 3
   },
   "file_extension": ".py",
   "mimetype": "text/x-python",
   "name": "python",
   "nbconvert_exporter": "python",
   "pygments_lexer": "ipython3",
   "version": "3.6.0"
  }
 },
 "nbformat": 4,
 "nbformat_minor": 0
}
