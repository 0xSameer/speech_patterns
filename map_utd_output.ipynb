{
 "cells": [
  {
   "cell_type": "code",
   "execution_count": 69,
   "metadata": {
    "collapsed": true
   },
   "outputs": [],
   "source": [
    "from __future__ import print_function\n",
    "from __future__ import division\n",
    "import os\n",
    "import cPickle as pickle\n",
    "import json\n",
    "import subprocess\n",
    "from IPython.display import display\n",
    "from IPython.display import Audio\n",
    "import bisect\n",
    "from collections import namedtuple"
   ]
  },
  {
   "cell_type": "markdown",
   "metadata": {},
   "source": [
    "# Map ZRTools output to transcripts\n",
    "\n",
    "- Create modified .nodes file\n",
    "- Create mapping between es words, and nodes"
   ]
  },
  {
   "cell_type": "code",
   "execution_count": 70,
   "metadata": {
    "collapsed": true
   },
   "outputs": [],
   "source": [
    "with open(\"config.json\") as json_data_file:\n",
    "    config = json.load(json_data_file)"
   ]
  },
  {
   "cell_type": "code",
   "execution_count": 71,
   "metadata": {
    "collapsed": true
   },
   "outputs": [],
   "source": [
    "nodes_fname = os.path.join(config[\"es\"][\"zrt_out_path\"], \"master_graph.nodes\")\n",
    "edges_fname = os.path.join(config[\"es\"][\"zrt_out_path\"], \"master_graph.zedges\")\n",
    "clusters_fname = os.path.join(config[\"es\"][\"zrt_out_path\"], \"master_graph.dedups\")\n",
    "seg_nodes_fname = os.path.join(config[\"es\"][\"zrt_out_path\"], \"master_graph.segnodes\")"
   ]
  },
  {
   "cell_type": "code",
   "execution_count": 72,
   "metadata": {
    "collapsed": false
   },
   "outputs": [],
   "source": [
    "Align = namedtuple('Align', ['es_word', 'start', 'end'])"
   ]
  },
  {
   "cell_type": "code",
   "execution_count": 73,
   "metadata": {
    "collapsed": false
   },
   "outputs": [],
   "source": [
    "segment_map = pickle.load(open(\"../segments.dict\", \"rb\"))\n",
    "align_dict = pickle.load(open(\"../align_dict.p\", \"rb\"))"
   ]
  },
  {
   "cell_type": "markdown",
   "metadata": {},
   "source": [
    "## Nodes - identify the segment to which the node belongs\n",
    "\n",
    "Lookout for:\n",
    "1. Patterns that go across segment boundaries\n",
    "2. ..."
   ]
  },
  {
   "cell_type": "code",
   "execution_count": 19,
   "metadata": {
    "collapsed": false
   },
   "outputs": [
    {
     "data": {
      "text/plain": [
       "[('F', 0), ('D', 1), ('C', 2), ('C', 2), ('B', 3), ('A', 4), ('A', 4)]"
      ]
     },
     "execution_count": 19,
     "metadata": {},
     "output_type": "execute_result"
    }
   ],
   "source": [
    "def grade(score, breakpoints=[60, 70, 80, 90], grades='FDCBA'):\n",
    "    i = bisect.bisect(breakpoints, score)\n",
    "    return grades[i], i\n",
    "\n",
    "[grade(score) for score in [33, 60, 77, 70, 89, 90, 100]]"
   ]
  },
  {
   "cell_type": "code",
   "execution_count": 60,
   "metadata": {
    "collapsed": false
   },
   "outputs": [],
   "source": [
    "def search_segid(node_start, node_end, file_id, segment_map):\n",
    "    seg_id_list, start_time_list = zip(*sorted(segment_map[file_id].items(), key=lambda t:t[0]))\n",
    "\n",
    "    # Binary search to find segment where the node starts and ends in\n",
    "    # we subtract 1 as bisect returns the index where we can insert a value keeping\n",
    "    # the sort order. We do not expect it to be 0, as the node will always have a 0 or positive start\n",
    "    # time\n",
    "    seg_id_start = bisect.bisect(start_time_list, node_start)-1\n",
    "    s1 = seg_id_list[seg_id_start]\n",
    "    seg_id_end = bisect.bisect(start_time_list, node_end)-1\n",
    "    s2 = seg_id_list[seg_id_end]\n",
    "    \n",
    "#     for x in xrange(len(start_time_list)-1,-1,-1):\n",
    "#         if node_start >= start_time_list[x]:\n",
    "#             seg_id_start = x\n",
    "#             s1 = seg_id_list[x]\n",
    "#             break\n",
    "    \n",
    "#     for y in xrange(len(start_time_list)-1,-1,-1):\n",
    "#         if node_end >= start_time_list[y]:\n",
    "#             seg_id_end = y\n",
    "#             s2 = seg_id_list[y]\n",
    "#             break\n",
    "    \n",
    "    if seg_id_start == seg_id_end:\n",
    "        start = node_start - segment_map[file_id][s1]\n",
    "        end = node_end - segment_map[file_id][s1]\n",
    "        return s1, start, end, 0\n",
    "    else:\n",
    "        # Calculate which segment overlaps more\n",
    "        #print (file_id, node_start, node_end, seg_id, seg_id_start, seg_id_end, seg_id_list[seg_id_start-1], seg_id_list[seg_id_end-1])\n",
    "        if (segment_map[file_id][s2] - node_start) >= (node_end - segment_map[file_id][s2]):\n",
    "            shift_value = node_end - segment_map[file_id][s2]\n",
    "            start = node_start - segment_map[file_id][s1] - shift_value\n",
    "            end = segment_map[file_id][s2] - segment_map[file_id][s1]\n",
    "            print(\"More in s1\", start, end, shift_value)\n",
    "            return s1, start, end, 1\n",
    "        else:\n",
    "            shift_value = segment_map[file_id][s2] - node_start\n",
    "            start = 0\n",
    "            end = node_end - segment_map[file_id][s2] + shift_value\n",
    "            print(\"More in s2\", start, end, shift_value)\n",
    "            return s2, start, end, 1\n",
    "    print (file_id, node_start, node_end, seg_id_start, seg_id_end)\n",
    "    raise ValueError"
   ]
  },
  {
   "cell_type": "code",
   "execution_count": 59,
   "metadata": {
    "collapsed": false
   },
   "outputs": [
    {
     "name": "stdout",
     "output_type": "stream",
     "text": [
      "More in s1 429 561 8\n",
      "('042.079', 429, 561, 1)\n",
      "('038.001', 0, 51, 0)\n"
     ]
    }
   ],
   "source": [
    "# Test code\n",
    "print(search_segid(20509, 20641, \"042\", segment_map))\n",
    "print(search_segid(0, 51, \"038\", segment_map))"
   ]
  },
  {
   "cell_type": "code",
   "execution_count": 56,
   "metadata": {
    "collapsed": true
   },
   "outputs": [],
   "source": [
    "def create_segmented_nodes(nodes_fname, segment_map, seg_nodes_fname):\n",
    "    total_errors = 0\n",
    "    with open(nodes_fname, \"r\") as nodes_f, open(seg_nodes_fname, \"w\") as segnodes_f:\n",
    "        for i, line in enumerate(nodes_f):\n",
    "            line_items = line.strip().split(None, 3)\n",
    "            file_id = line_items[0]\n",
    "            node_start, node_end = map(int, line_items[1:3])\n",
    "            try:\n",
    "                seg_id, seg_node_start, seg_node_end, e = search_segid(node_start, node_end, file_id, segment_map)\n",
    "                total_errors += e\n",
    "                outline = \"%s\\t%d\\t%d\\t%s\\n\" % (seg_id, seg_node_start, seg_node_end, line_items[3])\n",
    "                segnodes_f.write(outline)\n",
    "            except ValueError:\n",
    "                print(\"Incorrect line format at line: %d\\n%s\" % (i, line))\n",
    "                \n",
    "    print(\"Total nodes: %d\" % (i+1))\n",
    "    print(\"Total errors: %d\" % total_errors)\n",
    "    print(\"completed\")\n",
    "            "
   ]
  },
  {
   "cell_type": "code",
   "execution_count": 74,
   "metadata": {
    "collapsed": false
   },
   "outputs": [
    {
     "data": {
      "text/plain": [
       "(u'../../../ZRTools/exp/callhome/matches/config0.80-0.90-0.80-50/master_graph.nodes',\n",
       " u'../../../ZRTools/exp/callhome/matches/config0.80-0.90-0.80-50/master_graph.segnodes')"
      ]
     },
     "execution_count": 74,
     "metadata": {},
     "output_type": "execute_result"
    }
   ],
   "source": [
    "nodes_fname, seg_nodes_fname"
   ]
  },
  {
   "cell_type": "code",
   "execution_count": 57,
   "metadata": {
    "collapsed": true
   },
   "outputs": [
    {
     "name": "stdout",
     "output_type": "stream",
     "text": [
      "More in s2 0 52 4\n",
      "More in s2 0 121 9\n",
      "More in s2 0 57 1\n",
      "More in s2 0 56 9\n",
      "More in s1 221 273 5\n",
      "More in s2 0 55 3\n",
      "More in s2 0 62 3\n",
      "More in s2 0 59 3\n",
      "More in s2 0 61 4\n",
      "More in s2 0 63 1\n",
      "More in s1 254 321 15\n",
      "More in s1 265 321 19\n",
      "More in s2 0 56 1\n",
      "More in s1 258 321 6\n",
      "More in s1 264 321 9\n",
      "More in s1 231 292 0\n",
      "More in s2 0 55 9\n",
      "More in s1 264 321 1\n",
      "More in s2 0 53 2\n",
      "More in s1 260 321 4\n",
      "More in s1 253 321 12\n",
      "More in s1 348 401 19\n",
      "More in s1 92 148 2\n",
      "More in s2 0 55 1\n",
      "More in s2 0 61 6\n",
      "More in s1 3 59 1\n",
      "More in s1 290 346 1\n",
      "More in s2 0 52 1\n",
      "More in s2 0 58 2\n",
      "More in s2 0 52 1\n",
      "More in s1 153 211 2\n",
      "More in s2 0 59 1\n",
      "More in s2 0 65 4\n",
      "More in s2 0 65 3\n",
      "More in s1 262 355 0\n",
      "More in s2 0 82 2\n",
      "More in s2 0 106 5\n",
      "More in s1 468 519 2\n",
      "More in s1 449 609 9\n",
      "More in s1 601 751 4\n",
      "More in s2 0 59 4\n",
      "More in s1 375 451 5\n",
      "More in s1 32 88 2\n",
      "More in s1 392 448 0\n",
      "More in s1 466 517 1\n",
      "More in s1 249 303 2\n",
      "More in s1 73 124 1\n",
      "More in s2 0 51 1\n",
      "More in s2 0 52 1\n",
      "More in s1 245 296 1\n",
      "More in s1 250 303 1\n",
      "More in s1 3 59 1\n",
      "More in s1 91 158 5\n",
      "More in s1 252 321 18\n",
      "More in s2 0 63 1\n",
      "More in s1 32 88 2\n",
      "More in s1 265 321 19\n",
      "More in s2 0 58 1\n",
      "More in s1 94 158 2\n",
      "More in s1 901 953 1\n",
      "More in s2 0 57 1\n",
      "More in s2 0 58 22\n",
      "More in s1 238 292 12\n",
      "More in s2 0 53 13\n",
      "More in s2 0 56 1\n",
      "More in s2 0 56 9\n",
      "More in s2 0 58 2\n",
      "More in s2 0 52 1\n",
      "More in s1 7 59 2\n",
      "More in s1 16 73 1\n",
      "More in s1 -3 56 6\n",
      "More in s1 -5 52 5\n",
      "More in s1 239 292 8\n",
      "More in s1 242 295 5\n",
      "More in s1 66 126 1\n",
      "Total nodes: 29694\n",
      "Total errors: 75\n",
      "completed\n"
     ]
    }
   ],
   "source": [
    "create_segmented_nodes(nodes_fname, segment_map, seg_nodes_fname)"
   ]
  },
  {
   "cell_type": "code",
   "execution_count": 89,
   "metadata": {
    "collapsed": true
   },
   "outputs": [],
   "source": [
    "def find_align_words_for_node(align_words_list, start, end):\n",
    "    display(align_words_list, start, end)\n",
    "    print((segment_map[\"001\"][\"001.224\"]+start)/100.0, \"=\", (segment_map[\"001\"][\"001.224\"]+end)/100.0)\n",
    "    pass"
   ]
  },
  {
   "cell_type": "code",
   "execution_count": 90,
   "metadata": {
    "collapsed": true
   },
   "outputs": [],
   "source": [
    "def map_nodes_align(seg_nodes_fname, segment_map, align_dict):\n",
    "    total_errors = 0\n",
    "    pass"
   ]
  },
  {
   "cell_type": "code",
   "execution_count": 91,
   "metadata": {
    "collapsed": false
   },
   "outputs": [
    {
     "data": {
      "text/plain": [
       "[Align(es_word='DECIDIDOS', start=10, end=72),\n",
       " Align(es_word='EN', start=72, end=84),\n",
       " Align(es_word='VOLVER', start=84, end=121),\n",
       " Align(es_word='VAMOS', start=193, end=229),\n",
       " Align(es_word='A', start=229, end=235),\n",
       " Align(es_word='VER', start=235, end=261),\n",
       " Align(es_word='VAMOS', start=301, end=341),\n",
       " Align(es_word='A', start=341, end=347),\n",
       " Align(es_word='VER', start=347, end=369)]"
      ]
     },
     "metadata": {},
     "output_type": "display_data"
    },
    {
     "data": {
      "text/plain": [
       "191"
      ]
     },
     "metadata": {},
     "output_type": "display_data"
    },
    {
     "data": {
      "text/plain": [
       "246"
      ]
     },
     "metadata": {},
     "output_type": "display_data"
    },
    {
     "name": "stdout",
     "output_type": "stream",
     "text": [
      "480.24 = 480.79\n"
     ]
    }
   ],
   "source": [
    "find_align_words_for_node(align_dict[\"001\"][\"001.224\"][\"es\"], 191, 246)"
   ]
  },
  {
   "cell_type": "code",
   "execution_count": null,
   "metadata": {
    "collapsed": false
   },
   "outputs": [],
   "source": []
  },
  {
   "cell_type": "code",
   "execution_count": null,
   "metadata": {
    "collapsed": true
   },
   "outputs": [],
   "source": []
  }
 ],
 "metadata": {
  "kernelspec": {
   "display_name": "Python 2",
   "language": "python",
   "name": "python2"
  },
  "language_info": {
   "codemirror_mode": {
    "name": "ipython",
    "version": 2
   },
   "file_extension": ".py",
   "mimetype": "text/x-python",
   "name": "python",
   "nbconvert_exporter": "python",
   "pygments_lexer": "ipython2",
   "version": "2.7.12"
  }
 },
 "nbformat": 4,
 "nbformat_minor": 0
}
