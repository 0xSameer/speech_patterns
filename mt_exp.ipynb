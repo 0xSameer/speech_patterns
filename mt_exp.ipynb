{
 "cells": [
  {
   "cell_type": "code",
   "execution_count": 281,
   "metadata": {
    "collapsed": true
   },
   "outputs": [],
   "source": [
    "from __future__ import print_function\n",
    "from __future__ import division\n",
    "import os\n",
    "import cPickle as pickle\n",
    "import json\n",
    "import subprocess\n",
    "from IPython.display import display\n",
    "from IPython.display import Audio\n",
    "import bisect\n",
    "from collections import namedtuple\n",
    "import numpy as np\n",
    "import pandas as pd\n",
    "from collections import Counter\n",
    "from prettytable import PrettyTable\n",
    "import matplotlib.pyplot as plt\n",
    "import seaborn as sns\n",
    "from tabulate import tabulate\n",
    "from matplotlib.ticker import MultipleLocator, \\\n",
    "     FormatStrFormatter, AutoMinorLocator\n",
    "%matplotlib inline"
   ]
  },
  {
   "cell_type": "code",
   "execution_count": 282,
   "metadata": {
    "collapsed": true
   },
   "outputs": [],
   "source": [
    "with open(\"config.json\") as json_data_file:\n",
    "    config = json.load(json_data_file)"
   ]
  },
  {
   "cell_type": "code",
   "execution_count": 288,
   "metadata": {
    "collapsed": false
   },
   "outputs": [],
   "source": [
    "nodes_fname = config[\"es\"]['nodes_fname']\n",
    "seg_nodes_fname = config[\"es\"]['seg_nodes_fname']\n",
    "nodes_dict_fname = config[\"es\"]['nodes_dict_fname']\n",
    "\n",
    "edges_utd_fname = config[\"es\"]['edges_utd_fname']\n",
    "edges_olap_fname = config[\"es\"]['edges_olap_fname']\n",
    "edges_all_fname = config[\"es\"]['edges_all_fname']\n",
    "edges_score_fname = config[\"es\"]['edges_score_fname']\n",
    "\n",
    "clusters_utd_fname = config['es']['clusters_utd_fname']\n",
    "clusters_fname = config['es']['clusters_fname']\n",
    "clusters_stats_fname = config['es']['clusters_stats_fname']\n",
    "\n",
    "pairs_fname = config['es']['score_pairs_fname']\n",
    "eval_fname = config['es']['eval_pairs_fname']\n",
    "\n",
    "feats_fname = config['es']['feats_fname']\n",
    "\n",
    "# Gold feats\n",
    "gold_feats_dict_fname = config['es']['gold_feats']\n",
    "# Pseudo feats\n",
    "feats_dict_fname = config['es']['feats_dict_fname']\n",
    "\n",
    "gold_probs_fname = config['es']['mt_probs_gold']\n",
    "gold_probs_dict_fname = config['es']['mt_probs_dict_gold']\n",
    "\n",
    "pseudo_probs_fname = config['es']['mt_probs_pseudo']\n",
    "pseudo_probs_dict_fname = config['es']['mt_probs_dict_pseudo']\n",
    "\n",
    "train_segment_list_fname = config['es']['mt_train_files']\n",
    "dev_segment_list_fname = config['es']['mt_dev_files']\n",
    "\n",
    "gold_corpus_fname = config['es']['mt_corpus_train_gold']\n",
    "pseudo_corpus_fname = config['es']['mt_corpus_train_pseudo']\n",
    "\n",
    "mt_gold_pred_dict_fname = config['es']['mt_gold_pred_dict']\n",
    "mt_pseudo_pred_dict_fname = config['es']['mt_pseudo_pred_dict']\n",
    "\n",
    "mt_gold_eval_dict_fname = config['es']['mt_gold_eval_dict']\n",
    "mt_pseudo_eval_dict_fname = config['es']['mt_pseudo_eval_dict']"
   ]
  },
  {
   "cell_type": "code",
   "execution_count": 21,
   "metadata": {
    "collapsed": true
   },
   "outputs": [],
   "source": [
    "Align = namedtuple('Align', ['word', 'start', 'end'])\n",
    "Node = namedtuple('Node', ['file', 'seg', 'start', 'end', 'es', 'es_cnt'])\n",
    "Eval = namedtuple('Eval', ['n1', 'n2', 'dtw', 'es_sim', 'es_cnt_sim', 'en_j_sim'])"
   ]
  },
  {
   "cell_type": "code",
   "execution_count": 72,
   "metadata": {
    "collapsed": false
   },
   "outputs": [],
   "source": [
    "segment_map = pickle.load(open(config['es']['segment_dict_fname'], \"rb\"))\n",
    "align_dict = pickle.load(open(config['es']['align_dict_fname'], \"rb\"))\n",
    "nodes_dict = pickle.load(open(nodes_dict_fname, \"rb\"))\n",
    "pairs_list = pickle.load(open(pairs_fname, \"rb\"))\n",
    "eval_dict = pickle.load(open(eval_fname, \"rb\"))\n",
    "clusters = pickle.load(open(clusters_fname, \"rb\"))\n",
    "clusters_stats = pickle.load(open(clusters_stats_fname, \"rb\"))\n",
    "feats_dict = pickle.load(open(feats_dict_fname, \"rb\"))\n",
    "gold_feats_dict = pickle.load(open(gold_feats_dict_fname, \"rb\"))\n",
    "\n",
    "if os.path.exists(gold_probs_dict_fname):\n",
    "    gold_probs_dict = pickle.load(open(gold_probs_dict_fname, \"rb\"))\n",
    "\n",
    "if os.path.exists(pseudo_probs_dict_fname):\n",
    "    pseudo_probs_dict = pickle.load(open(pseudo_probs_dict_fname, \"rb\"))\n",
    "\n",
    "if os.path.exists(mt_gold_pred_dict_fname):\n",
    "    mt_gold_pred_dict = pickle.load(open(mt_gold_pred_dict_fname, \"rb\"))\n",
    "    \n",
    "if os.path.exists(mt_pseudo_pred_dict_fname):\n",
    "    mt_pseudo_pred_dict = pickle.load(open(mt_pseudo_pred_dict_fname, \"rb\"))"
   ]
  },
  {
   "cell_type": "markdown",
   "metadata": {},
   "source": [
    "# Create parallel corpus\n",
    "\n",
    "- Use list of files specified for training\n",
    "- Create golden parallel corpus, using es transcriptions\n",
    "- Create pseudotext ||| english parallel corpus\n",
    "- For English, filter for content words\n"
   ]
  },
  {
   "cell_type": "code",
   "execution_count": 82,
   "metadata": {
    "collapsed": false
   },
   "outputs": [],
   "source": [
    "# def create_parallel_corpus(segment_list_fname, corpus_fname, pseudotext=False, es_w_key='es', en_w_key='en'):\n",
    "#     with open(corpus_fname, \"w\") as out_f, open(segment_list_fname) as in_f:\n",
    "#         for seg_id in in_f:\n",
    "#             seg_id = seg_id.strip()\n",
    "#             if pseudotext:\n",
    "#                 es_words = map(str, feats_dict[seg_id])\n",
    "#             else:\n",
    "#                 es_words = [w.word for w in align_dict[seg_id.split('.')[0]][seg_id][es_w_key]]\n",
    "#                 if not es_words:\n",
    "#                     es_words = ['-1']\n",
    "            \n",
    "#             en_words = [w.word for w in align_dict[seg_id.split('.')[0]][seg_id][en_w_key]]\n",
    "#             if not en_words:\n",
    "#                 en_words = [w.word for w in align_dict[seg_id.split('.')[0]][seg_id]['en']]\n",
    "            \n",
    "#             if es_words != ['-1']:\n",
    "#                 outline = \" \".join(es_words) + \" ||| \" + \" \".join(en_words) + \"\\n\"\n",
    "#                 out_f.write(outline)\n",
    "#     print(\"Finished generating MT corpus\")\n",
    "        "
   ]
  },
  {
   "cell_type": "code",
   "execution_count": 121,
   "metadata": {
    "collapsed": true
   },
   "outputs": [],
   "source": [
    "def get_en_words(align_dict, seg_id, en_key):\n",
    "    en_words = [w.word for w in align_dict[seg_id.split('.')[0]][seg_id][en_key]]\n",
    "    if not en_words:\n",
    "        en_words = [w.word for w in align_dict[seg_id.split('.')[0]][seg_id]['en']]\n",
    "    return en_words"
   ]
  },
  {
   "cell_type": "code",
   "execution_count": 122,
   "metadata": {
    "collapsed": true
   },
   "outputs": [],
   "source": [
    "def create_parallel_corpus(segment_list_fname, corpus_fname, feats_dict, align_dict, en_w_key='en'):\n",
    "    total_errors = 0\n",
    "    with open(corpus_fname, \"w\") as out_f, open(segment_list_fname) as in_f:\n",
    "        for seg_id in in_f:\n",
    "            seg_id = seg_id.strip()\n",
    "            es_words = feats_dict[seg_id]\n",
    "            if not es_words:\n",
    "                es_words = ['-1']\n",
    "                print('Aha')\n",
    "            \n",
    "            en_words = get_en_words(align_dict, seg_id, en_w_key)\n",
    "            \n",
    "            if es_words != ['-1']:\n",
    "                outline = \" \".join(es_words) + \" ||| \" + \" \".join(en_words) + \"\\n\"\n",
    "                out_f.write(outline)\n",
    "            else:\n",
    "                total_errors += 1\n",
    "    print(\"Finished generating MT corpus\")\n",
    "    print(\"Not found for: %d utterances\" % total_errors)"
   ]
  },
  {
   "cell_type": "code",
   "execution_count": 123,
   "metadata": {
    "collapsed": false
   },
   "outputs": [
    {
     "data": {
      "text/plain": [
       "True"
      ]
     },
     "execution_count": 123,
     "metadata": {},
     "output_type": "execute_result"
    }
   ],
   "source": [
    "lol = [item for lst in feats_dict.values() for item in lst]\n",
    "'-1' in map(str, lol[:10])"
   ]
  },
  {
   "cell_type": "code",
   "execution_count": 124,
   "metadata": {
    "collapsed": false
   },
   "outputs": [
    {
     "name": "stdout",
     "output_type": "stream",
     "text": [
      "Finished generating MT corpus\n",
      "Not found for: 0 utterances\n"
     ]
    }
   ],
   "source": [
    "create_parallel_corpus(train_segment_list_fname, gold_corpus_fname, gold_feats_dict, align_dict, en_w_key='en_cnt')"
   ]
  },
  {
   "cell_type": "code",
   "execution_count": 125,
   "metadata": {
    "collapsed": false
   },
   "outputs": [
    {
     "name": "stdout",
     "output_type": "stream",
     "text": [
      "Finished generating MT corpus\n",
      "Not found for: 5506 utterances\n"
     ]
    }
   ],
   "source": [
    "create_parallel_corpus(train_segment_list_fname, pseudo_corpus_fname, feats_dict, align_dict, en_w_key='en_cnt')"
   ]
  },
  {
   "cell_type": "markdown",
   "metadata": {},
   "source": [
    "# Train MT model using *fast_align*"
   ]
  },
  {
   "cell_type": "code",
   "execution_count": 126,
   "metadata": {
    "collapsed": true
   },
   "outputs": [],
   "source": [
    "def train_mt(corpus_fname, probs_fname):\n",
    "    FASTALIGN = config['base']['fast_align']\n",
    "    subprocess.call([FASTALIGN,\"-i\", corpus_fname, \"-v\", \"-N\", \"-p\", probs_fname]) "
   ]
  },
  {
   "cell_type": "code",
   "execution_count": 127,
   "metadata": {
    "collapsed": true
   },
   "outputs": [],
   "source": [
    "train_mt(gold_corpus_fname, gold_probs_fname)"
   ]
  },
  {
   "cell_type": "code",
   "execution_count": 128,
   "metadata": {
    "collapsed": true
   },
   "outputs": [],
   "source": [
    "train_mt(pseudo_corpus_fname, pseudo_probs_fname)"
   ]
  },
  {
   "cell_type": "code",
   "execution_count": 129,
   "metadata": {
    "collapsed": true
   },
   "outputs": [],
   "source": [
    "def save_mt_probs(probs_fname, probs_dict_fname):\n",
    "    probs_dict = {}\n",
    "    with open(probs_fname, \"r\") as in_f:\n",
    "        for i, line in enumerate(in_f):\n",
    "            line_items = line.strip().split()\n",
    "            es_w = line_items[0]\n",
    "            if es_w not in probs_dict:\n",
    "                probs_dict[es_w] = {}\n",
    "            en_w = line_items[1]\n",
    "            log_prob_val = float(line_items[2])\n",
    "            probs_dict[es_w][en_w] = log_prob_val\n",
    "    print(\"Finished reading mt probs file: %s\" % os.path.basename(probs_fname))\n",
    "    pickle.dump(probs_dict, open(probs_dict_fname, \"wb\"))\n",
    "    print(\"Finished saving mt probs dictionary: %s\" % os.path.basename(probs_dict_fname))\n",
    "    return probs_dict\n",
    "            "
   ]
  },
  {
   "cell_type": "code",
   "execution_count": 130,
   "metadata": {
    "collapsed": false
   },
   "outputs": [
    {
     "name": "stdout",
     "output_type": "stream",
     "text": [
      "Finished reading mt probs file: mt_probs_gold.txt\n",
      "Finished saving mt probs dictionary: mt_probs_dict_gold.p\n"
     ]
    }
   ],
   "source": [
    "gold_probs_dict = save_mt_probs(gold_probs_fname, gold_probs_dict_fname)"
   ]
  },
  {
   "cell_type": "code",
   "execution_count": 131,
   "metadata": {
    "collapsed": false
   },
   "outputs": [
    {
     "name": "stdout",
     "output_type": "stream",
     "text": [
      "Finished reading mt probs file: mt_probs_pseudo.txt\n",
      "Finished saving mt probs dictionary: mt_probs_dict_pseudo.p\n"
     ]
    }
   ],
   "source": [
    "pseudo_probs_dict = save_mt_probs(pseudo_probs_fname, pseudo_probs_dict_fname)"
   ]
  },
  {
   "cell_type": "code",
   "execution_count": 132,
   "metadata": {
    "collapsed": false
   },
   "outputs": [
    {
     "data": {
      "text/plain": [
       "['INTERVENCI\\xc3\\xb3N',\n",
       " 'AGRADECIMIENTO',\n",
       " '\\xc3\\xa9XITO',\n",
       " 'BUSQUE',\n",
       " 'DILUY\\xc3\\xb3']"
      ]
     },
     "metadata": {},
     "output_type": "display_data"
    },
    {
     "data": {
      "text/plain": [
       "['1869', '13357', '13356', '19719', '11542']"
      ]
     },
     "metadata": {},
     "output_type": "display_data"
    },
    {
     "data": {
      "text/plain": [
       "{'HOMEWORK': -1.0866}"
      ]
     },
     "execution_count": 132,
     "metadata": {},
     "output_type": "execute_result"
    }
   ],
   "source": [
    "display(gold_probs_dict.keys()[:5])\n",
    "display(pseudo_probs_dict.keys()[:5])\n",
    "pseudo_probs_dict['1869']"
   ]
  },
  {
   "cell_type": "markdown",
   "metadata": {},
   "source": [
    "# Make predictions"
   ]
  },
  {
   "cell_type": "code",
   "execution_count": 133,
   "metadata": {
    "collapsed": true
   },
   "outputs": [],
   "source": [
    "def mt_predict(feats_dict, probs_dict, k=1):\n",
    "    missing_pwords_errors = 0\n",
    "    missing_mt_errors = 0\n",
    "    \n",
    "    pred_dict = {}\n",
    "    # Sort probs dict\n",
    "    probs_dict_sorted = {k: sorted(v.items(), reverse=False, key=lambda t:t[1]) for k, v in probs_dict.items()}\n",
    "    \n",
    "    for seg_id in feats_dict:\n",
    "        # Empty list to store predicted English words\n",
    "        pred_dict[seg_id] = []\n",
    "        es_words = feats_dict[seg_id]\n",
    "        if es_words == ['-1']:\n",
    "            missing_pwords_errors += 1\n",
    "        else:\n",
    "            for esw in es_words:\n",
    "                # Get k predictions from probs dict\n",
    "                if esw in probs_dict_sorted:\n",
    "                    pred_dict[seg_id].extend([w for w,p in probs_dict_sorted[esw][:k]])\n",
    "                else:\n",
    "                    missing_mt_errors += 1\n",
    "    print(\"Finished making predictions\")\n",
    "    print(\"pseudoword missing for: %d utterances, and translations missing for: %d\" % (missing_pwords_errors, missing_mt_errors))\n",
    "    return pred_dict"
   ]
  },
  {
   "cell_type": "code",
   "execution_count": 220,
   "metadata": {
    "collapsed": true
   },
   "outputs": [
    {
     "name": "stdout",
     "output_type": "stream",
     "text": [
      "\n",
      "Generating k=1 predictions\n",
      "Finished making predictions\n",
      "pseudoword missing for: 0 utterances, and translations missing for: 2431\n",
      "\n",
      "Generating k=2 predictions\n",
      "Finished making predictions\n",
      "pseudoword missing for: 0 utterances, and translations missing for: 2431\n",
      "\n",
      "Generating k=3 predictions\n",
      "Finished making predictions\n",
      "pseudoword missing for: 0 utterances, and translations missing for: 2431\n",
      "\n",
      "Generating k=4 predictions\n",
      "Finished making predictions\n",
      "pseudoword missing for: 0 utterances, and translations missing for: 2431\n",
      "\n",
      "Generating k=5 predictions\n",
      "Finished making predictions\n",
      "pseudoword missing for: 0 utterances, and translations missing for: 2431\n",
      "\n",
      "Generating k=6 predictions\n",
      "Finished making predictions\n",
      "pseudoword missing for: 0 utterances, and translations missing for: 2431\n",
      "\n",
      "Generating k=7 predictions\n",
      "Finished making predictions\n",
      "pseudoword missing for: 0 utterances, and translations missing for: 2431\n",
      "\n",
      "Generating k=8 predictions\n",
      "Finished making predictions\n",
      "pseudoword missing for: 0 utterances, and translations missing for: 2431\n",
      "\n",
      "Generating k=9 predictions\n",
      "Finished making predictions\n",
      "pseudoword missing for: 0 utterances, and translations missing for: 2431\n",
      "\n",
      "Generating k=10 predictions\n",
      "Finished making predictions\n",
      "pseudoword missing for: 0 utterances, and translations missing for: 2431\n"
     ]
    }
   ],
   "source": [
    "mt_gold_pred_dict = {}\n",
    "for k in xrange(1,11):\n",
    "    print('\\nGenerating k=%d predictions' % k)\n",
    "    mt_gold_pred_dict[k] = mt_predict(gold_feats_dict, gold_probs_dict, k=k)\n",
    "\n",
    "pickle.dump(mt_gold_pred_dict, open(mt_gold_pred_dict_fname, \"wb\"))"
   ]
  },
  {
   "cell_type": "code",
   "execution_count": 216,
   "metadata": {
    "collapsed": false
   },
   "outputs": [
    {
     "name": "stdout",
     "output_type": "stream",
     "text": [
      "\n",
      "Generating k=1 predictions\n",
      "Finished making predictions\n",
      "pseudoword missing for: 7034 utterances, and translations missing for: 4567\n",
      "\n",
      "Generating k=2 predictions\n",
      "Finished making predictions\n",
      "pseudoword missing for: 7034 utterances, and translations missing for: 4567\n",
      "\n",
      "Generating k=3 predictions\n",
      "Finished making predictions\n",
      "pseudoword missing for: 7034 utterances, and translations missing for: 4567\n",
      "\n",
      "Generating k=4 predictions\n",
      "Finished making predictions\n",
      "pseudoword missing for: 7034 utterances, and translations missing for: 4567\n",
      "\n",
      "Generating k=5 predictions\n",
      "Finished making predictions\n",
      "pseudoword missing for: 7034 utterances, and translations missing for: 4567\n",
      "\n",
      "Generating k=6 predictions\n",
      "Finished making predictions\n",
      "pseudoword missing for: 7034 utterances, and translations missing for: 4567\n",
      "\n",
      "Generating k=7 predictions\n",
      "Finished making predictions\n",
      "pseudoword missing for: 7034 utterances, and translations missing for: 4567\n",
      "\n",
      "Generating k=8 predictions\n",
      "Finished making predictions\n",
      "pseudoword missing for: 7034 utterances, and translations missing for: 4567\n",
      "\n",
      "Generating k=9 predictions\n",
      "Finished making predictions\n",
      "pseudoword missing for: 7034 utterances, and translations missing for: 4567\n",
      "\n",
      "Generating k=10 predictions\n",
      "Finished making predictions\n",
      "pseudoword missing for: 7034 utterances, and translations missing for: 4567\n"
     ]
    }
   ],
   "source": [
    "mt_pseudo_pred_dict = {}\n",
    "for k in xrange(1,11):\n",
    "    print('\\nGenerating k=%d predictions' % k)\n",
    "    mt_pseudo_pred_dict[k] = mt_predict(feats_dict, pseudo_probs_dict, k=k)\n",
    "\n",
    "pickle.dump(mt_pseudo_pred_dict, open(mt_pseudo_pred_dict_fname, \"wb\"))"
   ]
  },
  {
   "cell_type": "markdown",
   "metadata": {},
   "source": [
    "# Evaluation - Precision and Recall at *k*"
   ]
  },
  {
   "cell_type": "code",
   "execution_count": 221,
   "metadata": {
    "collapsed": false
   },
   "outputs": [],
   "source": [
    "def count_match(list1, list2):\n",
    "    # each list can have repeated elements. The count should account for this.\n",
    "    count1 = Counter(list1)\n",
    "    count2 = Counter(list2)\n",
    "    common_w = set(count1.keys()) & set(count2.keys())\n",
    "    #all_w = set(count1.keys()) + set(count2.keys())\n",
    "    matches = sum([min(count1[w], count2[w]) for w in common_w])\n",
    "    return matches\n",
    "#     for w in all_w:\n",
    "#         if w in common_w:\n",
    "#     print(count1, count2)"
   ]
  },
  {
   "cell_type": "code",
   "execution_count": 260,
   "metadata": {
    "collapsed": false
   },
   "outputs": [],
   "source": [
    "def eval_mt(segment_list_fname, pred_dict, align_dict, en_key='en'):\n",
    "    # Get the k value from the prediction dict\n",
    "    k = pred_dict.keys()\n",
    "    # For every k value and for every segment, count\n",
    "    #    tp - total predicted\n",
    "    #    cp - correctly predicted\n",
    "    #    t - total correct\n",
    "    mt_eval_dict = {i: {'tp':0, 'cp':0, 't':0} for i in k}\n",
    "    \n",
    "    # Read segment ids to evaluate\n",
    "    with open(segment_list_fname, \"r\") as seg_f:\n",
    "        segids = set([sid.strip() for sid in seg_f if sid.strip()])\n",
    "    \n",
    "    print(\"evaluating %d segments\" % len(segids))\n",
    "    \n",
    "    for i in k:\n",
    "        print(\"Evaluating at k=%d\" % i)\n",
    "        #for sid in pred_dict[i]:\n",
    "        for sid in segids:\n",
    "            mt_eval_dict[i][sid] = {'tp':0, 'cp':0, 't':0}\n",
    "            # get predicted words\n",
    "            pred_en_words = pred_dict[i][sid]\n",
    "            # get reference english words\n",
    "            ref_en_words = get_en_words(align_dict, sid, en_key)\n",
    "            mt_eval_dict[i][sid]['tp'] = len(pred_en_words)\n",
    "            mt_eval_dict[i][sid]['cp'] = count_match(pred_en_words, ref_en_words)\n",
    "            mt_eval_dict[i][sid]['t'] = len(ref_en_words)\n",
    "\n",
    "            for count_key in ['tp', 'cp', 't']:\n",
    "                mt_eval_dict[i][count_key] += mt_eval_dict[i][sid][count_key]\n",
    "        # for segment ids\n",
    "        # compute precision recall at every i\n",
    "        mt_eval_dict[i]['precision'] = 0 if mt_eval_dict[i]['tp'] == 0 else \\\n",
    "                                    mt_eval_dict[i]['cp'] / mt_eval_dict[i]['tp']\n",
    "        mt_eval_dict[i]['recall'] = mt_eval_dict[i]['cp'] / mt_eval_dict[i]['t']\n",
    "    # for i in k predicts\n",
    "    return mt_eval_dict"
   ]
  },
  {
   "cell_type": "code",
   "execution_count": 289,
   "metadata": {
    "collapsed": true
   },
   "outputs": [
    {
     "name": "stdout",
     "output_type": "stream",
     "text": [
      "evaluating 13137 segments\n",
      "Evaluating at k=1\n",
      "Evaluating at k=2\n",
      "Evaluating at k=3\n",
      "Evaluating at k=4\n",
      "Evaluating at k=5\n",
      "Evaluating at k=6\n",
      "Evaluating at k=7\n",
      "Evaluating at k=8\n",
      "Evaluating at k=9\n",
      "Evaluating at k=10\n",
      "evaluating 2476 segments\n",
      "Evaluating at k=1\n",
      "Evaluating at k=2\n",
      "Evaluating at k=3\n",
      "Evaluating at k=4\n",
      "Evaluating at k=5\n",
      "Evaluating at k=6\n",
      "Evaluating at k=7\n",
      "Evaluating at k=8\n",
      "Evaluating at k=9\n",
      "Evaluating at k=10\n"
     ]
    }
   ],
   "source": [
    "gold_mt_eval_dict = {}\n",
    "gold_mt_eval_dict['train'] = eval_mt(train_segment_list_fname, mt_gold_pred_dict, align_dict)\n",
    "gold_mt_eval_dict['dev'] = eval_mt(dev_segment_list_fname, mt_gold_pred_dict, align_dict)\n",
    "pickle.dump(gold_mt_eval_dict, open(mt_gold_eval_dict_fname, \"wb\"))"
   ]
  },
  {
   "cell_type": "code",
   "execution_count": 290,
   "metadata": {
    "collapsed": false
   },
   "outputs": [
    {
     "name": "stdout",
     "output_type": "stream",
     "text": [
      "evaluating 13137 segments\n",
      "Evaluating at k=1\n",
      "Evaluating at k=2\n",
      "Evaluating at k=3\n",
      "Evaluating at k=4\n",
      "Evaluating at k=5\n",
      "Evaluating at k=6\n",
      "Evaluating at k=7\n",
      "Evaluating at k=8\n",
      "Evaluating at k=9\n",
      "Evaluating at k=10\n",
      "evaluating 2476 segments\n",
      "Evaluating at k=1\n",
      "Evaluating at k=2\n",
      "Evaluating at k=3\n",
      "Evaluating at k=4\n",
      "Evaluating at k=5\n",
      "Evaluating at k=6\n",
      "Evaluating at k=7\n",
      "Evaluating at k=8\n",
      "Evaluating at k=9\n",
      "Evaluating at k=10\n"
     ]
    }
   ],
   "source": [
    "pseudo_mt_eval_dict = {}\n",
    "pseudo_mt_eval_dict['train'] = eval_mt(train_segment_list_fname, mt_pseudo_pred_dict, align_dict)\n",
    "pseudo_mt_eval_dict['dev'] = eval_mt(dev_segment_list_fname, mt_pseudo_pred_dict, align_dict)\n",
    "pickle.dump(pseudo_mt_eval_dict, open(mt_pseudo_eval_dict_fname, \"wb\"))"
   ]
  },
  {
   "cell_type": "code",
   "execution_count": 291,
   "metadata": {
    "collapsed": false
   },
   "outputs": [
    {
     "data": {
      "text/plain": [
       "[<matplotlib.lines.Line2D at 0x7fa823691210>]"
      ]
     },
     "execution_count": 291,
     "metadata": {},
     "output_type": "execute_result"
    },
    {
     "data": {
      "image/png": "[encoded data removed]",
      "text/plain": [
       "<matplotlib.figure.Figure at 0x7fa8237a5790>"
      ]
     },
     "metadata": {},
     "output_type": "display_data"
    }
   ],
   "source": [
    "# plot precision, recall at i\n",
    "fig = plt.figure(figsize=(16,5))\n",
    "fig.add_subplot(121)\n",
    "p_at_k = [gold_mt_eval_dict['train'][i]['precision'] for i in gold_mt_eval_dict['train']]\n",
    "r_at_k = [gold_mt_eval_dict['train'][i]['recall'] for i in gold_mt_eval_dict['train']]\n",
    "plt.plot(p_at_k)\n",
    "plt.plot(r_at_k)\n",
    "fig.add_subplot(122)\n",
    "p_at_k = [gold_mt_eval_dict['dev'][i]['precision'] for i in gold_mt_eval_dict['dev']]\n",
    "r_at_k = [gold_mt_eval_dict['dev'][i]['recall'] for i in gold_mt_eval_dict['dev']]\n",
    "plt.plot(p_at_k)\n",
    "plt.plot(r_at_k)"
   ]
  },
  {
   "cell_type": "code",
   "execution_count": 292,
   "metadata": {
    "collapsed": false
   },
   "outputs": [
    {
     "data": {
      "text/plain": [
       "[<matplotlib.lines.Line2D at 0x7fa808f6d750>]"
      ]
     },
     "execution_count": 292,
     "metadata": {},
     "output_type": "execute_result"
    },
    {
     "data": {
      "image/png": "[encoded data removed]",
      "text/plain": [
       "<matplotlib.figure.Figure at 0x7fa8275290d0>"
      ]
     },
     "metadata": {},
     "output_type": "display_data"
    }
   ],
   "source": [
    "# plot precision, recall at i\n",
    "fig = plt.figure(figsize=(16,5))\n",
    "fig.add_subplot(121)\n",
    "p_at_k = [pseudo_mt_eval_dict['train'][i]['precision'] for i in pseudo_mt_eval_dict['train']]\n",
    "r_at_k = [pseudo_mt_eval_dict['train'][i]['recall'] for i in pseudo_mt_eval_dict['train']]\n",
    "plt.plot(p_at_k)\n",
    "plt.plot(r_at_k)\n",
    "fig.add_subplot(122)\n",
    "p_at_k = [pseudo_mt_eval_dict['dev'][i]['precision'] for i in pseudo_mt_eval_dict['dev']]\n",
    "r_at_k = [pseudo_mt_eval_dict['dev'][i]['recall'] for i in pseudo_mt_eval_dict['dev']]\n",
    "plt.plot(p_at_k)\n",
    "plt.plot(r_at_k)"
   ]
  },
  {
   "cell_type": "code",
   "execution_count": null,
   "metadata": {
    "collapsed": true
   },
   "outputs": [],
   "source": [
    "p_at_k = [pseudo_mt_eval_dict[i]['precision'] for i in pseudo_mt_eval_dict]\n",
    "r_at_k = [pseudo_mt_eval_dict[i]['recall'] for i in pseudo_mt_eval_dict]\n",
    "plt.plot(p_at_k)\n",
    "plt.plot(r_at_k)"
   ]
  },
  {
   "cell_type": "code",
   "execution_count": 269,
   "metadata": {
    "collapsed": false
   },
   "outputs": [
    {
     "ename": "KeyError",
     "evalue": "'precision'",
     "output_type": "error",
     "traceback": [
      "\u001b[0;31m---------------------------------------------------------------------------\u001b[0m",
      "\u001b[0;31mKeyError\u001b[0m                                  Traceback (most recent call last)",
      "\u001b[0;32m<ipython-input-269-6dfeeacd7e32>\u001b[0m in \u001b[0;36m<module>\u001b[0;34m()\u001b[0m\n\u001b[1;32m      2\u001b[0m \u001b[0mfig\u001b[0m \u001b[0;34m=\u001b[0m \u001b[0mplt\u001b[0m\u001b[0;34m.\u001b[0m\u001b[0mfigure\u001b[0m\u001b[0;34m(\u001b[0m\u001b[0mfigsize\u001b[0m\u001b[0;34m=\u001b[0m\u001b[0;34m(\u001b[0m\u001b[0;36m8\u001b[0m\u001b[0;34m,\u001b[0m\u001b[0;36m5\u001b[0m\u001b[0;34m)\u001b[0m\u001b[0;34m)\u001b[0m\u001b[0;34m\u001b[0m\u001b[0m\n\u001b[1;32m      3\u001b[0m \u001b[0;34m\u001b[0m\u001b[0m\n\u001b[0;32m----> 4\u001b[0;31m \u001b[0mp_at_k\u001b[0m \u001b[0;34m=\u001b[0m \u001b[0;34m[\u001b[0m\u001b[0mpseudo_mt_eval_dict\u001b[0m\u001b[0;34m[\u001b[0m\u001b[0mi\u001b[0m\u001b[0;34m]\u001b[0m\u001b[0;34m[\u001b[0m\u001b[0;34m'precision'\u001b[0m\u001b[0;34m]\u001b[0m \u001b[0;32mfor\u001b[0m \u001b[0mi\u001b[0m \u001b[0;32min\u001b[0m \u001b[0mpseudo_mt_eval_dict\u001b[0m\u001b[0;34m]\u001b[0m\u001b[0;34m\u001b[0m\u001b[0m\n\u001b[0m\u001b[1;32m      5\u001b[0m \u001b[0mr_at_k\u001b[0m \u001b[0;34m=\u001b[0m \u001b[0;34m[\u001b[0m\u001b[0mpseudo_mt_eval_dict\u001b[0m\u001b[0;34m[\u001b[0m\u001b[0mi\u001b[0m\u001b[0;34m]\u001b[0m\u001b[0;34m[\u001b[0m\u001b[0;34m'recall'\u001b[0m\u001b[0;34m]\u001b[0m \u001b[0;32mfor\u001b[0m \u001b[0mi\u001b[0m \u001b[0;32min\u001b[0m \u001b[0mpseudo_mt_eval_dict\u001b[0m\u001b[0;34m]\u001b[0m\u001b[0;34m\u001b[0m\u001b[0m\n\u001b[1;32m      6\u001b[0m \u001b[0mplt\u001b[0m\u001b[0;34m.\u001b[0m\u001b[0mplot\u001b[0m\u001b[0;34m(\u001b[0m\u001b[0mp_at_k\u001b[0m\u001b[0;34m)\u001b[0m\u001b[0;34m\u001b[0m\u001b[0m\n",
      "\u001b[0;31mKeyError\u001b[0m: 'precision'"
     ]
    },
    {
     "data": {
      "text/plain": [
       "<matplotlib.figure.Figure at 0x7fa82360ca90>"
      ]
     },
     "metadata": {},
     "output_type": "display_data"
    }
   ],
   "source": [
    "# plot precision, recall at i\n",
    "fig = plt.figure(figsize=(8,5))\n",
    "\n",
    "p_at_k = [pseudo_mt_eval_dict[i]['precision'] for i in pseudo_mt_eval_dict]\n",
    "r_at_k = [pseudo_mt_eval_dict[i]['recall'] for i in pseudo_mt_eval_dict]\n",
    "plt.plot(p_at_k)\n",
    "plt.plot(r_at_k)"
   ]
  },
  {
   "cell_type": "markdown",
   "metadata": {},
   "source": [
    "# Scratch"
   ]
  },
  {
   "cell_type": "code",
   "execution_count": 243,
   "metadata": {
    "collapsed": false
   },
   "outputs": [
    {
     "data": {
      "text/plain": [
       "(17394, 17394)"
      ]
     },
     "execution_count": 243,
     "metadata": {},
     "output_type": "execute_result"
    }
   ],
   "source": [
    "len(mt_gold_pred_dict[i]), len(mt_pseudo_pred_dict[i])"
   ]
  },
  {
   "cell_type": "code",
   "execution_count": 164,
   "metadata": {
    "collapsed": false
   },
   "outputs": [
    {
     "data": {
      "text/plain": [
       "[0, 1, 2, 3, 4, 5, 6, 7, 8, 9, 10]"
      ]
     },
     "execution_count": 164,
     "metadata": {},
     "output_type": "execute_result"
    }
   ],
   "source": [
    "mt_gold_pred_dict.keys()"
   ]
  },
  {
   "cell_type": "code",
   "execution_count": 160,
   "metadata": {
    "collapsed": false
   },
   "outputs": [
    {
     "name": "stdout",
     "output_type": "stream",
     "text": [
      "1 True\n",
      "1 True\n",
      "1 True\n",
      "2 True\n",
      "2 True\n",
      "0 True\n",
      "0 True\n",
      "0 True\n",
      "3 True\n"
     ]
    }
   ],
   "source": [
    "# test count_match\n",
    "A = [1,2,3]\n",
    "B = [1]\n",
    "print(count_match(A,B), count_match(A,B) == 1)\n",
    "\n",
    "A = [1,2,3]\n",
    "B = [1, 1]\n",
    "print(count_match(A,B), count_match(A,B) == 1)\n",
    "\n",
    "A = [1, 1, 2,3]\n",
    "B = [1]\n",
    "print(count_match(A,B), count_match(A,B) == 1)\n",
    "\n",
    "A = [1, 1, 2,3]\n",
    "B = [1,2]\n",
    "print(count_match(A,B), count_match(A,B) == 2)\n",
    "\n",
    "A = [1, 1, 2,3]\n",
    "B = [1, 4, 1]\n",
    "print(count_match(A,B), count_match(A,B) == 2)\n",
    "\n",
    "A = [1, 1, 2,3]\n",
    "B = []\n",
    "print(count_match(A,B), count_match(A,B) == 0)\n",
    "\n",
    "A = []\n",
    "B = []\n",
    "print(count_match(A,B), count_match(A,B) == 0)\n",
    "\n",
    "A = [1, 1, 2,3]\n",
    "B = [4, 5]\n",
    "print(count_match(A,B), count_match(A,B) == 0)\n",
    "\n",
    "A = [1, 1, 2,3]\n",
    "B = [1,2,3,3]\n",
    "print(count_match(A,B), count_match(A,B) == 3)"
   ]
  },
  {
   "cell_type": "code",
   "execution_count": 105,
   "metadata": {
    "collapsed": false
   },
   "outputs": [
    {
     "name": "stdout",
     "output_type": "stream",
     "text": [
      "Counter({'COLLEGE': 2, 'SENDING': 2, 'DUDE': 1, 'FIRST': 1}) Counter({\"'LL\": 2, 'SEND': 2, 'TOLD': 2, 'FIRST': 1})\n"
     ]
    }
   ],
   "source": [
    "# display(mt_gold_pred_dict[1]['005.001'], [w.word for w in align_dict['005']['005.001']['en_cnt']])\n",
    "count_match(mt_gold_pred_dict[1]['005.001'], [w.word for w in align_dict['005']['005.001']['en_cnt']])"
   ]
  },
  {
   "cell_type": "code",
   "execution_count": 76,
   "metadata": {
    "collapsed": false
   },
   "outputs": [
    {
     "name": "stdout",
     "output_type": "stream",
     "text": [
      "{0: {'cp': 0, 't': 0, 'tp': 0}, 1: {'cp': 0, 't': 0, 'tp': 0}, 2: {'cp': 0, 't': 0, 'tp': 0}, 3: {'cp': 0, 't': 0, 'tp': 0}, 4: {'cp': 0, 't': 0, 'tp': 0}, 5: {'cp': 0, 't': 0, 'tp': 0}, 6: {'cp': 0, 't': 0, 'tp': 0}, 7: {'cp': 0, 't': 0, 'tp': 0}, 8: {'cp': 0, 't': 0, 'tp': 0}, 9: {'cp': 0, 't': 0, 'tp': 0}, 10: {'cp': 0, 't': 0, 'tp': 0}}\n"
     ]
    }
   ],
   "source": [
    "eval_mt(mt_gold_pred_dict, gold_feats_dict)"
   ]
  },
  {
   "cell_type": "code",
   "execution_count": 79,
   "metadata": {
    "collapsed": false
   },
   "outputs": [
    {
     "data": {
      "text/plain": [
       "(17394, 17394)"
      ]
     },
     "execution_count": 79,
     "metadata": {},
     "output_type": "execute_result"
    }
   ],
   "source": [
    "len(mt_gold_pred_dict[1]), len(gold_feats_dict)"
   ]
  },
  {
   "cell_type": "code",
   "execution_count": 71,
   "metadata": {
    "collapsed": false
   },
   "outputs": [
    {
     "name": "stdout",
     "output_type": "stream",
     "text": [
      "Usage: ../../../fast_align/build/fast_align -i file.fr-en\r\n",
      " Standard options ([USE] = strongly recommended):\r\n",
      "  -i: [REQ] Input parallel corpus\r\n",
      "  -v: [USE] Use Dirichlet prior on lexical translation distributions\r\n",
      "  -d: [USE] Favor alignment points close to the monotonic diagonoal\r\n",
      "  -o: [USE] Optimize how close to the diagonal alignment points should be\r\n",
      "  -r: Run alignment in reverse (condition on target and predict source)\r\n",
      "  -c: Output conditional probability table\r\n",
      " Advanced options:\r\n",
      "  -I: number of iterations in EM training (default = 5)\r\n",
      "  -q: p_null parameter (default = 0.08)\r\n",
      "  -N: No null word\r\n",
      "  -a: alpha parameter for optional Dirichlet prior (default = 0.01)\r\n",
      "  -T: starting lambda for diagonal distance parameter (default = 4)\r\n",
      "  -s: print alignment scores (alignment ||| score, disabled by default)\r\n"
     ]
    }
   ],
   "source": [
    "FASTALIGN = config['base']['fast_align']\n",
    "!$FASTALIGN"
   ]
  },
  {
   "cell_type": "code",
   "execution_count": 68,
   "metadata": {
    "collapsed": false
   },
   "outputs": [
    {
     "data": {
      "text/plain": [
       "['SENT', 'GONNA', 'ALSO']"
      ]
     },
     "metadata": {},
     "output_type": "display_data"
    },
    {
     "data": {
      "text/plain": [
       "['DIFFERENT', 'ALREADY', 'TOLD', 'RIGHT', 'HAPPENED', 'SENT']"
      ]
     },
     "metadata": {},
     "output_type": "display_data"
    }
   ],
   "source": [
    "display(mt_gold_pred_dict[2]['001.001'])\n",
    "display(mt_pseudo_pred_dict[2]['001.001'])"
   ]
  },
  {
   "cell_type": "code",
   "execution_count": 42,
   "metadata": {
    "collapsed": false
   },
   "outputs": [
    {
     "data": {
      "text/plain": [
       "True"
      ]
     },
     "execution_count": 42,
     "metadata": {},
     "output_type": "execute_result"
    }
   ],
   "source": [
    "sorted([seg for fid in align_dict for seg in align_dict[fid]]) == sorted(seg for fid in segment_map for seg in segment_map[fid])"
   ]
  },
  {
   "cell_type": "code",
   "execution_count": 57,
   "metadata": {
    "collapsed": false
   },
   "outputs": [
    {
     "data": {
      "text/plain": [
       "['MECHITA', 'SENT', 'POCHO']"
      ]
     },
     "execution_count": 57,
     "metadata": {},
     "output_type": "execute_result"
    }
   ],
   "source": [
    "[en_align.word for en_align in align_dict['001']['001.001']['en_cnt']]"
   ]
  },
  {
   "cell_type": "code",
   "execution_count": 60,
   "metadata": {
    "collapsed": false
   },
   "outputs": [
    {
     "name": "stdout",
     "output_type": "stream",
     "text": [
      "485\n",
      "16909\n",
      "17394\n"
     ]
    }
   ],
   "source": [
    "haha = [1 for fid in align_dict for segid in align_dict[fid] if align_dict[fid][segid]['en_cnt'] == []]\n",
    "print(sum(haha))\n",
    "haha = [1 for fid in align_dict for segid in align_dict[fid] if align_dict[fid][segid]['en_cnt'] != []]\n",
    "print(sum(haha))\n",
    "print(485+16909)"
   ]
  },
  {
   "cell_type": "code",
   "execution_count": 18,
   "metadata": {
    "collapsed": true
   },
   "outputs": [
    {
     "data": {
      "text/plain": [
       "['090',\n",
       " '091',\n",
       " '092',\n",
       " '093',\n",
       " '094',\n",
       " '095',\n",
       " '096',\n",
       " '097',\n",
       " '010',\n",
       " '011',\n",
       " '012',\n",
       " '013',\n",
       " '014',\n",
       " '015',\n",
       " '018',\n",
       " '025',\n",
       " '024',\n",
       " '027',\n",
       " '026',\n",
       " '021',\n",
       " '023',\n",
       " '022',\n",
       " '029',\n",
       " '028',\n",
       " '115',\n",
       " '114',\n",
       " '038',\n",
       " '116',\n",
       " '111',\n",
       " '110',\n",
       " '113',\n",
       " '112',\n",
       " '032',\n",
       " '033',\n",
       " '030',\n",
       " '031',\n",
       " '036',\n",
       " '037',\n",
       " '034',\n",
       " '035',\n",
       " '108',\n",
       " '049',\n",
       " '048',\n",
       " '047',\n",
       " '046',\n",
       " '100',\n",
       " '101',\n",
       " '043',\n",
       " '042',\n",
       " '104',\n",
       " '105',\n",
       " '058',\n",
       " '059',\n",
       " '103',\n",
       " '054',\n",
       " '056',\n",
       " '057',\n",
       " '050',\n",
       " '051',\n",
       " '052',\n",
       " '053',\n",
       " '044',\n",
       " '106',\n",
       " '107',\n",
       " '041',\n",
       " '040',\n",
       " '061',\n",
       " '060',\n",
       " '063',\n",
       " '062',\n",
       " '065',\n",
       " '064',\n",
       " '067',\n",
       " '066',\n",
       " '117',\n",
       " '039',\n",
       " '076',\n",
       " '077',\n",
       " '075',\n",
       " '072',\n",
       " '073',\n",
       " '070',\n",
       " '071',\n",
       " '045',\n",
       " '078',\n",
       " '079',\n",
       " '119',\n",
       " '118',\n",
       " '089',\n",
       " '088',\n",
       " '083',\n",
       " '082',\n",
       " '081',\n",
       " '087',\n",
       " '086',\n",
       " '085',\n",
       " '084',\n",
       " '002',\n",
       " '001',\n",
       " '007',\n",
       " '006',\n",
       " '005',\n",
       " '009',\n",
       " '120']"
      ]
     },
     "execution_count": 18,
     "metadata": {},
     "output_type": "execute_result"
    }
   ],
   "source": [
    "for fid in segment_map:\n",
    "    for seg_id in segment_map[fid]:\n",
    "        "
   ]
  },
  {
   "cell_type": "code",
   "execution_count": 29,
   "metadata": {
    "collapsed": false
   },
   "outputs": [
    {
     "data": {
      "text/plain": [
       "{'HOMEWORK': -1.0866}"
      ]
     },
     "execution_count": 29,
     "metadata": {},
     "output_type": "execute_result"
    }
   ],
   "source": [
    "pseudo_probs_dict['1869']"
   ]
  },
  {
   "cell_type": "markdown",
   "metadata": {},
   "source": [
    "# Evaluate"
   ]
  },
  {
   "cell_type": "code",
   "execution_count": null,
   "metadata": {
    "collapsed": true
   },
   "outputs": [],
   "source": []
  },
  {
   "cell_type": "markdown",
   "metadata": {},
   "source": [
    "# Search speech\n",
    "\n",
    "- Take english words as a list, output speech utterances containing that English word\n",
    "- Calculate precision recall for retrieved documents"
   ]
  },
  {
   "cell_type": "code",
   "execution_count": null,
   "metadata": {
    "collapsed": true
   },
   "outputs": [],
   "source": []
  }
 ],
 "metadata": {
  "kernelspec": {
   "display_name": "Python 2",
   "language": "python",
   "name": "python2"
  },
  "language_info": {
   "codemirror_mode": {
    "name": "ipython",
    "version": 2
   },
   "file_extension": ".py",
   "mimetype": "text/x-python",
   "name": "python",
   "nbconvert_exporter": "python",
   "pygments_lexer": "ipython2",
   "version": "2.7.12"
  }
 },
 "nbformat": 4,
 "nbformat_minor": 0
}
