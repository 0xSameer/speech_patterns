{
 "cells": [
  {
   "cell_type": "code",
   "execution_count": 1,
   "metadata": {
    "collapsed": true
   },
   "outputs": [],
   "source": [
    "from __future__ import print_function\n",
    "from __future__ import division\n",
    "import os\n",
    "import cPickle as pickle\n",
    "import json\n",
    "import subprocess\n",
    "from IPython.display import display\n",
    "from IPython.display import Audio\n",
    "import bisect\n",
    "from collections import namedtuple\n",
    "import numpy as np\n",
    "import pandas as pd\n",
    "from collections import Counter\n",
    "from prettytable import PrettyTable\n",
    "import matplotlib.pyplot as plt\n",
    "import seaborn as sns\n",
    "from tabulate import tabulate\n",
    "from matplotlib.ticker import MultipleLocator, \\\n",
    "     FormatStrFormatter, AutoMinorLocator\n",
    "%matplotlib inline"
   ]
  },
  {
   "cell_type": "code",
   "execution_count": 2,
   "metadata": {
    "collapsed": true
   },
   "outputs": [],
   "source": [
    "with open(\"config.json\") as json_data_file:\n",
    "    config = json.load(json_data_file)"
   ]
  },
  {
   "cell_type": "code",
   "execution_count": 3,
   "metadata": {
    "collapsed": false
   },
   "outputs": [],
   "source": [
    "nodes_fname = config[\"es\"]['nodes_fname']\n",
    "seg_nodes_fname = config[\"es\"]['seg_nodes_fname']\n",
    "nodes_dict_fname = config[\"es\"]['nodes_dict_fname']\n",
    "\n",
    "edges_utd_fname = config[\"es\"]['edges_utd_fname']\n",
    "edges_olap_fname = config[\"es\"]['edges_olap_fname']\n",
    "edges_all_fname = config[\"es\"]['edges_all_fname']\n",
    "edges_score_fname = config[\"es\"]['edges_score_fname']\n",
    "\n",
    "clusters_utd_fname = config['es']['clusters_utd_fname']\n",
    "clusters_fname = config['es']['clusters_fname']\n",
    "clusters_stats_fname = config['es']['clusters_stats_fname']\n",
    "\n",
    "pairs_fname = config['es']['score_pairs_fname']\n",
    "eval_fname = config['es']['eval_pairs_fname']\n",
    "\n",
    "feats_fname = config['es']['feats_fname']\n",
    "\n",
    "# Gold feats\n",
    "gold_feats_dict_fname = config['es']['gold_feats']\n",
    "# Pseudo feats\n",
    "feats_dict_fname = config['es']['feats_dict_fname']\n",
    "\n",
    "gold_probs_fname = config['es']['mt_probs_gold']\n",
    "gold_probs_dict_fname = config['es']['mt_probs_dict_gold']\n",
    "\n",
    "pseudo_probs_fname = config['es']['mt_probs_pseudo']\n",
    "pseudo_probs_dict_fname = config['es']['mt_probs_dict_pseudo']\n",
    "\n",
    "train_segment_list_fname = config['es']['mt_train_files']\n",
    "dev_segment_list_fname = config['es']['mt_dev_files']\n",
    "\n",
    "gold_corpus_fname = config['es']['mt_corpus_train_gold']\n",
    "pseudo_corpus_fname = config['es']['mt_corpus_train_pseudo']\n",
    "\n",
    "mt_gold_pred_dict_fname = config['es']['mt_gold_pred_dict']\n",
    "mt_pseudo_pred_dict_fname = config['es']['mt_pseudo_pred_dict']\n",
    "\n",
    "mt_gold_eval_dict_fname = config['es']['mt_gold_eval_dict']\n",
    "mt_pseudo_eval_dict_fname = config['es']['mt_pseudo_eval_dict']\n",
    "\n",
    "has_500ms_fa_vad_dict_fname = config['es']['has_500ms_fa_vad_dict']"
   ]
  },
  {
   "cell_type": "code",
   "execution_count": 4,
   "metadata": {
    "collapsed": true
   },
   "outputs": [],
   "source": [
    "Align = namedtuple('Align', ['word', 'start', 'end'])\n",
    "Node = namedtuple('Node', ['file', 'seg', 'start', 'end', 'es', 'es_cnt'])\n",
    "Eval = namedtuple('Eval', ['n1', 'n2', 'dtw', 'es_sim', 'es_cnt_sim', 'en_j_sim'])"
   ]
  },
  {
   "cell_type": "code",
   "execution_count": 5,
   "metadata": {
    "collapsed": false
   },
   "outputs": [],
   "source": [
    "segment_map = pickle.load(open(config['es']['segment_dict_fname'], \"rb\"))\n",
    "align_dict = pickle.load(open(config['es']['align_dict_fname'], \"rb\"))\n",
    "nodes_dict = pickle.load(open(nodes_dict_fname, \"rb\"))\n",
    "pairs_list = pickle.load(open(pairs_fname, \"rb\"))\n",
    "eval_dict = pickle.load(open(eval_fname, \"rb\"))\n",
    "clusters = pickle.load(open(clusters_fname, \"rb\"))\n",
    "clusters_stats = pickle.load(open(clusters_stats_fname, \"rb\"))\n",
    "feats_dict = pickle.load(open(feats_dict_fname, \"rb\"))\n",
    "gold_feats_dict = pickle.load(open(gold_feats_dict_fname, \"rb\"))\n",
    "\n",
    "if os.path.exists(gold_probs_dict_fname):\n",
    "    gold_probs_dict = pickle.load(open(gold_probs_dict_fname, \"rb\"))\n",
    "\n",
    "if os.path.exists(pseudo_probs_dict_fname):\n",
    "    pseudo_probs_dict = pickle.load(open(pseudo_probs_dict_fname, \"rb\"))\n",
    "\n",
    "if os.path.exists(mt_gold_pred_dict_fname):\n",
    "    mt_gold_pred_dict = pickle.load(open(mt_gold_pred_dict_fname, \"rb\"))\n",
    "    \n",
    "if os.path.exists(mt_pseudo_pred_dict_fname):\n",
    "    mt_pseudo_pred_dict = pickle.load(open(mt_pseudo_pred_dict_fname, \"rb\"))\n",
    "    \n",
    "if os.path.exists(has_500ms_fa_vad_dict_fname):\n",
    "    has_500ms_fa_vad_dict = pickle.load(open(has_500ms_fa_vad_dict_fname, \"rb\"))"
   ]
  },
  {
   "cell_type": "markdown",
   "metadata": {},
   "source": [
    "# Create parallel corpus\n",
    "\n",
    "- Use list of files specified for training\n",
    "- Create golden parallel corpus, using es transcriptions\n",
    "- Create pseudotext ||| english parallel corpus\n",
    "- For English, filter for content words\n"
   ]
  },
  {
   "cell_type": "code",
   "execution_count": 6,
   "metadata": {
    "collapsed": false
   },
   "outputs": [],
   "source": [
    "# def create_parallel_corpus(segment_list_fname, corpus_fname, pseudotext=False, es_w_key='es', en_w_key='en'):\n",
    "#     with open(corpus_fname, \"w\") as out_f, open(segment_list_fname) as in_f:\n",
    "#         for seg_id in in_f:\n",
    "#             seg_id = seg_id.strip()\n",
    "#             if pseudotext:\n",
    "#                 es_words = map(str, feats_dict[seg_id])\n",
    "#             else:\n",
    "#                 es_words = [w.word for w in align_dict[seg_id.split('.')[0]][seg_id][es_w_key]]\n",
    "#                 if not es_words:\n",
    "#                     es_words = ['-1']\n",
    "            \n",
    "#             en_words = [w.word for w in align_dict[seg_id.split('.')[0]][seg_id][en_w_key]]\n",
    "#             if not en_words:\n",
    "#                 en_words = [w.word for w in align_dict[seg_id.split('.')[0]][seg_id]['en']]\n",
    "            \n",
    "#             if es_words != ['-1']:\n",
    "#                 outline = \" \".join(es_words) + \" ||| \" + \" \".join(en_words) + \"\\n\"\n",
    "#                 out_f.write(outline)\n",
    "#     print(\"Finished generating MT corpus\")\n",
    "        "
   ]
  },
  {
   "cell_type": "code",
   "execution_count": 7,
   "metadata": {
    "collapsed": true
   },
   "outputs": [],
   "source": [
    "def get_en_words(align_dict, seg_id, en_key):\n",
    "    en_words = [w.word for w in align_dict[seg_id.split('.')[0]][seg_id][en_key] if \"'\" not in w.word]\n",
    "#     if not en_words:\n",
    "#         en_words = [w.word for w in align_dict[seg_id.split('.')[0]][seg_id]['en'] if \"'\" not in w.word]\n",
    "    return en_words"
   ]
  },
  {
   "cell_type": "code",
   "execution_count": 42,
   "metadata": {
    "collapsed": true
   },
   "outputs": [],
   "source": [
    "def create_parallel_corpus(segment_list_fname, corpus_fname, feats_dict, align_dict, en_w_key='en'):\n",
    "    total_errors = 0\n",
    "    total_en_content_notfound = 0\n",
    "    with open(corpus_fname, \"w\") as out_f, open(segment_list_fname) as in_f:\n",
    "        for seg_id in in_f:\n",
    "            seg_id = seg_id.strip()\n",
    "            es_words = feats_dict[seg_id]\n",
    "            if not es_words:\n",
    "                es_words = ['-1']\n",
    "                print('Aha')\n",
    "            \n",
    "        \n",
    "            \n",
    "            en_words = get_en_words(align_dict, seg_id, en_w_key)\n",
    "            if not en_words:\n",
    "                total_en_content_notfound += 1\n",
    "            \n",
    "            if es_words != ['-1']:\n",
    "                outline = \" \".join(es_words) + \" ||| \" + \" \".join(en_words) + \"\\n\"\n",
    "                out_f.write(outline)\n",
    "            else:\n",
    "                total_errors += 1\n",
    "    print(\"Finished generating MT corpus\")\n",
    "    print(\"Not found for: %d utterances\" % total_errors)\n",
    "    print(\"Content words not found for: %d utterances\" % total_en_content_notfound)"
   ]
  },
  {
   "cell_type": "code",
   "execution_count": 9,
   "metadata": {
    "collapsed": false
   },
   "outputs": [
    {
     "data": {
      "text/plain": [
       "['13201', '-1', '8020', '10962', '-1', '11200', '4102', '11128', '-1', '-1']"
      ]
     },
     "execution_count": 9,
     "metadata": {},
     "output_type": "execute_result"
    }
   ],
   "source": [
    "lol = [item for lst in feats_dict.values() for item in lst]\n",
    "'-1' in map(str, lol[:10])\n",
    "lol[:10]"
   ]
  },
  {
   "cell_type": "code",
   "execution_count": 43,
   "metadata": {
    "collapsed": true
   },
   "outputs": [],
   "source": [
    "en_w_key = 'en_cnt'"
   ]
  },
  {
   "cell_type": "code",
   "execution_count": 44,
   "metadata": {
    "collapsed": false
   },
   "outputs": [
    {
     "name": "stdout",
     "output_type": "stream",
     "text": [
      "Finished generating MT corpus\n",
      "Not found for: 0 utterances\n",
      "Content words not found for: 214 utterances\n"
     ]
    }
   ],
   "source": [
    "create_parallel_corpus(train_segment_list_fname, gold_corpus_fname, gold_feats_dict, align_dict, en_w_key=en_w_key)"
   ]
  },
  {
   "cell_type": "code",
   "execution_count": 45,
   "metadata": {
    "collapsed": false
   },
   "outputs": [
    {
     "name": "stdout",
     "output_type": "stream",
     "text": [
      "Finished generating MT corpus\n",
      "Not found for: 4131 utterances\n",
      "Content words not found for: 214 utterances\n"
     ]
    }
   ],
   "source": [
    "create_parallel_corpus(train_segment_list_fname, pseudo_corpus_fname, feats_dict, align_dict, en_w_key=en_w_key)"
   ]
  },
  {
   "cell_type": "code",
   "execution_count": null,
   "metadata": {
    "collapsed": true
   },
   "outputs": [],
   "source": []
  },
  {
   "cell_type": "markdown",
   "metadata": {},
   "source": [
    "# Train MT model using *fast_align*"
   ]
  },
  {
   "cell_type": "code",
   "execution_count": 13,
   "metadata": {
    "collapsed": true
   },
   "outputs": [],
   "source": [
    "def train_mt(corpus_fname, probs_fname):\n",
    "    FASTALIGN = config['base']['fast_align']\n",
    "    subprocess.call([FASTALIGN,\"-i\", corpus_fname, \"-v\", \"-N\", \"-p\", probs_fname]) "
   ]
  },
  {
   "cell_type": "code",
   "execution_count": 14,
   "metadata": {
    "collapsed": true
   },
   "outputs": [],
   "source": [
    "train_mt(gold_corpus_fname, gold_probs_fname)"
   ]
  },
  {
   "cell_type": "code",
   "execution_count": 15,
   "metadata": {
    "collapsed": true
   },
   "outputs": [],
   "source": [
    "train_mt(pseudo_corpus_fname, pseudo_probs_fname)"
   ]
  },
  {
   "cell_type": "code",
   "execution_count": 16,
   "metadata": {
    "collapsed": true
   },
   "outputs": [],
   "source": [
    "def save_mt_probs(probs_fname, probs_dict_fname):\n",
    "    probs_dict = {}\n",
    "    with open(probs_fname, \"r\") as in_f:\n",
    "        for i, line in enumerate(in_f):\n",
    "            line_items = line.strip().split()\n",
    "            es_w = line_items[0]\n",
    "            if es_w not in probs_dict:\n",
    "                probs_dict[es_w] = {}\n",
    "            en_w = line_items[1]\n",
    "            log_prob_val = float(line_items[2])\n",
    "            probs_dict[es_w][en_w] = log_prob_val\n",
    "    print(\"Finished reading mt probs file: %s\" % os.path.basename(probs_fname))\n",
    "    pickle.dump(probs_dict, open(probs_dict_fname, \"wb\"))\n",
    "    print(\"Finished saving mt probs dictionary: %s\" % os.path.basename(probs_dict_fname))\n",
    "    return probs_dict\n",
    "            "
   ]
  },
  {
   "cell_type": "code",
   "execution_count": 17,
   "metadata": {
    "collapsed": false
   },
   "outputs": [
    {
     "name": "stdout",
     "output_type": "stream",
     "text": [
      "Finished reading mt probs file: mt_probs_gold.txt\n",
      "Finished saving mt probs dictionary: mt_probs_dict_gold.p\n"
     ]
    }
   ],
   "source": [
    "gold_probs_dict = save_mt_probs(gold_probs_fname, gold_probs_dict_fname)"
   ]
  },
  {
   "cell_type": "code",
   "execution_count": 18,
   "metadata": {
    "collapsed": false
   },
   "outputs": [
    {
     "name": "stdout",
     "output_type": "stream",
     "text": [
      "Finished reading mt probs file: mt_probs_pseudo.txt\n",
      "Finished saving mt probs dictionary: mt_probs_dict_pseudo.p\n"
     ]
    }
   ],
   "source": [
    "pseudo_probs_dict = save_mt_probs(pseudo_probs_fname, pseudo_probs_dict_fname)"
   ]
  },
  {
   "cell_type": "code",
   "execution_count": 19,
   "metadata": {
    "collapsed": false
   },
   "outputs": [
    {
     "data": {
      "text/plain": [
       "['JOHNNY', 'AGRADECIMIENTO', 'IV\\xc3\\xa1N', 'DILUY\\xc3\\xb3', 'ESPERO']"
      ]
     },
     "metadata": {},
     "output_type": "display_data"
    },
    {
     "data": {
      "text/plain": [
       "['13357', '3480', '13356', '11542', '11543']"
      ]
     },
     "metadata": {},
     "output_type": "display_data"
    }
   ],
   "source": [
    "display(gold_probs_dict.keys()[:5])\n",
    "display(pseudo_probs_dict.keys()[:5])\n",
    "# pseudo_probs_dict['1869']"
   ]
  },
  {
   "cell_type": "markdown",
   "metadata": {},
   "source": [
    "# Make predictions"
   ]
  },
  {
   "cell_type": "code",
   "execution_count": 20,
   "metadata": {
    "collapsed": true
   },
   "outputs": [],
   "source": [
    "def mt_predict(feats_dict, probs_dict, k=1):\n",
    "    missing_pwords_errors = 0\n",
    "    missing_mt_errors = 0\n",
    "    \n",
    "    pred_dict = {}\n",
    "    # Sort probs dict\n",
    "    probs_dict_sorted = {k: sorted(v.items(), reverse=False, key=lambda t:t[1]) for k, v in probs_dict.items()}\n",
    "    \n",
    "    for seg_id in feats_dict:\n",
    "        # Empty list to store predicted English words\n",
    "        pred_dict[seg_id] = []\n",
    "        es_words = feats_dict[seg_id]\n",
    "        if es_words == ['-1']:\n",
    "            missing_pwords_errors += 1\n",
    "        else:\n",
    "            for esw in es_words:\n",
    "                # Get k predictions from probs dict\n",
    "                if esw in probs_dict_sorted:\n",
    "                    pred_dict[seg_id].extend([w for w,p in probs_dict_sorted[esw][:k]])\n",
    "                else:\n",
    "                    missing_mt_errors += 1\n",
    "    print(\"Finished making predictions\")\n",
    "    print(\"pseudoword missing for: %d utterances, and translations missing for: %d\" % (missing_pwords_errors, missing_mt_errors))\n",
    "    return pred_dict"
   ]
  },
  {
   "cell_type": "code",
   "execution_count": 21,
   "metadata": {
    "collapsed": false,
    "scrolled": true
   },
   "outputs": [
    {
     "name": "stdout",
     "output_type": "stream",
     "text": [
      "\n",
      "Generating k=1 predictions\n",
      "Finished making predictions\n",
      "pseudoword missing for: 0 utterances, and translations missing for: 5953\n",
      "\n",
      "Generating k=2 predictions\n",
      "Finished making predictions\n",
      "pseudoword missing for: 0 utterances, and translations missing for: 5953\n",
      "\n",
      "Generating k=3 predictions\n",
      "Finished making predictions\n",
      "pseudoword missing for: 0 utterances, and translations missing for: 5953\n",
      "\n",
      "Generating k=4 predictions\n",
      "Finished making predictions\n",
      "pseudoword missing for: 0 utterances, and translations missing for: 5953\n",
      "\n",
      "Generating k=5 predictions\n",
      "Finished making predictions\n",
      "pseudoword missing for: 0 utterances, and translations missing for: 5953\n",
      "\n",
      "Generating k=6 predictions\n",
      "Finished making predictions\n",
      "pseudoword missing for: 0 utterances, and translations missing for: 5953\n",
      "\n",
      "Generating k=7 predictions\n",
      "Finished making predictions\n",
      "pseudoword missing for: 0 utterances, and translations missing for: 5953\n",
      "\n",
      "Generating k=8 predictions\n",
      "Finished making predictions\n",
      "pseudoword missing for: 0 utterances, and translations missing for: 5953\n",
      "\n",
      "Generating k=9 predictions\n",
      "Finished making predictions\n",
      "pseudoword missing for: 0 utterances, and translations missing for: 5953\n",
      "\n",
      "Generating k=10 predictions\n",
      "Finished making predictions\n",
      "pseudoword missing for: 0 utterances, and translations missing for: 5953\n"
     ]
    }
   ],
   "source": [
    "mt_gold_pred_dict = {}\n",
    "for k in xrange(1,11):\n",
    "    print('\\nGenerating k=%d predictions' % k)\n",
    "    mt_gold_pred_dict[k] = mt_predict(gold_feats_dict, gold_probs_dict, k=k)\n",
    "\n",
    "pickle.dump(mt_gold_pred_dict, open(mt_gold_pred_dict_fname, \"wb\"))"
   ]
  },
  {
   "cell_type": "code",
   "execution_count": 22,
   "metadata": {
    "collapsed": false
   },
   "outputs": [
    {
     "name": "stdout",
     "output_type": "stream",
     "text": [
      "\n",
      "Generating k=1 predictions\n",
      "Finished making predictions\n",
      "pseudoword missing for: 8896 utterances, and translations missing for: 10090\n",
      "\n",
      "Generating k=2 predictions\n",
      "Finished making predictions\n",
      "pseudoword missing for: 8896 utterances, and translations missing for: 10090\n",
      "\n",
      "Generating k=3 predictions\n",
      "Finished making predictions\n",
      "pseudoword missing for: 8896 utterances, and translations missing for: 10090\n",
      "\n",
      "Generating k=4 predictions\n",
      "Finished making predictions\n",
      "pseudoword missing for: 8896 utterances, and translations missing for: 10090\n",
      "\n",
      "Generating k=5 predictions\n",
      "Finished making predictions\n",
      "pseudoword missing for: 8896 utterances, and translations missing for: 10090\n",
      "\n",
      "Generating k=6 predictions\n",
      "Finished making predictions\n",
      "pseudoword missing for: 8896 utterances, and translations missing for: 10090\n",
      "\n",
      "Generating k=7 predictions\n",
      "Finished making predictions\n",
      "pseudoword missing for: 8896 utterances, and translations missing for: 10090\n",
      "\n",
      "Generating k=8 predictions\n",
      "Finished making predictions\n",
      "pseudoword missing for: 8896 utterances, and translations missing for: 10090\n",
      "\n",
      "Generating k=9 predictions\n",
      "Finished making predictions\n",
      "pseudoword missing for: 8896 utterances, and translations missing for: 10090\n",
      "\n",
      "Generating k=10 predictions\n",
      "Finished making predictions\n",
      "pseudoword missing for: 8896 utterances, and translations missing for: 10090\n"
     ]
    }
   ],
   "source": [
    "mt_pseudo_pred_dict = {}\n",
    "for k in xrange(1,11):\n",
    "    print('\\nGenerating k=%d predictions' % k)\n",
    "    mt_pseudo_pred_dict[k] = mt_predict(feats_dict, pseudo_probs_dict, k=k)\n",
    "\n",
    "pickle.dump(mt_pseudo_pred_dict, open(mt_pseudo_pred_dict_fname, \"wb\"))"
   ]
  },
  {
   "cell_type": "markdown",
   "metadata": {},
   "source": [
    "# Evaluation - Precision and Recall at *k*"
   ]
  },
  {
   "cell_type": "code",
   "execution_count": 23,
   "metadata": {
    "collapsed": false
   },
   "outputs": [],
   "source": [
    "def count_match(list1, list2):\n",
    "    # each list can have repeated elements. The count should account for this.\n",
    "    count1 = Counter(list1)\n",
    "    count2 = Counter(list2)\n",
    "    common_w = set(count1.keys()) & set(count2.keys())\n",
    "    #all_w = set(count1.keys()) + set(count2.keys())\n",
    "    matches = sum([min(count1[w], count2[w]) for w in common_w])\n",
    "    #matches = sum([max(0, count2[v]-count1[v]) for v in (count2-count1).values()])\n",
    "    #matches = sum([max(0, count2[v]-count1[v]) for v in common_w])\n",
    "    return matches\n",
    "#     for w in all_w:\n",
    "#         if w in common_w:\n",
    "#     print(count1, count2)"
   ]
  },
  {
   "cell_type": "code",
   "execution_count": 24,
   "metadata": {
    "collapsed": false
   },
   "outputs": [],
   "source": [
    "def eval_mt(segment_list_fname, pred_dict, align_dict, en_key='en'):\n",
    "    # Get the k value from the prediction dict\n",
    "    k = pred_dict.keys()\n",
    "    # For every k value and for every segment, count\n",
    "    #    tp - total predicted\n",
    "    #    cp - correctly predicted\n",
    "    #    t - total correct\n",
    "    mt_eval_dict = {i: {'tp':0, 'cp':0, 't':0} for i in k}\n",
    "    \n",
    "    # Read segment ids to evaluate\n",
    "    with open(segment_list_fname, \"r\") as seg_f:\n",
    "        segids = set([sid.strip() for sid in seg_f if sid.strip()])\n",
    "    \n",
    "    print(\"evaluating %d segments\" % len(segids))\n",
    "    missing_preds = set()\n",
    "    \n",
    "    for i in k:\n",
    "        print(\"Evaluating at k=%d\" % i)\n",
    "        #for sid in pred_dict[i]:\n",
    "        for sid in segids:\n",
    "            mt_eval_dict[i][sid] = {'tp':0, 'cp':0, 't':0}\n",
    "            # get predicted words\n",
    "            pred_en_words = pred_dict[i][sid]\n",
    "            if len(pred_en_words) == 0:\n",
    "                missing_preds |= set([sid])\n",
    "            # get reference english words\n",
    "            ref_en_words = get_en_words(align_dict, sid, en_key)\n",
    "            mt_eval_dict[i][sid]['tp'] = len(pred_en_words)\n",
    "            mt_eval_dict[i][sid]['cp'] = count_match(pred_en_words, ref_en_words)\n",
    "            mt_eval_dict[i][sid]['t'] = len(ref_en_words)\n",
    "\n",
    "            for count_key in ['tp', 'cp', 't']:\n",
    "                mt_eval_dict[i][count_key] += mt_eval_dict[i][sid][count_key]\n",
    "        # for segment ids\n",
    "        # compute precision recall at every i\n",
    "        mt_eval_dict[i]['precision'] = 0 if mt_eval_dict[i]['tp'] == 0 else \\\n",
    "                                    mt_eval_dict[i]['cp'] / mt_eval_dict[i]['tp']\n",
    "        mt_eval_dict[i]['recall'] = mt_eval_dict[i]['cp'] / mt_eval_dict[i]['t']\n",
    "    # for i in k predicts\n",
    "    return mt_eval_dict, missing_preds"
   ]
  },
  {
   "cell_type": "code",
   "execution_count": 25,
   "metadata": {
    "collapsed": false
   },
   "outputs": [
    {
     "name": "stdout",
     "output_type": "stream",
     "text": [
      "evaluating 8094 segments\n",
      "Evaluating at k=1\n",
      "Evaluating at k=2\n",
      "Evaluating at k=3\n",
      "Evaluating at k=4\n",
      "Evaluating at k=5\n",
      "Evaluating at k=6\n",
      "Evaluating at k=7\n",
      "Evaluating at k=8\n",
      "Evaluating at k=9\n",
      "Evaluating at k=10\n",
      "evaluating 872 segments\n",
      "Evaluating at k=1\n",
      "Evaluating at k=2\n",
      "Evaluating at k=3\n",
      "Evaluating at k=4\n",
      "Evaluating at k=5\n",
      "Evaluating at k=6\n",
      "Evaluating at k=7\n",
      "Evaluating at k=8\n",
      "Evaluating at k=9\n",
      "Evaluating at k=10\n"
     ]
    }
   ],
   "source": [
    "gold_mt_eval_dict = {}\n",
    "gold_mt_eval_dict['train'], _ = eval_mt(train_segment_list_fname, mt_gold_pred_dict, align_dict, en_key=en_w_key)\n",
    "gold_mt_eval_dict['dev'], _ = eval_mt(dev_segment_list_fname, mt_gold_pred_dict, align_dict, en_key=en_w_key)\n",
    "pickle.dump(gold_mt_eval_dict, open(mt_gold_eval_dict_fname, \"wb\"))"
   ]
  },
  {
   "cell_type": "code",
   "execution_count": 26,
   "metadata": {
    "collapsed": false
   },
   "outputs": [
    {
     "name": "stdout",
     "output_type": "stream",
     "text": [
      "evaluating 8094 segments\n",
      "Evaluating at k=1\n",
      "Evaluating at k=2\n",
      "Evaluating at k=3\n",
      "Evaluating at k=4\n",
      "Evaluating at k=5\n",
      "Evaluating at k=6\n",
      "Evaluating at k=7\n",
      "Evaluating at k=8\n",
      "Evaluating at k=9\n",
      "Evaluating at k=10\n",
      "evaluating 872 segments\n",
      "Evaluating at k=1\n",
      "Evaluating at k=2\n",
      "Evaluating at k=3\n",
      "Evaluating at k=4\n",
      "Evaluating at k=5\n",
      "Evaluating at k=6\n",
      "Evaluating at k=7\n",
      "Evaluating at k=8\n",
      "Evaluating at k=9\n",
      "Evaluating at k=10\n"
     ]
    }
   ],
   "source": [
    "pseudo_mt_eval_dict = {}\n",
    "pseudo_mt_eval_dict['train'], train_missing = eval_mt(train_segment_list_fname, mt_pseudo_pred_dict, align_dict, en_key=en_w_key)\n",
    "pseudo_mt_eval_dict['dev'], dev_missing = eval_mt(dev_segment_list_fname, mt_pseudo_pred_dict, align_dict, en_key=en_w_key)\n",
    "pickle.dump(pseudo_mt_eval_dict, open(mt_pseudo_eval_dict_fname, \"wb\"))"
   ]
  },
  {
   "cell_type": "code",
   "execution_count": 27,
   "metadata": {
    "collapsed": false
   },
   "outputs": [
    {
     "name": "stdout",
     "output_type": "stream",
     "text": [
      "evaluating 8094 segments\n",
      "Evaluating at k=1\n",
      "Evaluating at k=2\n",
      "Evaluating at k=3\n",
      "Evaluating at k=4\n",
      "Evaluating at k=5\n",
      "Evaluating at k=6\n",
      "Evaluating at k=7\n",
      "Evaluating at k=8\n",
      "Evaluating at k=9\n",
      "Evaluating at k=10\n",
      "evaluating 3587 segments\n",
      "Evaluating at k=1\n",
      "Evaluating at k=2\n",
      "Evaluating at k=3\n",
      "Evaluating at k=4\n",
      "Evaluating at k=5\n",
      "Evaluating at k=6\n",
      "Evaluating at k=7\n",
      "Evaluating at k=8\n",
      "Evaluating at k=9\n",
      "Evaluating at k=10\n"
     ]
    }
   ],
   "source": [
    "dev_500ms_fname = config['es']['mt_dev_500ms_files']\n",
    "pseudo_mt_500ms_eval_dict = {}\n",
    "pseudo_mt_500ms_eval_dict['train'], train_missing = eval_mt(train_segment_list_fname, mt_pseudo_pred_dict, align_dict, en_key=en_w_key)\n",
    "pseudo_mt_500ms_eval_dict['dev'], dev_missing = eval_mt(dev_500ms_fname, mt_pseudo_pred_dict, align_dict, en_key=en_w_key)"
   ]
  },
  {
   "cell_type": "code",
   "execution_count": 28,
   "metadata": {
    "collapsed": false,
    "scrolled": true
   },
   "outputs": [
    {
     "name": "stdout",
     "output_type": "stream",
     "text": [
      "4138 2000\n",
      "0\n",
      " 872  872 6976 ../files-dev-segments-63-120-10.txt\n",
      " 8094  8094 64752 ../files-train-segments-63-120-10.txt\n"
     ]
    }
   ],
   "source": [
    "print(len(train_missing), len(dev_missing))\n",
    "dev_missing_500ms = set([f for f, d in has_500ms_fa_vad_dict.items() if not d]) & dev_missing\n",
    "print(len(dev_missing_500ms))\n",
    "!wc $dev_segment_list_fname\n",
    "!wc $train_segment_list_fname"
   ]
  },
  {
   "cell_type": "code",
   "execution_count": null,
   "metadata": {
    "collapsed": false
   },
   "outputs": [],
   "source": []
  },
  {
   "cell_type": "code",
   "execution_count": 29,
   "metadata": {
    "collapsed": false
   },
   "outputs": [
    {
     "name": "stdout",
     "output_type": "stream",
     "text": [
      "gold call train prec.: 0.4745, 0.4124, 0.3715, 0.3427, 0.3211, 0.3029, 0.2882, 0.2750, 0.2640, 0.2551\n",
      "gold call train rec.:0.4742, 0.6431, 0.7204, 0.7666, 0.7970, 0.8154, 0.8304, 0.8380, 0.8455, 0.8526\n",
      "gold call dev prec.: 0.3851, 0.3273, 0.2855, 0.2626, 0.2458, 0.2328, 0.2224, 0.2120, 0.2031, 0.1971\n",
      "gold call dev rec.:0.3406, 0.4512, 0.4899, 0.5232, 0.5467, 0.5644, 0.5799, 0.5855, 0.5910, 0.5995\n"
     ]
    },
    {
     "data": {
      "image/png": "[encoded data removed]",
      "text/plain": [
       "<matplotlib.figure.Figure at 0x7f1953784910>"
      ]
     },
     "metadata": {},
     "output_type": "display_data"
    }
   ],
   "source": [
    "# plot precision, recall at i\n",
    "fig = plt.figure(figsize=(16,5))\n",
    "fig.add_subplot(121)\n",
    "p_at_k = [gold_mt_eval_dict['train'][i]['precision'] for i in gold_mt_eval_dict['train']]\n",
    "r_at_k = [gold_mt_eval_dict['train'][i]['recall'] for i in gold_mt_eval_dict['train']]\n",
    "print(\"gold call train prec.: \" + \", \".join(map(lambda v: \"%.4f\"%v, p_at_k)))\n",
    "print(\"gold call train rec.:\" + \", \".join(map(lambda v: \"%.4f\"%v, r_at_k)))\n",
    "plt.plot(p_at_k)\n",
    "plt.plot(r_at_k)\n",
    "fig.add_subplot(122)\n",
    "p_at_k = [gold_mt_eval_dict['dev'][i]['precision'] for i in gold_mt_eval_dict['dev']]\n",
    "r_at_k = [gold_mt_eval_dict['dev'][i]['recall'] for i in gold_mt_eval_dict['dev']]\n",
    "plt.plot(p_at_k)\n",
    "plt.plot(r_at_k)\n",
    "print(\"gold call dev prec.: \" + \", \".join(map(lambda v: \"%.4f\"%v, p_at_k)))\n",
    "print(\"gold call dev rec.:\" + \", \".join(map(lambda v: \"%.4f\"%v, r_at_k)))"
   ]
  },
  {
   "cell_type": "code",
   "execution_count": 30,
   "metadata": {
    "collapsed": false
   },
   "outputs": [
    {
     "name": "stdout",
     "output_type": "stream",
     "text": [
      "pseudo call train prec.: 0.4210, 0.3869, 0.3666, 0.3492, 0.3344, 0.3217, 0.3098, 0.2990, 0.2894, 0.2810\n",
      "pseudo call train rec.:0.1856, 0.3038, 0.3948, 0.4651, 0.5187, 0.5593, 0.5890, 0.6105, 0.6270, 0.6397\n",
      "pseudo call dev prec.: 0.0769, 0.0699, 0.0631, 0.0618, 0.0582, 0.0561, 0.0541, 0.0533, 0.0526, 0.0519\n",
      "pseudo call dev rec.:0.0182, 0.0305, 0.0385, 0.0470, 0.0519, 0.0562, 0.0594, 0.0628, 0.0657, 0.0681\n"
     ]
    },
    {
     "data": {
      "text/plain": [
       "[<matplotlib.axis.XTick at 0x7f193991af50>,\n",
       " <matplotlib.axis.XTick at 0x7f193991c8d0>,\n",
       " <matplotlib.axis.XTick at 0x7f19398ca990>,\n",
       " <matplotlib.axis.XTick at 0x7f1941087ed0>,\n",
       " <matplotlib.axis.XTick at 0x7f193991aed0>,\n",
       " <matplotlib.axis.XTick at 0x7f193991c850>,\n",
       " <matplotlib.axis.XTick at 0x7f1943fee090>,\n",
       " <matplotlib.axis.XTick at 0x7f19411260d0>,\n",
       " <matplotlib.axis.XTick at 0x7f19469d9e10>,\n",
       " <matplotlib.axis.XTick at 0x7f19398cadd0>]"
      ]
     },
     "execution_count": 30,
     "metadata": {},
     "output_type": "execute_result"
    },
    {
     "data": {
      "image/png": "[encoded data removed]",
      "text/plain": [
       "<matplotlib.figure.Figure at 0x7f1946f7e5d0>"
      ]
     },
     "metadata": {},
     "output_type": "display_data"
    }
   ],
   "source": [
    "# plot precision, recall at i\n",
    "fig = plt.figure(figsize=(16,5))\n",
    "ax_1 = fig.add_subplot(121)\n",
    "p_at_k = [pseudo_mt_eval_dict['train'][i]['precision'] for i in pseudo_mt_eval_dict['train']]\n",
    "r_at_k = [pseudo_mt_eval_dict['train'][i]['recall'] for i in pseudo_mt_eval_dict['train']]\n",
    "print(\"pseudo call train prec.: \" + \", \".join(map(lambda v: \"%.4f\"%v, p_at_k)))\n",
    "print(\"pseudo call train rec.:\" + \", \".join(map(lambda v: \"%.4f\"%v, r_at_k)))\n",
    "plt.plot(p_at_k)\n",
    "plt.plot(r_at_k)\n",
    "ax_2 = fig.add_subplot(122)\n",
    "p_at_k = [pseudo_mt_eval_dict['dev'][i]['precision'] for i in pseudo_mt_eval_dict['dev']]\n",
    "r_at_k = [pseudo_mt_eval_dict['dev'][i]['recall'] for i in pseudo_mt_eval_dict['dev']]\n",
    "print(\"pseudo call dev prec.: \" + \", \".join(map(lambda v: \"%.4f\"%v, p_at_k)))\n",
    "print(\"pseudo call dev rec.:\" + \", \".join(map(lambda v: \"%.4f\"%v, r_at_k)))\n",
    "plt.plot(range(1,len(p_at_k)+1), p_at_k)\n",
    "plt.plot(range(1,len(p_at_k)+1), r_at_k)\n",
    "ax_2.set_xticks(range(1,len(p_at_k)+1))"
   ]
  },
  {
   "cell_type": "code",
   "execution_count": 31,
   "metadata": {
    "collapsed": false
   },
   "outputs": [
    {
     "data": {
      "text/plain": [
       "([0.01818181818181818,\n",
       "  0.030545454545454546,\n",
       "  0.03854545454545454,\n",
       "  0.04703030303030303,\n",
       "  0.05187878787878788,\n",
       "  0.05624242424242424,\n",
       "  0.059393939393939395,\n",
       "  0.06278787878787878,\n",
       "  0.0656969696969697,\n",
       "  0.06812121212121212],\n",
       " [1, 2, 3, 4, 5, 6, 7, 8, 9, 10])"
      ]
     },
     "execution_count": 31,
     "metadata": {},
     "output_type": "execute_result"
    }
   ],
   "source": [
    "r_at_k, range(1,len(r_at_k)+1)"
   ]
  },
  {
   "cell_type": "code",
   "execution_count": 32,
   "metadata": {
    "collapsed": true
   },
   "outputs": [],
   "source": [
    "# # plot precision, recall at i\n",
    "# fig = plt.figure(figsize=(16,5))\n",
    "# fig.add_subplot(121)\n",
    "# p_at_k = [pseudo_mt_500ms_eval_dict['train'][i]['precision'] for i in pseudo_mt_500ms_eval_dict['train']]\n",
    "# r_at_k = [pseudo_mt_500ms_eval_dict['train'][i]['recall'] for i in pseudo_mt_500ms_eval_dict['train']]\n",
    "# plt.plot(p_at_k)\n",
    "# plt.plot(r_at_k)\n",
    "# fig.add_subplot(122)\n",
    "# p_at_k = [pseudo_mt_500ms_eval_dict['dev'][i]['precision'] for i in pseudo_mt_500ms_eval_dict['dev']]\n",
    "# r_at_k = [pseudo_mt_500ms_eval_dict['dev'][i]['recall'] for i in pseudo_mt_500ms_eval_dict['dev']]\n",
    "# plt.plot(p_at_k)\n",
    "# plt.plot(r_at_k)"
   ]
  },
  {
   "cell_type": "code",
   "execution_count": 33,
   "metadata": {
    "collapsed": false
   },
   "outputs": [],
   "source": [
    "# [pseudo_mt_500ms_eval_dict['dev'][i]['recall'] - \\\n",
    "#     pseudo_mt_eval_dict['dev'][i]['recall'] for i in pseudo_mt_500ms_eval_dict['dev']]"
   ]
  },
  {
   "cell_type": "markdown",
   "metadata": {},
   "source": [
    "# Scratch"
   ]
  },
  {
   "cell_type": "code",
   "execution_count": 34,
   "metadata": {
    "collapsed": false
   },
   "outputs": [
    {
     "data": {
      "text/plain": [
       "(17394, 17394)"
      ]
     },
     "execution_count": 34,
     "metadata": {},
     "output_type": "execute_result"
    }
   ],
   "source": [
    "len(mt_gold_pred_dict[1]), len(gold_feats_dict)"
   ]
  },
  {
   "cell_type": "code",
   "execution_count": 35,
   "metadata": {
    "collapsed": false
   },
   "outputs": [
    {
     "data": {
      "text/plain": [
       "True"
      ]
     },
     "execution_count": 35,
     "metadata": {},
     "output_type": "execute_result"
    }
   ],
   "source": [
    "sorted([seg for fid in align_dict for seg in align_dict[fid]]) == sorted(seg for fid in segment_map for seg in segment_map[fid])"
   ]
  },
  {
   "cell_type": "code",
   "execution_count": 36,
   "metadata": {
    "collapsed": false
   },
   "outputs": [
    {
     "name": "stdout",
     "output_type": "stream",
     "text": [
      "485\n",
      "16909\n",
      "17394\n"
     ]
    }
   ],
   "source": [
    "haha = [1 for fid in align_dict for segid in align_dict[fid] if align_dict[fid][segid]['en_cnt'] == []]\n",
    "print(sum(haha))\n",
    "haha = [1 for fid in align_dict for segid in align_dict[fid] if align_dict[fid][segid]['en_cnt'] != []]\n",
    "print(sum(haha))\n",
    "print(485+16909)"
   ]
  },
  {
   "cell_type": "code",
   "execution_count": 37,
   "metadata": {
    "collapsed": false
   },
   "outputs": [],
   "source": [
    "# pseudo_probs_dict['1869']"
   ]
  },
  {
   "cell_type": "markdown",
   "metadata": {},
   "source": [
    "# Evaluate"
   ]
  },
  {
   "cell_type": "code",
   "execution_count": null,
   "metadata": {
    "collapsed": true
   },
   "outputs": [],
   "source": []
  },
  {
   "cell_type": "markdown",
   "metadata": {},
   "source": [
    "# Search speech\n",
    "\n",
    "- Take english words as a list, output speech utterances containing that English word\n",
    "- Calculate precision recall for retrieved documents"
   ]
  },
  {
   "cell_type": "code",
   "execution_count": 38,
   "metadata": {
    "collapsed": false
   },
   "outputs": [
    {
     "data": {
      "text/plain": [
       "u'../../../ZRTools/exp/callhome/matches/config0.88-0.90-0.80-50/mt_corpus_train_pseudo.bi'"
      ]
     },
     "execution_count": 38,
     "metadata": {},
     "output_type": "execute_result"
    }
   ],
   "source": [
    "pseudo_corpus_fname"
   ]
  },
  {
   "cell_type": "markdown",
   "metadata": {},
   "source": [
    "## Corpus duration"
   ]
  },
  {
   "cell_type": "code",
   "execution_count": 39,
   "metadata": {
    "collapsed": false
   },
   "outputs": [
    {
     "name": "stdout",
     "output_type": "stream",
     "text": [
      " 8094  8094 64752 ../files-train-segments-63-120-10.txt\n",
      " 872  872 6976 ../files-dev-segments-63-120-10.txt\n"
     ]
    }
   ],
   "source": [
    "!wc $train_segment_list_fname\n",
    "!wc $dev_segment_list_fname"
   ]
  },
  {
   "cell_type": "code",
   "execution_count": 40,
   "metadata": {
    "collapsed": false
   },
   "outputs": [
    {
     "name": "stdout",
     "output_type": "stream",
     "text": [
      "dev\n",
      "063.022\n",
      "063.079\n",
      "120.158\n",
      "120.115\n",
      "\n",
      "train\n",
      "063.146\n",
      "063.054\n",
      "120.068\n",
      "120.048\n"
     ]
    }
   ],
   "source": [
    "print(\"dev\")\n",
    "!head $dev_segment_list_fname -n 2\n",
    "!tail $dev_segment_list_fname -n 2\n",
    "print(\"\\ntrain\")\n",
    "!head $train_segment_list_fname -n 2\n",
    "!tail $train_segment_list_fname -n 2"
   ]
  },
  {
   "cell_type": "code",
   "execution_count": 41,
   "metadata": {
    "collapsed": false
   },
   "outputs": [
    {
     "data": {
      "text/plain": [
       "['111.121',\n",
       " '111.120',\n",
       " '111.123',\n",
       " '111.122',\n",
       " '111.125',\n",
       " '111.124',\n",
       " '111.127',\n",
       " '111.126',\n",
       " '111.129',\n",
       " '111.128',\n",
       " '066.083',\n",
       " '066.082',\n",
       " '088.180',\n",
       " '034.008',\n",
       " '096.067',\n",
       " '066.084',\n",
       " '036.050',\n",
       " '066.087',\n",
       " '066.086',\n",
       " '048.138',\n",
       " '036.053',\n",
       " '046.288',\n",
       " '046.285',\n",
       " '046.284',\n",
       " '046.287',\n",
       " '046.286',\n",
       " '046.281',\n",
       " '046.280',\n",
       " '046.283',\n",
       " '038.035',\n",
       " '071.079',\n",
       " '082.184',\n",
       " '038.036',\n",
       " '038.031',\n",
       " '038.030',\n",
       " '038.033',\n",
       " '038.032',\n",
       " '070.004',\n",
       " '070.005',\n",
       " '070.006',\n",
       " '070.007',\n",
       " '038.039',\n",
       " '070.001',\n",
       " '070.002',\n",
       " '070.003',\n",
       " '117.134',\n",
       " '117.135',\n",
       " '117.136',\n",
       " '117.137',\n",
       " '117.130',\n",
       " '117.131',\n",
       " '117.132',\n",
       " '117.133',\n",
       " '116.009',\n",
       " '117.138',\n",
       " '117.139',\n",
       " '011.191',\n",
       " '011.190',\n",
       " '011.193',\n",
       " '011.192',\n",
       " '011.194',\n",
       " '063.118',\n",
       " '063.119',\n",
       " '063.116',\n",
       " '063.117',\n",
       " '063.115',\n",
       " '063.112',\n",
       " '063.113',\n",
       " '063.110',\n",
       " '116.004',\n",
       " '090.027',\n",
       " '103.124',\n",
       " '116.007',\n",
       " '028.061',\n",
       " '028.060',\n",
       " '028.063',\n",
       " '028.062',\n",
       " '028.065',\n",
       " '028.064',\n",
       " '028.067',\n",
       " '028.066',\n",
       " '028.069',\n",
       " '028.068',\n",
       " '057.021',\n",
       " '060.268',\n",
       " '057.026',\n",
       " '057.025',\n",
       " '057.024',\n",
       " '095.084',\n",
       " '060.267',\n",
       " '103.004',\n",
       " '116.003',\n",
       " '060.266',\n",
       " '103.003',\n",
       " '116.002',\n",
       " '103.002',\n",
       " '094.091',\n",
       " '107.076',\n",
       " '094.092',\n",
       " '094.095',\n",
       " '094.094',\n",
       " '094.097',\n",
       " '094.096',\n",
       " '094.099',\n",
       " '094.098',\n",
       " '103.126',\n",
       " '045.019',\n",
       " '107.077',\n",
       " '065.121',\n",
       " '065.120',\n",
       " '065.123',\n",
       " '065.122',\n",
       " '065.125',\n",
       " '065.124',\n",
       " '065.127',\n",
       " '065.126',\n",
       " '065.129',\n",
       " '065.128',\n",
       " '110.043',\n",
       " '045.170',\n",
       " '045.171',\n",
       " '045.172',\n",
       " '035.059',\n",
       " '046.166',\n",
       " '045.176',\n",
       " '045.177',\n",
       " '035.052',\n",
       " '035.053',\n",
       " '035.050',\n",
       " '035.051',\n",
       " '035.056',\n",
       " '035.057',\n",
       " '035.054',\n",
       " '013.053',\n",
       " '009.215',\n",
       " '047.029',\n",
       " '009.210',\n",
       " '009.213',\n",
       " '009.212',\n",
       " '047.020',\n",
       " '047.021',\n",
       " '047.022',\n",
       " '047.023',\n",
       " '047.025',\n",
       " '047.026',\n",
       " '047.027',\n",
       " '119.055',\n",
       " '021.013',\n",
       " '026.002',\n",
       " '107.075',\n",
       " '093.004',\n",
       " '093.001',\n",
       " '093.002',\n",
       " '095.088',\n",
       " '060.210',\n",
       " '110.041',\n",
       " '010.174',\n",
       " '119.050',\n",
       " '010.175',\n",
       " '021.012',\n",
       " '013.058',\n",
       " '062.209',\n",
       " '062.207',\n",
       " '062.206',\n",
       " '062.204',\n",
       " '062.203',\n",
       " '062.202',\n",
       " '062.201',\n",
       " '045.052',\n",
       " '010.170',\n",
       " '110.040',\n",
       " '052.069',\n",
       " '001.119',\n",
       " '096.033',\n",
       " '116.001',\n",
       " '110.032',\n",
       " '088.019',\n",
       " '061.158',\n",
       " '110.033',\n",
       " '061.154',\n",
       " '061.155',\n",
       " '061.156',\n",
       " '061.157',\n",
       " '061.150',\n",
       " '061.151',\n",
       " '061.152',\n",
       " '061.153',\n",
       " '110.031',\n",
       " '085.016',\n",
       " '110.036',\n",
       " '110.037',\n",
       " '021.014',\n",
       " '010.178',\n",
       " '002.009',\n",
       " '002.008',\n",
       " '002.007',\n",
       " '002.006',\n",
       " '002.005',\n",
       " '002.004',\n",
       " '002.003',\n",
       " '002.002',\n",
       " '002.001',\n",
       " '089.071',\n",
       " '089.070',\n",
       " '089.073',\n",
       " '089.072',\n",
       " '025.091',\n",
       " '025.090',\n",
       " '089.077',\n",
       " '089.076',\n",
       " '089.079',\n",
       " '089.078',\n",
       " '042.164',\n",
       " '042.165',\n",
       " '042.166',\n",
       " '042.167',\n",
       " '042.160',\n",
       " '042.162',\n",
       " '042.163',\n",
       " '042.168',\n",
       " '042.169',\n",
       " '059.077',\n",
       " '033.023',\n",
       " '033.022',\n",
       " '033.025',\n",
       " '033.024',\n",
       " '095.148',\n",
       " '095.149',\n",
       " '095.146',\n",
       " '095.147',\n",
       " '087.105',\n",
       " '095.145',\n",
       " '087.103',\n",
       " '095.143',\n",
       " '095.140',\n",
       " '059.079',\n",
       " '060.029',\n",
       " '050.129',\n",
       " '095.078',\n",
       " '050.128',\n",
       " '060.021',\n",
       " '060.020',\n",
       " '060.023',\n",
       " '095.079',\n",
       " '060.025',\n",
       " '060.024',\n",
       " '060.026',\n",
       " '047.098',\n",
       " '108.145',\n",
       " '108.144',\n",
       " '108.147',\n",
       " '108.146',\n",
       " '108.141',\n",
       " '108.140',\n",
       " '108.143',\n",
       " '108.142',\n",
       " '067.008',\n",
       " '108.149',\n",
       " '108.148',\n",
       " '047.095',\n",
       " '053.139',\n",
       " '053.138',\n",
       " '047.094',\n",
       " '053.135',\n",
       " '053.134',\n",
       " '053.137',\n",
       " '095.071',\n",
       " '053.131',\n",
       " '053.130',\n",
       " '053.132',\n",
       " '103.128',\n",
       " '047.096',\n",
       " '006.179',\n",
       " '006.178',\n",
       " '006.176',\n",
       " '006.175',\n",
       " '006.174',\n",
       " '006.173',\n",
       " '006.172',\n",
       " '006.171',\n",
       " '006.170',\n",
       " '037.032',\n",
       " '036.007',\n",
       " '036.004',\n",
       " '037.031',\n",
       " '037.036',\n",
       " '036.003',\n",
       " '037.034',\n",
       " '036.001',\n",
       " '007.150',\n",
       " '007.151',\n",
       " '037.038',\n",
       " '037.039',\n",
       " '116.179',\n",
       " '116.178',\n",
       " '036.008',\n",
       " '036.009',\n",
       " '015.112',\n",
       " '065.192',\n",
       " '075.243',\n",
       " '038.034',\n",
       " '060.204',\n",
       " '038.037',\n",
       " '057.192',\n",
       " '072.172',\n",
       " '073.158',\n",
       " '116.018',\n",
       " '116.019',\n",
       " '072.176',\n",
       " '072.177',\n",
       " '072.174',\n",
       " '072.175',\n",
       " '116.012',\n",
       " '116.013',\n",
       " '116.010',\n",
       " '116.011',\n",
       " '116.016',\n",
       " '116.017',\n",
       " '116.014',\n",
       " '116.015',\n",
       " '013.092',\n",
       " '053.328',\n",
       " '082.180',\n",
       " '082.181',\n",
       " '021.117',\n",
       " '010.103',\n",
       " '010.102',\n",
       " '010.101',\n",
       " '010.100',\n",
       " '010.107',\n",
       " '010.106',\n",
       " '010.105',\n",
       " '010.104',\n",
       " '088.126',\n",
       " '088.127',\n",
       " '010.109',\n",
       " '010.108',\n",
       " '088.122',\n",
       " '088.123',\n",
       " '088.120',\n",
       " '088.121',\n",
       " '071.073',\n",
       " '115.053',\n",
       " '071.074',\n",
       " '071.075',\n",
       " '041.174',\n",
       " '071.076',\n",
       " '041.175',\n",
       " '052.259',\n",
       " '071.077',\n",
       " '041.176',\n",
       " '075.250',\n",
       " '075.251',\n",
       " '075.252',\n",
       " '075.253',\n",
       " '075.254',\n",
       " '075.255',\n",
       " '075.256',\n",
       " '075.257',\n",
       " '075.258',\n",
       " '084.097',\n",
       " '084.094',\n",
       " '084.095',\n",
       " '084.092',\n",
       " '084.093',\n",
       " '084.090',\n",
       " '084.091',\n",
       " '059.151',\n",
       " '030.056',\n",
       " '060.277',\n",
       " '041.173',\n",
       " '052.257',\n",
       " '059.152',\n",
       " '076.129',\n",
       " '101.088',\n",
       " '101.085',\n",
       " '101.084',\n",
       " '101.087',\n",
       " '101.086',\n",
       " '076.121',\n",
       " '101.080',\n",
       " '101.083',\n",
       " '101.082',\n",
       " '112.027',\n",
       " '112.026',\n",
       " '112.024',\n",
       " '112.023',\n",
       " '112.022',\n",
       " '112.021',\n",
       " '112.020',\n",
       " '052.252',\n",
       " '112.029',\n",
       " '112.028',\n",
       " '011.050',\n",
       " '011.051',\n",
       " '011.052',\n",
       " '011.053',\n",
       " '011.054',\n",
       " '011.055',\n",
       " '011.056',\n",
       " '011.057',\n",
       " '011.058',\n",
       " '011.059',\n",
       " '078.051',\n",
       " '078.050',\n",
       " '078.057',\n",
       " '110.003',\n",
       " '057.194',\n",
       " '018.178',\n",
       " '018.179',\n",
       " '018.176',\n",
       " '018.177',\n",
       " '018.174',\n",
       " '018.175',\n",
       " '018.172',\n",
       " '018.173',\n",
       " '018.170',\n",
       " '018.171',\n",
       " '051.115',\n",
       " '051.114',\n",
       " '021.079',\n",
       " '021.078',\n",
       " '051.111',\n",
       " '051.110',\n",
       " '051.113',\n",
       " '051.112',\n",
       " '045.093',\n",
       " '021.072',\n",
       " '021.071',\n",
       " '045.090',\n",
       " '021.077',\n",
       " '021.076',\n",
       " '021.075',\n",
       " '021.074',\n",
       " '046.073',\n",
       " '046.070',\n",
       " '046.071',\n",
       " '047.239',\n",
       " '094.155',\n",
       " '046.075',\n",
       " '094.158',\n",
       " '047.234',\n",
       " '047.237',\n",
       " '047.236',\n",
       " '047.231',\n",
       " '047.230',\n",
       " '047.233',\n",
       " '047.232',\n",
       " '070.210',\n",
       " '009.029',\n",
       " '064.033',\n",
       " '009.022',\n",
       " '009.023',\n",
       " '009.021',\n",
       " '009.027',\n",
       " '009.024',\n",
       " '107.018',\n",
       " '014.219',\n",
       " '014.218',\n",
       " '014.217',\n",
       " '014.216',\n",
       " '014.215',\n",
       " '014.214',\n",
       " '014.213',\n",
       " '014.212',\n",
       " '014.211',\n",
       " '014.210',\n",
       " '091.076',\n",
       " '026.081',\n",
       " '026.080',\n",
       " '066.001',\n",
       " '066.004',\n",
       " '066.007',\n",
       " '066.006',\n",
       " '066.008',\n",
       " '091.112',\n",
       " '106.024',\n",
       " '104.011',\n",
       " '106.025',\n",
       " '060.206',\n",
       " '021.035',\n",
       " '021.118',\n",
       " '106.026',\n",
       " '042.083',\n",
       " '042.082',\n",
       " '042.081',\n",
       " '042.080',\n",
       " '042.085',\n",
       " '042.084',\n",
       " '036.073',\n",
       " '026.089',\n",
       " '042.088',\n",
       " '053.227',\n",
       " '091.115',\n",
       " '026.088',\n",
       " '106.136',\n",
       " '106.137',\n",
       " '106.134',\n",
       " '106.135',\n",
       " '106.132',\n",
       " '106.133',\n",
       " '106.130',\n",
       " '106.131',\n",
       " '053.221',\n",
       " '106.023',\n",
       " '106.138',\n",
       " '106.139',\n",
       " '044.074',\n",
       " '044.075',\n",
       " '044.070',\n",
       " '044.071',\n",
       " '044.072',\n",
       " '044.073',\n",
       " '053.222',\n",
       " '053.323',\n",
       " '022.094',\n",
       " '022.095',\n",
       " '022.093',\n",
       " '077.072',\n",
       " '077.073',\n",
       " '077.070',\n",
       " '077.071',\n",
       " '077.076',\n",
       " '077.077',\n",
       " '077.074',\n",
       " '077.075',\n",
       " '075.130',\n",
       " '110.004',\n",
       " '036.071',\n",
       " '057.029',\n",
       " '077.168',\n",
       " '094.143',\n",
       " '057.028',\n",
       " '089.203',\n",
       " '049.006',\n",
       " '049.007',\n",
       " '049.001',\n",
       " '049.002',\n",
       " '049.003',\n",
       " '011.045',\n",
       " '104.016',\n",
       " '015.120',\n",
       " '015.121',\n",
       " '015.122',\n",
       " '015.123',\n",
       " '015.124',\n",
       " '015.125',\n",
       " '015.126',\n",
       " '015.127',\n",
       " '015.128',\n",
       " '104.013',\n",
       " '011.049',\n",
       " '104.012',\n",
       " '032.051',\n",
       " '032.050',\n",
       " '032.053',\n",
       " '032.052',\n",
       " '032.055',\n",
       " '032.054',\n",
       " '032.057',\n",
       " '032.056',\n",
       " '032.059',\n",
       " '032.058',\n",
       " '104.010',\n",
       " '022.054',\n",
       " '052.030',\n",
       " '052.032',\n",
       " '052.035',\n",
       " '052.034',\n",
       " '097.029',\n",
       " '097.028',\n",
       " '097.027',\n",
       " '097.026',\n",
       " '097.025',\n",
       " '097.023',\n",
       " '110.009',\n",
       " '097.021',\n",
       " '097.020',\n",
       " '013.091',\n",
       " '072.210',\n",
       " '110.008',\n",
       " '053.302',\n",
       " '053.303',\n",
       " '053.300',\n",
       " '053.301',\n",
       " '053.306',\n",
       " '053.307',\n",
       " '053.304',\n",
       " '053.305',\n",
       " '053.308',\n",
       " '053.309',\n",
       " '085.088',\n",
       " '085.089',\n",
       " '085.084',\n",
       " '085.085',\n",
       " '085.086',\n",
       " '085.080',\n",
       " '085.081',\n",
       " '085.082',\n",
       " '085.083',\n",
       " '005.141',\n",
       " '005.140',\n",
       " '005.143',\n",
       " '005.142',\n",
       " '005.145',\n",
       " '005.144',\n",
       " '005.147',\n",
       " '005.149',\n",
       " '005.148',\n",
       " '091.212',\n",
       " '091.213',\n",
       " '091.210',\n",
       " '091.211',\n",
       " '091.217',\n",
       " '091.215',\n",
       " '091.218',\n",
       " '091.219',\n",
       " '110.182',\n",
       " '110.186',\n",
       " '110.187',\n",
       " '110.184',\n",
       " '110.185',\n",
       " '056.044',\n",
       " '056.045',\n",
       " '110.188',\n",
       " '110.189',\n",
       " '056.040',\n",
       " '056.041',\n",
       " '056.042',\n",
       " '056.043',\n",
       " '111.149',\n",
       " '060.272',\n",
       " '111.141',\n",
       " '111.140',\n",
       " '111.147',\n",
       " '111.146',\n",
       " '111.145',\n",
       " '111.144',\n",
       " '111.086',\n",
       " '111.087',\n",
       " '030.057',\n",
       " '105.102',\n",
       " '119.021',\n",
       " '086.176',\n",
       " '086.175',\n",
       " '086.174',\n",
       " '086.173',\n",
       " '086.172',\n",
       " '086.171',\n",
       " '086.170',\n",
       " '111.082',\n",
       " '013.096',\n",
       " '086.179',\n",
       " '086.178',\n",
       " '036.081',\n",
       " '111.080',\n",
       " '012.023',\n",
       " '105.107',\n",
       " '012.020',\n",
       " '070.026',\n",
       " '070.027',\n",
       " '070.024',\n",
       " '071.051',\n",
       " '070.022',\n",
       " '070.023',\n",
       " '070.020',\n",
       " '070.021',\n",
       " '071.058',\n",
       " '071.059',\n",
       " '070.028',\n",
       " '070.029',\n",
       " '091.159',\n",
       " '054.049',\n",
       " '117.118',\n",
       " '117.119',\n",
       " '117.116',\n",
       " '117.117',\n",
       " '117.114',\n",
       " '117.115',\n",
       " '117.112',\n",
       " '117.113',\n",
       " '117.110',\n",
       " '117.111',\n",
       " '063.178',\n",
       " '063.179',\n",
       " '107.057',\n",
       " '063.170',\n",
       " '063.171',\n",
       " '063.172',\n",
       " '063.173',\n",
       " '063.174',\n",
       " '063.175',\n",
       " '063.176',\n",
       " '063.177',\n",
       " '057.005',\n",
       " '057.004',\n",
       " '090.109',\n",
       " '057.006',\n",
       " '057.001',\n",
       " '057.003',\n",
       " '057.002',\n",
       " '090.103',\n",
       " '090.102',\n",
       " '090.101',\n",
       " '090.100',\n",
       " '090.107',\n",
       " '057.008',\n",
       " '090.105',\n",
       " '090.104',\n",
       " '028.009',\n",
       " '028.008',\n",
       " '002.217',\n",
       " '029.039',\n",
       " '029.038',\n",
       " '028.003',\n",
       " '028.002',\n",
       " '029.035',\n",
       " '029.034',\n",
       " '028.007',\n",
       " '029.032',\n",
       " '029.031',\n",
       " '028.004',\n",
       " '040.001',\n",
       " '040.003',\n",
       " '051.128',\n",
       " '107.051',\n",
       " '094.142',\n",
       " '040.005',\n",
       " '040.004',\n",
       " '064.182',\n",
       " '064.183',\n",
       " '064.180',\n",
       " '064.181',\n",
       " '064.186',\n",
       " '064.187',\n",
       " '064.184',\n",
       " '064.185',\n",
       " '047.204',\n",
       " '064.188',\n",
       " '064.189',\n",
       " '094.146',\n",
       " '065.149',\n",
       " '065.148',\n",
       " '023.080',\n",
       " '023.081',\n",
       " '118.153',\n",
       " '065.143',\n",
       " '065.142',\n",
       " '065.141',\n",
       " '065.140',\n",
       " '065.146',\n",
       " '065.145',\n",
       " '065.144',\n",
       " '075.117',\n",
       " '075.116',\n",
       " '075.115',\n",
       " '075.113',\n",
       " '075.112',\n",
       " '075.111',\n",
       " '047.209',\n",
       " '045.152',\n",
       " '113.207',\n",
       " '045.151',\n",
       " '045.156',\n",
       " '075.119',\n",
       " '075.118',\n",
       " '094.148',\n",
       " '046.069',\n",
       " '046.068',\n",
       " '048.039',\n",
       " '035.058',\n",
       " '062.229',\n",
       " '088.184',\n",
       " '062.220',\n",
       " '062.227',\n",
       " '062.226',\n",
       " '061.176',\n",
       " '061.175',\n",
       " '061.172',\n",
       " '061.171',\n",
       " '061.179',\n",
       " '045.178',\n",
       " '088.185',\n",
       " '030.055',\n",
       " '045.179',\n",
       " '053.017',\n",
       " '119.078',\n",
       " '062.064',\n",
       " '116.029',\n",
       " '002.029',\n",
       " '047.003',\n",
       " '094.215',\n",
       " '047.001',\n",
       " '094.213',\n",
       " '094.212',\n",
       " '094.211',\n",
       " '094.210',\n",
       " '002.021',\n",
       " '002.020',\n",
       " '047.008',\n",
       " '002.022',\n",
       " '002.025',\n",
       " '002.024',\n",
       " '002.027',\n",
       " '002.026',\n",
       " '089.018',\n",
       " '025.079',\n",
       " '025.078',\n",
       " '089.013',\n",
       " '089.012',\n",
       " '025.075',\n",
       " '025.074',\n",
       " '025.073',\n",
       " '025.072',\n",
       " '025.071',\n",
       " '089.014',\n",
       " '014.024',\n",
       " '014.025',\n",
       " '014.026',\n",
       " '014.027',\n",
       " '014.020',\n",
       " '014.021',\n",
       " '014.022',\n",
       " '014.023',\n",
       " '014.028',\n",
       " '014.029',\n",
       " '042.148',\n",
       " '042.149',\n",
       " '042.146',\n",
       " '042.147',\n",
       " '042.144',\n",
       " '042.145',\n",
       " '042.142',\n",
       " '042.143',\n",
       " '042.140',\n",
       " '042.141',\n",
       " '059.010',\n",
       " '095.129',\n",
       " '033.049',\n",
       " '106.092',\n",
       " '059.014',\n",
       " '106.094',\n",
       " '059.016',\n",
       " '106.096',\n",
       " '095.120',\n",
       " '095.121',\n",
       " '087.123',\n",
       " '095.123',\n",
       " '095.124',\n",
       " '095.125',\n",
       " '095.126',\n",
       " '095.127',\n",
       " '010.139',\n",
       " '079.054',\n",
       " '117.088',\n",
       " '088.182',\n",
       " '012.057',\n",
       " '012.056',\n",
       " '012.055',\n",
       " '012.054',\n",
       " '012.053',\n",
       " '012.052',\n",
       " '012.051',\n",
       " '012.050',\n",
       " '012.059',\n",
       " '012.058',\n",
       " '007.172',\n",
       " '006.158',\n",
       " '007.170',\n",
       " '007.171',\n",
       " '007.176',\n",
       " '007.177',\n",
       " '007.175',\n",
       " '006.151',\n",
       " '006.150',\n",
       " '007.178',\n",
       " '007.179',\n",
       " '006.155',\n",
       " '065.084',\n",
       " '006.157',\n",
       " '006.156',\n",
       " '036.061',\n",
       " '036.062',\n",
       " '073.246',\n",
       " '036.064',\n",
       " '036.065',\n",
       " '036.066',\n",
       " '116.198',\n",
       " '036.068',\n",
       " '036.069',\n",
       " '116.195',\n",
       " '116.194',\n",
       " '116.193',\n",
       " '116.192',\n",
       " '116.191',\n",
       " '116.190',\n",
       " '049.211',\n",
       " '049.210',\n",
       " '049.213',\n",
       " '049.212',\n",
       " '049.215',\n",
       " '049.214',\n",
       " '049.217',\n",
       " '049.216',\n",
       " '119.107',\n",
       " '049.218',\n",
       " '119.105',\n",
       " '119.104',\n",
       " '119.103',\n",
       " '119.102',\n",
       " '119.101',\n",
       " '119.100',\n",
       " '060.043',\n",
       " '060.042',\n",
       " '060.041',\n",
       " '060.040',\n",
       " '060.047',\n",
       " '060.046',\n",
       " '060.045',\n",
       " '060.048',\n",
       " '073.133',\n",
       " '091.006',\n",
       " '091.005',\n",
       " '091.003',\n",
       " '091.002',\n",
       " '091.001',\n",
       " '073.138',\n",
       " '091.009',\n",
       " '091.008',\n",
       " '072.198',\n",
       " '072.199',\n",
       " '072.194',\n",
       " '072.195',\n",
       " '072.197',\n",
       " '072.190',\n",
       " '072.191',\n",
       " '072.193',\n",
       " '113.174',\n",
       " '113.175',\n",
       " '113.176',\n",
       " '113.177',\n",
       " '001.141',\n",
       " '113.171',\n",
       " '113.172',\n",
       " '113.173',\n",
       " '087.222',\n",
       " '114.128',\n",
       " '113.178',\n",
       " '113.179',\n",
       " '088.149',\n",
       " '010.129',\n",
       " '010.128',\n",
       " '010.125',\n",
       " '010.124',\n",
       " '010.127',\n",
       " '010.126',\n",
       " '010.121',\n",
       " '088.145',\n",
       " '010.123',\n",
       " '010.122',\n",
       " '082.229',\n",
       " '082.223',\n",
       " '082.222',\n",
       " '082.221',\n",
       " '082.220',\n",
       " '082.226',\n",
       " '082.225',\n",
       " '012.170',\n",
       " '075.278',\n",
       " '075.279',\n",
       " '036.020',\n",
       " '075.272',\n",
       " '075.273',\n",
       " '075.270',\n",
       " '075.271',\n",
       " '075.276',\n",
       " '075.277',\n",
       " '075.274',\n",
       " '075.275',\n",
       " '081.043',\n",
       " '092.018',\n",
       " '063.092',\n",
       " '093.201',\n",
       " '063.091',\n",
       " '112.001',\n",
       " '056.250',\n",
       " '078.077',\n",
       " '112.002',\n",
       " '056.255',\n",
       " '056.254',\n",
       " '112.007',\n",
       " '112.006',\n",
       " '112.009',\n",
       " '112.008',\n",
       " '078.079',\n",
       " '063.096',\n",
       " '011.078',\n",
       " '011.079',\n",
       " '063.095',\n",
       " '011.072',\n",
       " ...]"
      ]
     },
     "execution_count": 41,
     "metadata": {},
     "output_type": "execute_result"
    }
   ],
   "source": []
  },
  {
   "cell_type": "markdown",
   "metadata": {},
   "source": []
  }
 ],
 "metadata": {
  "kernelspec": {
   "display_name": "Python 2",
   "language": "python",
   "name": "python2"
  },
  "language_info": {
   "codemirror_mode": {
    "name": "ipython",
    "version": 2
   },
   "file_extension": ".py",
   "mimetype": "text/x-python",
   "name": "python",
   "nbconvert_exporter": "python",
   "pygments_lexer": "ipython2",
   "version": "2.7.12"
  }
 },
 "nbformat": 4,
 "nbformat_minor": 0
}
