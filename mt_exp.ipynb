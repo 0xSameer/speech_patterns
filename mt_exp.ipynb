{
 "cells": [
  {
   "cell_type": "code",
   "execution_count": 1,
   "metadata": {
    "collapsed": true
   },
   "outputs": [],
   "source": [
    "from __future__ import print_function\n",
    "from __future__ import division\n",
    "import os\n",
    "import cPickle as pickle\n",
    "import json\n",
    "import subprocess\n",
    "from IPython.display import display\n",
    "from IPython.display import Audio\n",
    "import bisect\n",
    "from collections import namedtuple\n",
    "import numpy as np\n",
    "import pandas as pd\n",
    "from collections import Counter\n",
    "from prettytable import PrettyTable\n",
    "import matplotlib.pyplot as plt\n",
    "import seaborn as sns\n",
    "from tabulate import tabulate\n",
    "from matplotlib.ticker import MultipleLocator, \\\n",
    "     FormatStrFormatter, AutoMinorLocator\n",
    "%matplotlib inline"
   ]
  },
  {
   "cell_type": "code",
   "execution_count": 2,
   "metadata": {
    "collapsed": true
   },
   "outputs": [],
   "source": [
    "with open(\"config.json\") as json_data_file:\n",
    "    config = json.load(json_data_file)"
   ]
  },
  {
   "cell_type": "code",
   "execution_count": 3,
   "metadata": {
    "collapsed": false
   },
   "outputs": [],
   "source": [
    "nodes_fname = config[\"es\"]['nodes_fname']\n",
    "seg_nodes_fname = config[\"es\"]['seg_nodes_fname']\n",
    "nodes_dict_fname = config[\"es\"]['nodes_dict_fname']\n",
    "\n",
    "edges_utd_fname = config[\"es\"]['edges_utd_fname']\n",
    "edges_olap_fname = config[\"es\"]['edges_olap_fname']\n",
    "edges_all_fname = config[\"es\"]['edges_all_fname']\n",
    "edges_score_fname = config[\"es\"]['edges_score_fname']\n",
    "\n",
    "clusters_utd_fname = config['es']['clusters_utd_fname']\n",
    "clusters_fname = config['es']['clusters_fname']\n",
    "clusters_stats_fname = config['es']['clusters_stats_fname']\n",
    "\n",
    "pairs_fname = config['es']['score_pairs_fname']\n",
    "eval_fname = config['es']['eval_pairs_fname']\n",
    "\n",
    "feats_fname = config['es']['feats_fname']\n",
    "\n",
    "# Gold feats\n",
    "gold_feats_dict_fname = config['es']['gold_feats']\n",
    "# Pseudo feats\n",
    "feats_dict_fname = config['es']['feats_dict_fname']\n",
    "\n",
    "gold_probs_fname = config['es']['mt_probs_gold']\n",
    "gold_probs_dict_fname = config['es']['mt_probs_dict_gold']\n",
    "\n",
    "pseudo_probs_fname = config['es']['mt_probs_pseudo']\n",
    "pseudo_probs_dict_fname = config['es']['mt_probs_dict_pseudo']\n",
    "\n",
    "train_segment_list_fname = config['es']['mt_train_files']\n",
    "dev_segment_list_fname = config['es']['mt_dev_files']\n",
    "\n",
    "gold_corpus_fname = config['es']['mt_corpus_train_gold']\n",
    "pseudo_corpus_fname = config['es']['mt_corpus_train_pseudo']\n",
    "\n",
    "mt_gold_pred_dict_fname = config['es']['mt_gold_pred_dict']\n",
    "mt_pseudo_pred_dict_fname = config['es']['mt_pseudo_pred_dict']\n",
    "\n",
    "mt_gold_eval_dict_fname = config['es']['mt_gold_eval_dict']\n",
    "mt_pseudo_eval_dict_fname = config['es']['mt_pseudo_eval_dict']\n",
    "\n",
    "has_500ms_fa_vad_dict_fname = config['es']['has_500ms_fa_vad_dict']"
   ]
  },
  {
   "cell_type": "code",
   "execution_count": 4,
   "metadata": {
    "collapsed": true
   },
   "outputs": [],
   "source": [
    "Align = namedtuple('Align', ['word', 'start', 'end'])\n",
    "Node = namedtuple('Node', ['file', 'seg', 'start', 'end', 'es', 'es_cnt'])\n",
    "Eval = namedtuple('Eval', ['n1', 'n2', 'dtw', 'es_sim', 'es_cnt_sim', 'en_j_sim'])"
   ]
  },
  {
   "cell_type": "code",
   "execution_count": 5,
   "metadata": {
    "collapsed": false
   },
   "outputs": [],
   "source": [
    "segment_map = pickle.load(open(config['es']['segment_dict_fname'], \"rb\"))\n",
    "align_dict = pickle.load(open(config['es']['align_dict_fname'], \"rb\"))\n",
    "nodes_dict = pickle.load(open(nodes_dict_fname, \"rb\"))\n",
    "pairs_list = pickle.load(open(pairs_fname, \"rb\"))\n",
    "eval_dict = pickle.load(open(eval_fname, \"rb\"))\n",
    "clusters = pickle.load(open(clusters_fname, \"rb\"))\n",
    "clusters_stats = pickle.load(open(clusters_stats_fname, \"rb\"))\n",
    "feats_dict = pickle.load(open(feats_dict_fname, \"rb\"))\n",
    "gold_feats_dict = pickle.load(open(gold_feats_dict_fname, \"rb\"))\n",
    "\n",
    "if os.path.exists(gold_probs_dict_fname):\n",
    "    gold_probs_dict = pickle.load(open(gold_probs_dict_fname, \"rb\"))\n",
    "\n",
    "if os.path.exists(pseudo_probs_dict_fname):\n",
    "    pseudo_probs_dict = pickle.load(open(pseudo_probs_dict_fname, \"rb\"))\n",
    "\n",
    "if os.path.exists(mt_gold_pred_dict_fname):\n",
    "    mt_gold_pred_dict = pickle.load(open(mt_gold_pred_dict_fname, \"rb\"))\n",
    "    \n",
    "if os.path.exists(mt_pseudo_pred_dict_fname):\n",
    "    mt_pseudo_pred_dict = pickle.load(open(mt_pseudo_pred_dict_fname, \"rb\"))\n",
    "    \n",
    "if os.path.exists(has_500ms_fa_vad_dict_fname):\n",
    "    has_500ms_fa_vad_dict = pickle.load(open(has_500ms_fa_vad_dict_fname, \"rb\"))"
   ]
  },
  {
   "cell_type": "markdown",
   "metadata": {},
   "source": [
    "# Create parallel corpus\n",
    "\n",
    "- Use list of files specified for training\n",
    "- Create golden parallel corpus, using es transcriptions\n",
    "- Create pseudotext ||| english parallel corpus\n",
    "- For English, filter for content words\n"
   ]
  },
  {
   "cell_type": "code",
   "execution_count": 6,
   "metadata": {
    "collapsed": false
   },
   "outputs": [],
   "source": [
    "# def create_parallel_corpus(segment_list_fname, corpus_fname, pseudotext=False, es_w_key='es', en_w_key='en'):\n",
    "#     with open(corpus_fname, \"w\") as out_f, open(segment_list_fname) as in_f:\n",
    "#         for seg_id in in_f:\n",
    "#             seg_id = seg_id.strip()\n",
    "#             if pseudotext:\n",
    "#                 es_words = map(str, feats_dict[seg_id])\n",
    "#             else:\n",
    "#                 es_words = [w.word for w in align_dict[seg_id.split('.')[0]][seg_id][es_w_key]]\n",
    "#                 if not es_words:\n",
    "#                     es_words = ['-1']\n",
    "            \n",
    "#             en_words = [w.word for w in align_dict[seg_id.split('.')[0]][seg_id][en_w_key]]\n",
    "#             if not en_words:\n",
    "#                 en_words = [w.word for w in align_dict[seg_id.split('.')[0]][seg_id]['en']]\n",
    "            \n",
    "#             if es_words != ['-1']:\n",
    "#                 outline = \" \".join(es_words) + \" ||| \" + \" \".join(en_words) + \"\\n\"\n",
    "#                 out_f.write(outline)\n",
    "#     print(\"Finished generating MT corpus\")\n",
    "        "
   ]
  },
  {
   "cell_type": "code",
   "execution_count": 7,
   "metadata": {
    "collapsed": true
   },
   "outputs": [],
   "source": [
    "def get_en_words(align_dict, seg_id, en_key):\n",
    "    en_words = [w.word for w in align_dict[seg_id.split('.')[0]][seg_id][en_key] if \"'\" not in w.word]\n",
    "    if not en_words:\n",
    "        en_words = [w.word for w in align_dict[seg_id.split('.')[0]][seg_id]['en'] if \"'\" not in w.word]\n",
    "    return en_words"
   ]
  },
  {
   "cell_type": "code",
   "execution_count": 8,
   "metadata": {
    "collapsed": true
   },
   "outputs": [],
   "source": [
    "def create_parallel_corpus(segment_list_fname, corpus_fname, feats_dict, align_dict, en_w_key='en'):\n",
    "    total_errors = 0\n",
    "    with open(corpus_fname, \"w\") as out_f, open(segment_list_fname) as in_f:\n",
    "        for seg_id in in_f:\n",
    "            seg_id = seg_id.strip()\n",
    "            es_words = feats_dict[seg_id]\n",
    "            if not es_words:\n",
    "                es_words = ['-1']\n",
    "                print('Aha')\n",
    "            \n",
    "            en_words = get_en_words(align_dict, seg_id, en_w_key)\n",
    "            \n",
    "            if es_words != ['-1']:\n",
    "                outline = \" \".join(es_words) + \" ||| \" + \" \".join(en_words) + \"\\n\"\n",
    "                out_f.write(outline)\n",
    "            else:\n",
    "                total_errors += 1\n",
    "    print(\"Finished generating MT corpus\")\n",
    "    print(\"Not found for: %d utterances\" % total_errors)"
   ]
  },
  {
   "cell_type": "code",
   "execution_count": 9,
   "metadata": {
    "collapsed": false
   },
   "outputs": [
    {
     "data": {
      "text/plain": [
       "['13201', '-1', '8020', '10962', '-1', '11200', '4102', '11128', '-1', '-1']"
      ]
     },
     "execution_count": 9,
     "metadata": {},
     "output_type": "execute_result"
    }
   ],
   "source": [
    "lol = [item for lst in feats_dict.values() for item in lst]\n",
    "'-1' in map(str, lol[:10])\n",
    "lol[:10]"
   ]
  },
  {
   "cell_type": "code",
   "execution_count": 10,
   "metadata": {
    "collapsed": true
   },
   "outputs": [],
   "source": [
    "en_w_key = 'en_cnt'"
   ]
  },
  {
   "cell_type": "code",
   "execution_count": 11,
   "metadata": {
    "collapsed": false
   },
   "outputs": [
    {
     "name": "stdout",
     "output_type": "stream",
     "text": [
      "Finished generating MT corpus\n",
      "Not found for: 0 utterances\n"
     ]
    }
   ],
   "source": [
    "create_parallel_corpus(train_segment_list_fname, gold_corpus_fname, gold_feats_dict, align_dict, en_w_key=en_w_key)"
   ]
  },
  {
   "cell_type": "code",
   "execution_count": 12,
   "metadata": {
    "collapsed": false
   },
   "outputs": [
    {
     "name": "stdout",
     "output_type": "stream",
     "text": [
      "Finished generating MT corpus\n",
      "Not found for: 4093 utterances\n"
     ]
    }
   ],
   "source": [
    "create_parallel_corpus(train_segment_list_fname, pseudo_corpus_fname, feats_dict, align_dict, en_w_key=en_w_key)"
   ]
  },
  {
   "cell_type": "markdown",
   "metadata": {},
   "source": [
    "# Train MT model using *fast_align*"
   ]
  },
  {
   "cell_type": "code",
   "execution_count": 13,
   "metadata": {
    "collapsed": true
   },
   "outputs": [],
   "source": [
    "def train_mt(corpus_fname, probs_fname):\n",
    "    FASTALIGN = config['base']['fast_align']\n",
    "    subprocess.call([FASTALIGN,\"-i\", corpus_fname, \"-v\", \"-N\", \"-p\", probs_fname]) "
   ]
  },
  {
   "cell_type": "code",
   "execution_count": 14,
   "metadata": {
    "collapsed": true
   },
   "outputs": [],
   "source": [
    "train_mt(gold_corpus_fname, gold_probs_fname)"
   ]
  },
  {
   "cell_type": "code",
   "execution_count": 15,
   "metadata": {
    "collapsed": true
   },
   "outputs": [],
   "source": [
    "train_mt(pseudo_corpus_fname, pseudo_probs_fname)"
   ]
  },
  {
   "cell_type": "code",
   "execution_count": 16,
   "metadata": {
    "collapsed": true
   },
   "outputs": [],
   "source": [
    "def save_mt_probs(probs_fname, probs_dict_fname):\n",
    "    probs_dict = {}\n",
    "    with open(probs_fname, \"r\") as in_f:\n",
    "        for i, line in enumerate(in_f):\n",
    "            line_items = line.strip().split()\n",
    "            es_w = line_items[0]\n",
    "            if es_w not in probs_dict:\n",
    "                probs_dict[es_w] = {}\n",
    "            en_w = line_items[1]\n",
    "            log_prob_val = float(line_items[2])\n",
    "            probs_dict[es_w][en_w] = log_prob_val\n",
    "    print(\"Finished reading mt probs file: %s\" % os.path.basename(probs_fname))\n",
    "    pickle.dump(probs_dict, open(probs_dict_fname, \"wb\"))\n",
    "    print(\"Finished saving mt probs dictionary: %s\" % os.path.basename(probs_dict_fname))\n",
    "    return probs_dict\n",
    "            "
   ]
  },
  {
   "cell_type": "code",
   "execution_count": 17,
   "metadata": {
    "collapsed": false
   },
   "outputs": [
    {
     "name": "stdout",
     "output_type": "stream",
     "text": [
      "Finished reading mt probs file: mt_probs_gold.txt\n",
      "Finished saving mt probs dictionary: mt_probs_dict_gold.p\n"
     ]
    }
   ],
   "source": [
    "gold_probs_dict = save_mt_probs(gold_probs_fname, gold_probs_dict_fname)"
   ]
  },
  {
   "cell_type": "code",
   "execution_count": 18,
   "metadata": {
    "collapsed": false
   },
   "outputs": [
    {
     "name": "stdout",
     "output_type": "stream",
     "text": [
      "Finished reading mt probs file: mt_probs_pseudo.txt\n",
      "Finished saving mt probs dictionary: mt_probs_dict_pseudo.p\n"
     ]
    }
   ],
   "source": [
    "pseudo_probs_dict = save_mt_probs(pseudo_probs_fname, pseudo_probs_dict_fname)"
   ]
  },
  {
   "cell_type": "code",
   "execution_count": 19,
   "metadata": {
    "collapsed": false
   },
   "outputs": [
    {
     "data": {
      "text/plain": [
       "['JOHNNY', 'AGRADECIMIENTO', 'CATORCE', 'DILUY\\xc3\\xb3', 'ESPERO']"
      ]
     },
     "metadata": {},
     "output_type": "display_data"
    },
    {
     "data": {
      "text/plain": [
       "['4446', '4447', '11542', '11543', '11540']"
      ]
     },
     "metadata": {},
     "output_type": "display_data"
    }
   ],
   "source": [
    "display(gold_probs_dict.keys()[:5])\n",
    "display(pseudo_probs_dict.keys()[:5])\n",
    "# pseudo_probs_dict['1869']"
   ]
  },
  {
   "cell_type": "markdown",
   "metadata": {},
   "source": [
    "# Make predictions"
   ]
  },
  {
   "cell_type": "code",
   "execution_count": 20,
   "metadata": {
    "collapsed": true
   },
   "outputs": [],
   "source": [
    "def mt_predict(feats_dict, probs_dict, k=1):\n",
    "    missing_pwords_errors = 0\n",
    "    missing_mt_errors = 0\n",
    "    \n",
    "    pred_dict = {}\n",
    "    # Sort probs dict\n",
    "    probs_dict_sorted = {k: sorted(v.items(), reverse=False, key=lambda t:t[1]) for k, v in probs_dict.items()}\n",
    "    \n",
    "    for seg_id in feats_dict:\n",
    "        # Empty list to store predicted English words\n",
    "        pred_dict[seg_id] = []\n",
    "        es_words = feats_dict[seg_id]\n",
    "        if es_words == ['-1']:\n",
    "            missing_pwords_errors += 1\n",
    "        else:\n",
    "            for esw in es_words:\n",
    "                # Get k predictions from probs dict\n",
    "                if esw in probs_dict_sorted:\n",
    "                    pred_dict[seg_id].extend([w for w,p in probs_dict_sorted[esw][:k]])\n",
    "                else:\n",
    "                    missing_mt_errors += 1\n",
    "    print(\"Finished making predictions\")\n",
    "    print(\"pseudoword missing for: %d utterances, and translations missing for: %d\" % (missing_pwords_errors, missing_mt_errors))\n",
    "    return pred_dict"
   ]
  },
  {
   "cell_type": "code",
   "execution_count": 21,
   "metadata": {
    "collapsed": false,
    "scrolled": true
   },
   "outputs": [
    {
     "name": "stdout",
     "output_type": "stream",
     "text": [
      "\n",
      "Generating k=1 predictions\n",
      "Finished making predictions\n",
      "pseudoword missing for: 0 utterances, and translations missing for: 6326\n",
      "\n",
      "Generating k=2 predictions\n",
      "Finished making predictions\n",
      "pseudoword missing for: 0 utterances, and translations missing for: 6326\n",
      "\n",
      "Generating k=3 predictions\n",
      "Finished making predictions\n",
      "pseudoword missing for: 0 utterances, and translations missing for: 6326\n",
      "\n",
      "Generating k=4 predictions\n",
      "Finished making predictions\n",
      "pseudoword missing for: 0 utterances, and translations missing for: 6326\n",
      "\n",
      "Generating k=5 predictions\n",
      "Finished making predictions\n",
      "pseudoword missing for: 0 utterances, and translations missing for: 6326\n",
      "\n",
      "Generating k=6 predictions\n",
      "Finished making predictions\n",
      "pseudoword missing for: 0 utterances, and translations missing for: 6326\n",
      "\n",
      "Generating k=7 predictions\n",
      "Finished making predictions\n",
      "pseudoword missing for: 0 utterances, and translations missing for: 6326\n",
      "\n",
      "Generating k=8 predictions\n",
      "Finished making predictions\n",
      "pseudoword missing for: 0 utterances, and translations missing for: 6326\n",
      "\n",
      "Generating k=9 predictions\n",
      "Finished making predictions\n",
      "pseudoword missing for: 0 utterances, and translations missing for: 6326\n",
      "\n",
      "Generating k=10 predictions\n",
      "Finished making predictions\n",
      "pseudoword missing for: 0 utterances, and translations missing for: 6326\n"
     ]
    }
   ],
   "source": [
    "mt_gold_pred_dict = {}\n",
    "for k in xrange(1,11):\n",
    "    print('\\nGenerating k=%d predictions' % k)\n",
    "    mt_gold_pred_dict[k] = mt_predict(gold_feats_dict, gold_probs_dict, k=k)\n",
    "\n",
    "pickle.dump(mt_gold_pred_dict, open(mt_gold_pred_dict_fname, \"wb\"))"
   ]
  },
  {
   "cell_type": "code",
   "execution_count": 22,
   "metadata": {
    "collapsed": false
   },
   "outputs": [
    {
     "name": "stdout",
     "output_type": "stream",
     "text": [
      "\n",
      "Generating k=1 predictions\n",
      "Finished making predictions\n",
      "pseudoword missing for: 8896 utterances, and translations missing for: 10403\n",
      "\n",
      "Generating k=2 predictions\n",
      "Finished making predictions\n",
      "pseudoword missing for: 8896 utterances, and translations missing for: 10403\n",
      "\n",
      "Generating k=3 predictions\n",
      "Finished making predictions\n",
      "pseudoword missing for: 8896 utterances, and translations missing for: 10403\n",
      "\n",
      "Generating k=4 predictions\n",
      "Finished making predictions\n",
      "pseudoword missing for: 8896 utterances, and translations missing for: 10403\n",
      "\n",
      "Generating k=5 predictions\n",
      "Finished making predictions\n",
      "pseudoword missing for: 8896 utterances, and translations missing for: 10403\n",
      "\n",
      "Generating k=6 predictions\n",
      "Finished making predictions\n",
      "pseudoword missing for: 8896 utterances, and translations missing for: 10403\n",
      "\n",
      "Generating k=7 predictions\n",
      "Finished making predictions\n",
      "pseudoword missing for: 8896 utterances, and translations missing for: 10403\n",
      "\n",
      "Generating k=8 predictions\n",
      "Finished making predictions\n",
      "pseudoword missing for: 8896 utterances, and translations missing for: 10403\n",
      "\n",
      "Generating k=9 predictions\n",
      "Finished making predictions\n",
      "pseudoword missing for: 8896 utterances, and translations missing for: 10403\n",
      "\n",
      "Generating k=10 predictions\n",
      "Finished making predictions\n",
      "pseudoword missing for: 8896 utterances, and translations missing for: 10403\n"
     ]
    }
   ],
   "source": [
    "mt_pseudo_pred_dict = {}\n",
    "for k in xrange(1,11):\n",
    "    print('\\nGenerating k=%d predictions' % k)\n",
    "    mt_pseudo_pred_dict[k] = mt_predict(feats_dict, pseudo_probs_dict, k=k)\n",
    "\n",
    "pickle.dump(mt_pseudo_pred_dict, open(mt_pseudo_pred_dict_fname, \"wb\"))"
   ]
  },
  {
   "cell_type": "markdown",
   "metadata": {},
   "source": [
    "# Evaluation - Precision and Recall at *k*"
   ]
  },
  {
   "cell_type": "code",
   "execution_count": 23,
   "metadata": {
    "collapsed": false
   },
   "outputs": [],
   "source": [
    "def count_match(list1, list2):\n",
    "    # each list can have repeated elements. The count should account for this.\n",
    "    count1 = Counter(list1)\n",
    "    count2 = Counter(list2)\n",
    "    common_w = set(count1.keys()) & set(count2.keys())\n",
    "    #all_w = set(count1.keys()) + set(count2.keys())\n",
    "    matches = sum([min(count1[w], count2[w]) for w in common_w])\n",
    "    return matches\n",
    "#     for w in all_w:\n",
    "#         if w in common_w:\n",
    "#     print(count1, count2)"
   ]
  },
  {
   "cell_type": "code",
   "execution_count": 24,
   "metadata": {
    "collapsed": false
   },
   "outputs": [],
   "source": [
    "def eval_mt(segment_list_fname, pred_dict, align_dict, en_key='en'):\n",
    "    # Get the k value from the prediction dict\n",
    "    k = pred_dict.keys()\n",
    "    # For every k value and for every segment, count\n",
    "    #    tp - total predicted\n",
    "    #    cp - correctly predicted\n",
    "    #    t - total correct\n",
    "    mt_eval_dict = {i: {'tp':0, 'cp':0, 't':0} for i in k}\n",
    "    \n",
    "    # Read segment ids to evaluate\n",
    "    with open(segment_list_fname, \"r\") as seg_f:\n",
    "        segids = set([sid.strip() for sid in seg_f if sid.strip()])\n",
    "    \n",
    "    print(\"evaluating %d segments\" % len(segids))\n",
    "    missing_preds = set()\n",
    "    \n",
    "    for i in k:\n",
    "        print(\"Evaluating at k=%d\" % i)\n",
    "        #for sid in pred_dict[i]:\n",
    "        for sid in segids:\n",
    "            mt_eval_dict[i][sid] = {'tp':0, 'cp':0, 't':0}\n",
    "            # get predicted words\n",
    "            pred_en_words = pred_dict[i][sid]\n",
    "            if len(pred_en_words) == 0:\n",
    "                missing_preds |= set([sid])\n",
    "            # get reference english words\n",
    "            ref_en_words = get_en_words(align_dict, sid, en_key)\n",
    "            mt_eval_dict[i][sid]['tp'] = len(pred_en_words)\n",
    "            mt_eval_dict[i][sid]['cp'] = count_match(pred_en_words, ref_en_words)\n",
    "            mt_eval_dict[i][sid]['t'] = len(ref_en_words)\n",
    "\n",
    "            for count_key in ['tp', 'cp', 't']:\n",
    "                mt_eval_dict[i][count_key] += mt_eval_dict[i][sid][count_key]\n",
    "        # for segment ids\n",
    "        # compute precision recall at every i\n",
    "        mt_eval_dict[i]['precision'] = 0 if mt_eval_dict[i]['tp'] == 0 else \\\n",
    "                                    mt_eval_dict[i]['cp'] / mt_eval_dict[i]['tp']\n",
    "        mt_eval_dict[i]['recall'] = mt_eval_dict[i]['cp'] / mt_eval_dict[i]['t']\n",
    "    # for i in k predicts\n",
    "    return mt_eval_dict, missing_preds"
   ]
  },
  {
   "cell_type": "code",
   "execution_count": 25,
   "metadata": {
    "collapsed": false
   },
   "outputs": [
    {
     "name": "stdout",
     "output_type": "stream",
     "text": [
      "evaluating 8055 segments\n",
      "Evaluating at k=1\n",
      "Evaluating at k=2\n",
      "Evaluating at k=3\n",
      "Evaluating at k=4\n",
      "Evaluating at k=5\n",
      "Evaluating at k=6\n",
      "Evaluating at k=7\n",
      "Evaluating at k=8\n",
      "Evaluating at k=9\n",
      "Evaluating at k=10\n",
      "evaluating 911 segments\n",
      "Evaluating at k=1\n",
      "Evaluating at k=2\n",
      "Evaluating at k=3\n",
      "Evaluating at k=4\n",
      "Evaluating at k=5\n",
      "Evaluating at k=6\n",
      "Evaluating at k=7\n",
      "Evaluating at k=8\n",
      "Evaluating at k=9\n",
      "Evaluating at k=10\n"
     ]
    }
   ],
   "source": [
    "gold_mt_eval_dict = {}\n",
    "gold_mt_eval_dict['train'], _ = eval_mt(train_segment_list_fname, mt_gold_pred_dict, align_dict, en_key=en_w_key)\n",
    "gold_mt_eval_dict['dev'], _ = eval_mt(dev_segment_list_fname, mt_gold_pred_dict, align_dict, en_key=en_w_key)\n",
    "pickle.dump(gold_mt_eval_dict, open(mt_gold_eval_dict_fname, \"wb\"))"
   ]
  },
  {
   "cell_type": "code",
   "execution_count": 26,
   "metadata": {
    "collapsed": false
   },
   "outputs": [
    {
     "name": "stdout",
     "output_type": "stream",
     "text": [
      "evaluating 8055 segments\n",
      "Evaluating at k=1\n",
      "Evaluating at k=2\n",
      "Evaluating at k=3\n",
      "Evaluating at k=4\n",
      "Evaluating at k=5\n",
      "Evaluating at k=6\n",
      "Evaluating at k=7\n",
      "Evaluating at k=8\n",
      "Evaluating at k=9\n",
      "Evaluating at k=10\n",
      "evaluating 911 segments\n",
      "Evaluating at k=1\n",
      "Evaluating at k=2\n",
      "Evaluating at k=3\n",
      "Evaluating at k=4\n",
      "Evaluating at k=5\n",
      "Evaluating at k=6\n",
      "Evaluating at k=7\n",
      "Evaluating at k=8\n",
      "Evaluating at k=9\n",
      "Evaluating at k=10\n"
     ]
    }
   ],
   "source": [
    "pseudo_mt_eval_dict = {}\n",
    "pseudo_mt_eval_dict['train'], train_missing = eval_mt(train_segment_list_fname, mt_pseudo_pred_dict, align_dict, en_key=en_w_key)\n",
    "pseudo_mt_eval_dict['dev'], dev_missing = eval_mt(dev_segment_list_fname, mt_pseudo_pred_dict, align_dict, en_key=en_w_key)\n",
    "pickle.dump(pseudo_mt_eval_dict, open(mt_pseudo_eval_dict_fname, \"wb\"))"
   ]
  },
  {
   "cell_type": "code",
   "execution_count": 27,
   "metadata": {
    "collapsed": false
   },
   "outputs": [
    {
     "name": "stdout",
     "output_type": "stream",
     "text": [
      "evaluating 8055 segments\n",
      "Evaluating at k=1\n",
      "Evaluating at k=2\n",
      "Evaluating at k=3\n",
      "Evaluating at k=4\n",
      "Evaluating at k=5\n",
      "Evaluating at k=6\n",
      "Evaluating at k=7\n",
      "Evaluating at k=8\n",
      "Evaluating at k=9\n",
      "Evaluating at k=10\n",
      "evaluating 3587 segments\n",
      "Evaluating at k=1\n",
      "Evaluating at k=2\n",
      "Evaluating at k=3\n",
      "Evaluating at k=4\n",
      "Evaluating at k=5\n",
      "Evaluating at k=6\n",
      "Evaluating at k=7\n",
      "Evaluating at k=8\n",
      "Evaluating at k=9\n",
      "Evaluating at k=10\n"
     ]
    }
   ],
   "source": [
    "dev_500ms_fname = config['es']['mt_dev_500ms_files']\n",
    "pseudo_mt_500ms_eval_dict = {}\n",
    "pseudo_mt_500ms_eval_dict['train'], train_missing = eval_mt(train_segment_list_fname, mt_pseudo_pred_dict, align_dict, en_key=en_w_key)\n",
    "pseudo_mt_500ms_eval_dict['dev'], dev_missing = eval_mt(dev_500ms_fname, mt_pseudo_pred_dict, align_dict, en_key=en_w_key)"
   ]
  },
  {
   "cell_type": "code",
   "execution_count": 28,
   "metadata": {
    "collapsed": false,
    "scrolled": true
   },
   "outputs": [
    {
     "name": "stdout",
     "output_type": "stream",
     "text": [
      "4093 2011\n",
      "0\n",
      " 911  911 7288 ../files-dev-calls-63-120-10.txt\n",
      " 8055  8055 64440 ../files-train-calls-63-120-10.txt\n"
     ]
    }
   ],
   "source": [
    "print(len(train_missing), len(dev_missing))\n",
    "dev_missing_500ms = set([f for f, d in has_500ms_fa_vad_dict.items() if not d]) & dev_missing\n",
    "print(len(dev_missing_500ms))\n",
    "!wc $dev_segment_list_fname\n",
    "!wc $train_segment_list_fname"
   ]
  },
  {
   "cell_type": "code",
   "execution_count": null,
   "metadata": {
    "collapsed": false
   },
   "outputs": [],
   "source": []
  },
  {
   "cell_type": "code",
   "execution_count": 29,
   "metadata": {
    "collapsed": false
   },
   "outputs": [
    {
     "name": "stdout",
     "output_type": "stream",
     "text": [
      "gold call train prec.: 0.4753, 0.4105, 0.3692, 0.3399, 0.3168, 0.2981, 0.2828, 0.2703, 0.2595, 0.2505\n",
      "gold call train rec.:0.4704, 0.6376, 0.7178, 0.7617, 0.7896, 0.8078, 0.8211, 0.8330, 0.8428, 0.8504\n",
      "gold call dev prec.: 0.3566, 0.3063, 0.2699, 0.2469, 0.2307, 0.2166, 0.2076, 0.1979, 0.1922, 0.1872\n",
      "gold call dev rec.:0.2834, 0.3795, 0.4177, 0.4434, 0.4641, 0.4762, 0.4900, 0.4965, 0.5093, 0.5184\n"
     ]
    },
    {
     "data": {
      "image/png": "[encoded data removed]",
      "text/plain": [
       "<matplotlib.figure.Figure at 0x7f82a1748490>"
      ]
     },
     "metadata": {},
     "output_type": "display_data"
    }
   ],
   "source": [
    "# plot precision, recall at i\n",
    "fig = plt.figure(figsize=(16,5))\n",
    "fig.add_subplot(121)\n",
    "p_at_k = [gold_mt_eval_dict['train'][i]['precision'] for i in gold_mt_eval_dict['train']]\n",
    "r_at_k = [gold_mt_eval_dict['train'][i]['recall'] for i in gold_mt_eval_dict['train']]\n",
    "print(\"gold call train prec.: \" + \", \".join(map(lambda v: \"%.4f\"%v, p_at_k)))\n",
    "print(\"gold call train rec.:\" + \", \".join(map(lambda v: \"%.4f\"%v, r_at_k)))\n",
    "plt.plot(p_at_k)\n",
    "plt.plot(r_at_k)\n",
    "fig.add_subplot(122)\n",
    "p_at_k = [gold_mt_eval_dict['dev'][i]['precision'] for i in gold_mt_eval_dict['dev']]\n",
    "r_at_k = [gold_mt_eval_dict['dev'][i]['recall'] for i in gold_mt_eval_dict['dev']]\n",
    "plt.plot(p_at_k)\n",
    "plt.plot(r_at_k)\n",
    "print(\"gold call dev prec.: \" + \", \".join(map(lambda v: \"%.4f\"%v, p_at_k)))\n",
    "print(\"gold call dev rec.:\" + \", \".join(map(lambda v: \"%.4f\"%v, r_at_k)))"
   ]
  },
  {
   "cell_type": "code",
   "execution_count": 30,
   "metadata": {
    "collapsed": false
   },
   "outputs": [
    {
     "name": "stdout",
     "output_type": "stream",
     "text": [
      "pseudo call train prec.: 0.4223, 0.3880, 0.3668, 0.3498, 0.3349, 0.3220, 0.3104, 0.2995, 0.2895, 0.2812\n",
      "pseudo call train rec.:0.1854, 0.3042, 0.3949, 0.4657, 0.5184, 0.5589, 0.5891, 0.6104, 0.6262, 0.6386\n",
      "pseudo call dev prec.: 0.0385, 0.0334, 0.0292, 0.0277, 0.0273, 0.0267, 0.0254, 0.0247, 0.0252, 0.0257\n",
      "pseudo call dev rec.:0.0056, 0.0091, 0.0112, 0.0133, 0.0154, 0.0170, 0.0177, 0.0184, 0.0198, 0.0210\n"
     ]
    },
    {
     "data": {
      "text/plain": [
       "[<matplotlib.axis.XTick at 0x7f8277890990>,\n",
       " <matplotlib.axis.XTick at 0x7f8277890b50>,\n",
       " <matplotlib.axis.XTick at 0x7f82778e1ad0>,\n",
       " <matplotlib.axis.XTick at 0x7f8277967090>,\n",
       " <matplotlib.axis.XTick at 0x7f827f047510>,\n",
       " <matplotlib.axis.XTick at 0x7f827f05c410>,\n",
       " <matplotlib.axis.XTick at 0x7f828c828450>,\n",
       " <matplotlib.axis.XTick at 0x7f826d8f07d0>,\n",
       " <matplotlib.axis.XTick at 0x7f828cecb2d0>,\n",
       " <matplotlib.axis.XTick at 0x7f828c2a0890>]"
      ]
     },
     "execution_count": 30,
     "metadata": {},
     "output_type": "execute_result"
    },
    {
     "data": {
      "image/png": "[encoded data removed]",
      "text/plain": [
       "<matplotlib.figure.Figure at 0x7f828cda2310>"
      ]
     },
     "metadata": {},
     "output_type": "display_data"
    }
   ],
   "source": [
    "# plot precision, recall at i\n",
    "fig = plt.figure(figsize=(16,5))\n",
    "ax_1 = fig.add_subplot(121)\n",
    "p_at_k = [pseudo_mt_eval_dict['train'][i]['precision'] for i in pseudo_mt_eval_dict['train']]\n",
    "r_at_k = [pseudo_mt_eval_dict['train'][i]['recall'] for i in pseudo_mt_eval_dict['train']]\n",
    "print(\"pseudo call train prec.: \" + \", \".join(map(lambda v: \"%.4f\"%v, p_at_k)))\n",
    "print(\"pseudo call train rec.:\" + \", \".join(map(lambda v: \"%.4f\"%v, r_at_k)))\n",
    "plt.plot(p_at_k)\n",
    "plt.plot(r_at_k)\n",
    "ax_2 = fig.add_subplot(122)\n",
    "p_at_k = [pseudo_mt_eval_dict['dev'][i]['precision'] for i in pseudo_mt_eval_dict['dev']]\n",
    "r_at_k = [pseudo_mt_eval_dict['dev'][i]['recall'] for i in pseudo_mt_eval_dict['dev']]\n",
    "print(\"pseudo call dev prec.: \" + \", \".join(map(lambda v: \"%.4f\"%v, p_at_k)))\n",
    "print(\"pseudo call dev rec.:\" + \", \".join(map(lambda v: \"%.4f\"%v, r_at_k)))\n",
    "plt.plot(range(1,len(p_at_k)+1), p_at_k)\n",
    "plt.plot(range(1,len(p_at_k)+1), r_at_k)\n",
    "ax_2.set_xticks(range(1,len(p_at_k)+1))"
   ]
  },
  {
   "cell_type": "code",
   "execution_count": 31,
   "metadata": {
    "collapsed": false
   },
   "outputs": [
    {
     "data": {
      "text/plain": [
       "([0.005594405594405594,\n",
       "  0.00909090909090909,\n",
       "  0.011188811188811189,\n",
       "  0.013286713286713287,\n",
       "  0.015384615384615385,\n",
       "  0.017016317016317017,\n",
       "  0.017715617715617717,\n",
       "  0.018414918414918414,\n",
       "  0.019813519813519812,\n",
       "  0.02097902097902098],\n",
       " [1, 2, 3, 4, 5, 6, 7, 8, 9, 10])"
      ]
     },
     "execution_count": 31,
     "metadata": {},
     "output_type": "execute_result"
    }
   ],
   "source": [
    "r_at_k, range(1,len(r_at_k)+1)"
   ]
  },
  {
   "cell_type": "code",
   "execution_count": 32,
   "metadata": {
    "collapsed": true
   },
   "outputs": [],
   "source": [
    "# # plot precision, recall at i\n",
    "# fig = plt.figure(figsize=(16,5))\n",
    "# fig.add_subplot(121)\n",
    "# p_at_k = [pseudo_mt_500ms_eval_dict['train'][i]['precision'] for i in pseudo_mt_500ms_eval_dict['train']]\n",
    "# r_at_k = [pseudo_mt_500ms_eval_dict['train'][i]['recall'] for i in pseudo_mt_500ms_eval_dict['train']]\n",
    "# plt.plot(p_at_k)\n",
    "# plt.plot(r_at_k)\n",
    "# fig.add_subplot(122)\n",
    "# p_at_k = [pseudo_mt_500ms_eval_dict['dev'][i]['precision'] for i in pseudo_mt_500ms_eval_dict['dev']]\n",
    "# r_at_k = [pseudo_mt_500ms_eval_dict['dev'][i]['recall'] for i in pseudo_mt_500ms_eval_dict['dev']]\n",
    "# plt.plot(p_at_k)\n",
    "# plt.plot(r_at_k)"
   ]
  },
  {
   "cell_type": "code",
   "execution_count": 33,
   "metadata": {
    "collapsed": false
   },
   "outputs": [],
   "source": [
    "# [pseudo_mt_500ms_eval_dict['dev'][i]['recall'] - \\\n",
    "#     pseudo_mt_eval_dict['dev'][i]['recall'] for i in pseudo_mt_500ms_eval_dict['dev']]"
   ]
  },
  {
   "cell_type": "markdown",
   "metadata": {},
   "source": [
    "# Scratch"
   ]
  },
  {
   "cell_type": "code",
   "execution_count": 34,
   "metadata": {
    "collapsed": false
   },
   "outputs": [
    {
     "data": {
      "text/plain": [
       "(17394, 17394)"
      ]
     },
     "execution_count": 34,
     "metadata": {},
     "output_type": "execute_result"
    }
   ],
   "source": [
    "len(mt_gold_pred_dict[1]), len(gold_feats_dict)"
   ]
  },
  {
   "cell_type": "code",
   "execution_count": 35,
   "metadata": {
    "collapsed": false
   },
   "outputs": [
    {
     "data": {
      "text/plain": [
       "True"
      ]
     },
     "execution_count": 35,
     "metadata": {},
     "output_type": "execute_result"
    }
   ],
   "source": [
    "sorted([seg for fid in align_dict for seg in align_dict[fid]]) == sorted(seg for fid in segment_map for seg in segment_map[fid])"
   ]
  },
  {
   "cell_type": "code",
   "execution_count": 36,
   "metadata": {
    "collapsed": false
   },
   "outputs": [
    {
     "name": "stdout",
     "output_type": "stream",
     "text": [
      "485\n",
      "16909\n",
      "17394\n"
     ]
    }
   ],
   "source": [
    "haha = [1 for fid in align_dict for segid in align_dict[fid] if align_dict[fid][segid]['en_cnt'] == []]\n",
    "print(sum(haha))\n",
    "haha = [1 for fid in align_dict for segid in align_dict[fid] if align_dict[fid][segid]['en_cnt'] != []]\n",
    "print(sum(haha))\n",
    "print(485+16909)"
   ]
  },
  {
   "cell_type": "code",
   "execution_count": 37,
   "metadata": {
    "collapsed": false
   },
   "outputs": [],
   "source": [
    "# pseudo_probs_dict['1869']"
   ]
  },
  {
   "cell_type": "markdown",
   "metadata": {},
   "source": [
    "# Evaluate"
   ]
  },
  {
   "cell_type": "code",
   "execution_count": null,
   "metadata": {
    "collapsed": true
   },
   "outputs": [],
   "source": []
  },
  {
   "cell_type": "markdown",
   "metadata": {},
   "source": [
    "# Search speech\n",
    "\n",
    "- Take english words as a list, output speech utterances containing that English word\n",
    "- Calculate precision recall for retrieved documents"
   ]
  },
  {
   "cell_type": "code",
   "execution_count": 38,
   "metadata": {
    "collapsed": false
   },
   "outputs": [
    {
     "data": {
      "text/plain": [
       "u'../../../ZRTools/exp/callhome/matches/config0.88-0.90-0.80-50/mt_corpus_train_pseudo.bi'"
      ]
     },
     "execution_count": 38,
     "metadata": {},
     "output_type": "execute_result"
    }
   ],
   "source": [
    "pseudo_corpus_fname"
   ]
  },
  {
   "cell_type": "markdown",
   "metadata": {},
   "source": [
    "## Corpus duration"
   ]
  },
  {
   "cell_type": "code",
   "execution_count": 39,
   "metadata": {
    "collapsed": false
   },
   "outputs": [
    {
     "name": "stdout",
     "output_type": "stream",
     "text": [
      " 8055  8055 64440 ../files-train-calls-63-120-10.txt\n",
      " 911  911 7288 ../files-dev-calls-63-120-10.txt\n"
     ]
    }
   ],
   "source": [
    "!wc $train_segment_list_fname\n",
    "!wc $dev_segment_list_fname"
   ]
  },
  {
   "cell_type": "code",
   "execution_count": 40,
   "metadata": {
    "collapsed": false
   },
   "outputs": [
    {
     "name": "stdout",
     "output_type": "stream",
     "text": [
      "dev\n",
      "096.062\n",
      "096.063\n",
      "120.013\n",
      "120.012\n",
      "\n",
      "train\n",
      "081.170\n",
      "081.171\n",
      "101.049\n",
      "101.048\n"
     ]
    }
   ],
   "source": [
    "print(\"dev\")\n",
    "!head $dev_segment_list_fname -n 2\n",
    "!tail $dev_segment_list_fname -n 2\n",
    "print(\"\\ntrain\")\n",
    "!head $train_segment_list_fname -n 2\n",
    "!tail $train_segment_list_fname -n 2"
   ]
  },
  {
   "cell_type": "markdown",
   "metadata": {},
   "source": []
  }
 ],
 "metadata": {
  "kernelspec": {
   "display_name": "Python 2",
   "language": "python",
   "name": "python2"
  },
  "language_info": {
   "codemirror_mode": {
    "name": "ipython",
    "version": 2
   },
   "file_extension": ".py",
   "mimetype": "text/x-python",
   "name": "python",
   "nbconvert_exporter": "python",
   "pygments_lexer": "ipython2",
   "version": "2.7.12"
  }
 },
 "nbformat": 4,
 "nbformat_minor": 0
}
