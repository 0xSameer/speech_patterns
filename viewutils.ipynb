{
 "cells": [
  {
   "cell_type": "code",
   "execution_count": null,
   "metadata": {
    "collapsed": true
   },
   "outputs": [],
   "source": [
    "# -*- coding: utf-8 -*-"
   ]
  },
  {
   "cell_type": "code",
   "execution_count": 73,
   "metadata": {
    "collapsed": false
   },
   "outputs": [],
   "source": [
    "from __future__ import print_function\n",
    "from __future__ import division\n",
    "from prettytable import PrettyTable\n",
    "import textwrap\n",
    "# from tabulate import tabulate\n",
    "import numpy as np\n",
    "import pandas as pd\n",
    "import matplotlib.pyplot as plt\n",
    "import seaborn as sns\n",
    "import json\n",
    "import os\n",
    "import sys\n",
    "import string\n",
    "import subprocess\n",
    "import cPickle\n",
    "import editdistance\n",
    "import nltk\n",
    "import time\n",
    "import math\n",
    "from collections import Counter\n",
    "import IPython\n",
    "from IPython import display\n",
    "from nltk.corpus import stopwords\n",
    "from collections import defaultdict\n",
    "from timeit import default_timer as timer\n",
    "from matplotlib import rcParams\n",
    "import networkx as nx\n",
    "import dtw\n",
    "import matplotlib.patches as patches\n",
    "import scipy.io.wavfile\n",
    "from python_speech_features import mfcc\n",
    "from IPython.display import display\n",
    "from matplotlib.ticker import MultipleLocator, \\\n",
    "     FormatStrFormatter, AutoMinorLocator\n",
    "%matplotlib inline"
   ]
  },
  {
   "cell_type": "code",
   "execution_count": 67,
   "metadata": {
    "collapsed": true
   },
   "outputs": [],
   "source": [
    "def add_tick_lines(ax, words_list, axis_lim, horizontal=True):\n",
    "    if horizontal:\n",
    "        rot = 0\n",
    "    else:\n",
    "        rot = 90\n",
    "    tick_lines = []\n",
    "    for tup in words_list:\n",
    "        start_val = tup.start / 100.0\n",
    "        end_val = tup.end / 100.0\n",
    "        text_val = tup.word.decode('utf-8')\n",
    "        if text_val not in ['sil', 'sp']:\n",
    "            ax.text((start_val + end_val)/2, \\\n",
    "                    axis_lim[1]+200, text_val, size=12, ha=\"center\", va=\"center\",\\\n",
    "                   rotation=rot)\n",
    "        left, width = start_val, (end_val-start_val)\n",
    "        bottom, height = axis_lim[1], 400\n",
    "        right = left + width\n",
    "        top = bottom + height\n",
    "        # axes coordinates are 0,0 is bottom left and 1,1 is upper right\n",
    "        p = patches.Rectangle((left, bottom), width, height,\n",
    "            fill=False, clip_on=False)\n",
    "        ax.add_patch(p)\n",
    "        tick_lines.append(end_val)\n",
    "    return ax, tick_lines\n",
    "    "
   ]
  },
  {
   "cell_type": "code",
   "execution_count": 66,
   "metadata": {
    "collapsed": false
   },
   "outputs": [],
   "source": [
    "def plot_specgram_words(wav_fname, words_list):\n",
    "    if not os.path.exists(wav_fname):\n",
    "        print(\"wav file not found ...\")\n",
    "\n",
    "    fig = plt.figure()\n",
    "    fig.set_size_inches(20, 3)\n",
    "    ax = fig.add_subplot(111)\n",
    "    sr, wav_data = scipy.io.wavfile.read(wav_fname)\n",
    "    _ = plt.specgram(wav_data, Fs=sr, cmap=plt.cm.gist_heat)\n",
    "\n",
    "    the_y_lim = ax.get_ylim()\n",
    "    ax.grid(False)\n",
    "    x_tick_lines = []\n",
    "    ax, x_tick_lines = add_tick_lines(ax, words_list, the_y_lim, horizontal=True)\n",
    "    ax.set_xticks(x_tick_lines, minor=True)\n",
    "    ax.xaxis.grid(True, which=\"minor\")\n",
    "    for label in ax.get_yticklabels()[::2]:\n",
    "        label.set_visible(False)\n",
    "    ax.get_yticklabels()[-1].set_visible(True)\n"
   ]
  },
  {
   "cell_type": "code",
   "execution_count": 76,
   "metadata": {
    "collapsed": false
   },
   "outputs": [],
   "source": [
    "def plot_dtw(wav_1, wav_2):\n",
    "    # Read wav data into numpy arrays\n",
    "    sr1, y1 = scipy.io.wavfile.read(wav_1)\n",
    "    mfcc1 = mfcc(y1, sr1)\n",
    "    sr2, y2 = scipy.io.wavfile.read(wav_2)\n",
    "    mfcc2 = mfcc(y2, sr2)\n",
    "    print(mfcc1.shape, mfcc2.shape)\n",
    "    wav_1_data = mfcc1\n",
    "    wav_2_data = mfcc2\n",
    "    \n",
    "#     wav_1_data = np.fromfile(wav_1, dtype=np.float32)\n",
    "#     wav_1_data = wav_1_data.reshape((-1,39))\n",
    "#     wav_2_data = np.fromfile(wav_2, dtype=np.float32)\n",
    "#     wav_2_data = wav_2_data.reshape((-1,39))\n",
    "    \n",
    "    # Compute dtw\n",
    "    dist, cost, acc, path = dtw.dtw(wav_1_data, wav_2_data, \\\n",
    "                                    dist=lambda x, y: np.linalg.norm(x-y, ord=1))\n",
    "    \n",
    "    print(\"DTW distance: %f\" %(dist))\n",
    "    fig = plt.figure()\n",
    "    fig.set_size_inches(20, 10)\n",
    "\n",
    "    ax_0 = plt.subplot2grid((1,1),(0, 0))\n",
    "    with sns.axes_style(\"white\"):\n",
    "        ax_0 = sns.heatmap(cost, cbar=False, xticklabels=100, yticklabels=100, ax=ax_0)\n",
    "    ax_0.xaxis.tick_top()\n",
    "    print(wav_1_data.shape, wav_2_data.shape)\n",
    "    #return acc, cost"
   ]
  },
  {
   "cell_type": "code",
   "execution_count": 68,
   "metadata": {
    "collapsed": true
   },
   "outputs": [],
   "source": [
    "def local_dtw(A, B):\n",
    "    dist, cost, acc, path = dtw.dtw(A, B, dist=lambda x, y: np.linalg.norm(x-y, ord=1))\n",
    "    print(\"DTW distance: %f\" %(dist))\n",
    "    plt.figure(1)\n",
    "    fig = matplotlib.pyplot.gcf()\n",
    "    fig.set_size_inches(12, 6)\n",
    "    plt.subplot(121)\n",
    "    meh_dtw.distance_cost_plot(cost)\n",
    "    # Plotting accumulated cost\n",
    "    plt.subplot(122)\n",
    "    meh_dtw.distance_cost_plot(acc)\n",
    "    plt.plot(path[0], path[1])"
   ]
  },
  {
   "cell_type": "code",
   "execution_count": 44,
   "metadata": {
    "collapsed": false
   },
   "outputs": [],
   "source": [
    "# test_wav = u'../../ZRTools/exp/callhome_train_20/matches/config0.80-0.90-0.80-50/wavs/n619.wav'\n",
    "# test_words = [(0.1, .3, \"haha\"), (0.4, .7, \"lolol\")]\n",
    "# plot_specgram_words(test_wav, test_words)"
   ]
  },
  {
   "cell_type": "code",
   "execution_count": 40,
   "metadata": {
    "collapsed": false
   },
   "outputs": [
    {
     "name": "stdout",
     "output_type": "stream",
     "text": [
      "\r\n",
      "Input File     : '../../ZRTools/exp/callhome_train_20/matches/config0.80-0.90-0.80-50/wavs/n619.wav'\r\n",
      "Channels       : 1\r\n",
      "Sample Rate    : 8000\r\n",
      "Precision      : 16-bit\r\n",
      "Duration       : 00:00:00.83 = 6640 samples ~ 62.25 CDDA sectors\r\n",
      "File Size      : 13.3k\r\n",
      "Bit Rate       : 128k\r\n",
      "Sample Encoding: 16-bit Signed Integer PCM\r\n",
      "\r\n"
     ]
    },
    {
     "data": {
      "text/html": [
       "\n",
       "                <audio controls=\"controls\" >\n",
       "                    <source src=\"data:audio/x-wav;base64,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\" type=\"audio/x-wav\" />\n",
       "                    Your browser does not support the audio element.\n",
       "                </audio>\n",
       "              "
      ],
      "text/plain": [
       "<IPython.lib.display.Audio object>"
      ]
     },
     "execution_count": 40,
     "metadata": {},
     "output_type": "execute_result"
    }
   ],
   "source": [
    "# !soxi $test_wav\n",
    "# IPython.display.Audio(test_wav)"
   ]
  },
  {
   "cell_type": "code",
   "execution_count": null,
   "metadata": {
    "collapsed": true
   },
   "outputs": [],
   "source": []
  }
 ],
 "metadata": {
  "kernelspec": {
   "display_name": "Python 2",
   "language": "python",
   "name": "python2"
  },
  "language_info": {
   "codemirror_mode": {
    "name": "ipython",
    "version": 2
   },
   "file_extension": ".py",
   "mimetype": "text/x-python",
   "name": "python",
   "nbconvert_exporter": "python",
   "pygments_lexer": "ipython2",
   "version": "2.7.12"
  }
 },
 "nbformat": 4,
 "nbformat_minor": 0
}
