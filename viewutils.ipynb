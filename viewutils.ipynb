{
 "cells": [
  {
   "cell_type": "code",
   "execution_count": null,
   "metadata": {
    "collapsed": true
   },
   "outputs": [],
   "source": [
    "# -*- coding: utf-8 -*-"
   ]
  },
  {
   "cell_type": "code",
   "execution_count": 73,
   "metadata": {
    "collapsed": false
   },
   "outputs": [],
   "source": [
    "from __future__ import print_function\n",
    "from __future__ import division\n",
    "from prettytable import PrettyTable\n",
    "import textwrap\n",
    "# from tabulate import tabulate\n",
    "import numpy as np\n",
    "import pandas as pd\n",
    "import matplotlib.pyplot as plt\n",
    "import seaborn as sns\n",
    "import json\n",
    "import os\n",
    "import sys\n",
    "import string\n",
    "import subprocess\n",
    "import cPickle\n",
    "import editdistance\n",
    "import nltk\n",
    "import time\n",
    "import math\n",
    "from collections import Counter\n",
    "import IPython\n",
    "from IPython import display\n",
    "from nltk.corpus import stopwords\n",
    "from collections import defaultdict\n",
    "from timeit import default_timer as timer\n",
    "from matplotlib import rcParams\n",
    "import networkx as nx\n",
    "import dtw\n",
    "import matplotlib.patches as patches\n",
    "import scipy.io.wavfile\n",
    "from python_speech_features import mfcc\n",
    "from IPython.display import display\n",
    "from matplotlib.ticker import MultipleLocator, \\\n",
    "     FormatStrFormatter, AutoMinorLocator\n",
    "%matplotlib inline"
   ]
  },
  {
   "cell_type": "code",
   "execution_count": 3,
   "metadata": {
    "collapsed": false
   },
   "outputs": [],
   "source": [
    "tableau20 = [(31, 119, 180), (174, 199, 232), (255, 127, 14), (255, 187, 120),    \n",
    "             (44, 160, 44), (152, 223, 138), (214, 39, 40), (255, 152, 150),    \n",
    "             (148, 103, 189), (197, 176, 213), (140, 86, 75), (196, 156, 148),    \n",
    "             (227, 119, 194), (247, 182, 210), (127, 127, 127), (199, 199, 199),    \n",
    "             (188, 189, 34), (219, 219, 141), (23, 190, 207), (158, 218, 229)]    \n",
    "# Scale the RGB values to the [0, 1] range, which is the format matplotlib accepts.    \n",
    "for i in range(len(tableau20)):    \n",
    "    r, g, b = tableau20[i]    \n",
    "    tableau20[i] = (r / 255., g / 255., b / 255.)"
   ]
  },
  {
   "cell_type": "code",
   "execution_count": 9,
   "metadata": {
    "collapsed": true
   },
   "outputs": [],
   "source": [
    "def add_tick_lines(ax, words_list, axis_lim, horizontal=True, scale=100.0):\n",
    "    if horizontal:\n",
    "        rot = 0\n",
    "    else:\n",
    "        rot = 90\n",
    "    tick_lines = []\n",
    "    for tup in words_list:\n",
    "        start_val = tup.start / scale\n",
    "        end_val = tup.end / scale\n",
    "        text_val = tup.word.decode('utf-8')\n",
    "        if text_val not in ['sil', 'sp']:\n",
    "            if horizontal:\n",
    "                x_text = (start_val + end_val)/2\n",
    "                y_text = axis_lim[1]+(4*scale)\n",
    "                pass\n",
    "            else:\n",
    "                #x_text = axis_lim[0]-(4*scale)\n",
    "                x_text = -(4*scale)\n",
    "                y_text = axis_lim[1]-(start_val + end_val)/2\n",
    "                pass\n",
    "            ax.text(x_text, y_text, text_val, size=16, ha=\"center\", va=\"center\",\\\n",
    "                   rotation=rot)\n",
    "        left, width = start_val, (end_val-start_val)\n",
    "        bottom, height = axis_lim[1], (4*scale)\n",
    "        right = left + width\n",
    "        top = bottom + height\n",
    "        # axes coordinates are 0,0 is bottom left and 1,1 is upper right\n",
    "        p = patches.Rectangle((left, bottom), width, height,\n",
    "            fill=False, clip_on=False)\n",
    "        #ax.add_patch(p)\n",
    "        tick_lines.append(end_val)\n",
    "    return ax, tick_lines\n",
    "    "
   ]
  },
  {
   "cell_type": "code",
   "execution_count": 1,
   "metadata": {
    "collapsed": false
   },
   "outputs": [],
   "source": [
    "def plot_specgram_words(wav_fname, words_list, plot_name):\n",
    "    if not os.path.exists(wav_fname):\n",
    "        print(\"wav file not found ...\")\n",
    "\n",
    "    fig = plt.figure()\n",
    "    fig.set_size_inches(20, 3)\n",
    "    ax = fig.add_subplot(111)\n",
    "    sr, wav_data = scipy.io.wavfile.read(wav_fname)\n",
    "    _ = plt.specgram(wav_data, Fs=sr, cmap=plt.cm.gist_heat)\n",
    "\n",
    "    the_y_lim = ax.get_ylim()\n",
    "    ax.grid(False)\n",
    "    x_tick_lines = []\n",
    "    ax, x_tick_lines = add_tick_lines(ax, words_list, the_y_lim, horizontal=True)\n",
    "    ax.set_xticks(x_tick_lines, minor=True)\n",
    "    ax.xaxis.grid(True, which=\"minor\")\n",
    "    for label in ax.get_yticklabels()[::2]:\n",
    "        label.set_visible(False)\n",
    "    ax.get_yticklabels()[-1].set_visible(True)\n",
    "    if plot_name:\n",
    "        fig.savefig(plot_name,format='pdf')\n",
    "        fig.savefig(plot_name.replace(\"pdf\",\"png\"),format='png')\n"
   ]
  },
  {
   "cell_type": "code",
   "execution_count": 2,
   "metadata": {
    "collapsed": false
   },
   "outputs": [],
   "source": [
    "def plot_dtw(wav_1, wav_2, es_words_1, es_words_2, plot_name):\n",
    "    # Read wav data into numpy arrays\n",
    "    sr1, y1 = scipy.io.wavfile.read(wav_1)\n",
    "    mfcc1 = mfcc(y1, sr1)\n",
    "    sr2, y2 = scipy.io.wavfile.read(wav_2)\n",
    "    mfcc2 = mfcc(y2, sr2)\n",
    "    #print(mfcc1.shape, mfcc2.shape)\n",
    "    wav_1_data = mfcc1\n",
    "    wav_2_data = mfcc2\n",
    "    \n",
    "    # Compute dtw\n",
    "    dist, cost, acc, path = dtw.dtw(wav_1_data, wav_2_data, \\\n",
    "                                    dist=lambda x, y: np.linalg.norm(x-y, ord=1))\n",
    "    \n",
    "    print(\"DTW distance: %f\" %(dist))\n",
    "    fig = plt.figure()\n",
    "    fig.set_size_inches(20, 16)\n",
    "\n",
    "    ax_0 = plt.subplot2grid((1,1),(0, 0))\n",
    "    #ax_1 = plt.subplot2grid((2,1),(1, 0))\n",
    "    \n",
    "    #cmap = sns.diverging_palette(220, 10, as_cmap=True)\n",
    "    #cmap = sns.light_palette((210, 90, 60), input=\"husl\", as_cmap=True)\n",
    "    #cmap = sns.cubehelix_palette(start=2.8, rot=.1,dark=0, light=1,as_cmap=True)\n",
    "    #cmap = sns.cubehelix_palette(rot=0.3,as_cmap=True)\n",
    "    #cmap = sns.dark_palette(\"purple\", as_cmap=True)\n",
    "    cmap = sns.light_palette((200, 75, 60), input=\"husl\", as_cmap=True)\n",
    "    \n",
    "\n",
    "    ax_0 = sns.heatmap(cost, cbar=False, \\\n",
    "                       xticklabels=False, yticklabels=False, ax=ax_0, cmap=cmap)\n",
    "    ax_0.xaxis.tick_top()\n",
    "    #ax_0.invert_yaxis()\n",
    "    the_x_lim, the_y_lim = ax_0.get_xlim(), ax_0.get_ylim()\n",
    "    ax_0.grid(False)\n",
    "    x_tick_lines, y_tick_lines = [], []\n",
    "    ax_0, x_tick_lines = add_tick_lines(ax_0, es_words_2, the_y_lim, horizontal=True, scale=1.0)\n",
    "    ax_0, y_tick_lines = add_tick_lines(ax_0, es_words_1, the_y_lim, horizontal=False, scale=1.0)\n",
    "    \n",
    "    ax_0.axvline(x_tick_lines[-5], c=\"k\", linewidth=3, linestyle='--')   \n",
    "    ax_0.axhline(y_tick_lines[-1]-y_tick_lines[-5], c='k', linewidth=3, linestyle='--')\n",
    "    #print(x_tick_lines)\n",
    "    #print(y_tick_lines)\n",
    "    \n",
    "    #print(wav_1_data.shape, wav_2_data.shape)\n",
    "    #return acc, cost\n",
    "    fig.savefig(plot_name, format=\"pdf\")\n",
    "    fig.savefig(plot_name.replace(\"pdf\",\"png\"),format='png')"
   ]
  },
  {
   "cell_type": "code",
   "execution_count": 4,
   "metadata": {
    "collapsed": true
   },
   "outputs": [],
   "source": [
    "def plot_hist_dtw(df):\n",
    "    dtw_vals = df['ZRT']\n",
    "    good_vals = df['ZRT'][df['ES cont match'] > 0]\n",
    "    fig = plt.figure()\n",
    "    fig.set_size_inches(18.5, 10.5)\n",
    "    ax_dtw_thresh = fig.add_subplot(111)\n",
    "    ax_dtw_thresh.set_xlabel(\"DTW score\", fontsize=20)\n",
    "    ax_dtw_thresh.set_title(\"DTW score histogram\", fontsize=30)\n",
    "    majorLocator = MultipleLocator(.01)\n",
    "    minorLocator = MultipleLocator(10)\n",
    "    ax_dtw_thresh.xaxis.set_major_locator(majorLocator)\n",
    "    ax_dtw_thresh.xaxis.set_minor_locator(minorLocator)\n",
    "    binwidth = 0.01\n",
    "    max_hist_val = min(max(dtw_vals), 1.0)\n",
    "        \n",
    "        \n",
    "    hist_plot = ax_dtw_thresh.hist(dtw_vals, \\\n",
    "                            bins=np.arange(min(dtw_vals), max_hist_val + binwidth, binwidth),\\\n",
    "                           alpha=0.5, color=tableau20[1], label=\"total pairs discovered\")\n",
    "    hist_plot_complete = ax_dtw_thresh.hist(good_vals, \\\n",
    "                        bins=np.arange(min(dtw_vals), max_hist_val + binwidth, binwidth),\\\n",
    "                        alpha=0.5, color=tableau20[0], label=\"pairs with content es word(s)\")\n",
    "    plt.tick_params(which='both', labelsize=16)\n",
    "    ax_dtw_thresh.legend(prop={'size': 20})\n",
    "    pass"
   ]
  },
  {
   "cell_type": "code",
   "execution_count": null,
   "metadata": {
    "collapsed": true
   },
   "outputs": [],
   "source": []
  }
 ],
 "metadata": {
  "kernelspec": {
   "display_name": "Python 2",
   "language": "python",
   "name": "python2"
  },
  "language_info": {
   "codemirror_mode": {
    "name": "ipython",
    "version": 2
   },
   "file_extension": ".py",
   "mimetype": "text/x-python",
   "name": "python",
   "nbconvert_exporter": "python",
   "pygments_lexer": "ipython2",
   "version": "2.7.12"
  }
 },
 "nbformat": 4,
 "nbformat_minor": 0
}
