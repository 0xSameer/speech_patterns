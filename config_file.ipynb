{
 "cells": [
  {
   "cell_type": "code",
   "execution_count": 1,
   "metadata": {
    "collapsed": true
   },
   "outputs": [],
   "source": [
    "import json\n",
    "import os\n",
    "import cPickle"
   ]
  },
  {
   "cell_type": "code",
   "execution_count": 2,
   "metadata": {
    "collapsed": true
   },
   "outputs": [],
   "source": [
    "config = {}"
   ]
  },
  {
   "cell_type": "code",
   "execution_count": 3,
   "metadata": {
    "collapsed": false
   },
   "outputs": [],
   "source": [
    "config[\"base\"] = {}\n",
    "root_folder = \"../../\"\n",
    "root_zrt = os.path.join(root_folder, \"ZRTools\")\n",
    "root_eval = os.path.join(root_folder, \"fisher-callhome-corpus\")\n",
    "root_align = os.path.join(root_eval, \"alignment\")\n",
    "# config[\"base\"][\"sph2pipe\"] = os.path.join(root_zrt, \"bins\", \"sph2pipe\")\n",
    "# config[\"base\"][\"sox\"] = os.path.join(root_folder, \"sox-14.4.2/sox\")\n",
    "# config[\"base\"][\"feacalc\"] = os.path.join(root_zrt, \"bins\", \"feacalc\")\n",
    "config[\"base\"][\"sox\"] = \"sox\"\n",
    "config[\"base\"][\"sph2pipe\"] = os.path.join(root_folder, \"installs\", \"wav\", \"sph2pipe_v2.5\", \"sph2pipe\")\n",
    "config[\"base\"][\"feacalc\"] = os.path.join(root_folder, \"installs\", \"wav\", \\\n",
    "                                         \"icsi-scenic-tools-20120105\", \\\n",
    "                                         \"feacalc-0.92\", \"feacalc\")\n",
    "config[\"base\"][\"zrt\"] = root_zrt\n",
    "config[\"base\"][\"lsh_genproj\"] = os.path.join(root_zrt,\"plebdisc\",\"genproj\")\n",
    "config[\"base\"][\"standfeat\"] = os.path.join(root_zrt,\"plebdisc\",\"standfeat\")\n",
    "config[\"base\"][\"lsh\"] = os.path.join(root_zrt,\"plebdisc\",\"lsh\")"
   ]
  },
  {
   "cell_type": "code",
   "execution_count": 13,
   "metadata": {
    "collapsed": false
   },
   "outputs": [],
   "source": [
    "config[\"es\"] = {}\n",
    "config[\"es\"][\"data_path\"] = \\\n",
    "            os.path.join(root_folder, \"corpora\", \"callhome_es\")\n",
    "config[\"es\"][\"out_path\"] = \\\n",
    "            os.path.join(config[\"es\"][\"data_path\"], \"out\")\n",
    "config[\"es\"][\"doc_path\"] = \\\n",
    "            os.path.join(config[\"es\"][\"data_path\"], \"doc\")\n",
    "    \n",
    "config[\"es\"][\"spkrinfo\"] = os.path.join(config[\"es\"][\"doc_path\"], \"spkrinfo.tbl\")\n",
    "config[\"es\"][\"callinfo\"] = os.path.join(config[\"es\"][\"doc_path\"], \"callinfo.tbl\")\n",
    "\n",
    "# exp_name = \"callhome_train_20_evad\"\n",
    "exp_name = \"callhome_train_50_evad\"\n",
    "# exp_name = \"callhome_train_20\"\n",
    "# exp_name = \"callhome_train_50\"\n",
    "\n",
    "\n",
    "# curr_exp = \"config0.87-0.97-0.80-50\"\n",
    "# curr_exp = \"config0.80-0.80-0.80-50\"\n",
    "# curr_exp = \"config0.80-0.97-0.80-50\"\n",
    "curr_exp = \"config0.80-0.90-0.80-50\"\n",
    "# curr_exp = \"config0.70-0.97-0.80-50\"\n",
    "\n",
    "config[\"es\"][\"exp_path\"] = \\\n",
    "            os.path.join(config[\"es\"][\"data_path\"], \"exp\", exp_name)\n",
    "config[\"es\"][\"lst_file\"] = os.path.join(config[\"es\"][\"out_path\"], exp_name+\".lst\")\n",
    "config[\"es\"][\"align_path\"] = root_align\n",
    "config[\"es\"][\"filename_map\"] = \\\n",
    "            os.path.join(root_align, \"filemap.txt\")\n",
    "config[\"es\"][\"es_word_path\"] = \\\n",
    "            os.path.join(root_align, \"wav2es-word\")\n",
    "config[\"es\"][\"es_phone_path\"] = \\\n",
    "            os.path.join(root_align, \"wav2es-phone\")\n",
    "config[\"es\"][\"en_word_path\"] = \\\n",
    "            os.path.join(root_align, \"wav2en-word\")\n",
    "\n",
    "trans_map_file = \"callhome_tr_dev_evl\"\n",
    "trans_file = \"callhome_tr_dev_evl.en\"\n",
    "\n",
    "config[\"es\"][\"trans_map\"] = \\\n",
    "    os.path.join(root_eval, \"mapping\", trans_map_file)\n",
    "config[\"es\"][\"trans_file\"] = \\\n",
    "    os.path.join(root_eval, \"corpus\", \"ldc\", trans_file)\n",
    "    \n",
    "config[\"es\"][\"dicts_path\"] = os.path.join(config[\"es\"][\"out_path\"], \"dicts\")\n",
    "config[\"es\"][\"dict_names\"] = {\"file_info\": \"file_info.dict\", \\\n",
    "                              \"en_words\": \"en_words.dict\", \\\n",
    "                              \"es_words\":\"es_words.dict\", \\\n",
    "                              \"es_phones\":\"es_phones.dict\"}\n",
    "\n",
    "config[\"es\"][\"zrt_out_path\"] = os.path.join(root_zrt, \"exp\", exp_name, \"matches\", curr_exp)"
   ]
  },
  {
   "cell_type": "code",
   "execution_count": 14,
   "metadata": {
    "collapsed": false
   },
   "outputs": [],
   "source": [
    "with open(\"config.json\", \"w\") as json_file:\n",
    "    json.dump(config, json_file)"
   ]
  },
  {
   "cell_type": "code",
   "execution_count": null,
   "metadata": {
    "collapsed": false
   },
   "outputs": [],
   "source": []
  },
  {
   "cell_type": "code",
   "execution_count": null,
   "metadata": {
    "collapsed": true
   },
   "outputs": [],
   "source": []
  },
  {
   "cell_type": "code",
   "execution_count": null,
   "metadata": {
    "collapsed": true
   },
   "outputs": [],
   "source": []
  }
 ],
 "metadata": {
  "kernelspec": {
   "display_name": "Python 2",
   "language": "python",
   "name": "python2"
  },
  "language_info": {
   "codemirror_mode": {
    "name": "ipython",
    "version": 2
   },
   "file_extension": ".py",
   "mimetype": "text/x-python",
   "name": "python",
   "nbconvert_exporter": "python",
   "pygments_lexer": "ipython2",
   "version": "2.7.12"
  }
 },
 "nbformat": 4,
 "nbformat_minor": 0
}
