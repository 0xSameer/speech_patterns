{
 "cells": [
  {
   "cell_type": "code",
   "execution_count": 34,
   "metadata": {
    "collapsed": true
   },
   "outputs": [],
   "source": [
    "import json\n",
    "import os\n",
    "import cPickle"
   ]
  },
  {
   "cell_type": "code",
   "execution_count": 35,
   "metadata": {
    "collapsed": true
   },
   "outputs": [],
   "source": [
    "config = {}"
   ]
  },
  {
   "cell_type": "code",
   "execution_count": 50,
   "metadata": {
    "collapsed": false
   },
   "outputs": [],
   "source": [
    "config[\"base\"] = {}\n",
    "root_folder = \"../../../\"\n",
    "root_zrt = os.path.join(root_folder, \"ZRTools\")\n",
    "root_eval = os.path.join(root_folder, \"fisher-callhome-corpus\")\n",
    "root_align = os.path.join(root_eval, \"alignment\")\n",
    "# config[\"base\"][\"sph2pipe\"] = os.path.join(root_zrt, \"bins\", \"sph2pipe\")\n",
    "# config[\"base\"][\"sox\"] = os.path.join(root_folder, \"sox-14.4.2/sox\")\n",
    "# config[\"base\"][\"feacalc\"] = os.path.join(root_zrt, \"bins\", \"feacalc\")\n",
    "\n",
    "config[\"base\"][\"fast_align\"] = os.path.join(root_folder, \"fast_align\", \"build\", \"fast_align\")\n",
    "config[\"base\"][\"sox\"] = \"sox\"\n",
    "config[\"base\"][\"sph2pipe\"] = os.path.join(root_folder, \"installs\", \"wav\", \"sph2pipe_v2.5\", \"sph2pipe\")\n",
    "config[\"base\"][\"feacalc\"] = os.path.join(root_folder, \"installs\", \"wav\", \\\n",
    "                                         \"icsi-scenic-tools-20120105\", \\\n",
    "                                         \"feacalc-0.92\", \"feacalc\")\n",
    "config[\"base\"][\"zrt\"] = root_zrt\n",
    "config[\"base\"][\"lsh_genproj\"] = os.path.join(root_zrt,\"plebdisc\",\"genproj\")\n",
    "config[\"base\"][\"standfeat\"] = os.path.join(root_zrt,\"plebdisc\",\"standfeat\")\n",
    "config[\"base\"][\"lsh\"] = os.path.join(root_zrt,\"plebdisc\",\"lsh\")\n"
   ]
  },
  {
   "cell_type": "code",
   "execution_count": 51,
   "metadata": {
    "collapsed": false
   },
   "outputs": [],
   "source": [
    "config[\"es\"] = {}\n",
    "config[\"es\"][\"data_path\"] = \\\n",
    "            os.path.join(root_folder, \"corpora\", \"callhome\")\n",
    "config[\"es\"][\"out_path\"] = \\\n",
    "            os.path.join(config[\"es\"][\"data_path\"], \"out\")\n",
    "config[\"es\"][\"doc_path\"] = \\\n",
    "            os.path.join(config[\"es\"][\"data_path\"], \"doc\")\n",
    "    \n",
    "config[\"es\"][\"spkrinfo\"] = os.path.join(config[\"es\"][\"doc_path\"], \"spkrinfo.tbl\")\n",
    "config[\"es\"][\"callinfo\"] = os.path.join(config[\"es\"][\"doc_path\"], \"callinfo.tbl\")\n",
    "\n",
    "# exp_name = \"callhome_train_20_pyvad\"\n",
    "# exp_name = \"callhome_train_20_evad\"\n",
    "# exp_name = \"callhome_train_50_evad\"\n",
    "# exp_name = \"callhome_train_20\"\n",
    "# exp_name = \"callhome_train_50\"\n",
    "# exp_name = \"callhome_train_120\"\n",
    "\n",
    "exp_name = \"callhome\"\n",
    "\n",
    "# curr_exp = \"config0.87-0.97-0.80-50\"\n",
    "# curr_exp = \"config0.87-0.90-0.80-50\"\n",
    "# curr_exp = \"config0.80-0.80-0.80-50\"\n",
    "# curr_exp = \"config0.80-0.97-0.80-50\"\n",
    "# curr_exp = \"config0.80-0.90-0.80-50\"\n",
    "# curr_exp = \"config0.80-0.80-0.80-50\"\n",
    "# curr_exp = \"config0.70-0.97-0.80-50\"\n",
    "# curr_exp = \"config0.80-0.90-0.80-40\"\n",
    "# curr_exp = \"config0.87-0.90-0.80-40\"\n",
    "# curr_exp = \"config0.80-0.90-0.80-45\"\n",
    "curr_exp = \"config0.87-0.90-0.80-45\"\n",
    "\n",
    "\n",
    "config[\"es\"][\"start_spkr\"] = 41\n",
    "config[\"es\"][\"num_spkr\"] = (120-config[\"es\"][\"start_spkr\"]+1)\n",
    "\n",
    "config[\"es\"][\"exp_path\"] = \\\n",
    "            os.path.join(config[\"es\"][\"data_path\"], \"exp\", exp_name)\n",
    "config[\"es\"][\"lst_file\"] = os.path.join(root_zrt, \"exp\", exp_name, \"files.lst\")\n",
    "config[\"es\"][\"align_path\"] = root_align\n",
    "config[\"es\"][\"filename_map\"] = \\\n",
    "            os.path.join(root_align, \"filemap.txt\")\n",
    "config[\"es\"][\"es_word_path\"] = \\\n",
    "            os.path.join(root_align, \"wav2es-word\")\n",
    "config[\"es\"][\"es_phone_path\"] = \\\n",
    "            os.path.join(root_align, \"wav2es-phone\")\n",
    "config[\"es\"][\"en_word_path\"] = \\\n",
    "            os.path.join(root_align, \"wav2en-word\")\n",
    "\n",
    "trans_map_file = \"callhome_tr_dev_evl\"\n",
    "trans_file = \"callhome_tr_dev_evl.en\"\n",
    "\n",
    "config[\"es\"][\"trans_map\"] = \\\n",
    "    os.path.join(root_eval, \"mapping\", trans_map_file)\n",
    "config[\"es\"][\"trans_file\"] = \\\n",
    "    os.path.join(root_eval, \"corpus\", \"ldc\", trans_file)\n",
    "    \n",
    "config[\"es\"][\"dicts_path\"] = os.path.join(config[\"es\"][\"out_path\"], \"dicts\")\n",
    "config[\"es\"][\"dict_names\"] = {\"file_info\": \"file_info.dict\", \\\n",
    "                              \"en_words\": \"en_words.dict\", \\\n",
    "                              \"es_words\":\"es_words.dict\", \\\n",
    "                              \"es_phones\":\"es_phones.dict\"}\n",
    "\n",
    "config[\"es\"][\"zrt_out_path\"] = os.path.join(root_zrt, \"exp\", exp_name, \"matches\", curr_exp)"
   ]
  },
  {
   "cell_type": "code",
   "execution_count": 54,
   "metadata": {
    "collapsed": false
   },
   "outputs": [],
   "source": [
    "config['es']['nodes_fname'] = os.path.join(config[\"es\"][\"zrt_out_path\"], \"master_graph.nodes\")\n",
    "config['es']['seg_nodes_fname'] = os.path.join(config[\"es\"][\"zrt_out_path\"], \"master_graph.segnodes\")\n",
    "config['es']['nodes_dict_fname'] = os.path.join(config[\"es\"][\"zrt_out_path\"], \"nodes_dict.p\")\n",
    "\n",
    "config['es']['edges_utd_fname'] = os.path.join(config[\"es\"][\"zrt_out_path\"], \"master_graph.edges\")\n",
    "config['es']['edges_olap_fname'] = os.path.join(config[\"es\"][\"zrt_out_path\"], \"master_graph.olapedges\")\n",
    "config['es']['edges_all_fname'] = os.path.join(config[\"es\"][\"zrt_out_path\"], \"master_graph.zedges\")\n",
    "# vedges - valid edges, olap edges are merged with utd discovered edges, and redundant\n",
    "# edges are removed\n",
    "config['es']['edges_score_fname'] = os.path.join(config[\"es\"][\"zrt_out_path\"], \"master_graph.vedges\")\n",
    "config['es']['score_pairs_fname'] = os.path.join(config[\"es\"][\"zrt_out_path\"], \"score_pairs.p\")\n",
    "config['es']['eval_pairs_fname'] = os.path.join(config[\"es\"][\"zrt_out_path\"], \"eval.p\")\n",
    "\n",
    "config['es']['clusters_utd_fname'] = os.path.join(config[\"es\"][\"zrt_out_path\"], \"master_graph.dedups\")\n",
    "config['es']['clusters_fname'] = os.path.join(config[\"es\"][\"zrt_out_path\"], \"clusters.p\")\n",
    "config['es']['clusters_stats_fname'] = os.path.join(config[\"es\"][\"zrt_out_path\"], \"clusters_stats.dict\")\n",
    "\n",
    "config['es']['feats_fname'] = os.path.join(config[\"es\"][\"zrt_out_path\"], \"pseudowords.feats\")\n",
    "config['es']['feats_dict_fname'] = os.path.join(config[\"es\"][\"zrt_out_path\"], \"pseudowords.dict\")\n",
    "\n",
    "config['es']['es_words_path'] = '../wav2es-words/'\n",
    "config['es']['en_words_path'] = '../wav2eng-words/'\n",
    "config['es']['align_dict_fname'] = '../align_dict.p'\n",
    "config['es']['segment_dict_fname'] = \"../segments.dict\"\n",
    "\n",
    "config['es']['mt_train_files'] = \"../files-train.txt\"\n",
    "config['es']['mt_dev_files'] = \"../files-dev.txt\"\n",
    "\n",
    "config['es']['mt_corpus_train_gold'] = os.path.join(config[\"es\"][\"zrt_out_path\"], \"mt_corpus_train_gold.bi\")\n",
    "config['es']['mt_corpus_train_pseudo'] = os.path.join(config[\"es\"][\"zrt_out_path\"], \"mt_corpus_train_pseudo.bi\")\n",
    "\n",
    "config['es']['mt_corpus_dev_gold'] = os.path.join(config[\"es\"][\"zrt_out_path\"], \"mt_corpus_dev_gold.bi\")\n",
    "config['es']['mt_corpus_dev_pseudo'] = os.path.join(config[\"es\"][\"zrt_out_path\"], \"mt_corpus_dev_pseudo.bi\")\n",
    "\n",
    "config['es']['mt_probs_gold'] = os.path.join(config[\"es\"][\"zrt_out_path\"], \"mt_probs_gold.txt\")\n",
    "config['es']['mt_probs_pseudo'] = os.path.join(config[\"es\"][\"zrt_out_path\"], \"mt_probs_pseudo.txt\")\n",
    "\n",
    "config['es']['mt_probs_dict_gold'] = os.path.join(config[\"es\"][\"zrt_out_path\"], \"mt_probs_dict_gold.p\")\n",
    "config['es']['mt_probs_dict_pseudo'] = os.path.join(config[\"es\"][\"zrt_out_path\"], \"mt_probs_dict_pseudo.p\")\n"
   ]
  },
  {
   "cell_type": "code",
   "execution_count": 55,
   "metadata": {
    "collapsed": false
   },
   "outputs": [],
   "source": [
    "with open(\"config.json\", \"w\") as json_file:\n",
    "    json.dump(config, json_file)"
   ]
  },
  {
   "cell_type": "code",
   "execution_count": null,
   "metadata": {
    "collapsed": false
   },
   "outputs": [],
   "source": []
  },
  {
   "cell_type": "code",
   "execution_count": null,
   "metadata": {
    "collapsed": true
   },
   "outputs": [],
   "source": []
  },
  {
   "cell_type": "code",
   "execution_count": null,
   "metadata": {
    "collapsed": true
   },
   "outputs": [],
   "source": []
  }
 ],
 "metadata": {
  "kernelspec": {
   "display_name": "Python 2",
   "language": "python",
   "name": "python2"
  },
  "language_info": {
   "codemirror_mode": {
    "name": "ipython",
    "version": 2
   },
   "file_extension": ".py",
   "mimetype": "text/x-python",
   "name": "python",
   "nbconvert_exporter": "python",
   "pygments_lexer": "ipython2",
   "version": "2.7.12"
  }
 },
 "nbformat": 4,
 "nbformat_minor": 0
}
