{
 "cells": [
  {
   "cell_type": "code",
   "execution_count": 1,
   "metadata": {
    "collapsed": false
   },
   "outputs": [],
   "source": [
    "import json\n",
    "import os\n",
    "import pickle"
   ]
  },
  {
   "cell_type": "code",
   "execution_count": 2,
   "metadata": {
    "collapsed": true
   },
   "outputs": [],
   "source": [
    "config = {}"
   ]
  },
  {
   "cell_type": "code",
   "execution_count": 3,
   "metadata": {
    "collapsed": false
   },
   "outputs": [],
   "source": [
    "config[\"base\"] = {}\n",
    "root_folder = \"../../../\"\n",
    "lst_file_root = \"../\"\n",
    "\n",
    "root_zrt = os.path.join(root_folder, \"ZRTools\")\n",
    "\n",
    "config[\"base\"][\"fast_align\"] = os.path.join(root_folder, \"fast_align\", \"build\", \"fast_align\")\n",
    "config[\"base\"][\"sox\"] = \"sox\"\n",
    "config[\"base\"][\"sph2pipe\"] = os.path.join(root_folder, \"installs\", \"wav\", \"sph2pipe_v2.5\", \"sph2pipe\")\n",
    "config[\"base\"][\"feacalc\"] = os.path.join(root_folder, \"installs\", \"wav\", \\\n",
    "                                         \"icsi-scenic-tools-20120105\", \\\n",
    "                                         \"feacalc-0.92\", \"feacalc\")\n",
    "config[\"base\"][\"zrt\"] = root_zrt\n",
    "config[\"base\"][\"lsh_genproj\"] = os.path.join(root_zrt,\"plebdisc\",\"genproj\")\n",
    "config[\"base\"][\"standfeat\"] = os.path.join(root_zrt,\"plebdisc\",\"standfeat\")\n",
    "config[\"base\"][\"lsh\"] = os.path.join(root_zrt,\"plebdisc\",\"lsh\")\n",
    "config[\"base\"][\"energy\"] = os.path.join(root_zrt,\"scripts\",\"mark_energy.py\")\n"
   ]
  },
  {
   "cell_type": "code",
   "execution_count": 4,
   "metadata": {
    "collapsed": false
   },
   "outputs": [],
   "source": [
    "config[\"es\"] = {}\n",
    "\n",
    "current_corpora = \"ainu\"\n",
    "\n",
    "config[\"es\"][\"data_path\"] = \\\n",
    "            os.path.join(root_folder, \"corpora\", \"emnlp2017\", current_corpora)\n",
    "\n",
    "config[\"es\"][\"lst_file_path\"] = \\\n",
    "            os.path.join(lst_file_root, \"corpora\", \"emnlp2017\", current_corpora)    \n",
    "    \n",
    "config[\"es\"][\"out_path\"] = \\\n",
    "            os.path.join(config[\"es\"][\"data_path\"], \"out\")\n",
    "\n",
    "config['es']['train'] = {}\n",
    "root_train = os.path.join(config[\"es\"][\"data_path\"], \"train\")\n",
    "config['es']['train']['wavs'] = os.path.join(config[\"es\"][\"data_path\"], \"train-wavs\")\n",
    "config['es']['train']['plp_npy'] = os.path.join(root_train, \"plp-norm\")\n",
    "config['es']['train']['vad_path'] = os.path.join(config[\"es\"][\"data_path\"], \"train-evads\")\n",
    "config[\"es\"][\"train\"][\"lst_file_prefix\"] = os.path.join(config[\"es\"][\"lst_file_path\"], \"train\", \"wavs\")\n",
    "\n",
    "config['es']['test'] = {}\n",
    "root_test = os.path.join(config[\"es\"][\"data_path\"], \"stories\")\n",
    "config['es']['test']['wavs'] = os.path.join(config[\"es\"][\"data_path\"], \"test-wavs\")\n",
    "config['es']['test']['plp_binary'] = os.path.join(root_test, \"prots\")\n",
    "config['es']['test']['vad_path'] = os.path.join(config[\"es\"][\"data_path\"], \"test-evads\")\n",
    "config['es']['test']['lsh_path'] = os.path.join(root_test, \"lsh\")\n",
    "config[\"es\"][\"test\"][\"lst_file_prefix\"] = os.path.join(config[\"es\"][\"lst_file_path\"], \"test\", \"wavs\")\n",
    "\n",
    "config['es']['filemap'] = os.path.join(root_train, \"files.txt\")\n",
    "    \n",
    "exp_name = current_corpora\n",
    "\n",
    "curr_exp = \"config0.87-0.90-0.80-40\"\n",
    "\n",
    "config[\"es\"][\"exp_name\"] = exp_name\n",
    "\n",
    "config[\"es\"][\"exp_path\"] = os.path.join(root_zrt, \"exp\", exp_name)\n",
    "    \n",
    "# common folders\n",
    "config['es']['lsh_path'] = os.path.join(config[\"es\"][\"exp_path\"], \"lsh\")\n",
    "config['es']['plp_binary'] = os.path.join(config[\"es\"][\"exp_path\"], \"feats\")\n",
    "\n",
    "config[\"es\"][\"lst_file\"] = os.path.join(root_zrt, \"exp\", exp_name, \"files.lst\")\n",
    "config[\"es\"][\"lst_file_base\"] = os.path.join(root_zrt, \"exp\", exp_name, \"files.base\")\n",
    "config[\"es\"][\"lst_file_prefix\"] = os.path.join(\"../corpora\", )\n",
    "\n",
    "trans_file = \"translations.content.txt\"\n",
    "\n",
    "config[\"es\"][\"trans_file\"] = \\\n",
    "    os.path.join(config[\"es\"][\"data_path\"], \"train\", trans_file)\n",
    "    \n",
    "config[\"es\"][\"en_words\"] = os.path.join(config[\"es\"][\"out_path\"], \"en_words.dict\")\n",
    "\n",
    "config[\"es\"][\"zrt_tmp_wav\"] = os.path.join(root_zrt, \"exp\", exp_name, \"matches\", curr_exp, \"tmpwav\")\n",
    "config[\"es\"][\"zrt_out_path\"] = os.path.join(root_zrt, \"exp\", exp_name, \"matches\", curr_exp)\n",
    "config[\"es\"][\"matches\"] = os.path.join(root_zrt, \"exp\", exp_name, \"matches\")"
   ]
  },
  {
   "cell_type": "code",
   "execution_count": 5,
   "metadata": {
    "collapsed": false
   },
   "outputs": [],
   "source": [
    "# config['es']['nodes_fname'] = os.path.join(config[\"es\"][\"zrt_out_path\"], \"master_graph.nodes\")\n",
    "config['es']['seg_nodes_fname'] = os.path.join(config[\"es\"][\"zrt_out_path\"], \"master_graph.nodes\")\n",
    "config['es']['nodes_dict_fname'] = os.path.join(config[\"es\"][\"zrt_out_path\"], \"nodes_dict.p\")\n",
    "\n",
    "config['es']['edges_list_fname'] = os.path.join(config[\"es\"][\"zrt_out_path\"], \"edges_list.p\")\n",
    "\n",
    "config['es']['edges_utd_fname'] = os.path.join(config[\"es\"][\"zrt_out_path\"], \"master_graph.edges\")\n",
    "config['es']['edges_olap_fname'] = os.path.join(config[\"es\"][\"zrt_out_path\"], \"master_graph.olapedges\")\n",
    "config['es']['edges_all_fname'] = os.path.join(config[\"es\"][\"zrt_out_path\"], \"master_graph.zedges\")\n",
    "# vedges - valid edges, olap edges are merged with utd discovered edges, and redundant\n",
    "# edges are removed\n",
    "config['es']['edges_score_fname'] = os.path.join(config[\"es\"][\"zrt_out_path\"], \"master_graph.vedges\")\n",
    "\n",
    "config['es']['clusters_utd_fname'] = os.path.join(config[\"es\"][\"zrt_out_path\"], \"master_graph.dedups\")\n",
    "config['es']['clusters_fname'] = os.path.join(config[\"es\"][\"zrt_out_path\"], \"clusters.p\")\n",
    "\n",
    "config['es']['feats_fname'] = os.path.join(config[\"es\"][\"zrt_out_path\"], \"pseudowords.feats\")\n",
    "config['es']['feats_dict_fname'] = os.path.join(config[\"es\"][\"zrt_out_path\"], \"pseudowords.dict\")\n",
    "\n",
    "config['es']['mt_train_files'] = \"../files-train.txt\"\n",
    "config['es']['mt_dev_files'] = \"../files-test.txt\"\n",
    "\n",
    "config['es']['mt_dev_test_files'] = \"../files-test.txt\"\n",
    "\n",
    "config['es']['gold_feats'] = \"../gold_features_dict.p\"\n",
    "\n",
    "\n",
    "config['es']['mt_corpus_train_gold'] = os.path.join(config[\"es\"][\"zrt_out_path\"], \"mt_corpus_train_gold.bi\")\n",
    "config['es']['mt_corpus_train_pseudo'] = os.path.join(config[\"es\"][\"zrt_out_path\"], \"mt_corpus_train_pseudo.bi\")\n",
    "\n",
    "config['es']['mt_corpus_dev_gold'] = os.path.join(config[\"es\"][\"zrt_out_path\"], \"mt_corpus_dev_gold.bi\")\n",
    "config['es']['mt_corpus_dev_pseudo'] = os.path.join(config[\"es\"][\"zrt_out_path\"], \"mt_corpus_dev_pseudo.bi\")\n",
    "\n",
    "config['es']['mt_probs_gold'] = os.path.join(config[\"es\"][\"zrt_out_path\"], \"mt_probs_gold.txt\")\n",
    "config['es']['mt_probs_pseudo'] = os.path.join(config[\"es\"][\"zrt_out_path\"], \"mt_probs_pseudo.txt\")\n",
    "\n",
    "config['es']['mt_probs_dict_gold'] = os.path.join(config[\"es\"][\"zrt_out_path\"], \"mt_probs_dict_gold.p\")\n",
    "config['es']['mt_probs_dict_pseudo'] = os.path.join(config[\"es\"][\"zrt_out_path\"], \"mt_probs_dict_pseudo.p\")\n",
    "\n",
    "config['es']['mt_gold_pred_dict'] = os.path.join(config[\"es\"][\"zrt_out_path\"], \"mt_gold_pred_dict.p\")\n",
    "config['es']['mt_pseudo_pred_dict'] = os.path.join(config[\"es\"][\"zrt_out_path\"], \"mt_pseudo_pred_dict.p\")\n",
    "\n",
    "\n",
    "config['es']['mt_gold_eval_dict'] = os.path.join(config[\"es\"][\"zrt_out_path\"], \"mt_gold_eval_dict.p\")\n",
    "config['es']['mt_pseudo_eval_dict'] = os.path.join(config[\"es\"][\"zrt_out_path\"], \"mt_pseudo_eval_dict.p\")\n",
    "config['es']['utd_wavs'] = os.path.join(config[\"es\"][\"zrt_out_path\"], \"wavs\")"
   ]
  },
  {
   "cell_type": "code",
   "execution_count": 6,
   "metadata": {
    "collapsed": false
   },
   "outputs": [],
   "source": [
    "with open(\"config.json\", \"w\") as json_file:\n",
    "    json.dump(config, json_file)"
   ]
  },
  {
   "cell_type": "code",
   "execution_count": null,
   "metadata": {
    "collapsed": false
   },
   "outputs": [],
   "source": []
  },
  {
   "cell_type": "code",
   "execution_count": null,
   "metadata": {
    "collapsed": true
   },
   "outputs": [],
   "source": []
  },
  {
   "cell_type": "code",
   "execution_count": null,
   "metadata": {
    "collapsed": true
   },
   "outputs": [],
   "source": []
  }
 ],
 "metadata": {
  "kernelspec": {
   "display_name": "Python 3",
   "language": "python",
   "name": "python3"
  },
  "language_info": {
   "codemirror_mode": {
    "name": "ipython",
    "version": 3
   },
   "file_extension": ".py",
   "mimetype": "text/x-python",
   "name": "python",
   "nbconvert_exporter": "python",
   "pygments_lexer": "ipython3",
   "version": "3.6.0"
  }
 },
 "nbformat": 4,
 "nbformat_minor": 0
}
