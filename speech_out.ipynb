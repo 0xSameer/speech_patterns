{
 "cells": [
  {
   "cell_type": "code",
   "execution_count": 244,
   "metadata": {
    "collapsed": true
   },
   "outputs": [],
   "source": [
    "# -*- coding: utf-8 -*-"
   ]
  },
  {
   "cell_type": "code",
   "execution_count": 245,
   "metadata": {
    "collapsed": true
   },
   "outputs": [],
   "source": [
    "from __future__ import division\n",
    "from IPython.display import Audio"
   ]
  },
  {
   "cell_type": "code",
   "execution_count": 246,
   "metadata": {
    "collapsed": true
   },
   "outputs": [],
   "source": [
    "%matplotlib inline\n",
    "from IPython.display import display"
   ]
  },
  {
   "cell_type": "code",
   "execution_count": 247,
   "metadata": {
    "collapsed": false
   },
   "outputs": [],
   "source": [
    "# import io\n",
    "# from nbformat import current\n",
    "\n",
    "# def execute_notebook(nbfile):\n",
    "    \n",
    "#     with io.open(nbfile) as f:\n",
    "#         nb = current.read(f, 'json')\n",
    "    \n",
    "#     ip = get_ipython()\n",
    "    \n",
    "#     for cell in nb.worksheets[0].cells:\n",
    "#         if cell.cell_type != 'code':\n",
    "#             continue\n",
    "#         ip.run_cell(cell.input)"
   ]
  },
  {
   "cell_type": "code",
   "execution_count": 248,
   "metadata": {
    "collapsed": true
   },
   "outputs": [],
   "source": [
    "# execute_notebook(\"speechutils.ipynb\")"
   ]
  },
  {
   "cell_type": "code",
   "execution_count": 249,
   "metadata": {
    "collapsed": false
   },
   "outputs": [],
   "source": [
    "%run \"speechutils.py\""
   ]
  },
  {
   "cell_type": "code",
   "execution_count": 250,
   "metadata": {
    "collapsed": false
   },
   "outputs": [],
   "source": [
    "%run \"viewutils.ipynb\""
   ]
  },
  {
   "cell_type": "code",
   "execution_count": 251,
   "metadata": {
    "collapsed": false
   },
   "outputs": [
    {
     "name": "stdout",
     "output_type": "stream",
     "text": [
      "../../ZRTools/exp/callhome_train_50/matches/config0.80-0.90-0.80-50/master_graph.nodes\n",
      "Loading prep state dictionary ...\n",
      "Finished loading prep state dictionary ...\n",
      "Finished ...\n",
      "Processing line: 100000\n",
      "Processing line: 200000\n",
      "Processing line: 300000\n",
      "Processing line: 400000\n",
      "Processing line: 500000\n",
      "Processing line: 600000\n",
      "Finished - reading nodes ...\n",
      "Processing line: 1\n",
      "Processing line: 100001\n",
      "Processing line: 200001\n",
      "Processing line: 300001\n",
      "Finished - reading edges ...\n",
      "Removing duplicates in pairs list\n",
      "Set length: 125085 and List length: 313761\n",
      "Generating vocabulary of English words ... \n",
      "Finished vocab ...\n",
      "Generating initial belief over English translations\n",
      "Processed 1 nodes\n",
      "Processed 100001 nodes\n",
      "Processed 200001 nodes\n",
      "Processed 300001 nodes\n",
      "Processed 400001 nodes\n",
      "Processed 500001 nodes\n",
      "Processed 600001 nodes\n",
      "Generating similarity between nodes based on English translations ...\n",
      "Finished generating similarity ...\n",
      "Generating similarity between nodes based on English translations ...\n",
      "Finished generating similarity ...\n",
      "Processing line: 1\n",
      "Processing line: 3001\n",
      "Processing line: 6001\n",
      "Processing line: 9001\n",
      "Processing line: 12001\n",
      "Processing line: 15001\n",
      "Processing line: 18001\n",
      "Processing line: 21001\n",
      "Processing line: 24001\n",
      "Processing line: 27001\n",
      "Processing line: 30001\n",
      "Processing line: 33001\n",
      "Processing line: 36001\n",
      "Processing line: 39001\n",
      "Processing line: 42001\n",
      "Processing line: 45001\n",
      "Processing line: 48001\n",
      "Processing line: 51001\n",
      "Processing line: 54001\n",
      "Processing line: 57001\n",
      "Processing line: 60001\n",
      "Processing line: 63001\n",
      "Processing line: 66001\n",
      "Processing line: 69001\n",
      "Processing line: 72001\n",
      "Processing line: 75001\n",
      "Processing line: 78001\n",
      "Processing line: 81001\n",
      "Processing line: 84001\n",
      "Processing line: 87001\n",
      "Processing line: 90001\n",
      "Processing line: 93001\n",
      "Processing line: 96001\n",
      "Processing line: 99001\n",
      "Processing line: 102001\n",
      "Processing line: 105001\n",
      "Processing line: 108001\n",
      "Processing line: 111001\n",
      "Processing line: 114001\n",
      "Processing line: 117001\n",
      "Processing line: 120001\n",
      "Processing line: 123001\n",
      "Total matches: 125085\n",
      "matches with missing transcriptions: 0\n",
      "matches with only sil, sp: 67106\n",
      "Finished - evaluating 125085 pairs ...\n",
      "Setting up eval data frame\n",
      "Finished ...\n",
      "Saving state dictionary ...\n",
      "Finished saving state dictionary ...\n",
      "Total wav files: 9165\n",
      "+--------------------------------------+-----------------------+------------------------+\n",
      "|                 Type                 | Total duration (secs) | Total duration (hours) |\n",
      "+--------------------------------------+-----------------------+------------------------+\n",
      "|         Utterance level VAD          |         30617         |          8.50          |\n",
      "+--------------------------------------+-----------------------+------------------------+\n",
      "| Transcript non sil/sp word durations |         24896         |          6.92          |\n",
      "+--------------------------------------+-----------------------+------------------------+\n",
      "|             Energy based             |          8276         |          2.30          |\n",
      "+--------------------------------------+-----------------------+------------------------+\n",
      "Interpolating similarity matrix ...\n",
      "Finished interpolating similarity matrix ...\n",
      "Updating data frame ...\n",
      "Finished updating data frame ...\n"
     ]
    }
   ],
   "source": [
    "ch = callhome_eval_init(\"config.json\", fast=False)"
   ]
  },
  {
   "cell_type": "code",
   "execution_count": 252,
   "metadata": {
    "collapsed": false
   },
   "outputs": [],
   "source": [
    "df_zrt, cols_to_show = ch.gen_zrt_df()"
   ]
  },
  {
   "cell_type": "markdown",
   "metadata": {},
   "source": [
    "# Analyse ZRT output"
   ]
  },
  {
   "cell_type": "markdown",
   "metadata": {},
   "source": [
    "### Set up visualizations"
   ]
  },
  {
   "cell_type": "code",
   "execution_count": 253,
   "metadata": {
    "collapsed": false
   },
   "outputs": [],
   "source": [
    "def display_pair_and_plot_dtw(pair_id, tosave=False, \\\n",
    "                              offset_1=(0,-1), \\\n",
    "                              offset_2=(0,-1), \\\n",
    "                              n_labels=(\"pair 1\", \"node 1\", \"node 2\")):\n",
    "    display(Audio(ch.play_pair_wav(pair_id)))\n",
    "\n",
    "    pair_info = ch.eval_pairs_list[pair_id]\n",
    "    node_1 = ch.node_dict[pair_info['n1']]\n",
    "    node_2 = ch.node_dict[pair_info['n2']]\n",
    "\n",
    "\n",
    "    wav_1 = ch.file_info_dict[node_1.wav_fil].target_file+\".wav\"\n",
    "    wav_2 = ch.file_info_dict[node_2.wav_fil].target_file+\".wav\"\n",
    "\n",
    "    es_words_1 = ch.es_words_dict[node_1.wav_fil]\n",
    "    es_words_2 = ch.es_words_dict[node_2.wav_fil]\n",
    "    #es_words_1 = ch.es_phones_dict[node_1.wav_fil]\n",
    "    #es_words_2 = ch.es_phones_dict[node_2.wav_fil]\n",
    "    #plot_name = \"output/dtw_pair_1761_1762.pdf\"\n",
    "    # print(wav_1, wav_2)\n",
    "    # print(es_words_1, es_words_2)\n",
    "    wav_1_time = (node_1.start, node_1.end)\n",
    "    wav_2_time = (node_2.start, node_2.end)\n",
    "    plot_name = \"output/{0:d}.pdf\".format(pair_id)\n",
    "    if not tosave:\n",
    "        plot_name = \"\"\n",
    "        \n",
    "    plot_dtw(wav_1, wav_2, es_words_1, es_words_2, \\\n",
    "             wav_1_time, wav_2_time, pair_info['zrt_sim'], plot_name, \\\n",
    "             offset_1, offset_2, n_labels)"
   ]
  },
  {
   "cell_type": "code",
   "execution_count": 254,
   "metadata": {
    "collapsed": true
   },
   "outputs": [],
   "source": [
    "pd.options.display.float_format = '{:,.3f}'.format"
   ]
  },
  {
   "cell_type": "code",
   "execution_count": 255,
   "metadata": {
    "collapsed": false
   },
   "outputs": [
    {
     "data": {
      "text/html": [
       "<div>\n",
       "<table border=\"1\" class=\"dataframe\">\n",
       "  <thead>\n",
       "    <tr style=\"text-align: right;\">\n",
       "      <th></th>\n",
       "      <th>chid1</th>\n",
       "      <th>chid2</th>\n",
       "      <th>cnt_es_w_check</th>\n",
       "      <th>ES cont match</th>\n",
       "      <th>dur</th>\n",
       "      <th>en_w_cnt_count_sim_0</th>\n",
       "      <th>EN sim</th>\n",
       "      <th>en_w_count_sim_0</th>\n",
       "      <th>en_w_hgr_sim_0</th>\n",
       "      <th>ES phone edit sim</th>\n",
       "      <th>...</th>\n",
       "      <th>n1</th>\n",
       "      <th>n2</th>\n",
       "      <th>no_mtch</th>\n",
       "      <th>sil_only</th>\n",
       "      <th>uid1</th>\n",
       "      <th>uid2</th>\n",
       "      <th>ZRT</th>\n",
       "      <th>sim mixed</th>\n",
       "      <th>spk1</th>\n",
       "      <th>spk2</th>\n",
       "    </tr>\n",
       "  </thead>\n",
       "  <tbody>\n",
       "    <tr>\n",
       "      <th>0</th>\n",
       "      <td>1</td>\n",
       "      <td>1</td>\n",
       "      <td>False</td>\n",
       "      <td>0</td>\n",
       "      <td>550</td>\n",
       "      <td>0</td>\n",
       "      <td>0.000</td>\n",
       "      <td>1</td>\n",
       "      <td>0.045</td>\n",
       "      <td>0.571</td>\n",
       "      <td>...</td>\n",
       "      <td>1</td>\n",
       "      <td>2</td>\n",
       "      <td>False</td>\n",
       "      <td>False</td>\n",
       "      <td>049.003</td>\n",
       "      <td>049.007</td>\n",
       "      <td>0.882</td>\n",
       "      <td>0.794</td>\n",
       "      <td>1.049.003</td>\n",
       "      <td>1.049.007</td>\n",
       "    </tr>\n",
       "    <tr>\n",
       "      <th>1</th>\n",
       "      <td>1</td>\n",
       "      <td>1</td>\n",
       "      <td>True</td>\n",
       "      <td>0</td>\n",
       "      <td>550</td>\n",
       "      <td>1</td>\n",
       "      <td>0.038</td>\n",
       "      <td>1</td>\n",
       "      <td>0.059</td>\n",
       "      <td>0.714</td>\n",
       "      <td>...</td>\n",
       "      <td>1</td>\n",
       "      <td>74</td>\n",
       "      <td>False</td>\n",
       "      <td>False</td>\n",
       "      <td>049.003</td>\n",
       "      <td>103.033</td>\n",
       "      <td>0.887</td>\n",
       "      <td>0.802</td>\n",
       "      <td>1.049.003</td>\n",
       "      <td>1.103.033</td>\n",
       "    </tr>\n",
       "    <tr>\n",
       "      <th>2</th>\n",
       "      <td>1</td>\n",
       "      <td>1</td>\n",
       "      <td>False</td>\n",
       "      <td>0</td>\n",
       "      <td>580</td>\n",
       "      <td>1</td>\n",
       "      <td>0.047</td>\n",
       "      <td>1</td>\n",
       "      <td>0.089</td>\n",
       "      <td>0.286</td>\n",
       "      <td>...</td>\n",
       "      <td>2</td>\n",
       "      <td>98</td>\n",
       "      <td>False</td>\n",
       "      <td>False</td>\n",
       "      <td>049.007</td>\n",
       "      <td>049.073</td>\n",
       "      <td>0.903</td>\n",
       "      <td>0.817</td>\n",
       "      <td>1.049.007</td>\n",
       "      <td>1.049.073</td>\n",
       "    </tr>\n",
       "  </tbody>\n",
       "</table>\n",
       "<p>3 rows × 23 columns</p>\n",
       "</div>"
      ],
      "text/plain": [
       "   chid1  chid2 cnt_es_w_check  ES cont match  dur  en_w_cnt_count_sim_0  \\\n",
       "0      1      1          False              0  550                     0   \n",
       "1      1      1           True              0  550                     1   \n",
       "2      1      1          False              0  580                     1   \n",
       "\n",
       "   EN sim  en_w_count_sim_0  en_w_hgr_sim_0  ES phone edit sim    ...     n1  \\\n",
       "0   0.000                 1           0.045              0.571    ...      1   \n",
       "1   0.038                 1           0.059              0.714    ...      1   \n",
       "2   0.047                 1           0.089              0.286    ...      2   \n",
       "\n",
       "   n2  no_mtch  sil_only     uid1     uid2   ZRT sim mixed       spk1  \\\n",
       "0   2    False     False  049.003  049.007 0.882     0.794  1.049.003   \n",
       "1  74    False     False  049.003  103.033 0.887     0.802  1.049.003   \n",
       "2  98    False     False  049.007  049.073 0.903     0.817  1.049.007   \n",
       "\n",
       "        spk2  \n",
       "0  1.049.007  \n",
       "1  1.103.033  \n",
       "2  1.049.073  \n",
       "\n",
       "[3 rows x 23 columns]"
      ]
     },
     "metadata": {},
     "output_type": "display_data"
    },
    {
     "data": {
      "text/html": [
       "<div>\n",
       "<table border=\"1\" class=\"dataframe\">\n",
       "  <thead>\n",
       "    <tr style=\"text-align: right;\">\n",
       "      <th></th>\n",
       "      <th>n1</th>\n",
       "      <th>n2</th>\n",
       "      <th>ZRT</th>\n",
       "      <th>ES words n1</th>\n",
       "      <th>ES words n2</th>\n",
       "      <th>ES word match</th>\n",
       "      <th>ES phone edit sim</th>\n",
       "      <th>ES cont match</th>\n",
       "      <th>EN sim</th>\n",
       "      <th>sim mixed</th>\n",
       "      <th>spk1</th>\n",
       "      <th>spk2</th>\n",
       "    </tr>\n",
       "  </thead>\n",
       "  <tbody>\n",
       "    <tr>\n",
       "      <th>0</th>\n",
       "      <td>1</td>\n",
       "      <td>2</td>\n",
       "      <td>0.882</td>\n",
       "      <td>LíNEAS Y ESTABA</td>\n",
       "      <td>QUE ESTáN</td>\n",
       "      <td>0</td>\n",
       "      <td>0.571</td>\n",
       "      <td>0</td>\n",
       "      <td>0.000</td>\n",
       "      <td>0.794</td>\n",
       "      <td>1.049.003</td>\n",
       "      <td>1.049.007</td>\n",
       "    </tr>\n",
       "    <tr>\n",
       "      <th>1</th>\n",
       "      <td>1</td>\n",
       "      <td>74</td>\n",
       "      <td>0.887</td>\n",
       "      <td>LíNEAS Y ESTABA</td>\n",
       "      <td>AQUí ESTAMOS</td>\n",
       "      <td>0</td>\n",
       "      <td>0.714</td>\n",
       "      <td>0</td>\n",
       "      <td>0.038</td>\n",
       "      <td>0.802</td>\n",
       "      <td>1.049.003</td>\n",
       "      <td>1.103.033</td>\n",
       "    </tr>\n",
       "    <tr>\n",
       "      <th>2</th>\n",
       "      <td>2</td>\n",
       "      <td>98</td>\n",
       "      <td>0.903</td>\n",
       "      <td>QUE ESTáN</td>\n",
       "      <td>EH sp A LO</td>\n",
       "      <td>0</td>\n",
       "      <td>0.286</td>\n",
       "      <td>0</td>\n",
       "      <td>0.047</td>\n",
       "      <td>0.817</td>\n",
       "      <td>1.049.007</td>\n",
       "      <td>1.049.073</td>\n",
       "    </tr>\n",
       "    <tr>\n",
       "      <th>3</th>\n",
       "      <td>3</td>\n",
       "      <td>4</td>\n",
       "      <td>0.872</td>\n",
       "      <td>MIRA ES QUE ESTOY</td>\n",
       "      <td>PUEDE DECIR SEXPERCIOS</td>\n",
       "      <td>0</td>\n",
       "      <td>0.167</td>\n",
       "      <td>0</td>\n",
       "      <td>0.000</td>\n",
       "      <td>0.785</td>\n",
       "      <td>1.049.003</td>\n",
       "      <td>1.049.007</td>\n",
       "    </tr>\n",
       "    <tr>\n",
       "      <th>4</th>\n",
       "      <td>5</td>\n",
       "      <td>6</td>\n",
       "      <td>0.883</td>\n",
       "      <td>AQUí EN UN TELéFONO</td>\n",
       "      <td>QUé NO APARECEN</td>\n",
       "      <td>0</td>\n",
       "      <td>0.364</td>\n",
       "      <td>0</td>\n",
       "      <td>0.000</td>\n",
       "      <td>0.795</td>\n",
       "      <td>1.049.003</td>\n",
       "      <td>1.049.044</td>\n",
       "    </tr>\n",
       "    <tr>\n",
       "      <th>5</th>\n",
       "      <td>6</td>\n",
       "      <td>242</td>\n",
       "      <td>0.861</td>\n",
       "      <td>QUé NO APARECEN</td>\n",
       "      <td>REFERENCIAS Y LOS DATOS</td>\n",
       "      <td>0</td>\n",
       "      <td>0.200</td>\n",
       "      <td>0</td>\n",
       "      <td>0.054</td>\n",
       "      <td>0.780</td>\n",
       "      <td>1.049.044</td>\n",
       "      <td>1.049.054</td>\n",
       "    </tr>\n",
       "    <tr>\n",
       "      <th>6</th>\n",
       "      <td>6</td>\n",
       "      <td>1494</td>\n",
       "      <td>0.879</td>\n",
       "      <td>QUé NO APARECEN</td>\n",
       "      <td>VI EN LA PRENSA</td>\n",
       "      <td>0</td>\n",
       "      <td>0.545</td>\n",
       "      <td>0</td>\n",
       "      <td>0.000</td>\n",
       "      <td>0.791</td>\n",
       "      <td>1.049.044</td>\n",
       "      <td>2.050.067</td>\n",
       "    </tr>\n",
       "    <tr>\n",
       "      <th>7</th>\n",
       "      <td>6</td>\n",
       "      <td>1496</td>\n",
       "      <td>0.866</td>\n",
       "      <td>QUé NO APARECEN</td>\n",
       "      <td>Y NO APAREZCAN</td>\n",
       "      <td>1</td>\n",
       "      <td>0.636</td>\n",
       "      <td>0</td>\n",
       "      <td>0.000</td>\n",
       "      <td>0.779</td>\n",
       "      <td>1.049.044</td>\n",
       "      <td>2.050.138</td>\n",
       "    </tr>\n",
       "    <tr>\n",
       "      <th>8</th>\n",
       "      <td>6</td>\n",
       "      <td>1498</td>\n",
       "      <td>0.877</td>\n",
       "      <td>QUé NO APARECEN</td>\n",
       "      <td>AYUDO A QUERERTE</td>\n",
       "      <td>0</td>\n",
       "      <td>0.364</td>\n",
       "      <td>0</td>\n",
       "      <td>0.000</td>\n",
       "      <td>0.789</td>\n",
       "      <td>1.049.044</td>\n",
       "      <td>2.051.118</td>\n",
       "    </tr>\n",
       "    <tr>\n",
       "      <th>9</th>\n",
       "      <td>6</td>\n",
       "      <td>1508</td>\n",
       "      <td>0.868</td>\n",
       "      <td>QUé NO APARECEN</td>\n",
       "      <td>LLAMé PARA ACá</td>\n",
       "      <td>0</td>\n",
       "      <td>0.182</td>\n",
       "      <td>0</td>\n",
       "      <td>0.000</td>\n",
       "      <td>0.781</td>\n",
       "      <td>1.049.044</td>\n",
       "      <td>1.056.241</td>\n",
       "    </tr>\n",
       "  </tbody>\n",
       "</table>\n",
       "</div>"
      ],
      "text/plain": [
       "   n1    n2   ZRT          ES words n1              ES words n2  \\\n",
       "0   1     2 0.882      LíNEAS Y ESTABA                QUE ESTáN   \n",
       "1   1    74 0.887      LíNEAS Y ESTABA             AQUí ESTAMOS   \n",
       "2   2    98 0.903            QUE ESTáN               EH sp A LO   \n",
       "3   3     4 0.872    MIRA ES QUE ESTOY   PUEDE DECIR SEXPERCIOS   \n",
       "4   5     6 0.883  AQUí EN UN TELéFONO          QUé NO APARECEN   \n",
       "5   6   242 0.861      QUé NO APARECEN  REFERENCIAS Y LOS DATOS   \n",
       "6   6  1494 0.879      QUé NO APARECEN          VI EN LA PRENSA   \n",
       "7   6  1496 0.866      QUé NO APARECEN           Y NO APAREZCAN   \n",
       "8   6  1498 0.877      QUé NO APARECEN         AYUDO A QUERERTE   \n",
       "9   6  1508 0.868      QUé NO APARECEN           LLAMé PARA ACá   \n",
       "\n",
       "   ES word match  ES phone edit sim  ES cont match  EN sim  sim mixed  \\\n",
       "0              0              0.571              0   0.000      0.794   \n",
       "1              0              0.714              0   0.038      0.802   \n",
       "2              0              0.286              0   0.047      0.817   \n",
       "3              0              0.167              0   0.000      0.785   \n",
       "4              0              0.364              0   0.000      0.795   \n",
       "5              0              0.200              0   0.054      0.780   \n",
       "6              0              0.545              0   0.000      0.791   \n",
       "7              1              0.636              0   0.000      0.779   \n",
       "8              0              0.364              0   0.000      0.789   \n",
       "9              0              0.182              0   0.000      0.781   \n",
       "\n",
       "        spk1       spk2  \n",
       "0  1.049.003  1.049.007  \n",
       "1  1.049.003  1.103.033  \n",
       "2  1.049.007  1.049.073  \n",
       "3  1.049.003  1.049.007  \n",
       "4  1.049.003  1.049.044  \n",
       "5  1.049.044  1.049.054  \n",
       "6  1.049.044  2.050.067  \n",
       "7  1.049.044  2.050.138  \n",
       "8  1.049.044  2.051.118  \n",
       "9  1.049.044  1.056.241  "
      ]
     },
     "metadata": {},
     "output_type": "display_data"
    }
   ],
   "source": [
    "display(df_zrt.head(3))\n",
    "display(df_zrt[cols_to_show].head(10))"
   ]
  },
  {
   "cell_type": "markdown",
   "metadata": {},
   "source": [
    "## Pairs discovered"
   ]
  },
  {
   "cell_type": "markdown",
   "metadata": {},
   "source": [
    "### Filter Pairs"
   ]
  },
  {
   "cell_type": "code",
   "execution_count": 256,
   "metadata": {
    "collapsed": false,
    "scrolled": true
   },
   "outputs": [
    {
     "name": "stdout",
     "output_type": "stream",
     "text": [
      "+-----------------------------------------+------------+\n",
      "|                             Description | # of pairs |\n",
      "+-----------------------------------------+------------+\n",
      "|                             Total pairs |   125085   |\n",
      "|             With sil, sp, or no matches |   67106    |\n",
      "| Pairs with speech segments and ES words |   57979    |\n",
      "+-----------------------------------------+------------+\n",
      "<table>\n",
      "    <tr>\n",
      "        <th>Description</th>\n",
      "        <th># of pairs</th>\n",
      "    </tr>\n",
      "    <tr>\n",
      "        <td>Total pairs</td>\n",
      "        <td>125085</td>\n",
      "    </tr>\n",
      "    <tr>\n",
      "        <td>With sil, sp, or no matches</td>\n",
      "        <td>67106</td>\n",
      "    </tr>\n",
      "    <tr>\n",
      "        <td>Pairs with speech segments and ES words</td>\n",
      "        <td>57979</td>\n",
      "    </tr>\n",
      "</table>\n"
     ]
    }
   ],
   "source": [
    "# Pairs with no matches in ES transcripts or only ['sil','sp'] matches\n",
    "df_no_mtch_sil_only = df_zrt[(df_zrt['no_mtch'] == True) | (df_zrt['sil_only'] == True)]\n",
    "# Pairs only ['sil','sp'] matches\n",
    "df_sil_only = df_zrt[(df_zrt['sil_only'] == True)]\n",
    "# Pairs with no matches in ES transcripts, but no ['sil','sp'] detected\n",
    "df_no_mtch_not_sil = df_zrt[(df_zrt['no_mtch'] == True) & (df_zrt['sil_only'] == False)]\n",
    "\n",
    "# Pairs with ES words found for both nodes\n",
    "df_valid = df_zrt[(df_zrt['no_mtch'] == False) & (df_zrt['sil_only'] == False)]\n",
    "\n",
    "# Filtering two files:\n",
    "# df_valid = df_valid[df_valid.apply(lambda row: remove_invalid_files(row), axis=1)]\n",
    "# df_valid = df_valid[df_valid['dur'] > 600]\n",
    "\n",
    "# out_t = PrettyTable([\"Description\", \"# of pairs\"], hrules=True)\n",
    "out_t = PrettyTable([\"Description\", \"# of pairs\"])\n",
    "out_t.align['Description'] = 'r'\n",
    "out_t.add_row([\"Total pairs\", len(df_zrt)])\n",
    "out_t.add_row([\"With sil, sp, or no matches\", len(df_no_mtch_sil_only)])\n",
    "out_t.add_row([\"Pairs with speech segments and ES words\", len(df_valid)])\n",
    "print(out_t)\n",
    "print(out_t.get_html_string())"
   ]
  },
  {
   "cell_type": "code",
   "execution_count": 257,
   "metadata": {
    "collapsed": false
   },
   "outputs": [
    {
     "name": "stdout",
     "output_type": "stream",
     "text": [
      "# eval scores: 57979\n",
      "# good scores: 3740\n",
      "#  bad scores: 54239\n",
      "Average Precision - using sim: zrt_sim\n",
      "----------------------------------------\n",
      "\t0.14489\n",
      "----------------------------------------\n",
      "# eval scores: 57979\n",
      "# good scores: 3740\n",
      "#  bad scores: 54239\n",
      "Average Precision - using sim: sim mixed\n",
      "----------------------------------------\n",
      "\t0.32875\n",
      "----------------------------------------\n"
     ]
    },
    {
     "data": {
      "image/png": "[encoded data removed]",
      "text/plain": [
       "<matplotlib.figure.Figure at 0x7ff7bb8a6ed0>"
      ]
     },
     "metadata": {},
     "output_type": "display_data"
    },
    {
     "data": {
      "image/png": "[encoded data removed]",
      "text/plain": [
       "<matplotlib.figure.Figure at 0x7ff72df8e950>"
      ]
     },
     "metadata": {},
     "output_type": "display_data"
    }
   ],
   "source": [
    "fig_pr, fig_roc = ch.miniplot_precision_recall()\n",
    "#fig_pr.suptitle(\"Precision/Recall - 50 calls, energy based VAD\", fontsize=24, y=1.02)\n",
    "fig_pr.gca().set_title(\"Precision/Recall - 50 calls, align based VAD\", \\\n",
    "                       fontsize=24, y=1.02)\n",
    "fig_pr.tight_layout()\n",
    "# fiig = plt.gcf()\n",
    "fig_pr.savefig(\"output/train_50_align_pr.pdf\")\n",
    "fig_roc.gca().set_title(\"ROC curve - 50 calls, align based VAD\", \\\n",
    "                        fontsize=24, y=1.02)\n",
    "fig_roc.tight_layout()\n",
    "fig_roc.savefig(\"output/train_50_align_roc.pdf\")"
   ]
  },
  {
   "cell_type": "markdown",
   "metadata": {},
   "source": [
    "## Histogram - ZRT values"
   ]
  },
  {
   "cell_type": "code",
   "execution_count": 239,
   "metadata": {
    "collapsed": false
   },
   "outputs": [
    {
     "data": {
      "text/plain": [
       "<matplotlib.axes._subplots.AxesSubplot at 0x7ff798b72b50>"
      ]
     },
     "execution_count": 239,
     "metadata": {},
     "output_type": "execute_result"
    },
    {
     "data": {
      "image/png": "[encoded data removed]",
      "text/plain": [
       "<matplotlib.figure.Figure at 0x7ff795971890>"
      ]
     },
     "metadata": {},
     "output_type": "display_data"
    },
    {
     "data": {
      "image/png": "[encoded data removed]",
      "text/plain": [
       "<matplotlib.figure.Figure at 0x7ff76bb23a50>"
      ]
     },
     "metadata": {},
     "output_type": "display_data"
    },
    {
     "data": {
      "image/png": "[encoded data removed]",
      "text/plain": [
       "<matplotlib.figure.Figure at 0x7ff73d5d5390>"
      ]
     },
     "metadata": {},
     "output_type": "display_data"
    }
   ],
   "source": [
    "df_valid[['ZRT']].plot(kind='hist', alpha=0.7)\n",
    "df_valid[['sim mixed']].plot(kind='hist', alpha=0.7)\n",
    "df_valid[['EN sim']].plot(kind='hist', alpha=0.7)"
   ]
  },
  {
   "cell_type": "code",
   "execution_count": 199,
   "metadata": {
    "collapsed": false
   },
   "outputs": [
    {
     "data": {
      "text/plain": [
       "<matplotlib.axes._subplots.AxesSubplot at 0x7ff76f1e0710>"
      ]
     },
     "execution_count": 199,
     "metadata": {},
     "output_type": "execute_result"
    },
    {
     "data": {
      "image/png": "[encoded data removed]",
      "text/plain": [
       "<matplotlib.figure.Figure at 0x7ff7b88bd150>"
      ]
     },
     "metadata": {},
     "output_type": "display_data"
    }
   ],
   "source": [
    "df_valid[['dur']].plot(kind='hist', alpha=0.7, bins=200)"
   ]
  },
  {
   "cell_type": "markdown",
   "metadata": {},
   "source": [
    "## Correlation between DTW and other metrics"
   ]
  },
  {
   "cell_type": "code",
   "execution_count": null,
   "metadata": {
    "collapsed": false
   },
   "outputs": [],
   "source": [
    "display(df_valid[['ZRT', 'EN sim']].corr())\n",
    "display(df_valid[['ZRT', 'ES phone edit sim']].corr())\n",
    "display(df_valid[['ZRT', 'ES cont match']].corr())\n",
    "display(df_valid[['ZRT', 'ES word match']].corr())\n",
    "display(df_valid[['ES phone edit sim', 'ES word match']].corr())"
   ]
  },
  {
   "cell_type": "markdown",
   "metadata": {},
   "source": [
    "# Long matches"
   ]
  },
  {
   "cell_type": "code",
   "execution_count": null,
   "metadata": {
    "collapsed": false
   },
   "outputs": [],
   "source": [
    "long_dur_ms = 700\n",
    "df_long_dur = df_valid[df_valid['dur'] >= long_dur_ms]\n",
    "print(\"# of pairs with duration >= %dms : %d\" % (long_dur_ms, len(df_long_dur)))\n",
    "df_long_dur[cols_to_show].head(10)"
   ]
  },
  {
   "cell_type": "code",
   "execution_count": null,
   "metadata": {
    "collapsed": false
   },
   "outputs": [],
   "source": [
    "nodes_table = PrettyTable([\"Node id\", \"Speech file\", \\\n",
    "                           \"Start time(ms)\", \\\n",
    "                           \"End time(ms)\"])\n",
    "transcripts_table = PrettyTable([\"Node id\", \"ES words\", \\\n",
    "                           \"ES content words\"])\n",
    "\n",
    "scores_table = PrettyTable([\"Pair id\", \"Node 1\", \"Node 2\", \"DTW score\", \"ES content word match\"])\n",
    "\n",
    "\n",
    "for i in range(1,5)+[27, 28, 61, 62, 64, 1761,1762]:\n",
    "    nodes_table.add_row([i, ch.node_dict[i].wav_fil+\".wav\", ch.node_dict[i].start, \\\n",
    "                        ch.node_dict[i].end])\n",
    "    #print((' '.join(ch.node_dict[i].es_cnt_words).decode('utf-8')))\n",
    "    es_w = (' '.join(ch.node_dict[i].es_words).decode('utf-8'))\n",
    "    if ch.node_dict[i].es_cnt_words:\n",
    "        es_cnt_w = (' '.join(ch.node_dict[i].es_cnt_words).decode('utf-8')).strip()\n",
    "    else:\n",
    "        es_cnt_w = '---'\n",
    "    #print(i, set(ch.node_dict[i].es_cnt_words) - set(['sil', 'sp']))\n",
    "    es_w = es_w.replace('sil', '').replace('sp', '')\n",
    "    es_cnt_w = es_cnt_w.replace('sil', '').replace('sp', '')\n",
    "    transcripts_table.add_row([i, es_w, es_cnt_w])\n",
    "\n",
    "found = 0\n",
    "for i, pair in enumerate(ch.eval_pairs_list):\n",
    "    if found == 10:\n",
    "        break\n",
    "    if pair['cnt_es_w_sim'] > 0 or i<=2:\n",
    "        scores_table.add_row([i, pair['n1'], pair['n2'], pair['zrt_sim'], pair['cnt_es_w_sim']])\n",
    "        found += 1\n",
    "\n",
    "print(nodes_table)\n",
    "print(transcripts_table)\n",
    "print(scores_table)\n",
    "#print(' '.join(ch.node_dict[2].es_words))\n",
    "\n",
    "\n",
    "display(ch.eval_pairs_list[1])\n",
    "found = 0\n",
    "for i, pair in enumerate(ch.eval_pairs_list):\n",
    "    if pair['zrt_sim'] >= 0.88 and len(pair['es_w_n1'].split()) == 2 \\\n",
    "    and pair['en_w_hgr_sim_0'] == 0 \\\n",
    "    and pair['sil_only'] == False \\\n",
    "    and pair['es_w_n1'] != 'sil AS\\xed':\n",
    "        print(i, pair['n1'], pair['n2'], \\\n",
    "              pair['es_w_n1'].decode('utf-8'), pair['es_w_n2'].decode('utf-8'),\\\n",
    "             pair['cnt_es_w_sim'])\n",
    "        found += 1\n",
    "        if found == 50:\n",
    "            break\n",
    "print(found)"
   ]
  },
  {
   "cell_type": "code",
   "execution_count": null,
   "metadata": {
    "collapsed": true
   },
   "outputs": [],
   "source": [
    "display(Audio(ch.play_pair_wav(34)))\n",
    "display(Audio(ch.play_pair_wav(5119)))"
   ]
  },
  {
   "cell_type": "code",
   "execution_count": null,
   "metadata": {
    "collapsed": true
   },
   "outputs": [],
   "source": [
    "display(ch.play_node_wav(619))\n",
    "display(ch.play_node_wav(620))\n",
    "display(ch.play_node_wav(45))\n",
    "display(ch.play_node_wav(46))\n",
    "\n",
    "node_1_file = ch.play_node_wav(1761)\n",
    "node_2_file = ch.play_node_wav(1762)\n",
    "display(node_1_file)\n",
    "display(node_2_file)\n",
    "# display(ch.play_node_source_wav(76605))"
   ]
  },
  {
   "cell_type": "code",
   "execution_count": null,
   "metadata": {
    "collapsed": true
   },
   "outputs": [],
   "source": [
    "plot_dtw(node_1_file, node_2_file)"
   ]
  },
  {
   "cell_type": "code",
   "execution_count": null,
   "metadata": {
    "collapsed": false
   },
   "outputs": [],
   "source": [
    "%run viewutils.ipynb\n",
    "node_id = 1761\n",
    "\n",
    "node_info = ch.node_dict[node_id]\n",
    "wav_file = node_info.wav_fil\n",
    "target_file = ch.file_info_dict[wav_file].target_file+\".wav\"\n",
    "es_words = ch.es_words_dict[wav_file]\n",
    "plot_name = \"output/bautismo_1761.pdf\"\n",
    "\n",
    "plot_specgram_words(target_file, es_words, plot_name, offset=(7,9))"
   ]
  },
  {
   "cell_type": "code",
   "execution_count": null,
   "metadata": {
    "collapsed": false
   },
   "outputs": [],
   "source": [
    "node_id = 1762\n",
    "\n",
    "node_info = ch.node_dict[node_id]\n",
    "wav_file = node_info.wav_fil\n",
    "target_file = ch.file_info_dict[wav_file].target_file+\".wav\"\n",
    "es_words = ch.es_words_dict[wav_file]\n",
    "plot_name = \"output/bautismo_1762.pdf\"\n",
    "\n",
    "plot_specgram_words(target_file, es_words, plot_name, offset=(9,11))"
   ]
  },
  {
   "cell_type": "code",
   "execution_count": null,
   "metadata": {
    "collapsed": false
   },
   "outputs": [],
   "source": [
    "2680-1710"
   ]
  },
  {
   "cell_type": "code",
   "execution_count": null,
   "metadata": {
    "collapsed": false
   },
   "outputs": [],
   "source": [
    "display(Audio(ch.play_pair_wav(5118)))"
   ]
  },
  {
   "cell_type": "code",
   "execution_count": null,
   "metadata": {
    "collapsed": true
   },
   "outputs": [],
   "source": [
    "# %run viewutils.ipynb\n",
    "\n",
    "# node_1 = ch.node_dict[1761]\n",
    "# node_2 = ch.node_dict[1762]\n",
    "\n",
    "# wav_1 = ch.file_info_dict[node_1.wav_fil].target_file+\".wav\"\n",
    "# wav_2 = ch.file_info_dict[node_2.wav_fil].target_file+\".wav\"\n",
    "\n",
    "# es_words_1 = ch.es_words_dict[node_1.wav_fil]\n",
    "# es_words_2 = ch.es_words_dict[node_2.wav_fil]\n",
    "# plot_name = \"output/dtw_pair_1761_1762.pdf\"\n",
    "# # print(wav_1, wav_2)\n",
    "# # print(es_words_1, es_words_2)\n",
    "# wav_1_time = (node_1.start, node_1.end)\n",
    "# wav_2_time = (node_2.start, node_2.end)\n",
    "# plot_dtw(wav_1, wav_2, es_words_1, es_words_2, \\\n",
    "#          wav_1_time, wav_2_time, plot_name)"
   ]
  },
  {
   "cell_type": "code",
   "execution_count": null,
   "metadata": {
    "collapsed": true
   },
   "outputs": [],
   "source": [
    "%run viewutils.ipynb"
   ]
  },
  {
   "cell_type": "code",
   "execution_count": null,
   "metadata": {
    "collapsed": true
   },
   "outputs": [],
   "source": [
    "tosave=False"
   ]
  },
  {
   "cell_type": "code",
   "execution_count": null,
   "metadata": {
    "collapsed": true
   },
   "outputs": [],
   "source": [
    "def plot_labels(n1_l, n2_l, dtw):\n",
    "    ax = plt.gca()\n",
    "    "
   ]
  },
  {
   "cell_type": "code",
   "execution_count": null,
   "metadata": {
    "collapsed": false
   },
   "outputs": [],
   "source": [
    "%run viewutils.ipynb\n",
    "display_pair_and_plot_dtw(5118, tosave=tosave, \\\n",
    "                          offset_1=(6,None), \\\n",
    "                          offset_2=(8,None), \\\n",
    "                          n_labels=(\"pair 1\", \"node 1\", \"node 2\"))"
   ]
  },
  {
   "cell_type": "code",
   "execution_count": null,
   "metadata": {
    "collapsed": false
   },
   "outputs": [],
   "source": [
    "display_pair_and_plot_dtw(15944, tosave=tosave, \\\n",
    "                          offset_1=(4,-2), \\\n",
    "                          offset_2=(3,-2), \\\n",
    "                          n_labels=(\"pair 2\", \"node 3\", \"node 4\"))"
   ]
  },
  {
   "cell_type": "code",
   "execution_count": null,
   "metadata": {
    "collapsed": false
   },
   "outputs": [],
   "source": [
    "print(ch.en_w_cnt_belief[44099])\n",
    "print(' & '.join([ch.i2w[w] for w in ch.en_w_cnt_belief[44099]]))\n",
    "print(' & '.join([\"{0:.2f}\".format(b) for b in ch.en_w_cnt_belief[44099].values()]))\n",
    "\n",
    "print([ch.i2w[w] for w in ch.en_w_cnt_belief[44100]])\n",
    "print([\"{0:.2f}\".format(b) for b in ch.en_w_cnt_belief[44100].values()])"
   ]
  },
  {
   "cell_type": "code",
   "execution_count": null,
   "metadata": {
    "collapsed": false
   },
   "outputs": [],
   "source": [
    "display_pair_and_plot_dtw(16848, tosave=tosave, \\\n",
    "                          offset_1=(6,9), \\\n",
    "                          offset_2=(1,4), \\\n",
    "                          n_labels=(\"pair 3\", \"node 5\", \"node 6\"))\n",
    "\n",
    "print(ch.node_dict[44099].es_cnt_words)\n",
    "print(ch.node_dict[44100].es_cnt_words)"
   ]
  },
  {
   "cell_type": "code",
   "execution_count": null,
   "metadata": {
    "collapsed": false
   },
   "outputs": [],
   "source": [
    "display_pair_and_plot_dtw(19326, tosave=tosave, \\\n",
    "                          offset_1=(0,3), \\\n",
    "                          offset_2=(0,3), \\\n",
    "                          n_labels=(\"pair 4\", \"node 7\", \"node 8\"))"
   ]
  },
  {
   "cell_type": "markdown",
   "metadata": {},
   "source": [
    "## Callhome 50, evad"
   ]
  },
  {
   "cell_type": "code",
   "execution_count": null,
   "metadata": {
    "collapsed": false
   },
   "outputs": [],
   "source": [
    "display_pair_and_plot_dtw(817, tosave=False)"
   ]
  },
  {
   "cell_type": "markdown",
   "metadata": {},
   "source": [
    "### High phoneme score"
   ]
  },
  {
   "cell_type": "code",
   "execution_count": null,
   "metadata": {
    "collapsed": true
   },
   "outputs": [],
   "source": [
    "df_phone_score_hi = df_valid[(df_valid['ES phone edit sim'] >= 0.6) \\\n",
    "                            & (df_valid['EN sim'] == 0)]\n",
    "print(\"Pairs with high phoneme similarity score: %d\" % len(df_phone_score_hi))\n",
    "\n",
    "f, ax = plt.subplots(figsize=(10, 6))\n",
    "df_phone_score_hi[['ZRT']].hist(ax=ax, alpha=0.7)\n",
    "ax.set_xlabel('phoneme similarity score >= 0.5', fontsize=16)\n",
    "# sns.rugplot(df_phone_score_0['ZRT'], color=\"b\", ax=ax)\n",
    "plt.tick_params(which='both', labelsize=12)\n",
    "# plt.colorbar(aplot)"
   ]
  },
  {
   "cell_type": "code",
   "execution_count": null,
   "metadata": {
    "collapsed": true
   },
   "outputs": [],
   "source": [
    "df_phone_score_hi[cols_to_show].head(5)"
   ]
  },
  {
   "cell_type": "code",
   "execution_count": null,
   "metadata": {
    "collapsed": true
   },
   "outputs": [],
   "source": [
    "display(Audio(ch.play_pair_wav(75)))"
   ]
  },
  {
   "cell_type": "markdown",
   "metadata": {},
   "source": [
    "## Low phoneme score"
   ]
  },
  {
   "cell_type": "code",
   "execution_count": null,
   "metadata": {
    "collapsed": false
   },
   "outputs": [],
   "source": [
    "df_phone_score_0 = df_valid[(df_valid['ES phone edit sim'] == 0)]\n",
    "print(\"Pairs with 0 phoneme similarity score: %d\" % len(df_phone_score_0))\n",
    "\n",
    "f, ax = plt.subplots(figsize=(10, 6))\n",
    "df_phone_score_0[['ZRT']].hist(ax=ax, alpha=0.7)\n",
    "ax.set_xlabel('phoneme similarity score = 0', fontsize=16)\n",
    "# sns.rugplot(df_phone_score_0['ZRT'], color=\"b\", ax=ax)\n",
    "plt.tick_params(which='both', labelsize=12)\n",
    "# plt.colorbar(aplot)"
   ]
  },
  {
   "cell_type": "markdown",
   "metadata": {},
   "source": [
    "** Analysis:** The plot shows a lot of high DTW score pairs where there is no match in the phonemes"
   ]
  },
  {
   "cell_type": "code",
   "execution_count": null,
   "metadata": {
    "collapsed": false
   },
   "outputs": [],
   "source": [
    "df_phone_score_0_high_dtw = df_phone_score_0[df_phone_score_0['ZRT'] > 0.87]\n",
    "print(\"Pairs with high DTW and 0 phoneme similarity score: %d\" % len(df_phone_score_0_high_dtw))\n",
    "\n",
    "display(df_phone_score_0_high_dtw[cols_to_show].head(3))\n",
    "# ch.play_pair_wav(28)"
   ]
  },
  {
   "cell_type": "code",
   "execution_count": null,
   "metadata": {
    "collapsed": false
   },
   "outputs": [],
   "source": [
    "df_phone_score_0_en_score_0 = df_phone_score_0[df_phone_score_0['EN sim'] == 0]\n",
    "print(\"Pairs with 0 phoneme score and 0 EN sim: %d\" % len(df_phone_score_0_en_score_0))\n",
    "# display(df_phone_score_0_en_score_0[cols_to_show][df_phone_score_0_en_score_0['ZRT'] < 0.82].head(3))\n",
    "display(df_phone_score_0_en_score_0[cols_to_show].head(3))\n",
    "\n",
    "df_phone_score_0_high_dtw_en_score_0 = df_phone_score_0_high_dtw[df_phone_score_0_high_dtw['EN sim'] == 0]\n",
    "print(\"Pairs with high DTW and 0 phoneme score and 0 EN sim: %d\" % len(df_phone_score_0_high_dtw_en_score_0))\n",
    "display(df_phone_score_0_high_dtw_en_score_0[cols_to_show].head(3))"
   ]
  },
  {
   "cell_type": "code",
   "execution_count": null,
   "metadata": {
    "collapsed": false
   },
   "outputs": [],
   "source": [
    "# display(ch.play_pair_wav(594, detail=True))\n",
    "display(ch.play_pair_wav(52, detail=False))\n",
    "# display(ch.play_node_source_wav(131))"
   ]
  },
  {
   "cell_type": "code",
   "execution_count": null,
   "metadata": {
    "collapsed": false
   },
   "outputs": [],
   "source": [
    "ch.file_info_dict[\"049.156\"].source_file"
   ]
  },
  {
   "cell_type": "code",
   "execution_count": null,
   "metadata": {
    "collapsed": false
   },
   "outputs": [],
   "source": [
    "# !soxi ../../corpora/callhome_es/out/006.183.wav\n",
    "# !play ../../corpora/callhome_es/out/006.183.wav trim 1.24\n",
    "# IPython.display.Audio(\"../../corpora/callhome_es/out/tmp/sp_0731_1.wav\")"
   ]
  },
  {
   "cell_type": "markdown",
   "metadata": {},
   "source": [
    "### Conclusion\n",
    "\n",
    "**Pairs with high DTW and 0 phoneme and 0 EN word similarity indicate transcription errors or coding errors**\n",
    "\n",
    "\n",
    "**Need to investigate**"
   ]
  },
  {
   "cell_type": "markdown",
   "metadata": {},
   "source": [
    "### High Phoneme similarity"
   ]
  },
  {
   "cell_type": "code",
   "execution_count": null,
   "metadata": {
    "collapsed": false
   },
   "outputs": [],
   "source": [
    "# df_phone_score_hi = df_valid[(df_valid['ES phone edit sim'] >= 0.5)]\n",
    "# print(\"Pairs with high phoneme similarity score: %d\" % len(df_phone_score_hi))\n",
    "\n",
    "f, ax = plt.subplots(figsize=(10, 6))\n",
    "df_valid['ZRT'].hist(ax=ax, alpha=0.3)\n",
    "df_phone_score_hi['ZRT'].hist(ax=ax, alpha=0.7)\n",
    "ax.set_xlabel('phoneme similarity score > 0.5', fontsize=16)\n",
    "# sns.rugplot(df_phone_score_0['ZRT'], color=\"b\", ax=ax)\n",
    "plt.tick_params(which='both', labelsize=12)\n",
    "# plt.colorbar(aplot)"
   ]
  },
  {
   "cell_type": "code",
   "execution_count": null,
   "metadata": {
    "collapsed": true
   },
   "outputs": [],
   "source": [
    "df_phone_score_hi_en_score_0 = df_phone_score_hi[(df_phone_score_hi['EN sim'] == 0) & \\\n",
    "                                                (df_phone_score_hi['spk1'] != df_phone_score_hi['spk2'])]\n",
    "print(\"Pairs with high phoneme score and 0 EN sim: %d\" % len(df_phone_score_hi_en_score_0))\n",
    "\n",
    "df_phone_score_hi_en_score_0[cols_to_show].head(5)"
   ]
  },
  {
   "cell_type": "code",
   "execution_count": null,
   "metadata": {
    "collapsed": true
   },
   "outputs": [],
   "source": [
    "ch.play_pair_wav(70)"
   ]
  },
  {
   "cell_type": "markdown",
   "metadata": {},
   "source": [
    "## High DTW score, Low EN translation similarity"
   ]
  },
  {
   "cell_type": "markdown",
   "metadata": {},
   "source": [
    "These are expected to be phonetically similary but semantically different pairs.\n",
    "\n",
    "**Label Spreading** should help **lower** the DTW score"
   ]
  },
  {
   "cell_type": "code",
   "execution_count": null,
   "metadata": {
    "collapsed": false
   },
   "outputs": [],
   "source": [
    "df_valid['ZRT'][(df_valid['EN sim'] == 0)].hist()\n",
    "print(len(df_valid['ZRT'][(df_valid['EN sim'] == 0)]))"
   ]
  },
  {
   "cell_type": "code",
   "execution_count": null,
   "metadata": {
    "collapsed": false
   },
   "outputs": [],
   "source": [
    "df_high_dtw_0_en = df_valid[(df_valid['ZRT'] > 0.87) \\\n",
    "                            & (df_valid['EN sim'] >= 0.2) & \\\n",
    "                            (df_valid['spk1'] != df_valid['spk2'])]"
   ]
  },
  {
   "cell_type": "code",
   "execution_count": null,
   "metadata": {
    "collapsed": false
   },
   "outputs": [],
   "source": [
    "print(\"Pairs with high DTW annd 0 EN sim: %d\" % len(df_high_dtw_0_en))\n",
    "df_high_dtw_0_en[cols_to_show].head(5)"
   ]
  },
  {
   "cell_type": "code",
   "execution_count": null,
   "metadata": {
    "collapsed": false,
    "scrolled": true
   },
   "outputs": [],
   "source": [
    "display(Audio(ch.play_pair_wav(105, detail=True)))"
   ]
  },
  {
   "cell_type": "code",
   "execution_count": null,
   "metadata": {
    "collapsed": false
   },
   "outputs": [],
   "source": [
    "# !play ../../corpora/callhome_es/out/001.202.wav trim .75 =.99"
   ]
  },
  {
   "cell_type": "markdown",
   "metadata": {},
   "source": [
    "## Low DTW score, High EN translation similarity"
   ]
  },
  {
   "cell_type": "markdown",
   "metadata": {},
   "source": [
    "These are expected to be semantically similar but phonetically not very similar.\n",
    "\n",
    "**Label Spreading** should help **increase** the DTW score"
   ]
  },
  {
   "cell_type": "code",
   "execution_count": null,
   "metadata": {
    "collapsed": false
   },
   "outputs": [],
   "source": [
    "df_valid['ZRT'][(df_valid['EN sim'] >= 0.2)].hist()"
   ]
  },
  {
   "cell_type": "code",
   "execution_count": null,
   "metadata": {
    "collapsed": true
   },
   "outputs": [],
   "source": [
    "df_low_dtw_high_en = df_valid[(df_valid['ZRT'] < 0.88) & (df_valid['EN sim'] >= 0.2)]"
   ]
  },
  {
   "cell_type": "code",
   "execution_count": null,
   "metadata": {
    "collapsed": false
   },
   "outputs": [],
   "source": [
    "print(\"Pairs with high DTW annd 0 EN sim: %d\" % len(df_low_dtw_high_en))\n",
    "df_low_dtw_high_en[cols_to_show].tail()"
   ]
  },
  {
   "cell_type": "code",
   "execution_count": null,
   "metadata": {
    "collapsed": false
   },
   "outputs": [],
   "source": [
    "display(Audio(ch.play_pair_wav(19326, detail=True)))"
   ]
  },
  {
   "cell_type": "markdown",
   "metadata": {},
   "source": [
    "## Precision / Recall"
   ]
  },
  {
   "cell_type": "code",
   "execution_count": null,
   "metadata": {
    "collapsed": false
   },
   "outputs": [],
   "source": [
    "df_valid[cols_to_show].head()"
   ]
  },
  {
   "cell_type": "code",
   "execution_count": null,
   "metadata": {
    "collapsed": false,
    "scrolled": true
   },
   "outputs": [],
   "source": [
    "ch.eval_precision_recall()"
   ]
  },
  {
   "cell_type": "code",
   "execution_count": null,
   "metadata": {
    "collapsed": false,
    "scrolled": false
   },
   "outputs": [],
   "source": [
    "ch.eval_precision_recall(sim_col='sim mixed')"
   ]
  },
  {
   "cell_type": "code",
   "execution_count": 139,
   "metadata": {
    "collapsed": false,
    "scrolled": true
   },
   "outputs": [
    {
     "name": "stdout",
     "output_type": "stream",
     "text": [
      "# eval scores: 1355\n",
      "# good scores: 188\n",
      "#  bad scores: 1167\n",
      "Average Precision - using sim: zrt_sim\n",
      "----------------------------------------\n",
      "\t0.37782\n",
      "----------------------------------------\n",
      "# eval scores: 1355\n",
      "# good scores: 188\n",
      "#  bad scores: 1167\n",
      "Average Precision - using sim: sim mixed\n",
      "----------------------------------------\n",
      "\t0.58698\n",
      "----------------------------------------\n"
     ]
    },
    {
     "ename": "NameError",
     "evalue": "global name 'both' is not defined",
     "output_type": "error",
     "traceback": [
      "\u001b[0;31m---------------------------------------------------------------------------\u001b[0m",
      "\u001b[0;31mNameError\u001b[0m                                 Traceback (most recent call last)",
      "\u001b[0;32m<ipython-input-139-af9f6a5da6e8>\u001b[0m in \u001b[0;36m<module>\u001b[0;34m()\u001b[0m\n\u001b[0;32m----> 1\u001b[0;31m \u001b[0mch\u001b[0m\u001b[0;34m.\u001b[0m\u001b[0mminiplot_precision_recall\u001b[0m\u001b[0;34m(\u001b[0m\u001b[0;34m)\u001b[0m\u001b[0;34m\u001b[0m\u001b[0m\n\u001b[0m\u001b[1;32m      2\u001b[0m \u001b[0;34m\u001b[0m\u001b[0m\n\u001b[1;32m      3\u001b[0m \u001b[0;31m# fiig = plt.gcf()\u001b[0m\u001b[0;34m\u001b[0m\u001b[0;34m\u001b[0m\u001b[0m\n\u001b[1;32m      4\u001b[0m \u001b[0;31m# fiig.savefig(\"output/train_50_evad_avg_precision.pdf\")\u001b[0m\u001b[0;34m\u001b[0m\u001b[0;34m\u001b[0m\u001b[0m\n\u001b[1;32m      5\u001b[0m \u001b[0;31m# fiig.savefig(\"output/train_50_evad_avg_precision.png\")\u001b[0m\u001b[0;34m\u001b[0m\u001b[0;34m\u001b[0m\u001b[0m\n",
      "\u001b[0;32m/disk/scratch/s1444673/zero/explore/joint/speechutils.py\u001b[0m in \u001b[0;36mminiplot_precision_recall\u001b[0;34m(self)\u001b[0m\n\u001b[1;32m   1241\u001b[0m         \u001b[0max_roc\u001b[0m \u001b[0;34m=\u001b[0m \u001b[0mplt\u001b[0m\u001b[0;34m.\u001b[0m\u001b[0msubplot2grid\u001b[0m\u001b[0;34m(\u001b[0m\u001b[0;34m(\u001b[0m\u001b[0;36m1\u001b[0m\u001b[0;34m,\u001b[0m\u001b[0;36m1\u001b[0m\u001b[0;34m)\u001b[0m\u001b[0;34m,\u001b[0m\u001b[0;34m(\u001b[0m\u001b[0;36m0\u001b[0m\u001b[0;34m,\u001b[0m \u001b[0;36m0\u001b[0m\u001b[0;34m)\u001b[0m\u001b[0;34m)\u001b[0m\u001b[0;34m\u001b[0m\u001b[0m\n\u001b[1;32m   1242\u001b[0m         \u001b[0max_roc\u001b[0m\u001b[0;34m.\u001b[0m\u001b[0mplot\u001b[0m\u001b[0;34m(\u001b[0m\u001b[0mir_vals\u001b[0m\u001b[0;34m,\u001b[0m \u001b[0mr_vals\u001b[0m\u001b[0;34m,\u001b[0m \u001b[0mlabel\u001b[0m\u001b[0;34m=\u001b[0m\u001b[0;34m'orig'\u001b[0m\u001b[0;34m)\u001b[0m\u001b[0;34m\u001b[0m\u001b[0m\n\u001b[0;32m-> 1243\u001b[0;31m         \u001b[0;32mif\u001b[0m \u001b[0mboth\u001b[0m\u001b[0;34m:\u001b[0m\u001b[0;34m\u001b[0m\u001b[0m\n\u001b[0m\u001b[1;32m   1244\u001b[0m             \u001b[0max_roc\u001b[0m\u001b[0;34m.\u001b[0m\u001b[0mplot\u001b[0m\u001b[0;34m(\u001b[0m\u001b[0mir_i_vals\u001b[0m\u001b[0;34m,\u001b[0m \u001b[0mr_i_vals\u001b[0m\u001b[0;34m,\u001b[0m \u001b[0mlabel\u001b[0m\u001b[0;34m=\u001b[0m\u001b[0;34m'interp'\u001b[0m\u001b[0;34m)\u001b[0m\u001b[0;34m\u001b[0m\u001b[0m\n\u001b[1;32m   1245\u001b[0m         \u001b[0max_roc\u001b[0m\u001b[0;34m.\u001b[0m\u001b[0mset_ylabel\u001b[0m\u001b[0;34m(\u001b[0m\u001b[0;34m\"TPR\"\u001b[0m\u001b[0;34m,\u001b[0m \u001b[0mfontsize\u001b[0m\u001b[0;34m=\u001b[0m\u001b[0;36m20\u001b[0m\u001b[0;34m)\u001b[0m\u001b[0;34m\u001b[0m\u001b[0m\n",
      "\u001b[0;31mNameError\u001b[0m: global name 'both' is not defined"
     ]
    },
    {
     "data": {
      "image/png": "[encoded data removed]",
      "text/plain": [
       "<matplotlib.figure.Figure at 0x7ff7637f8290>"
      ]
     },
     "metadata": {},
     "output_type": "display_data"
    },
    {
     "data": {
      "image/png": "[encoded data removed]",
      "text/plain": [
       "<matplotlib.figure.Figure at 0x7ff781f428d0>"
      ]
     },
     "metadata": {},
     "output_type": "display_data"
    }
   ],
   "source": [
    "ch.miniplot_precision_recall()\n",
    "\n",
    "# fiig = plt.gcf()\n",
    "# fiig.savefig(\"output/train_50_evad_avg_precision.pdf\")\n",
    "# fiig.savefig(\"output/train_50_evad_avg_precision.png\")"
   ]
  },
  {
   "cell_type": "markdown",
   "metadata": {},
   "source": [
    "## Cross-utterance matches"
   ]
  },
  {
   "cell_type": "code",
   "execution_count": null,
   "metadata": {
    "collapsed": false
   },
   "outputs": [],
   "source": [
    "set_speakers_calls = set()\n",
    "spk1_ids = [s.rsplit('.', 1)[0] for s in df_valid['spk1'].values]\n",
    "spk2_ids = [s.rsplit('.', 1)[0] for s in df_valid['spk2'].values]\n",
    "set_speakers_calls |= set(spk1_ids)\n",
    "set_speakers_calls |= set(spk2_ids)\n",
    "\n",
    "num_speakers = len(set_speakers_calls)\n",
    "cross_spk_counts = np.zeros((num_speakers, num_speakers), dtype=np.int)\n",
    "label2i = {k:i for i, k in enumerate(set_speakers_calls)}\n",
    "i2label = {i:k for i, k in enumerate(set_speakers_calls)}\n",
    "\n",
    "lol = 0\n",
    "for spk1, spk2 in zip(spk1_ids, spk2_ids):\n",
    "    if spk1 != spk2:\n",
    "        lol += 1\n",
    "        cross_spk_counts[max(label2i[spk1], label2i[spk2]), min(label2i[spk1], label2i[spk2])] += 1\n",
    "        cross_spk_counts[min(label2i[spk1], label2i[spk2]), max(label2i[spk1], label2i[spk2])] += 1\n",
    "    else:\n",
    "        #cross_spk_counts[label2i[spk1], label2i[spk2]] += 1\n",
    "        pass\n",
    "\n",
    "print(\"Total speakers: %d\" % num_speakers)"
   ]
  },
  {
   "cell_type": "code",
   "execution_count": null,
   "metadata": {
    "collapsed": false
   },
   "outputs": [],
   "source": [
    "f, ax = plt.subplots(figsize=(8, 8))\n",
    "cmap = sns.diverging_palette(220, 10, as_cmap=True)\n",
    "\n",
    "with sns.axes_style(\"white\"):\n",
    "    ax = sns.heatmap(cross_spk_counts, square=True, annot=False, \\\n",
    "                 fmt=\"d\", linewidths=.5, cbar=False, xticklabels=2, yticklabels=2)\n",
    "ax.xaxis.tick_top()\n",
    "f.savefig(\"output/train_20_only_cross_spkrs.pdf\")\n",
    "f.savefig(\"output/train_20_only_cross_spkrs.png\")"
   ]
  },
  {
   "cell_type": "code",
   "execution_count": null,
   "metadata": {
    "collapsed": false
   },
   "outputs": [],
   "source": [
    "# df_valid.columns\n",
    "df_cross_spkr = df_valid[df_valid.apply(lambda row: row['spk1'].rsplit('.', 1)[0] != \\\n",
    "                                   row['spk2'].rsplit('.', 1)[0], \\\n",
    "                                   axis=1)]\n",
    "print(\"# of cross-speaker pairs: %d\" % (len(df_cross_spkr)))\n",
    "display(df_cross_spkr[cols_to_show].head(5))\n",
    "#df_cross_spkr['ZRT'].hist()"
   ]
  },
  {
   "cell_type": "code",
   "execution_count": null,
   "metadata": {
    "collapsed": false
   },
   "outputs": [],
   "source": [
    "df_cross_spkr_bad_zrt_good_en = df_cross_spkr[(df_cross_spkr['ZRT'] <= 0.87)\\\n",
    "                                              & (df_cross_spkr['EN sim'] > 0.2)]\n",
    "print(\"# of cross-speaker pairs: %d\" % (len(df_cross_spkr_bad_zrt_good_en)))\n",
    "display(df_cross_spkr_bad_zrt_good_en[cols_to_show].head(10))"
   ]
  },
  {
   "cell_type": "code",
   "execution_count": null,
   "metadata": {
    "collapsed": false
   },
   "outputs": [],
   "source": [
    "display(Audio(ch.play_pair_wav(16848)))"
   ]
  },
  {
   "cell_type": "markdown",
   "metadata": {},
   "source": [
    "## Speakers/utterances with most matches"
   ]
  },
  {
   "cell_type": "code",
   "execution_count": null,
   "metadata": {
    "collapsed": false
   },
   "outputs": [],
   "source": [
    "df_spkr_matches = df_valid.apply(lambda row: row['spk1'].rsplit('.', 1)[0] != \\\n",
    "                                   row['spk2'].rsplit('.', 1)[0], \\\n",
    "                                   axis=1)\n",
    "print(\"# of cross-speaker pairs: %d\" % (len(df_cross_spkr)))\n",
    "display(df_cross_spkr[cols_to_show].head(3))\n",
    "df_cross_spkr['ZRT'].hist()"
   ]
  },
  {
   "cell_type": "markdown",
   "metadata": {},
   "source": [
    "## s"
   ]
  },
  {
   "cell_type": "code",
   "execution_count": null,
   "metadata": {
    "collapsed": true
   },
   "outputs": [],
   "source": []
  },
  {
   "cell_type": "markdown",
   "metadata": {},
   "source": [
    "## Label Spreading - speech pair similarity score update using English translations"
   ]
  },
  {
   "cell_type": "code",
   "execution_count": null,
   "metadata": {
    "collapsed": false
   },
   "outputs": [],
   "source": [
    "ch.label_prop_edges.label_spread(ch.en_w_hgr_sim_0)"
   ]
  },
  {
   "cell_type": "code",
   "execution_count": null,
   "metadata": {
    "collapsed": false
   },
   "outputs": [],
   "source": [
    "print(ch.label_prop_edges.belief_0[1])\n",
    "print(ch.label_prop_edges.belief_n[1])\n",
    "print(ch.en_w_hgr_sim_0[1], ch.en_w_hgr_sim_0[2])"
   ]
  },
  {
   "cell_type": "code",
   "execution_count": null,
   "metadata": {
    "collapsed": false
   },
   "outputs": [],
   "source": [
    "df_valid[cols_to_show].sort_values(['ZRT'], ascending=False)"
   ]
  },
  {
   "cell_type": "code",
   "execution_count": null,
   "metadata": {
    "collapsed": false
   },
   "outputs": [],
   "source": [
    "display(ch.play_pair_wav(84, detail=True))"
   ]
  },
  {
   "cell_type": "code",
   "execution_count": null,
   "metadata": {
    "collapsed": false
   },
   "outputs": [],
   "source": [
    "(0.9 * 0.8) + (0.1 * 0.7)"
   ]
  },
  {
   "cell_type": "code",
   "execution_count": null,
   "metadata": {
    "collapsed": false
   },
   "outputs": [],
   "source": [
    "df_valid.columns"
   ]
  },
  {
   "cell_type": "code",
   "execution_count": null,
   "metadata": {
    "collapsed": false
   },
   "outputs": [],
   "source": [
    "sns.jointplot(x='ZRT', y='ES cont match', data=df_valid, kind='kde')"
   ]
  },
  {
   "cell_type": "code",
   "execution_count": null,
   "metadata": {
    "collapsed": false
   },
   "outputs": [],
   "source": [
    "df_valid.columns"
   ]
  },
  {
   "cell_type": "code",
   "execution_count": null,
   "metadata": {
    "collapsed": true
   },
   "outputs": [],
   "source": [
    "%run viewutils.ipynb"
   ]
  },
  {
   "cell_type": "code",
   "execution_count": null,
   "metadata": {
    "collapsed": false
   },
   "outputs": [],
   "source": [
    "# plot_hist_dtw(df_valid, plot_name=\"output/train_20_energy_vad_hist.pdf\")\n",
    "plot_hist_dtw(df_valid, plot_name=\"output/train_20_transcript_vad_hist.pdf\")"
   ]
  },
  {
   "cell_type": "code",
   "execution_count": null,
   "metadata": {
    "collapsed": false
   },
   "outputs": [],
   "source": [
    "%%timeit -n1 -r1\n",
    "ch_eval.label_prop_en_words.label_spread(ch_eval.edges_dict)\n",
    "print(ch_eval.edges_dict[1])\n",
    "print(ch_eval.en_w_belief[1])\n",
    "print(ch_eval.en_w_belief[2])\n",
    "print(ch_eval.label_prop_en_words.belief_0[1])\n",
    "print(ch_eval.label_prop_en_words.belief_n[1])\n",
    "\n",
    "print(len(ch_eval.en_vocab))\n",
    "print(sorted(ch_eval.en_words_stats.items(), reverse=True, key= lambda x: x[1])[:5])\n",
    "print(ch_eval.en_w_sim_0[1])\n",
    "print(ch_eval.label_prop_en_words.belief_0[1])\n",
    "print(ch_eval.label_prop_en_words.belief_n[1])\n",
    "print(ch_eval.label_prop_en_words.belief_0[2])\n",
    "print(ch_eval.label_prop_en_words.belief_n[2])"
   ]
  },
  {
   "cell_type": "markdown",
   "metadata": {},
   "source": [
    "Trying line plots for metrics"
   ]
  },
  {
   "cell_type": "code",
   "execution_count": 108,
   "metadata": {
    "collapsed": false
   },
   "outputs": [
    {
     "data": {
      "image/png": "[encoded data removed]",
      "text/plain": [
       "<matplotlib.figure.Figure at 0x7ff7a9fda550>"
      ]
     },
     "metadata": {},
     "output_type": "display_data"
    }
   ],
   "source": [
    "pairs = pd.Series([0.69, 0.79, 0.37, 0.58, 0.268, 0.484, 0.144, 0.328])\n",
    "cats = pd.Series(['20 evad: AP', '20 evad: AP w/translations', \\\n",
    "                  '50 evad: AP', '50 evad: AP w/translations', \\\n",
    "                  '20 vad: AP', '20 vad: AP w/translations', \\\n",
    "                  '50 vad: AP', '50 vad: AP w/translations'])\n",
    "sns.barplot(x=pairs, y=cats, palette=\"Greens_d\");\n",
    "\n",
    "fig = plt.gcf()\n",
    "fig.savefig(\"output/avgprecision.pdf\")"
   ]
  },
  {
   "cell_type": "code",
   "execution_count": 183,
   "metadata": {
    "collapsed": false
   },
   "outputs": [
    {
     "data": {
      "text/html": [
       "<div>\n",
       "<table border=\"1\" class=\"dataframe\">\n",
       "  <thead>\n",
       "    <tr style=\"text-align: right;\">\n",
       "      <th></th>\n",
       "      <th>A</th>\n",
       "      <th>B</th>\n",
       "    </tr>\n",
       "  </thead>\n",
       "  <tbody>\n",
       "    <tr>\n",
       "      <th>config</th>\n",
       "      <td>A</td>\n",
       "      <td>B</td>\n",
       "    </tr>\n",
       "    <tr>\n",
       "      <th>good</th>\n",
       "      <td>1</td>\n",
       "      <td>2</td>\n",
       "    </tr>\n",
       "    <tr>\n",
       "      <th>total</th>\n",
       "      <td>3</td>\n",
       "      <td>4</td>\n",
       "    </tr>\n",
       "  </tbody>\n",
       "</table>\n",
       "</div>"
      ],
      "text/plain": [
       "        A  B\n",
       "config  A  B\n",
       "good    1  2\n",
       "total   3  4"
      ]
     },
     "execution_count": 183,
     "metadata": {},
     "output_type": "execute_result"
    }
   ],
   "source": [
    "pairs = {}\n",
    "pairs['A'] = {'config':'A', 'good':1, 'total':3}\n",
    "pairs['B'] = {'config':'B', 'good':2, 'total':4}\n",
    "testpd = pd.DataFrame.from_dict(pairs)\n",
    "# sns.barplot(y='A', x='good', data=testpd)\n",
    "testpd"
   ]
  }
 ],
 "metadata": {
  "kernelspec": {
   "display_name": "Python 2",
   "language": "python",
   "name": "python2"
  },
  "language_info": {
   "codemirror_mode": {
    "name": "ipython",
    "version": 2
   },
   "file_extension": ".py",
   "mimetype": "text/x-python",
   "name": "python",
   "nbconvert_exporter": "python",
   "pygments_lexer": "ipython2",
   "version": "2.7.12"
  }
 },
 "nbformat": 4,
 "nbformat_minor": 0
}
