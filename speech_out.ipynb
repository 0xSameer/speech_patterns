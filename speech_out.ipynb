{
 "cells": [
  {
   "cell_type": "code",
   "execution_count": 78,
   "metadata": {
    "collapsed": true
   },
   "outputs": [],
   "source": [
    "# -*- coding: utf-8 -*-"
   ]
  },
  {
   "cell_type": "code",
   "execution_count": 79,
   "metadata": {
    "collapsed": false
   },
   "outputs": [],
   "source": [
    "from __future__ import division\n",
    "from IPython.display import Audio\n",
    "%matplotlib inline\n",
    "from IPython.display import display\n",
    "# plt.rc('text', usetex=True)\n",
    "# plt.rc('font', family='serif')"
   ]
  },
  {
   "cell_type": "code",
   "execution_count": 80,
   "metadata": {
    "collapsed": false
   },
   "outputs": [],
   "source": [
    "%run \"speechutils.py\"\n",
    "%run \"viewutils.ipynb\""
   ]
  },
  {
   "cell_type": "code",
   "execution_count": 81,
   "metadata": {
    "collapsed": true
   },
   "outputs": [
    {
     "name": "stdout",
     "output_type": "stream",
     "text": [
      "../../ZRTools/exp/callhome_train_50/matches/config0.80-0.90-0.80-50/master_graph.nodes\n",
      "Loading prep state dictionary ...\n",
      "Finished loading prep state dictionary ...\n",
      "Finished ...\n",
      "Processing line: 100000\n",
      "Processing line: 200000\n",
      "Processing line: 300000\n",
      "Processing line: 400000\n",
      "Processing line: 500000\n",
      "Processing line: 600000\n",
      "Finished - reading nodes ...\n",
      "Processing line: 1\n",
      "Processing line: 100001\n",
      "Processing line: 200001\n",
      "Processing line: 300001\n",
      "Finished - reading edges ...\n",
      "Removing duplicates in pairs list\n",
      "Set length: 125085 and List length: 313761\n",
      "Generating vocabulary of English words ... \n",
      "Finished vocab ...\n",
      "Generating initial belief over English translations\n",
      "Processed 1 nodes\n",
      "Processed 100001 nodes\n",
      "Processed 200001 nodes\n",
      "Processed 300001 nodes\n",
      "Processed 400001 nodes\n",
      "Processed 500001 nodes\n",
      "Processed 600001 nodes\n",
      "Generating similarity between nodes based on English translations ...\n",
      "Finished generating similarity ...\n",
      "Generating similarity between nodes based on English translations ...\n",
      "Finished generating similarity ...\n",
      "Processing line: 1\n",
      "Processing line: 3001\n",
      "Processing line: 6001\n",
      "Processing line: 9001\n",
      "Processing line: 12001\n",
      "Processing line: 15001\n",
      "Processing line: 18001\n",
      "Processing line: 21001\n",
      "Processing line: 24001\n",
      "Processing line: 27001\n",
      "Processing line: 30001\n",
      "Processing line: 33001\n",
      "Processing line: 36001\n",
      "Processing line: 39001\n",
      "Processing line: 42001\n",
      "Processing line: 45001\n",
      "Processing line: 48001\n",
      "Processing line: 51001\n",
      "Processing line: 54001\n",
      "Processing line: 57001\n",
      "Processing line: 60001\n",
      "Processing line: 63001\n",
      "Processing line: 66001\n",
      "Processing line: 69001\n",
      "Processing line: 72001\n",
      "Processing line: 75001\n",
      "Processing line: 78001\n",
      "Processing line: 81001\n",
      "Processing line: 84001\n",
      "Processing line: 87001\n",
      "Processing line: 90001\n",
      "Processing line: 93001\n",
      "Processing line: 96001\n",
      "Processing line: 99001\n",
      "Processing line: 102001\n",
      "Processing line: 105001\n",
      "Processing line: 108001\n",
      "Processing line: 111001\n",
      "Processing line: 114001\n",
      "Processing line: 117001\n",
      "Processing line: 120001\n",
      "Processing line: 123001\n",
      "Total matches: 125085\n",
      "matches with missing transcriptions: 0\n",
      "matches with only sil, sp: 67106\n",
      "Finished - evaluating 125085 pairs ...\n",
      "Setting up eval data frame\n",
      "Finished ...\n",
      "Saving state dictionary ...\n",
      "Finished saving state dictionary ...\n",
      "Total wav files: 9165\n",
      "+--------------------------------------+-----------------------+------------------------+\n",
      "|                 Type                 | Total duration (secs) | Total duration (hours) |\n",
      "+--------------------------------------+-----------------------+------------------------+\n",
      "|         Utterance level VAD          |         30617         |          8.50          |\n",
      "+--------------------------------------+-----------------------+------------------------+\n",
      "| Transcript non sil/sp word durations |         24896         |          6.92          |\n",
      "+--------------------------------------+-----------------------+------------------------+\n",
      "|             Energy based             |          8276         |          2.30          |\n",
      "+--------------------------------------+-----------------------+------------------------+\n",
      "Interpolating similarity matrix ...\n",
      "Finished interpolating similarity matrix ...\n",
      "Updating data frame ...\n",
      "Finished updating data frame ...\n"
     ]
    }
   ],
   "source": [
    "ch = callhome_eval_init(\"config.json\", fast=False, alpha=.1)\n",
    "df_zrt, cols_to_show = ch.gen_zrt_df()"
   ]
  },
  {
   "cell_type": "code",
   "execution_count": 82,
   "metadata": {
    "collapsed": false
   },
   "outputs": [
    {
     "name": "stdout",
     "output_type": "stream",
     "text": [
      "Interpolating similarity matrix ...\n",
      "Finished interpolating similarity matrix ...\n",
      "Updating data frame ...\n",
      "Finished updating data frame ...\n"
     ]
    }
   ],
   "source": [
    "alpha = 0.5\n",
    "ch.interpolate_sim(alpha)\n",
    "df_zrt, cols_to_show = ch.gen_zrt_df()"
   ]
  },
  {
   "cell_type": "markdown",
   "metadata": {},
   "source": [
    "# Analyse ZRT output"
   ]
  },
  {
   "cell_type": "markdown",
   "metadata": {},
   "source": [
    "### Set up visualizations"
   ]
  },
  {
   "cell_type": "code",
   "execution_count": 83,
   "metadata": {
    "collapsed": false
   },
   "outputs": [],
   "source": [
    "def display_pair_and_plot_dtw(pair_id, tosave=False, \\\n",
    "                              offset_1=(0,-1), \\\n",
    "                              offset_2=(0,-1), \\\n",
    "                              n_labels=(\"pair 1\", \"node 1\", \"node 2\"), phones=False):\n",
    "    display(Audio(ch.play_pair_wav(pair_id)))\n",
    "\n",
    "    pair_info = ch.eval_pairs_list[pair_id]\n",
    "    node_1 = ch.node_dict[pair_info['n1']]\n",
    "    node_2 = ch.node_dict[pair_info['n2']]\n",
    "\n",
    "\n",
    "    wav_1 = ch.file_info_dict[node_1.wav_fil].target_file+\".wav\"\n",
    "    wav_2 = ch.file_info_dict[node_2.wav_fil].target_file+\".wav\"\n",
    "\n",
    "\n",
    "    if not phones:\n",
    "        es_words_1 = ch.es_words_dict[node_1.wav_fil]\n",
    "        es_words_2 = ch.es_words_dict[node_2.wav_fil]\n",
    "    else:\n",
    "        es_words_1 = ch.es_phones_dict[node_1.wav_fil]\n",
    "        es_words_2 = ch.es_phones_dict[node_2.wav_fil]\n",
    "    #plot_name = \"output/dtw_pair_1761_1762.pdf\"\n",
    "    # print(wav_1, wav_2)\n",
    "    # print(es_words_1, es_words_2)\n",
    "    wav_1_time = (node_1.start, node_1.end)\n",
    "    wav_2_time = (node_2.start, node_2.end)\n",
    "    plot_name = \"output/{0:d}.pdf\".format(pair_id)\n",
    "    if not tosave:\n",
    "        plot_name = \"\"\n",
    "        \n",
    "    plot_dtw(wav_1, wav_2, es_words_1, es_words_2, \\\n",
    "             wav_1_time, wav_2_time, pair_info['zrt_sim'], plot_name, \\\n",
    "             offset_1, offset_2, n_labels)"
   ]
  },
  {
   "cell_type": "code",
   "execution_count": 84,
   "metadata": {
    "collapsed": true
   },
   "outputs": [],
   "source": [
    "pd.options.display.float_format = '{:,.3f}'.format"
   ]
  },
  {
   "cell_type": "code",
   "execution_count": 85,
   "metadata": {
    "collapsed": false
   },
   "outputs": [],
   "source": [
    "# display(df_zrt.head(1))\n",
    "# display(df_zrt[cols_to_show].head(1))\n",
    "# print(df_zrt.columns)"
   ]
  },
  {
   "cell_type": "markdown",
   "metadata": {},
   "source": [
    "## Pairs discovered"
   ]
  },
  {
   "cell_type": "markdown",
   "metadata": {},
   "source": [
    "### Filter Pairs"
   ]
  },
  {
   "cell_type": "code",
   "execution_count": 86,
   "metadata": {
    "collapsed": false,
    "scrolled": true
   },
   "outputs": [
    {
     "name": "stdout",
     "output_type": "stream",
     "text": [
      "+-----------------------------------------+------------+\n",
      "|                             Description | # of pairs |\n",
      "+-----------------------------------------+------------+\n",
      "|                             Total pairs |   125085   |\n",
      "|             With sil, sp, or no matches |   67106    |\n",
      "| Pairs with speech segments and ES words |   57979    |\n",
      "+-----------------------------------------+------------+\n",
      "Total good scores: 8701, content good scores: 3740\n",
      "Total cross-speaker good scores: 4962, cross-speaker content good scores: 1193\n"
     ]
    }
   ],
   "source": [
    "# Pairs with no matches in ES transcripts or only ['sil','sp'] matches\n",
    "df_no_mtch_sil_only = df_zrt[(df_zrt['no_mtch'] == True) | (df_zrt['sil_only'] == True)]\n",
    "# Pairs only ['sil','sp'] matches\n",
    "df_sil_only = df_zrt[(df_zrt['sil_only'] == True)]\n",
    "# Pairs with no matches in ES transcripts, but no ['sil','sp'] detected\n",
    "df_no_mtch_not_sil = df_zrt[(df_zrt['no_mtch'] == True) & (df_zrt['sil_only'] == False)]\n",
    "\n",
    "# Pairs with ES words found for both nodes\n",
    "df_valid = df_zrt[(df_zrt['no_mtch'] == False) & (df_zrt['sil_only'] == False)]\n",
    "\n",
    "# Filtering two files:\n",
    "# df_valid = df_valid[df_valid.apply(lambda row: remove_invalid_files(row), axis=1)]\n",
    "# df_valid = df_valid[df_valid['dur'] > 600]\n",
    "\n",
    "# out_t = PrettyTable([\"Description\", \"# of pairs\"], hrules=True)\n",
    "out_t = PrettyTable([\"Description\", \"# of pairs\"])\n",
    "out_t.align['Description'] = 'r'\n",
    "out_t.add_row([\"Total pairs\", len(df_zrt)])\n",
    "out_t.add_row([\"With sil, sp, or no matches\", len(df_no_mtch_sil_only)])\n",
    "out_t.add_row([\"Pairs with speech segments and ES words\", len(df_valid)])\n",
    "print(out_t)\n",
    "# print(out_t.get_html_string())\n",
    "df_goodish = df_valid[(df_valid['ES word match']==1)]\n",
    "df_cnt_goodish = df_valid[(df_valid['ES cont match']==1)]\n",
    "df_xspk_goodish = df_valid[(df_valid['ES word match']==1) & (df_valid['cross_spk']==True)]\n",
    "df_cnt_xspk_goodish = df_valid[(df_valid['ES cont match']==1) & (df_valid['cross_spk']==True)]\n",
    "print(\"Total good scores: %d, content good scores: %d\" % (len(df_goodish), len(df_cnt_goodish)))\n",
    "print(\"Total cross-speaker good scores: %d, cross-speaker content good scores: %d\" % \\\n",
    "      (len(df_xspk_goodish), len(df_cnt_xspk_goodish)))\n"
   ]
  },
  {
   "cell_type": "code",
   "execution_count": 87,
   "metadata": {
    "collapsed": true
   },
   "outputs": [
    {
     "name": "stdout",
     "output_type": "stream",
     "text": [
      "Interpolating similarity matrix ...\n",
      "Finished interpolating similarity matrix ...\n",
      "Updating data frame ...\n",
      "Finished updating data frame ...\n",
      "0.0\n",
      "Interpolating similarity matrix ...\n",
      "Finished interpolating similarity matrix ...\n",
      "Updating data frame ...\n",
      "Finished updating data frame ...\n",
      "Computing precision recall, cross speaker = 0\n",
      "# eval scores: 57979\n",
      "# good scores: 3740\n",
      "#  bad scores: 54239\n",
      "Average Precision - using sim: sim mixed\n",
      "----------------------------------------\n",
      "\t0.14489\n",
      "----------------------------------------\n",
      "Accuracy - using sim: sim mixed\n",
      "----------------------------------------\n",
      "\t0.50000\n",
      "----------------------------------------\n",
      "Computing precision recall, cross speaker = 1\n",
      "# eval scores: 57979\n",
      "# good scores: 1193\n",
      "#  bad scores: 56786\n",
      "Average Precision - using sim: sim mixed\n",
      "----------------------------------------\n",
      "\t0.02178\n",
      "----------------------------------------\n",
      "Accuracy - using sim: sim mixed\n",
      "----------------------------------------\n",
      "\t0.50000\n",
      "----------------------------------------\n",
      "0.1\n",
      "Interpolating similarity matrix ...\n",
      "Finished interpolating similarity matrix ...\n",
      "Updating data frame ...\n",
      "Finished updating data frame ...\n",
      "Computing precision recall, cross speaker = 0\n",
      "# eval scores: 57979\n",
      "# good scores: 3740\n",
      "#  bad scores: 54239\n",
      "Average Precision - using sim: sim mixed\n",
      "----------------------------------------\n",
      "\t0.32875\n",
      "----------------------------------------\n",
      "Accuracy - using sim: sim mixed\n",
      "----------------------------------------\n",
      "\t0.50000\n",
      "----------------------------------------\n",
      "Computing precision recall, cross speaker = 1\n",
      "# eval scores: 57979\n",
      "# good scores: 1193\n",
      "#  bad scores: 56786\n",
      "Average Precision - using sim: sim mixed\n",
      "----------------------------------------\n",
      "\t0.02579\n",
      "----------------------------------------\n",
      "Accuracy - using sim: sim mixed\n",
      "----------------------------------------\n",
      "\t0.50000\n",
      "----------------------------------------\n",
      "0.2\n",
      "Interpolating similarity matrix ...\n",
      "Finished interpolating similarity matrix ...\n",
      "Updating data frame ...\n",
      "Finished updating data frame ...\n",
      "Computing precision recall, cross speaker = 0\n",
      "# eval scores: 57979\n",
      "# good scores: 3740\n",
      "#  bad scores: 54239\n",
      "Average Precision - using sim: sim mixed\n",
      "----------------------------------------\n",
      "\t0.38815\n",
      "----------------------------------------\n",
      "Accuracy - using sim: sim mixed\n",
      "----------------------------------------\n",
      "\t0.50000\n",
      "----------------------------------------\n",
      "Computing precision recall, cross speaker = 1\n",
      "# eval scores: 57979\n",
      "# good scores: 1193\n",
      "#  bad scores: 56786\n",
      "Average Precision - using sim: sim mixed\n",
      "----------------------------------------\n",
      "\t0.03051\n",
      "----------------------------------------\n",
      "Accuracy - using sim: sim mixed\n",
      "----------------------------------------\n",
      "\t0.50000\n",
      "----------------------------------------\n",
      "0.3\n",
      "Interpolating similarity matrix ...\n",
      "Finished interpolating similarity matrix ...\n",
      "Updating data frame ...\n",
      "Finished updating data frame ...\n",
      "Computing precision recall, cross speaker = 0\n",
      "# eval scores: 57979\n",
      "# good scores: 3740\n",
      "#  bad scores: 54239\n",
      "Average Precision - using sim: sim mixed\n",
      "----------------------------------------\n",
      "\t0.41383\n",
      "----------------------------------------\n",
      "Accuracy - using sim: sim mixed\n",
      "----------------------------------------\n",
      "\t0.50000\n",
      "----------------------------------------\n",
      "Computing precision recall, cross speaker = 1\n",
      "# eval scores: 57979\n",
      "# good scores: 1193\n",
      "#  bad scores: 56786\n",
      "Average Precision - using sim: sim mixed\n",
      "----------------------------------------\n",
      "\t0.03410\n",
      "----------------------------------------\n",
      "Accuracy - using sim: sim mixed\n",
      "----------------------------------------\n",
      "\t0.50000\n",
      "----------------------------------------\n",
      "0.4\n",
      "Interpolating similarity matrix ...\n",
      "Finished interpolating similarity matrix ...\n",
      "Updating data frame ...\n",
      "Finished updating data frame ...\n",
      "Computing precision recall, cross speaker = 0\n",
      "# eval scores: 57979\n",
      "# good scores: 3740\n",
      "#  bad scores: 54239\n",
      "Average Precision - using sim: sim mixed\n",
      "----------------------------------------\n",
      "\t0.42131\n",
      "----------------------------------------\n",
      "Accuracy - using sim: sim mixed\n",
      "----------------------------------------\n",
      "\t0.50000\n",
      "----------------------------------------\n",
      "Computing precision recall, cross speaker = 1\n",
      "# eval scores: 57979\n",
      "# good scores: 1193\n",
      "#  bad scores: 56786\n",
      "Average Precision - using sim: sim mixed\n",
      "----------------------------------------\n",
      "\t0.03636\n",
      "----------------------------------------\n",
      "Accuracy - using sim: sim mixed\n",
      "----------------------------------------\n",
      "\t0.50000\n",
      "----------------------------------------\n",
      "0.5\n",
      "Interpolating similarity matrix ...\n",
      "Finished interpolating similarity matrix ...\n",
      "Updating data frame ...\n",
      "Finished updating data frame ...\n",
      "Computing precision recall, cross speaker = 0\n",
      "# eval scores: 57979\n",
      "# good scores: 3740\n",
      "#  bad scores: 54239\n",
      "Average Precision - using sim: sim mixed\n",
      "----------------------------------------\n",
      "\t0.42083\n",
      "----------------------------------------\n",
      "Accuracy - using sim: sim mixed\n",
      "----------------------------------------\n",
      "\t0.50000\n",
      "----------------------------------------\n",
      "Computing precision recall, cross speaker = 1\n",
      "# eval scores: 57979\n",
      "# good scores: 1193\n",
      "#  bad scores: 56786\n",
      "Average Precision - using sim: sim mixed\n",
      "----------------------------------------\n",
      "\t0.03742\n",
      "----------------------------------------\n",
      "Accuracy - using sim: sim mixed\n",
      "----------------------------------------\n",
      "\t0.50000\n",
      "----------------------------------------\n",
      "0.6\n",
      "Interpolating similarity matrix ...\n",
      "Finished interpolating similarity matrix ...\n",
      "Updating data frame ...\n",
      "Finished updating data frame ...\n",
      "Computing precision recall, cross speaker = 0\n",
      "# eval scores: 57979\n",
      "# good scores: 3740\n",
      "#  bad scores: 54239\n",
      "Average Precision - using sim: sim mixed\n",
      "----------------------------------------\n",
      "\t0.41784\n",
      "----------------------------------------\n",
      "Accuracy - using sim: sim mixed\n",
      "----------------------------------------\n",
      "\t0.50000\n",
      "----------------------------------------\n",
      "Computing precision recall, cross speaker = 1\n",
      "# eval scores: 57979\n",
      "# good scores: 1193\n",
      "#  bad scores: 56786\n",
      "Average Precision - using sim: sim mixed\n",
      "----------------------------------------\n",
      "\t0.03808\n",
      "----------------------------------------\n",
      "Accuracy - using sim: sim mixed\n",
      "----------------------------------------\n",
      "\t0.50000\n",
      "----------------------------------------\n",
      "0.7\n",
      "Interpolating similarity matrix ...\n",
      "Finished interpolating similarity matrix ...\n",
      "Updating data frame ...\n",
      "Finished updating data frame ...\n",
      "Computing precision recall, cross speaker = 0\n",
      "# eval scores: 57979\n",
      "# good scores: 3740\n",
      "#  bad scores: 54239\n",
      "Average Precision - using sim: sim mixed\n",
      "----------------------------------------\n",
      "\t0.41499\n",
      "----------------------------------------\n",
      "Accuracy - using sim: sim mixed\n",
      "----------------------------------------\n",
      "\t0.50000\n",
      "----------------------------------------\n",
      "Computing precision recall, cross speaker = 1\n",
      "# eval scores: 57979\n",
      "# good scores: 1193\n",
      "#  bad scores: 56786\n",
      "Average Precision - using sim: sim mixed\n",
      "----------------------------------------\n",
      "\t0.03818\n",
      "----------------------------------------\n",
      "Accuracy - using sim: sim mixed\n",
      "----------------------------------------\n",
      "\t0.50000\n",
      "----------------------------------------\n",
      "0.8\n",
      "Interpolating similarity matrix ...\n",
      "Finished interpolating similarity matrix ...\n",
      "Updating data frame ...\n",
      "Finished updating data frame ...\n",
      "Computing precision recall, cross speaker = 0\n",
      "# eval scores: 57979\n",
      "# good scores: 3740\n",
      "#  bad scores: 54239\n",
      "Average Precision - using sim: sim mixed\n",
      "----------------------------------------\n",
      "\t0.41197\n",
      "----------------------------------------\n",
      "Accuracy - using sim: sim mixed\n",
      "----------------------------------------\n",
      "\t0.50000\n",
      "----------------------------------------\n",
      "Computing precision recall, cross speaker = 1\n",
      "# eval scores: 57979\n",
      "# good scores: 1193\n",
      "#  bad scores: 56786\n",
      "Average Precision - using sim: sim mixed\n",
      "----------------------------------------\n",
      "\t0.03843\n",
      "----------------------------------------\n",
      "Accuracy - using sim: sim mixed\n",
      "----------------------------------------\n",
      "\t0.50000\n",
      "----------------------------------------\n",
      "0.9\n",
      "Interpolating similarity matrix ...\n",
      "Finished interpolating similarity matrix ...\n",
      "Updating data frame ...\n",
      "Finished updating data frame ...\n",
      "Computing precision recall, cross speaker = 0\n",
      "# eval scores: 57979\n",
      "# good scores: 3740\n",
      "#  bad scores: 54239\n",
      "Average Precision - using sim: sim mixed\n",
      "----------------------------------------\n",
      "\t0.40896\n",
      "----------------------------------------\n",
      "Accuracy - using sim: sim mixed\n",
      "----------------------------------------\n",
      "\t0.50000\n",
      "----------------------------------------\n",
      "Computing precision recall, cross speaker = 1\n",
      "# eval scores: 57979\n",
      "# good scores: 1193\n",
      "#  bad scores: 56786\n",
      "Average Precision - using sim: sim mixed\n",
      "----------------------------------------\n",
      "\t0.03864\n",
      "----------------------------------------\n",
      "Accuracy - using sim: sim mixed\n",
      "----------------------------------------\n",
      "\t0.50000\n",
      "----------------------------------------\n",
      "1.0\n",
      "Interpolating similarity matrix ...\n",
      "Finished interpolating similarity matrix ...\n",
      "Updating data frame ...\n",
      "Finished updating data frame ...\n",
      "Computing precision recall, cross speaker = 0\n",
      "# eval scores: 57979\n",
      "# good scores: 3740\n",
      "#  bad scores: 54239\n",
      "Average Precision - using sim: sim mixed\n",
      "----------------------------------------\n",
      "\t0.38993\n",
      "----------------------------------------\n",
      "Accuracy - using sim: sim mixed\n",
      "----------------------------------------\n",
      "\t0.50000\n",
      "----------------------------------------\n",
      "Computing precision recall, cross speaker = 1\n",
      "# eval scores: 57979\n",
      "# good scores: 1193\n",
      "#  bad scores: 56786\n",
      "Average Precision - using sim: sim mixed\n",
      "----------------------------------------\n",
      "\t0.03946\n",
      "----------------------------------------\n",
      "Accuracy - using sim: sim mixed\n",
      "----------------------------------------\n",
      "\t0.50000\n",
      "----------------------------------------\n",
      "[0.1449, 0.3287, 0.3882, 0.4138, 0.4213, 0.4208, 0.4178, 0.415, 0.412, 0.409, 0.3899]\n",
      "[0.7317, 0.8093, 0.83, 0.8358, 0.8355, 0.8335, 0.8322, 0.8295, 0.8248, 0.806, 0.7957]\n",
      "[0.0218, 0.0258, 0.0305, 0.0341, 0.0364, 0.0374, 0.0381, 0.0382, 0.0384, 0.0386, 0.0395]\n",
      "[0.4813, 0.5359, 0.5636, 0.5755, 0.5791, 0.5803, 0.5814, 0.5779, 0.5736, 0.5586, 0.5516]\n"
     ]
    }
   ],
   "source": [
    "alpha = 0.1\n",
    "ch.interpolate_sim(alpha)\n",
    "\n",
    "ap_all = []\n",
    "acc_all = []\n",
    "ap_x = []\n",
    "acc_x = []\n",
    "\n",
    "for alpha in np.arange(0,1.1,.1):\n",
    "    print(alpha)\n",
    "    # Interpolate translation similarity\n",
    "    ch.interpolate_sim(alpha)\n",
    "    \n",
    "    # Calculate avg precision, accuracy for all matches\n",
    "    p_z, r_z, ir_z  = ch.eval_precision_recall(eval_col='cnt_es_w_sim', sim_col='sim mixed', cross_spk=False)\n",
    "    ap_all.append(np.trapz(p_z[::-1], r_z[::-1]))\n",
    "    acc_all.append(np.trapz(r_z[::-1], ir_z[::-1]))\n",
    "    \n",
    "    # Calculate avg precision, accuracy for cross-speaker matches\n",
    "    p_x, r_x, ir_x  = ch.eval_precision_recall(eval_col='cnt_es_w_sim', sim_col='sim mixed', cross_spk=True)\n",
    "    ap_x.append(np.trapz(p_x[::-1], r_x[::-1]))\n",
    "    acc_x.append(np.trapz(r_x[::-1], ir_x[::-1]))\n",
    "\n",
    "print([float(\"{0:.4f}\".format(x)) for x in ap_all])\n",
    "print([float(\"{0:.4f}\".format(x)) for x in acc_all])\n",
    "print([float(\"{0:.4f}\".format(x)) for x in ap_x])\n",
    "print([float(\"{0:.4f}\".format(x)) for x in acc_x])"
   ]
  },
  {
   "cell_type": "code",
   "execution_count": 44,
   "metadata": {
    "collapsed": false,
    "scrolled": true
   },
   "outputs": [
    {
     "name": "stdout",
     "output_type": "stream",
     "text": [
      "Computing precision recall, cross speaker = 1\n",
      "# eval scores: 10452\n",
      "# good scores: 148\n",
      "#  bad scores: 10304\n",
      "Average Precision - using sim: zrt_sim\n",
      "----------------------------------------\n",
      "\t0.01133\n",
      "----------------------------------------\n",
      "Computing precision recall, cross speaker = 1\n",
      "# eval scores: 10452\n",
      "# good scores: 148\n",
      "#  bad scores: 10304\n",
      "Average Precision - using sim: sim mixed\n",
      "----------------------------------------\n",
      "\t0.02071\n",
      "----------------------------------------\n"
     ]
    }
   ],
   "source": [
    "_, _, _ = ch.eval_precision_recall(eval_col='cnt_es_w_sim', cross_spk=True)\n",
    "_, _, _ = ch.eval_precision_recall(eval_col='cnt_es_w_sim', sim_col='sim mixed', cross_spk=True)"
   ]
  },
  {
   "cell_type": "code",
   "execution_count": null,
   "metadata": {
    "collapsed": true
   },
   "outputs": [],
   "source": [
    "eval_col='cnt_es_w_sim'\n",
    "# eval_col='es_w_sim'\n",
    "\n",
    "fig_pr, fig_roc = ch.miniplot_precision_recall(eval_col=eval_col, cross_spk=False)\n",
    "#fig_pr.suptitle(\"Precision/Recall - 50 calls, energy based VAD\", fontsize=24, y=1.02)\n",
    "# fig_pr.gca().set_title(\"Precision/Recall - 20 calls, evad based VAD\", \\\n",
    "#                        fontsize=24, y=1.02)\n",
    "# fig_pr.tight_layout()\n",
    "# # fiig = plt.gcf()\n",
    "# fig_pr.savefig(\"output/train_20_evad_pr.pdf\")\n",
    "# fig_roc.gca().set_title(\"ROC curve - 20 calls, evad based VAD\", \\\n",
    "#                         fontsize=24, y=1.02)\n",
    "# fig_roc.tight_layout()\n",
    "# fig_roc.savefig(\"output/train_20_evad_roc.pdf\")"
   ]
  },
  {
   "cell_type": "markdown",
   "metadata": {},
   "source": [
    "## Histogram - ZRT values"
   ]
  },
  {
   "cell_type": "code",
   "execution_count": null,
   "metadata": {
    "collapsed": false
   },
   "outputs": [],
   "source": [
    "df_valid[['ZRT']].plot(kind='hist', alpha=0.7)\n",
    "df_valid[['sim mixed']].plot(kind='hist', alpha=0.7)\n",
    "df_valid[['EN sim']].plot(kind='hist', alpha=0.7)"
   ]
  },
  {
   "cell_type": "code",
   "execution_count": null,
   "metadata": {
    "collapsed": false
   },
   "outputs": [],
   "source": [
    "df_valid[['dur']].plot(kind='hist', alpha=0.7, bins=200)"
   ]
  },
  {
   "cell_type": "markdown",
   "metadata": {},
   "source": [
    "## Correlation between DTW and other metrics"
   ]
  },
  {
   "cell_type": "code",
   "execution_count": 168,
   "metadata": {
    "collapsed": false
   },
   "outputs": [
    {
     "data": {
      "text/html": [
       "<div>\n",
       "<table border=\"1\" class=\"dataframe\">\n",
       "  <thead>\n",
       "    <tr style=\"text-align: right;\">\n",
       "      <th></th>\n",
       "      <th>ZRT</th>\n",
       "      <th>EN sim</th>\n",
       "    </tr>\n",
       "  </thead>\n",
       "  <tbody>\n",
       "    <tr>\n",
       "      <th>ZRT</th>\n",
       "      <td>1.000</td>\n",
       "      <td>0.125</td>\n",
       "    </tr>\n",
       "    <tr>\n",
       "      <th>EN sim</th>\n",
       "      <td>0.125</td>\n",
       "      <td>1.000</td>\n",
       "    </tr>\n",
       "  </tbody>\n",
       "</table>\n",
       "</div>"
      ],
      "text/plain": [
       "         ZRT  EN sim\n",
       "ZRT    1.000   0.125\n",
       "EN sim 0.125   1.000"
      ]
     },
     "metadata": {},
     "output_type": "display_data"
    },
    {
     "data": {
      "text/html": [
       "<div>\n",
       "<table border=\"1\" class=\"dataframe\">\n",
       "  <thead>\n",
       "    <tr style=\"text-align: right;\">\n",
       "      <th></th>\n",
       "      <th>ZRT</th>\n",
       "      <th>ES cont match</th>\n",
       "    </tr>\n",
       "  </thead>\n",
       "  <tbody>\n",
       "    <tr>\n",
       "      <th>ZRT</th>\n",
       "      <td>1.000</td>\n",
       "      <td>0.202</td>\n",
       "    </tr>\n",
       "    <tr>\n",
       "      <th>ES cont match</th>\n",
       "      <td>0.202</td>\n",
       "      <td>1.000</td>\n",
       "    </tr>\n",
       "  </tbody>\n",
       "</table>\n",
       "</div>"
      ],
      "text/plain": [
       "                ZRT  ES cont match\n",
       "ZRT           1.000          0.202\n",
       "ES cont match 0.202          1.000"
      ]
     },
     "metadata": {},
     "output_type": "display_data"
    },
    {
     "data": {
      "text/html": [
       "<div>\n",
       "<table border=\"1\" class=\"dataframe\">\n",
       "  <thead>\n",
       "    <tr style=\"text-align: right;\">\n",
       "      <th></th>\n",
       "      <th>EN sim</th>\n",
       "      <th>ES cont match</th>\n",
       "    </tr>\n",
       "  </thead>\n",
       "  <tbody>\n",
       "    <tr>\n",
       "      <th>EN sim</th>\n",
       "      <td>1.000</td>\n",
       "      <td>0.386</td>\n",
       "    </tr>\n",
       "    <tr>\n",
       "      <th>ES cont match</th>\n",
       "      <td>0.386</td>\n",
       "      <td>1.000</td>\n",
       "    </tr>\n",
       "  </tbody>\n",
       "</table>\n",
       "</div>"
      ],
      "text/plain": [
       "               EN sim  ES cont match\n",
       "EN sim          1.000          0.386\n",
       "ES cont match   0.386          1.000"
      ]
     },
     "metadata": {},
     "output_type": "display_data"
    },
    {
     "data": {
      "text/html": [
       "<div>\n",
       "<table border=\"1\" class=\"dataframe\">\n",
       "  <thead>\n",
       "    <tr style=\"text-align: right;\">\n",
       "      <th></th>\n",
       "      <th>en_w_cnt_count_sim_0</th>\n",
       "      <th>ES cont match</th>\n",
       "    </tr>\n",
       "  </thead>\n",
       "  <tbody>\n",
       "    <tr>\n",
       "      <th>en_w_cnt_count_sim_0</th>\n",
       "      <td>1.000</td>\n",
       "      <td>0.229</td>\n",
       "    </tr>\n",
       "    <tr>\n",
       "      <th>ES cont match</th>\n",
       "      <td>0.229</td>\n",
       "      <td>1.000</td>\n",
       "    </tr>\n",
       "  </tbody>\n",
       "</table>\n",
       "</div>"
      ],
      "text/plain": [
       "                      en_w_cnt_count_sim_0  ES cont match\n",
       "en_w_cnt_count_sim_0                 1.000          0.229\n",
       "ES cont match                        0.229          1.000"
      ]
     },
     "metadata": {},
     "output_type": "display_data"
    }
   ],
   "source": [
    "display(df_valid[['ZRT', 'EN sim']].corr())\n",
    "display(df_valid[['ZRT', 'ES cont match']].corr())\n",
    "display(df_valid[['EN sim', 'ES cont match']].corr())\n",
    "display(df_valid[['en_w_cnt_count_sim_0', 'ES cont match']].corr())"
   ]
  },
  {
   "cell_type": "markdown",
   "metadata": {},
   "source": [
    "# Long matches"
   ]
  },
  {
   "cell_type": "code",
   "execution_count": null,
   "metadata": {
    "collapsed": false
   },
   "outputs": [],
   "source": [
    "print(67/214)\n",
    "print(188/1355)\n",
    "print(1304/10452)\n",
    "print(3740/57979)"
   ]
  },
  {
   "cell_type": "code",
   "execution_count": null,
   "metadata": {
    "collapsed": false
   },
   "outputs": [],
   "source": [
    "long_dur_ms = 700\n",
    "df_long_dur = df_valid[df_valid['dur'] >= long_dur_ms]\n",
    "print(\"# of pairs with duration >= %dms : %d\" % (long_dur_ms, len(df_long_dur)))\n",
    "df_long_dur[cols_to_show].head(10)"
   ]
  },
  {
   "cell_type": "code",
   "execution_count": 188,
   "metadata": {
    "collapsed": false
   },
   "outputs": [
    {
     "name": "stdout",
     "output_type": "stream",
     "text": [
      "defaultdict(<type 'int'>, {0: 3740, 1: 25359, 2: 2310, 3: 1430, 4: 46098, 5: 839, 6: 2187, 7: 46974})\n"
     ]
    }
   ],
   "source": [
    "nodes_table = PrettyTable([\"Node id\", \"Speech file\", \\\n",
    "                           \"Start time(ms)\", \\\n",
    "                           \"End time(ms)\"])\n",
    "transcripts_table = PrettyTable([\"Node id\", \"ES words\", \\\n",
    "                           \"ES content words\"])\n",
    "\n",
    "scores_table = PrettyTable([\"Pair id\", \"Node 1\", \"Node 2\", \"DTW score\", \"ES content word match\"])\n",
    "\n",
    "\n",
    "# for i in range(1,5)+[27, 28, 61, 62, 64, 1761,1762]:\n",
    "#     nodes_table.add_row([i, ch.node_dict[i].wav_fil+\".wav\", ch.node_dict[i].start, \\\n",
    "#                         ch.node_dict[i].end])\n",
    "#     #print((' '.join(ch.node_dict[i].es_cnt_words).decode('utf-8')))\n",
    "#     es_w = (' '.join(ch.node_dict[i].es_words).decode('utf-8'))\n",
    "#     if ch.node_dict[i].es_cnt_words:\n",
    "#         es_cnt_w = (' '.join(ch.node_dict[i].es_cnt_words).decode('utf-8')).strip()\n",
    "#     else:\n",
    "#         es_cnt_w = '---'\n",
    "#     #print(i, set(ch.node_dict[i].es_cnt_words) - set(['sil', 'sp']))\n",
    "#     es_w = es_w.replace('sil', '').replace('sp', '')\n",
    "#     es_cnt_w = es_cnt_w.replace('sil', '').replace('sp', '')\n",
    "#     transcripts_table.add_row([i, es_w, es_cnt_w])\n",
    "\n",
    "# found = 0\n",
    "# for i, pair in enumerate(ch.eval_pairs_list):\n",
    "#     if found == 10:\n",
    "#         break\n",
    "#     if pair['cnt_es_w_sim'] > 0 or i<=2:\n",
    "#         scores_table.add_row([i, pair['n1'], pair['n2'], pair['zrt_sim'], pair['cnt_es_w_sim']])\n",
    "#         found += 1\n",
    "\n",
    "# print(nodes_table)\n",
    "# print(transcripts_table)\n",
    "# print(scores_table)\n",
    "# #print(' '.join(ch.node_dict[2].es_words))\n",
    "\n",
    "\n",
    "# display(ch.eval_pairs_list[1])\n",
    "# found = 0\n",
    "# for i, pair in enumerate(ch.eval_pairs_list):\n",
    "#     if pair['zrt_sim'] >= 0.88 and len(pair['es_w_n1'].split()) >= 1 \\\n",
    "#     and pair['en_w_hgr_sim_0'] == 0 \\\n",
    "#     and pair['sil_only'] == False \\\n",
    "#     and pair['uid1'] != pair['uid2']:\n",
    "#         print(i, pair['n1'], pair['n2'], \\\n",
    "#               pair['es_w_n1'].decode('utf-8'), pair['es_w_n2'].decode('utf-8'),\\\n",
    "#              pair['cnt_es_w_sim'])\n",
    "#         found += 1\n",
    "#         if found == 5:\n",
    "#             break\n",
    "# print(found)\n",
    "\n",
    "\n",
    "# found = 0\n",
    "# for i, pair in enumerate(ch.eval_pairs_list):\n",
    "#     if pair['dur'] >= 100 \\\n",
    "#     and pair['en_w_hgr_sim_0'] == 0 and pair['sil_only'] == True:\n",
    "#         print(i, pair['n1'], pair['n2'], \\\n",
    "#               pair['es_w_n1'].decode('utf-8'), pair['es_w_n2'].decode('utf-8'),\\\n",
    "#              pair['cnt_es_w_sim'])\n",
    "#         found += 1\n",
    "#         if found == 5:\n",
    "#             break\n",
    "# print(found)\n",
    "\n",
    "cnt = defaultdict(int)\n",
    "for i, pair in enumerate(ch.eval_pairs_list):\n",
    "    if pair['cnt_es_w_sim'] > 0:\n",
    "        cnt[0] += 1\n",
    "    if pair['en_w_cnt_count_sim_0'] > 0:\n",
    "        cnt[1] += 1\n",
    "    if pair['en_w_cnt_hgr_sim_0'] > 0 and pair['cnt_es_w_sim'] > 0:\n",
    "        cnt[2] += 1\n",
    "    if pair['en_w_cnt_hgr_sim_0'] == 0 and pair['cnt_es_w_sim'] > 0:\n",
    "        cnt[3] += 1\n",
    "    if pair['en_w_cnt_hgr_sim_0'] > 0 and pair['cnt_es_w_sim'] == 0:\n",
    "        cnt[4] += 1\n",
    "    if pair['en_w_cnt_hgr_sim_0'] > 0 and pair['cnt_es_w_sim'] == 0:\n",
    "        cnt[4] += 1\n",
    "    if pair['en_w_cnt_hgr_sim_0'] > 0 and pair['cnt_es_w_sim'] == 0 and pair['zrt_sim'] < 0.85:\n",
    "        cnt[5] += 1\n",
    "    if pair['cnt_es_w_sim'] > 0 and pair['zrt_sim'] > 0.88:\n",
    "        cnt[6] += 1\n",
    "    if pair['cnt_es_w_sim'] == 0 and pair['zrt_sim'] > 0.88:\n",
    "        cnt[7] += 1\n",
    "\n",
    "print(cnt)"
   ]
  },
  {
   "cell_type": "code",
   "execution_count": 158,
   "metadata": {
    "collapsed": false
   },
   "outputs": [
    {
     "name": "stdout",
     "output_type": "stream",
     "text": [
      "['es_p_sim', 'en_w_count_sim_0', 'zrt_sim', 'uid2', 'en_w_cnt_hgr_sim_0', 'cnt_es_w_check', 'uid1', 'cnt_es_w_sim', 'es_w_sim', 'es_w_n1', 'no_mtch', 'sil_only', 'en_w_cnt_count_sim_0', 'chid2', 'en_w_hgr_sim_0', 'n1', 'n2', 'dur', 'chid1', 'es_w_n2']\n"
     ]
    }
   ],
   "source": [
    "print(ch.eval_pairs_list[0].keys())"
   ]
  },
  {
   "cell_type": "code",
   "execution_count": null,
   "metadata": {
    "collapsed": false
   },
   "outputs": [],
   "source": [
    "%run viewutils.ipynb\n",
    "display_pair_and_plot_dtw(963, tosave=False, \\\n",
    "                          offset_1=(0,None), \\\n",
    "                          offset_2=(0,None), \\\n",
    "                          n_labels=(\"Pair 5\", \"segment 9\", \"segment 10\"),phones=False)\n",
    "\n",
    "# %run viewutils.ipynb\n",
    "# display_pair_and_plot_dtw(15, tosave=False, \\\n",
    "#                           offset_1=(55,61), \\\n",
    "#                           offset_2=(150,156), \\\n",
    "#                           n_labels=(\"Pair 5\", \"segment 9\", \"segment 10\"))\n",
    "\n",
    "print(' '.join(ch.en_cnt_words_dict[ch.node_dict[180].wav_fil]))\n",
    "print(' '.join(ch.en_cnt_words_dict[ch.node_dict[1674].wav_fil]))\n",
    "print(' '.join(ch.node_dict[180].es_cnt_words))\n",
    "print(' '.join(ch.node_dict[1674].es_cnt_words))"
   ]
  },
  {
   "cell_type": "code",
   "execution_count": null,
   "metadata": {
    "collapsed": true
   },
   "outputs": [],
   "source": [
    "display(Audio(ch.play_pair_wav(15, detail=True)))"
   ]
  },
  {
   "cell_type": "code",
   "execution_count": null,
   "metadata": {
    "collapsed": true
   },
   "outputs": [],
   "source": [
    "display(Audio(ch.play_node_wav(20)))\n",
    "# display(Audio('../../corpora/callhome_es/out/lala.wav'))\n",
    "# display(Audio(ch.play_node_source_wav(12)))\n",
    "for i, val in enumerate(ch.es_words_dict['050.048']):\n",
    "    print(i, val.start)"
   ]
  },
  {
   "cell_type": "code",
   "execution_count": null,
   "metadata": {
    "collapsed": true
   },
   "outputs": [],
   "source": [
    "display(Audio(ch.play_pair_wav(34)))\n",
    "display(Audio(ch.play_pair_wav(5119)))"
   ]
  },
  {
   "cell_type": "code",
   "execution_count": null,
   "metadata": {
    "collapsed": true
   },
   "outputs": [],
   "source": [
    "display(ch.play_node_wav(619))\n",
    "display(ch.play_node_wav(620))\n",
    "display(ch.play_node_wav(45))\n",
    "display(ch.play_node_wav(46))\n",
    "\n",
    "node_1_file = ch.play_node_wav(1761)\n",
    "node_2_file = ch.play_node_wav(1762)\n",
    "display(node_1_file)\n",
    "display(node_2_file)\n",
    "# display(ch.play_node_source_wav(76605))"
   ]
  },
  {
   "cell_type": "code",
   "execution_count": null,
   "metadata": {
    "collapsed": true
   },
   "outputs": [],
   "source": [
    "plot_dtw(node_1_file, node_2_file)"
   ]
  },
  {
   "cell_type": "code",
   "execution_count": null,
   "metadata": {
    "collapsed": false
   },
   "outputs": [],
   "source": [
    "%run viewutils.ipynb\n",
    "node_id = 1761\n",
    "\n",
    "node_info = ch.node_dict[node_id]\n",
    "wav_file = node_info.wav_fil\n",
    "target_file = ch.file_info_dict[wav_file].target_file+\".wav\"\n",
    "es_words = ch.es_words_dict[wav_file]\n",
    "plot_name = \"output/bautismo_1761.pdf\"\n",
    "\n",
    "plot_specgram_words(target_file, es_words, plot_name, offset=(0,10))\n",
    "\n",
    "print(ch.en_words_dict[wav_file])"
   ]
  },
  {
   "cell_type": "code",
   "execution_count": null,
   "metadata": {
    "collapsed": false,
    "scrolled": true
   },
   "outputs": [],
   "source": [
    "node_id = 1762\n",
    "\n",
    "node_info = ch.node_dict[node_id]\n",
    "wav_file = node_info.wav_fil\n",
    "target_file = ch.file_info_dict[wav_file].target_file+\".wav\"\n",
    "es_words = ch.es_words_dict[wav_file]\n",
    "plot_name = \"output/bautismo_1762.pdf\"\n",
    "\n",
    "plot_specgram_words(target_file, es_words, plot_name, offset=(0,12))\n",
    "\n",
    "print(\"English translation:\\n%s\" % ' '.join(ch.en_words_dict[wav_file]))"
   ]
  },
  {
   "cell_type": "code",
   "execution_count": null,
   "metadata": {
    "collapsed": false
   },
   "outputs": [],
   "source": [
    "2680-1710"
   ]
  },
  {
   "cell_type": "code",
   "execution_count": null,
   "metadata": {
    "collapsed": false
   },
   "outputs": [],
   "source": [
    "display(Audio(ch.play_pair_wav(5118)))"
   ]
  },
  {
   "cell_type": "code",
   "execution_count": null,
   "metadata": {
    "collapsed": true
   },
   "outputs": [],
   "source": [
    "# %run viewutils.ipynb\n",
    "\n",
    "# node_1 = ch.node_dict[1761]\n",
    "# node_2 = ch.node_dict[1762]\n",
    "\n",
    "# wav_1 = ch.file_info_dict[node_1.wav_fil].target_file+\".wav\"\n",
    "# wav_2 = ch.file_info_dict[node_2.wav_fil].target_file+\".wav\"\n",
    "\n",
    "# es_words_1 = ch.es_words_dict[node_1.wav_fil]\n",
    "# es_words_2 = ch.es_words_dict[node_2.wav_fil]\n",
    "# plot_name = \"output/dtw_pair_1761_1762.pdf\"\n",
    "# # print(wav_1, wav_2)\n",
    "# # print(es_words_1, es_words_2)\n",
    "# wav_1_time = (node_1.start, node_1.end)\n",
    "# wav_2_time = (node_2.start, node_2.end)\n",
    "# plot_dtw(wav_1, wav_2, es_words_1, es_words_2, \\\n",
    "#          wav_1_time, wav_2_time, plot_name)"
   ]
  },
  {
   "cell_type": "code",
   "execution_count": null,
   "metadata": {
    "collapsed": true
   },
   "outputs": [],
   "source": [
    "%run viewutils.ipynb"
   ]
  },
  {
   "cell_type": "code",
   "execution_count": null,
   "metadata": {
    "collapsed": true
   },
   "outputs": [],
   "source": [
    "tosave=False"
   ]
  },
  {
   "cell_type": "code",
   "execution_count": null,
   "metadata": {
    "collapsed": true
   },
   "outputs": [],
   "source": [
    "def plot_labels(n1_l, n2_l, dtw):\n",
    "    ax = plt.gca()\n",
    "    "
   ]
  },
  {
   "cell_type": "code",
   "execution_count": null,
   "metadata": {
    "collapsed": false
   },
   "outputs": [],
   "source": [
    "%run viewutils.ipynb\n",
    "display_pair_and_plot_dtw(5118, tosave=tosave, \\\n",
    "                          offset_1=(6,None), \\\n",
    "                          offset_2=(8,None), \\\n",
    "                          n_labels=(\"Pair 1\", \"segment 1\", \"segment 2\"))\n",
    "\n",
    "print(' '.join(ch.en_cnt_words_dict[ch.node_dict[1761].wav_fil]))\n",
    "print(' '.join(ch.en_cnt_words_dict[ch.node_dict[1762].wav_fil]))\n",
    "print(' '.join(ch.node_dict[1761].es_cnt_words))\n",
    "print(' '.join(ch.node_dict[1762].es_cnt_words))"
   ]
  },
  {
   "cell_type": "code",
   "execution_count": null,
   "metadata": {
    "collapsed": false
   },
   "outputs": [],
   "source": [
    "display_pair_and_plot_dtw(15944, tosave=tosave, \\\n",
    "                          offset_1=(4,-2), \\\n",
    "                          offset_2=(3,-2), \\\n",
    "                          n_labels=(\"Pair 2\", \"segment 3\", \"segment 4\"))\n",
    "\n",
    "print(' '.join(ch.en_cnt_words_dict[ch.node_dict[33935].wav_fil]))\n",
    "print(' '.join(ch.en_cnt_words_dict[ch.node_dict[33936].wav_fil]))\n",
    "print(' '.join(ch.node_dict[33935].es_cnt_words))\n",
    "print(' '.join(ch.node_dict[33936].es_cnt_words))"
   ]
  },
  {
   "cell_type": "code",
   "execution_count": null,
   "metadata": {
    "collapsed": false
   },
   "outputs": [],
   "source": [
    "print(ch.en_w_cnt_belief[44099])\n",
    "print(' & '.join([ch.i2w[w] for w in ch.en_w_cnt_belief[44099]]))\n",
    "print(' & '.join([\"{0:.2f}\".format(b) for b in ch.en_w_cnt_belief[44099].values()]))\n",
    "\n",
    "print([ch.i2w[w] for w in ch.en_w_cnt_belief[44100]])\n",
    "print([\"{0:.2f}\".format(b) for b in ch.en_w_cnt_belief[44100].values()])"
   ]
  },
  {
   "cell_type": "code",
   "execution_count": null,
   "metadata": {
    "collapsed": false
   },
   "outputs": [],
   "source": [
    "display_pair_and_plot_dtw(16848, tosave=tosave, \\\n",
    "                          offset_1=(6,9), \\\n",
    "                          offset_2=(1,4), \\\n",
    "                          n_labels=(\"Pair 3\", \"segment 5\", \"segment 6\"))\n",
    "\n",
    "print(ch.node_dict[44099].es_cnt_words)\n",
    "print(ch.node_dict[44100].es_cnt_words)\n",
    "print(' '.join(ch.en_cnt_words_dict[ch.node_dict[44099].wav_fil]))\n",
    "print(' '.join(ch.en_cnt_words_dict[ch.node_dict[44100].wav_fil]))\n",
    "print(' '.join(ch.node_dict[44099].es_cnt_words))\n",
    "print(' '.join(ch.node_dict[44100].es_cnt_words))"
   ]
  },
  {
   "cell_type": "code",
   "execution_count": null,
   "metadata": {
    "collapsed": false
   },
   "outputs": [],
   "source": [
    "display_pair_and_plot_dtw(19326, tosave=tosave, \\\n",
    "                          offset_1=(0,3), \\\n",
    "                          offset_2=(0,3), \\\n",
    "                          n_labels=(\"pair 4\", \"node 7\", \"node 8\"))"
   ]
  },
  {
   "cell_type": "markdown",
   "metadata": {},
   "source": [
    "## Callhome 50, evad"
   ]
  },
  {
   "cell_type": "code",
   "execution_count": null,
   "metadata": {
    "collapsed": false
   },
   "outputs": [],
   "source": [
    "display_pair_and_plot_dtw(817, tosave=False)"
   ]
  },
  {
   "cell_type": "markdown",
   "metadata": {},
   "source": [
    "### High phoneme score"
   ]
  },
  {
   "cell_type": "code",
   "execution_count": null,
   "metadata": {
    "collapsed": true
   },
   "outputs": [],
   "source": [
    "df_phone_score_hi = df_valid[(df_valid['ES phone edit sim'] >= 0.6) \\\n",
    "                            & (df_valid['EN sim'] == 0)]\n",
    "print(\"Pairs with high phoneme similarity score: %d\" % len(df_phone_score_hi))\n",
    "\n",
    "f, ax = plt.subplots(figsize=(10, 6))\n",
    "df_phone_score_hi[['ZRT']].hist(ax=ax, alpha=0.7)\n",
    "ax.set_xlabel('phoneme similarity score >= 0.5', fontsize=16)\n",
    "# sns.rugplot(df_phone_score_0['ZRT'], color=\"b\", ax=ax)\n",
    "plt.tick_params(which='both', labelsize=12)\n",
    "# plt.colorbar(aplot)"
   ]
  },
  {
   "cell_type": "code",
   "execution_count": null,
   "metadata": {
    "collapsed": true
   },
   "outputs": [],
   "source": [
    "df_phone_score_hi[cols_to_show].head(5)"
   ]
  },
  {
   "cell_type": "code",
   "execution_count": null,
   "metadata": {
    "collapsed": true
   },
   "outputs": [],
   "source": [
    "display(Audio(ch.play_pair_wav(75)))"
   ]
  },
  {
   "cell_type": "markdown",
   "metadata": {},
   "source": [
    "## Low phoneme score"
   ]
  },
  {
   "cell_type": "code",
   "execution_count": null,
   "metadata": {
    "collapsed": false
   },
   "outputs": [],
   "source": [
    "df_phone_score_0 = df_valid[(df_valid['ES phone edit sim'] == 0)]\n",
    "print(\"Pairs with 0 phoneme similarity score: %d\" % len(df_phone_score_0))\n",
    "\n",
    "f, ax = plt.subplots(figsize=(10, 6))\n",
    "df_phone_score_0[['ZRT']].hist(ax=ax, alpha=0.7)\n",
    "ax.set_xlabel('phoneme similarity score = 0', fontsize=16)\n",
    "# sns.rugplot(df_phone_score_0['ZRT'], color=\"b\", ax=ax)\n",
    "plt.tick_params(which='both', labelsize=12)\n",
    "# plt.colorbar(aplot)"
   ]
  },
  {
   "cell_type": "markdown",
   "metadata": {},
   "source": [
    "** Analysis:** The plot shows a lot of high DTW score pairs where there is no match in the phonemes"
   ]
  },
  {
   "cell_type": "code",
   "execution_count": null,
   "metadata": {
    "collapsed": false
   },
   "outputs": [],
   "source": [
    "df_phone_score_0_high_dtw = df_phone_score_0[df_phone_score_0['ZRT'] > 0.87]\n",
    "print(\"Pairs with high DTW and 0 phoneme similarity score: %d\" % len(df_phone_score_0_high_dtw))\n",
    "\n",
    "display(df_phone_score_0_high_dtw[cols_to_show].head(3))\n",
    "# ch.play_pair_wav(28)"
   ]
  },
  {
   "cell_type": "code",
   "execution_count": null,
   "metadata": {
    "collapsed": false
   },
   "outputs": [],
   "source": [
    "df_phone_score_0_en_score_0 = df_phone_score_0[df_phone_score_0['EN sim'] == 0]\n",
    "print(\"Pairs with 0 phoneme score and 0 EN sim: %d\" % len(df_phone_score_0_en_score_0))\n",
    "# display(df_phone_score_0_en_score_0[cols_to_show][df_phone_score_0_en_score_0['ZRT'] < 0.82].head(3))\n",
    "display(df_phone_score_0_en_score_0[cols_to_show].head(3))\n",
    "\n",
    "df_phone_score_0_high_dtw_en_score_0 = df_phone_score_0_high_dtw[df_phone_score_0_high_dtw['EN sim'] == 0]\n",
    "print(\"Pairs with high DTW and 0 phoneme score and 0 EN sim: %d\" % len(df_phone_score_0_high_dtw_en_score_0))\n",
    "display(df_phone_score_0_high_dtw_en_score_0[cols_to_show].head(3))"
   ]
  },
  {
   "cell_type": "code",
   "execution_count": null,
   "metadata": {
    "collapsed": false
   },
   "outputs": [],
   "source": [
    "# display(ch.play_pair_wav(594, detail=True))\n",
    "display(ch.play_pair_wav(52, detail=False))\n",
    "# display(ch.play_node_source_wav(131))"
   ]
  },
  {
   "cell_type": "code",
   "execution_count": null,
   "metadata": {
    "collapsed": false
   },
   "outputs": [],
   "source": [
    "ch.file_info_dict[\"049.156\"].source_file"
   ]
  },
  {
   "cell_type": "code",
   "execution_count": null,
   "metadata": {
    "collapsed": false
   },
   "outputs": [],
   "source": [
    "# !soxi ../../corpora/callhome_es/out/006.183.wav\n",
    "# !play ../../corpora/callhome_es/out/006.183.wav trim 1.24\n",
    "# IPython.display.Audio(\"../../corpora/callhome_es/out/tmp/sp_0731_1.wav\")"
   ]
  },
  {
   "cell_type": "markdown",
   "metadata": {},
   "source": [
    "### Conclusion\n",
    "\n",
    "**Pairs with high DTW and 0 phoneme and 0 EN word similarity indicate transcription errors or coding errors**\n",
    "\n",
    "\n",
    "**Need to investigate**"
   ]
  },
  {
   "cell_type": "markdown",
   "metadata": {},
   "source": [
    "### High Phoneme similarity"
   ]
  },
  {
   "cell_type": "code",
   "execution_count": null,
   "metadata": {
    "collapsed": false
   },
   "outputs": [],
   "source": [
    "# df_phone_score_hi = df_valid[(df_valid['ES phone edit sim'] >= 0.5)]\n",
    "# print(\"Pairs with high phoneme similarity score: %d\" % len(df_phone_score_hi))\n",
    "\n",
    "f, ax = plt.subplots(figsize=(10, 6))\n",
    "df_valid['ZRT'].hist(ax=ax, alpha=0.3)\n",
    "df_phone_score_hi['ZRT'].hist(ax=ax, alpha=0.7)\n",
    "ax.set_xlabel('phoneme similarity score > 0.5', fontsize=16)\n",
    "# sns.rugplot(df_phone_score_0['ZRT'], color=\"b\", ax=ax)\n",
    "plt.tick_params(which='both', labelsize=12)\n",
    "# plt.colorbar(aplot)"
   ]
  },
  {
   "cell_type": "code",
   "execution_count": null,
   "metadata": {
    "collapsed": true
   },
   "outputs": [],
   "source": [
    "df_phone_score_hi_en_score_0 = df_phone_score_hi[(df_phone_score_hi['EN sim'] == 0) & \\\n",
    "                                                (df_phone_score_hi['spk1'] != df_phone_score_hi['spk2'])]\n",
    "print(\"Pairs with high phoneme score and 0 EN sim: %d\" % len(df_phone_score_hi_en_score_0))\n",
    "\n",
    "df_phone_score_hi_en_score_0[cols_to_show].head(5)"
   ]
  },
  {
   "cell_type": "code",
   "execution_count": null,
   "metadata": {
    "collapsed": true
   },
   "outputs": [],
   "source": [
    "ch.play_pair_wav(70)"
   ]
  },
  {
   "cell_type": "markdown",
   "metadata": {},
   "source": [
    "## High DTW score, Low EN translation similarity"
   ]
  },
  {
   "cell_type": "markdown",
   "metadata": {},
   "source": [
    "These are expected to be phonetically similary but semantically different pairs.\n",
    "\n",
    "**Label Spreading** should help **lower** the DTW score"
   ]
  },
  {
   "cell_type": "code",
   "execution_count": null,
   "metadata": {
    "collapsed": false
   },
   "outputs": [],
   "source": [
    "df_valid['ZRT'][(df_valid['EN sim'] == 0)].hist()\n",
    "print(len(df_valid['ZRT'][(df_valid['EN sim'] == 0)]))"
   ]
  },
  {
   "cell_type": "code",
   "execution_count": null,
   "metadata": {
    "collapsed": false
   },
   "outputs": [],
   "source": [
    "df_high_dtw_0_en = df_valid[(df_valid['ZRT'] > 0.87) \\\n",
    "                            & (df_valid['EN sim'] >= 0.2) & \\\n",
    "                            (df_valid['spk1'] != df_valid['spk2'])]"
   ]
  },
  {
   "cell_type": "code",
   "execution_count": null,
   "metadata": {
    "collapsed": false
   },
   "outputs": [],
   "source": [
    "print(\"Pairs with high DTW annd 0 EN sim: %d\" % len(df_high_dtw_0_en))\n",
    "df_high_dtw_0_en[cols_to_show].head(5)"
   ]
  },
  {
   "cell_type": "code",
   "execution_count": null,
   "metadata": {
    "collapsed": false,
    "scrolled": true
   },
   "outputs": [],
   "source": [
    "display(Audio(ch.play_pair_wav(105, detail=True)))"
   ]
  },
  {
   "cell_type": "code",
   "execution_count": null,
   "metadata": {
    "collapsed": false
   },
   "outputs": [],
   "source": [
    "# !play ../../corpora/callhome_es/out/001.202.wav trim .75 =.99"
   ]
  },
  {
   "cell_type": "markdown",
   "metadata": {},
   "source": [
    "## Low DTW score, High EN translation similarity"
   ]
  },
  {
   "cell_type": "markdown",
   "metadata": {},
   "source": [
    "These are expected to be semantically similar but phonetically not very similar.\n",
    "\n",
    "**Label Spreading** should help **increase** the DTW score"
   ]
  },
  {
   "cell_type": "code",
   "execution_count": null,
   "metadata": {
    "collapsed": false
   },
   "outputs": [],
   "source": [
    "df_valid['ZRT'][(df_valid['EN sim'] >= 0.2)].hist()"
   ]
  },
  {
   "cell_type": "code",
   "execution_count": null,
   "metadata": {
    "collapsed": true
   },
   "outputs": [],
   "source": [
    "df_low_dtw_high_en = df_valid[(df_valid['ZRT'] < 0.88) & (df_valid['EN sim'] >= 0.2)]"
   ]
  },
  {
   "cell_type": "code",
   "execution_count": null,
   "metadata": {
    "collapsed": false
   },
   "outputs": [],
   "source": [
    "print(\"Pairs with high DTW annd 0 EN sim: %d\" % len(df_low_dtw_high_en))\n",
    "df_low_dtw_high_en[cols_to_show].tail()"
   ]
  },
  {
   "cell_type": "code",
   "execution_count": null,
   "metadata": {
    "collapsed": false
   },
   "outputs": [],
   "source": [
    "display(Audio(ch.play_pair_wav(19326, detail=True)))"
   ]
  },
  {
   "cell_type": "markdown",
   "metadata": {},
   "source": [
    "## Precision / Recall"
   ]
  },
  {
   "cell_type": "code",
   "execution_count": null,
   "metadata": {
    "collapsed": false
   },
   "outputs": [],
   "source": [
    "df_valid[cols_to_show].head()"
   ]
  },
  {
   "cell_type": "code",
   "execution_count": null,
   "metadata": {
    "collapsed": false,
    "scrolled": true
   },
   "outputs": [],
   "source": [
    "ch.eval_precision_recall()"
   ]
  },
  {
   "cell_type": "code",
   "execution_count": null,
   "metadata": {
    "collapsed": false,
    "scrolled": false
   },
   "outputs": [],
   "source": [
    "ch.eval_precision_recall(sim_col='sim mixed')"
   ]
  },
  {
   "cell_type": "code",
   "execution_count": null,
   "metadata": {
    "collapsed": false,
    "scrolled": true
   },
   "outputs": [],
   "source": [
    "ch.miniplot_precision_recall()\n",
    "\n",
    "# fiig = plt.gcf()\n",
    "# fiig.savefig(\"output/train_50_evad_avg_precision.pdf\")\n",
    "# fiig.savefig(\"output/train_50_evad_avg_precision.png\")"
   ]
  },
  {
   "cell_type": "markdown",
   "metadata": {},
   "source": [
    "## Cross-utterance matches"
   ]
  },
  {
   "cell_type": "code",
   "execution_count": null,
   "metadata": {
    "collapsed": false
   },
   "outputs": [],
   "source": [
    "set_speakers_calls = set()\n",
    "spk1_ids = [s.rsplit('.', 1)[0] for s in df_valid['spk1'].values]\n",
    "spk2_ids = [s.rsplit('.', 1)[0] for s in df_valid['spk2'].values]\n",
    "set_speakers_calls |= set(spk1_ids)\n",
    "set_speakers_calls |= set(spk2_ids)\n",
    "\n",
    "num_speakers = len(set_speakers_calls)\n",
    "cross_spk_counts = np.zeros((num_speakers, num_speakers), dtype=np.int)\n",
    "label2i = {k:i for i, k in enumerate(set_speakers_calls)}\n",
    "i2label = {i:k for i, k in enumerate(set_speakers_calls)}\n",
    "\n",
    "lol = 0\n",
    "for spk1, spk2 in zip(spk1_ids, spk2_ids):\n",
    "    if spk1 != spk2:\n",
    "        lol += 1\n",
    "        cross_spk_counts[max(label2i[spk1], label2i[spk2]), min(label2i[spk1], label2i[spk2])] += 1\n",
    "        cross_spk_counts[min(label2i[spk1], label2i[spk2]), max(label2i[spk1], label2i[spk2])] += 1\n",
    "    else:\n",
    "        cross_spk_counts[label2i[spk1], label2i[spk2]] += 1\n",
    "        pass\n",
    "\n",
    "print(\"Total speakers: %d\" % num_speakers)\n",
    "print(lol)"
   ]
  },
  {
   "cell_type": "code",
   "execution_count": null,
   "metadata": {
    "collapsed": false
   },
   "outputs": [],
   "source": [
    "f, ax = plt.subplots(figsize=(8, 8))\n",
    "cmap = sns.diverging_palette(220, 10, as_cmap=True)\n",
    "\n",
    "with sns.axes_style(\"white\"):\n",
    "    ax = sns.heatmap(cross_spk_counts, square=True, annot=False, \\\n",
    "                 fmt=\"d\", linewidths=.5, cbar=False, xticklabels=2, yticklabels=2)\n",
    "ax.xaxis.tick_top()\n",
    "# f.savefig(\"output/train_20_only_cross_spkrs.pdf\")\n",
    "# f.savefig(\"output/train_20_only_cross_spkrs.png\")"
   ]
  },
  {
   "cell_type": "code",
   "execution_count": null,
   "metadata": {
    "collapsed": false
   },
   "outputs": [],
   "source": [
    "# df_valid.columns\n",
    "df_cross_spkr = df_valid[df_valid.apply(lambda row: True if row['spk1'].rsplit('.', 1)[0] != \\\n",
    "                        row['spk2'].rsplit('.', 1)[0] else False, \\\n",
    "                                    axis=1)]\n",
    "print(\"# of cross-speaker pairs: %d\" % (len(df_valid[df_valid['cross_spk'] == True])))\n",
    "# display(df_valid[cols_to_show].head(5))\n",
    "#df_cross_spkr['ZRT'].hist()\n",
    "# df_valid['cross_spk'] = \n",
    "print(len(df_cross_spkr), len(df_valid))"
   ]
  },
  {
   "cell_type": "code",
   "execution_count": null,
   "metadata": {
    "collapsed": false
   },
   "outputs": [],
   "source": [
    "df_cross_spkr_bad_zrt_good_en = df_cross_spkr[(df_cross_spkr['ZRT'] <= 0.87)\\\n",
    "                                              & (df_cross_spkr['EN sim'] > 0.2)]\n",
    "print(\"# of cross-speaker pairs: %d\" % (len(df_cross_spkr_bad_zrt_good_en)))\n",
    "display(df_cross_spkr_bad_zrt_good_en[cols_to_show].head(10))"
   ]
  },
  {
   "cell_type": "code",
   "execution_count": null,
   "metadata": {
    "collapsed": false
   },
   "outputs": [],
   "source": [
    "display(Audio(ch.play_pair_wav(16848)))"
   ]
  },
  {
   "cell_type": "markdown",
   "metadata": {},
   "source": [
    "## Speakers/utterances with most matches"
   ]
  },
  {
   "cell_type": "code",
   "execution_count": null,
   "metadata": {
    "collapsed": false
   },
   "outputs": [],
   "source": [
    "df_spkr_matches = df_valid.apply(lambda row: row['spk1'].rsplit('.', 1)[0] != \\\n",
    "                                   row['spk2'].rsplit('.', 1)[0], \\\n",
    "                                   axis=1)\n",
    "print(\"# of cross-speaker pairs: %d\" % (len(df_cross_spkr)))\n",
    "display(df_cross_spkr[cols_to_show].head(3))\n",
    "df_cross_spkr['ZRT'].hist()"
   ]
  },
  {
   "cell_type": "markdown",
   "metadata": {},
   "source": [
    "## s"
   ]
  },
  {
   "cell_type": "code",
   "execution_count": null,
   "metadata": {
    "collapsed": true
   },
   "outputs": [],
   "source": []
  },
  {
   "cell_type": "markdown",
   "metadata": {},
   "source": [
    "## Label Spreading - speech pair similarity score update using English translations"
   ]
  },
  {
   "cell_type": "code",
   "execution_count": null,
   "metadata": {
    "collapsed": false
   },
   "outputs": [],
   "source": [
    "ch.label_prop_edges.label_spread(ch.en_w_hgr_sim_0)"
   ]
  },
  {
   "cell_type": "code",
   "execution_count": null,
   "metadata": {
    "collapsed": false
   },
   "outputs": [],
   "source": [
    "print(ch.label_prop_edges.belief_0[1])\n",
    "print(ch.label_prop_edges.belief_n[1])\n",
    "print(ch.en_w_hgr_sim_0[1], ch.en_w_hgr_sim_0[2])"
   ]
  },
  {
   "cell_type": "code",
   "execution_count": null,
   "metadata": {
    "collapsed": false
   },
   "outputs": [],
   "source": [
    "df_valid[cols_to_show].sort_values(['ZRT'], ascending=False)"
   ]
  },
  {
   "cell_type": "code",
   "execution_count": null,
   "metadata": {
    "collapsed": false
   },
   "outputs": [],
   "source": [
    "display(ch.play_pair_wav(84, detail=True))"
   ]
  },
  {
   "cell_type": "code",
   "execution_count": null,
   "metadata": {
    "collapsed": false
   },
   "outputs": [],
   "source": [
    "(0.9 * 0.8) + (0.1 * 0.7)"
   ]
  },
  {
   "cell_type": "code",
   "execution_count": null,
   "metadata": {
    "collapsed": false
   },
   "outputs": [],
   "source": [
    "df_valid.columns"
   ]
  },
  {
   "cell_type": "code",
   "execution_count": null,
   "metadata": {
    "collapsed": false
   },
   "outputs": [],
   "source": [
    "sns.jointplot(x='ZRT', y='ES cont match', data=df_valid, kind='kde')"
   ]
  },
  {
   "cell_type": "code",
   "execution_count": null,
   "metadata": {
    "collapsed": false
   },
   "outputs": [],
   "source": [
    "df_valid.columns"
   ]
  },
  {
   "cell_type": "code",
   "execution_count": null,
   "metadata": {
    "collapsed": true
   },
   "outputs": [],
   "source": [
    "%run viewutils.ipynb"
   ]
  },
  {
   "cell_type": "code",
   "execution_count": null,
   "metadata": {
    "collapsed": false
   },
   "outputs": [],
   "source": [
    "# plot_hist_dtw(df_valid, plot_name=\"output/train_20_energy_vad_hist.pdf\")\n",
    "# plot_hist_dtw(df_valid, plot_name=\"output/train_20_transcript_vad_hist.pdf\")"
   ]
  },
  {
   "cell_type": "code",
   "execution_count": null,
   "metadata": {
    "collapsed": false
   },
   "outputs": [],
   "source": [
    "%%timeit -n1 -r1\n",
    "ch_eval.label_prop_en_words.label_spread(ch_eval.edges_dict)\n",
    "print(ch_eval.edges_dict[1])\n",
    "print(ch_eval.en_w_belief[1])\n",
    "print(ch_eval.en_w_belief[2])\n",
    "print(ch_eval.label_prop_en_words.belief_0[1])\n",
    "print(ch_eval.label_prop_en_words.belief_n[1])\n",
    "\n",
    "print(len(ch_eval.en_vocab))\n",
    "print(sorted(ch_eval.en_words_stats.items(), reverse=True, key= lambda x: x[1])[:5])\n",
    "print(ch_eval.en_w_sim_0[1])\n",
    "print(ch_eval.label_prop_en_words.belief_0[1])\n",
    "print(ch_eval.label_prop_en_words.belief_n[1])\n",
    "print(ch_eval.label_prop_en_words.belief_0[2])\n",
    "print(ch_eval.label_prop_en_words.belief_n[2])"
   ]
  },
  {
   "cell_type": "markdown",
   "metadata": {},
   "source": [
    "Trying line plots for metrics"
   ]
  },
  {
   "cell_type": "code",
   "execution_count": null,
   "metadata": {
    "collapsed": false
   },
   "outputs": [],
   "source": [
    "# pairs = pd.Series([0.69, 0.79, 0.37, 0.58, 0.268, 0.484, 0.144, 0.328])\n",
    "# cats = pd.Series(['20 evad: AP', '20 evad: AP w/translations', \\\n",
    "#                   '50 evad: AP', '50 evad: AP w/translations', \\\n",
    "#                   '20 vad: AP', '20 vad: AP w/translations', \\\n",
    "#                   '50 vad: AP', '50 vad: AP w/translations'])\n",
    "# hues = pd.Series(['w/o translations', 'using translations', 'w/o translations', 'using translations', \\\n",
    "#                  'w/o translations', 'using translations', 'w/o translations', 'using translations', \\\n",
    "#                  'w/o translations', 'using translations', 'w/o translations', 'using translations', \\\n",
    "#                  'w/o translations', 'using translations', 'w/o translations', 'using translations'])\n",
    "# sns.barplot(x=pairs, y=cats, hue=hues);\n",
    "\n",
    "# fig = plt.gcf()\n",
    "# fig.tight_layout()\n",
    "\n",
    "#fig.savefig(\"output/avgprecision.pdf\")\n",
    "\n",
    "N = 4\n",
    "no_trans = (0.69, 0.37, 0.268, 0.144)\n",
    "\n",
    "ind = np.arange(N)  # the x locations for the groups\n",
    "width = 0.35       # the width of the bars\n",
    "\n",
    "fig, ax = plt.subplots()\n",
    "rects1 = ax.bar(ind, no_trans, width, color=tableau20[1])\n",
    "\n",
    "with_trans = (0.79, 0.58, 0.484, 0.328)\n",
    "rects2 = ax.bar(ind + width, with_trans, width, color=tableau20[0])\n",
    "\n",
    "# add some text for labels, title and axes ticks\n",
    "ax.set_ylabel('Average Precision', size=16)\n",
    "ax.set_title('Average Precision, with & without translations', size=15)\n",
    "ax.set_xticks(ind + width)\n",
    "ax.set_xticklabels(('20:energy', '50:energy', '20:align', '50:align'), size=16)\n",
    "ax.set_ylim(0.0,1.0)\n",
    "for tick in ax.yaxis.get_major_ticks():\n",
    "                tick.label.set_fontsize(16)\n",
    "\n",
    "ax.legend((rects1[0], rects2[0]), ('without translations', 'with translations'), fontsize=14)\n",
    "\n",
    "\n",
    "# def autolabel(rects):\n",
    "#     # attach some text labels\n",
    "#     for rect in rects:\n",
    "#         height = rect.get_height()\n",
    "#         ax.text(rect.get_x() + rect.get_width()/2., 1.05*height,\n",
    "#                 '%d' % int(height),\n",
    "#                 ha='center', va='bottom')\n",
    "\n",
    "# autolabel(rects1)\n",
    "# autolabel(rects2)\n",
    "\n",
    "fig.savefig(\"output/avgprecision.pdf\")\n"
   ]
  },
  {
   "cell_type": "code",
   "execution_count": null,
   "metadata": {
    "collapsed": false
   },
   "outputs": [],
   "source": [
    "N = 4\n",
    "no_trans = (0.01866, 0.02533, 0.01133, 0.02178)\n",
    "\n",
    "ind = np.arange(N)  # the x locations for the groups\n",
    "width = 0.35       # the width of the bars\n",
    "\n",
    "fig, ax = plt.subplots()\n",
    "rects1 = ax.bar(ind, no_trans, width, color=tableau20[1])\n",
    "\n",
    "with_trans = (0.02408, 0.03209, 0.01368, 0.02579)\n",
    "rects2 = ax.bar(ind + width, with_trans, width, color=tableau20[0])\n",
    "\n",
    "# add some text for labels, title and axes ticks\n",
    "ax.set_ylabel('Average Precision', size=16)\n",
    "ax.set_title('Cross-Speaker Average Precision, with & without translations', size=15, y=1.08)\n",
    "ax.set_xticks(ind + width)\n",
    "ax.set_xticklabels(('20:energy', '50:energy', '20:align', '50:align'), size=16)\n",
    "ax.set_ylim(0.0,0.1)\n",
    "for tick in ax.yaxis.get_major_ticks():\n",
    "                tick.label.set_fontsize(16)\n",
    "\n",
    "ax.legend((rects1[0], rects2[0]), ('without translations', 'with translations'), fontsize=14)\n",
    "fig.tight_layout()\n",
    "\n",
    "fig.savefig(\"output/x_spkr_avgprecision.pdf\")\n",
    "\n"
   ]
  },
  {
   "cell_type": "code",
   "execution_count": 150,
   "metadata": {
    "collapsed": false
   },
   "outputs": [],
   "source": [
    " def format_metrics_plot(ax, fig, title, plotname='', showlegend=False):\n",
    "    ax.set_ylabel(title, size=16)\n",
    "    #ax.set_title(r'Metrics - varying $\\alpha$', size=15, y=1.08)\n",
    "    #ax.set_title(title, size=15, y=1.02)\n",
    "    ax.set_xlabel('Translation similarity utilised', size=15)\n",
    "    ax.set_xticklabels([\"{0:d}%\".format(int(x*100.0)) for x in alpha], size=15)\n",
    "    ax.set_xticks(alpha)\n",
    "    plt.xticks(rotation=60)\n",
    "    ax.set_xlim(0,1)\n",
    "    for tick in ax.yaxis.get_major_ticks():\n",
    "                    tick.label.set_fontsize(14)\n",
    "    if showlegend:\n",
    "        ax.legend(loc='upper center', bbox_to_anchor=(1.25, 1.05),\n",
    "                  ncol=1, fancybox=True, shadow=True, fontsize=14)\n",
    "    fig.tight_layout()\n",
    "    if plotname:\n",
    "        fig.savefig(plotname)"
   ]
  },
  {
   "cell_type": "code",
   "execution_count": 155,
   "metadata": {
    "collapsed": false
   },
   "outputs": [
    {
     "data": {
      "image/png": "[encoded data removed]",
      "text/plain": [
       "<matplotlib.figure.Figure at 0x7f699d45f650>"
      ]
     },
     "metadata": {},
     "output_type": "display_data"
    },
    {
     "data": {
      "image/png": "[encoded data removed]",
      "text/plain": [
       "<matplotlib.figure.Figure at 0x7f697e7afe50>"
      ]
     },
     "metadata": {},
     "output_type": "display_data"
    },
    {
     "data": {
      "image/png": "[encoded data removed]",
      "text/plain": [
       "<matplotlib.figure.Figure at 0x7f69a8370050>"
      ]
     },
     "metadata": {},
     "output_type": "display_data"
    },
    {
     "data": {
      "image/png": "[encoded data removed]",
      "text/plain": [
       "<matplotlib.figure.Figure at 0x7f699d45f210>"
      ]
     },
     "metadata": {},
     "output_type": "display_data"
    }
   ],
   "source": [
    "#### N = 4\n",
    "alpha =  np.arange(0,1.1,0.1)\n",
    "avg_precision_50_align_vad = np.array([0.144, .328, 0.388, 0.41383, 0.42131, \\\n",
    "                              0.42083, 0.41784, 0.41495, 0.41197, 0.40896, 0.38993])\n",
    "\n",
    "avg_precision_50_energy_vad = np.array([0.37782, 0.58698, 0.65583, 0.68022, 0.68980, 0.69156, \\\n",
    "                               0.68633, 0.68359, 0.67942, 0.67588, 0.65945])\n",
    "\n",
    "# ----------------------------------------------------------------------------------------------------------------\n",
    "# 20 files: energy vad\n",
    "# ----------------------------------------------------------------------------------------------------------------\n",
    "# all matches\n",
    "# ----------------------------------------------------------------------------------------------------------------\n",
    "ap_20_evad = np.array([0.694, 0.7967, 0.814, 0.8195, 0.8144, 0.8105, 0.8071, 0.8018, 0.8004, 0.7958, 0.7819])\n",
    "acc_20_evad = np.array([0.8328, 0.9195, 0.9351, 0.9377, 0.9355, 0.9322, 0.929, 0.9267, 0.923, 0.9187, 0.9065])\n",
    "# ----------------------------------------------------------------------------------------------------------------\n",
    "# cross-speaker matches\n",
    "# ----------------------------------------------------------------------------------------------------------------\n",
    "ap_20_evad_x = np.array([0.0187, 0.0241, 0.0294, 0.0332, 0.0362, 0.0374, 0.0375, 0.038, 0.0385, 0.0389, 0.0393])\n",
    "acc_20_evad_x = np.array([0.3124, 0.3732, 0.3986, 0.401, 0.4081, 0.4077, 0.4057, 0.4072, 0.4057, 0.4057, 0.4067])\n",
    "# ----------------------------------------------------------------------------------------------------------------\n",
    "# 50 files: energy vad\n",
    "# ----------------------------------------------------------------------------------------------------------------\n",
    "# all matches\n",
    "# ----------------------------------------------------------------------------------------------------------------\n",
    "ap_50_evad = np.array([0.3778, 0.587, 0.6558, 0.6802, 0.6898, 0.6916, 0.6863, 0.6836, 0.6794, 0.6759, 0.6594])\n",
    "acc_50_evad = np.array([0.791, 0.8776, 0.9019, 0.9113, 0.9116, 0.9103, 0.9089, 0.906, 0.903, 0.9002, 0.8894])\n",
    "# ----------------------------------------------------------------------------------------------------------------\n",
    "# cross-speaker matches\n",
    "# ----------------------------------------------------------------------------------------------------------------\n",
    "ap_50_evad_x = np.array([0.0253, 0.0321, 0.0403, 0.047, 0.0505, 0.052, 0.0525, 0.0532, 0.0532, 0.0534, 0.0552])\n",
    "acc_50_evad_x = np.array([0.4346, 0.5127, 0.5481, 0.5752, 0.5765, 0.5756, 0.5707, 0.5697, 0.5618, 0.5639, 0.5692])\n",
    "# ----------------------------------------------------------------------------------------------------------------\n",
    "# 20 files: align vad\n",
    "# ----------------------------------------------------------------------------------------------------------------\n",
    "# all matches\n",
    "# ----------------------------------------------------------------------------------------------------------------\n",
    "ap_20_avad = np.array([0.2687, 0.4842, 0.5334, 0.5526, 0.56, 0.5621, 0.5625, 0.5614, 0.5596, 0.557, 0.5169])\n",
    "acc_20_avad = np.array([0.7499, 0.8405, 0.8603, 0.8649, 0.865, 0.8638, 0.8626, 0.8616, 0.8578, 0.85, 0.832])\n",
    "# ----------------------------------------------------------------------------------------------------------------\n",
    "# cross-speaker matches\n",
    "# ----------------------------------------------------------------------------------------------------------------\n",
    "ap_20_avad_x = np.array([0.0113, 0.0137, 0.0162, 0.0181, 0.0197, 0.0207, 0.0212, 0.0218, 0.022, 0.0224, 0.023])\n",
    "acc_20_avad_x = np.array([0.3133, 0.3843, 0.4189, 0.435, 0.4448, 0.4481, 0.4483, 0.4539, 0.4538, 0.4531, 0.4416])\n",
    "# ----------------------------------------------------------------------------------------------------------------\n",
    "# 50 files: align vad\n",
    "# ----------------------------------------------------------------------------------------------------------------\n",
    "# all matches\n",
    "# ----------------------------------------------------------------------------------------------------------------\n",
    "ap_50_avad = np.array([0.1449, 0.3287, 0.3882, 0.4138, 0.4213, 0.4208, 0.4178, 0.415, 0.412, 0.409, 0.3899])\n",
    "acc_50_avad = np.array([0.7317, 0.8093, 0.83, 0.8358, 0.8355, 0.8335, 0.8322, 0.8295, 0.8248, 0.806, 0.7957])\n",
    "# ----------------------------------------------------------------------------------------------------------------\n",
    "# cross-speaker matches\n",
    "# ----------------------------------------------------------------------------------------------------------------\n",
    "ap_50_avad_x = np.array([0.0218, 0.0258, 0.0305, 0.0341, 0.0364, 0.0374, 0.0381, 0.0382, 0.0384, 0.0386, 0.0395])\n",
    "acc_50_avad_x = np.array([0.4813, 0.5359, 0.5636, 0.5755, 0.5791, 0.5803, 0.5814, 0.5779, 0.5736, 0.5586, 0.5516])\n",
    "# ----------------------------------------------------------------------------------------------------------------\n",
    "# Plots\n",
    "# ----------------------------------------------------------------------------------------------------------------\n",
    "markers = [\"o\",\"v\",\">\",'*']\n",
    "labels = ['20 calls: energy VAD', '50 calls: energy VAD', '20 calls: align VAD', '50 calls: align VAD']\n",
    "colors = [0, 2, 4, 6]\n",
    "titles = [\"Avg Precision, all pairs\", \"Accuracy, all pairs\", \\\n",
    "          \"Avg Precision, cross-spk pairs\", \"Accuracy, cross-spk pairs\"]\n",
    "plot_names = [\"output/ap_all.pdf\", \"output/acc_all.pdf\", \\\n",
    "              \"output/ap_x.pdf\", \"output/acc_x.pdf\"]\n",
    "fig_size = (8,8)\n",
    "ap_arrays = [ap_20_evad, ap_50_evad, ap_20_avad, ap_50_avad]\n",
    "acc_arrays = [acc_20_evad, acc_50_evad, acc_20_avad, acc_50_avad]\n",
    "ap_x_arrays = [ap_20_evad_x, ap_50_evad_x, ap_20_avad_x, ap_50_avad_x]\n",
    "acc_x_arrays = [acc_20_evad_x, acc_50_evad_x, acc_20_avad_x, acc_50_avad_x]\n",
    "# ----------------------------------------------------------------------------------------------------------------\n",
    "# Avg. Precision for all matches\n",
    "# ----------------------------------------------------------------------------------------------------------------\n",
    "fig, ax = plt.subplots(figsize=fig_size)\n",
    "for i, arr_data in enumerate(ap_arrays):\n",
    "    ax.plot(alpha, arr_data, marker=markers[i], color=tableau20[colors[i]], label=labels[i], markersize=10)\n",
    "ax.yaxis.set_major_locator(MultipleLocator(.1))\n",
    "ax.set_ylim(0,1)\n",
    "format_metrics_plot(ax, fig, titles[0], plotname=plot_names[0], showlegend=True)\n",
    "# ----------------------------------------------------------------------------------------------------------------\n",
    "# Accuracy for all matches\n",
    "# ----------------------------------------------------------------------------------------------------------------\n",
    "fig, ax = plt.subplots(figsize=(8,8))\n",
    "for i, arr_data in enumerate(acc_arrays):\n",
    "    ax.plot(alpha, arr_data, marker=markers[i], color=tableau20[colors[i]], label=labels[i], markersize=10)\n",
    "ax.yaxis.set_major_locator(MultipleLocator(.1))\n",
    "ax.set_ylim(0.6,1)\n",
    "format_metrics_plot(ax, fig, titles[1], plotname=plot_names[1], showlegend=True)\n",
    "# ----------------------------------------------------------------------------------------------------------------\n",
    "# Avg. Precision for all matches\n",
    "# ----------------------------------------------------------------------------------------------------------------\n",
    "fig, ax = plt.subplots(figsize=fig_size)\n",
    "for i, arr_data in enumerate(ap_x_arrays):\n",
    "    ax.plot(alpha, arr_data, marker=markers[i], color=tableau20[colors[i]], label=labels[i], markersize=10)\n",
    "ax.yaxis.set_major_locator(MultipleLocator(.02))\n",
    "ax.set_ylim(0,0.1)\n",
    "format_metrics_plot(ax, fig, titles[2], plotname=plot_names[2], showlegend=True)\n",
    "# ----------------------------------------------------------------------------------------------------------------\n",
    "# Accuracy for all matches\n",
    "# ----------------------------------------------------------------------------------------------------------------\n",
    "fig, ax = plt.subplots(figsize=(8,8))\n",
    "for i, arr_data in enumerate(acc_x_arrays):\n",
    "    ax.plot(alpha, arr_data, marker=markers[i], color=tableau20[colors[i]], label=labels[i], markersize=10)\n",
    "ax.yaxis.set_major_locator(MultipleLocator(.1))\n",
    "ax.set_ylim(0,1)\n",
    "format_metrics_plot(ax, fig, titles[3], plotname=plot_names[3], showlegend=True)\n",
    "\n"
   ]
  },
  {
   "cell_type": "code",
   "execution_count": null,
   "metadata": {
    "collapsed": true
   },
   "outputs": [],
   "source": [
    "for no,yes in zip(no_trans, with_trans):\n",
    "    print((yes-no) / no * 100)"
   ]
  },
  {
   "cell_type": "code",
   "execution_count": null,
   "metadata": {
    "collapsed": false
   },
   "outputs": [],
   "source": [
    "wav_name = \"sp_0897.wav\"\n",
    "# IPython.display.Audio(wav_name)\n",
    "sr1, y1 = scipy.io.wavfile.read(wav_name)\n",
    "print(len(y1) / sr1, len(y1) / sr1 / 60.0)\n",
    "!soxi $wav_name\n",
    "mfcc1 = mfcc(y1, sr1)\n",
    "print(mfcc1.shape)"
   ]
  },
  {
   "cell_type": "markdown",
   "metadata": {},
   "source": [
    "Plot links:\n",
    "\n",
    "- http://stackoverflow.com/questions/4700614/how-to-put-the-legend-out-of-the-plot\n",
    "\n"
   ]
  }
 ],
 "metadata": {
  "kernelspec": {
   "display_name": "Python 2",
   "language": "python",
   "name": "python2"
  },
  "language_info": {
   "codemirror_mode": {
    "name": "ipython",
    "version": 2
   },
   "file_extension": ".py",
   "mimetype": "text/x-python",
   "name": "python",
   "nbconvert_exporter": "python",
   "pygments_lexer": "ipython2",
   "version": "2.7.12"
  }
 },
 "nbformat": 4,
 "nbformat_minor": 0
}
