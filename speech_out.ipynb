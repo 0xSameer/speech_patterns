{
 "cells": [
  {
   "cell_type": "code",
   "execution_count": 120,
   "metadata": {
    "collapsed": true
   },
   "outputs": [],
   "source": [
    "# -*- coding: utf-8 -*-"
   ]
  },
  {
   "cell_type": "code",
   "execution_count": 121,
   "metadata": {
    "collapsed": false
   },
   "outputs": [],
   "source": [
    "from __future__ import division\n",
    "from __future__ import print_function\n",
    "from IPython.display import Audio\n",
    "%matplotlib inline\n",
    "from IPython.display import display\n",
    "# plt.rc('text', usetex=True)\n",
    "# plt.rc('font', family='serif')"
   ]
  },
  {
   "cell_type": "code",
   "execution_count": 122,
   "metadata": {
    "collapsed": false
   },
   "outputs": [],
   "source": [
    "%run \"speechutils.py\"\n",
    "%run \"viewutils.ipynb\""
   ]
  },
  {
   "cell_type": "code",
   "execution_count": 123,
   "metadata": {
    "collapsed": false,
    "scrolled": true
   },
   "outputs": [
    {
     "name": "stdout",
     "output_type": "stream",
     "text": [
      "../../ZRTools/exp/callhome_train_50/matches/config0.80-0.90-0.80-50/master_graph.nodes\n",
      "Loading prep state dictionary ...\n",
      "Finished loading prep state dictionary ...\n",
      "Finished ...\n",
      "Processing line: 100000\n",
      "Processing line: 200000\n",
      "Processing line: 300000\n",
      "Processing line: 400000\n",
      "Processing line: 500000\n",
      "Processing line: 600000\n",
      "Finished - reading nodes ...\n",
      "Processing line: 1\n",
      "Processing line: 100001\n",
      "Processing line: 200001\n",
      "Processing line: 300001\n",
      "Finished - reading edges ...\n",
      "Removing duplicates in pairs list\n",
      "Set length: 125085 and List length: 313761\n",
      "Generating vocabulary of English words ... \n",
      "Finished vocab ...\n",
      "Generating initial belief over English translations\n",
      "Processed 1 nodes\n",
      "Processed 100001 nodes\n",
      "Processed 200001 nodes\n",
      "Processed 300001 nodes\n",
      "Processed 400001 nodes\n",
      "Processed 500001 nodes\n",
      "Processed 600001 nodes\n",
      "Generating similarity between nodes based on English translations ...\n",
      "Finished generating similarity ...\n",
      "Generating similarity between nodes based on English translations ...\n",
      "Finished generating similarity ...\n",
      "Processing line: 1\n",
      "Processing line: 3001\n",
      "Processing line: 6001\n",
      "Processing line: 9001\n",
      "Processing line: 12001\n",
      "Processing line: 15001\n",
      "Processing line: 18001\n",
      "Processing line: 21001\n",
      "Processing line: 24001\n",
      "Processing line: 27001\n",
      "Processing line: 30001\n",
      "Processing line: 33001\n",
      "Processing line: 36001\n",
      "Processing line: 39001\n",
      "Processing line: 42001\n",
      "Processing line: 45001\n",
      "Processing line: 48001\n",
      "Processing line: 51001\n",
      "Processing line: 54001\n",
      "Processing line: 57001\n",
      "Processing line: 60001\n",
      "Processing line: 63001\n",
      "Processing line: 66001\n",
      "Processing line: 69001\n",
      "Processing line: 72001\n",
      "Processing line: 75001\n",
      "Processing line: 78001\n",
      "Processing line: 81001\n",
      "Processing line: 84001\n",
      "Processing line: 87001\n",
      "Processing line: 90001\n",
      "Processing line: 93001\n",
      "Processing line: 96001\n",
      "Processing line: 99001\n",
      "Processing line: 102001\n",
      "Processing line: 105001\n",
      "Processing line: 108001\n",
      "Processing line: 111001\n",
      "Processing line: 114001\n",
      "Processing line: 117001\n",
      "Processing line: 120001\n",
      "Processing line: 123001\n",
      "Total matches: 125085\n",
      "matches with missing transcriptions: 0\n",
      "matches with only sil, sp: 67106\n",
      "Finished - evaluating 125085 pairs ...\n",
      "Setting up eval data frame\n",
      "Finished ...\n",
      "Saving state dictionary ...\n",
      "Finished saving state dictionary ...\n",
      "Total wav files: 9165\n",
      "+--------------------------------------+-----------------------+------------------------+\n",
      "|                 Type                 | Total duration (secs) | Total duration (hours) |\n",
      "+--------------------------------------+-----------------------+------------------------+\n",
      "|         Utterance level VAD          |         30617         |          8.50          |\n",
      "+--------------------------------------+-----------------------+------------------------+\n",
      "| Transcript non sil/sp word durations |         24896         |          6.92          |\n",
      "+--------------------------------------+-----------------------+------------------------+\n",
      "|             Energy based             |          8276         |          2.30          |\n",
      "+--------------------------------------+-----------------------+------------------------+\n",
      "Interpolating similarity matrix ...\n",
      "Finished interpolating similarity matrix ...\n",
      "Updating data frame ...\n",
      "Finished updating data frame ...\n"
     ]
    }
   ],
   "source": [
    "ch = callhome_eval_init(\"config.json\", fast=False, alpha=.1)\n",
    "df_zrt, cols_to_show = ch.gen_zrt_df()"
   ]
  },
  {
   "cell_type": "code",
   "execution_count": 124,
   "metadata": {
    "collapsed": false
   },
   "outputs": [
    {
     "name": "stdout",
     "output_type": "stream",
     "text": [
      "Interpolating similarity matrix ...\n",
      "Finished interpolating similarity matrix ...\n",
      "Updating data frame ...\n",
      "Finished updating data frame ...\n"
     ]
    }
   ],
   "source": [
    "alpha = 0.4\n",
    "ch.interpolate_sim(alpha)\n",
    "df_zrt, cols_to_show = ch.gen_zrt_df()"
   ]
  },
  {
   "cell_type": "markdown",
   "metadata": {},
   "source": [
    "# Analyse ZRT output"
   ]
  },
  {
   "cell_type": "markdown",
   "metadata": {},
   "source": [
    "### Set up visualizations"
   ]
  },
  {
   "cell_type": "code",
   "execution_count": 125,
   "metadata": {
    "collapsed": false
   },
   "outputs": [],
   "source": [
    "def display_pair_and_plot_dtw(pair_id, tosave=False, \\\n",
    "                              offset_1=(0,-1), \\\n",
    "                              offset_2=(0,-1), \\\n",
    "                              n_labels=(\"pair 1\", \"node 1\", \"node 2\"), phones=False):\n",
    "    display(Audio(ch.play_pair_wav(pair_id)))\n",
    "\n",
    "    pair_info = ch.eval_pairs_list[pair_id]\n",
    "    node_1 = ch.node_dict[pair_info['n1']]\n",
    "    node_2 = ch.node_dict[pair_info['n2']]\n",
    "\n",
    "\n",
    "    wav_1 = ch.file_info_dict[node_1.wav_fil].target_file+\".wav\"\n",
    "    wav_2 = ch.file_info_dict[node_2.wav_fil].target_file+\".wav\"\n",
    "\n",
    "\n",
    "    if not phones:\n",
    "        es_words_1 = ch.es_words_dict[node_1.wav_fil]\n",
    "        es_words_2 = ch.es_words_dict[node_2.wav_fil]\n",
    "    else:\n",
    "        es_words_1 = ch.es_phones_dict[node_1.wav_fil]\n",
    "        es_words_2 = ch.es_phones_dict[node_2.wav_fil]\n",
    "    #plot_name = \"output/dtw_pair_1761_1762.pdf\"\n",
    "    # print(wav_1, wav_2)\n",
    "    # print(es_words_1, es_words_2)\n",
    "    wav_1_time = (node_1.start, node_1.end)\n",
    "    wav_2_time = (node_2.start, node_2.end)\n",
    "    plot_name = \"output/{0:d}.pdf\".format(pair_id)\n",
    "    if not tosave:\n",
    "        plot_name = \"\"\n",
    "        \n",
    "    plot_dtw(wav_1, wav_2, es_words_1, es_words_2, \\\n",
    "             wav_1_time, wav_2_time, pair_info['zrt_sim'], plot_name, \\\n",
    "             offset_1, offset_2, n_labels)"
   ]
  },
  {
   "cell_type": "code",
   "execution_count": 126,
   "metadata": {
    "collapsed": true
   },
   "outputs": [],
   "source": [
    "pd.options.display.float_format = '{:,.3f}'.format"
   ]
  },
  {
   "cell_type": "code",
   "execution_count": 127,
   "metadata": {
    "collapsed": false
   },
   "outputs": [],
   "source": [
    "# display(df_zrt.head(1))\n",
    "# display(df_zrt[cols_to_show].head(1))\n",
    "# print(df_zrt.columns)"
   ]
  },
  {
   "cell_type": "markdown",
   "metadata": {},
   "source": [
    "## Pairs discovered"
   ]
  },
  {
   "cell_type": "markdown",
   "metadata": {},
   "source": [
    "### Filter Pairs"
   ]
  },
  {
   "cell_type": "code",
   "execution_count": 128,
   "metadata": {
    "collapsed": false,
    "scrolled": true
   },
   "outputs": [
    {
     "name": "stdout",
     "output_type": "stream",
     "text": [
      "+-----------------------------------------+------------+\n",
      "|                             Description | # of pairs |\n",
      "+-----------------------------------------+------------+\n",
      "|                             Total pairs |   125085   |\n",
      "|             With sil, sp, or no matches |   67106    |\n",
      "| Pairs with speech segments and ES words |   57979    |\n",
      "+-----------------------------------------+------------+\n",
      "Total good scores: 8701, content good scores: 3740\n",
      "Total cross-speaker good scores: 4962, cross-speaker content good scores: 1193\n"
     ]
    }
   ],
   "source": [
    "# Pairs with no matches in ES transcripts or only ['sil','sp'] matches\n",
    "df_no_mtch_sil_only = df_zrt[(df_zrt['no_mtch'] == True) | (df_zrt['sil_only'] == True)]\n",
    "# Pairs only ['sil','sp'] matches\n",
    "df_sil_only = df_zrt[(df_zrt['sil_only'] == True)]\n",
    "# Pairs with no matches in ES transcripts, but no ['sil','sp'] detected\n",
    "df_no_mtch_not_sil = df_zrt[(df_zrt['no_mtch'] == True) & (df_zrt['sil_only'] == False)]\n",
    "\n",
    "# Pairs with ES words found for both nodes\n",
    "df_valid = df_zrt[(df_zrt['no_mtch'] == False) & (df_zrt['sil_only'] == False)]\n",
    "\n",
    "# Filtering two files:\n",
    "# df_valid = df_valid[df_valid.apply(lambda row: remove_invalid_files(row), axis=1)]\n",
    "# df_valid = df_valid[df_valid['dur'] > 600]\n",
    "\n",
    "# out_t = PrettyTable([\"Description\", \"# of pairs\"], hrules=True)\n",
    "out_t = PrettyTable([\"Description\", \"# of pairs\"])\n",
    "out_t.align['Description'] = 'r'\n",
    "out_t.add_row([\"Total pairs\", len(df_zrt)])\n",
    "out_t.add_row([\"With sil, sp, or no matches\", len(df_no_mtch_sil_only)])\n",
    "out_t.add_row([\"Pairs with speech segments and ES words\", len(df_valid)])\n",
    "print(out_t)\n",
    "# print(out_t.get_html_string())\n",
    "df_goodish = df_valid[(df_valid['ES word match']==1)]\n",
    "df_cnt_goodish = df_valid[(df_valid['ES cont match']==1)]\n",
    "df_xspk_goodish = df_valid[(df_valid['ES word match']==1) & (df_valid['cross_spk']==True)]\n",
    "df_cnt_xspk_goodish = df_valid[(df_valid['ES cont match']==1) & (df_valid['cross_spk']==True)]\n",
    "print(\"Total good scores: %d, content good scores: %d\" % (len(df_goodish), len(df_cnt_goodish)))\n",
    "print(\"Total cross-speaker good scores: %d, cross-speaker content good scores: %d\" % \\\n",
    "      (len(df_xspk_goodish), len(df_cnt_xspk_goodish)))\n"
   ]
  },
  {
   "cell_type": "code",
   "execution_count": null,
   "metadata": {
    "collapsed": true
   },
   "outputs": [],
   "source": [
    "alpha = 0.1\n",
    "ch.interpolate_sim(alpha)\n",
    "\n",
    "ap_all = []\n",
    "acc_all = []\n",
    "ap_x = []\n",
    "acc_x = []\n",
    "\n",
    "for alpha in np.arange(0,1.1,.1):\n",
    "    print(alpha)\n",
    "    # Interpolate translation similarity\n",
    "    ch.interpolate_sim(alpha)\n",
    "    \n",
    "    # Calculate avg precision, accuracy for all matches\n",
    "    p_z, r_z, ir_z  = ch.eval_precision_recall(eval_col='cnt_es_w_sim', sim_col='sim mixed', cross_spk=False)\n",
    "    ap_all.append(np.trapz(p_z[::-1], r_z[::-1]))\n",
    "    acc_all.append(np.trapz(r_z[::-1], ir_z[::-1]))\n",
    "    \n",
    "    # Calculate avg precision, accuracy for cross-speaker matches\n",
    "    p_x, r_x, ir_x  = ch.eval_precision_recall(eval_col='cnt_es_w_sim', sim_col='sim mixed', cross_spk=True)\n",
    "    ap_x.append(np.trapz(p_x[::-1], r_x[::-1]))\n",
    "    acc_x.append(np.trapz(r_x[::-1], ir_x[::-1]))\n",
    "\n",
    "print([float(\"{0:.4f}\".format(x)) for x in ap_all])\n",
    "print([float(\"{0:.4f}\".format(x)) for x in acc_all])\n",
    "print([float(\"{0:.4f}\".format(x)) for x in ap_x])\n",
    "print([float(\"{0:.4f}\".format(x)) for x in acc_x])"
   ]
  },
  {
   "cell_type": "code",
   "execution_count": null,
   "metadata": {
    "collapsed": true
   },
   "outputs": [],
   "source": [
    "_, _, _ = ch.eval_precision_recall(eval_col='cnt_es_w_sim', cross_spk=True)\n",
    "_, _, _ = ch.eval_precision_recall(eval_col='cnt_es_w_sim', sim_col='sim mixed', cross_spk=True)"
   ]
  },
  {
   "cell_type": "code",
   "execution_count": null,
   "metadata": {
    "collapsed": true
   },
   "outputs": [],
   "source": [
    "eval_col='cnt_es_w_sim'\n",
    "# eval_col='es_w_sim'\n",
    "\n",
    "fig_pr, fig_roc = ch.miniplot_precision_recall(eval_col=eval_col, cross_spk=False)\n",
    "#fig_pr.suptitle(\"Precision/Recall - 50 calls, energy based VAD\", fontsize=24, y=1.02)\n",
    "# fig_pr.gca().set_title(\"Precision/Recall - 20 calls, evad based VAD\", \\\n",
    "#                        fontsize=24, y=1.02)\n",
    "# fig_pr.tight_layout()\n",
    "# # fiig = plt.gcf()\n",
    "# fig_pr.savefig(\"output/train_20_evad_pr.pdf\")\n",
    "# fig_roc.gca().set_title(\"ROC curve - 20 calls, evad based VAD\", \\\n",
    "#                         fontsize=24, y=1.02)\n",
    "# fig_roc.tight_layout()\n",
    "# fig_roc.savefig(\"output/train_20_evad_roc.pdf\")"
   ]
  },
  {
   "cell_type": "markdown",
   "metadata": {},
   "source": [
    "## Histogram - ZRT values"
   ]
  },
  {
   "cell_type": "code",
   "execution_count": null,
   "metadata": {
    "collapsed": false
   },
   "outputs": [],
   "source": [
    "df_valid[['ZRT']].plot(kind='hist', alpha=0.7)\n",
    "df_valid[['sim mixed']].plot(kind='hist', alpha=0.7)\n",
    "df_valid[['EN sim']].plot(kind='hist', alpha=0.7)"
   ]
  },
  {
   "cell_type": "code",
   "execution_count": null,
   "metadata": {
    "collapsed": false
   },
   "outputs": [],
   "source": [
    "df_valid[['dur']].plot(kind='hist', alpha=0.7, bins=200)"
   ]
  },
  {
   "cell_type": "markdown",
   "metadata": {},
   "source": [
    "## Correlation between DTW and other metrics"
   ]
  },
  {
   "cell_type": "code",
   "execution_count": null,
   "metadata": {
    "collapsed": false
   },
   "outputs": [],
   "source": [
    "display(df_valid[['ZRT', 'EN sim']].corr())\n",
    "display(df_valid[['ZRT', 'ES cont match']].corr())\n",
    "display(df_valid[['EN sim', 'ES cont match']].corr())\n",
    "display(df_valid[['en_w_cnt_count_sim_0', 'ES cont match']].corr())"
   ]
  },
  {
   "cell_type": "code",
   "execution_count": null,
   "metadata": {
    "collapsed": false
   },
   "outputs": [],
   "source": [
    "cnt = defaultdict(int)\n",
    "for i, pair in enumerate(ch.eval_pairs_list):\n",
    "    if pair['cnt_es_w_sim'] > 0:\n",
    "        cnt[0] += 1\n",
    "    if pair['en_w_cnt_count_sim_0'] > 0:\n",
    "        cnt[1] += 1\n",
    "    if pair['en_w_cnt_hgr_sim_0'] > 0 and pair['cnt_es_w_sim'] > 0:\n",
    "        cnt[2] += 1\n",
    "    if pair['en_w_cnt_hgr_sim_0'] == 0 and pair['cnt_es_w_sim'] > 0:\n",
    "        cnt[3] += 1\n",
    "    if pair['en_w_cnt_hgr_sim_0'] > 0 and pair['cnt_es_w_sim'] == 0:\n",
    "        cnt[4] += 1\n",
    "    if pair['en_w_cnt_hgr_sim_0'] > 0 and pair['cnt_es_w_sim'] == 0:\n",
    "        cnt[4] += 1\n",
    "    if pair['en_w_cnt_hgr_sim_0'] > 0 and pair['cnt_es_w_sim'] == 0 and pair['zrt_sim'] < 0.85:\n",
    "        cnt[5] += 1\n",
    "    if pair['cnt_es_w_sim'] > 0 and pair['zrt_sim'] > 0.88:\n",
    "        cnt[6] += 1\n",
    "    if pair['cnt_es_w_sim'] == 0 and pair['zrt_sim'] > 0.88:\n",
    "        cnt[7] += 1\n",
    "\n",
    "print(cnt)"
   ]
  },
  {
   "cell_type": "markdown",
   "metadata": {},
   "source": [
    "# Long matches"
   ]
  },
  {
   "cell_type": "code",
   "execution_count": 42,
   "metadata": {
    "collapsed": false
   },
   "outputs": [
    {
     "name": "stdout",
     "output_type": "stream",
     "text": [
      "0.31308411215\n",
      "0.138745387454\n",
      "0.124760811328\n",
      "0.0645061142828\n"
     ]
    }
   ],
   "source": [
    "print(67/214)\n",
    "print(188/1355)\n",
    "print(1304/10452)\n",
    "print(3740/57979)"
   ]
  },
  {
   "cell_type": "code",
   "execution_count": 43,
   "metadata": {
    "collapsed": false
   },
   "outputs": [
    {
     "name": "stdout",
     "output_type": "stream",
     "text": [
      "# of pairs with duration >= 700ms : 358\n"
     ]
    },
    {
     "data": {
      "text/html": [
       "<div>\n",
       "<table border=\"1\" class=\"dataframe\">\n",
       "  <thead>\n",
       "    <tr style=\"text-align: right;\">\n",
       "      <th></th>\n",
       "      <th>n1</th>\n",
       "      <th>n2</th>\n",
       "      <th>ZRT</th>\n",
       "      <th>ES words n1</th>\n",
       "      <th>ES words n2</th>\n",
       "      <th>ES word match</th>\n",
       "      <th>ES phone edit sim</th>\n",
       "      <th>ES cont match</th>\n",
       "      <th>EN sim</th>\n",
       "      <th>sim mixed</th>\n",
       "      <th>spk1</th>\n",
       "      <th>spk2</th>\n",
       "    </tr>\n",
       "  </thead>\n",
       "  <tbody>\n",
       "    <tr>\n",
       "      <th>77</th>\n",
       "      <td>79</td>\n",
       "      <td>80</td>\n",
       "      <td>0.908</td>\n",
       "      <td>DIFíCILES POR EJEMPLO</td>\n",
       "      <td>FILóCTETES POR EJEMPLO P</td>\n",
       "      <td>1</td>\n",
       "      <td>0.857</td>\n",
       "      <td>1</td>\n",
       "      <td>0.092</td>\n",
       "      <td>0.582</td>\n",
       "      <td>1.049.007</td>\n",
       "      <td>1.049.014</td>\n",
       "    </tr>\n",
       "    <tr>\n",
       "      <th>7114</th>\n",
       "      <td>388</td>\n",
       "      <td>626</td>\n",
       "      <td>0.883</td>\n",
       "      <td>sil LG</td>\n",
       "      <td>EXACTAMENTE</td>\n",
       "      <td>0</td>\n",
       "      <td>0.000</td>\n",
       "      <td>0</td>\n",
       "      <td>0.000</td>\n",
       "      <td>0.530</td>\n",
       "      <td>1.092.005</td>\n",
       "      <td>2.101.050</td>\n",
       "    </tr>\n",
       "    <tr>\n",
       "      <th>16545</th>\n",
       "      <td>626</td>\n",
       "      <td>626</td>\n",
       "      <td>0.889</td>\n",
       "      <td>EXACTAMENTE</td>\n",
       "      <td>EXACTAMENTE</td>\n",
       "      <td>1</td>\n",
       "      <td>1.000</td>\n",
       "      <td>1</td>\n",
       "      <td>0.000</td>\n",
       "      <td>0.889</td>\n",
       "      <td>2.101.050</td>\n",
       "      <td>2.101.050</td>\n",
       "    </tr>\n",
       "    <tr>\n",
       "      <th>16689</th>\n",
       "      <td>626</td>\n",
       "      <td>5352</td>\n",
       "      <td>0.864</td>\n",
       "      <td>EXACTAMENTE</td>\n",
       "      <td>sil ESTE</td>\n",
       "      <td>0</td>\n",
       "      <td>0.000</td>\n",
       "      <td>0</td>\n",
       "      <td>0.000</td>\n",
       "      <td>0.518</td>\n",
       "      <td>2.101.050</td>\n",
       "      <td>1.093.030</td>\n",
       "    </tr>\n",
       "    <tr>\n",
       "      <th>16921</th>\n",
       "      <td>626</td>\n",
       "      <td>41532</td>\n",
       "      <td>0.851</td>\n",
       "      <td>EXACTAMENTE</td>\n",
       "      <td>BUENO sp sil</td>\n",
       "      <td>0</td>\n",
       "      <td>0.000</td>\n",
       "      <td>0</td>\n",
       "      <td>0.000</td>\n",
       "      <td>0.511</td>\n",
       "      <td>2.101.050</td>\n",
       "      <td>1.056.124</td>\n",
       "    </tr>\n",
       "    <tr>\n",
       "      <th>16956</th>\n",
       "      <td>626</td>\n",
       "      <td>292706</td>\n",
       "      <td>0.904</td>\n",
       "      <td>EXACTAMENTE</td>\n",
       "      <td>sp YA sil</td>\n",
       "      <td>0</td>\n",
       "      <td>0.000</td>\n",
       "      <td>0</td>\n",
       "      <td>0.000</td>\n",
       "      <td>0.542</td>\n",
       "      <td>2.101.050</td>\n",
       "      <td>1.094.130</td>\n",
       "    </tr>\n",
       "    <tr>\n",
       "      <th>28564</th>\n",
       "      <td>1323</td>\n",
       "      <td>1324</td>\n",
       "      <td>0.932</td>\n",
       "      <td>EN DONDE</td>\n",
       "      <td>DONDE EN DONDE sp</td>\n",
       "      <td>1</td>\n",
       "      <td>0.778</td>\n",
       "      <td>0</td>\n",
       "      <td>0.000</td>\n",
       "      <td>0.932</td>\n",
       "      <td>1.049.040</td>\n",
       "      <td>1.049.040</td>\n",
       "    </tr>\n",
       "    <tr>\n",
       "      <th>28570</th>\n",
       "      <td>1329</td>\n",
       "      <td>1330</td>\n",
       "      <td>0.913</td>\n",
       "      <td>SIMPLEMENTE EXPONGO</td>\n",
       "      <td>SIMPLEMENTE</td>\n",
       "      <td>1</td>\n",
       "      <td>0.846</td>\n",
       "      <td>1</td>\n",
       "      <td>0.069</td>\n",
       "      <td>0.575</td>\n",
       "      <td>1.049.040</td>\n",
       "      <td>1.049.062</td>\n",
       "    </tr>\n",
       "    <tr>\n",
       "      <th>29815</th>\n",
       "      <td>2250</td>\n",
       "      <td>373994</td>\n",
       "      <td>0.903</td>\n",
       "      <td>ESTUDIANTES Y</td>\n",
       "      <td>DE</td>\n",
       "      <td>0</td>\n",
       "      <td>0.000</td>\n",
       "      <td>0</td>\n",
       "      <td>0.000</td>\n",
       "      <td>0.542</td>\n",
       "      <td>1.103.009</td>\n",
       "      <td>1.106.097</td>\n",
       "    </tr>\n",
       "    <tr>\n",
       "      <th>29816</th>\n",
       "      <td>2250</td>\n",
       "      <td>373996</td>\n",
       "      <td>0.897</td>\n",
       "      <td>ESTUDIANTES Y</td>\n",
       "      <td>DE</td>\n",
       "      <td>0</td>\n",
       "      <td>0.000</td>\n",
       "      <td>0</td>\n",
       "      <td>0.000</td>\n",
       "      <td>0.538</td>\n",
       "      <td>1.103.009</td>\n",
       "      <td>1.106.097</td>\n",
       "    </tr>\n",
       "  </tbody>\n",
       "</table>\n",
       "</div>"
      ],
      "text/plain": [
       "         n1      n2   ZRT            ES words n1               ES words n2  \\\n",
       "77       79      80 0.908  DIFíCILES POR EJEMPLO  FILóCTETES POR EJEMPLO P   \n",
       "7114    388     626 0.883                 sil LG               EXACTAMENTE   \n",
       "16545   626     626 0.889            EXACTAMENTE               EXACTAMENTE   \n",
       "16689   626    5352 0.864            EXACTAMENTE                  sil ESTE   \n",
       "16921   626   41532 0.851            EXACTAMENTE              BUENO sp sil   \n",
       "16956   626  292706 0.904            EXACTAMENTE                 sp YA sil   \n",
       "28564  1323    1324 0.932               EN DONDE         DONDE EN DONDE sp   \n",
       "28570  1329    1330 0.913    SIMPLEMENTE EXPONGO               SIMPLEMENTE   \n",
       "29815  2250  373994 0.903          ESTUDIANTES Y                        DE   \n",
       "29816  2250  373996 0.897          ESTUDIANTES Y                        DE   \n",
       "\n",
       "       ES word match  ES phone edit sim  ES cont match  EN sim  sim mixed  \\\n",
       "77                 1              0.857              1   0.092      0.582   \n",
       "7114               0              0.000              0   0.000      0.530   \n",
       "16545              1              1.000              1   0.000      0.889   \n",
       "16689              0              0.000              0   0.000      0.518   \n",
       "16921              0              0.000              0   0.000      0.511   \n",
       "16956              0              0.000              0   0.000      0.542   \n",
       "28564              1              0.778              0   0.000      0.932   \n",
       "28570              1              0.846              1   0.069      0.575   \n",
       "29815              0              0.000              0   0.000      0.542   \n",
       "29816              0              0.000              0   0.000      0.538   \n",
       "\n",
       "            spk1       spk2  \n",
       "77     1.049.007  1.049.014  \n",
       "7114   1.092.005  2.101.050  \n",
       "16545  2.101.050  2.101.050  \n",
       "16689  2.101.050  1.093.030  \n",
       "16921  2.101.050  1.056.124  \n",
       "16956  2.101.050  1.094.130  \n",
       "28564  1.049.040  1.049.040  \n",
       "28570  1.049.040  1.049.062  \n",
       "29815  1.103.009  1.106.097  \n",
       "29816  1.103.009  1.106.097  "
      ]
     },
     "execution_count": 43,
     "metadata": {},
     "output_type": "execute_result"
    }
   ],
   "source": [
    "long_dur_ms = 700\n",
    "df_long_dur = df_valid[df_valid['dur'] >= long_dur_ms]\n",
    "print(\"# of pairs with duration >= %dms : %d\" % (long_dur_ms, len(df_long_dur)))\n",
    "df_long_dur[cols_to_show].head(10)"
   ]
  },
  {
   "cell_type": "code",
   "execution_count": null,
   "metadata": {
    "collapsed": false
   },
   "outputs": [],
   "source": [
    "nodes_table = PrettyTable([\"Node id\", \"Speech file\", \\\n",
    "                           \"Start time(ms)\", \\\n",
    "                           \"End time(ms)\"])\n",
    "transcripts_table = PrettyTable([\"Node id\", \"ES words\", \\\n",
    "                           \"ES content words\"])\n",
    "\n",
    "scores_table = PrettyTable([\"Pair id\", \"Node 1\", \"Node 2\", \"DTW score\", \"ES content word match\"])\n",
    "\n",
    "\n",
    "# for i in range(1,5)+[27, 28, 61, 62, 64, 1761,1762]:\n",
    "#     nodes_table.add_row([i, ch.node_dict[i].wav_fil+\".wav\", ch.node_dict[i].start, \\\n",
    "#                         ch.node_dict[i].end])\n",
    "#     #print((' '.join(ch.node_dict[i].es_cnt_words).decode('utf-8')))\n",
    "#     es_w = (' '.join(ch.node_dict[i].es_words).decode('utf-8'))\n",
    "#     if ch.node_dict[i].es_cnt_words:\n",
    "#         es_cnt_w = (' '.join(ch.node_dict[i].es_cnt_words).decode('utf-8')).strip()\n",
    "#     else:\n",
    "#         es_cnt_w = '---'\n",
    "#     #print(i, set(ch.node_dict[i].es_cnt_words) - set(['sil', 'sp']))\n",
    "#     es_w = es_w.replace('sil', '').replace('sp', '')\n",
    "#     es_cnt_w = es_cnt_w.replace('sil', '').replace('sp', '')\n",
    "#     transcripts_table.add_row([i, es_w, es_cnt_w])\n",
    "\n",
    "# found = 0\n",
    "# for i, pair in enumerate(ch.eval_pairs_list):\n",
    "#     if found == 10:\n",
    "#         break\n",
    "#     if pair['cnt_es_w_sim'] > 0 or i<=2:\n",
    "#         scores_table.add_row([i, pair['n1'], pair['n2'], pair['zrt_sim'], pair['cnt_es_w_sim']])\n",
    "#         found += 1\n",
    "\n",
    "# print(nodes_table)\n",
    "# print(transcripts_table)\n",
    "# print(scores_table)\n",
    "# #print(' '.join(ch.node_dict[2].es_words))\n",
    "\n",
    "\n",
    "# display(ch.eval_pairs_list[1])\n",
    "# found = 0\n",
    "# for i, pair in enumerate(ch.eval_pairs_list):\n",
    "#     if pair['zrt_sim'] >= 0.88 and len(pair['es_w_n1'].split()) >= 1 \\\n",
    "#     and pair['en_w_hgr_sim_0'] == 0 \\\n",
    "#     and pair['sil_only'] == False \\\n",
    "#     and pair['uid1'] != pair['uid2']:\n",
    "#         print(i, pair['n1'], pair['n2'], \\\n",
    "#               pair['es_w_n1'].decode('utf-8'), pair['es_w_n2'].decode('utf-8'),\\\n",
    "#              pair['cnt_es_w_sim'])\n",
    "#         found += 1\n",
    "#         if found == 5:\n",
    "#             break\n",
    "# print(found)\n",
    "\n",
    "\n",
    "# found = 0\n",
    "# for i, pair in enumerate(ch.eval_pairs_list):\n",
    "#     if pair['dur'] >= 100 \\\n",
    "#     and pair['en_w_hgr_sim_0'] == 0 and pair['sil_only'] == True:\n",
    "#         print(i, pair['n1'], pair['n2'], \\\n",
    "#               pair['es_w_n1'].decode('utf-8'), pair['es_w_n2'].decode('utf-8'),\\\n",
    "#              pair['cnt_es_w_sim'])\n",
    "#         found += 1\n",
    "#         if found == 5:\n",
    "#             break\n",
    "# print(found)"
   ]
  },
  {
   "cell_type": "code",
   "execution_count": null,
   "metadata": {
    "collapsed": false
   },
   "outputs": [],
   "source": [
    "print(ch.eval_pairs_list[0].keys())"
   ]
  },
  {
   "cell_type": "code",
   "execution_count": null,
   "metadata": {
    "collapsed": false
   },
   "outputs": [],
   "source": [
    "nodes_list = []\n",
    "for i, pair in enumerate(ch.eval_pairs_list):\n",
    "    nodes_list.append(pair['n1'])\n",
    "    nodes_list.append(pair['n2'])\n",
    "\n",
    "n = len(nodes_list)\n",
    "print('Number of nodes: %d' % n)\n",
    "olap_vals = []\n",
    "for i in xrange(n-1):\n",
    "    if i % 1000 == 0:\n",
    "        print(i, sep=', ', end=', ')\n",
    "    for j in xrange(i+1,n):\n",
    "        olap_vals.append(ch.calc_node_overlap(nodes_list[i],nodes_list[j]))\n",
    "    "
   ]
  },
  {
   "cell_type": "code",
   "execution_count": null,
   "metadata": {
    "collapsed": false
   },
   "outputs": [],
   "source": [
    "olap_vals = np.array(olap_vals, dtype=np.float)\n",
    "print(\"\\nMean: %0.3f\" % np.mean(olap_vals))"
   ]
  },
  {
   "cell_type": "code",
   "execution_count": null,
   "metadata": {
    "collapsed": true
   },
   "outputs": [],
   "source": [
    "cPickle.dump(olap_vals, open('olap_20_avad_vals.np', \"wb\"))"
   ]
  },
  {
   "cell_type": "code",
   "execution_count": null,
   "metadata": {
    "collapsed": false
   },
   "outputs": [],
   "source": [
    "olap_50_evad_mean = 0.056\n",
    "olap_20_avad_mean = 0.077"
   ]
  },
  {
   "cell_type": "code",
   "execution_count": null,
   "metadata": {
    "collapsed": false
   },
   "outputs": [],
   "source": [
    "%run viewutils.ipynb\n",
    "display_pair_and_plot_dtw(963, tosave=False, \\\n",
    "                          offset_1=(0,None), \\\n",
    "                          offset_2=(0,None), \\\n",
    "                          n_labels=(\"Pair 5\", \"segment 9\", \"segment 10\"),phones=False)\n",
    "\n",
    "# %run viewutils.ipynb\n",
    "# display_pair_and_plot_dtw(15, tosave=False, \\\n",
    "#                           offset_1=(55,61), \\\n",
    "#                           offset_2=(150,156), \\\n",
    "#                           n_labels=(\"Pair 5\", \"segment 9\", \"segment 10\"))\n",
    "\n",
    "print(' '.join(ch.en_cnt_words_dict[ch.node_dict[180].wav_fil]))\n",
    "print(' '.join(ch.en_cnt_words_dict[ch.node_dict[1674].wav_fil]))\n",
    "print(' '.join(ch.node_dict[180].es_cnt_words))\n",
    "print(' '.join(ch.node_dict[1674].es_cnt_words))"
   ]
  },
  {
   "cell_type": "code",
   "execution_count": null,
   "metadata": {
    "collapsed": true
   },
   "outputs": [],
   "source": [
    "display(Audio(ch.play_pair_wav(15, detail=True)))"
   ]
  },
  {
   "cell_type": "code",
   "execution_count": null,
   "metadata": {
    "collapsed": true
   },
   "outputs": [],
   "source": [
    "display(Audio(ch.play_node_wav(20)))\n",
    "# display(Audio('../../corpora/callhome_es/out/lala.wav'))\n",
    "# display(Audio(ch.play_node_source_wav(12)))\n",
    "for i, val in enumerate(ch.es_words_dict['050.048']):\n",
    "    print(i, val.start)"
   ]
  },
  {
   "cell_type": "code",
   "execution_count": null,
   "metadata": {
    "collapsed": true
   },
   "outputs": [],
   "source": [
    "display(Audio(ch.play_pair_wav(34)))\n",
    "display(Audio(ch.play_pair_wav(5119)))"
   ]
  },
  {
   "cell_type": "code",
   "execution_count": null,
   "metadata": {
    "collapsed": true
   },
   "outputs": [],
   "source": [
    "display(ch.play_node_wav(619))\n",
    "display(ch.play_node_wav(620))\n",
    "display(ch.play_node_wav(45))\n",
    "display(ch.play_node_wav(46))\n",
    "\n",
    "node_1_file = ch.play_node_wav(1761)\n",
    "node_2_file = ch.play_node_wav(1762)\n",
    "display(node_1_file)\n",
    "display(node_2_file)\n",
    "# display(ch.play_node_source_wav(76605))"
   ]
  },
  {
   "cell_type": "code",
   "execution_count": null,
   "metadata": {
    "collapsed": true
   },
   "outputs": [],
   "source": [
    "plot_dtw(node_1_file, node_2_file)"
   ]
  },
  {
   "cell_type": "code",
   "execution_count": null,
   "metadata": {
    "collapsed": false
   },
   "outputs": [],
   "source": [
    "%run viewutils.ipynb\n",
    "node_id = 1761\n",
    "\n",
    "node_info = ch.node_dict[node_id]\n",
    "wav_file = node_info.wav_fil\n",
    "target_file = ch.file_info_dict[wav_file].target_file+\".wav\"\n",
    "es_words = ch.es_words_dict[wav_file]\n",
    "plot_name = \"output/bautismo_1761.pdf\"\n",
    "\n",
    "plot_specgram_words(target_file, es_words, plot_name, offset=(0,10))\n",
    "\n",
    "print(ch.en_words_dict[wav_file])"
   ]
  },
  {
   "cell_type": "code",
   "execution_count": null,
   "metadata": {
    "collapsed": false,
    "scrolled": true
   },
   "outputs": [],
   "source": [
    "node_id = 1762\n",
    "\n",
    "node_info = ch.node_dict[node_id]\n",
    "wav_file = node_info.wav_fil\n",
    "target_file = ch.file_info_dict[wav_file].target_file+\".wav\"\n",
    "es_words = ch.es_words_dict[wav_file]\n",
    "plot_name = \"output/bautismo_1762.pdf\"\n",
    "\n",
    "plot_specgram_words(target_file, es_words, plot_name, offset=(0,12))\n",
    "\n",
    "print(\"English translation:\\n%s\" % ' '.join(ch.en_words_dict[wav_file]))"
   ]
  },
  {
   "cell_type": "code",
   "execution_count": null,
   "metadata": {
    "collapsed": false
   },
   "outputs": [],
   "source": [
    "2680-1710"
   ]
  },
  {
   "cell_type": "code",
   "execution_count": null,
   "metadata": {
    "collapsed": false
   },
   "outputs": [],
   "source": [
    "display(Audio(ch.play_pair_wav(5118)))"
   ]
  },
  {
   "cell_type": "code",
   "execution_count": null,
   "metadata": {
    "collapsed": true
   },
   "outputs": [],
   "source": [
    "# %run viewutils.ipynb\n",
    "\n",
    "# node_1 = ch.node_dict[1761]\n",
    "# node_2 = ch.node_dict[1762]\n",
    "\n",
    "# wav_1 = ch.file_info_dict[node_1.wav_fil].target_file+\".wav\"\n",
    "# wav_2 = ch.file_info_dict[node_2.wav_fil].target_file+\".wav\"\n",
    "\n",
    "# es_words_1 = ch.es_words_dict[node_1.wav_fil]\n",
    "# es_words_2 = ch.es_words_dict[node_2.wav_fil]\n",
    "# plot_name = \"output/dtw_pair_1761_1762.pdf\"\n",
    "# # print(wav_1, wav_2)\n",
    "# # print(es_words_1, es_words_2)\n",
    "# wav_1_time = (node_1.start, node_1.end)\n",
    "# wav_2_time = (node_2.start, node_2.end)\n",
    "# plot_dtw(wav_1, wav_2, es_words_1, es_words_2, \\\n",
    "#          wav_1_time, wav_2_time, plot_name)"
   ]
  },
  {
   "cell_type": "code",
   "execution_count": 116,
   "metadata": {
    "collapsed": true
   },
   "outputs": [],
   "source": [
    "%run viewutils.ipynb"
   ]
  },
  {
   "cell_type": "code",
   "execution_count": 117,
   "metadata": {
    "collapsed": true
   },
   "outputs": [],
   "source": [
    "tosave=False"
   ]
  },
  {
   "cell_type": "code",
   "execution_count": 118,
   "metadata": {
    "collapsed": true
   },
   "outputs": [],
   "source": [
    "def plot_labels(n1_l, n2_l, dtw):\n",
    "    ax = plt.gca()\n",
    "    "
   ]
  },
  {
   "cell_type": "code",
   "execution_count": 119,
   "metadata": {
    "collapsed": false
   },
   "outputs": [
    {
     "name": "stdout",
     "output_type": "stream",
     "text": [
      "Playing evaluation pair id: 5118\n",
      "Pair text details\n",
      "+---------+----------------------+-----------------------------------------------+\n",
      "| node id |    ES transcript     |                 EN translation                |\n",
      "+---------+----------------------+-----------------------------------------------+\n",
      "|   1761  | ACTA DE BAUTISMO sil |     to tell them to send me my baptism act    |\n",
      "+---------+----------------------+-----------------------------------------------+\n",
      "|   1762  | ACTA DE BAUTISMO sil | we are going to need the sacrament of baptism |\n",
      "|         |                      |                     paper                     |\n",
      "+---------+----------------------+-----------------------------------------------+\n",
      "Similarity metrics\n",
      "+----------------------------------------+------------------+\n",
      "|            Similarity Type             | Similarity Value |\n",
      "+----------------------------------------+------------------+\n",
      "|                  ZRT                   |      0.933       |\n",
      "+----------------------------------------+------------------+\n",
      "|         ES content* word match         |        1         |\n",
      "+----------------------------------------+------------------+\n",
      "|             ES word match              |        1         |\n",
      "+----------------------------------------+------------------+\n",
      "|       ES phoneme Edit Similarity       |      1.000       |\n",
      "+----------------------------------------+------------------+\n",
      "|         EN content* word match         |        1         |\n",
      "+----------------------------------------+------------------+\n",
      "| EN content* words Hellinger Similarity |      0.119       |\n",
      "+----------------------------------------+------------------+\n",
      "|             EN word match              |        1         |\n",
      "+----------------------------------------+------------------+\n",
      "|     EN words Hellinger Similarity      |      0.137       |\n",
      "+----------------------------------------+------------------+\n",
      "Node details\n",
      "+---------+------------+--------+-----------+---------+---------+\n",
      "| node id | uttrnce id | spk id | start(ms) | end(ms) | dur(ms) |\n",
      "+---------+------------+--------+-----------+---------+---------+\n",
      "|   1761  |  049.142   |   1    |    1770   |   2670  |   900   |\n",
      "+---------+------------+--------+-----------+---------+---------+\n",
      "|   1762  |  049.152   |   1    |    2790   |   3720  |   930   |\n",
      "+---------+------------+--------+-----------+---------+---------+\n"
     ]
    },
    {
     "data": {
      "text/html": [
       "\n",
       "                <audio controls=\"controls\" >\n",
       "                    <source src=\"data:audio/x-wav;base64,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\" type=\"audio/x-wav\" />\n",
       "                    Your browser does not support the audio element.\n",
       "                </audio>\n",
       "              "
      ],
      "text/plain": [
       "<IPython.lib.display.Audio object>"
      ]
     },
     "metadata": {},
     "output_type": "display_data"
    },
    {
     "name": "stdout",
     "output_type": "stream",
     "text": [
      "MI ACTA DE BAUTISMO sil\n",
      "DEL ACTA DE BAUTISMO sil\n",
      "DTW distance: 54.530782\n",
      "tell send baptism act\n",
      "going need sacrament baptism paper\n",
      "ACTA BAUTISMO sil\n",
      "ACTA BAUTISMO sil\n"
     ]
    },
    {
     "data": {
      "image/png": "[encoded data removed]",
      "text/plain": [
       "<matplotlib.figure.Figure at 0x7fc7d02b2cd0>"
      ]
     },
     "metadata": {},
     "output_type": "display_data"
    }
   ],
   "source": [
    "%run viewutils.ipynb\n",
    "display_pair_and_plot_dtw(5118, tosave=tosave, \\\n",
    "                          offset_1=(6,None), \\\n",
    "                          offset_2=(8,None), \\\n",
    "                          n_labels=(\"Pair 1\", \"segment 1\", \"segment 2\"))\n",
    "\n",
    "print(' '.join(ch.en_cnt_words_dict[ch.node_dict[1761].wav_fil]))\n",
    "print(' '.join(ch.en_cnt_words_dict[ch.node_dict[1762].wav_fil]))\n",
    "print(' '.join(ch.node_dict[1761].es_cnt_words))\n",
    "print(' '.join(ch.node_dict[1762].es_cnt_words))"
   ]
  },
  {
   "cell_type": "code",
   "execution_count": null,
   "metadata": {
    "collapsed": false
   },
   "outputs": [],
   "source": [
    "display_pair_and_plot_dtw(15944, tosave=tosave, \\\n",
    "                          offset_1=(4,-2), \\\n",
    "                          offset_2=(3,-2), \\\n",
    "                          n_labels=(\"Pair 2\", \"segment 3\", \"segment 4\"))\n",
    "\n",
    "print(' '.join(ch.en_cnt_words_dict[ch.node_dict[33935].wav_fil]))\n",
    "print(' '.join(ch.en_cnt_words_dict[ch.node_dict[33936].wav_fil]))\n",
    "print(' '.join(ch.node_dict[33935].es_cnt_words))\n",
    "print(' '.join(ch.node_dict[33936].es_cnt_words))"
   ]
  },
  {
   "cell_type": "code",
   "execution_count": null,
   "metadata": {
    "collapsed": false
   },
   "outputs": [],
   "source": [
    "print(ch.en_w_cnt_belief[44099])\n",
    "print(' & '.join([ch.i2w[w] for w in ch.en_w_cnt_belief[44099]]))\n",
    "print(' & '.join([\"{0:.2f}\".format(b) for b in ch.en_w_cnt_belief[44099].values()]))\n",
    "\n",
    "print([ch.i2w[w] for w in ch.en_w_cnt_belief[44100]])\n",
    "print([\"{0:.2f}\".format(b) for b in ch.en_w_cnt_belief[44100].values()])"
   ]
  },
  {
   "cell_type": "code",
   "execution_count": null,
   "metadata": {
    "collapsed": false
   },
   "outputs": [],
   "source": [
    "display_pair_and_plot_dtw(16848, tosave=tosave, \\\n",
    "                          offset_1=(6,9), \\\n",
    "                          offset_2=(1,4), \\\n",
    "                          n_labels=(\"Pair 3\", \"segment 5\", \"segment 6\"))\n",
    "\n",
    "print(ch.node_dict[44099].es_cnt_words)\n",
    "print(ch.node_dict[44100].es_cnt_words)\n",
    "print(' '.join(ch.en_cnt_words_dict[ch.node_dict[44099].wav_fil]))\n",
    "print(' '.join(ch.en_cnt_words_dict[ch.node_dict[44100].wav_fil]))\n",
    "print(' '.join(ch.node_dict[44099].es_cnt_words))\n",
    "print(' '.join(ch.node_dict[44100].es_cnt_words))"
   ]
  },
  {
   "cell_type": "code",
   "execution_count": null,
   "metadata": {
    "collapsed": false
   },
   "outputs": [],
   "source": [
    "display_pair_and_plot_dtw(19326, tosave=tosave, \\\n",
    "                          offset_1=(0,3), \\\n",
    "                          offset_2=(0,3), \\\n",
    "                          n_labels=(\"pair 4\", \"node 7\", \"node 8\"))"
   ]
  },
  {
   "cell_type": "markdown",
   "metadata": {},
   "source": [
    "## Callhome 50, evad"
   ]
  },
  {
   "cell_type": "code",
   "execution_count": null,
   "metadata": {
    "collapsed": false
   },
   "outputs": [],
   "source": [
    "display_pair_and_plot_dtw(817, tosave=False)"
   ]
  },
  {
   "cell_type": "markdown",
   "metadata": {},
   "source": [
    "### High phoneme score"
   ]
  },
  {
   "cell_type": "code",
   "execution_count": null,
   "metadata": {
    "collapsed": true
   },
   "outputs": [],
   "source": [
    "df_phone_score_hi = df_valid[(df_valid['ES phone edit sim'] >= 0.6) \\\n",
    "                            & (df_valid['EN sim'] == 0)]\n",
    "print(\"Pairs with high phoneme similarity score: %d\" % len(df_phone_score_hi))\n",
    "\n",
    "f, ax = plt.subplots(figsize=(10, 6))\n",
    "df_phone_score_hi[['ZRT']].hist(ax=ax, alpha=0.7)\n",
    "ax.set_xlabel('phoneme similarity score >= 0.5', fontsize=16)\n",
    "# sns.rugplot(df_phone_score_0['ZRT'], color=\"b\", ax=ax)\n",
    "plt.tick_params(which='both', labelsize=12)\n",
    "# plt.colorbar(aplot)"
   ]
  },
  {
   "cell_type": "code",
   "execution_count": null,
   "metadata": {
    "collapsed": true
   },
   "outputs": [],
   "source": [
    "df_phone_score_hi[cols_to_show].head(5)"
   ]
  },
  {
   "cell_type": "code",
   "execution_count": null,
   "metadata": {
    "collapsed": true
   },
   "outputs": [],
   "source": [
    "display(Audio(ch.play_pair_wav(75)))"
   ]
  },
  {
   "cell_type": "markdown",
   "metadata": {},
   "source": [
    "## Low phoneme score"
   ]
  },
  {
   "cell_type": "code",
   "execution_count": null,
   "metadata": {
    "collapsed": false
   },
   "outputs": [],
   "source": [
    "df_phone_score_0 = df_valid[(df_valid['ES phone edit sim'] == 0)]\n",
    "print(\"Pairs with 0 phoneme similarity score: %d\" % len(df_phone_score_0))\n",
    "\n",
    "f, ax = plt.subplots(figsize=(10, 6))\n",
    "df_phone_score_0[['ZRT']].hist(ax=ax, alpha=0.7)\n",
    "ax.set_xlabel('phoneme similarity score = 0', fontsize=16)\n",
    "# sns.rugplot(df_phone_score_0['ZRT'], color=\"b\", ax=ax)\n",
    "plt.tick_params(which='both', labelsize=12)\n",
    "# plt.colorbar(aplot)"
   ]
  },
  {
   "cell_type": "markdown",
   "metadata": {},
   "source": [
    "** Analysis:** The plot shows a lot of high DTW score pairs where there is no match in the phonemes"
   ]
  },
  {
   "cell_type": "code",
   "execution_count": null,
   "metadata": {
    "collapsed": false
   },
   "outputs": [],
   "source": [
    "df_phone_score_0_high_dtw = df_phone_score_0[df_phone_score_0['ZRT'] > 0.87]\n",
    "print(\"Pairs with high DTW and 0 phoneme similarity score: %d\" % len(df_phone_score_0_high_dtw))\n",
    "\n",
    "display(df_phone_score_0_high_dtw[cols_to_show].head(3))\n",
    "# ch.play_pair_wav(28)"
   ]
  },
  {
   "cell_type": "code",
   "execution_count": null,
   "metadata": {
    "collapsed": false
   },
   "outputs": [],
   "source": [
    "df_phone_score_0_en_score_0 = df_phone_score_0[df_phone_score_0['EN sim'] == 0]\n",
    "print(\"Pairs with 0 phoneme score and 0 EN sim: %d\" % len(df_phone_score_0_en_score_0))\n",
    "# display(df_phone_score_0_en_score_0[cols_to_show][df_phone_score_0_en_score_0['ZRT'] < 0.82].head(3))\n",
    "display(df_phone_score_0_en_score_0[cols_to_show].head(3))\n",
    "\n",
    "df_phone_score_0_high_dtw_en_score_0 = df_phone_score_0_high_dtw[df_phone_score_0_high_dtw['EN sim'] == 0]\n",
    "print(\"Pairs with high DTW and 0 phoneme score and 0 EN sim: %d\" % len(df_phone_score_0_high_dtw_en_score_0))\n",
    "display(df_phone_score_0_high_dtw_en_score_0[cols_to_show].head(3))"
   ]
  },
  {
   "cell_type": "code",
   "execution_count": null,
   "metadata": {
    "collapsed": false
   },
   "outputs": [],
   "source": [
    "# display(ch.play_pair_wav(594, detail=True))\n",
    "display(ch.play_pair_wav(52, detail=False))\n",
    "# display(ch.play_node_source_wav(131))"
   ]
  },
  {
   "cell_type": "code",
   "execution_count": null,
   "metadata": {
    "collapsed": false
   },
   "outputs": [],
   "source": [
    "ch.file_info_dict[\"049.156\"].source_file"
   ]
  },
  {
   "cell_type": "code",
   "execution_count": null,
   "metadata": {
    "collapsed": false
   },
   "outputs": [],
   "source": [
    "# !soxi ../../corpora/callhome_es/out/006.183.wav\n",
    "# !play ../../corpora/callhome_es/out/006.183.wav trim 1.24\n",
    "# IPython.display.Audio(\"../../corpora/callhome_es/out/tmp/sp_0731_1.wav\")"
   ]
  },
  {
   "cell_type": "markdown",
   "metadata": {},
   "source": [
    "### Conclusion\n",
    "\n",
    "**Pairs with high DTW and 0 phoneme and 0 EN word similarity indicate transcription errors or coding errors**\n",
    "\n",
    "\n",
    "**Need to investigate**"
   ]
  },
  {
   "cell_type": "markdown",
   "metadata": {},
   "source": [
    "### High Phoneme similarity"
   ]
  },
  {
   "cell_type": "code",
   "execution_count": null,
   "metadata": {
    "collapsed": false
   },
   "outputs": [],
   "source": [
    "# df_phone_score_hi = df_valid[(df_valid['ES phone edit sim'] >= 0.5)]\n",
    "# print(\"Pairs with high phoneme similarity score: %d\" % len(df_phone_score_hi))\n",
    "\n",
    "f, ax = plt.subplots(figsize=(10, 6))\n",
    "df_valid['ZRT'].hist(ax=ax, alpha=0.3)\n",
    "df_phone_score_hi['ZRT'].hist(ax=ax, alpha=0.7)\n",
    "ax.set_xlabel('phoneme similarity score > 0.5', fontsize=16)\n",
    "# sns.rugplot(df_phone_score_0['ZRT'], color=\"b\", ax=ax)\n",
    "plt.tick_params(which='both', labelsize=12)\n",
    "# plt.colorbar(aplot)"
   ]
  },
  {
   "cell_type": "code",
   "execution_count": null,
   "metadata": {
    "collapsed": true
   },
   "outputs": [],
   "source": [
    "df_phone_score_hi_en_score_0 = df_phone_score_hi[(df_phone_score_hi['EN sim'] == 0) & \\\n",
    "                                                (df_phone_score_hi['spk1'] != df_phone_score_hi['spk2'])]\n",
    "print(\"Pairs with high phoneme score and 0 EN sim: %d\" % len(df_phone_score_hi_en_score_0))\n",
    "\n",
    "df_phone_score_hi_en_score_0[cols_to_show].head(5)"
   ]
  },
  {
   "cell_type": "code",
   "execution_count": null,
   "metadata": {
    "collapsed": true
   },
   "outputs": [],
   "source": [
    "ch.play_pair_wav(70)"
   ]
  },
  {
   "cell_type": "markdown",
   "metadata": {},
   "source": [
    "## High DTW score, Low EN translation similarity"
   ]
  },
  {
   "cell_type": "markdown",
   "metadata": {},
   "source": [
    "These are expected to be phonetically similary but semantically different pairs.\n",
    "\n",
    "**Label Spreading** should help **lower** the DTW score"
   ]
  },
  {
   "cell_type": "code",
   "execution_count": null,
   "metadata": {
    "collapsed": false
   },
   "outputs": [],
   "source": [
    "df_valid['ZRT'][(df_valid['EN sim'] == 0)].hist()\n",
    "print(len(df_valid['ZRT'][(df_valid['EN sim'] == 0)]))"
   ]
  },
  {
   "cell_type": "code",
   "execution_count": null,
   "metadata": {
    "collapsed": false
   },
   "outputs": [],
   "source": [
    "df_high_dtw_0_en = df_valid[(df_valid['ZRT'] > 0.87) \\\n",
    "                            & (df_valid['EN sim'] >= 0.2) & \\\n",
    "                            (df_valid['spk1'] != df_valid['spk2'])]"
   ]
  },
  {
   "cell_type": "code",
   "execution_count": null,
   "metadata": {
    "collapsed": false
   },
   "outputs": [],
   "source": [
    "print(\"Pairs with high DTW annd 0 EN sim: %d\" % len(df_high_dtw_0_en))\n",
    "df_high_dtw_0_en[cols_to_show].head(5)"
   ]
  },
  {
   "cell_type": "code",
   "execution_count": null,
   "metadata": {
    "collapsed": false,
    "scrolled": true
   },
   "outputs": [],
   "source": [
    "display(Audio(ch.play_pair_wav(105, detail=True)))"
   ]
  },
  {
   "cell_type": "code",
   "execution_count": null,
   "metadata": {
    "collapsed": false
   },
   "outputs": [],
   "source": [
    "# !play ../../corpora/callhome_es/out/001.202.wav trim .75 =.99"
   ]
  },
  {
   "cell_type": "markdown",
   "metadata": {},
   "source": [
    "## Low DTW score, High EN translation similarity"
   ]
  },
  {
   "cell_type": "markdown",
   "metadata": {},
   "source": [
    "These are expected to be semantically similar but phonetically not very similar.\n",
    "\n",
    "**Label Spreading** should help **increase** the DTW score"
   ]
  },
  {
   "cell_type": "code",
   "execution_count": null,
   "metadata": {
    "collapsed": false
   },
   "outputs": [],
   "source": [
    "df_valid['ZRT'][(df_valid['EN sim'] >= 0.2)].hist()"
   ]
  },
  {
   "cell_type": "code",
   "execution_count": null,
   "metadata": {
    "collapsed": true
   },
   "outputs": [],
   "source": [
    "df_low_dtw_high_en = df_valid[(df_valid['ZRT'] < 0.88) & (df_valid['EN sim'] >= 0.2)]"
   ]
  },
  {
   "cell_type": "code",
   "execution_count": null,
   "metadata": {
    "collapsed": false
   },
   "outputs": [],
   "source": [
    "print(\"Pairs with high DTW annd 0 EN sim: %d\" % len(df_low_dtw_high_en))\n",
    "df_low_dtw_high_en[cols_to_show].tail()"
   ]
  },
  {
   "cell_type": "code",
   "execution_count": null,
   "metadata": {
    "collapsed": false
   },
   "outputs": [],
   "source": [
    "display(Audio(ch.play_pair_wav(19326, detail=True)))"
   ]
  },
  {
   "cell_type": "markdown",
   "metadata": {},
   "source": [
    "## Precision / Recall"
   ]
  },
  {
   "cell_type": "code",
   "execution_count": null,
   "metadata": {
    "collapsed": false
   },
   "outputs": [],
   "source": [
    "df_valid[cols_to_show].head()"
   ]
  },
  {
   "cell_type": "code",
   "execution_count": 134,
   "metadata": {
    "collapsed": false
   },
   "outputs": [
    {
     "name": "stdout",
     "output_type": "stream",
     "text": [
      "Interpolating similarity matrix ...\n",
      "Finished interpolating similarity matrix ...\n",
      "Updating data frame ...\n",
      "Finished updating data frame ...\n"
     ]
    }
   ],
   "source": [
    "alpha = 0.4\n",
    "ch.interpolate_sim(alpha)\n",
    "df_zrt, cols_to_show = ch.gen_zrt_df()"
   ]
  },
  {
   "cell_type": "code",
   "execution_count": 48,
   "metadata": {
    "collapsed": true
   },
   "outputs": [
    {
     "name": "stdout",
     "output_type": "stream",
     "text": [
      "Computing precision recall, cross speaker = 0\n",
      "# eval scores: 57979\n",
      "# good scores: 3740\n",
      "#  bad scores: 54239\n",
      "Average Precision - using sim: zrt_sim\n",
      "----------------------------------------\n",
      "\t0.14489\n",
      "----------------------------------------\n",
      "Accuracy - using sim: zrt_sim\n",
      "----------------------------------------\n",
      "\t0.50000\n",
      "----------------------------------------\n"
     ]
    },
    {
     "data": {
      "text/plain": [
       "(array([ 0.06450611,  0.06450611,  0.06451056,  0.06451279,  0.06451724,\n",
       "         0.0645306 ,  0.06454564,  0.06463661,  0.06489532,  0.06560875,\n",
       "         0.06743253,  0.07082479,  0.07691468,  0.08688902,  0.10106193,\n",
       "         0.1173727 ,  0.13657381,  0.15609056,  0.17412441,  0.18560372,\n",
       "         0.18935562,  0.18793212,  0.18469896,  0.16192412,  0.14271152,\n",
       "         0.12162162,  0.0989011 ,  0.07534247,  0.06914894,  0.08130081,\n",
       "         0.10344828,  0.15517241,  0.20930233,  0.29032258,  0.33333333,\n",
       "         0.39130435,  0.47368421,  0.57142857,  0.66666667,  0.55555556,\n",
       "         0.55555556,  0.        ]),\n",
       " array([ 1.        ,  1.        ,  1.        ,  1.        ,  1.        ,\n",
       "         1.        ,  0.99973262,  0.99946524,  0.99786096,  0.99491979,\n",
       "         0.98877005,  0.97005348,  0.94144385,  0.89786096,  0.83208556,\n",
       "         0.73342246,  0.63181818,  0.52352941,  0.42139037,  0.32058824,\n",
       "         0.2302139 ,  0.15989305,  0.10909091,  0.06390374,  0.03743316,\n",
       "         0.02165775,  0.01203209,  0.00588235,  0.00347594,  0.0026738 ,\n",
       "         0.00240642,  0.00240642,  0.00240642,  0.00240642,  0.00240642,\n",
       "         0.00240642,  0.00240642,  0.00213904,  0.00213904,  0.0013369 ,\n",
       "         0.0013369 ,  0.        ]),\n",
       " array([  1.00000000e+00,   1.00000000e+00,   9.99926252e-01,\n",
       "          9.99889378e-01,   9.99815631e-01,   9.99594388e-01,\n",
       "          9.99078154e-01,   9.97308210e-01,   9.91463707e-01,\n",
       "          9.77046037e-01,   9.42900865e-01,   8.77541990e-01,\n",
       "          7.79088848e-01,   6.50620402e-01,   5.10352330e-01,\n",
       "          3.80298309e-01,   2.75429119e-01,   1.95173215e-01,\n",
       "          1.37815963e-01,   9.69966260e-02,   6.79584801e-02,\n",
       "          4.76409963e-02,   3.32048895e-02,   2.28064677e-02,\n",
       "          1.55054481e-02,   1.07855971e-02,   7.55913641e-03,\n",
       "          4.97796788e-03,   3.22646066e-03,   2.08337174e-03,\n",
       "          1.43807961e-03,   9.03408986e-04,   6.26855215e-04,\n",
       "          4.05612198e-04,   3.31864526e-04,   2.58116853e-04,\n",
       "          1.84369181e-04,   1.10621509e-04,   7.37476723e-05,\n",
       "          7.37476723e-05,   7.37476723e-05,   0.00000000e+00]))"
      ]
     },
     "execution_count": 48,
     "metadata": {},
     "output_type": "execute_result"
    }
   ],
   "source": [
    "ch.eval_precision_recall()"
   ]
  },
  {
   "cell_type": "code",
   "execution_count": null,
   "metadata": {
    "collapsed": false,
    "scrolled": false
   },
   "outputs": [],
   "source": [
    "ch.eval_precision_recall(sim_col='sim mixed')"
   ]
  },
  {
   "cell_type": "code",
   "execution_count": 139,
   "metadata": {
    "collapsed": false,
    "scrolled": true
   },
   "outputs": [
    {
     "name": "stdout",
     "output_type": "stream",
     "text": [
      "Computing precision recall, cross speaker = 0\n",
      "# eval scores: 57979\n",
      "# good scores: 3740\n",
      "#  bad scores: 54239\n",
      "Average Precision - using sim: zrt_sim\n",
      "----------------------------------------\n",
      "\t0.14489\n",
      "----------------------------------------\n",
      "Accuracy - using sim: zrt_sim\n",
      "----------------------------------------\n",
      "\t0.73174\n",
      "----------------------------------------\n",
      "Computing precision recall, cross speaker = 0\n",
      "# eval scores: 57979\n",
      "# good scores: 3740\n",
      "#  bad scores: 54239\n",
      "Average Precision - using sim: sim mixed\n",
      "----------------------------------------\n",
      "\t0.42131\n",
      "----------------------------------------\n",
      "Accuracy - using sim: sim mixed\n",
      "----------------------------------------\n",
      "\t0.83550\n",
      "----------------------------------------\n"
     ]
    },
    {
     "data": {
      "image/png": "[encoded data removed]",
      "text/plain": [
       "<matplotlib.figure.Figure at 0x7fc77fe3fb10>"
      ]
     },
     "metadata": {},
     "output_type": "display_data"
    },
    {
     "data": {
      "image/png": "[encoded data removed]",
      "text/plain": [
       "<matplotlib.figure.Figure at 0x7fc7c4416cd0>"
      ]
     },
     "metadata": {},
     "output_type": "display_data"
    }
   ],
   "source": [
    "eval_col='cnt_es_w_sim'\n",
    "# eval_col='es_w_sim'\n",
    "\n",
    "fig_pr, fig_roc = ch.miniplot_precision_recall(eval_col=eval_col, cross_spk=False, alpha=0.4)\n",
    "fig_pr.gca().set_title(\"Precision/Recall - 50 calls, alignment VAD\", \\\n",
    "                       fontsize=24, y=1.02)\n",
    "fig_pr.gca().legend(loc='upper center', bbox_to_anchor=(0.7, 0.8),\n",
    "                  ncol=2, fancybox=True, shadow=True, fontsize=24)\n",
    "fig_pr.gca().set_ylabel(\"Precision\", fontsize=24)\n",
    "fig_pr.gca().set_xlabel(\"Recall\", fontsize=24)\n",
    "fig_pr.tight_layout()\n",
    "# fiig = plt.gcf()\n",
    "fig_pr.savefig(\"output/train_50_avad_pr.pdf\")\n",
    "fig_roc.gca().set_title(\"ROC curve - 50 calls, alignment VAD\", \\\n",
    "                        fontsize=24, y=1.02)\n",
    "fig_roc.gca().legend(loc='upper center', bbox_to_anchor=(0.7, 0.8),\n",
    "                  ncol=2, fancybox=True, shadow=True, fontsize=24)\n",
    "fig_roc.gca().set_ylabel(\"True Positive Rate\", fontsize=24)\n",
    "fig_roc.gca().set_xlabel(\"False Positive Rate\", fontsize=24)\n",
    "fig_roc.tight_layout()\n",
    "fig_roc.savefig(\"output/train_50_avad_roc.pdf\")"
   ]
  },
  {
   "cell_type": "markdown",
   "metadata": {},
   "source": [
    "## Cross-utterance matches"
   ]
  },
  {
   "cell_type": "code",
   "execution_count": null,
   "metadata": {
    "collapsed": false
   },
   "outputs": [],
   "source": [
    "set_speakers_calls = set()\n",
    "spk1_ids = [s.rsplit('.', 1)[0] for s in df_valid['spk1'].values]\n",
    "spk2_ids = [s.rsplit('.', 1)[0] for s in df_valid['spk2'].values]\n",
    "set_speakers_calls |= set(spk1_ids)\n",
    "set_speakers_calls |= set(spk2_ids)\n",
    "\n",
    "num_speakers = len(set_speakers_calls)\n",
    "cross_spk_counts = np.zeros((num_speakers, num_speakers), dtype=np.int)\n",
    "label2i = {k:i for i, k in enumerate(set_speakers_calls)}\n",
    "i2label = {i:k for i, k in enumerate(set_speakers_calls)}\n",
    "\n",
    "lol = 0\n",
    "for spk1, spk2 in zip(spk1_ids, spk2_ids):\n",
    "    if spk1 != spk2:\n",
    "        lol += 1\n",
    "        cross_spk_counts[max(label2i[spk1], label2i[spk2]), min(label2i[spk1], label2i[spk2])] += 1\n",
    "        cross_spk_counts[min(label2i[spk1], label2i[spk2]), max(label2i[spk1], label2i[spk2])] += 1\n",
    "    else:\n",
    "        cross_spk_counts[label2i[spk1], label2i[spk2]] += 1\n",
    "        pass\n",
    "\n",
    "print(\"Total speakers: %d\" % num_speakers)\n",
    "print(lol)"
   ]
  },
  {
   "cell_type": "code",
   "execution_count": null,
   "metadata": {
    "collapsed": false
   },
   "outputs": [],
   "source": [
    "f, ax = plt.subplots(figsize=(8, 8))\n",
    "cmap = sns.diverging_palette(220, 10, as_cmap=True)\n",
    "\n",
    "with sns.axes_style(\"white\"):\n",
    "    ax = sns.heatmap(cross_spk_counts, square=True, annot=False, \\\n",
    "                 fmt=\"d\", linewidths=.5, cbar=False, xticklabels=2, yticklabels=2)\n",
    "ax.xaxis.tick_top()\n",
    "# f.savefig(\"output/train_20_only_cross_spkrs.pdf\")\n",
    "# f.savefig(\"output/train_20_only_cross_spkrs.png\")"
   ]
  },
  {
   "cell_type": "code",
   "execution_count": null,
   "metadata": {
    "collapsed": false
   },
   "outputs": [],
   "source": [
    "# df_valid.columns\n",
    "df_cross_spkr = df_valid[df_valid.apply(lambda row: True if row['spk1'].rsplit('.', 1)[0] != \\\n",
    "                        row['spk2'].rsplit('.', 1)[0] else False, \\\n",
    "                                    axis=1)]\n",
    "print(\"# of cross-speaker pairs: %d\" % (len(df_valid[df_valid['cross_spk'] == True])))\n",
    "# display(df_valid[cols_to_show].head(5))\n",
    "#df_cross_spkr['ZRT'].hist()\n",
    "# df_valid['cross_spk'] = \n",
    "print(len(df_cross_spkr), len(df_valid))"
   ]
  },
  {
   "cell_type": "code",
   "execution_count": null,
   "metadata": {
    "collapsed": false
   },
   "outputs": [],
   "source": [
    "df_cross_spkr_bad_zrt_good_en = df_cross_spkr[(df_cross_spkr['ZRT'] <= 0.87)\\\n",
    "                                              & (df_cross_spkr['EN sim'] > 0.2)]\n",
    "print(\"# of cross-speaker pairs: %d\" % (len(df_cross_spkr_bad_zrt_good_en)))\n",
    "display(df_cross_spkr_bad_zrt_good_en[cols_to_show].head(10))"
   ]
  },
  {
   "cell_type": "code",
   "execution_count": null,
   "metadata": {
    "collapsed": false
   },
   "outputs": [],
   "source": [
    "display(Audio(ch.play_pair_wav(16848)))"
   ]
  },
  {
   "cell_type": "markdown",
   "metadata": {},
   "source": [
    "## Speakers/utterances with most matches"
   ]
  },
  {
   "cell_type": "code",
   "execution_count": null,
   "metadata": {
    "collapsed": false
   },
   "outputs": [],
   "source": [
    "df_spkr_matches = df_valid.apply(lambda row: row['spk1'].rsplit('.', 1)[0] != \\\n",
    "                                   row['spk2'].rsplit('.', 1)[0], \\\n",
    "                                   axis=1)\n",
    "print(\"# of cross-speaker pairs: %d\" % (len(df_cross_spkr)))\n",
    "display(df_cross_spkr[cols_to_show].head(3))\n",
    "df_cross_spkr['ZRT'].hist()"
   ]
  },
  {
   "cell_type": "markdown",
   "metadata": {},
   "source": [
    "## Label Spreading - speech pair similarity score update using English translations"
   ]
  },
  {
   "cell_type": "code",
   "execution_count": null,
   "metadata": {
    "collapsed": false
   },
   "outputs": [],
   "source": [
    "ch.label_prop_edges.label_spread(ch.en_w_hgr_sim_0)"
   ]
  },
  {
   "cell_type": "code",
   "execution_count": null,
   "metadata": {
    "collapsed": false
   },
   "outputs": [],
   "source": [
    "print(ch.label_prop_edges.belief_0[1])\n",
    "print(ch.label_prop_edges.belief_n[1])\n",
    "print(ch.en_w_hgr_sim_0[1], ch.en_w_hgr_sim_0[2])"
   ]
  },
  {
   "cell_type": "code",
   "execution_count": null,
   "metadata": {
    "collapsed": false
   },
   "outputs": [],
   "source": [
    "df_valid[cols_to_show].sort_values(['ZRT'], ascending=False)"
   ]
  },
  {
   "cell_type": "code",
   "execution_count": null,
   "metadata": {
    "collapsed": false
   },
   "outputs": [],
   "source": [
    "display(ch.play_pair_wav(84, detail=True))"
   ]
  },
  {
   "cell_type": "code",
   "execution_count": null,
   "metadata": {
    "collapsed": false
   },
   "outputs": [],
   "source": [
    "(0.9 * 0.8) + (0.1 * 0.7)"
   ]
  },
  {
   "cell_type": "code",
   "execution_count": null,
   "metadata": {
    "collapsed": false
   },
   "outputs": [],
   "source": [
    "df_valid.columns"
   ]
  },
  {
   "cell_type": "code",
   "execution_count": null,
   "metadata": {
    "collapsed": false
   },
   "outputs": [],
   "source": [
    "sns.jointplot(x='ZRT', y='ES cont match', data=df_valid, kind='kde')"
   ]
  },
  {
   "cell_type": "code",
   "execution_count": null,
   "metadata": {
    "collapsed": false
   },
   "outputs": [],
   "source": [
    "df_valid.columns"
   ]
  },
  {
   "cell_type": "code",
   "execution_count": null,
   "metadata": {
    "collapsed": true
   },
   "outputs": [],
   "source": [
    "%run viewutils.ipynb"
   ]
  },
  {
   "cell_type": "code",
   "execution_count": null,
   "metadata": {
    "collapsed": false
   },
   "outputs": [],
   "source": [
    "# plot_hist_dtw(df_valid, plot_name=\"output/train_20_energy_vad_hist.pdf\")\n",
    "# plot_hist_dtw(df_valid, plot_name=\"output/train_20_transcript_vad_hist.pdf\")"
   ]
  },
  {
   "cell_type": "code",
   "execution_count": null,
   "metadata": {
    "collapsed": false
   },
   "outputs": [],
   "source": [
    "%%timeit -n1 -r1\n",
    "ch_eval.label_prop_en_words.label_spread(ch_eval.edges_dict)\n",
    "print(ch_eval.edges_dict[1])\n",
    "print(ch_eval.en_w_belief[1])\n",
    "print(ch_eval.en_w_belief[2])\n",
    "print(ch_eval.label_prop_en_words.belief_0[1])\n",
    "print(ch_eval.label_prop_en_words.belief_n[1])\n",
    "\n",
    "print(len(ch_eval.en_vocab))\n",
    "print(sorted(ch_eval.en_words_stats.items(), reverse=True, key= lambda x: x[1])[:5])\n",
    "print(ch_eval.en_w_sim_0[1])\n",
    "print(ch_eval.label_prop_en_words.belief_0[1])\n",
    "print(ch_eval.label_prop_en_words.belief_n[1])\n",
    "print(ch_eval.label_prop_en_words.belief_0[2])\n",
    "print(ch_eval.label_prop_en_words.belief_n[2])"
   ]
  },
  {
   "cell_type": "markdown",
   "metadata": {},
   "source": [
    "Trying line plots for metrics"
   ]
  },
  {
   "cell_type": "code",
   "execution_count": null,
   "metadata": {
    "collapsed": false
   },
   "outputs": [],
   "source": [
    "N = 4\n",
    "no_trans = (0.69, 0.37, 0.268, 0.144)\n",
    "\n",
    "ind = np.arange(N)  # the x locations for the groups\n",
    "width = 0.35       # the width of the bars\n",
    "\n",
    "fig, ax = plt.subplots()\n",
    "rects1 = ax.bar(ind, no_trans, width, color=tableau20[1])\n",
    "\n",
    "with_trans = (0.79, 0.58, 0.484, 0.328)\n",
    "rects2 = ax.bar(ind + width, with_trans, width, color=tableau20[0])\n",
    "\n",
    "# add some text for labels, title and axes ticks\n",
    "ax.set_ylabel('Average Precision', size=16)\n",
    "ax.set_title('Average Precision, with & without translations', size=15)\n",
    "ax.set_xticks(ind + width)\n",
    "ax.set_xticklabels(('20:energy', '50:energy', '20:align', '50:align'), size=16)\n",
    "ax.set_ylim(0.0,1.0)\n",
    "for tick in ax.yaxis.get_major_ticks():\n",
    "                tick.label.set_fontsize(16)\n",
    "\n",
    "ax.legend((rects1[0], rects2[0]), ('without translations', 'with translations'), fontsize=14)\n",
    "fig.savefig(\"output/avgprecision.pdf\")\n"
   ]
  },
  {
   "cell_type": "code",
   "execution_count": null,
   "metadata": {
    "collapsed": false
   },
   "outputs": [],
   "source": [
    "N = 4\n",
    "no_trans = (0.01866, 0.02533, 0.01133, 0.02178)\n",
    "\n",
    "ind = np.arange(N)  # the x locations for the groups\n",
    "width = 0.35       # the width of the bars\n",
    "\n",
    "fig, ax = plt.subplots()\n",
    "rects1 = ax.bar(ind, no_trans, width, color=tableau20[1])\n",
    "\n",
    "with_trans = (0.02408, 0.03209, 0.01368, 0.02579)\n",
    "rects2 = ax.bar(ind + width, with_trans, width, color=tableau20[0])\n",
    "\n",
    "# add some text for labels, title and axes ticks\n",
    "ax.set_ylabel('Average Precision', size=16)\n",
    "ax.set_title('Cross-Speaker Average Precision, with & without translations', size=15, y=1.08)\n",
    "ax.set_xticks(ind + width)\n",
    "ax.set_xticklabels(('20:energy', '50:energy', '20:align', '50:align'), size=16)\n",
    "ax.set_ylim(0.0,0.1)\n",
    "for tick in ax.yaxis.get_major_ticks():\n",
    "                tick.label.set_fontsize(16)\n",
    "\n",
    "ax.legend((rects1[0], rects2[0]), ('without translations', 'with translations'), fontsize=14)\n",
    "fig.tight_layout()\n",
    "\n",
    "fig.savefig(\"output/x_spkr_avgprecision.pdf\")\n",
    "\n"
   ]
  },
  {
   "cell_type": "code",
   "execution_count": 10,
   "metadata": {
    "collapsed": false
   },
   "outputs": [],
   "source": [
    " def format_metrics_plot(ax, fig, title, plotname='', showlegend=False):\n",
    "    ax.set_ylabel(title, size=18)\n",
    "    #ax.set_title(r'Metrics - varying $\\alpha$', size=15, y=1.08)\n",
    "    #ax.set_title(title, size=15, y=1.02)\n",
    "    ax.set_xlabel('Translation similarity utilised', size=15)\n",
    "    ax.set_xticklabels([\"{0:d}%\".format(int(x*100.0)) for x in alpha], size=15)\n",
    "    ax.set_xticks(alpha)\n",
    "    plt.xticks(rotation=60)\n",
    "    ax.set_xlim(0,1)\n",
    "    for tick in ax.yaxis.get_major_ticks():\n",
    "                    tick.label.set_fontsize(14)\n",
    "#     if showlegend:\n",
    "#         ax.legend(loc='upper center', bbox_to_anchor=(0.5, 0.98),\n",
    "#                   ncol=2, fancybox=True, shadow=True, fontsize=14)\n",
    "    fig.tight_layout()\n",
    "    if plotname:\n",
    "        fig.savefig(plotname)"
   ]
  },
  {
   "cell_type": "code",
   "execution_count": 91,
   "metadata": {
    "collapsed": false
   },
   "outputs": [
    {
     "data": {
      "image/png": "[encoded data removed]",
      "text/plain": [
       "<matplotlib.figure.Figure at 0x7fc7b5974050>"
      ]
     },
     "metadata": {},
     "output_type": "display_data"
    },
    {
     "data": {
      "image/png": "[encoded data removed]",
      "text/plain": [
       "<matplotlib.figure.Figure at 0x7fc7d076a2d0>"
      ]
     },
     "metadata": {},
     "output_type": "display_data"
    },
    {
     "data": {
      "image/png": "[encoded data removed]",
      "text/plain": [
       "<matplotlib.figure.Figure at 0x7fc75516cdd0>"
      ]
     },
     "metadata": {},
     "output_type": "display_data"
    },
    {
     "data": {
      "image/png": "[encoded data removed]",
      "text/plain": [
       "<matplotlib.figure.Figure at 0x7fc7caef69d0>"
      ]
     },
     "metadata": {},
     "output_type": "display_data"
    }
   ],
   "source": [
    "#### N = 4\n",
    "alpha =  np.arange(0,1.1,0.1)\n",
    "avg_precision_50_align_vad = np.array([0.144, .328, 0.388, 0.41383, 0.42131, \\\n",
    "                              0.42083, 0.41784, 0.41495, 0.41197, 0.40896, 0.38993])\n",
    "\n",
    "avg_precision_50_energy_vad = np.array([0.37782, 0.58698, 0.65583, 0.68022, 0.68980, 0.69156, \\\n",
    "                               0.68633, 0.68359, 0.67942, 0.67588, 0.65945])\n",
    "\n",
    "# ----------------------------------------------------------------------------------------------------------------\n",
    "# 20 files: energy vad\n",
    "# ----------------------------------------------------------------------------------------------------------------\n",
    "# all matches\n",
    "# ----------------------------------------------------------------------------------------------------------------\n",
    "ap_20_evad = np.array([0.694, 0.7967, 0.814, 0.8195, 0.8144, 0.8105, 0.8071, 0.8018, 0.8004, 0.7958, 0.7819])\n",
    "acc_20_evad = np.array([0.8328, 0.9195, 0.9351, 0.9377, 0.9355, 0.9322, 0.929, 0.9267, 0.923, 0.9187, 0.9065])\n",
    "# ----------------------------------------------------------------------------------------------------------------\n",
    "# cross-speaker matches\n",
    "# ----------------------------------------------------------------------------------------------------------------\n",
    "ap_20_evad_x = np.array([0.0187, 0.0241, 0.0294, 0.0332, 0.0362, 0.0374, 0.0375, 0.038, 0.0385, 0.0389, 0.0393])\n",
    "acc_20_evad_x = np.array([0.3124, 0.3732, 0.3986, 0.401, 0.4081, 0.4077, 0.4057, 0.4072, 0.4057, 0.4057, 0.4067])\n",
    "# ----------------------------------------------------------------------------------------------------------------\n",
    "# 50 files: energy vad\n",
    "# ----------------------------------------------------------------------------------------------------------------\n",
    "# all matches\n",
    "# ----------------------------------------------------------------------------------------------------------------\n",
    "ap_50_evad = np.array([0.3778, 0.587, 0.6558, 0.6802, 0.6898, 0.6916, 0.6863, 0.6836, 0.6794, 0.6759, 0.6594])\n",
    "acc_50_evad = np.array([0.791, 0.8776, 0.9019, 0.9113, 0.9116, 0.9103, 0.9089, 0.906, 0.903, 0.9002, 0.8894])\n",
    "# ----------------------------------------------------------------------------------------------------------------\n",
    "# cross-speaker matches\n",
    "# ----------------------------------------------------------------------------------------------------------------\n",
    "ap_50_evad_x = np.array([0.0253, 0.0321, 0.0403, 0.047, 0.0505, 0.052, 0.0525, 0.0532, 0.0532, 0.0534, 0.0552])\n",
    "acc_50_evad_x = np.array([0.4346, 0.5127, 0.5481, 0.5752, 0.5765, 0.5756, 0.5707, 0.5697, 0.5618, 0.5639, 0.5692])\n",
    "# ----------------------------------------------------------------------------------------------------------------\n",
    "# 20 files: align vad\n",
    "# ----------------------------------------------------------------------------------------------------------------\n",
    "# all matches\n",
    "# ----------------------------------------------------------------------------------------------------------------\n",
    "ap_20_avad = np.array([0.2687, 0.4842, 0.5334, 0.5526, 0.56, 0.5621, 0.5625, 0.5614, 0.5596, 0.557, 0.5169])\n",
    "acc_20_avad = np.array([0.7499, 0.8405, 0.8603, 0.8649, 0.865, 0.8638, 0.8626, 0.8616, 0.8578, 0.85, 0.832])\n",
    "# ----------------------------------------------------------------------------------------------------------------\n",
    "# cross-speaker matches\n",
    "# ----------------------------------------------------------------------------------------------------------------\n",
    "ap_20_avad_x = np.array([0.0113, 0.0137, 0.0162, 0.0181, 0.0197, 0.0207, 0.0212, 0.0218, 0.022, 0.0224, 0.023])\n",
    "acc_20_avad_x = np.array([0.3133, 0.3843, 0.4189, 0.435, 0.4448, 0.4481, 0.4483, 0.4539, 0.4538, 0.4531, 0.4416])\n",
    "# ----------------------------------------------------------------------------------------------------------------\n",
    "# 50 files: align vad\n",
    "# ----------------------------------------------------------------------------------------------------------------\n",
    "# all matches\n",
    "# ----------------------------------------------------------------------------------------------------------------\n",
    "ap_50_avad = np.array([0.1449, 0.3287, 0.3882, 0.4138, 0.4213, 0.4208, 0.4178, 0.415, 0.412, 0.409, 0.3899])\n",
    "acc_50_avad = np.array([0.7317, 0.8093, 0.83, 0.8358, 0.8355, 0.8335, 0.8322, 0.8295, 0.8248, 0.806, 0.7957])\n",
    "# ----------------------------------------------------------------------------------------------------------------\n",
    "# cross-speaker matches\n",
    "# ----------------------------------------------------------------------------------------------------------------\n",
    "ap_50_avad_x = np.array([0.0218, 0.0258, 0.0305, 0.0341, 0.0364, 0.0374, 0.0381, 0.0382, 0.0384, 0.0386, 0.0395])\n",
    "acc_50_avad_x = np.array([0.4813, 0.5359, 0.5636, 0.5755, 0.5791, 0.5803, 0.5814, 0.5779, 0.5736, 0.5586, 0.5516])\n",
    "# ----------------------------------------------------------------------------------------------------------------\n",
    "# Plots\n",
    "# ----------------------------------------------------------------------------------------------------------------\n",
    "markers = [\"o\",\"v\",\">\",'*']\n",
    "labels = ['20 calls: energy VAD', '50 calls: energy VAD', '20 calls: align VAD', '50 calls: align VAD']\n",
    "colors = [0, 2, 4, 6]\n",
    "titles = [\"Avg Precision\", \"Accuracy\", \\\n",
    "          \"Avg Precision\", \"Accuracy\"]\n",
    "plot_names = [\"output/ap_all.pdf\", \"output/acc_all.pdf\", \\\n",
    "              \"output/ap_x.pdf\", \"output/acc_x.pdf\"]\n",
    "fig_size = (6,4)\n",
    "ap_arrays = [ap_20_evad, ap_50_evad, ap_20_avad, ap_50_avad]\n",
    "acc_arrays = [acc_20_evad, acc_50_evad, acc_20_avad, acc_50_avad]\n",
    "ap_x_arrays = [ap_20_evad_x, ap_50_evad_x, ap_20_avad_x, ap_50_avad_x]\n",
    "acc_x_arrays = [acc_20_evad_x, acc_50_evad_x, acc_20_avad_x, acc_50_avad_x]\n",
    "# ----------------------------------------------------------------------------------------------------------------\n",
    "# Avg. Precision for all matches\n",
    "# ----------------------------------------------------------------------------------------------------------------\n",
    "fig, ax = plt.subplots(figsize=fig_size)\n",
    "for i, arr_data in enumerate(ap_arrays):\n",
    "    ax.plot(alpha, arr_data, marker=markers[i], color=tableau20[colors[i]], label=labels[i], markersize=10)\n",
    "ax.yaxis.set_major_locator(MultipleLocator(.1))\n",
    "ax.set_ylim(0,1)\n",
    "ax.set_title('All matches', size=18)\n",
    "ax.legend(loc='upper center', bbox_to_anchor=(0.5, 0.3),\n",
    "                  ncol=2, fancybox=True, shadow=True, fontsize=12)\n",
    "format_metrics_plot(ax, fig, titles[0], plotname=plot_names[0], showlegend=True)\n",
    "# ----------------------------------------------------------------------------------------------------------------\n",
    "# Accuracy for all matches\n",
    "# ----------------------------------------------------------------------------------------------------------------\n",
    "fig, ax = plt.subplots(figsize=fig_size)\n",
    "for i, arr_data in enumerate(acc_arrays):\n",
    "    ax.plot(alpha, arr_data, marker=markers[i], color=tableau20[colors[i]], label=labels[i], markersize=10)\n",
    "ax.yaxis.set_major_locator(MultipleLocator(.1))\n",
    "ax.set_ylim(0.6,1)\n",
    "ax.set_title('All matches', size=18)\n",
    "ax.legend(loc='upper center', bbox_to_anchor=(0.5, 0.3),\n",
    "                  ncol=2, fancybox=True, shadow=True, fontsize=12)\n",
    "format_metrics_plot(ax, fig, titles[1], plotname=plot_names[1], showlegend=True)\n",
    "# ----------------------------------------------------------------------------------------------------------------\n",
    "# Avg. Precision for cross-speaker matches\n",
    "# ----------------------------------------------------------------------------------------------------------------\n",
    "fig, ax = plt.subplots(figsize=fig_size)\n",
    "for i, arr_data in enumerate(ap_x_arrays):\n",
    "    ax.plot(alpha, arr_data, marker=markers[i], color=tableau20[colors[i]], label=labels[i], markersize=10)\n",
    "ax.yaxis.set_major_locator(MultipleLocator(.02))\n",
    "ax.set_ylim(0,0.1)\n",
    "ax.set_title('Cross-speaker matches', size=18)\n",
    "ax.legend(loc='upper center', bbox_to_anchor=(0.5, 0.98),\n",
    "                  ncol=2, fancybox=True, shadow=True, fontsize=12)\n",
    "format_metrics_plot(ax, fig, titles[2], plotname=plot_names[2], showlegend=True)\n",
    "# ----------------------------------------------------------------------------------------------------------------\n",
    "# Accuracy for cross-speaker matches\n",
    "# ----------------------------------------------------------------------------------------------------------------\n",
    "fig, ax = plt.subplots(figsize=fig_size)\n",
    "for i, arr_data in enumerate(acc_x_arrays):\n",
    "    ax.plot(alpha, arr_data, marker=markers[i], color=tableau20[colors[i]], label=labels[i], markersize=10)\n",
    "ax.yaxis.set_major_locator(MultipleLocator(.1))\n",
    "ax.set_ylim(0,1)\n",
    "ax.set_title('Cross-speaker matches', size=18)\n",
    "ax.legend(loc='upper center', bbox_to_anchor=(0.5, 0.98),\n",
    "                  ncol=2, fancybox=True, shadow=True, fontsize=12)\n",
    "format_metrics_plot(ax, fig, titles[3], plotname=plot_names[3], showlegend=True)\n",
    "\n"
   ]
  },
  {
   "cell_type": "code",
   "execution_count": 27,
   "metadata": {
    "collapsed": false
   },
   "outputs": [
    {
     "name": "stdout",
     "output_type": "stream",
     "text": [
      "& 0.694 & 0.814 & 0.833 & 0.935 \\\\\n",
      "& 0.378 & 0.690 & 0.791 & 0.912 \\\\\n",
      "& 0.269 & 0.560 & 0.750 & 0.865 \\\\\n",
      "& 0.145 & 0.421 & 0.732 & 0.836 \\\\\n"
     ]
    }
   ],
   "source": [
    "for ap_arr, acc_arr in zip(ap_arrays, acc_arrays):\n",
    "    #print(ap_arr[0],ap_arr[4])\n",
    "    #print(acc_arr[0], acc_arr[4])\n",
    "    print(\"& %.3f & %.3f & %.3f & %.3f \\\\\\\\\" % (ap_arr[0], ap_arr[4], acc_arr[0], acc_arr[4]))\n",
    "    \n"
   ]
  },
  {
   "cell_type": "code",
   "execution_count": 44,
   "metadata": {
    "collapsed": true
   },
   "outputs": [
    {
     "data": {
      "text/plain": [
       "{'chid1': 2,\n",
       " 'chid2': 2,\n",
       " 'cnt_es_w_check': True,\n",
       " 'cnt_es_w_sim': 1,\n",
       " 'dur': 820,\n",
       " 'en_w_cnt_count_sim_0': 0,\n",
       " 'en_w_cnt_hgr_sim_0': 0,\n",
       " 'en_w_count_sim_0': 0,\n",
       " 'en_w_hgr_sim_0': 0,\n",
       " 'es_p_sim': 1.0,\n",
       " 'es_w_n1': 'EXACTAMENTE',\n",
       " 'es_w_n2': 'EXACTAMENTE',\n",
       " 'es_w_sim': 1,\n",
       " 'n1': 626,\n",
       " 'n2': 626,\n",
       " 'no_mtch': False,\n",
       " 'sil_only': False,\n",
       " 'uid1': '101.050',\n",
       " 'uid2': '101.050',\n",
       " 'zrt_sim': 0.889}"
      ]
     },
     "execution_count": 44,
     "metadata": {},
     "output_type": "execute_result"
    }
   ],
   "source": [
    "ch.eval_pairs_list[16545]"
   ]
  },
  {
   "cell_type": "code",
   "execution_count": 106,
   "metadata": {
    "collapsed": false
   },
   "outputs": [
    {
     "data": {
      "text/plain": [
       "0.23074600453677396"
      ]
     },
     "execution_count": 106,
     "metadata": {},
     "output_type": "execute_result"
    }
   ],
   "source": [
    "(1-(1-(((1/3) * (1/2)) ** .5))**.5)"
   ]
  },
  {
   "cell_type": "code",
   "execution_count": null,
   "metadata": {
    "collapsed": true
   },
   "outputs": [],
   "source": [
    "for no,yes in zip(no_trans, with_trans):\n",
    "    print((yes-no) / no * 100)"
   ]
  },
  {
   "cell_type": "markdown",
   "metadata": {},
   "source": [
    "Why are align VAD 50 matches less than forced VAD 20 matches, though there is more speech data"
   ]
  },
  {
   "cell_type": "code",
   "execution_count": null,
   "metadata": {
    "collapsed": false
   },
   "outputs": [],
   "source": [
    "wav_name = \"sp_0897.wav\"\n",
    "# IPython.display.Audio(wav_name)\n",
    "sr1, y1 = scipy.io.wavfile.read(wav_name)\n",
    "print(len(y1) / sr1, len(y1) / sr1 / 60.0)\n",
    "!soxi $wav_name\n",
    "mfcc1 = mfcc(y1, sr1)\n",
    "print(mfcc1.shape)"
   ]
  },
  {
   "cell_type": "markdown",
   "metadata": {},
   "source": [
    "Plot links:\n",
    "\n",
    "- http://stackoverflow.com/questions/4700614/how-to-put-the-legend-out-of-the-plot\n",
    "\n",
    "\n",
    "Bhattacharyya link:\n",
    "http://www.cs.yorku.ca/~kosta/CompVis_Notes/bhattacharyya.pdf\n"
   ]
  }
 ],
 "metadata": {
  "kernelspec": {
   "display_name": "Python 2",
   "language": "python",
   "name": "python2"
  },
  "language_info": {
   "codemirror_mode": {
    "name": "ipython",
    "version": 2
   },
   "file_extension": ".py",
   "mimetype": "text/x-python",
   "name": "python",
   "nbconvert_exporter": "python",
   "pygments_lexer": "ipython2",
   "version": "2.7.12"
  }
 },
 "nbformat": 4,
 "nbformat_minor": 0
}
