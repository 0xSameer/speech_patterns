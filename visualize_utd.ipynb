{
 "cells": [
  {
   "cell_type": "code",
   "execution_count": 1,
   "metadata": {
    "collapsed": false
   },
   "outputs": [],
   "source": [
    "from __future__ import print_function\n",
    "from __future__ import division\n",
    "import os\n",
    "import cPickle as pickle\n",
    "import json\n",
    "import subprocess\n",
    "from IPython.display import display\n",
    "from IPython.display import Audio\n",
    "import bisect\n",
    "from collections import namedtuple\n",
    "import numpy as np\n",
    "import pandas as pd\n",
    "from collections import Counter\n",
    "from prettytable import PrettyTable\n",
    "import matplotlib.pyplot as plt\n",
    "import seaborn as sns\n",
    "import textwrap\n",
    "import nltk\n",
    "from nltk.corpus import stopwords\n",
    "\n",
    "from matplotlib.ticker import MultipleLocator, \\\n",
    "     FormatStrFormatter, AutoMinorLocator\n",
    "%matplotlib inline"
   ]
  },
  {
   "cell_type": "code",
   "execution_count": 2,
   "metadata": {
    "collapsed": true
   },
   "outputs": [],
   "source": [
    "with open(\"config.json\") as json_data_file:\n",
    "    config = json.load(json_data_file)"
   ]
  },
  {
   "cell_type": "code",
   "execution_count": 3,
   "metadata": {
    "collapsed": false
   },
   "outputs": [],
   "source": [
    "nodes_fname = config[\"es\"]['nodes_fname']\n",
    "seg_nodes_fname = config[\"es\"]['seg_nodes_fname']\n",
    "nodes_dict_fname = config[\"es\"]['nodes_dict_fname']\n",
    "\n",
    "edges_utd_fname = config[\"es\"]['edges_utd_fname']\n",
    "edges_olap_fname = config[\"es\"]['edges_olap_fname']\n",
    "edges_all_fname = config[\"es\"]['edges_all_fname']\n",
    "edges_score_fname = config[\"es\"]['edges_score_fname']\n",
    "\n",
    "clusters_utd_fname = config['es']['clusters_utd_fname']\n",
    "clusters_fname = config['es']['clusters_fname']\n",
    "clusters_stats_fname = config['es']['clusters_stats_fname']\n",
    "\n",
    "pairs_fname = config['es']['score_pairs_fname']\n",
    "eval_fname = config['es']['eval_pairs_fname']\n",
    "\n",
    "feats_fname = config['es']['feats_fname']\n",
    "\n",
    "# Gold feats\n",
    "gold_feats_dict_fname = config['es']['gold_feats']\n",
    "# Pseudo feats\n",
    "feats_dict_fname = config['es']['feats_dict_fname']\n",
    "\n",
    "gold_probs_fname = config['es']['mt_probs_gold']\n",
    "gold_probs_dict_fname = config['es']['mt_probs_dict_gold']\n",
    "\n",
    "pseudo_probs_fname = config['es']['mt_probs_pseudo']\n",
    "pseudo_probs_dict_fname = config['es']['mt_probs_dict_pseudo']\n",
    "\n",
    "train_segment_list_fname = config['es']['mt_train_files']\n",
    "dev_segment_list_fname = config['es']['mt_dev_files']\n",
    "\n",
    "gold_corpus_fname = config['es']['mt_corpus_train_gold']\n",
    "pseudo_corpus_fname = config['es']['mt_corpus_train_pseudo']\n",
    "\n",
    "mt_gold_pred_dict_fname = config['es']['mt_gold_pred_dict']\n",
    "mt_pseudo_pred_dict_fname = config['es']['mt_pseudo_pred_dict']\n",
    "\n",
    "mt_gold_eval_dict_fname = config['es']['mt_gold_eval_dict']\n",
    "mt_pseudo_eval_dict_fname = config['es']['mt_pseudo_eval_dict']\n",
    "\n",
    "es_merge_wavs_path = config['es']['es_merge_wavs']\n",
    "utd_wavs_path = config['es']['utd_wavs']\n",
    "\n",
    "utd_tmp_wav_path = config['es']['utd_wavs']"
   ]
  },
  {
   "cell_type": "code",
   "execution_count": 4,
   "metadata": {
    "collapsed": true
   },
   "outputs": [],
   "source": [
    "Align = namedtuple('Align', ['word', 'start', 'end'])\n",
    "Node = namedtuple('Node', ['file', 'seg', 'start', 'end', 'es', 'es_cnt'])\n",
    "Eval = namedtuple('Eval', ['n1', 'n2', 'dtw', 'es_sim', 'es_cnt_sim', 'en_j_sim'])"
   ]
  },
  {
   "cell_type": "code",
   "execution_count": 5,
   "metadata": {
    "collapsed": false
   },
   "outputs": [],
   "source": [
    "segment_map = pickle.load(open(config['es']['segment_dict_fname'], \"rb\"))\n",
    "align_dict = pickle.load(open(config['es']['align_dict_fname'], \"rb\"))\n",
    "nodes_dict = pickle.load(open(nodes_dict_fname, \"rb\"))\n",
    "pairs_list = pickle.load(open(pairs_fname, \"rb\"))\n",
    "eval_dict = pickle.load(open(eval_fname, \"rb\"))\n",
    "clusters = pickle.load(open(clusters_fname, \"rb\"))\n",
    "clusters_stats = pickle.load(open(clusters_stats_fname, \"rb\"))\n",
    "feats_dict = pickle.load(open(feats_dict_fname, \"rb\"))\n",
    "gold_feats_dict = pickle.load(open(gold_feats_dict_fname, \"rb\"))\n",
    "\n",
    "if os.path.exists(gold_probs_dict_fname):\n",
    "    gold_probs_dict = pickle.load(open(gold_probs_dict_fname, \"rb\"))\n",
    "\n",
    "if os.path.exists(pseudo_probs_dict_fname):\n",
    "    pseudo_probs_dict = pickle.load(open(pseudo_probs_dict_fname, \"rb\"))\n",
    "\n",
    "if os.path.exists(mt_gold_pred_dict_fname):\n",
    "    mt_gold_pred_dict = pickle.load(open(mt_gold_pred_dict_fname, \"rb\"))\n",
    "    \n",
    "if os.path.exists(mt_pseudo_pred_dict_fname):\n",
    "    mt_pseudo_pred_dict = pickle.load(open(mt_pseudo_pred_dict_fname, \"rb\"))\n",
    "    \n",
    "if os.path.exists(mt_gold_eval_dict_fname):\n",
    "    mt_gold_eval_dict = pickle.load(open(mt_gold_eval_dict_fname, \"rb\"))\n",
    "    \n",
    "if os.path.exists(mt_pseudo_eval_dict_fname):\n",
    "    mt_pseudo_eval_dict = pickle.load(open(mt_pseudo_eval_dict_fname, \"rb\"))    "
   ]
  },
  {
   "cell_type": "code",
   "execution_count": 6,
   "metadata": {
    "collapsed": true
   },
   "outputs": [],
   "source": [
    "def gen_node_wav(nid, nodes_dict, utd_wavs_path, src_wavs_path, segment_map):\n",
    "    pair_wavs_path = os.path.join(utd_wavs_path, \"wavs\")\n",
    "    nid_fname = os.path.join(pair_wavs_path, \"%d.wav\" % nid)\n",
    "    if not os.path.exists(pair_wavs_path):\n",
    "        os.makedirs(pair_wavs_path)\n",
    "    #if os.path.exists(nid_fname):\n",
    "    #    return\n",
    "    \n",
    "    segid = nodes_dict[nid].seg\n",
    "    fid = (segid.split('.')[0]).strip()\n",
    "    \n",
    "    merge_wav_start = segment_map[fid][segid] + nodes_dict[nid].start\n",
    "    merge_wav_end = segment_map[fid][segid] + nodes_dict[nid].end\n",
    "    \n",
    "    merge_wav_fname = os.path.join(src_wavs_path, fid+\".wav\")\n",
    "    \n",
    "    start_time = \"{0:0.2f}\".format(merge_wav_start/100)\n",
    "    end_time = \"={0:0.2f}\".format(merge_wav_end/100)\n",
    "    subprocess.call([\"sox\", merge_wav_fname, nid_fname, \\\n",
    "                     \"trim\", start_time, \"{0:s}\".format(end_time)])\n",
    "    \n",
    "    return Audio(nid_fname)\n",
    "    \n",
    "    "
   ]
  },
  {
   "cell_type": "code",
   "execution_count": 7,
   "metadata": {
    "collapsed": false
   },
   "outputs": [
    {
     "data": {
      "text/html": [
       "\n",
       "                <audio controls=\"controls\" >\n",
       "                    <source src=\"data:audio/x-wav;base64,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\" type=\"audio/x-wav\" />\n",
       "                    Your browser does not support the audio element.\n",
       "                </audio>\n",
       "              "
      ],
      "text/plain": [
       "<IPython.lib.display.Audio object>"
      ]
     },
     "metadata": {},
     "output_type": "display_data"
    }
   ],
   "source": [
    "display(gen_node_wav(1, nodes_dict, utd_wavs_path, es_merge_wavs_path, segment_map))"
   ]
  },
  {
   "cell_type": "code",
   "execution_count": 8,
   "metadata": {
    "collapsed": true
   },
   "outputs": [],
   "source": [
    "def display_pair(pid, eval_dict, nodes_dict, align_dict, utd_wavs_path, src_wavs_path, segment_map):\n",
    "    headers = [\"pair id\", \"nid\", \"ES transcript\", \"EN translation\"]\n",
    "    display_pp = PrettyTable(headers, hrules=True)\n",
    "    \n",
    "    n1 = eval_dict[pid].n1\n",
    "    n2 = eval_dict[pid].n2\n",
    "    \n",
    "    en_1 = ' '.join([x.word for x in align_dict[nodes_dict[n1].file][nodes_dict[n1].seg]['en']])\n",
    "    en_2 = ' '.join([x.word for x in align_dict[nodes_dict[n2].file][nodes_dict[n2].seg]['en']])\n",
    "    \n",
    "    row_1 = [pid, n1, ' '.join(nodes_dict[n1].es), textwrap.fill(en_1,50)]\n",
    "    \n",
    "    row_2 = [pid, n2, ' '.join(nodes_dict[n2].es), textwrap.fill(en_2,50)]\n",
    "    \n",
    "    display_pp.add_row(row_1)\n",
    "    display_pp.add_row(row_2)\n",
    "    print(display_pp)\n",
    "    \n",
    "    display(gen_node_wav(n1, nodes_dict, utd_wavs_path, es_merge_wavs_path, segment_map))\n",
    "    display(gen_node_wav(n2, nodes_dict, utd_wavs_path, es_merge_wavs_path, segment_map))\n",
    "    #print(display_pp.get_html_string())\n",
    "\n",
    "    "
   ]
  },
  {
   "cell_type": "code",
   "execution_count": 9,
   "metadata": {
    "collapsed": false
   },
   "outputs": [
    {
     "name": "stdout",
     "output_type": "stream",
     "text": [
      "+---------+-------+----------------+----------------------------------------------------+\n",
      "| pair id |  nid  | ES transcript  |                   EN translation                   |\n",
      "+---------+-------+----------------+----------------------------------------------------+\n",
      "|  16210  | 14185 |  CUIDADO PERO  |  NO NO IT IS NO SO SERIOUS BUT SHE HAS THAT THAT   |\n",
      "|         |       |                | WORRY WHO KNOWS MAYBE IS JUST MASS SOMETHING IS A  |\n",
      "|         |       |                |                  LITTLE BALL THAT                  |\n",
      "+---------+-------+----------------+----------------------------------------------------+\n",
      "|  16210  | 14186 | LLAMAROS Y QUE | WELL SHE SAID THAT SHE SHE WAS GOING TO CALL SO I  |\n",
      "|         |       |                | SHE HAD LEFT PHONE NUMBER BECAUSE SHE WAS SLEEPING |\n",
      "|         |       |                | IT NOW TWO TIMES THAT HAS CALLED AND SHE 'S ASLEEP |\n",
      "|         |       |                |                SO SHE CAN 'T ANSWER                |\n",
      "+---------+-------+----------------+----------------------------------------------------+\n"
     ]
    },
    {
     "data": {
      "text/html": [
       "\n",
       "                <audio controls=\"controls\" >\n",
       "                    <source src=\"data:audio/x-wav;base64,UklGRuQhAABXQVZFZm10IBAAAAABAAEAQB8AAIA+AAACABAAZGF0YcAhAAAE4QTiBOIE5QTpBOpE8UT2oP/8EPwR/Bd8IPwZ/Bv8FvwS/BC8C/wPPAmcBrwJDANcBPT8xPNE9QTuBOgE5wTkBOQE5gTmBOgE6gTwRPZE+KD/vAr8EPwP/BH8FfwW/BL8EfwP/A88DrwKPAgcBxwFnAOMAWT7RPjk+UTzBO0E6wToBOcE5wToBOoE6wTuxPJE+PT97AK8CrwOvA78EPwR/BL8EvwQ/BA8DrwMPAu8B1wFnAMsAowBFP5E+OT5ZPnE8QTwBO4E7ATsBOoE7ATuBO7E8cT29PzMARwEvAm8DbwNPA88D/wP/BA8DrwNPAw8C7wJXAZcBUwD7AGMAowBtP2k+WT8JPtE9ETzRPEE8ATwBO0E7wTwBPDE9eT6vP6sARwEHAc8CjwNvA08DbwNPA+8DrwMPAy8C7wJPAicBlwG3ASMAgwDzAK0/KT7VP5E+ET0RPNE8UTxBO8E7gTwxPDE80T45Pt8/8wCHAY8CLwKvA48D7wN/A88D/wPvA48DLwNPAucBtwFHAVcBZwDVAF0AbT8xPfk+kT4xPFE8QTwBPAE7wTwxPJE9cT1ZPogAAwDXAU8CbwLvAy8DvwPPA88DjwNvAw8DbwKvAm8CdwFdAHEAIwBqP+8/oj/FP1E+GT5JPvE9cTyRPPE8kTyRPHE80T3xPak+Vz/HAQcBTwIPAw8CbwK/A88DDwLvAq8CbwInAYcBpwGnAQs/3T+7AKMAmwDPAncBvT9JPwk/ET1BPAE7gTuBOwE6wTuRPLE8UT2VP7MApwDXAc8CrwIvAu8DTwMPAw8C7wLPAw8CLwHvAccBpwF7AKcBrwKPAo8DAwDxPZE9cTwBOoE5gTkBOME4QTkBOwE7kTypPsMA7wKvA48DLwO/BL8ELwNvAy8DbwLvAeMAZwEvAicBrwKPAw8DPwQ/BG8CWT5BPAE7AThhNuE14TXhNmE2QTo5Pjk+7wI/BX8FvwV/A+8DLwLvAjMArj/YAB0AUQBHP9cBPwQ/BX8E/wP/BP8F/wSvAcE7wTihN2Ez4TNhM+E1wTqRPc8DfwX/BD8FPwX/BW8CUT3RPgE7wTqZPos/7wH/BM8DvwP/BT8F/wWvAm8DvwZ/BHE8YTXBOSEzYS2hN9E8cT3vA78FPwZ/BE8DfwU/A/k+ITbBOXE8gTv7AH8EfwT/Bz8FBQBnAb8D/wPXAVcBnwg/B7E9oTXBOaE3YS6hN9k/LT8/A/8FPwaPA/cA/wRPA3E8YTVBObU/OT7vAz8HfwV/BE8D2T7ZPm8C/wQvAi8DnwofCo0/oTPBOQE5IS+BOHsAdwD/BO8DfwXPA/E9+wCzAEE44TPBOu8DbwK/BN8KPwXvAjEACT5nAX8EPwT/BT8HHwyfDBk+YS+hNEE4YTJBO2cBrwM/BS8DvwWIAAE4QTsRPaE1YTJpPv8HfwdfCJ8IvwVdP0E60T4/BL8FfwXfCJ8LHxBfDKE14SqhNOE3YTfDAP8EPwa/Bz8GbwKhNuEvoTRBOgE40T2/BN8Inwk/BtcBwTwBOQE69wD/BT8GnwgfCZ8OnxN/BCEnoSmxPAE63T+/Bx8InwwfCS8CgTihLKEsgTixPZU/vwV/Bt8JvwTRPIE44TdRPHcBfwR/Bz8G/wcfDB8SXwkhK6EjgTiRPfE9/wbfCp8OHwuUACE14S2hLoE6LwH/BT8GvwX/BgM/4TbhNvE8gQBPA38F/wQvAz8GnwofDj8EoSqhJoE6+T5IAB8IHwmfC78GwTkhL6Ex4TfJPv8FXwg/Bz8D/T8BOqE2QTonAX8E/wZvAtE9jT+/Bd8KnxB/BiEqoSmxPLk+4j//Bt8Inwo/BKE2YS+hNUE7OQA/Bt8IvwcBO+E00T25Plk+vwV/BE8COT6BO1EAfwcfC58NGT5hKKEtkT2oP/8EXwkfCR8IuT7hMWExwTubAP8FHwofCIMAoTfBOdE+KT4vAz8FbwOPAgE8ATiRPT8GXxBfEGE04SGhNn8F7wM/B38Hnwi/BmE14SuhNk8/zwKfCx8MLwNBOGE1/z+nAM8CPwb/BKU/QTmBO+8B/wZfDh8ODwJhKqEmgTqvAz8GXwufCo8DwTkhLqEzcT2/BF8JHws/BWE2YTNpPv8EPwR/Bk8D9j/RPIE50TyvAd8InxNfD6EvoSGBOj8GXwmfD58LLwOBO+EtoSuBPD8E3wgfDj8G4TbhLoE8Pwd/B58KPwRBO8E4QTuXAf8GHwufEF8NETzhJaEpsT3/Bt8NHxJ/BOEz4S2hNlE9LwHfCp8LPwaxPKExYTDxPF8JHw0fCIE4oTXnAM0AfwRfCp8TXxJhM2EhoTR/BZ8JnxBfDbE9oTLhLKE0zT9/Bp8Mnws9P2EtoTHvAt8IHwwfCQE7ITXxPc8CTwNfCR8MnxBfCKEvoSKhNv8GHwofFH8HYTFhK6E3fD/PAp8LnwuPA+E0YS2BO48DvwdfCiMAYTPBOE8CDwLvA38FHwwfEmcBoSKhJr8G3wwfFV8SYTLhLKE2+T53AZ8KHw6/B0E4oS2hNmsAvwWfC78EYTPhMXE9jwL/BN8IHwkfDpcBYSShJq8CXwgfE18VQTjhKqE0Tz/vA18JHw4/BmE24S2BOM8CvwWfCa8CYTPhM8U/ZwEPAn8E3wofEU8CISGhJr8HXw0fF18UYS+hK4E5OT7/BJ8Jnw2vA2Ex4S+BO+8CfwbfCos/4TLhMlE97wL/BZ8Lnw8fCSEqoSGRPd8InxBfGEcBoSmhMdk+rwNfCB8MHwkBOuEsoTPPAz8GHws/BKEyYTPxPNAAPwSfCJ8QXw4hMuEioTb/Bd8Nnxh/BqEqoS6RPG8CfwdfDJ8KATshLaE07wH/Bd8KvwdBOWEwQTkvAv8FnwwfEV8KoS2hIoE6HwgfDJ8YZwFhKKEtkTx3Ab8F3ws/BKE24SuhNc8CPwVfCw8D4TfhMcE7fwV/BR8TXxFfC5k+YSm/BJ8QXxVfHEE5ISuhNN0/fwSfCB8MvwZhNmEloTH/BZ8IHwwRPiEnoTJ7AH8FHw4fFn8GISahIY8DHwgfEF8YTwJhL6EvgTwvA18Inw2fCIE54S2hNu8CPwdfCy8DYTThL7E8PwWfDB8WXwkhJqEhjwJfCh8QXxpPAqEvoS+BO68C/wZfDJ8IATrhLaE07wNfCB8MPwRhL6EvhwG/Bt8SXxVRPWEioS2/BV8KHxFfEGE04S2hMsE7rwM/Bt8MLwLhMeEtgTr/Bp8JHw0xPSEvsTz/BR8TXxZfEHE9YSm/Bd8RXxJfGkE54S2hNUE6bwJ/BR8LvwYhNmEpoTLvAe8DXwgRPKEroTXvAd8MnxV/BmEioSufCJ8MnxRfEGEz4TLBOTE8jwOfCB8LvwVhN2EugTi/A/8GPwXBOGEw8T3fCB8UXw8hJqEhvwXfCp8RXxZBOGEvgTrRPJcBPwZfCb8GwTthLqE0xwH/BH8FMTyhMkE5PwXfE18PoSyhIq8DHwsfEV8VYTXhL5E80T3vAd8InwofCDE9IS+hNVcBLwLPA/E8oTPBO18LHxN/BSEhoSefCR8MnxVfCKErgTmXAXE9fwRfCB8IpwGhNOEzaT4vA28BwwDBOQE4vwUfEl8KoSWhI78G3wyfFF8QYS+hM28ByT5/BF8Jnws/BSE24TNxPO8DBwGTAIE6gTl/BN8QXwghIaEivwVfCx8SXw0hLKE0xwGxPe8DXwgfCz8EoTfhNUk+vwR3AYcBUT0RPh8LHxBhN2EioTZfCR8NnxZxPaErgTsJPr4//wXfCh8IkT1hNcE57wKPAkEAZT9xPL8GHxBHASEioSmfCR8MnxZfCKEroTbZPxk+bwOfCZ8JswBhN+E24wCHAfMAVwGpPh8JnxJxPCEioS+fCB8LnxZ/BaEvoTVBPBMAvwRfC58JsQAhN8E4Xz/zAI8CPwP/BJ8PHwghI6EhjwOfCR8RXxJhNuEx4TbxPW8CPwbfDL8EETzBONE8cwCDAL8FfwafDZ8MoS+hIoE8PwdfDJ8UfwPhNWEw4TbXAX8EHwwfCR4AATnhN80/pwG/Bd8Jnw2fCaEooSOVP78GXwwfEU8DwTihMWE1Wz/XAd8KHwgPApE8oTX5Pk8CPwZfDB8NnQBhIaEsvwR/BB8MnwuPA3E8oTDhNFE9zwNfCD8GfwRBO+E3ST7/BF8KHxBfDCEroSSbAP8GHwkfDj8EtwDBOOEyYTbxPP8D/wU/Bj0/YTXBOc8C3wmfDx8NIS+hIYk+/we/B58OPwXvAkE74TRhNUE6LwH/BV8IvwPhN8E57wJ/Bx8Inw2BOSEioTb/BH8F3w0/BicA0T0BOeE14TRdP78EHwg/BsE7QTqvP58IHxBfDiEwYSKBAF8JHwgfDZcBxwHiP+E34THhMuU/TwPfCT8GgTshN1E93wgfDp8NIS2hIqcBPwcfCJ8LDT+PAiMAgTthMeE0ZwE/A98KPwVxPUE6GT8fDB8RfwPhIqEmnwg/Bp8KvweBPA8DrwHhNmEsoTZPAj8F3woPAoE6UTx/BN8SXw8hMuEigTpfCT8HnwwVP2Y/3wk/A+EzYSeBOX8FHwgfCb4/wTsHAZ8NnxJpPuEhoSufCL8Hnws/BvE9Xwg/BiE3YSuhNXMAfwP/Bw8DQTv5Pn8D3xJfCCEqoSKBO78GLwOfCZE+DwNfCIU/YTHhLLE9DwK/Bx8IrwL/BG8DXxZfD7E9UT2hNP8Fnwu/B58IpwGfDD8GgTnhL6EwUT3FAH8EfwZnAS8B3wofDpE84SKhJKk+LwNHAT8EMQAfCb8FXT9hNGExwTwrAL8EXwg/Bj8GXwqfCjk+oS+hL4k+hwG5Pq8B/wbfCj8GawCBOOE2UTxJPy8DvwW/BL8HPwXGAAE5YTbBOgE7QTuLP/8Ffwa/BCcBuT6RPLE9KT5PAn8GPwbfCL8GrQABPBE8UT2BOqE3QTjvP78EJwG5ACMAWT7RPdE80wC/BX8HHwk/Bu8CeT7xPXE9gTwBOWE3wTwvAo8CNT99PxU/XAANP3U/bwN/Bl8IHwgvA1E9gTwJPvk+wTuBOME5NT8PAk0/mT7JPsIAJwElAC8CPwT/Bt8IvwWTP8E7ETylP3E8wTnhN8E7RwHjALk+MT3pPkcBhwGnAO8DvwWfCB8ILwLRPUE7+T7JPkE6ITfBOQ8/xwGRPfE9ET4LAJsA9QAPAz8E/wb/B38D9D/xPPE9UT1BO8E5wThBPCMAtD/5PnE9zgAvAs8CJwDPAv8EvwdfCC8CkT0BO6k+WT6BOiE3QTiZPvcBiT6xPXE83T+HAaMATwL/BH8GXwg/BFM/0T0RPik+UTyBOgE4UTz3ATs/kT4RPUk+1wGHAc8DPwT/Bb8G/wWTAJE80T1xPfE8gTqhN0E5kAATAJk+sT35PgsA5wEnAS8DvwW/Bz8G7wMxPfE8ET4JPnE8QTmBOHE9hwHLP/E9+T4rAE8CZwFvAr8E/wZfCD8FNT9xPBE9+T7xPEE6ITfBO5cBwwDpPok+eT73AXcBJwG/BH8GXwg/Bs8CET0BPAk+UT1BOsE4wTqtAD0AMT2ZPk0/pwGPAo8C/wR/Bd8IHwg/A+k+gTuxPNE9QTqhN8E5ND/PAw4AGT6xPfEALwIPAj8EfwZfCJ8IDwPpPrE8ET2xPIE6QThBOQsA/wPHATM/uT5TP+8CBwHvA78G3wofCa8DUTxBOvk+qT5BOaE1wTmPAn8D9wDlP1E9GT6LANcBDwO/Bp8JnwkvAsE7QTqpPtk+gTihNVE8vwS/BO8Crz+xPFE+AQBHAX8FHwgfCh8ILj/BOYE7GT6RPKE2QTh3AX8FvwTXAdE8gTppPg8CLwM/Bl8JHwm/BPE8QTiBOhE9gTphN1k+vwT/Bn8EvT8BOgE6eT7XAX8FHwkfCr8HuT4hN8E58T0BO6E2QTu/A/8GfwX3AYE7QTkpPjcBjwN/B18JnwkvA0E54TVBOPE8gTkBOYcB/wY/Bq8DkTzBOIE7Vz/XAb8FXwgfCb8F8TyhNsE4QTwBOeE3+T5/BV8IPwV6P8E5gTjfP88C/wVfCR8Ivwe1P2E34TXBOIE6AThxPb8FPwd/Bl4AATmBOHE85wDvA78HXwkfCS8CgTkhNeE3wTsBOYE67wJ/Bz8HLwOBO+E2QTsnAW8DfwcfCR8JPwTBPCE24TXBOcE6QToLAP8GPwe/BLE9wTkBOak+pwE/BV8InwkfCKk+YTZhNcE5wTwBOZE9fwR/B78GHz/BOOE3aT4vAv8E/wdfCD8HrwHBOSE04TfBO4E7sT3/BN8IPwbPAkE7gTiBPBIALwN/B18Inwo/BQE6ITXhNsE6gTpBOhsA/wZ/B78D0TzhNsE4WT8PAr8F3wifCb8HkT4hN+E3QTnBOoE50AA/B18JnwgNAEE5ATm5PrcBvwSfCB8JHwovAoE4YTVBOEE7QToBOtcB/wb/Bw8DkT0hN8E6BgAPAz8GnwkfCj8GETzhN2E3wTuBO4E6UwD/B18IvwX1PwE5gTrdP68B/wTfCB8JHwmzAKE24TXBOuk+ATqBOi8B/wd/Bq8DETxhN8E7xwEvA38G3wkfCj8GATuhNcE40T0xPME63T+/Bj8HPwVjAEE6gToRPicBPwR/B18JHwknAYE4oTZBOzk+ATuBOhkAfwX/Bj8D2T8BOcE7XT+PAr8F3wgfCb8GcT2hN2E30T2ZPsE6gTsXAf8FfwTvAlE9QTsRPcsArwL/Bd8IHwg/BDE8ITbBOWk+OT7BOsE65wD/BD8EbwIRPcE7kT2XAQ8DvwY/B38GrwKBO8E4gTppPkU/QTuBO3U/TwNPA5cBeT7xPZ0/RwEPAn8EPwV/BO8CGT6BO4E6kTzJPyk+ETxxPIk+swC7AIk/GT75ACcBJwFPAg8CbwN/BI8DMwCZPtE+CT8tP0k+0T2xPJE9aT7dP0k+UT45PlU/Uz/VP5s/0wCXAe8CjwIHARkAUQBRAGY/9T9ZPsk+mT6JPtk+yT6pPmk+rT81P2c/nz/GABYAIwBnAScBtwFbANkAcQA6P8U/iT8pPtk+2T7ZPrk+ST6pPu0/PT8FP0U/Qz/jAIcBZwFHAVsAywCjAEkAYwBrAGo/zT9ZPvk+eT5pPmk+eT5JPsU/TT+PP84AIwBzAIsAwwDnANcBRwG3AVcBRwEDAJ0/mT7pPkk+eT5JPrk+iT7pPuU/HT9jP58/5QATAJcBBwGvAe8B1wGnAQsA0QB7P5U/fT8FP2U/OT75Pqk+9T8VP30/Xz/1ADMASwDXARcBZwFnARcBBwF3AN0AVz/NP7U/TT91PzU/HT9FP6M/qz+rP7Q/8wBDAPMAswBTAIcBRwHXAacA+wBdAFEAQAA7P78/rj/uP/s/jT+NP5U/hT+FP6w/8wBbAIMAswC3APcA8wC7AFMAkwDrAJkAUQBzAGsAQQBwP/c/jz/6P94AIQApABEAYwBZAEEAXgAtABsApwDnAOMAswBNAHkABAAqP9AAKQAIABM/zz/uP9QAIQAhADEAIQAYAAUAYwCbAMMA8wB5ACUACQBLAJMAqQALP/8/uD/YADw/+D/lADEAOj/XP/g/yQBjAGUANj/GACkAOQA9ACEAPj/0P+4/6D/XP8M/6j/dAFMAiQB+P+g/6D/fP9c/wAA9ADUAOj/fP9M/zz/TP/M/nT+LP84AIQAOAAQADgASACg/7z+jP48/+D/4P/Y/wAA+P98/7z+FP7U/TT+3P6w/xgAoP9c/1z/XP9s/3z/XP+s/jT+VP5c/6j/DP/M/tz+zP4U/hT+TP9gABAAvP5U/vz+yP/g/3z/zP60/TT9FP5c/5D/3P6M/pz+/P78/pz+dP40/jT+dP4s//D/GACY/6z+NP7U/bT9NP68/jz/0P+g/zz/HP/8/tz+jP60/fT9PP84ALD/HP/c/nT+NP60/XT9NP78/nz/4P8wAAAAfP88//z+dP6s/rj/lAAIABz/dP6s/iz/DP/M/tz+HP8M/zz/wP/g/6D/mP+Y/2z/iP/g//D/uP+I/1z/XP9M/1z/kP/A/8D/XP+Y/0AAhAAgAEz/PP9YAOQAlAAIANj/4P+4/6D/iP+Y/7j/IAB4AIQASAAwAHAASADo/yAABAHMAXQBlAAwAGAAhAAYAOD/YAAEAWQBBAGUAMQAlADw/9D/KACUACQBVAH0AKQAtAAEATQBBAFgABAApACMAUwCLAKsAUQB1AA4AMD/IADUAIwBzAH0AKQAtADkAOQAxADUABQBZAGsAcwB7AF0ASQBRAGsAWQBpABgAKQAFAFEAQQBBAFEAXQBVAEUAUQBrAGMAWQBrAGMAcQA1AB0ATQBWADI/6D/YABEATQBxADEAEQBdAF0AXQBVAFEAYwBjAFUAdQAlACkAMQAtAAoAMD/MACkAKQAxADEAGQB7AFUAQAAmP84AIwBTAKsAcQACACI/wz//P5M/1z/oP84AJQApABIACAAlAAEAfQAhACkACQBVAHUAHgAQADQ/3z/vP50/oz+PP9YAIQAEACQ/0z/HP8s/8D/SABIAPj/2P/g/1z/LP9c/2z/fP9c//z+7P6I/+D/bP88/5D/uP98/yz/PP8s/xz/DP8s/5D/iP/8/vz+HP/M/pz+/P5c/1z/DP+8/tz+/P7c/rz+zP6s/hT+VP78/lz/LP/8/jz/bP/s/jT+NP78/nz/TP8c/xz/7P6M/qz+vP50/nT+nP4s/wz/jP50/vz+bP8M/3T+dP7c/nz/bP/s/sz+3P68/nT+1P30/Yz+TP88/7z+3P78/qz+VP6M/lz/KABwABAAbP8M/9z+dP50/oz+7P5c/3z/LP/M/iz/yP+Y//z+rP4c/8D/0P+w//D/yP8s/+z+PP9s//z+3P6g/ygA0P8s/1z/qP+g/0z/bP9wAMQAKACo/+D/OAAAALD/oP/I/+j/wP/4/0AASAA4ABAA2P98/5D/hAAUAaQACAAYAHAAKABc/5j/9ACMAcQACAA4AAQBNAGUAIQAtACkAFAAWACkAKQApACUALQA5ACUAGAAxADkAAQBFAEkASQBVAGMAYwBVAE0AeQAxABwAGgA5AB0AUQB5ACkAHgApAC0AIQAxAB0AawBRAGMAcQAyP/g/+j/eABgAHz/hADcAxwF3APMAbz+zAGcBtwDBAFoAMwBXATsAfT9NP18/8QA2P90/pT90P9kAQAALP/g/wwCrAGw/2AAzALcAywDDAOcAwwDzAFIAMj/MACUAGAAsP+g/yAA6P8c/zz/KAC0ACAA7P40AZwGvAhcBpwF3AUcBcwC3P6k+2T5RPhE90T35Phk+yT85PjE9eT4vAj8FfwU/A+8DLwO/BFcB0TzBOYE7GT7RPUE5kTyvAq8Dvz+BOwE6EQB/Bv8GbwOXAX8Enwo/BQE5YTTxPO8DST5hN0E7fwX/B28CQTthN3E8JwDvA68DGgA/P78EnwgPAiE2YTT5PjcBQTqBOFcBnwk/By8CQTwBOrE9RQB/BT8F7wIHAT8FXwiSACEzYTTJPrI/wThBOX8EHwg/BKU/ATpBO8E8ET4/BH8FzwMvAn8G3wgRPaExYTX+P9E9YTbxPV8IHwi/A9k/ET1BO+E3+T4/Bj8FLwHvAl8KnwoBOeEvgTsvAkE6ITZVAF8JPwX3Aa0/HT9BOeEy0T2/Br8ESgAXAd8MHwsBO+Ey0T4HAeE1YTfPAt8IPwYPAw8COT6hN2E1fT8/BW8Dbz+HAR8KHwuuP+E00TxtPyEzwTjPAr8FPwb/BG8DrQABOKE2eT6vA68DhwEVP38HXws/A8E4wTlRPOEz4TbjAI8Cvwb/BX8EbwMBO2E3wTvCAC8CPwTPAi8C3wqfCy8C4TfBO0E7YTDBOWcBbwM/B38E/wTPAkE54TfRPUUAbwM/BUcBPwPfCp8JFgAhN0E8ITfhMVE8RwF/BD8HfwR/BYcBQTiBOFE9sQAPA78FOwC/BF8LnwsDAOE28T1BOmEvgTwPAu8C/wc/BT8FbwIBOWE38Tx1P08DfwVXAa8DHwqfDA8C4TfxPYE74S6BOq8CZwG/Bv8FPwUvA0E7gTkBOlE9DwK/BZcBpwGfCJ8LPwXBOUE7uT4hL6E2bwNfP/8D/wd/BP8EST5BOgE6QTuDAP8FrwMnAP8GXwsfCqk+ATiTAOEz4S+HAUsApj/fCD8FvwRXAUE7ATnhN/E8PwP/BAIALwNfCZ8LvwRBOfE9wTuhLYE5bwLRPP8FHwi/BL8EmT8BO8E4YTdDAL8EpwGzAH8EnwqfDAcBQTkTP+E1YS2JPyU/ET2/B78F/wSvA3E9wTuhNsE5TwJPA8sA7wH/Bl8LHwsZPwE6/T8hMOEw5wFRPJ8/3wg/BH8ErwIRPUE64TXBOo8DJwGvP48CPwXfCp8KOT6BO7s/oTDhMccBQTwnAN8IvwP/BS8CaT4BOyE1QTovArcBuj/PAv8FHwofC5gAATu9PyEx4TDHP8E7yz/fCD8D/wTvAtk+8TwhNsE5RwGXAb0ALwM/BF8JnwwPAsE7iT8hNmEukTxRPLE8/we/BP8EvwRYADE9wThhN+U/bwILAO8CTwPfCB8MPwbxPVE9wTshLqE2eT4BO38Evwb/BL8FLwIYAAE7ITfRPS8CMwCXAe8DvwVfCx8KpwERPHE94TFhL5E9gTqZPn8GPwQ/BO8DcwCxPYE4wTk0P+cBkwDvAz8D3wifDD8HmT7pPkE74S+hN1E9gTs/BD8G/wX/Bg8DRwExPIE5ATwXAdcBrwJPA78EnwofCr8DwTw5PqE3YS2BO8E7ATo/BX8EfwP/BDcBvD/BO4E5yT6PAjcBbwKPAz8FnwqfCi8CUT2HASE14TFxPYE5ETx/Bj8D/wU/BC8B4wBBPAE62T6HAWcBLwJPAz8GHwqfCSsAmT5bAOEz4TLxPeE30Tz/BX8EPwV/BA8CRwExPME7iT8vAdcB7wHvAr8GXwo/B7c/uT67AKEz4TPRPaE2QTs/A88DfwSPA48CZwGxPfE8GT57AIcBxwHvAf8FXwifCDMAeT4vAiE2YTNxPWE3QTivAg8DPwV/A+8B7wN1ADE9CT83AQ8C7wIHAT8EPwe/BwcBETyPApE94TTBOsE6gTkRPW0/LwJPAkk+xwGPAlE90T4XAa8DbwKmP+w/zwIPAy8DnT+RPHMArwLpPjE8kT2xPcQAMT0xPDMAZz+RPaU/WwC3P4wAND/zAE8CKwCXAQ8CRwEHAQcBrwHXAW8/sQAvAfcA2T8ZPtE+ET3RPUE7wTwxPNE8kTyRPak+OT6dP4s/4wCHARMAxwHvAi8B7wHPAu8DvwRPAqcA7wKvAk0/iT6RPfE80T0BO4E7ET3RPhE8kT35Pmk+OT69PwsAkwDtABcBzwInAW8CJwEnAX8E7wOJPmcBvwR1PxE9kT0BO/E8gToBOZ0/tT9xPLkAEwD/P5sAmT6XAQ8C3T9XAU8DLwJvA78EPwb/Bv0/UT3PA/U/YTfBPDE9ATnBOUE4+T5vAnE86T6/BM8DDT+zAGcBPQAuP98/7wHvA78FXwkfCa8C0TzvAxcBYTPhN1E9AToBO5E9twD/BDcA2T8PA7cAwTrBO9k+pwGHAdsArwJ/BQ=\" type=\"audio/x-wav\" />\n",
       "                    Your browser does not support the audio element.\n",
       "                </audio>\n",
       "              "
      ],
      "text/plain": [
       "<IPython.lib.display.Audio object>"
      ]
     },
     "metadata": {},
     "output_type": "display_data"
    },
    {
     "data": {
      "text/html": [
       "\n",
       "                <audio controls=\"controls\" >\n",
       "                    <source src=\"data:audio/x-wav;base64,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\" type=\"audio/x-wav\" />\n",
       "                    Your browser does not support the audio element.\n",
       "                </audio>\n",
       "              "
      ],
      "text/plain": [
       "<IPython.lib.display.Audio object>"
      ]
     },
     "metadata": {},
     "output_type": "display_data"
    }
   ],
   "source": [
    "display_pair(16210, eval_dict, nodes_dict, align_dict, utd_wavs_path, es_merge_wavs_path, segment_map)"
   ]
  },
  {
   "cell_type": "markdown",
   "metadata": {},
   "source": [
    "## Pseudotext analysis"
   ]
  },
  {
   "cell_type": "code",
   "execution_count": 10,
   "metadata": {
    "collapsed": false
   },
   "outputs": [
    {
     "data": {
      "text/plain": [
       "(u'../files-train-segments-sf-10.txt', u'../files-dev-segments-sf-10.txt')"
      ]
     },
     "execution_count": 10,
     "metadata": {},
     "output_type": "execute_result"
    }
   ],
   "source": [
    "train_segment_list_fname, dev_segment_list_fname"
   ]
  },
  {
   "cell_type": "code",
   "execution_count": 11,
   "metadata": {
    "collapsed": true
   },
   "outputs": [],
   "source": [
    "train_fids = []\n",
    "train_sids = []\n",
    "with open(train_segment_list_fname, \"r\") as in_f:\n",
    "    for line in in_f:\n",
    "        train_fids.append(line.strip().split(\".\")[0])\n",
    "        train_sids.append(line.strip())\n",
    "train_fids = set(train_fids)\n",
    "train_sids = set(train_sids)"
   ]
  },
  {
   "cell_type": "code",
   "execution_count": 12,
   "metadata": {
    "collapsed": true
   },
   "outputs": [],
   "source": [
    "dev_fids = []\n",
    "dev_sids = []\n",
    "with open(dev_segment_list_fname, \"r\") as in_f:\n",
    "    for line in in_f:\n",
    "        dev_fids.append(line.strip().split(\".\")[0])\n",
    "        dev_sids.append(line.strip())\n",
    "dev_fids = set(dev_fids)\n",
    "dev_sids = set(dev_sids)"
   ]
  },
  {
   "cell_type": "code",
   "execution_count": 13,
   "metadata": {
    "collapsed": false
   },
   "outputs": [],
   "source": [
    "clusters_stats['is_dev'] = []\n",
    "clusters_stats['is_train'] = []\n",
    "clusters_stats['oov'] = []\n",
    "for sids in clusters_stats['sids']:\n",
    "    is_in_dev = len(dev_sids & set(sids)) > 0\n",
    "    is_in_train = len(train_sids & set(sids)) > 0\n",
    "    clusters_stats['is_dev'].append(is_in_dev)\n",
    "    clusters_stats['is_train'].append(is_in_train)\n",
    "    clusters_stats['oov'].append(is_in_dev and not is_in_train)\n",
    "\n",
    "clusters_stats['dev_depth'] = []\n",
    "clusters_stats['train_depth'] = []\n",
    "for nlist in clusters_stats['sids']:\n",
    "    clusters_stats['dev_depth'].append(len([i for i in nlist if i in dev_sids]))\n",
    "    clusters_stats['train_depth'].append(len([i for i in nlist if i in train_sids]))\n"
   ]
  },
  {
   "cell_type": "code",
   "execution_count": 14,
   "metadata": {
    "collapsed": false
   },
   "outputs": [
    {
     "name": "stdout",
     "output_type": "stream",
     "text": [
      "583\n",
      "627\n",
      "1329\n"
     ]
    }
   ],
   "source": [
    "num_oov = sum([i for i in clusters_stats['oov']])\n",
    "print(num_oov)\n",
    "sum_oov = sum([d for i, d in enumerate(clusters_stats['dev_depth']) if clusters_stats['oov'][i]])\n",
    "total_pwords = sum([d for i, d in enumerate(clusters_stats['dev_depth']) if clusters_stats['is_dev'][i]])\n",
    "print(sum_oov)\n",
    "print(total_pwords)"
   ]
  },
  {
   "cell_type": "code",
   "execution_count": 15,
   "metadata": {
    "collapsed": true
   },
   "outputs": [],
   "source": [
    "def mini_print(out_cols, out_rows):\n",
    "    out_line = PrettyTable(out_cols)\n",
    "    print(\" & \".join(out_cols))\n",
    "    if len(out_rows) > 1 and type(out_rows[0]) == list:\n",
    "        for row in out_rows:\n",
    "            out_line.add_row(row)\n",
    "            print(\" & \".join(map(str, row)))\n",
    "    else:\n",
    "        out_line.add_row(out_rows)\n",
    "        print(\" & \".join(map(str, out_rows)))\n",
    "    print(out_line)"
   ]
  },
  {
   "cell_type": "code",
   "execution_count": 16,
   "metadata": {
    "collapsed": false
   },
   "outputs": [],
   "source": [
    "def oov_summary(dev_sids, feats_dict):\n",
    "    dev_words = []\n",
    "    train_words = []\n",
    "    oov_pwords = []\n",
    "    for did in dev_sids:\n",
    "        dev_words.extend([w.decode('utf-8') for w in feats_dict[did]])\n",
    "    for tid in train_sids:\n",
    "        train_words.extend([w.decode('utf-8') for w in feats_dict[tid]])\n",
    "    set_train_words = set(train_words)\n",
    "    oov_words = [cid for cid in dev_words if cid not in set_train_words and cid != \"-1\"]\n",
    "    missing_train_words = [cid for cid in train_words if cid == \"-1\"]\n",
    "    missing_words = [cid for cid in dev_words if cid == \"-1\"]\n",
    "    out_cols = [\"train words\", \"dev words\", \"oov\", \"oov types\", \"miss.\", \"oov + miss.\", \"vocab\", \"oov vocab\"]\n",
    "    out_rows = [len(train_words), len(dev_words), len(oov_words), len(set(oov_words)), \\\n",
    "                len(missing_words), len(oov_words) + len(missing_words), len(set(dev_words)), len(set(oov_words))]\n",
    "    mini_print(out_cols, out_rows)\n",
    "    return Counter(train_words), Counter(dev_words), Counter(oov_words)"
   ]
  },
  {
   "cell_type": "code",
   "execution_count": 17,
   "metadata": {
    "collapsed": false
   },
   "outputs": [
    {
     "name": "stdout",
     "output_type": "stream",
     "text": [
      "train words & dev words & oov & oov types & miss. & oov + miss. & vocab & oov vocab\n",
      "15165 & 1660 & 627 & 583 & 331 & 958 & 1218 & 583\n",
      "+-------------+-----------+-----+-----------+-------+-------------+-------+-----------+\n",
      "| train words | dev words | oov | oov types | miss. | oov + miss. | vocab | oov vocab |\n",
      "+-------------+-----------+-----+-----------+-------+-------------+-------+-----------+\n",
      "|    15165    |    1660   | 627 |    583    |  331  |     958     |  1218 |    583    |\n",
      "+-------------+-----------+-----+-----------+-------+-------------+-------+-----------+\n",
      "train words & dev words & oov & oov types & miss. & oov + miss. & vocab & oov vocab\n",
      "27597 & 2862 & 291 & 272 & 0 & 291 & 1287 & 272\n",
      "+-------------+-----------+-----+-----------+-------+-------------+-------+-----------+\n",
      "| train words | dev words | oov | oov types | miss. | oov + miss. | vocab | oov vocab |\n",
      "+-------------+-----------+-----+-----------+-------+-------------+-------+-----------+\n",
      "|    27597    |    2862   | 291 |    272    |   0   |     291     |  1287 |    272    |\n",
      "+-------------+-----------+-----+-----------+-------+-------------+-------+-----------+\n"
     ]
    }
   ],
   "source": [
    "train_pwords, dev_pwords, oov_pwords = oov_summary(dev_sids, feats_dict)\n",
    "train_gold_words, dev_gold_words, oov_gold_words = oov_summary(dev_sids, gold_feats_dict)"
   ]
  },
  {
   "cell_type": "code",
   "execution_count": 18,
   "metadata": {
    "collapsed": false
   },
   "outputs": [],
   "source": [
    "train_pwords_es = Counter([clusters_stats['most_common'][int(cid)].upper() for cid in train_pwords if cid != -1])\n",
    "dev_pwords_es = Counter([clusters_stats['most_common'][int(cid)].upper() for cid in dev_pwords if cid != -1])\n",
    "oov_pwords_es = Counter([clusters_stats['most_common'][int(cid)].upper() for cid in oov_pwords if cid != -1])"
   ]
  },
  {
   "cell_type": "code",
   "execution_count": 19,
   "metadata": {
    "collapsed": false
   },
   "outputs": [
    {
     "name": "stdout",
     "output_type": "stream",
     "text": [
      "train/dev/oov & total & types\n",
      "train & 8062 & 2384\n",
      "dev & 1218 & 693\n",
      "oov & 583 & 393\n",
      "+---------------+-------+-------+\n",
      "| train/dev/oov | total | types |\n",
      "+---------------+-------+-------+\n",
      "|     train     |  8062 |  2384 |\n",
      "|      dev      |  1218 |  693  |\n",
      "|      oov      |  583  |  393  |\n",
      "+---------------+-------+-------+\n"
     ]
    }
   ],
   "source": [
    "out_cols = [\"train/dev/oov\", \"total\", \"types\"]\n",
    "out_rows = []\n",
    "out_rows.append(['train', sum(train_pwords_es.values()), len(train_pwords_es)])\n",
    "out_rows.append(['dev', sum(dev_pwords_es.values()), len(dev_pwords_es)])\n",
    "out_rows.append(['oov', sum(oov_pwords_es.values()), len(oov_pwords_es)])\n",
    "mini_print(out_cols, out_rows)"
   ]
  },
  {
   "cell_type": "code",
   "execution_count": 20,
   "metadata": {
    "collapsed": false
   },
   "outputs": [
    {
     "name": "stdout",
     "output_type": "stream",
     "text": [
      "dev pwords in train vocab: 635\n",
      "translations missing for: 1\n"
     ]
    }
   ],
   "source": [
    "inv_words = [cid for cid in set(dev_pwords) - set(oov_pwords)]\n",
    "print(\"dev pwords in train vocab: %d\" % len(inv_words))\n",
    "missing_translations = [cid for cid in inv_words if cid not in pseudo_probs_dict]\n",
    "print(\"translations missing for: %d\" %len(missing_translations))"
   ]
  },
  {
   "cell_type": "code",
   "execution_count": 21,
   "metadata": {
    "collapsed": true
   },
   "outputs": [],
   "source": [
    "def recall_summary(eval_dict, dev_sids, feats_dict, oov_words, k):\n",
    "    k = 10\n",
    "    num_en_oov = sum([eval_dict['dev'][k][sid]['t'] for sid in set(dev_sids) \\\n",
    "                      if len(set(feats_dict[sid])-set(oov_words)) == 0])\n",
    "    num_inv_and_oov = sum([1 for sid in set(dev_sids) if len(set(feats_dict[sid])-set(oov_words)) > 0])\n",
    "    num_only_oov = sum([1 for sid in set(dev_sids) if len(set(feats_dict[sid])-set(oov_words)) == 0])\n",
    "    num_en = sum([eval_dict['dev'][k][sid]['t'] for sid in set(dev_sids)])\n",
    "    num_en_missing = sum([eval_dict['dev'][k][sid]['t'] for sid in set(dev_sids) \\\n",
    "                      if feats_dict[sid] == ['-1']])\n",
    "\n",
    "    num_en_pred = sum([eval_dict['dev'][k][sid]['tp'] for sid in set(dev_sids)])\n",
    "    num_en_corr_pred = sum([eval_dict['dev'][k][sid]['cp'] for sid in set(dev_sids)])\n",
    "\n",
    "    out_cols = [\"total en\", \"en oov\", \"en missing\", \"upper bound recall\"]\n",
    "    out_rows = [num_en, num_en_oov, num_en_missing, \"{0:.3f}\".format((num_en-num_en_oov-num_en_missing)/num_en)]\n",
    "\n",
    "    mini_print(out_cols, out_rows)\n",
    "\n",
    "    out_cols = [\"k\", \"\\\\# corr.\", \"\\\\# pred\", \"prec.\", \"rec.\", \"rec. w/o miss.\", \"rec. w/o oov\", \"rec. w/o miss.+oov\"]\n",
    "    out_rows = map(lambda v: \"{0:.2f} \\%\".format(v*100) if type(v) != int else v, \\\n",
    "                   [k, num_en_corr_pred, num_en_pred, (num_en_corr_pred/num_en_pred), (num_en_corr_pred/num_en), num_en_corr_pred/(num_en-num_en_missing), \\\n",
    "                    num_en_corr_pred/(num_en-num_en_oov), num_en_corr_pred/(num_en-num_en_missing-num_en_oov)])\n",
    "    mini_print(out_cols, out_rows)\n",
    "    mini_print(['inv+oov', 'only oov'], [num_inv_and_oov, num_only_oov])"
   ]
  },
  {
   "cell_type": "code",
   "execution_count": 22,
   "metadata": {
    "collapsed": false
   },
   "outputs": [
    {
     "name": "stdout",
     "output_type": "stream",
     "text": [
      "total en & en oov & en missing & upper bound recall\n",
      "2899 & 271 & 862 & 0.609\n",
      "+----------+--------+------------+--------------------+\n",
      "| total en | en oov | en missing | upper bound recall |\n",
      "+----------+--------+------------+--------------------+\n",
      "|   2899   |  271   |    862     |       0.609        |\n",
      "+----------+--------+------------+--------------------+\n",
      "k & \\# corr. & \\# pred & prec. & rec. & rec. w/o miss. & rec. w/o oov & rec. w/o miss.+oov\n",
      "10 & 210 & 3982 & 5.27 \\% & 7.24 \\% & 10.31 \\% & 7.99 \\% & 11.89 \\%\n",
      "+----+----------+---------+---------+---------+----------------+--------------+--------------------+\n",
      "| k  | \\# corr. | \\# pred |  prec.  |   rec.  | rec. w/o miss. | rec. w/o oov | rec. w/o miss.+oov |\n",
      "+----+----------+---------+---------+---------+----------------+--------------+--------------------+\n",
      "| 10 |   210    |   3982  | 5.27 \\% | 7.24 \\% |    10.31 \\%    |   7.99 \\%    |      11.89 \\%      |\n",
      "+----+----------+---------+---------+---------+----------------+--------------+--------------------+\n",
      "inv+oov & only oov\n",
      "577 & 62\n",
      "+---------+----------+\n",
      "| inv+oov | only oov |\n",
      "+---------+----------+\n",
      "|   577   |    62    |\n",
      "+---------+----------+\n"
     ]
    }
   ],
   "source": [
    "k=10\n",
    "recall_summary(mt_pseudo_eval_dict, dev_sids, feats_dict, oov_pwords, k)"
   ]
  },
  {
   "cell_type": "code",
   "execution_count": 23,
   "metadata": {
    "collapsed": false
   },
   "outputs": [
    {
     "name": "stdout",
     "output_type": "stream",
     "text": [
      "total en & en oov & en missing & upper bound recall\n",
      "2899 & 21 & 0 & 0.993\n",
      "+----------+--------+------------+--------------------+\n",
      "| total en | en oov | en missing | upper bound recall |\n",
      "+----------+--------+------------+--------------------+\n",
      "|   2899   |   21   |     0      |       0.993        |\n",
      "+----------+--------+------------+--------------------+\n",
      "k & \\# corr. & \\# pred & prec. & rec. & rec. w/o miss. & rec. w/o oov & rec. w/o miss.+oov\n",
      "10 & 1698 & 8654 & 19.62 \\% & 58.57 \\% & 58.57 \\% & 59.00 \\% & 59.00 \\%\n",
      "+----+----------+---------+----------+----------+----------------+--------------+--------------------+\n",
      "| k  | \\# corr. | \\# pred |  prec.   |   rec.   | rec. w/o miss. | rec. w/o oov | rec. w/o miss.+oov |\n",
      "+----+----------+---------+----------+----------+----------------+--------------+--------------------+\n",
      "| 10 |   1698   |   8654  | 19.62 \\% | 58.57 \\% |    58.57 \\%    |   59.00 \\%   |      59.00 \\%      |\n",
      "+----+----------+---------+----------+----------+----------------+--------------+--------------------+\n",
      "inv+oov & only oov\n",
      "630 & 9\n",
      "+---------+----------+\n",
      "| inv+oov | only oov |\n",
      "+---------+----------+\n",
      "|   630   |    9     |\n",
      "+---------+----------+\n"
     ]
    },
    {
     "data": {
      "text/plain": [
       "'\\nThe impact of oov words is less in the case of gold features, \\nas other words in the utterances still make predictions. \\n\\nHowever, due to the sparse nature of pseudotext, generally there are no in vocab words for the utterance when\\noov words are encountered\\n'"
      ]
     },
     "execution_count": 23,
     "metadata": {},
     "output_type": "execute_result"
    }
   ],
   "source": [
    "recall_summary(mt_gold_eval_dict, dev_sids, gold_feats_dict, oov_gold_words, k)\n",
    "'''\n",
    "The impact of oov words is less in the case of gold features, \n",
    "as other words in the utterances still make predictions. \n",
    "\n",
    "However, due to the sparse nature of pseudotext, generally there are no in vocab words for the utterance when\n",
    "oov words are encountered\n",
    "'''"
   ]
  },
  {
   "cell_type": "code",
   "execution_count": 24,
   "metadata": {
    "collapsed": false
   },
   "outputs": [
    {
     "name": "stdout",
     "output_type": "stream",
     "text": [
      "train fids & dev fids & train sids & dev sids\n",
      "36 & 36 & 5930 & 639\n",
      "+------------+----------+------------+----------+\n",
      "| train fids | dev fids | train sids | dev sids |\n",
      "+------------+----------+------------+----------+\n",
      "|     36     |    36    |    5930    |   639    |\n",
      "+------------+----------+------------+----------+\n"
     ]
    }
   ],
   "source": [
    "mini_print([\"train fids\", \"dev fids\", \"train sids\", \"dev sids\"], \\\n",
    "          [len(train_fids), len(dev_fids), len(train_sids), len(dev_sids)])"
   ]
  },
  {
   "cell_type": "code",
   "execution_count": 25,
   "metadata": {
    "collapsed": false
   },
   "outputs": [],
   "source": [
    "def show_common(counter_A, counter_B):\n",
    "    set_A = set(counter_A.keys())\n",
    "    set_B = set(counter_B.keys())\n",
    "    common = set_A & set_B\n",
    "    return common, len(common)"
   ]
  },
  {
   "cell_type": "code",
   "execution_count": 26,
   "metadata": {
    "collapsed": false
   },
   "outputs": [
    {
     "name": "stdout",
     "output_type": "stream",
     "text": [
      "3\n",
      "1522 2384 5389\n"
     ]
    }
   ],
   "source": [
    "_, k = show_common(oov_pwords_es, oov_gold_words)\n",
    "print(k)\n",
    "_, k = show_common(train_pwords_es, train_gold_words)\n",
    "print(k, len(train_pwords_es), len(train_gold_words))"
   ]
  },
  {
   "cell_type": "code",
   "execution_count": 27,
   "metadata": {
    "collapsed": true
   },
   "outputs": [],
   "source": [
    "def get_dur_for_sids(sids, align_dict):\n",
    "    dur = 0\n",
    "    for sid in sids:\n",
    "        dur += sum([word.end-word.start for word in align_dict[sid.split('.')[0]][sid]['es']])\n",
    "    return dur / (100 * 3600)"
   ]
  },
  {
   "cell_type": "code",
   "execution_count": 28,
   "metadata": {
    "collapsed": false
   },
   "outputs": [
    {
     "name": "stdout",
     "output_type": "stream",
     "text": [
      "train sid dur & dev sid dur\n",
      "4.418 & 0.450\n",
      "+---------------+-------------+\n",
      "| train sid dur | dev sid dur |\n",
      "+---------------+-------------+\n",
      "|     4.418     |    0.450    |\n",
      "+---------------+-------------+\n"
     ]
    }
   ],
   "source": [
    "# train sids duration\n",
    "train_sid_dur = \"%.3f\" % get_dur_for_sids(train_sids, align_dict)\n",
    "dev_sid_dur = \"%.3f\" % get_dur_for_sids(dev_sids, align_dict)\n",
    "mini_print([\"train sid dur\", \"dev sid dur\"], [train_sid_dur, dev_sid_dur])"
   ]
  },
  {
   "cell_type": "markdown",
   "metadata": {},
   "source": [
    "### pseudowords"
   ]
  },
  {
   "cell_type": "markdown",
   "metadata": {},
   "source": [
    "## Cluster Analysis"
   ]
  },
  {
   "cell_type": "code",
   "execution_count": 29,
   "metadata": {
    "collapsed": true
   },
   "outputs": [],
   "source": [
    "def plot_word_freq(count_dict, num=10, fig_name = '', prefix='', color='salmon'):\n",
    "    if prefix:\n",
    "        count_dict = {\"%s_%s\" % (prefix, k): v for k,v in count_dict.items()}\n",
    "    pd_es_df = pd.DataFrame(sorted(count_dict.items(), reverse=True, key=lambda t:t[1])[:num], index=range(num))\n",
    "    pd_es_df.columns = [\"word\", \"freq\"]\n",
    "    fig, ax = plt.subplots(figsize=(10,5))\n",
    "    sns.barplot(y='word', x=\"freq\", data=pd_es_df, label=fig_name, color=color)\n",
    "    ax.legend(ncol=1, loc=\"center right\", frameon=True, fontsize=20)\n",
    "\n",
    "    #ax.set(xlim=(0, 300))\n",
    "\n",
    "    plt.xlabel(\"word counts\", size=20)\n",
    "    plt.ylabel(\"word types\", size=20)\n",
    "\n",
    "    plt.yticks(rotation=0, size=18)\n",
    "    plt.xticks(rotation=0, size=18)\n",
    "\n",
    "    sns.despine(left=True, bottom=True)\n",
    "\n",
    "    fig.tight_layout()\n",
    "    "
   ]
  },
  {
   "cell_type": "code",
   "execution_count": 30,
   "metadata": {
    "collapsed": true
   },
   "outputs": [],
   "source": [
    "def get_en_words(align_dict, seg_id, en_key):\n",
    "    en_words = [w.word for w in align_dict[seg_id.split('.')[0]][seg_id][en_key] if \"'\" not in w.word]\n",
    "    if not en_words:\n",
    "        en_words = [w.word for w in align_dict[seg_id.split('.')[0]][seg_id]['en'] if \"'\" not in w.word]\n",
    "    return en_words"
   ]
  },
  {
   "cell_type": "code",
   "execution_count": 31,
   "metadata": {
    "collapsed": true
   },
   "outputs": [],
   "source": [
    "def get_word_counts(w_key, feats_dict, align_dict, sids):\n",
    "    if w_key.startswith('es'):\n",
    "        wrds = [a.decode(\"utf-8\") for sid in feats_dict for a in feats_dict[sid] if sid in sids]\n",
    "    else:\n",
    "        wrds = [a for sid in sids for a in get_en_words(align_dict, sid, w_key)]\n",
    "    return Counter(wrds)"
   ]
  },
  {
   "cell_type": "code",
   "execution_count": 32,
   "metadata": {
    "collapsed": false
   },
   "outputs": [],
   "source": [
    "def calc_avg_purity(clusters_df):\n",
    "    num = sum(clusters_df.apply(lambda row: \\\n",
    "                            Counter(row.words).most_common(1)[0][1] \\\n",
    "                            if len(row.words) > 0 else 0, axis=1))\n",
    "    den = sum(clusters_df.apply(lambda row: len(row.words), axis=1))\n",
    "    return (num / den)"
   ]
  },
  {
   "cell_type": "code",
   "execution_count": 33,
   "metadata": {
    "collapsed": false
   },
   "outputs": [
    {
     "data": {
      "text/plain": [
       "u'../../../ZRTools/exp/callhome/tmpwav'"
      ]
     },
     "execution_count": 33,
     "metadata": {},
     "output_type": "execute_result"
    }
   ],
   "source": [
    "config[\"es\"][\"zrt_tmp_wav\"]"
   ]
  },
  {
   "cell_type": "code",
   "execution_count": 34,
   "metadata": {
    "collapsed": true
   },
   "outputs": [],
   "source": [
    "def play_cluster(cid):\n",
    "    cid_wav_path = os.path.join(config[\"es\"][\"zrt_tmp_wav\"], \"%04d.wav\" %(cid+1))\n",
    "    return Audio(cid_wav_path)"
   ]
  },
  {
   "cell_type": "code",
   "execution_count": 35,
   "metadata": {
    "collapsed": false
   },
   "outputs": [],
   "source": [
    "# w_count = {'train': {}, 'dev': {}}\n",
    "# count_tups = [('train', 'es_cnt', train_sids), ('train', 'en_cnt', train_sids), \\\n",
    "#               ('dev', 'es_cnt', dev_sids), ('dev', 'en_cnt', dev_sids)]\n",
    "# for t,k,s in count_tups:\n",
    "#     w_count[t][k] = get_word_counts(k, gold_feats_dict, align_dict, s)"
   ]
  },
  {
   "cell_type": "code",
   "execution_count": 36,
   "metadata": {
    "collapsed": false
   },
   "outputs": [
    {
     "data": {
      "text/plain": [
       "[(u'6972', 2), (u'11542', 1), (u'11543', 3), (u'11540', 1), (u'11541', 2)]"
      ]
     },
     "execution_count": 36,
     "metadata": {},
     "output_type": "execute_result"
    }
   ],
   "source": [
    "temp_train_pwords = {k:v for k, v in train_pwords.items()}\n",
    "del temp_train_pwords['-1']\n",
    "temp_train_pwords.items()[:5]"
   ]
  },
  {
   "cell_type": "code",
   "execution_count": 37,
   "metadata": {
    "collapsed": false
   },
   "outputs": [
    {
     "data": {
      "image/png": "[encoded data removed]",
      "text/plain": [
       "<matplotlib.figure.Figure at 0x7fcf98005f10>"
      ]
     },
     "metadata": {},
     "output_type": "display_data"
    }
   ],
   "source": [
    "plot_word_freq(train_gold_words, fig_name=\"haha\", color='grey')"
   ]
  },
  {
   "cell_type": "code",
   "execution_count": 38,
   "metadata": {
    "collapsed": false
   },
   "outputs": [
    {
     "data": {
      "image/png": "[encoded data removed]",
      "text/plain": [
       "<matplotlib.figure.Figure at 0x7fd01c713590>"
      ]
     },
     "metadata": {},
     "output_type": "display_data"
    }
   ],
   "source": [
    "plot_word_freq(temp_train_pwords, fig_name=\"hehe\", prefix='c', color=\"salmon\")"
   ]
  },
  {
   "cell_type": "code",
   "execution_count": 39,
   "metadata": {
    "collapsed": false
   },
   "outputs": [],
   "source": [
    "eval_df = pd.DataFrame(eval_dict, columns=Eval._fields)\n",
    "clusters_df = pd.DataFrame(clusters_stats)\n",
    "del clusters_df['avg_purity']\n",
    "clusters_df['depth'] = clusters_df.apply(lambda row: len(row['words']), axis=1)"
   ]
  },
  {
   "cell_type": "code",
   "execution_count": 40,
   "metadata": {
    "collapsed": false
   },
   "outputs": [
    {
     "name": "stdout",
     "output_type": "stream",
     "text": [
      "8082 15089\n"
     ]
    }
   ],
   "source": [
    "clusters_df['same_seg'] = clusters_df.apply(lambda row: \\\n",
    "                                             len(set(row['sids'])) == 1 and \\\n",
    "                                             len(set(row['sids']) & (dev_sids)) > 0 or\\\n",
    "                                             len(set(row['sids']) & (train_sids)) > 0, \\\n",
    "                                             axis=1)\n",
    "print(len(clusters_df[clusters_df['same_seg']== True]), len(clusters_df))"
   ]
  },
  {
   "cell_type": "code",
   "execution_count": 41,
   "metadata": {
    "collapsed": false
   },
   "outputs": [
    {
     "name": "stdout",
     "output_type": "stream",
     "text": [
      "634 15089\n"
     ]
    }
   ],
   "source": [
    "clusters_df['cross_seg'] = clusters_df.apply(lambda row: \\\n",
    "                                             len(set(row['sids'])) > 1 and \\\n",
    "                                             len(set(row['sids']) & (dev_sids)) > 0 and\\\n",
    "                                             len(set(row['sids']) & (train_sids)) > 0, \\\n",
    "                                             axis=1)\n",
    "print(len(clusters_df[clusters_df['cross_seg']== True]), len(clusters_df))"
   ]
  },
  {
   "cell_type": "code",
   "execution_count": 42,
   "metadata": {
    "collapsed": false
   },
   "outputs": [
    {
     "name": "stdout",
     "output_type": "stream",
     "text": [
      "191 15089\n"
     ]
    }
   ],
   "source": [
    "clusters_df['cross_file'] = clusters_df.apply(lambda row: \\\n",
    "                                             row.is_dev == True and row.is_train == True and \\\n",
    "                                             len(set(row['fids'])-(dev_fids | train_fids)) > 0, \\\n",
    "                                             axis=1)\n",
    "print(len(clusters_df[clusters_df['cross_file']== True]), len(clusters_df))"
   ]
  },
  {
   "cell_type": "markdown",
   "metadata": {},
   "source": [
    "### View clusters"
   ]
  },
  {
   "cell_type": "code",
   "execution_count": 43,
   "metadata": {
    "collapsed": false
   },
   "outputs": [],
   "source": [
    "view_cols = ['most_common', 'oov', 'purity', 'words', 'depth', 'cross_seg', 'cross_file']"
   ]
  },
  {
   "cell_type": "code",
   "execution_count": 44,
   "metadata": {
    "collapsed": false
   },
   "outputs": [
    {
     "data": {
      "text/html": [
       "<div>\n",
       "<table border=\"1\" class=\"dataframe\">\n",
       "  <thead>\n",
       "    <tr style=\"text-align: right;\">\n",
       "      <th></th>\n",
       "      <th>most_common</th>\n",
       "      <th>oov</th>\n",
       "      <th>purity</th>\n",
       "      <th>words</th>\n",
       "      <th>depth</th>\n",
       "      <th>cross_seg</th>\n",
       "      <th>cross_file</th>\n",
       "    </tr>\n",
       "  </thead>\n",
       "  <tbody>\n",
       "    <tr>\n",
       "      <th>205</th>\n",
       "      <td>así</td>\n",
       "      <td>False</td>\n",
       "      <td>0.035620</td>\n",
       "      <td>[llamó, miguel, temprano, entonces, contenta, ...</td>\n",
       "      <td>2274</td>\n",
       "      <td>True</td>\n",
       "      <td>True</td>\n",
       "    </tr>\n",
       "    <tr>\n",
       "      <th>2041</th>\n",
       "      <td>cualquier</td>\n",
       "      <td>False</td>\n",
       "      <td>0.048387</td>\n",
       "      <td>[principios, difícil, ataque, ataque, tarjetas...</td>\n",
       "      <td>62</td>\n",
       "      <td>True</td>\n",
       "      <td>True</td>\n",
       "    </tr>\n",
       "    <tr>\n",
       "      <th>470</th>\n",
       "      <td>tanta</td>\n",
       "      <td>False</td>\n",
       "      <td>0.054545</td>\n",
       "      <td>[totalmente, trucho, cuestan, disparate, toman...</td>\n",
       "      <td>55</td>\n",
       "      <td>False</td>\n",
       "      <td>False</td>\n",
       "    </tr>\n",
       "    <tr>\n",
       "      <th>3678</th>\n",
       "      <td>cómo</td>\n",
       "      <td>False</td>\n",
       "      <td>0.090909</td>\n",
       "      <td>[papá, entonces, pones, sabo, cómo, súper, con...</td>\n",
       "      <td>44</td>\n",
       "      <td>True</td>\n",
       "      <td>True</td>\n",
       "    </tr>\n",
       "    <tr>\n",
       "      <th>905</th>\n",
       "      <td>regalitos</td>\n",
       "      <td>False</td>\n",
       "      <td>0.047619</td>\n",
       "      <td>[empezaste, voy, empezar, diciendo, sumamente,...</td>\n",
       "      <td>42</td>\n",
       "      <td>False</td>\n",
       "      <td>False</td>\n",
       "    </tr>\n",
       "  </tbody>\n",
       "</table>\n",
       "</div>"
      ],
      "text/plain": [
       "     most_common    oov    purity  \\\n",
       "205          así  False  0.035620   \n",
       "2041   cualquier  False  0.048387   \n",
       "470        tanta  False  0.054545   \n",
       "3678        cómo  False  0.090909   \n",
       "905    regalitos  False  0.047619   \n",
       "\n",
       "                                                  words  depth cross_seg  \\\n",
       "205   [llamó, miguel, temprano, entonces, contenta, ...   2274      True   \n",
       "2041  [principios, difícil, ataque, ataque, tarjetas...     62      True   \n",
       "470   [totalmente, trucho, cuestan, disparate, toman...     55     False   \n",
       "3678  [papá, entonces, pones, sabo, cómo, súper, con...     44      True   \n",
       "905   [empezaste, voy, empezar, diciendo, sumamente,...     42     False   \n",
       "\n",
       "     cross_file  \n",
       "205        True  \n",
       "2041       True  \n",
       "470       False  \n",
       "3678       True  \n",
       "905       False  "
      ]
     },
     "execution_count": 44,
     "metadata": {},
     "output_type": "execute_result"
    }
   ],
   "source": [
    "(clusters_df[view_cols].sort_values('depth', ascending=False, inplace=False)).head(5)"
   ]
  },
  {
   "cell_type": "code",
   "execution_count": 76,
   "metadata": {
    "collapsed": false
   },
   "outputs": [
    {
     "data": {
      "text/html": [
       "<div>\n",
       "<table border=\"1\" class=\"dataframe\">\n",
       "  <thead>\n",
       "    <tr style=\"text-align: right;\">\n",
       "      <th></th>\n",
       "      <th>most_common</th>\n",
       "      <th>oov</th>\n",
       "      <th>purity</th>\n",
       "      <th>words</th>\n",
       "      <th>depth</th>\n",
       "      <th>cross_seg</th>\n",
       "      <th>cross_file</th>\n",
       "    </tr>\n",
       "  </thead>\n",
       "  <tbody>\n",
       "    <tr>\n",
       "      <th>342</th>\n",
       "      <td>claro</td>\n",
       "      <td>False</td>\n",
       "      <td>1.000000</td>\n",
       "      <td>[claro, claro, claro, claro, claro, claro, cla...</td>\n",
       "      <td>11</td>\n",
       "      <td>True</td>\n",
       "      <td>True</td>\n",
       "    </tr>\n",
       "    <tr>\n",
       "      <th>4167</th>\n",
       "      <td>claro</td>\n",
       "      <td>False</td>\n",
       "      <td>1.000000</td>\n",
       "      <td>[claro, claro, claro, claro, claro, claro, cla...</td>\n",
       "      <td>16</td>\n",
       "      <td>False</td>\n",
       "      <td>False</td>\n",
       "    </tr>\n",
       "    <tr>\n",
       "      <th>4217</th>\n",
       "      <td>&lt;laugh&gt;</td>\n",
       "      <td>False</td>\n",
       "      <td>0.951220</td>\n",
       "      <td>[importante, &lt;laugh&gt;, &lt;laugh&gt;, &lt;laugh&gt;, &lt;laugh...</td>\n",
       "      <td>41</td>\n",
       "      <td>False</td>\n",
       "      <td>False</td>\n",
       "    </tr>\n",
       "    <tr>\n",
       "      <th>8995</th>\n",
       "      <td>okey</td>\n",
       "      <td>False</td>\n",
       "      <td>0.833333</td>\n",
       "      <td>[okey, okey, okey, pueda, okey, okey, okey, ok...</td>\n",
       "      <td>18</td>\n",
       "      <td>False</td>\n",
       "      <td>False</td>\n",
       "    </tr>\n",
       "    <tr>\n",
       "      <th>10368</th>\n",
       "      <td>mmm</td>\n",
       "      <td>False</td>\n",
       "      <td>1.000000</td>\n",
       "      <td>[mmm, mmm, mmm, mmm, mmm, mmm, mmm, mmm, mmm, ...</td>\n",
       "      <td>12</td>\n",
       "      <td>False</td>\n",
       "      <td>False</td>\n",
       "    </tr>\n",
       "  </tbody>\n",
       "</table>\n",
       "</div>"
      ],
      "text/plain": [
       "      most_common    oov    purity  \\\n",
       "342         claro  False  1.000000   \n",
       "4167        claro  False  1.000000   \n",
       "4217      <laugh>  False  0.951220   \n",
       "8995         okey  False  0.833333   \n",
       "10368         mmm  False  1.000000   \n",
       "\n",
       "                                                   words  depth cross_seg  \\\n",
       "342    [claro, claro, claro, claro, claro, claro, cla...     11      True   \n",
       "4167   [claro, claro, claro, claro, claro, claro, cla...     16     False   \n",
       "4217   [importante, <laugh>, <laugh>, <laugh>, <laugh...     41     False   \n",
       "8995   [okey, okey, okey, pueda, okey, okey, okey, ok...     18     False   \n",
       "10368  [mmm, mmm, mmm, mmm, mmm, mmm, mmm, mmm, mmm, ...     12     False   \n",
       "\n",
       "      cross_file  \n",
       "342         True  \n",
       "4167       False  \n",
       "4217       False  \n",
       "8995       False  \n",
       "10368      False  "
      ]
     },
     "execution_count": 76,
     "metadata": {},
     "output_type": "execute_result"
    }
   ],
   "source": [
    "clusters_df[view_cols][(clusters_df.depth >= 10) & (clusters_df.purity >= 0.7)].head(5)"
   ]
  },
  {
   "cell_type": "code",
   "execution_count": 77,
   "metadata": {
    "collapsed": false
   },
   "outputs": [
    {
     "data": {
      "text/html": [
       "\n",
       "                <audio controls=\"controls\" >\n",
       "                    <source src=\"data:audio/x-wav;base64,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\" type=\"audio/x-wav\" />\n",
       "                    Your browser does not support the audio element.\n",
       "                </audio>\n",
       "              "
      ],
      "text/plain": [
       "<IPython.lib.display.Audio object>"
      ]
     },
     "execution_count": 77,
     "metadata": {},
     "output_type": "execute_result"
    }
   ],
   "source": [
    "play_cluster(4167)"
   ]
  },
  {
   "cell_type": "code",
   "execution_count": 81,
   "metadata": {
    "collapsed": false
   },
   "outputs": [
    {
     "data": {
      "text/plain": [
       "['002.118',\n",
       " '088.144',\n",
       " '061.125',\n",
       " '061.133',\n",
       " '061.022',\n",
       " '061.095',\n",
       " '088.144',\n",
       " '088.212',\n",
       " '110.018',\n",
       " '110.018',\n",
       " '042.199']"
      ]
     },
     "execution_count": 81,
     "metadata": {},
     "output_type": "execute_result"
    }
   ],
   "source": [
    "clusters_df.ix[342].sids"
   ]
  },
  {
   "cell_type": "code",
   "execution_count": 47,
   "metadata": {
    "collapsed": false
   },
   "outputs": [
    {
     "data": {
      "text/html": [
       "<div>\n",
       "<table border=\"1\" class=\"dataframe\">\n",
       "  <thead>\n",
       "    <tr style=\"text-align: right;\">\n",
       "      <th></th>\n",
       "      <th>n1</th>\n",
       "      <th>n2</th>\n",
       "      <th>dtw</th>\n",
       "      <th>es_sim</th>\n",
       "      <th>es_cnt_sim</th>\n",
       "      <th>en_j_sim</th>\n",
       "    </tr>\n",
       "  </thead>\n",
       "  <tbody>\n",
       "    <tr>\n",
       "      <th>4361</th>\n",
       "      <td>13465</td>\n",
       "      <td>13466</td>\n",
       "      <td>0.999</td>\n",
       "      <td>1</td>\n",
       "      <td>1</td>\n",
       "      <td>1.000000</td>\n",
       "    </tr>\n",
       "    <tr>\n",
       "      <th>2869</th>\n",
       "      <td>18715</td>\n",
       "      <td>18716</td>\n",
       "      <td>0.999</td>\n",
       "      <td>1</td>\n",
       "      <td>1</td>\n",
       "      <td>0.250000</td>\n",
       "    </tr>\n",
       "    <tr>\n",
       "      <th>12798</th>\n",
       "      <td>12919</td>\n",
       "      <td>12920</td>\n",
       "      <td>0.999</td>\n",
       "      <td>1</td>\n",
       "      <td>1</td>\n",
       "      <td>0.222222</td>\n",
       "    </tr>\n",
       "    <tr>\n",
       "      <th>4709</th>\n",
       "      <td>55845</td>\n",
       "      <td>55846</td>\n",
       "      <td>0.999</td>\n",
       "      <td>1</td>\n",
       "      <td>1</td>\n",
       "      <td>0.200000</td>\n",
       "    </tr>\n",
       "    <tr>\n",
       "      <th>9457</th>\n",
       "      <td>9885</td>\n",
       "      <td>9886</td>\n",
       "      <td>0.999</td>\n",
       "      <td>1</td>\n",
       "      <td>1</td>\n",
       "      <td>0.142857</td>\n",
       "    </tr>\n",
       "  </tbody>\n",
       "</table>\n",
       "</div>"
      ],
      "text/plain": [
       "          n1     n2    dtw  es_sim  es_cnt_sim  en_j_sim\n",
       "4361   13465  13466  0.999       1           1  1.000000\n",
       "2869   18715  18716  0.999       1           1  0.250000\n",
       "12798  12919  12920  0.999       1           1  0.222222\n",
       "4709   55845  55846  0.999       1           1  0.200000\n",
       "9457    9885   9886  0.999       1           1  0.142857"
      ]
     },
     "execution_count": 47,
     "metadata": {},
     "output_type": "execute_result"
    }
   ],
   "source": [
    "(eval_df.sort_values('dtw', ascending=False, inplace=False)).head(5)"
   ]
  },
  {
   "cell_type": "code",
   "execution_count": 48,
   "metadata": {
    "collapsed": false
   },
   "outputs": [
    {
     "data": {
      "text/plain": [
       "<matplotlib.axes._subplots.AxesSubplot at 0x7fd01c4a9650>"
      ]
     },
     "execution_count": 48,
     "metadata": {},
     "output_type": "execute_result"
    },
    {
     "data": {
      "image/png": "[encoded data removed]",
      "text/plain": [
       "<matplotlib.figure.Figure at 0x7fd01c58c390>"
      ]
     },
     "metadata": {},
     "output_type": "display_data"
    }
   ],
   "source": [
    "# clusters_df['purity'].hist()\n",
    "clusters_df.purity[clusters_df.cross_seg == True].hist(alpha=0.5, bins=5)\n",
    "clusters_df.purity[clusters_df.cross_file == True].hist(alpha=0.5, bins=5)"
   ]
  },
  {
   "cell_type": "code",
   "execution_count": 49,
   "metadata": {
    "collapsed": false
   },
   "outputs": [
    {
     "data": {
      "text/plain": [
       "0.339489235964542"
      ]
     },
     "execution_count": 49,
     "metadata": {},
     "output_type": "execute_result"
    }
   ],
   "source": [
    "calc_avg_purity(clusters_df)"
   ]
  },
  {
   "cell_type": "code",
   "execution_count": 50,
   "metadata": {
    "collapsed": false
   },
   "outputs": [
    {
     "data": {
      "text/plain": [
       "0.30635029325076663"
      ]
     },
     "execution_count": 50,
     "metadata": {},
     "output_type": "execute_result"
    }
   ],
   "source": [
    "calc_avg_purity(clusters_df[clusters_df.same_seg])"
   ]
  },
  {
   "cell_type": "code",
   "execution_count": 51,
   "metadata": {
    "collapsed": false
   },
   "outputs": [
    {
     "data": {
      "text/plain": [
       "191"
      ]
     },
     "execution_count": 51,
     "metadata": {},
     "output_type": "execute_result"
    }
   ],
   "source": [
    "len(clusters_df[(clusters_df.cross_seg ==  True) & (clusters_df.cross_file == True)])"
   ]
  },
  {
   "cell_type": "code",
   "execution_count": 52,
   "metadata": {
    "collapsed": false
   },
   "outputs": [
    {
     "data": {
      "text/plain": [
       "0.40113350125944586"
      ]
     },
     "execution_count": 52,
     "metadata": {},
     "output_type": "execute_result"
    }
   ],
   "source": [
    "calc_avg_purity(clusters_df[clusters_df.cross_seg & (clusters_df.cross_file == False)])"
   ]
  },
  {
   "cell_type": "code",
   "execution_count": 53,
   "metadata": {
    "collapsed": false
   },
   "outputs": [
    {
     "data": {
      "text/plain": [
       "0.099950024987506242"
      ]
     },
     "execution_count": 53,
     "metadata": {},
     "output_type": "execute_result"
    }
   ],
   "source": [
    "calc_avg_purity(clusters_df[clusters_df.cross_file])"
   ]
  },
  {
   "cell_type": "code",
   "execution_count": 54,
   "metadata": {
    "collapsed": false
   },
   "outputs": [
    {
     "data": {
      "text/plain": [
       "(0.22306684141546526, 0.30580337162464566)"
      ]
     },
     "execution_count": 54,
     "metadata": {},
     "output_type": "execute_result"
    }
   ],
   "source": [
    "calc_avg_purity(clusters_df[clusters_df.is_dev]), calc_avg_purity(clusters_df[clusters_df.is_train])"
   ]
  },
  {
   "cell_type": "code",
   "execution_count": 55,
   "metadata": {
    "collapsed": false
   },
   "outputs": [
    {
     "data": {
      "text/plain": [
       "(191, 15089)"
      ]
     },
     "execution_count": 55,
     "metadata": {},
     "output_type": "execute_result"
    }
   ],
   "source": [
    "len(clusters_df[clusters_df.cross_file]), len(clusters_df)"
   ]
  },
  {
   "cell_type": "code",
   "execution_count": 56,
   "metadata": {
    "collapsed": false
   },
   "outputs": [
    {
     "data": {
      "text/plain": [
       "1217"
      ]
     },
     "execution_count": 56,
     "metadata": {},
     "output_type": "execute_result"
    }
   ],
   "source": [
    "len(clusters_df[clusters_df.is_dev])"
   ]
  },
  {
   "cell_type": "code",
   "execution_count": 57,
   "metadata": {
    "collapsed": false
   },
   "outputs": [
    {
     "data": {
      "text/plain": [
       "583"
      ]
     },
     "execution_count": 57,
     "metadata": {},
     "output_type": "execute_result"
    }
   ],
   "source": [
    "len(clusters_df[(clusters_df.is_dev == True) & (clusters_df.is_train == False)])"
   ]
  },
  {
   "cell_type": "code",
   "execution_count": 58,
   "metadata": {
    "collapsed": false
   },
   "outputs": [],
   "source": [
    "# !ls ../../../ZRTools/exp/callhome/tmpwav/"
   ]
  },
  {
   "cell_type": "code",
   "execution_count": 59,
   "metadata": {
    "collapsed": true
   },
   "outputs": [],
   "source": [
    "k = 1\n",
    "uttr = \"010.169\"\n",
    "# uttr = \"011.178\"\n",
    "# uttr = \"002.008\""
   ]
  },
  {
   "cell_type": "code",
   "execution_count": 60,
   "metadata": {
    "collapsed": false
   },
   "outputs": [
    {
     "name": "stdout",
     "output_type": "stream",
     "text": [
      "AH BUENO ESA ES LA CUESTIóN OYE BUENO Y\n",
      "OH WELL 'S PROBLEM HEY WELL\n"
     ]
    }
   ],
   "source": [
    "print(\" \".join([w.word.decode(\"utf-8\") for w in align_dict[uttr.split(\".\")[0]][uttr]['es']]))\n",
    "print(\" \".join([w.word.decode(\"utf-8\") for w in align_dict[uttr.split(\".\")[0]][uttr]['en_cnt']]))"
   ]
  },
  {
   "cell_type": "code",
   "execution_count": 61,
   "metadata": {
    "collapsed": false
   },
   "outputs": [
    {
     "name": "stdout",
     "output_type": "stream",
     "text": [
      "AH BUENO CUESTIóN OYE BUENO\n",
      "1304\n"
     ]
    }
   ],
   "source": [
    "print(\" \".join([w.decode(\"utf-8\") for w in gold_feats_dict[uttr]])),\n",
    "print(\" \".join([w.decode(\"utf-8\") for w in feats_dict[uttr]]))"
   ]
  },
  {
   "cell_type": "code",
   "execution_count": 62,
   "metadata": {
    "collapsed": false
   },
   "outputs": [],
   "source": [
    "# pseudo_probs_dict['1354']"
   ]
  },
  {
   "cell_type": "code",
   "execution_count": 63,
   "metadata": {
    "collapsed": false
   },
   "outputs": [
    {
     "name": "stdout",
     "output_type": "stream",
     "text": [
      "YES WELL QUESTION HEY WELL\n",
      "\n"
     ]
    }
   ],
   "source": [
    "print(\" \".join([w.decode(\"utf-8\") for w in mt_gold_pred_dict[k][uttr]])),\n",
    "print(\" \".join([w.decode(\"utf-8\") for w in mt_pseudo_pred_dict[k][uttr]]))"
   ]
  },
  {
   "cell_type": "code",
   "execution_count": 64,
   "metadata": {
    "collapsed": false
   },
   "outputs": [
    {
     "data": {
      "text/plain": [
       "[('087.035', 6),\n",
       " ('108.158', 13),\n",
       " ('092.127', 4),\n",
       " ('083.185', 1),\n",
       " ('085.136', 6),\n",
       " ('096.104', 17),\n",
       " ('119.015', 17),\n",
       " ('104.022', 5),\n",
       " ('095.195', 11),\n",
       " ('085.126', 4),\n",
       " ('112.054', 5),\n",
       " ('117.106', 5),\n",
       " ('086.244', 5),\n",
       " ('106.184', 11),\n",
       " ('105.037', 3),\n",
       " ('088.165', 11),\n",
       " ('113.114', 1),\n",
       " ('085.038', 4),\n",
       " ('093.330', 3),\n",
       " ('114.130', 3),\n",
       " ('091.225', 9),\n",
       " ('103.002', 6),\n",
       " ('105.137', 4),\n",
       " ('111.110', 2),\n",
       " ('119.025', 16),\n",
       " ('114.009', 8),\n",
       " ('095.055', 7),\n",
       " ('111.167', 27),\n",
       " ('081.259', 40),\n",
       " ('115.170', 15),\n",
       " ('095.084', 6),\n",
       " ('106.113', 6),\n",
       " ('105.127', 1)]"
      ]
     },
     "execution_count": 64,
     "metadata": {},
     "output_type": "execute_result"
    }
   ],
   "source": [
    "[(key, v['t']) for key,v in mt_pseudo_eval_dict['dev'][k].items() if type(v) == dict and v['cp'] == 1]"
   ]
  },
  {
   "cell_type": "markdown",
   "metadata": {
    "collapsed": true
   },
   "source": [
    "## Calculate duration in dev, test, and training sets"
   ]
  },
  {
   "cell_type": "code",
   "execution_count": 65,
   "metadata": {
    "collapsed": false
   },
   "outputs": [],
   "source": [
    "merged_fa_vads_path = config['es']['es_merge_fa_vad']"
   ]
  },
  {
   "cell_type": "code",
   "execution_count": 66,
   "metadata": {
    "collapsed": true
   },
   "outputs": [],
   "source": [
    "dur = {\"tot\":{}, \"ge500ms\":{}}"
   ]
  },
  {
   "cell_type": "code",
   "execution_count": 67,
   "metadata": {
    "collapsed": false
   },
   "outputs": [],
   "source": [
    "vad_flist = [os.path.join(merged_fa_vads_path, fil) for fil in os.listdir(merged_fa_vads_path) if fil.endswith(\".vad\")]"
   ]
  },
  {
   "cell_type": "code",
   "execution_count": 68,
   "metadata": {
    "collapsed": false
   },
   "outputs": [
    {
     "name": "stdout",
     "output_type": "stream",
     "text": [
      "Completed calculating durations\n"
     ]
    }
   ],
   "source": [
    "for vad_fname in vad_flist:\n",
    "    with open(vad_fname, \"r\") as in_f:\n",
    "        dur_key = int(os.path.splitext(os.path.basename(vad_fname))[0])\n",
    "        dur[\"tot\"][dur_key] = 0\n",
    "        dur[\"ge500ms\"][dur_key] = 0\n",
    "        for line in in_f:\n",
    "            start, end = map(int, line.strip().split())\n",
    "            dur_ms = ((end-start) * 10)\n",
    "            dur[\"tot\"][dur_key] += dur_ms\n",
    "            dur[\"ge500ms\"][dur_key] += (dur_ms if dur_ms >= 500 else 0)\n",
    "print(\"Completed calculating durations\")"
   ]
  },
  {
   "cell_type": "code",
   "execution_count": 69,
   "metadata": {
    "collapsed": true
   },
   "outputs": [],
   "source": [
    "def check_dur(dur_list, startid, endid):\n",
    "    filtered_dur = [(f,d) for f, d in dur_list if f >= startid and f <= endid]\n",
    "    dur = sum([d for f, d in filtered_dur])\n",
    "    return filtered_dur, dur/(1000 * 3600)"
   ]
  },
  {
   "cell_type": "code",
   "execution_count": 70,
   "metadata": {
    "collapsed": false
   },
   "outputs": [
    {
     "name": "stdout",
     "output_type": "stream",
     "text": [
      "total dur: 9.565(hrs), dur >= 500ms: 8.527(hrs)\n",
      "71 71\n"
     ]
    }
   ],
   "source": [
    "# Train set duration\n",
    "train_dur_list, t_dur = check_dur(dur[\"tot\"].items(), 41, 120)\n",
    "train_dur_500ms_list, t_dur_500ms = check_dur(dur[\"ge500ms\"].items(), 41, 120)\n",
    "print(\"total dur: %.3f(hrs), dur >= 500ms: %.3f(hrs)\" %(t_dur, t_dur_500ms))\n",
    "t_files = sum([1 for f, d in train_dur_500ms_list if d > 0])\n",
    "print(t_files, len(train_dur_500ms_list))"
   ]
  },
  {
   "cell_type": "code",
   "execution_count": 71,
   "metadata": {
    "collapsed": false
   },
   "outputs": [
    {
     "name": "stdout",
     "output_type": "stream",
     "text": [
      "total dur: 1.788(hrs), dur >= 500ms: 1.584(hrs)\n",
      "13 13\n"
     ]
    }
   ],
   "source": [
    "# dev set duration\n",
    "dev_dur_list, d_dur = check_dur(dur[\"tot\"].items(), 1, 20)\n",
    "dev_dur_500ms_list, d_dur_500ms = check_dur(dur[\"ge500ms\"].items(), 1, 20)\n",
    "print(\"total dur: %.3f(hrs), dur >= 500ms: %.3f(hrs)\" %(d_dur, d_dur_500ms))\n",
    "d_files = sum([1 for f, d in dev_dur_500ms_list if d > 0])\n",
    "print(d_files, len(dev_dur_500ms_list))"
   ]
  },
  {
   "cell_type": "code",
   "execution_count": 72,
   "metadata": {
    "collapsed": false
   },
   "outputs": [
    {
     "name": "stdout",
     "output_type": "stream",
     "text": [
      "total dur (hrs) 1.351\n",
      "total dur (hrs) 1.218\n",
      "total dur: 1.351(hrs), dur >= 500ms: 1.218(hrs)\n",
      "20 20\n"
     ]
    }
   ],
   "source": [
    "# test set duration\n",
    "print(\"total dur (hrs) %.3f\" % (sum([d for f, d in dur[\"tot\"].items() if f >= 21 and f <= 40]) / (1000 * 3600)))\n",
    "print(\"total dur (hrs) %.3f\" % (sum([d for f, d in dur[\"ge500ms\"].items() if f >= 21 and f <= 40]) / (1000 * 3600)))\n",
    "\n",
    "test_dur_list, t_dur = check_dur(dur[\"tot\"].items(), 21, 40)\n",
    "test_dur_500ms_list, t_dur_500ms = check_dur(dur[\"ge500ms\"].items(), 21, 40)\n",
    "print(\"total dur: %.3f(hrs), dur >= 500ms: %.3f(hrs)\" %(t_dur, t_dur_500ms))\n",
    "t_files = sum([1 for f, d in test_dur_500ms_list if d > 0])\n",
    "print(t_files, len(test_dur_500ms_list))"
   ]
  },
  {
   "cell_type": "code",
   "execution_count": 73,
   "metadata": {
    "collapsed": false
   },
   "outputs": [
    {
     "name": "stdout",
     "output_type": "stream",
     "text": [
      "total dur: 4.360(hrs), dur >= 500ms: 3.886(hrs)\n",
      "32 32\n",
      "total dur: 0.509(hrs), dur >= 500ms: 0.446(hrs)\n",
      "4 4\n"
     ]
    }
   ],
   "source": [
    "# Train subset duration\n",
    "train_dur_list, t_dur = check_dur(dur[\"tot\"].items(), 85, 120)\n",
    "train_dur_500ms_list, t_dur_500ms = check_dur(dur[\"ge500ms\"].items(), 85, 120)\n",
    "print(\"total dur: %.3f(hrs), dur >= 500ms: %.3f(hrs)\" %(t_dur, t_dur_500ms))\n",
    "t_files = sum([1 for f, d in train_dur_500ms_list if d > 0])\n",
    "print(t_files, len(train_dur_500ms_list))\n",
    "\n",
    "# Dev subset duration\n",
    "train_dur_list, t_dur = check_dur(dur[\"tot\"].items(), 81, 84)\n",
    "train_dur_500ms_list, t_dur_500ms = check_dur(dur[\"ge500ms\"].items(), 81, 84)\n",
    "print(\"total dur: %.3f(hrs), dur >= 500ms: %.3f(hrs)\" %(t_dur, t_dur_500ms))\n",
    "t_files = sum([1 for f, d in train_dur_500ms_list if d > 0])\n",
    "print(t_files, len(train_dur_500ms_list))"
   ]
  }
 ],
 "metadata": {
  "kernelspec": {
   "display_name": "Python 2",
   "language": "python",
   "name": "python2"
  },
  "language_info": {
   "codemirror_mode": {
    "name": "ipython",
    "version": 2
   },
   "file_extension": ".py",
   "mimetype": "text/x-python",
   "name": "python",
   "nbconvert_exporter": "python",
   "pygments_lexer": "ipython2",
   "version": "2.7.12"
  }
 },
 "nbformat": 4,
 "nbformat_minor": 0
}
