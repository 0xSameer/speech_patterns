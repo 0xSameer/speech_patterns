{
 "cells": [
  {
   "cell_type": "code",
   "execution_count": 1,
   "metadata": {
    "collapsed": false
   },
   "outputs": [],
   "source": [
    "from __future__ import print_function\n",
    "from __future__ import division\n",
    "import os\n",
    "import cPickle as pickle\n",
    "import json\n",
    "import subprocess\n",
    "from IPython.display import display\n",
    "from IPython.display import Audio\n",
    "import bisect\n",
    "from collections import namedtuple\n",
    "import numpy as np\n",
    "import pandas as pd\n",
    "from collections import Counter\n",
    "from prettytable import PrettyTable\n",
    "import matplotlib.pyplot as plt\n",
    "import seaborn as sns\n",
    "import textwrap\n",
    "import nltk\n",
    "import math\n",
    "import scipy as sp\n",
    "from nltk.corpus import stopwords\n",
    "import scipy\n",
    "import scipy.io.wavfile\n",
    "\n",
    "from matplotlib.ticker import MultipleLocator, \\\n",
    "     FormatStrFormatter, AutoMinorLocator\n",
    "%matplotlib inline"
   ]
  },
  {
   "cell_type": "code",
   "execution_count": 2,
   "metadata": {
    "collapsed": true
   },
   "outputs": [],
   "source": [
    "tableau20 = [(31, 119, 180), (174, 199, 232), (255, 127, 14), (255, 187, 120),    \n",
    "             (44, 160, 44), (152, 223, 138), (214, 39, 40), (255, 152, 150),    \n",
    "             (148, 103, 189), (197, 176, 213), (140, 86, 75), (196, 156, 148),    \n",
    "             (227, 119, 194), (247, 182, 210), (127, 127, 127), (199, 199, 199),    \n",
    "             (188, 189, 34), (219, 219, 141), (23, 190, 207), (158, 218, 229)]    \n",
    "# Scale the RGB values to the [0, 1] range, which is the format matplotlib accepts.    \n",
    "for i in range(len(tableau20)):    \n",
    "    r, g, b = tableau20[i]    \n",
    "    tableau20[i] = (r / 255., g / 255., b / 255.)"
   ]
  },
  {
   "cell_type": "code",
   "execution_count": 3,
   "metadata": {
    "collapsed": true
   },
   "outputs": [],
   "source": [
    "with open(\"config.json\") as json_data_file:\n",
    "    config = json.load(json_data_file)"
   ]
  },
  {
   "cell_type": "code",
   "execution_count": 4,
   "metadata": {
    "collapsed": false
   },
   "outputs": [],
   "source": [
    "nodes_fname = config[\"es\"]['nodes_fname']\n",
    "seg_nodes_fname = config[\"es\"]['seg_nodes_fname']\n",
    "nodes_dict_fname = config[\"es\"]['nodes_dict_fname']\n",
    "\n",
    "edges_utd_fname = config[\"es\"]['edges_utd_fname']\n",
    "edges_olap_fname = config[\"es\"]['edges_olap_fname']\n",
    "edges_all_fname = config[\"es\"]['edges_all_fname']\n",
    "edges_score_fname = config[\"es\"]['edges_score_fname']\n",
    "\n",
    "clusters_utd_fname = config['es']['clusters_utd_fname']\n",
    "clusters_fname = config['es']['clusters_fname']\n",
    "clusters_stats_fname = config['es']['clusters_stats_fname']\n",
    "\n",
    "pairs_fname = config['es']['score_pairs_fname']\n",
    "eval_fname = config['es']['eval_pairs_fname']\n",
    "\n",
    "feats_fname = config['es']['feats_fname']\n",
    "\n",
    "# Gold feats\n",
    "gold_feats_dict_fname = config['es']['gold_feats']\n",
    "# Pseudo feats\n",
    "feats_dict_fname = config['es']['feats_dict_fname']\n",
    "\n",
    "gold_probs_fname = config['es']['mt_probs_gold']\n",
    "gold_probs_dict_fname = config['es']['mt_probs_dict_gold']\n",
    "\n",
    "pseudo_probs_fname = config['es']['mt_probs_pseudo']\n",
    "pseudo_probs_dict_fname = config['es']['mt_probs_dict_pseudo']\n",
    "\n",
    "train_segment_list_fname = config['es']['mt_train_files']\n",
    "dev_segment_list_fname = config['es']['mt_dev_files']\n",
    "\n",
    "gold_corpus_fname = config['es']['mt_corpus_train_gold']\n",
    "pseudo_corpus_fname = config['es']['mt_corpus_train_pseudo']\n",
    "\n",
    "mt_gold_pred_dict_fname = config['es']['mt_gold_pred_dict']\n",
    "mt_pseudo_pred_dict_fname = config['es']['mt_pseudo_pred_dict']\n",
    "\n",
    "mt_gold_eval_dict_fname = config['es']['mt_gold_eval_dict']\n",
    "mt_pseudo_eval_dict_fname = config['es']['mt_pseudo_eval_dict']\n",
    "\n",
    "es_merge_wavs_path = config['es']['es_merge_wavs']\n",
    "utd_wavs_path = config['es']['utd_wavs']\n",
    "\n",
    "utd_tmp_wav_path = config['es']['utd_wavs']"
   ]
  },
  {
   "cell_type": "code",
   "execution_count": 5,
   "metadata": {
    "collapsed": true
   },
   "outputs": [],
   "source": [
    "Align = namedtuple('Align', ['word', 'start', 'end'])\n",
    "Node = namedtuple('Node', ['file', 'seg', 'start', 'end', 'es', 'es_cnt'])\n",
    "Eval = namedtuple('Eval', ['n1', 'n2', 'dtw', 'es_sim', 'es_cnt_sim', 'en_j_sim'])"
   ]
  },
  {
   "cell_type": "code",
   "execution_count": 6,
   "metadata": {
    "collapsed": false
   },
   "outputs": [],
   "source": [
    "segment_map = pickle.load(open(config['es']['segment_dict_fname'], \"rb\"))\n",
    "align_dict = pickle.load(open(config['es']['align_dict_fname'], \"rb\"))\n",
    "nodes_dict = pickle.load(open(nodes_dict_fname, \"rb\"))\n",
    "pairs_list = pickle.load(open(pairs_fname, \"rb\"))\n",
    "eval_dict = pickle.load(open(eval_fname, \"rb\"))\n",
    "clusters = pickle.load(open(clusters_fname, \"rb\"))\n",
    "clusters_stats = pickle.load(open(clusters_stats_fname, \"rb\"))\n",
    "feats_dict = pickle.load(open(feats_dict_fname, \"rb\"))\n",
    "gold_feats_dict = pickle.load(open(gold_feats_dict_fname, \"rb\"))\n",
    "\n",
    "if os.path.exists(gold_probs_dict_fname):\n",
    "    gold_probs_dict = pickle.load(open(gold_probs_dict_fname, \"rb\"))\n",
    "\n",
    "if os.path.exists(pseudo_probs_dict_fname):\n",
    "    pseudo_probs_dict = pickle.load(open(pseudo_probs_dict_fname, \"rb\"))\n",
    "\n",
    "if os.path.exists(mt_gold_pred_dict_fname):\n",
    "    mt_gold_pred_dict = pickle.load(open(mt_gold_pred_dict_fname, \"rb\"))\n",
    "    \n",
    "if os.path.exists(mt_pseudo_pred_dict_fname):\n",
    "    mt_pseudo_pred_dict = pickle.load(open(mt_pseudo_pred_dict_fname, \"rb\"))\n",
    "    \n",
    "if os.path.exists(mt_gold_eval_dict_fname):\n",
    "    mt_gold_eval_dict = pickle.load(open(mt_gold_eval_dict_fname, \"rb\"))\n",
    "    \n",
    "if os.path.exists(mt_pseudo_eval_dict_fname):\n",
    "    mt_pseudo_eval_dict = pickle.load(open(mt_pseudo_eval_dict_fname, \"rb\"))    "
   ]
  },
  {
   "cell_type": "code",
   "execution_count": 7,
   "metadata": {
    "collapsed": true
   },
   "outputs": [],
   "source": [
    "def mini_print(out_cols, out_rows):\n",
    "    out_line = PrettyTable(out_cols)\n",
    "    print(\" & \".join(out_cols))\n",
    "    if type(out_rows[0]) == list or type(out_rows[0]) == tuple:\n",
    "        for row in out_rows:\n",
    "            out_line.add_row(row)\n",
    "            print(\" & \".join(map(str, row)))\n",
    "    else:\n",
    "        out_line.add_row(out_rows)\n",
    "        print(\" & \".join(map(str, out_rows)))\n",
    "    print(out_line)"
   ]
  },
  {
   "cell_type": "code",
   "execution_count": 8,
   "metadata": {
    "collapsed": false
   },
   "outputs": [],
   "source": [
    "def gen_seg_wav(segid, utd_wavs_path, src_wavs_path, segment_map):\n",
    "    pair_wavs_path = os.path.join(utd_wavs_path, \"wavs\")\n",
    "    \n",
    "    fid = (segid.split('.')[0]).strip()\n",
    "    segid_only = int((segid.split('.')[1]).strip())+1\n",
    "    next_segid = \"{0:s}.{1:03d}\".format(fid, segid_only)\n",
    "    \n",
    "    all_segs = sorted(list(segment_map[fid].keys()))\n",
    "    indx_segid = all_segs.index(segid)\n",
    "        \n",
    "    sid_fname = os.path.join(pair_wavs_path, \"%s.wav\" % segid)\n",
    "    merge_wav_fname = os.path.join(src_wavs_path, fid+\".wav\")\n",
    "\n",
    "    if not os.path.exists(pair_wavs_path):\n",
    "        os.makedirs(pair_wavs_path)\n",
    "    \n",
    "    wav_start = segment_map[fid][segid]\n",
    "    start_time = \"{0:0.2f}\".format(wav_start/100)\n",
    "    \n",
    "    #if next_segid in segment_map[fid]:\n",
    "    if (indx_segid+1) < len(all_segs):\n",
    "        wav_end = segment_map[fid][all_segs[indx_segid+1]]\n",
    "        print(wav_start, wav_end)\n",
    "        end_time = \"={0:0.2f}\".format(wav_end/100)\n",
    "        subprocess.call([\"sox\", merge_wav_fname, sid_fname, \\\n",
    "                     \"trim\", start_time, \"{0:s}\".format(end_time)])\n",
    "    else:\n",
    "        print(wav_start)\n",
    "        subprocess.call([\"sox\", merge_wav_fname, sid_fname, \\\n",
    "                     \"trim\", start_time])\n",
    "    \n",
    "    return sid_fname"
   ]
  },
  {
   "cell_type": "code",
   "execution_count": 9,
   "metadata": {
    "collapsed": true
   },
   "outputs": [],
   "source": [
    "def gen_node_wav(nid, nodes_dict, utd_wavs_path, src_wavs_path, segment_map):\n",
    "    pair_wavs_path = os.path.join(utd_wavs_path, \"wavs\")\n",
    "    nid_fname = os.path.join(pair_wavs_path, \"%d.wav\" % nid)\n",
    "    if not os.path.exists(pair_wavs_path):\n",
    "        os.makedirs(pair_wavs_path)\n",
    "    #if os.path.exists(nid_fname):\n",
    "    #    return\n",
    "    \n",
    "    segid = nodes_dict[nid].seg\n",
    "    fid = (segid.split('.')[0]).strip()\n",
    "    \n",
    "    merge_wav_start = segment_map[fid][segid] + nodes_dict[nid].start\n",
    "    merge_wav_end = segment_map[fid][segid] + nodes_dict[nid].end\n",
    "    \n",
    "    merge_wav_fname = os.path.join(src_wavs_path, fid+\".wav\")\n",
    "    \n",
    "    start_time = \"{0:0.2f}\".format(merge_wav_start/100)\n",
    "    end_time = \"={0:0.2f}\".format(merge_wav_end/100)\n",
    "    subprocess.call([\"sox\", merge_wav_fname, nid_fname, \\\n",
    "                     \"trim\", start_time, \"{0:s}\".format(end_time)])\n",
    "    \n",
    "    return Audio(nid_fname)\n",
    "    \n",
    "    "
   ]
  },
  {
   "cell_type": "code",
   "execution_count": 10,
   "metadata": {
    "collapsed": false
   },
   "outputs": [
    {
     "ename": "TypeError",
     "evalue": "gen_node_wav() takes exactly 5 arguments (4 given)",
     "output_type": "error",
     "traceback": [
      "\u001b[0;31m---------------------------------------------------------------------------\u001b[0m",
      "\u001b[0;31mTypeError\u001b[0m                                 Traceback (most recent call last)",
      "\u001b[0;32m<ipython-input-10-5938c52f5612>\u001b[0m in \u001b[0;36m<module>\u001b[0;34m()\u001b[0m\n\u001b[0;32m----> 1\u001b[0;31m \u001b[0mdisplay\u001b[0m\u001b[0;34m(\u001b[0m\u001b[0mgen_node_wav\u001b[0m\u001b[0;34m(\u001b[0m\u001b[0;34m'081.040'\u001b[0m\u001b[0;34m,\u001b[0m \u001b[0mutd_wavs_path\u001b[0m\u001b[0;34m,\u001b[0m \u001b[0mes_merge_wavs_path\u001b[0m\u001b[0;34m,\u001b[0m \u001b[0msegment_map\u001b[0m\u001b[0;34m)\u001b[0m\u001b[0;34m)\u001b[0m\u001b[0;34m\u001b[0m\u001b[0m\n\u001b[0m",
      "\u001b[0;31mTypeError\u001b[0m: gen_node_wav() takes exactly 5 arguments (4 given)"
     ]
    }
   ],
   "source": [
    "display(gen_node_wav('081.040', utd_wavs_path, es_merge_wavs_path, segment_map))"
   ]
  },
  {
   "cell_type": "code",
   "execution_count": 10,
   "metadata": {
    "collapsed": true
   },
   "outputs": [],
   "source": [
    "def display_pair(pid, eval_dict, nodes_dict, align_dict, utd_wavs_path, src_wavs_path, segment_map):\n",
    "    headers = [\"pair id\", \"nid\", \"ES transcript\", \"EN translation\"]\n",
    "    display_pp = PrettyTable(headers, hrules=True)\n",
    "    \n",
    "    n1 = eval_dict[pid].n1\n",
    "    n2 = eval_dict[pid].n2\n",
    "    \n",
    "    en_1 = ' '.join([x.word for x in align_dict[nodes_dict[n1].file][nodes_dict[n1].seg]['en']])\n",
    "    en_2 = ' '.join([x.word for x in align_dict[nodes_dict[n2].file][nodes_dict[n2].seg]['en']])\n",
    "    \n",
    "    row_1 = [pid, n1, ' '.join(nodes_dict[n1].es), textwrap.fill(en_1,50)]\n",
    "    \n",
    "    row_2 = [pid, n2, ' '.join(nodes_dict[n2].es), textwrap.fill(en_2,50)]\n",
    "    \n",
    "    display_pp.add_row(row_1)\n",
    "    display_pp.add_row(row_2)\n",
    "    print(display_pp)\n",
    "    \n",
    "    display(gen_node_wav(n1, nodes_dict, utd_wavs_path, es_merge_wavs_path, segment_map))\n",
    "    display(gen_node_wav(n2, nodes_dict, utd_wavs_path, es_merge_wavs_path, segment_map))\n",
    "    #print(display_pp.get_html_string())\n",
    "\n",
    "    "
   ]
  },
  {
   "cell_type": "code",
   "execution_count": 11,
   "metadata": {
    "collapsed": false
   },
   "outputs": [
    {
     "name": "stdout",
     "output_type": "stream",
     "text": [
      "+---------+-------+------------------------+---------------------------------------------------+\n",
      "| pair id |  nid  |     ES transcript      |                   EN translation                  |\n",
      "+---------+-------+------------------------+---------------------------------------------------+\n",
      "|  16210  | 19997 | CINCO OCHO CUATRO SEIS |                FIVE EIGHT FOUR SIX                |\n",
      "+---------+-------+------------------------+---------------------------------------------------+\n",
      "|  16210  | 19998 | CINCO OCHO CUATRO SEIS | EH SEE FOUR THE ONLY THING WANT KNOW IS THAT THAT |\n",
      "|         |       |                        |   THE PHONE IS RIGHT FOUR EIGHT THREE FIVE EIGHT  |\n",
      "|         |       |                        |  FOUR SIX IS THE MOST IMPORTANT THING BECAUSE THE |\n",
      "|         |       |                        |                  WASHINGTON CODE                  |\n",
      "+---------+-------+------------------------+---------------------------------------------------+\n"
     ]
    },
    {
     "data": {
      "text/html": [
       "\n",
       "                <audio controls=\"controls\" >\n",
       "                    <source src=\"data:audio/x-wav;base64,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\" type=\"audio/x-wav\" />\n",
       "                    Your browser does not support the audio element.\n",
       "                </audio>\n",
       "              "
      ],
      "text/plain": [
       "<IPython.lib.display.Audio object>"
      ]
     },
     "metadata": {},
     "output_type": "display_data"
    },
    {
     "data": {
      "text/html": [
       "\n",
       "                <audio controls=\"controls\" >\n",
       "                    <source src=\"data:audio/x-wav;base64,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\" type=\"audio/x-wav\" />\n",
       "                    Your browser does not support the audio element.\n",
       "                </audio>\n",
       "              "
      ],
      "text/plain": [
       "<IPython.lib.display.Audio object>"
      ]
     },
     "metadata": {},
     "output_type": "display_data"
    }
   ],
   "source": [
    "display_pair(16210, eval_dict, nodes_dict, align_dict, utd_wavs_path, es_merge_wavs_path, segment_map)"
   ]
  },
  {
   "cell_type": "markdown",
   "metadata": {},
   "source": [
    "## Matches - cross call vs in call"
   ]
  },
  {
   "cell_type": "code",
   "execution_count": 12,
   "metadata": {
    "collapsed": false
   },
   "outputs": [],
   "source": [
    "eval_df = pd.DataFrame(eval_dict, columns=Eval._fields)"
   ]
  },
  {
   "cell_type": "code",
   "execution_count": 13,
   "metadata": {
    "collapsed": false
   },
   "outputs": [],
   "source": [
    "eval_df['in_uttr'] = eval_df.apply(lambda r: nodes_dict[r.n1].seg == nodes_dict[r.n2].seg, axis=1)"
   ]
  },
  {
   "cell_type": "code",
   "execution_count": 14,
   "metadata": {
    "collapsed": true
   },
   "outputs": [],
   "source": [
    "eval_df['x_call'] = eval_df.apply(lambda r: nodes_dict[r.n1].file != nodes_dict[r.n2].file, axis=1)"
   ]
  },
  {
   "cell_type": "code",
   "execution_count": 15,
   "metadata": {
    "collapsed": true
   },
   "outputs": [],
   "source": [
    "eval_df['x_uttr'] = eval_df.apply(lambda r: (nodes_dict[r.n1].file == nodes_dict[r.n2].file) and \\\n",
    "                                  (nodes_dict[r.n1].seg != nodes_dict[r.n2].seg), axis=1)"
   ]
  },
  {
   "cell_type": "code",
   "execution_count": 16,
   "metadata": {
    "collapsed": false
   },
   "outputs": [
    {
     "data": {
      "text/plain": [
       "26604"
      ]
     },
     "execution_count": 16,
     "metadata": {},
     "output_type": "execute_result"
    }
   ],
   "source": [
    "len(eval_df[eval_df.in_uttr]) + len(eval_df[eval_df.x_uttr]) + len(eval_df[eval_df.x_call])"
   ]
  },
  {
   "cell_type": "code",
   "execution_count": 17,
   "metadata": {
    "collapsed": false
   },
   "outputs": [
    {
     "name": "stdout",
     "output_type": "stream",
     "text": [
      "\\# & in_uttr & x_uttr & x_call\n",
      "tot. & 628 & 4454 & 21522\n",
      "\\% tot. & 2\\% & 17\\% & 81\\%\n",
      "corr. & 488 & 2331 & 1612\n",
      "\\% corr. & 78\\% & 52\\% & 7\\%\n",
      "+----------+---------+--------+--------+\n",
      "|    \\#    | in_uttr | x_uttr | x_call |\n",
      "+----------+---------+--------+--------+\n",
      "|   tot.   |   628   |  4454  | 21522  |\n",
      "| \\% tot.  |   2\\%   |  17\\%  |  81\\%  |\n",
      "|  corr.   |   488   |  2331  |  1612  |\n",
      "| \\% corr. |   78\\%  |  52\\%  |  7\\%   |\n",
      "+----------+---------+--------+--------+\n"
     ]
    }
   ],
   "source": [
    "eval_cols = [\"\\#\", \"in_uttr\", \"x_uttr\", \"x_call\"]\n",
    "eval_row_tot = [\"tot.\"]\n",
    "eval_row_corr = [\"corr.\"]\n",
    "for catg in eval_cols[1:]:\n",
    "    eval_row_tot.append(len(eval_df[eval_df[catg]]))\n",
    "    eval_row_corr.append(len(eval_df[(eval_df[catg] == True) & (eval_df.es_cnt_sim > 0)]))\n",
    "\n",
    "eval_row_ratio = [\"\\% tot.\"] + [\"{0:.0f}\\%\".format(tot/len(eval_df)*100) for tot in eval_row_tot[1:]]\n",
    "eval_row_pr = [\"\\% corr.\"] + [\"{0:.0f}\\%\".format(corr/tot*100) for corr, tot in \\\n",
    "                             zip(eval_row_corr[1:], eval_row_tot[1:])]\n",
    "mini_print(eval_cols, [eval_row_tot, eval_row_ratio, eval_row_corr, eval_row_pr])"
   ]
  },
  {
   "cell_type": "markdown",
   "metadata": {},
   "source": [
    "## Pseudotext analysis"
   ]
  },
  {
   "cell_type": "code",
   "execution_count": 18,
   "metadata": {
    "collapsed": false
   },
   "outputs": [
    {
     "data": {
      "text/plain": [
       "(u'../files-train.txt', u'../files-test.txt')"
      ]
     },
     "execution_count": 18,
     "metadata": {},
     "output_type": "execute_result"
    }
   ],
   "source": [
    "train_segment_list_fname, dev_segment_list_fname"
   ]
  },
  {
   "cell_type": "code",
   "execution_count": 19,
   "metadata": {
    "collapsed": true
   },
   "outputs": [],
   "source": [
    "train_fids = []\n",
    "train_sids = []\n",
    "with open(train_segment_list_fname, \"r\") as in_f:\n",
    "    for line in in_f:\n",
    "        train_fids.append(line.strip().split(\".\")[0])\n",
    "        train_sids.append(line.strip())\n",
    "train_fids = set(train_fids)\n",
    "train_sids = set(train_sids)"
   ]
  },
  {
   "cell_type": "code",
   "execution_count": 20,
   "metadata": {
    "collapsed": true
   },
   "outputs": [],
   "source": [
    "dev_fids = []\n",
    "dev_sids = []\n",
    "with open(dev_segment_list_fname, \"r\") as in_f:\n",
    "    for line in in_f:\n",
    "        dev_fids.append(line.strip().split(\".\")[0])\n",
    "        dev_sids.append(line.strip())\n",
    "dev_fids = set(dev_fids)\n",
    "dev_sids = set(dev_sids)"
   ]
  },
  {
   "cell_type": "code",
   "execution_count": 21,
   "metadata": {
    "collapsed": false
   },
   "outputs": [],
   "source": [
    "clusters_stats['is_dev'] = []\n",
    "clusters_stats['is_train'] = []\n",
    "clusters_stats['oov'] = []\n",
    "clusters_stats['cross_seg'] = []\n",
    "clusters_stats['cross_file'] = []\n",
    "clusters_stats['same_seg'] = []\n",
    "clusters_stats['in_vocab'] = []\n",
    "for sids in clusters_stats['sids']:\n",
    "    is_in_dev = len(dev_sids & set(sids)) > 0\n",
    "    is_in_train = len(train_sids & set(sids)) > 0\n",
    "    clusters_stats['is_dev'].append(is_in_dev)\n",
    "    clusters_stats['is_train'].append(is_in_train)\n",
    "    clusters_stats['oov'].append(is_in_dev and not is_in_train)\n",
    "    clusters_stats['in_vocab'].append(is_in_dev and is_in_train)\n",
    "    cross_seg = False\n",
    "    cross_file = False\n",
    "    same_seg = False\n",
    "    if is_in_dev and is_in_train:\n",
    "        common_sids = (dev_sids & set(sids)) | (train_sids & set(sids))\n",
    "        cross_seg = (len(common_sids) > 1)\n",
    "        cross_file = (len(set([s.split('.')[0] for s in common_sids])) > 1)\n",
    "        \n",
    "    if is_in_dev or is_in_train:\n",
    "        same_seg = (len(set(sids)) == 1)\n",
    "        \n",
    "    clusters_stats['cross_seg'].append(cross_seg)\n",
    "    clusters_stats['cross_file'].append(cross_file)\n",
    "    clusters_stats['same_seg'].append(same_seg)\n",
    "        \n",
    "        \n",
    "\n",
    "clusters_stats['dev_depth'] = []\n",
    "clusters_stats['train_depth'] = []\n",
    "for nlist in clusters_stats['sids']:\n",
    "    clusters_stats['dev_depth'].append(len([i for i in nlist if i in dev_sids]))\n",
    "    clusters_stats['train_depth'].append(len([i for i in nlist if i in train_sids]))\n"
   ]
  },
  {
   "cell_type": "code",
   "execution_count": 22,
   "metadata": {
    "collapsed": false
   },
   "outputs": [
    {
     "name": "stdout",
     "output_type": "stream",
     "text": [
      "546\n",
      "601\n",
      "1577\n"
     ]
    }
   ],
   "source": [
    "num_oov = sum([i for i in clusters_stats['oov']])\n",
    "print(num_oov)\n",
    "sum_oov = sum([d for i, d in enumerate(clusters_stats['dev_depth']) if clusters_stats['oov'][i]])\n",
    "total_pwords = sum([d for i, d in enumerate(clusters_stats['dev_depth']) if clusters_stats['is_dev'][i]])\n",
    "print(sum_oov)\n",
    "print(total_pwords)"
   ]
  },
  {
   "cell_type": "code",
   "execution_count": 23,
   "metadata": {
    "collapsed": false
   },
   "outputs": [],
   "source": [
    "def oov_summary(dev_sids, feats_dict):\n",
    "    dev_words = []\n",
    "    train_words = []\n",
    "    oov_pwords = []\n",
    "    for did in dev_sids:\n",
    "        dev_words.extend([w.decode('utf-8') for w in feats_dict[did]])\n",
    "    for tid in train_sids:\n",
    "        train_words.extend([w.decode('utf-8') for w in feats_dict[tid]])\n",
    "    set_train_words = set(train_words)\n",
    "    oov_words = [cid for cid in dev_words if cid not in set_train_words and cid != \"-1\"]\n",
    "    missing_train_words = [cid for cid in train_words if cid == \"-1\"]\n",
    "    missing_words = [cid for cid in dev_words if cid == \"-1\"]\n",
    "    out_cols = [\"trn wrds\", \"trn vocab\", \"dev wrds\", \"dev vocab\", \"oov\", \"oov types\", \\\n",
    "                \"miss trn\", \"miss dev\", \"oov + miss\"]\n",
    "    out_rows = [len(train_words), len(set(train_words)), len(dev_words), len(set(dev_words)), \\\n",
    "                len(oov_words), len(set(oov_words)), len(missing_train_words), len(missing_words), \\\n",
    "                len(oov_words) + len(missing_words)]\n",
    "    mini_print(out_cols, out_rows)\n",
    "    return Counter(train_words), Counter(dev_words), Counter(oov_words)"
   ]
  },
  {
   "cell_type": "code",
   "execution_count": 24,
   "metadata": {
    "collapsed": false
   },
   "outputs": [
    {
     "name": "stdout",
     "output_type": "stream",
     "text": [
      "trn wrds & trn vocab & dev wrds & dev vocab & oov & oov types & miss trn & miss dev & oov + miss\n",
      "20921 & 10354 & 2052 & 1421 & 601 & 546 & 4131 & 475 & 1076\n",
      "+----------+-----------+----------+-----------+-----+-----------+----------+----------+------------+\n",
      "| trn wrds | trn vocab | dev wrds | dev vocab | oov | oov types | miss trn | miss dev | oov + miss |\n",
      "+----------+-----------+----------+-----------+-----+-----------+----------+----------+------------+\n",
      "|  20921   |   10354   |   2052   |    1421   | 601 |    546    |   4131   |   475    |    1076    |\n",
      "+----------+-----------+----------+-----------+-----+-----------+----------+----------+------------+\n",
      "trn wrds & trn vocab & dev wrds & dev vocab & oov & oov types & miss trn & miss dev & oov + miss\n",
      "38042 & 6638 & 4072 & 1702 & 420 & 399 & 0 & 0 & 420\n",
      "+----------+-----------+----------+-----------+-----+-----------+----------+----------+------------+\n",
      "| trn wrds | trn vocab | dev wrds | dev vocab | oov | oov types | miss trn | miss dev | oov + miss |\n",
      "+----------+-----------+----------+-----------+-----+-----------+----------+----------+------------+\n",
      "|  38042   |    6638   |   4072   |    1702   | 420 |    399    |    0     |    0     |    420     |\n",
      "+----------+-----------+----------+-----------+-----+-----------+----------+----------+------------+\n"
     ]
    }
   ],
   "source": [
    "train_pwords, dev_pwords, oov_pwords = oov_summary(dev_sids, feats_dict)\n",
    "train_gold_words, dev_gold_words, oov_gold_words = oov_summary(dev_sids, gold_feats_dict)"
   ]
  },
  {
   "cell_type": "code",
   "execution_count": 25,
   "metadata": {
    "collapsed": false
   },
   "outputs": [
    {
     "name": "stdout",
     "output_type": "stream",
     "text": [
      "10\\% & 17\\% & 29\\% & 44\\% & "
     ]
    }
   ],
   "source": [
    "oov_ratio = [420/4072, 719/4129, 601/2052, 892/2029]\n",
    "for oov in oov_ratio:\n",
    "    print(\"{0:.0f}\\%\".format(oov*100), end=\" & \")"
   ]
  },
  {
   "cell_type": "code",
   "execution_count": 26,
   "metadata": {
    "collapsed": false
   },
   "outputs": [
    {
     "data": {
      "text/plain": [
       "['7']"
      ]
     },
     "execution_count": 26,
     "metadata": {},
     "output_type": "execute_result"
    }
   ],
   "source": [
    "mt_gold_pred_dict[5]['001.001']\n",
    "mt_pseudo_pred_dict[5]['001.001']\n",
    "feats_dict['001.001']"
   ]
  },
  {
   "cell_type": "code",
   "execution_count": 27,
   "metadata": {
    "collapsed": false
   },
   "outputs": [
    {
     "data": {
      "text/plain": [
       "(1421, 1421)"
      ]
     },
     "execution_count": 27,
     "metadata": {},
     "output_type": "execute_result"
    }
   ],
   "source": [
    "len(dev_pwords), len(set(dev_pwords))"
   ]
  },
  {
   "cell_type": "code",
   "execution_count": 28,
   "metadata": {
    "collapsed": false
   },
   "outputs": [
    {
     "name": "stdout",
     "output_type": "stream",
     "text": [
      "haha 475\n",
      "975 602\n",
      "975\n",
      "975\n",
      "332\n",
      "540\n",
      "475\n",
      "2052\n",
      "51\\% &56\\% &51\\% &54\\%\n"
     ]
    }
   ],
   "source": [
    "k = 1\n",
    "pred_count = 0\n",
    "missing_count = 0\n",
    "for pw in dev_pwords:\n",
    "    if pw == \"-1\":\n",
    "        print(\"haha\", dev_pwords[\"-1\"])\n",
    "    elif pw not in pseudo_probs_dict:\n",
    "        missing_count += dev_pwords[pw]\n",
    "    else:\n",
    "        pred_count += (len(pseudo_probs_dict[pw].values()[:k])*dev_pwords[pw])\n",
    "print(pred_count,missing_count)\n",
    "print(sum([mt_pseudo_eval_dict['dev'][k][sid]['tp'] for sid in set(dev_sids)]))\n",
    "print(sum([len(mt_pseudo_pred_dict[k][sid]) for sid in set(dev_sids)]))\n",
    "print(sum([1 for sid in dev_sids if len(mt_pseudo_pred_dict[k][sid]) > 0]))\n",
    "print(sum([1 for sid in dev_sids if len(mt_pseudo_pred_dict[k][sid]) == 0]))\n",
    "print(sum([1 for sid in dev_sids if feats_dict[sid] == [\"-1\"]]))\n",
    "print(sum(dev_pwords.values()))\n",
    "len(dev_sids), len(train_sids)\n",
    "print(\" &\".join([\"{0:.0f}\\%\".format(miss/tot * 100) for tot, miss in [(8055,4093), (911,513), \\\n",
    "                                                             (8094,4131), (872,475)]]))"
   ]
  },
  {
   "cell_type": "code",
   "execution_count": 29,
   "metadata": {
    "collapsed": false
   },
   "outputs": [],
   "source": [
    "train_pwords_es = Counter([clusters_stats['most_common'][int(cid)].upper() for cid in train_pwords if cid != -1])\n",
    "dev_pwords_es = Counter([clusters_stats['most_common'][int(cid)].upper() for cid in dev_pwords if cid != -1])\n",
    "oov_pwords_es = Counter([clusters_stats['most_common'][int(cid)].upper() for cid in oov_pwords if cid != -1])"
   ]
  },
  {
   "cell_type": "code",
   "execution_count": 30,
   "metadata": {
    "collapsed": false
   },
   "outputs": [
    {
     "name": "stdout",
     "output_type": "stream",
     "text": [
      "train/dev/oov & total & types\n",
      "train & 10354 & 2761\n",
      "dev & 1421 & 733\n",
      "oov & 546 & 361\n",
      "+---------------+-------+-------+\n",
      "| train/dev/oov | total | types |\n",
      "+---------------+-------+-------+\n",
      "|     train     | 10354 |  2761 |\n",
      "|      dev      |  1421 |  733  |\n",
      "|      oov      |  546  |  361  |\n",
      "+---------------+-------+-------+\n"
     ]
    }
   ],
   "source": [
    "out_cols = [\"train/dev/oov\", \"total\", \"types\"]\n",
    "out_rows = []\n",
    "out_rows.append(['train', sum(train_pwords_es.values()), len(train_pwords_es)])\n",
    "out_rows.append(['dev', sum(dev_pwords_es.values()), len(dev_pwords_es)])\n",
    "out_rows.append(['oov', sum(oov_pwords_es.values()), len(oov_pwords_es)])\n",
    "mini_print(out_cols, out_rows)"
   ]
  },
  {
   "cell_type": "code",
   "execution_count": 31,
   "metadata": {
    "collapsed": false
   },
   "outputs": [
    {
     "data": {
      "text/plain": [
       "12321"
      ]
     },
     "execution_count": 31,
     "metadata": {},
     "output_type": "execute_result"
    }
   ],
   "source": [
    "sum(train_pwords_es.values()) + sum(dev_pwords_es.values()) + sum(oov_pwords_es.values())"
   ]
  },
  {
   "cell_type": "code",
   "execution_count": 32,
   "metadata": {
    "collapsed": false
   },
   "outputs": [
    {
     "name": "stdout",
     "output_type": "stream",
     "text": [
      "dev pwords in train vocab: 875\n",
      "translations missing for: 2\n"
     ]
    }
   ],
   "source": [
    "inv_words = [cid for cid in set(dev_pwords) - set(oov_pwords)]\n",
    "print(\"dev pwords in train vocab: %d\" % len(inv_words))\n",
    "missing_translations = [cid for cid in inv_words if cid not in pseudo_probs_dict]\n",
    "print(\"translations missing for: %d\" %len(missing_translations))"
   ]
  },
  {
   "cell_type": "code",
   "execution_count": 18,
   "metadata": {
    "collapsed": true
   },
   "outputs": [],
   "source": [
    "def recall_summary(eval_dict, dev_sids, feats_dict, oov_words, k):\n",
    "    num_en_oov = sum([eval_dict['dev'][k][sid]['t'] for sid in set(dev_sids) \\\n",
    "                      if len(set(feats_dict[sid])-set(oov_words)) == 0])\n",
    "    num_inv_and_oov = sum([1 for sid in set(dev_sids) if len(set(feats_dict[sid])-set(oov_words)) > 0])\n",
    "    num_only_oov = sum([1 for sid in set(dev_sids) if len(set(feats_dict[sid])-set(oov_words)) == 0])\n",
    "    num_en = sum([eval_dict['dev'][k][sid]['t'] for sid in set(dev_sids)])\n",
    "    num_en_missing = sum([eval_dict['dev'][k][sid]['t'] for sid in set(dev_sids) \\\n",
    "                      if feats_dict[sid] == ['-1']])\n",
    "\n",
    "    num_en_pred = sum([eval_dict['dev'][k][sid]['tp'] for sid in set(dev_sids)])\n",
    "    num_en_corr_pred = sum([eval_dict['dev'][k][sid]['cp'] for sid in set(dev_sids)])\n",
    "\n",
    "    out_cols = [\"total en\", \"en oov\", \"en missing\", \"upper bound recall\"]\n",
    "    out_rows = [num_en, num_en_oov, num_en_missing, \"{0:.3f}\".format((num_en-num_en_oov-num_en_missing)/num_en)]\n",
    "\n",
    "    mini_print(out_cols, out_rows)\n",
    "\n",
    "    out_cols = [\"k\", \"\\\\# corr.\", \"\\\\# pred\", \"prec.\", \"rec.\", \"rec. w/o miss.\", \"rec. w/o oov\", \"rec. w/o miss.+oov\"]\n",
    "    out_rows = map(lambda v: \"{0:.2f} \\%\".format(v*100) if type(v) != int else v, \\\n",
    "                   [k, num_en_corr_pred, num_en_pred, (num_en_corr_pred/num_en_pred), (num_en_corr_pred/num_en), num_en_corr_pred/(num_en-num_en_missing), \\\n",
    "                    num_en_corr_pred/(num_en-num_en_oov), num_en_corr_pred/(num_en-num_en_missing-num_en_oov)])\n",
    "    mini_print(out_cols, out_rows)\n",
    "    mini_print(['inv+oov', 'only oov'], [num_inv_and_oov, num_only_oov])"
   ]
  },
  {
   "cell_type": "code",
   "execution_count": 34,
   "metadata": {
    "collapsed": false
   },
   "outputs": [
    {
     "name": "stdout",
     "output_type": "stream",
     "text": [
      "total en & en oov & en missing & upper bound recall\n",
      "4125 & 380 & 1293 & 0.594\n",
      "+----------+--------+------------+--------------------+\n",
      "| total en | en oov | en missing | upper bound recall |\n",
      "+----------+--------+------------+--------------------+\n",
      "|   4125   |  380   |    1293    |       0.594        |\n",
      "+----------+--------+------------+--------------------+\n",
      "k & \\# corr. & \\# pred & prec. & rec. & rec. w/o miss. & rec. w/o oov & rec. w/o miss.+oov\n",
      "5 & 214 & 3674 & 5.82 \\% & 5.19 \\% & 7.56 \\% & 5.71 \\% & 8.73 \\%\n",
      "+---+----------+---------+---------+---------+----------------+--------------+--------------------+\n",
      "| k | \\# corr. | \\# pred |  prec.  |   rec.  | rec. w/o miss. | rec. w/o oov | rec. w/o miss.+oov |\n",
      "+---+----------+---------+---------+---------+----------------+--------------+--------------------+\n",
      "| 5 |   214    |   3674  | 5.82 \\% | 5.19 \\% |    7.56 \\%     |   5.71 \\%    |      8.73 \\%       |\n",
      "+---+----------+---------+---------+---------+----------------+--------------+--------------------+\n",
      "inv+oov & only oov\n",
      "808 & 64\n",
      "+---------+----------+\n",
      "| inv+oov | only oov |\n",
      "+---------+----------+\n",
      "|   808   |    64    |\n",
      "+---------+----------+\n"
     ]
    }
   ],
   "source": [
    "k=5\n",
    "recall_summary(mt_pseudo_eval_dict, dev_sids, feats_dict, oov_pwords, k)"
   ]
  },
  {
   "cell_type": "code",
   "execution_count": 35,
   "metadata": {
    "collapsed": false
   },
   "outputs": [
    {
     "name": "stdout",
     "output_type": "stream",
     "text": [
      "total en & en oov & en missing & upper bound recall\n",
      "4125 & 15 & 0 & 0.996\n",
      "+----------+--------+------------+--------------------+\n",
      "| total en | en oov | en missing | upper bound recall |\n",
      "+----------+--------+------------+--------------------+\n",
      "|   4125   |   15   |     0      |       0.996        |\n",
      "+----------+--------+------------+--------------------+\n",
      "k & \\# corr. & \\# pred & prec. & rec. & rec. w/o miss. & rec. w/o oov & rec. w/o miss.+oov\n",
      "5 & 2255 & 9174 & 24.58 \\% & 54.67 \\% & 54.67 \\% & 54.87 \\% & 54.87 \\%\n",
      "+---+----------+---------+----------+----------+----------------+--------------+--------------------+\n",
      "| k | \\# corr. | \\# pred |  prec.   |   rec.   | rec. w/o miss. | rec. w/o oov | rec. w/o miss.+oov |\n",
      "+---+----------+---------+----------+----------+----------------+--------------+--------------------+\n",
      "| 5 |   2255   |   9174  | 24.58 \\% | 54.67 \\% |    54.67 \\%    |   54.87 \\%   |      54.87 \\%      |\n",
      "+---+----------+---------+----------+----------+----------------+--------------+--------------------+\n",
      "inv+oov & only oov\n",
      "864 & 8\n",
      "+---------+----------+\n",
      "| inv+oov | only oov |\n",
      "+---------+----------+\n",
      "|   864   |    8     |\n",
      "+---------+----------+\n"
     ]
    },
    {
     "data": {
      "text/plain": [
       "'\\nThe impact of oov words is less in the case of gold features, \\nas other words in the utterances still make predictions. \\n\\nHowever, due to the sparse nature of pseudotext, generally there are no in vocab words for the utterance when\\noov words are encountered\\n'"
      ]
     },
     "execution_count": 35,
     "metadata": {},
     "output_type": "execute_result"
    }
   ],
   "source": [
    "recall_summary(mt_gold_eval_dict, dev_sids, gold_feats_dict, oov_gold_words, k)\n",
    "'''\n",
    "The impact of oov words is less in the case of gold features, \n",
    "as other words in the utterances still make predictions. \n",
    "\n",
    "However, due to the sparse nature of pseudotext, generally there are no in vocab words for the utterance when\n",
    "oov words are encountered\n",
    "'''"
   ]
  },
  {
   "cell_type": "code",
   "execution_count": 36,
   "metadata": {
    "collapsed": false
   },
   "outputs": [
    {
     "name": "stdout",
     "output_type": "stream",
     "text": [
      "train fids & dev fids & train sids & dev sids\n",
      "50 & 50 & 8094 & 872\n",
      "+------------+----------+------------+----------+\n",
      "| train fids | dev fids | train sids | dev sids |\n",
      "+------------+----------+------------+----------+\n",
      "|     50     |    50    |    8094    |   872    |\n",
      "+------------+----------+------------+----------+\n"
     ]
    }
   ],
   "source": [
    "mini_print([\"train fids\", \"dev fids\", \"train sids\", \"dev sids\"], \\\n",
    "          [len(train_fids), len(dev_fids), len(train_sids), len(dev_sids)])"
   ]
  },
  {
   "cell_type": "code",
   "execution_count": 19,
   "metadata": {
    "collapsed": false
   },
   "outputs": [],
   "source": [
    "def show_common(counter_A, counter_B):\n",
    "    set_A = set(counter_A.keys())\n",
    "    set_B = set(counter_B.keys())\n",
    "    common = set_A & set_B\n",
    "    return common, len(common)"
   ]
  },
  {
   "cell_type": "code",
   "execution_count": 20,
   "metadata": {
    "collapsed": false
   },
   "outputs": [
    {
     "ename": "NameError",
     "evalue": "name 'oov_pwords_es' is not defined",
     "output_type": "error",
     "traceback": [
      "\u001b[0;31m---------------------------------------------------------------------------\u001b[0m",
      "\u001b[0;31mNameError\u001b[0m                                 Traceback (most recent call last)",
      "\u001b[0;32m<ipython-input-20-01542229326d>\u001b[0m in \u001b[0;36m<module>\u001b[0;34m()\u001b[0m\n\u001b[0;32m----> 1\u001b[0;31m \u001b[0m_\u001b[0m\u001b[0;34m,\u001b[0m \u001b[0mk\u001b[0m \u001b[0;34m=\u001b[0m \u001b[0mshow_common\u001b[0m\u001b[0;34m(\u001b[0m\u001b[0moov_pwords_es\u001b[0m\u001b[0;34m,\u001b[0m \u001b[0moov_gold_words\u001b[0m\u001b[0;34m)\u001b[0m\u001b[0;34m\u001b[0m\u001b[0m\n\u001b[0m\u001b[1;32m      2\u001b[0m \u001b[0;32mprint\u001b[0m\u001b[0;34m(\u001b[0m\u001b[0mk\u001b[0m\u001b[0;34m)\u001b[0m\u001b[0;34m\u001b[0m\u001b[0m\n\u001b[1;32m      3\u001b[0m \u001b[0m_\u001b[0m\u001b[0;34m,\u001b[0m \u001b[0mk\u001b[0m \u001b[0;34m=\u001b[0m \u001b[0mshow_common\u001b[0m\u001b[0;34m(\u001b[0m\u001b[0mtrain_pwords_es\u001b[0m\u001b[0;34m,\u001b[0m \u001b[0mtrain_gold_words\u001b[0m\u001b[0;34m)\u001b[0m\u001b[0;34m\u001b[0m\u001b[0m\n\u001b[1;32m      4\u001b[0m \u001b[0;32mprint\u001b[0m\u001b[0;34m(\u001b[0m\u001b[0mk\u001b[0m\u001b[0;34m,\u001b[0m \u001b[0mlen\u001b[0m\u001b[0;34m(\u001b[0m\u001b[0mtrain_pwords_es\u001b[0m\u001b[0;34m)\u001b[0m\u001b[0;34m,\u001b[0m \u001b[0mlen\u001b[0m\u001b[0;34m(\u001b[0m\u001b[0mtrain_gold_words\u001b[0m\u001b[0;34m)\u001b[0m\u001b[0;34m)\u001b[0m\u001b[0;34m\u001b[0m\u001b[0m\n",
      "\u001b[0;31mNameError\u001b[0m: name 'oov_pwords_es' is not defined"
     ]
    }
   ],
   "source": [
    "_, k = show_common(oov_pwords_es, oov_gold_words)\n",
    "print(k)\n",
    "_, k = show_common(train_pwords_es, train_gold_words)\n",
    "print(k, len(train_pwords_es), len(train_gold_words))"
   ]
  },
  {
   "cell_type": "code",
   "execution_count": 21,
   "metadata": {
    "collapsed": true
   },
   "outputs": [],
   "source": [
    "def get_dur_for_sids(sids, align_dict):\n",
    "    dur = 0\n",
    "    for sid in sids:\n",
    "        dur += sum([word.end-word.start for word in align_dict[sid.split('.')[0]][sid]['es']])\n",
    "    return dur / (100 * 3600)"
   ]
  },
  {
   "cell_type": "code",
   "execution_count": 40,
   "metadata": {
    "collapsed": false
   },
   "outputs": [
    {
     "name": "stdout",
     "output_type": "stream",
     "text": [
      "train sid dur & dev sid dur\n",
      "6.039 & 0.654\n",
      "+---------------+-------------+\n",
      "| train sid dur | dev sid dur |\n",
      "+---------------+-------------+\n",
      "|     6.039     |    0.654    |\n",
      "+---------------+-------------+\n"
     ]
    }
   ],
   "source": [
    "# train sids duration\n",
    "train_sid_dur = \"%.3f\" % get_dur_for_sids(train_sids, align_dict)\n",
    "dev_sid_dur = \"%.3f\" % get_dur_for_sids(dev_sids, align_dict)\n",
    "mini_print([\"train sid dur\", \"dev sid dur\"], [train_sid_dur, dev_sid_dur])"
   ]
  },
  {
   "cell_type": "markdown",
   "metadata": {},
   "source": [
    "### pseudowords"
   ]
  },
  {
   "cell_type": "markdown",
   "metadata": {},
   "source": [
    "## Cluster Analysis"
   ]
  },
  {
   "cell_type": "code",
   "execution_count": 22,
   "metadata": {
    "collapsed": false
   },
   "outputs": [],
   "source": [
    "def plot_word_freq_line(count_dict, fig_name = '', prefix='', color=tableau20[0], label=\"freq\"):\n",
    "    if prefix:\n",
    "        count_dict = {\"%s_%s\" % (prefix, k): v for k,v in count_dict.items() if k != \"-1\"}\n",
    "    #y_vals = np.array([np.log(v) if v > 0 else 0 for v in sorted(count_dict.values(), reverse=True)])\n",
    "    y_vals = np.array([v for v in sorted(count_dict.values(), reverse=True)])\n",
    "    \n",
    "    fig, ax = plt.subplots(figsize=(7,4))\n",
    "    sns.set_style(\"darkgrid\")\n",
    "    \n",
    "    ax.loglog(y_vals, label=label, color=color)\n",
    "    ax.legend(ncol=1, loc=\"center right\", frameon=True, fontsize=20)\n",
    "\n",
    "    #ax.set(xlim=(0, 300))\n",
    "    ax.set(xlim=(0,len(count_dict)+1))\n",
    "    ax.set(ylim=(0, 200))\n",
    "\n",
    "    plt.xlabel(\"word types\", size=20)\n",
    "    plt.ylabel(\"word counts (log-log)\", size=20)\n",
    "\n",
    "    plt.yticks(rotation=0, size=18)\n",
    "    plt.xticks(rotation=0, size=18)        \n",
    "\n",
    "    sns.despine(left=True, bottom=True)\n",
    "\n",
    "    fig.tight_layout()\n",
    "    if fig_name:\n",
    "        fig.savefig(fig_name+\".png\")"
   ]
  },
  {
   "cell_type": "code",
   "execution_count": 23,
   "metadata": {
    "collapsed": false
   },
   "outputs": [],
   "source": [
    "def plot_word_freq(count_dict, num=10, fig_name = '', prefix='', color=tableau20[0]):\n",
    "    if prefix:\n",
    "        count_dict = {\"%s_%s\" % (prefix, k): v for k,v in count_dict.items() if k != \"-1\"}\n",
    "    pd_es_df = pd.DataFrame(sorted(count_dict.items(), \\\n",
    "                                   reverse=True, key=lambda t:t[1])[:num], index=range(num))\n",
    "    pd_es_df.columns = [\"word\", \"freq\"]\n",
    "    fig, ax = plt.subplots(figsize=(10,5))\n",
    "    sns.barplot(x='word', y=\"freq\", data=pd_es_df, label=fig_name, color=color)\n",
    "    ax.legend(ncol=1, loc=\"center right\", frameon=True, fontsize=20)\n",
    "\n",
    "    #ax.set(xlim=(0, 300))\n",
    "\n",
    "    plt.xlabel(\"word counts\", size=20)\n",
    "    plt.ylabel(\"word types\", size=20)\n",
    "\n",
    "    plt.yticks(rotation=0, size=18)\n",
    "    plt.xticks(rotation=80, size=18)\n",
    "\n",
    "    sns.despine(left=True, bottom=True)\n",
    "\n",
    "    fig.tight_layout()\n",
    "    "
   ]
  },
  {
   "cell_type": "code",
   "execution_count": 24,
   "metadata": {
    "collapsed": true
   },
   "outputs": [],
   "source": [
    "def get_en_words(align_dict, seg_id, en_key):\n",
    "    counter = 0\n",
    "    en_words = [w.word for w in align_dict[seg_id.split('.')[0]][seg_id][en_key] if \"'\" not in w.word]\n",
    "    if not en_words:\n",
    "        counter += 1\n",
    "        en_words = [w.word for w in align_dict[seg_id.split('.')[0]][seg_id]['en'] if \"'\" not in w.word]\n",
    "    if counter > 0:\n",
    "        print(\"No content word found in %s segment\" % seg_id)\n",
    "    return en_words"
   ]
  },
  {
   "cell_type": "code",
   "execution_count": 25,
   "metadata": {
    "collapsed": true
   },
   "outputs": [],
   "source": [
    "def get_word_counts(w_key, feats_dict, align_dict, sids):\n",
    "    if w_key.startswith('es'):\n",
    "        wrds = [a.decode(\"utf-8\") for sid in feats_dict for a in feats_dict[sid] if sid in sids]\n",
    "    else:\n",
    "        wrds = [a for sid in sids for a in get_en_words(align_dict, sid, w_key)]\n",
    "    return Counter(wrds)"
   ]
  },
  {
   "cell_type": "code",
   "execution_count": 26,
   "metadata": {
    "collapsed": false
   },
   "outputs": [],
   "source": [
    "def calc_avg_purity(clusters_df):\n",
    "    num = sum(clusters_df.apply(lambda row: \\\n",
    "                            Counter(row.words).most_common(1)[0][1] \\\n",
    "                            if len(row.words) > 0 else 0, axis=1))\n",
    "    den = sum(clusters_df.apply(lambda row: len(row.words), axis=1))\n",
    "    return (num / den)"
   ]
  },
  {
   "cell_type": "code",
   "execution_count": 27,
   "metadata": {
    "collapsed": true
   },
   "outputs": [],
   "source": [
    "def play_cluster(cid):\n",
    "    cid_wav_path = os.path.join(config[\"es\"][\"zrt_tmp_wav\"], \"%04d.wav\" %(cid+1))\n",
    "    return cid_wav_path"
   ]
  },
  {
   "cell_type": "code",
   "execution_count": 28,
   "metadata": {
    "collapsed": true
   },
   "outputs": [],
   "source": [
    "def show_translation_prob(wid, probs_dict):\n",
    "    if wid.upper() not in probs_dict:\n",
    "        print(\"%s not found in tm model\" %wid)\n",
    "        return\n",
    "    print(\"translation probability table for %s\" %wid)\n",
    "    cols = ['en word', 'prob']\n",
    "    rows = []\n",
    "    prob_sum = sum([math.exp(prob) for prob in probs_dict[wid.upper()].values()])\n",
    "    \n",
    "    print(\"prob sum: %.4f\" % prob_sum)\n",
    "    \n",
    "    for enw, prob in probs_dict[wid.upper()].items():\n",
    "        rows.append([enw.lower(), \"%.4f\" % (math.exp(prob) / prob_sum)])\n",
    "    mini_print(cols, rows)"
   ]
  },
  {
   "cell_type": "code",
   "execution_count": 48,
   "metadata": {
    "collapsed": false
   },
   "outputs": [],
   "source": [
    "# plot_word_freq(train_gold_words, fig_name=\"haha\", color='grey')"
   ]
  },
  {
   "cell_type": "code",
   "execution_count": 49,
   "metadata": {
    "collapsed": false
   },
   "outputs": [],
   "source": [
    "# plot_word_freq(train_pwords, fig_name=\"hehe\", prefix='c', num=20, color=tableau20[6])"
   ]
  },
  {
   "cell_type": "code",
   "execution_count": 50,
   "metadata": {
    "collapsed": false
   },
   "outputs": [
    {
     "name": "stdout",
     "output_type": "stream",
     "text": [
      "15089\n"
     ]
    },
    {
     "data": {
      "image/png": "[encoded data removed]",
      "text/plain": [
       "<matplotlib.figure.Figure at 0x7f392dc62cd0>"
      ]
     },
     "metadata": {},
     "output_type": "display_data"
    }
   ],
   "source": [
    "clusters_freq = {cid:len(v) for cid, v in enumerate(clusters_stats['sids'], start=1) \\\n",
    "                 if clusters_stats['purity'][cid-1] >= 0}\n",
    "plot_word_freq_line(clusters_freq, fig_name=\"loglog_cluster_id_freq\", \\\n",
    "                    label=\"cluster freq\", prefix='c', color=tableau20[6])\n",
    "# plot_word_freq_line(train_gold_words, fig_name=\"hehe\", prefix='c', color=tableau20[6])\n",
    "print(len(clusters_freq))"
   ]
  },
  {
   "cell_type": "code",
   "execution_count": 51,
   "metadata": {
    "collapsed": false
   },
   "outputs": [],
   "source": [
    "corpus_es_words = []\n",
    "\n",
    "for fid in align_dict:\n",
    "    for sid in align_dict[fid]:\n",
    "         for alist in align_dict[fid][sid][\"es\"]:\n",
    "            corpus_es_words.append(alist.word.decode(\"utf-8\").upper())\n",
    "len(corpus_es_words),len(set(corpus_es_words))\n",
    "corpus_es_counter = Counter(corpus_es_words)"
   ]
  },
  {
   "cell_type": "code",
   "execution_count": 52,
   "metadata": {
    "collapsed": false,
    "scrolled": true
   },
   "outputs": [
    {
     "name": "stdout",
     "output_type": "stream",
     "text": [
      "# word types, tokens in entire corpus: 10674, 168195\n"
     ]
    }
   ],
   "source": [
    "corpus_word_types = len(corpus_es_counter)\n",
    "corpus_word_tokens = sum(corpus_es_counter.values())\n",
    "\n",
    "print(\"# word types, tokens in entire corpus: {0:d}, {1:d}\".format(corpus_word_types, \\\n",
    "                                                                   corpus_word_tokens))"
   ]
  },
  {
   "cell_type": "code",
   "execution_count": 53,
   "metadata": {
    "collapsed": false
   },
   "outputs": [],
   "source": [
    "corpus_en_words = []\n",
    "\n",
    "for fid in align_dict:\n",
    "    for sid in align_dict[fid]:\n",
    "         for alist in align_dict[fid][sid][\"en\"]:\n",
    "            corpus_en_words.append(alist.word.decode(\"utf-8\").upper())\n",
    "len(corpus_en_words),len(set(corpus_en_words))\n",
    "corpus_en_counter = Counter(corpus_en_words)"
   ]
  },
  {
   "cell_type": "code",
   "execution_count": 54,
   "metadata": {
    "collapsed": false
   },
   "outputs": [
    {
     "name": "stdout",
     "output_type": "stream",
     "text": [
      "# word types, tokens in entire corpus: 6723, 159777\n"
     ]
    }
   ],
   "source": [
    "corpus_word_types = len(corpus_en_counter)\n",
    "corpus_word_tokens = sum(corpus_en_counter.values())\n",
    "\n",
    "print(\"# word types, tokens in entire corpus: {0:d}, {1:d}\".format(corpus_word_types, \\\n",
    "                                                                   corpus_word_tokens))"
   ]
  },
  {
   "cell_type": "code",
   "execution_count": 55,
   "metadata": {
    "collapsed": false
   },
   "outputs": [],
   "source": [
    "clusters_es = {esw: len(clusters_stats['sids'][i]) \\\n",
    "                       for i, esw in enumerate(clusters_stats['most_common']) if esw != ': ('}\n",
    "\n",
    "clusters_es = {}\n",
    "for i, esu in enumerate(clusters_stats['most_common']):\n",
    "    esw = esu.upper()\n",
    "    if esw != ': (':\n",
    "        if esw not in clusters_es:\n",
    "            clusters_es[esw] = [i]\n",
    "        else:\n",
    "            clusters_es[esw].append([i])\n",
    "# print(sum(clusters_es.values()), len(set(clusters_es)))\n",
    "clusters_es_sorted = sorted([(k,len(v)) for k,v in clusters_es.items()], \n",
    "                            reverse=True, key=lambda t:t[1])"
   ]
  },
  {
   "cell_type": "code",
   "execution_count": 56,
   "metadata": {
    "collapsed": false
   },
   "outputs": [
    {
     "name": "stdout",
     "output_type": "stream",
     "text": [
      "[(u'AQU\\xcd', 311), (u'BIEN', 259), (u'PUES', 221), (u'VA', 176), (u'SI', 145)]\n",
      "[(u'BALDES', 1), (u'ABAJO', 1), (u'CREYENDO', 1), (u'CONTESTARTE', 1), (u'PRINCIPAL', 1)]\n",
      "AQUÍ & 311 & 606 \\\\\n",
      "BIEN & 259 & 1183 \\\\\n",
      "PUES & 221 & 1236 \\\\\n",
      "VA & 176 & 573 \\\\\n",
      "SI & 145 & 1045 \\\\\n",
      "DÍA & 136 & 280 \\\\\n",
      "BUENO & 125 & 1186 \\\\\n",
      "ENTONCES & 121 & 775 \\\\\n",
      "TIEMPO & 117 & 193 \\\\\n",
      "HACER & 113 & 283 \\\\\n",
      "CUÍDENSE & 1 & 4 \\\\\n",
      "AVERIGÚÉ & 1 & 2 \\\\\n",
      "OREJAS & 1 & 3 \\\\\n",
      "DARNOS & 1 & 3 \\\\\n",
      "DIARIA & 1 & 3 \\\\\n",
      "BALDES & 1 & 2 \\\\\n",
      "ABAJO & 1 & 18 \\\\\n",
      "CREYENDO & 1 & 1 \\\\\n",
      "CONTESTARTE & 1 & 3 \\\\\n",
      "PRINCIPAL & 1 & 6 \\\\\n"
     ]
    }
   ],
   "source": [
    "print(clusters_es_sorted[:5], clusters_es_sorted[-5:], sep=\"\\n\")\n",
    "clusters_es_cid_corpus_count = [(w,freq, corpus_es_counter[w]) for w, freq in clusters_es_sorted]\n",
    "out_cols = [\"word\", \"cluster olap\", \"corpus freq\"]\n",
    "out_rows = []\n",
    "[out_rows.append(tup) for tup in \n",
    "         clusters_es_cid_corpus_count[:10]+clusters_es_cid_corpus_count[-10:]]\n",
    "clusters_es_cid_corpus_count[:10]\n",
    "for row in out_rows:\n",
    "    print(row[0] + \" & \" + str(row[1]) + \" & \" + str(row[2]) + \" \\\\\\\\\")\n",
    "# print \"\\n\".join([\" \".join(row) for row in out_rows])\n",
    "# mini_print(out_cols, out_rows)"
   ]
  },
  {
   "cell_type": "code",
   "execution_count": 57,
   "metadata": {
    "collapsed": false
   },
   "outputs": [],
   "source": [
    "# plot_word_freq(corpus_es_counter, fig_name=\"hehe\", prefix='', num=20, color=tableau20[6])"
   ]
  },
  {
   "cell_type": "code",
   "execution_count": 58,
   "metadata": {
    "collapsed": true
   },
   "outputs": [],
   "source": [
    "cid_olap = np.array([v for k,v in clusters_es_sorted])\n",
    "es_count = np.array([corpus_es_counter[k] for k,v in clusters_es_sorted])"
   ]
  },
  {
   "cell_type": "code",
   "execution_count": 59,
   "metadata": {
    "collapsed": false
   },
   "outputs": [
    {
     "data": {
      "image/png": "[encoded data removed]",
      "text/plain": [
       "<matplotlib.figure.Figure at 0x7f39acbc09d0>"
      ]
     },
     "metadata": {},
     "output_type": "display_data"
    }
   ],
   "source": [
    "g = sns.JointGrid(x=es_count, y=cid_olap, size=5)\n",
    "g = g.plot_joint(plt.scatter, color=tableau20[0], s=20, edgecolor=\"white\")\n",
    "rsquare = lambda a, b: sp.stats.pearsonr(a, b)[0]\n",
    "g = g.annotate(rsquare, template=\"{stat}: {val:.2f}\", stat=\"$R$\", loc=\"upper right\", fontsize=18)\n",
    "g.ax_marg_x.set_axis_off()\n",
    "g.ax_marg_y.set_axis_off()\n",
    "plt.gca().set(ylim=(0,np.max(cid_olap)+10))\n",
    "plt.gca().set(xlim=(0,np.max(es_count)+100))\n",
    "plt.gca().set_xlabel(\"overlap freq between clusters\", fontsize=18)\n",
    "plt.gca().set_ylabel(\"word freq in corpus\", fontsize=18)\n",
    "plt.gcf().tight_layout()\n",
    "plt.gcf().savefig(\"cid_corpus_olap.png\")"
   ]
  },
  {
   "cell_type": "code",
   "execution_count": 60,
   "metadata": {
    "collapsed": false
   },
   "outputs": [
    {
     "name": "stdout",
     "output_type": "stream",
     "text": [
      "Clusters with unique word mappings:\n",
      "1614\n",
      "Clusters with overlapping word mappings:\n",
      "13354\n"
     ]
    },
    {
     "data": {
      "text/plain": [
       "(13475, 1614, 1819)"
      ]
     },
     "execution_count": 60,
     "metadata": {},
     "output_type": "execute_result"
    }
   ],
   "source": [
    "print(\"Clusters with unique word mappings:\")\n",
    "print(len([1 for i in clusters_es if len(clusters_es[i]) == 1]))\n",
    "print(\"Clusters with overlapping word mappings:\")\n",
    "print(sum([len(clusters_es[i]) for i in clusters_es if len(clusters_es[i]) > 1]))\n",
    "13354 + 121,  1614, len(clusters_es)-1614"
   ]
  },
  {
   "cell_type": "code",
   "execution_count": 61,
   "metadata": {
    "collapsed": false
   },
   "outputs": [],
   "source": [
    "clusters_df = pd.DataFrame(clusters_stats)\n",
    "del clusters_df['avg_purity']\n",
    "clusters_df['depth'] = clusters_df.apply(lambda row: len(row['words']), axis=1)"
   ]
  },
  {
   "cell_type": "code",
   "execution_count": 62,
   "metadata": {
    "collapsed": false
   },
   "outputs": [
    {
     "name": "stdout",
     "output_type": "stream",
     "text": [
      "267 15089\n"
     ]
    }
   ],
   "source": [
    "print(len(clusters_df[clusters_df['same_seg']== True]), len(clusters_df))"
   ]
  },
  {
   "cell_type": "code",
   "execution_count": 63,
   "metadata": {
    "collapsed": false
   },
   "outputs": [
    {
     "name": "stdout",
     "output_type": "stream",
     "text": [
      "874 15089\n"
     ]
    }
   ],
   "source": [
    "print(len(clusters_df[clusters_df['cross_seg']== True]), len(clusters_df))"
   ]
  },
  {
   "cell_type": "code",
   "execution_count": 64,
   "metadata": {
    "collapsed": false
   },
   "outputs": [
    {
     "name": "stdout",
     "output_type": "stream",
     "text": [
      "574 15089\n"
     ]
    }
   ],
   "source": [
    "print(len(clusters_df[clusters_df['cross_file']== True]), len(clusters_df))"
   ]
  },
  {
   "cell_type": "code",
   "execution_count": 65,
   "metadata": {
    "collapsed": false
   },
   "outputs": [],
   "source": [
    "cross_seg_cids = {s for s, c in enumerate(clusters_stats['cross_seg']) if c == True}"
   ]
  },
  {
   "cell_type": "code",
   "execution_count": 66,
   "metadata": {
    "collapsed": false
   },
   "outputs": [],
   "source": [
    "cross_file_cids = {s for s, c in enumerate(clusters_stats['cross_file']) if c == True}"
   ]
  },
  {
   "cell_type": "code",
   "execution_count": 67,
   "metadata": {
    "collapsed": false
   },
   "outputs": [
    {
     "name": "stdout",
     "output_type": "stream",
     "text": [
      "875\n"
     ]
    }
   ],
   "source": [
    "print(len(set(train_pwords) & set(dev_pwords)))\n",
    "hmm = {int(i) for i in set(train_pwords) & set(dev_pwords)}"
   ]
  },
  {
   "cell_type": "markdown",
   "metadata": {},
   "source": [
    "### View clusters"
   ]
  },
  {
   "cell_type": "code",
   "execution_count": 68,
   "metadata": {
    "collapsed": false
   },
   "outputs": [],
   "source": [
    "view_cols = ['most_common', 'oov', 'purity', 'words', 'depth', 'cross_seg', 'cross_file']"
   ]
  },
  {
   "cell_type": "code",
   "execution_count": 29,
   "metadata": {
    "collapsed": true
   },
   "outputs": [],
   "source": [
    "def sid_to_cid_mapping(clusters_stats):\n",
    "    sid_to_cids = {}\n",
    "    for cid, sids in enumerate(clusters_stats['sids']):\n",
    "        for sid in sids:\n",
    "            if sid not in sid_to_cids:\n",
    "                sid_to_cids[sid] = set()\n",
    "            sid_to_cids[sid] |= {cid}\n",
    "    return sid_to_cids\n",
    "            "
   ]
  },
  {
   "cell_type": "code",
   "execution_count": 70,
   "metadata": {
    "collapsed": false
   },
   "outputs": [],
   "source": [
    "sid_to_cids = sid_to_cid_mapping(clusters_stats)"
   ]
  },
  {
   "cell_type": "code",
   "execution_count": 30,
   "metadata": {
    "collapsed": true
   },
   "outputs": [],
   "source": [
    "def get_cids_for_sid(sid, clusters_stats):\n",
    "    sid_cids = [cid for cid, sids in enumerate(clusters_stats[\"sids\"]) if sid in sids]\n",
    "    return sid_cids"
   ]
  },
  {
   "cell_type": "code",
   "execution_count": 31,
   "metadata": {
    "collapsed": false
   },
   "outputs": [],
   "source": [
    "def find_sids_with_common_pwords(clusters_stats, filter_sids, sid_to_cids):\n",
    "    check_sids = list(filter_sids)\n",
    "    sid_overlap = []\n",
    "    for i in range(len(check_sids)):\n",
    "        if i % 1000 == 0:\n",
    "            print(\"at %d out of %d ... \" %(i, len(check_sids)) )\n",
    "        for j in range(i+1, len(check_sids)):\n",
    "            if check_sids[i] in sid_to_cids and check_sids[j] in sid_to_cids:\n",
    "                t1 = sid_to_cids[check_sids[i]]\n",
    "                t2 = sid_to_cids[check_sids[j]]\n",
    "                if len(t1 & t2) > 0:\n",
    "                    sid_overlap.append((check_sids[i], check_sids[j], len(t1 & t2), t1&t2))\n",
    "    return sid_overlap"
   ]
  },
  {
   "cell_type": "code",
   "execution_count": 32,
   "metadata": {
    "collapsed": true
   },
   "outputs": [],
   "source": [
    "def find_cids_with_common_sids(clusters_stats, filter_sids):\n",
    "    cid_overlap = []\n",
    "    for i in range(len(clusters_stats['sids'])):\n",
    "        if i % 1000 == 0:\n",
    "            print(\"at %d out of %d ... \" %(i, len(clusters_stats['sids'])) )\n",
    "        for j in range(i+1, len(clusters_stats['sids'])):\n",
    "            t1 = set(clusters_stats['sids'][i]) & filter_sids\n",
    "            t2 = set(clusters_stats['sids'][j]) & filter_sids\n",
    "            if len(t1 & t2) > 0:\n",
    "                cid_overlap.append((i, j, len(t1 & t2), t1&t2))\n",
    "    return cid_overlap"
   ]
  },
  {
   "cell_type": "code",
   "execution_count": 74,
   "metadata": {
    "collapsed": false
   },
   "outputs": [],
   "source": [
    "# sid_overlap = find_sids_with_common_pwords(clusters_stats, train_sids, sid_to_cids)"
   ]
  },
  {
   "cell_type": "code",
   "execution_count": 75,
   "metadata": {
    "collapsed": false
   },
   "outputs": [],
   "source": [
    "# cid_overlap = find_cids_with_common_sids(clusters_stats, train_sids)"
   ]
  },
  {
   "cell_type": "code",
   "execution_count": 76,
   "metadata": {
    "collapsed": false
   },
   "outputs": [
    {
     "name": "stdout",
     "output_type": "stream",
     "text": [
      "0.30 & 0.50 & 0.70 & "
     ]
    }
   ],
   "source": [
    "corr = [3, 5, 7]\n",
    "pred = [5, 10, 15]\n",
    "gold = [10, 10, 10]\n",
    "for i in range(3):\n",
    "    print(\"%.2f\" % (corr[i]/gold[i]), end=\" & \")\n",
    "#     print(corr[i]/pred[i])"
   ]
  },
  {
   "cell_type": "code",
   "execution_count": 77,
   "metadata": {
    "collapsed": false
   },
   "outputs": [
    {
     "data": {
      "text/html": [
       "<div>\n",
       "<table border=\"1\" class=\"dataframe\">\n",
       "  <thead>\n",
       "    <tr style=\"text-align: right;\">\n",
       "      <th></th>\n",
       "      <th>n1</th>\n",
       "      <th>n2</th>\n",
       "      <th>dtw</th>\n",
       "      <th>es_sim</th>\n",
       "      <th>es_cnt_sim</th>\n",
       "      <th>en_j_sim</th>\n",
       "      <th>in_uttr</th>\n",
       "      <th>x_call</th>\n",
       "      <th>x_uttr</th>\n",
       "    </tr>\n",
       "  </thead>\n",
       "  <tbody>\n",
       "    <tr>\n",
       "      <th>4361</th>\n",
       "      <td>13465</td>\n",
       "      <td>13466</td>\n",
       "      <td>0.999</td>\n",
       "      <td>1</td>\n",
       "      <td>1</td>\n",
       "      <td>1.000000</td>\n",
       "      <td>False</td>\n",
       "      <td>False</td>\n",
       "      <td>True</td>\n",
       "    </tr>\n",
       "    <tr>\n",
       "      <th>2869</th>\n",
       "      <td>18715</td>\n",
       "      <td>18716</td>\n",
       "      <td>0.999</td>\n",
       "      <td>1</td>\n",
       "      <td>1</td>\n",
       "      <td>0.250000</td>\n",
       "      <td>False</td>\n",
       "      <td>False</td>\n",
       "      <td>True</td>\n",
       "    </tr>\n",
       "    <tr>\n",
       "      <th>12798</th>\n",
       "      <td>12919</td>\n",
       "      <td>12920</td>\n",
       "      <td>0.999</td>\n",
       "      <td>1</td>\n",
       "      <td>1</td>\n",
       "      <td>0.222222</td>\n",
       "      <td>False</td>\n",
       "      <td>False</td>\n",
       "      <td>True</td>\n",
       "    </tr>\n",
       "    <tr>\n",
       "      <th>4709</th>\n",
       "      <td>55845</td>\n",
       "      <td>55846</td>\n",
       "      <td>0.999</td>\n",
       "      <td>1</td>\n",
       "      <td>1</td>\n",
       "      <td>0.200000</td>\n",
       "      <td>False</td>\n",
       "      <td>False</td>\n",
       "      <td>True</td>\n",
       "    </tr>\n",
       "    <tr>\n",
       "      <th>9457</th>\n",
       "      <td>9885</td>\n",
       "      <td>9886</td>\n",
       "      <td>0.999</td>\n",
       "      <td>1</td>\n",
       "      <td>1</td>\n",
       "      <td>0.142857</td>\n",
       "      <td>False</td>\n",
       "      <td>False</td>\n",
       "      <td>True</td>\n",
       "    </tr>\n",
       "  </tbody>\n",
       "</table>\n",
       "</div>"
      ],
      "text/plain": [
       "          n1     n2    dtw  es_sim  es_cnt_sim  en_j_sim in_uttr x_call x_uttr\n",
       "4361   13465  13466  0.999       1           1  1.000000   False  False   True\n",
       "2869   18715  18716  0.999       1           1  0.250000   False  False   True\n",
       "12798  12919  12920  0.999       1           1  0.222222   False  False   True\n",
       "4709   55845  55846  0.999       1           1  0.200000   False  False   True\n",
       "9457    9885   9886  0.999       1           1  0.142857   False  False   True"
      ]
     },
     "execution_count": 77,
     "metadata": {},
     "output_type": "execute_result"
    }
   ],
   "source": [
    "(eval_df.sort_values('dtw', ascending=False, inplace=False)).head(5)"
   ]
  },
  {
   "cell_type": "code",
   "execution_count": 78,
   "metadata": {
    "collapsed": false
   },
   "outputs": [
    {
     "data": {
      "text/plain": [
       "<matplotlib.axes._subplots.AxesSubplot at 0x7f3924639e50>"
      ]
     },
     "execution_count": 78,
     "metadata": {},
     "output_type": "execute_result"
    },
    {
     "data": {
      "image/png": "[encoded data removed]",
      "text/plain": [
       "<matplotlib.figure.Figure at 0x7f392428e550>"
      ]
     },
     "metadata": {},
     "output_type": "display_data"
    }
   ],
   "source": [
    "# clusters_df['purity'].hist()\n",
    "clusters_df.purity[clusters_df.cross_seg == True].hist(alpha=0.5, bins=5)\n",
    "clusters_df.purity[clusters_df.cross_file == True].hist(alpha=0.5, bins=5)"
   ]
  },
  {
   "cell_type": "code",
   "execution_count": 79,
   "metadata": {
    "collapsed": false
   },
   "outputs": [
    {
     "data": {
      "text/plain": [
       "0.33876827491794936"
      ]
     },
     "execution_count": 79,
     "metadata": {},
     "output_type": "execute_result"
    }
   ],
   "source": [
    "clusters_stats['avg_purity']"
   ]
  },
  {
   "cell_type": "code",
   "execution_count": 80,
   "metadata": {
    "collapsed": false
   },
   "outputs": [
    {
     "data": {
      "text/plain": [
       "0.339489235964542"
      ]
     },
     "execution_count": 80,
     "metadata": {},
     "output_type": "execute_result"
    }
   ],
   "source": [
    "calc_avg_purity(clusters_df)"
   ]
  },
  {
   "cell_type": "code",
   "execution_count": 81,
   "metadata": {
    "collapsed": false
   },
   "outputs": [
    {
     "data": {
      "text/plain": [
       "0.59246171967020023"
      ]
     },
     "execution_count": 81,
     "metadata": {},
     "output_type": "execute_result"
    }
   ],
   "source": [
    "calc_avg_purity(clusters_df[clusters_df.same_seg])"
   ]
  },
  {
   "cell_type": "code",
   "execution_count": 82,
   "metadata": {
    "collapsed": false
   },
   "outputs": [
    {
     "data": {
      "text/plain": [
       "574"
      ]
     },
     "execution_count": 82,
     "metadata": {},
     "output_type": "execute_result"
    }
   ],
   "source": [
    "len(clusters_df[(clusters_df.cross_seg ==  True) & (clusters_df.cross_file == True)])"
   ]
  },
  {
   "cell_type": "code",
   "execution_count": 83,
   "metadata": {
    "collapsed": false
   },
   "outputs": [],
   "source": [
    "# calc_avg_purity(clusters_df[(clusters_df.cross_seg == True) & (clusters_df.cross_file == False)])"
   ]
  },
  {
   "cell_type": "code",
   "execution_count": 84,
   "metadata": {
    "collapsed": false
   },
   "outputs": [
    {
     "data": {
      "text/plain": [
       "0.15341525117455729"
      ]
     },
     "execution_count": 84,
     "metadata": {},
     "output_type": "execute_result"
    }
   ],
   "source": [
    "calc_avg_purity(clusters_df[clusters_df.cross_file])"
   ]
  },
  {
   "cell_type": "code",
   "execution_count": 85,
   "metadata": {
    "collapsed": false
   },
   "outputs": [
    {
     "data": {
      "text/plain": [
       "(0.23679828734538536, 0.31767715775246186)"
      ]
     },
     "execution_count": 85,
     "metadata": {},
     "output_type": "execute_result"
    }
   ],
   "source": [
    "calc_avg_purity(clusters_df[clusters_df.is_dev]), calc_avg_purity(clusters_df[clusters_df.is_train])"
   ]
  },
  {
   "cell_type": "code",
   "execution_count": 86,
   "metadata": {
    "collapsed": false
   },
   "outputs": [
    {
     "data": {
      "text/plain": [
       "(574, 15089)"
      ]
     },
     "execution_count": 86,
     "metadata": {},
     "output_type": "execute_result"
    }
   ],
   "source": [
    "len(clusters_df[clusters_df.cross_file]), len(clusters_df)"
   ]
  },
  {
   "cell_type": "code",
   "execution_count": 87,
   "metadata": {
    "collapsed": false
   },
   "outputs": [
    {
     "data": {
      "text/plain": [
       "1420"
      ]
     },
     "execution_count": 87,
     "metadata": {},
     "output_type": "execute_result"
    }
   ],
   "source": [
    "len(clusters_df[clusters_df.is_dev])"
   ]
  },
  {
   "cell_type": "code",
   "execution_count": 88,
   "metadata": {
    "collapsed": false
   },
   "outputs": [
    {
     "data": {
      "text/plain": [
       "546"
      ]
     },
     "execution_count": 88,
     "metadata": {},
     "output_type": "execute_result"
    }
   ],
   "source": [
    "len(clusters_df[(clusters_df.is_dev == True) & (clusters_df.is_train == False)])"
   ]
  },
  {
   "cell_type": "markdown",
   "metadata": {
    "collapsed": true
   },
   "source": [
    "## Calculate duration in dev, test, and training sets"
   ]
  },
  {
   "cell_type": "code",
   "execution_count": 172,
   "metadata": {
    "collapsed": false
   },
   "outputs": [],
   "source": [
    "merged_fa_vads_path = config['es']['es_merge_fa_vad']"
   ]
  },
  {
   "cell_type": "code",
   "execution_count": 173,
   "metadata": {
    "collapsed": true
   },
   "outputs": [],
   "source": [
    "dur = {\"tot\":{}, \"ge500ms\":{}}"
   ]
  },
  {
   "cell_type": "code",
   "execution_count": 174,
   "metadata": {
    "collapsed": false
   },
   "outputs": [],
   "source": [
    "vad_flist = [os.path.join(merged_fa_vads_path, fil) for fil in os.listdir(merged_fa_vads_path) if fil.endswith(\".vad\")]"
   ]
  },
  {
   "cell_type": "code",
   "execution_count": 175,
   "metadata": {
    "collapsed": false
   },
   "outputs": [
    {
     "name": "stdout",
     "output_type": "stream",
     "text": [
      "Completed calculating durations\n"
     ]
    }
   ],
   "source": [
    "for vad_fname in vad_flist:\n",
    "    with open(vad_fname, \"r\") as in_f:\n",
    "        dur_key = int(os.path.splitext(os.path.basename(vad_fname))[0])\n",
    "        dur[\"tot\"][dur_key] = 0\n",
    "        dur[\"ge500ms\"][dur_key] = 0\n",
    "        for line in in_f:\n",
    "            start, end = map(int, line.strip().split())\n",
    "            dur_ms = ((end-start) * 10)\n",
    "            dur[\"tot\"][dur_key] += dur_ms\n",
    "            dur[\"ge500ms\"][dur_key] += (dur_ms if dur_ms >= 500 else 0)\n",
    "print(\"Completed calculating durations\")"
   ]
  },
  {
   "cell_type": "code",
   "execution_count": 33,
   "metadata": {
    "collapsed": true
   },
   "outputs": [],
   "source": [
    "def check_dur(dur_list, startid, endid):\n",
    "    filtered_dur = [(f,d) for f, d in dur_list if f >= startid and f <= endid]\n",
    "    dur = sum([d for f, d in filtered_dur])\n",
    "    return filtered_dur, dur/(1000 * 3600)"
   ]
  },
  {
   "cell_type": "code",
   "execution_count": 177,
   "metadata": {
    "collapsed": false
   },
   "outputs": [
    {
     "name": "stdout",
     "output_type": "stream",
     "text": [
      "total dur: 9.565(hrs), dur >= 500ms: 8.527(hrs)\n",
      "71 71\n"
     ]
    }
   ],
   "source": [
    "# Train set duration\n",
    "train_dur_list, t_dur = check_dur(dur[\"tot\"].items(), 41, 120)\n",
    "train_dur_500ms_list, t_dur_500ms = check_dur(dur[\"ge500ms\"].items(), 41, 120)\n",
    "print(\"total dur: %.3f(hrs), dur >= 500ms: %.3f(hrs)\" %(t_dur, t_dur_500ms))\n",
    "t_files = sum([1 for f, d in train_dur_500ms_list if d > 0])\n",
    "print(t_files, len(train_dur_500ms_list))"
   ]
  },
  {
   "cell_type": "code",
   "execution_count": 178,
   "metadata": {
    "collapsed": false
   },
   "outputs": [
    {
     "name": "stdout",
     "output_type": "stream",
     "text": [
      "total dur: 1.788(hrs), dur >= 500ms: 1.584(hrs)\n",
      "13 13\n"
     ]
    }
   ],
   "source": [
    "# dev set duration\n",
    "dev_dur_list, d_dur = check_dur(dur[\"tot\"].items(), 1, 20)\n",
    "dev_dur_500ms_list, d_dur_500ms = check_dur(dur[\"ge500ms\"].items(), 1, 20)\n",
    "print(\"total dur: %.3f(hrs), dur >= 500ms: %.3f(hrs)\" %(d_dur, d_dur_500ms))\n",
    "d_files = sum([1 for f, d in dev_dur_500ms_list if d > 0])\n",
    "print(d_files, len(dev_dur_500ms_list))"
   ]
  },
  {
   "cell_type": "code",
   "execution_count": 180,
   "metadata": {
    "collapsed": false
   },
   "outputs": [
    {
     "name": "stdout",
     "output_type": "stream",
     "text": [
      "total dur: 6.841(hrs), dur >= 500ms: 6.104(hrs)\n",
      "51 51\n"
     ]
    }
   ],
   "source": [
    "# Train set duration\n",
    "train_dur_list, t_dur = check_dur(dur[\"tot\"].items(), 62, 120)\n",
    "train_dur_500ms_list, t_dur_500ms = check_dur(dur[\"ge500ms\"].items(), 62, 120)\n",
    "print(\"total dur: %.3f(hrs), dur >= 500ms: %.3f(hrs)\" %(t_dur, t_dur_500ms))\n",
    "t_files = sum([1 for f, d in train_dur_500ms_list if d > 0])\n",
    "print(t_files, len(train_dur_500ms_list))"
   ]
  },
  {
   "cell_type": "code",
   "execution_count": 179,
   "metadata": {
    "collapsed": false
   },
   "outputs": [
    {
     "name": "stdout",
     "output_type": "stream",
     "text": [
      "total dur (hrs) 1.351\n",
      "total dur (hrs) 1.218\n",
      "total dur: 1.351(hrs), dur >= 500ms: 1.218(hrs)\n",
      "20 20\n"
     ]
    }
   ],
   "source": [
    "# test set duration\n",
    "print(\"total dur (hrs) %.3f\" % (sum([d for f, d in dur[\"tot\"].items() if f >= 21 and f <= 40]) / (1000 * 3600)))\n",
    "print(\"total dur (hrs) %.3f\" % (sum([d for f, d in dur[\"ge500ms\"].items() if f >= 21 and f <= 40]) / (1000 * 3600)))\n",
    "\n",
    "test_dur_list, ts_dur = check_dur(dur[\"tot\"].items(), 21, 40)\n",
    "test_dur_500ms_list, ts_dur_500ms = check_dur(dur[\"ge500ms\"].items(), 21, 40)\n",
    "print(\"total dur: %.3f(hrs), dur >= 500ms: %.3f(hrs)\" %(ts_dur, ts_dur_500ms))\n",
    "ts_files = sum([1 for f, d in test_dur_500ms_list if d > 0])\n",
    "print(ts_files, len(test_dur_500ms_list))"
   ]
  },
  {
   "cell_type": "code",
   "execution_count": 97,
   "metadata": {
    "collapsed": false
   },
   "outputs": [
    {
     "name": "stdout",
     "output_type": "stream",
     "text": [
      "Total hrs of speech in Callhome: 12.70 (hrs), 11.33 (hrs>500ms)\n"
     ]
    }
   ],
   "source": [
    "print(\"Total hrs of speech in Callhome: %.2f (hrs), %.2f (hrs>500ms)\" % ((t_dur+d_dur+ts_dur), \\\n",
    "                                                    (t_dur_500ms+d_dur_500ms+ts_dur_500ms)))"
   ]
  },
  {
   "cell_type": "code",
   "execution_count": 98,
   "metadata": {
    "collapsed": false
   },
   "outputs": [
    {
     "name": "stdout",
     "output_type": "stream",
     "text": [
      "total dur: 6.841(hrs), dur >= 500ms: 6.104(hrs)\n",
      "51 51\n",
      "total dur: 0.509(hrs), dur >= 500ms: 0.446(hrs)\n",
      "4 4\n"
     ]
    }
   ],
   "source": [
    "# Train subset duration\n",
    "train_dur_list, t_dur = check_dur(dur[\"tot\"].items(), 62, 120)\n",
    "train_dur_500ms_list, t_dur_500ms = check_dur(dur[\"ge500ms\"].items(), 62, 120)\n",
    "print(\"total dur: %.3f(hrs), dur >= 500ms: %.3f(hrs)\" %(t_dur, t_dur_500ms))\n",
    "t_files = sum([1 for f, d in train_dur_500ms_list if d > 0])\n",
    "print(t_files, len(train_dur_500ms_list))\n",
    "\n",
    "# Dev subset duration\n",
    "train_dur_list, t_dur = check_dur(dur[\"tot\"].items(), 81, 84)\n",
    "train_dur_500ms_list, t_dur_500ms = check_dur(dur[\"ge500ms\"].items(), 81, 84)\n",
    "print(\"total dur: %.3f(hrs), dur >= 500ms: %.3f(hrs)\" %(t_dur, t_dur_500ms))\n",
    "t_files = sum([1 for f, d in train_dur_500ms_list if d > 0])\n",
    "print(t_files, len(train_dur_500ms_list))"
   ]
  },
  {
   "cell_type": "markdown",
   "metadata": {},
   "source": [
    "### EACL plots"
   ]
  },
  {
   "cell_type": "code",
   "execution_count": 34,
   "metadata": {
    "collapsed": false
   },
   "outputs": [],
   "source": [
    "def plot_eacl_results(data_array, plotname=\"\", title=\"\"):\n",
    "    alpha =  np.arange(1,11,1)\n",
    "    markers = [\"o\",\"v\",\"o\",\"v\"]\n",
    "    labels = ['oracle:optimistic', 'oracle:realistic', 'our model:optimistic', 'our model:realistic']\n",
    "    colors = [0, 0, 4, 4]\n",
    "#     linestyles = ['--','--', '-','-']\n",
    "    linestyles = ['-','--', '-','--']\n",
    "    \n",
    "    y_tick_values = [0.05, .2, .4, .6, .8, .9, 1]\n",
    "    \n",
    "    fig_size = (9,6)\n",
    "    fig, ax = plt.subplots(figsize=fig_size)\n",
    "    for i, arr_data in enumerate(data_array):\n",
    "        ax.plot(alpha, arr_data, marker=markers[i], color=tableau20[colors[i]], \\\n",
    "                label=labels[i], markersize=10, linestyle=linestyles[i])\n",
    "    #ax.yaxis.set_major_locator(MultipleLocator(.05))\n",
    "    #ax.set_xlabel(r'$K$ predictions per word/pseudoterm', size=28)\n",
    "    ax.set_xlabel('K predictions per word/pseudoterm', size=28)\n",
    "    #ax.set_title(plotname, size=20, y=1.02)\n",
    "    ax.legend(loc='upper center', bbox_to_anchor=(0.5, 0.45),\n",
    "                      ncol=2, fancybox=True, shadow=True, fontsize=20)\n",
    "    #ax.set_ylabel(title, size=28)\n",
    "    #ax.set_xticklabels([\"{0:0.1f}\".format(x) for x in alpha], size=18)\n",
    "    ax.set_xticklabels([\"{0:d}\".format(x) for x in alpha], size=24)\n",
    "    ax.set_xticks(alpha)\n",
    "    ax.set_yticklabels([\"{0:d}%\".format(int(y*100.0)) for y in y_tick_values], size=15)\n",
    "    plt.xticks(rotation=0)\n",
    "    ax.set_xlim(1,10.5)\n",
    "    for tick in ax.yaxis.get_major_ticks():\n",
    "                    tick.label.set_fontsize(24)\n",
    "    \n",
    "#     for label in ax.get_yticklabels()[::]:\n",
    "#         label.set_visible(False)\n",
    "#     ax.get_yticklabels()[-1].set_visible(True)\n",
    "    \n",
    "    ax.yaxis.set_ticks(np.array(y_tick_values))\n",
    "    ax.set_ylim(0,np.max(data_array)+.05)\n",
    "    \n",
    "    fig.tight_layout()\n",
    "    if plotname:\n",
    "        fig.savefig(plotname, format='png', dpi=300)\n",
    "#         fig.savefig(plotname.replace(\"png\",\"pdf\"), format='pdf')\n",
    "    "
   ]
  },
  {
   "cell_type": "code",
   "execution_count": 35,
   "metadata": {
    "collapsed": true
   },
   "outputs": [],
   "source": [
    "gold_seg_train_prec = \\\n",
    "    np.array([0.4776, 0.4147, 0.3731, 0.3438, 0.3217, 0.3032, 0.2881, 0.2748, 0.2635, 0.2543])\n",
    "gold_seg_train_rec = \\\n",
    "    np.array([.4719, 0.6398, 0.7163, 0.7626, 0.7930, 0.8115, 0.8262, 0.8338, 0.8409, 0.8483])\n",
    "gold_seg_dev_prec = \\\n",
    "    np.array([0.3866, 0.3277, 0.2865, 0.2629, 0.2462, 0.2326, 0.2216, 0.2108, 0.2021, 0.1958])\n",
    "gold_seg_dev_rec = \\\n",
    "    np.array([.3384, 0.4475, 0.4873, 0.5197, 0.5441, 0.5614, 0.5755, 0.5808, 0.5872, 0.5952])\n",
    "pseudo_seg_train_prec = \\\n",
    "    np.array([0.4217, 0.3884, 0.3671, 0.3498, 0.3351, 0.3222, 0.3103, 0.2994, 0.2898, 0.2813])\n",
    "pseudo_seg_train_rec = \\\n",
    "    np.array([.1839, 0.3017, 0.3914, 0.4612, 0.5143, 0.5543, 0.5838, 0.6051, 0.6215, 0.6338])\n",
    "pseudo_seg_dev_prec = \\\n",
    "    np.array([0.0789, 0.0710, 0.0643, 0.0628, 0.0588, 0.0562, 0.0544, 0.0537, 0.0526, 0.0512])\n",
    "pseudo_seg_dev_rec = \\\n",
    "    np.array([.0185, 0.0307, 0.0388, 0.0472, 0.0518, 0.0556, 0.0590, 0.0626, 0.0650, 0.0664])\n",
    "#               0.0182, 0.0305, 0.0385, 0.0470, 0.0519, 0.0562, 0.0594, 0.0628, 0.0657, 0.0681\n",
    "\n",
    "gold_call_train_prec = \\\n",
    "    np.array([0.4753, 0.4118, 0.3704, 0.3414, 0.3180, 0.2993, 0.2838, 0.2712, 0.2603, 0.2513])\n",
    "gold_call_train_rec = \\\n",
    "    np.array([.4704, 0.6396, 0.7198, 0.7648, 0.7895, 0.8079, 0.8209, 0.8331, 0.8427, 0.8500])\n",
    "gold_call_dev_prec = \\\n",
    "    np.array([0.3572, 0.3069, 0.2701, 0.2494, 0.2315, 0.2174, 0.2082, 0.1986, 0.1929, 0.1878])\n",
    "gold_call_dev_rec = \\\n",
    "    np.array([.2839, 0.3802, 0.4179, 0.4478, 0.4639, 0.4762, 0.4897, 0.4967, 0.5096, 0.5184])\n",
    "pseudo_call_train_prec = \\\n",
    "    np.array([0.4223, 0.3882, 0.3669, 0.3500, 0.3350, 0.3222, 0.3105, 0.2995, 0.2895, 0.2812])\n",
    "pseudo_call_train_rec = \\\n",
    "    np.array([.1854, 0.3044, 0.3950, 0.4659, 0.5185, 0.5590, 0.5891, 0.6104, 0.6261, 0.6385])\n",
    "pseudo_call_dev_prec = \\\n",
    "    np.array([0.0401, 0.0343, 0.0298, 0.0277, 0.0273, 0.0267, 0.0254, 0.0247, 0.0252, 0.0257])\n",
    "pseudo_call_dev_rec = \\\n",
    "    np.array([.0058, 0.0093, 0.0114, 0.0133, 0.0154, 0.0170, 0.0177, 0.0184, 0.0198, 0.0210])"
   ]
  },
  {
   "cell_type": "code",
   "execution_count": 36,
   "metadata": {
    "collapsed": false
   },
   "outputs": [
    {
     "data": {
      "image/png": "[encoded data removed]",
      "text/plain": [
       "<matplotlib.figure.Figure at 0x7f54d3f74890>"
      ]
     },
     "metadata": {},
     "output_type": "display_data"
    },
    {
     "data": {
      "image/png": "[encoded data removed]",
      "text/plain": [
       "<matplotlib.figure.Figure at 0x7f54d3e56650>"
      ]
     },
     "metadata": {},
     "output_type": "display_data"
    },
    {
     "data": {
      "image/png": "[encoded data removed]",
      "text/plain": [
       "<matplotlib.figure.Figure at 0x7f54d2d28950>"
      ]
     },
     "metadata": {},
     "output_type": "display_data"
    },
    {
     "data": {
      "image/png": "[encoded data removed]",
      "text/plain": [
       "<matplotlib.figure.Figure at 0x7f54d2c30f10>"
      ]
     },
     "metadata": {},
     "output_type": "display_data"
    }
   ],
   "source": [
    "p_train = [gold_seg_train_prec, gold_call_train_prec, pseudo_seg_train_prec, pseudo_call_train_prec]\n",
    "p_dev = [gold_seg_dev_prec, gold_call_dev_prec, pseudo_seg_dev_prec, pseudo_call_dev_prec]\n",
    "\n",
    "r_train = [gold_seg_train_rec, gold_call_train_rec, pseudo_seg_train_rec, pseudo_call_train_rec]\n",
    "r_dev = [gold_seg_dev_rec, gold_call_dev_rec, pseudo_seg_dev_rec, pseudo_call_dev_rec]\n",
    "\n",
    "titles = [\"precision\", \"precision\", \"recall\", \"recall\"]\n",
    "plot_names = [\"p_train.png\", \"p_dev.png\", \"r_train.png\", \"r_dev.png\"]\n",
    "all_arrays = [p_train, p_dev, r_train, r_dev]\n",
    "# all_arrays = [p_dev, r_dev]\n",
    "for i, data_array in enumerate(all_arrays):\n",
    "    plot_eacl_results(data_array, plotname=plot_names[i], title=titles[i])"
   ]
  },
  {
   "cell_type": "code",
   "execution_count": 37,
   "metadata": {
    "collapsed": false
   },
   "outputs": [
    {
     "name": "stdout",
     "output_type": "stream",
     "text": [
      "metric & model & $@K=1$ & $@K=5$\n",
      "prec & gold:seg & 38.66\\% & 24.62\\%\n",
      "prec & gold:call & 35.72\\% & 23.15\\%\n",
      "prec & pseudo:seg & 7.89\\% & 5.88\\%\n",
      "prec & pseudo:call & 4.01\\% & 2.73\\%\n",
      "rec & gold:seg & 33.84\\% & 54.41\\%\n",
      "rec & gold:call & 28.39\\% & 46.39\\%\n",
      "rec & pseudo:seg & 1.85\\% & 5.18\\%\n",
      "rec & pseudo:call & 0.58\\% & 1.54\\%\n",
      "+--------+-------------+---------+---------+\n",
      "| metric |    model    |  $@K=1$ |  $@K=5$ |\n",
      "+--------+-------------+---------+---------+\n",
      "|  prec  |   gold:seg  | 38.66\\% | 24.62\\% |\n",
      "|  prec  |  gold:call  | 35.72\\% | 23.15\\% |\n",
      "|  prec  |  pseudo:seg |  7.89\\% |  5.88\\% |\n",
      "|  prec  | pseudo:call |  4.01\\% |  2.73\\% |\n",
      "|  rec   |   gold:seg  | 33.84\\% | 54.41\\% |\n",
      "|  rec   |  gold:call  | 28.39\\% | 46.39\\% |\n",
      "|  rec   |  pseudo:seg |  1.85\\% |  5.18\\% |\n",
      "|  rec   | pseudo:call |  0.58\\% |  1.54\\% |\n",
      "+--------+-------------+---------+---------+\n"
     ]
    }
   ],
   "source": [
    "p_r_cols = ['metric', 'model', r'$@K=1$', r'$@K=5$']\n",
    "p_r_rows = []\n",
    "models = ['gold:seg', 'gold:call', 'pseudo:seg', 'pseudo:call']\n",
    "for i, p in enumerate(p_dev):\n",
    "    p_r_rows.append([\"prec\", models[i]] + map(lambda v: \"{0:.2f}\\\\%\".format(v*100.0), p[[0, 4]]))\n",
    "\n",
    "for i, r in enumerate(r_dev):\n",
    "    p_r_rows.append([\"rec\", models[i]] + map(lambda v: \"{0:.2f}\\\\%\".format(v*100.0), r[[0, 4]]))\n",
    "\n",
    "mini_print(p_r_cols, p_r_rows)"
   ]
  },
  {
   "cell_type": "code",
   "execution_count": 103,
   "metadata": {
    "collapsed": false
   },
   "outputs": [
    {
     "name": "stdout",
     "output_type": "stream",
     "text": [
      "metric & gold:seg & gold:call & pseudo:seg & pseudo:call\n",
      "prec $@K=1$ & 38.66\\% & 35.72\\% & 7.89\\% & 4.01\\%\n",
      "rec $@K=1$ & 33.84\\% & 28.39\\% & 1.85\\% & 0.58\\%\n",
      "prec $@K=5$ & 24.62\\% & 23.15\\% & 5.88\\% & 2.73\\%\n",
      "rec $@K=5$ & 54.41\\% & 46.39\\% & 5.18\\% & 1.54\\%\n",
      "+-------------+----------+-----------+------------+-------------+\n",
      "|    metric   | gold:seg | gold:call | pseudo:seg | pseudo:call |\n",
      "+-------------+----------+-----------+------------+-------------+\n",
      "| prec $@K=1$ | 38.66\\%  |  35.72\\%  |   7.89\\%   |    4.01\\%   |\n",
      "|  rec $@K=1$ | 33.84\\%  |  28.39\\%  |   1.85\\%   |    0.58\\%   |\n",
      "| prec $@K=5$ | 24.62\\%  |  23.15\\%  |   5.88\\%   |    2.73\\%   |\n",
      "|  rec $@K=5$ | 54.41\\%  |  46.39\\%  |   5.18\\%   |    1.54\\%   |\n",
      "+-------------+----------+-----------+------------+-------------+\n"
     ]
    }
   ],
   "source": [
    "p_r_cols = ['metric', 'gold:seg', 'gold:call', 'pseudo:seg', 'pseudo:call']\n",
    "p_r_rows = []\n",
    "models = []\n",
    "\n",
    "p_1_vals = [p_dev[i][0] for i in range(len(p_dev))]\n",
    "# p_1_vals, map(lambda v: \"{0:.2f}\\\\%\".format(v*100.0), p_1_vals)\n",
    "p_r_rows.append([\"prec $@K=1$\"] + map(lambda v: \"{0:.2f}\\\\%\".format(v*100.0), p_1_vals))\n",
    "\n",
    "r_1_vals = [r_dev[i][0] for i in range(len(r_dev))]\n",
    "p_r_rows.append([\"rec $@K=1$\"] + map(lambda v: \"{0:.2f}\\\\%\".format(v*100.0), r_1_vals))\n",
    "\n",
    "p_5_vals = [p_dev[i][4] for i in range(len(p_dev))]\n",
    "p_r_rows.append([\"prec $@K=5$\"] + map(lambda v: \"{0:.2f}\\\\%\".format(v*100.0), p_5_vals))\n",
    "\n",
    "r_5_vals = [r_dev[i][4] for i in range(len(r_dev))]\n",
    "p_r_rows.append([\"rec $@K=5$\"] + map(lambda v: \"{0:.2f}\\\\%\".format(v*100.0), r_5_vals))\n",
    "\n",
    "\n",
    "mini_print(p_r_cols, p_r_rows)"
   ]
  },
  {
   "cell_type": "code",
   "execution_count": 104,
   "metadata": {
    "collapsed": false
   },
   "outputs": [
    {
     "data": {
      "text/plain": [
       "[0.33839999999999998,\n",
       " 0.28389999999999999,\n",
       " 0.018499999999999999,\n",
       " 0.0057999999999999996]"
      ]
     },
     "execution_count": 104,
     "metadata": {},
     "output_type": "execute_result"
    }
   ],
   "source": [
    "[r_dev[i][0] for i in range(len(r_dev))]"
   ]
  },
  {
   "cell_type": "markdown",
   "metadata": {},
   "source": [
    "## Review translations"
   ]
  },
  {
   "cell_type": "code",
   "execution_count": 105,
   "metadata": {
    "collapsed": true
   },
   "outputs": [],
   "source": [
    "K = 2\n",
    "PRED_NUM = 10\n",
    "MATCH_NUM = 10"
   ]
  },
  {
   "cell_type": "code",
   "execution_count": 106,
   "metadata": {
    "collapsed": false
   },
   "outputs": [],
   "source": [
    "import heapq\n",
    "import textwrap\n",
    "\n",
    "def get_top_segs(eval_dict, num=10, reverse=False):\n",
    "    eval_list = [(s, eval_dict[s]['cp']/eval_dict[s]['t']) for s in eval_dict if \".\" in s \\\n",
    "                if eval_dict[s]['tp'] > 0 and eval_dict[s]['t'] >= 3]\n",
    "    \n",
    "    return sorted(eval_list, reverse= not(reverse), key=lambda t:t[1])[:num]\n",
    "#     if reverse:\n",
    "#         return heapq.nsmallest(num, eval_list, key=lambda t:t[1])\n",
    "#     else:\n",
    "#         return heapq.nlargest(num, eval_list, key=lambda t:t[1])\n",
    "    "
   ]
  },
  {
   "cell_type": "code",
   "execution_count": 133,
   "metadata": {
    "collapsed": false
   },
   "outputs": [],
   "source": [
    "# %%timeit -r1 -n1\n",
    "best_preds = get_top_segs(mt_pseudo_eval_dict['dev'][K], num=PRED_NUM)\n",
    "best_oracle_preds = get_top_segs(mt_gold_eval_dict['dev'][K], num=PRED_NUM)\n",
    "bad_preds = get_top_segs(mt_pseudo_eval_dict['dev'][K], reverse=True, num=PRED_NUM)"
   ]
  },
  {
   "cell_type": "code",
   "execution_count": 163,
   "metadata": {
    "collapsed": false
   },
   "outputs": [],
   "source": [
    "def display_oracle_preds(pred_list, align_dict, pred_dict):\n",
    "    out_cols = [\"gold\", \"oracle pred\"]\n",
    "    out_rows = []\n",
    "    for i, pred in enumerate(pred_list):\n",
    "        sid = pred[0]\n",
    "#         ref_es_words = get_en_words(align_dict, sid, \"es\")\n",
    "#         ref_es_cnt_words = get_en_words(align_dict, sid, \"es_cnt\")\n",
    "        \n",
    "        ref_en_words = get_en_words(align_dict, sid, \"en\")\n",
    "        ref_en_cnt_words = get_en_words(align_dict, sid, \"en_cnt\")\n",
    "        \n",
    "        p_en_words = pred_dict[sid]\n",
    "        p_en_words = [(r\"%s\" % w) if \\\n",
    "                      w in nltk.corpus.stopwords.words(\"english\") else w  for w in p_en_words]\n",
    "#         c_words = set(ref_en_words) & set(p_en_words)\n",
    "        \n",
    "#         ref_es_words = [(r\"\\uline{%s}\" % w) if w in c_words else w for w in ref_en_words]\n",
    "#         ref_es_words = [(r\"\\noindent{{\\color{lightgray} %s}}\" % w) if w not in ref_es_cnt_words else w \\\n",
    "#                         for w in ref_es_words]\n",
    "        ref_en_words = [(r\"%s\" % w) if w not in ref_en_cnt_words and \"uline\" not in w else w \\\n",
    "                        for w in ref_en_words]\n",
    "        \n",
    "#         p_en_words = [(r\"\\uline{%s}\" % w) if w in c_words else w for w in p_en_words]\n",
    "#         out_rows.append([str(i+1), \" \".join(ref_es_words).lower(), \" \".join(ref_en_words).lower(), \n",
    "#                          \" \".join(p_en_words).lower() + \" \\\\\\\\\"])\n",
    "        out_rows.append([\" \".join(ref_en_words).lower(), \" \".join(p_en_words).lower() + \" \\\\\\\\\"])\n",
    "#         print(ref_en_cnt_words)\n",
    "    mini_print(out_cols, out_rows)"
   ]
  },
  {
   "cell_type": "code",
   "execution_count": 164,
   "metadata": {
    "collapsed": false
   },
   "outputs": [],
   "source": [
    "def display_preds(pred_list, align_dict, pred_dict):\n",
    "    out_cols = [\"gold trans\", \"gold pred\", \"model pred\"]\n",
    "    out_rows = []\n",
    "    for i, pred in enumerate(pred_list):\n",
    "        sid = pred[0]\n",
    "        ref_es_words = get_en_words(align_dict, sid, \"es\")\n",
    "        ref_es_cnt_words = get_en_words(align_dict, sid, \"es_cnt\")\n",
    "        \n",
    "        ref_en_words = get_en_words(align_dict, sid, \"en\")\n",
    "        ref_en_cnt_words = get_en_words(align_dict, sid, \"en_cnt\")\n",
    "        \n",
    "        p_en_words = pred_dict[sid]\n",
    "        c_words = set(ref_en_words) & set(p_en_words)\n",
    "        \n",
    "#         ref_es_words = [(r\"\\uline{%s}\" % w) if w in c_words else w for w in ref_en_words]\n",
    "        ref_es_words = [(r\"\\noindent{{\\color{lightgray} %s}}\" % w) if w not in ref_es_cnt_words else w \\\n",
    "                        for w in ref_es_words]\n",
    "        \n",
    "        ref_en_words = [(r\"\\uline{%s}\" % w) if w in c_words else w for w in ref_en_words]\n",
    "        ref_en_words = [(r\"\\noindent{{\\color{lightgray} %s}}\" % w) if w not in ref_en_cnt_words and \"uline\" not in w else w \\\n",
    "                        for w in ref_en_words]\n",
    "        \n",
    "        p_en_words = [(r\"\\uline{%s}\" % w) if w in c_words else w for w in p_en_words]\n",
    "#         out_rows.append([str(i+1), \" \".join(ref_es_words).lower(), \" \".join(ref_en_words).lower(), \n",
    "#                          \" \".join(p_en_words).lower() + \" \\\\\\\\\"])\n",
    "        out_rows.append([\" \".join(ref_es_words).lower(), \" \".join(ref_en_words).lower(), \n",
    "                         \" \".join(p_en_words).lower() + \" \\\\\\\\\"])\n",
    "#         print(ref_en_cnt_words)\n",
    "    mini_print(out_cols, out_rows)"
   ]
  },
  {
   "cell_type": "code",
   "execution_count": 165,
   "metadata": {
    "collapsed": false
   },
   "outputs": [
    {
     "name": "stdout",
     "output_type": "stream",
     "text": [
      "gold trans & gold pred & model pred\n",
      "cómo anda \\noindent{{\\color{lightgray} el}} plan escolar & \\noindent{{\\color{lightgray} how}} \\noindent{{\\color{lightgray} is}} \\noindent{{\\color{lightgray} the}} \\uline{school} plan \\uline{going} & \\uline{school} \\uline{going} \\\\\n",
      "dile \\noindent{{\\color{lightgray} que}} \\noindent{{\\color{lightgray} le}} mando saludos & tell \\noindent{{\\color{lightgray} him}} \\noindent{{\\color{lightgray} that}} \\noindent{{\\color{lightgray} i}} \\uline{say} \\uline{hi} & \\uline{say} \\uline{hi} \\\\\n",
      "\\noindent{{\\color{lightgray} sí}} \\noindent{{\\color{lightgray} con}} dos dientes menos & \\uline{yeah} \\noindent{{\\color{lightgray} with}} two \\uline{teeth} less & denture \\uline{yeah} \\uline{teeth} \\\\\n",
      "\\noindent{{\\color{lightgray} o}} dejando \\noindent{{\\color{lightgray} o}} dejando dos días & \\noindent{{\\color{lightgray} or}} giving \\noindent{{\\color{lightgray} or}} giving \\uline{two} \\uline{days} & \\uline{days} \\uline{two} \\\\\n",
      "\\noindent{{\\color{lightgray} no}} \\noindent{{\\color{lightgray} desde}} acá \\noindent{{\\color{lightgray} no}} \\noindent{{\\color{lightgray} no}} pues \\noindent{{\\color{lightgray} tú}} sabes \\noindent{{\\color{lightgray} que}} parís \\noindent{{\\color{lightgray} es}} complicado \\noindent{{\\color{lightgray} eso}} \\noindent{{\\color{lightgray} no}} \\noindent{{\\color{lightgray} es}} \\noindent{{\\color{lightgray} como}} aquí & \\noindent{{\\color{lightgray} no}} \\noindent{{\\color{lightgray} not}} \\noindent{{\\color{lightgray} from}} \\noindent{{\\color{lightgray} here}} \\noindent{{\\color{lightgray} no}} \\noindent{{\\color{lightgray} no}} \\uline{well} \\noindent{{\\color{lightgray} you}} \\uline{know} \\noindent{{\\color{lightgray} that}} paris \\noindent{{\\color{lightgray} is}} complicated \\noindent{{\\color{lightgray} it}} \\noindent{{\\color{lightgray} not}} like \\noindent{{\\color{lightgray} here}} & think randy married \\uline{well} see fine \\uline{know} \\\\\n",
      "dieciocho cero \\noindent{{\\color{lightgray} uno}} & eighteen zero \\uline{one} & two \\uline{one} school going school going miami florida \\\\\n",
      "ah \\noindent{{\\color{lightgray} ya}} okey veintitrés \\noindent{{\\color{lightgray} de}} noviembre \\noindent{{\\color{lightgray} no}} & ah yeah okay \\uline{twenty} third \\noindent{{\\color{lightgray} of}} \\uline{november} \\noindent{{\\color{lightgray} no}} & \\uline{twenty} \\uline{november} \\\\\n",
      "\\noindent{{\\color{lightgray} este}} \\noindent{{\\color{lightgray} fue}} \\noindent{{\\color{lightgray} muy}} \\noindent{{\\color{lightgray} muy}} duro \\noindent{{\\color{lightgray} y}} sólo dios \\noindent{{\\color{lightgray} es}} \\noindent{{\\color{lightgray} el}} \\noindent{{\\color{lightgray} que}} \\noindent{{\\color{lightgray} nos}} puede dar \\noindent{{\\color{lightgray} esa}} fortaleza \\noindent{{\\color{lightgray} que}} necesitamos \\noindent{{\\color{lightgray} y}} \\noindent{{\\color{lightgray} la}} necesitamos \\noindent{{\\color{lightgray} para}} seguir adelante verdad \\noindent{{\\color{lightgray} porque}} <background> & \\noindent{{\\color{lightgray} it}} \\noindent{{\\color{lightgray} was}} \\noindent{{\\color{lightgray} very}} \\noindent{{\\color{lightgray} very}} tough \\noindent{{\\color{lightgray} and}} \\noindent{{\\color{lightgray} only}} god \\noindent{{\\color{lightgray} can}} give \\noindent{{\\color{lightgray} the}} \\uline{strength} \\noindent{{\\color{lightgray} that}} \\uline{need} \\noindent{{\\color{lightgray} that}} \\noindent{{\\color{lightgray} that}} \\noindent{{\\color{lightgray} we}} \\uline{need} \\noindent{{\\color{lightgray} to}} move forward \\noindent{{\\color{lightgray} because}} really & hang asking \\uline{need} eh \\uline{need} eh \\uline{strength} look \\uline{strength} look \\uline{need} eh \\\\\n",
      "bueno aquí \\noindent{{\\color{lightgray} en}} \\noindent{{\\color{lightgray} el}} \\noindent{{\\color{lightgray} en}} \\noindent{{\\color{lightgray} el}} \\noindent{{\\color{lightgray} en}} \\noindent{{\\color{lightgray} el}} co chama \\noindent{{\\color{lightgray} tienes}} \\noindent{{\\color{lightgray} que}} llamar \\noindent{{\\color{lightgray} a}} \\noindent{{\\color{lightgray} la}} universidad central \\noindent{{\\color{lightgray} de}} venezuela \\noindent{{\\color{lightgray} y}} \\noindent{{\\color{lightgray} que}} \\noindent{{\\color{lightgray} te}} den \\noindent{{\\color{lightgray} un}} modem & well \\noindent{{\\color{lightgray} here}} \\noindent{{\\color{lightgray} in}} \\noindent{{\\color{lightgray} the}} \\noindent{{\\color{lightgray} in}} \\noindent{{\\color{lightgray} the}} \\noindent{{\\color{lightgray} in}} \\noindent{{\\color{lightgray} the}} chama chama \\noindent{{\\color{lightgray} have}} \\noindent{{\\color{lightgray} to}} \\uline{call} \\noindent{{\\color{lightgray} the}} central \\uline{university} \\noindent{{\\color{lightgray} of}} venezuela \\noindent{{\\color{lightgray} and}} ask \\noindent{{\\color{lightgray} a}} \\uline{modem} & mmm wow \\uline{modem} \\uline{call} give since needs \\uline{modem} \\uline{university} \\\\\n",
      "\\noindent{{\\color{lightgray} ya}} \\noindent{{\\color{lightgray} y}} entonces \\noindent{{\\color{lightgray} que}} \\noindent{{\\color{lightgray} te}} escribieran line <noise> \\noindent{{\\color{lightgray} a}} tal número line <noise> & yeah \\noindent{{\\color{lightgray} and}} \\noindent{{\\color{lightgray} then}} \\noindent{{\\color{lightgray} to}} write \\noindent{{\\color{lightgray} you}} \\noindent{{\\color{lightgray} to}} \\noindent{{\\color{lightgray} that}} \\uline{number} & num \\uline{number} dad take \\\\\n",
      "+-------------------------------------------------------------------------------------------------------------------------------------------------------------------------------------------------------------------------------------------------------------------------------------------------------------------------------------------------------------------------------------------------------------------------------------------------------------------------------------------------------------------------------------------------------------------------------------------------------------------------------------------+------------------------------------------------------------------------------------------------------------------------------------------------------------------------------------------------------------------------------------------------------------------------------------------------------------------------------------------------------------------------------------------------------------------------------------------------------------------------------------------------------------------------------------------------------------------------------------------------+------------------------------------------------------------------------------------------------------------+\n",
      "|                                                                                                                                                                                                                                                                                                                 gold trans                                                                                                                                                                                                                                                                                                                |                                                                                                                                                                                                                                                                                           gold pred                                                                                                                                                                                                                                                                                            |                                                 model pred                                                 |\n",
      "+-------------------------------------------------------------------------------------------------------------------------------------------------------------------------------------------------------------------------------------------------------------------------------------------------------------------------------------------------------------------------------------------------------------------------------------------------------------------------------------------------------------------------------------------------------------------------------------------------------------------------------------------+------------------------------------------------------------------------------------------------------------------------------------------------------------------------------------------------------------------------------------------------------------------------------------------------------------------------------------------------------------------------------------------------------------------------------------------------------------------------------------------------------------------------------------------------------------------------------------------------+------------------------------------------------------------------------------------------------------------+\n",
      "|                                                                                                                                                                                                                                                                                          cómo anda \\noindent{{\\color{lightgray} el}} plan escolar                                                                                                                                                                                                                                                                                         |                                                                                                                                                                                                                           \\noindent{{\\color{lightgray} how}} \\noindent{{\\color{lightgray} is}} \\noindent{{\\color{lightgray} the}} \\uline{school} plan \\uline{going}                                                                                                                                                                                                                            |                                      \\uline{school} \\uline{going} \\\\                                       |\n",
      "|                                                                                                                                                                                                                                                                          dile \\noindent{{\\color{lightgray} que}} \\noindent{{\\color{lightgray} le}} mando saludos                                                                                                                                                                                                                                                                          |                                                                                                                                                                                                                              tell \\noindent{{\\color{lightgray} him}} \\noindent{{\\color{lightgray} that}} \\noindent{{\\color{lightgray} i}} \\uline{say} \\uline{hi}                                                                                                                                                                                                                               |                                         \\uline{say} \\uline{hi} \\\\                                          |\n",
      "|                                                                                                                                                                                                                                                                           \\noindent{{\\color{lightgray} sí}} \\noindent{{\\color{lightgray} con}} dos dientes menos                                                                                                                                                                                                                                                                          |                                                                                                                                                                                                                                                            \\uline{yeah} \\noindent{{\\color{lightgray} with}} two \\uline{teeth} less                                                                                                                                                                                                                                                             |                                   denture \\uline{yeah} \\uline{teeth} \\\\                                    |\n",
      "|                                                                                                                                                                                                                                                                         \\noindent{{\\color{lightgray} o}} dejando \\noindent{{\\color{lightgray} o}} dejando dos días                                                                                                                                                                                                                                                                        |                                                                                                                                                                                                                                           \\noindent{{\\color{lightgray} or}} giving \\noindent{{\\color{lightgray} or}} giving \\uline{two} \\uline{days}                                                                                                                                                                                                                                           |                                        \\uline{days} \\uline{two} \\\\                                         |\n",
      "|                                                                                                     \\noindent{{\\color{lightgray} no}} \\noindent{{\\color{lightgray} desde}} acá \\noindent{{\\color{lightgray} no}} \\noindent{{\\color{lightgray} no}} pues \\noindent{{\\color{lightgray} tú}} sabes \\noindent{{\\color{lightgray} que}} parís \\noindent{{\\color{lightgray} es}} complicado \\noindent{{\\color{lightgray} eso}} \\noindent{{\\color{lightgray} no}} \\noindent{{\\color{lightgray} es}} \\noindent{{\\color{lightgray} como}} aquí                                                                                                     |                                                      \\noindent{{\\color{lightgray} no}} \\noindent{{\\color{lightgray} not}} \\noindent{{\\color{lightgray} from}} \\noindent{{\\color{lightgray} here}} \\noindent{{\\color{lightgray} no}} \\noindent{{\\color{lightgray} no}} \\uline{well} \\noindent{{\\color{lightgray} you}} \\uline{know} \\noindent{{\\color{lightgray} that}} paris \\noindent{{\\color{lightgray} is}} complicated \\noindent{{\\color{lightgray} it}} \\noindent{{\\color{lightgray} not}} like \\noindent{{\\color{lightgray} here}}                                                       |                         think randy married \\uline{well} see fine \\uline{know} \\\\                          |\n",
      "|                                                                                                                                                                                                                                                                                             dieciocho cero \\noindent{{\\color{lightgray} uno}}                                                                                                                                                                                                                                                                                             |                                                                                                                                                                                                                                                                                   eighteen zero \\uline{one}                                                                                                                                                                                                                                                                                    |                         two \\uline{one} school going school going miami florida \\\\                         |\n",
      "|                                                                                                                                                                                                                                                     ah \\noindent{{\\color{lightgray} ya}} okey veintitrés \\noindent{{\\color{lightgray} de}} noviembre \\noindent{{\\color{lightgray} no}}                                                                                                                                                                                                                                                    |                                                                                                                                                                                                                                     ah yeah okay \\uline{twenty} third \\noindent{{\\color{lightgray} of}} \\uline{november} \\noindent{{\\color{lightgray} no}}                                                                                                                                                                                                                                     |                                     \\uline{twenty} \\uline{november} \\\\                                     |\n",
      "| \\noindent{{\\color{lightgray} este}} \\noindent{{\\color{lightgray} fue}} \\noindent{{\\color{lightgray} muy}} \\noindent{{\\color{lightgray} muy}} duro \\noindent{{\\color{lightgray} y}} sólo dios \\noindent{{\\color{lightgray} es}} \\noindent{{\\color{lightgray} el}} \\noindent{{\\color{lightgray} que}} \\noindent{{\\color{lightgray} nos}} puede dar \\noindent{{\\color{lightgray} esa}} fortaleza \\noindent{{\\color{lightgray} que}} necesitamos \\noindent{{\\color{lightgray} y}} \\noindent{{\\color{lightgray} la}} necesitamos \\noindent{{\\color{lightgray} para}} seguir adelante verdad \\noindent{{\\color{lightgray} porque}} <background> | \\noindent{{\\color{lightgray} it}} \\noindent{{\\color{lightgray} was}} \\noindent{{\\color{lightgray} very}} \\noindent{{\\color{lightgray} very}} tough \\noindent{{\\color{lightgray} and}} \\noindent{{\\color{lightgray} only}} god \\noindent{{\\color{lightgray} can}} give \\noindent{{\\color{lightgray} the}} \\uline{strength} \\noindent{{\\color{lightgray} that}} \\uline{need} \\noindent{{\\color{lightgray} that}} \\noindent{{\\color{lightgray} that}} \\noindent{{\\color{lightgray} we}} \\uline{need} \\noindent{{\\color{lightgray} to}} move forward \\noindent{{\\color{lightgray} because}} really | hang asking \\uline{need} eh \\uline{need} eh \\uline{strength} look \\uline{strength} look \\uline{need} eh \\\\ |\n",
      "|                    bueno aquí \\noindent{{\\color{lightgray} en}} \\noindent{{\\color{lightgray} el}} \\noindent{{\\color{lightgray} en}} \\noindent{{\\color{lightgray} el}} \\noindent{{\\color{lightgray} en}} \\noindent{{\\color{lightgray} el}} co chama \\noindent{{\\color{lightgray} tienes}} \\noindent{{\\color{lightgray} que}} llamar \\noindent{{\\color{lightgray} a}} \\noindent{{\\color{lightgray} la}} universidad central \\noindent{{\\color{lightgray} de}} venezuela \\noindent{{\\color{lightgray} y}} \\noindent{{\\color{lightgray} que}} \\noindent{{\\color{lightgray} te}} den \\noindent{{\\color{lightgray} un}} modem                   |                     well \\noindent{{\\color{lightgray} here}} \\noindent{{\\color{lightgray} in}} \\noindent{{\\color{lightgray} the}} \\noindent{{\\color{lightgray} in}} \\noindent{{\\color{lightgray} the}} \\noindent{{\\color{lightgray} in}} \\noindent{{\\color{lightgray} the}} chama chama \\noindent{{\\color{lightgray} have}} \\noindent{{\\color{lightgray} to}} \\uline{call} \\noindent{{\\color{lightgray} the}} central \\uline{university} \\noindent{{\\color{lightgray} of}} venezuela \\noindent{{\\color{lightgray} and}} ask \\noindent{{\\color{lightgray} a}} \\uline{modem}                     |          mmm wow \\uline{modem} \\uline{call} give since needs \\uline{modem} \\uline{university} \\\\           |\n",
      "|                                                                                                                                                                                                     \\noindent{{\\color{lightgray} ya}} \\noindent{{\\color{lightgray} y}} entonces \\noindent{{\\color{lightgray} que}} \\noindent{{\\color{lightgray} te}} escribieran line <noise> \\noindent{{\\color{lightgray} a}} tal número line <noise>                                                                                                                                                                                                    |                                                                                                                                                                          yeah \\noindent{{\\color{lightgray} and}} \\noindent{{\\color{lightgray} then}} \\noindent{{\\color{lightgray} to}} write \\noindent{{\\color{lightgray} you}} \\noindent{{\\color{lightgray} to}} \\noindent{{\\color{lightgray} that}} \\uline{number}                                                                                                                                                                           |                                       num \\uline{number} dad take \\\\                                       |\n",
      "+-------------------------------------------------------------------------------------------------------------------------------------------------------------------------------------------------------------------------------------------------------------------------------------------------------------------------------------------------------------------------------------------------------------------------------------------------------------------------------------------------------------------------------------------------------------------------------------------------------------------------------------------+------------------------------------------------------------------------------------------------------------------------------------------------------------------------------------------------------------------------------------------------------------------------------------------------------------------------------------------------------------------------------------------------------------------------------------------------------------------------------------------------------------------------------------------------------------------------------------------------+------------------------------------------------------------------------------------------------------------+\n"
     ]
    }
   ],
   "source": [
    "display_preds(best_preds, align_dict, mt_pseudo_pred_dict[K])"
   ]
  },
  {
   "cell_type": "code",
   "execution_count": 166,
   "metadata": {
    "collapsed": false
   },
   "outputs": [
    {
     "data": {
      "text/plain": [
       "True"
      ]
     },
     "execution_count": 166,
     "metadata": {},
     "output_type": "execute_result"
    }
   ],
   "source": [
    "\"said\" not in nltk.corpus.stopwords.words(\"english\")"
   ]
  },
  {
   "cell_type": "code",
   "execution_count": null,
   "metadata": {
    "collapsed": false
   },
   "outputs": [],
   "source": []
  },
  {
   "cell_type": "code",
   "execution_count": 169,
   "metadata": {
    "collapsed": false
   },
   "outputs": [
    {
     "name": "stdout",
     "output_type": "stream",
     "text": [
      "gold & oracle pred\n",
      "how is the school plan going & things ´ whoa mean plan school \\\\\n",
      "tell him that i say hi & tell send best says \\\\\n",
      "yeah with two teeth less & two teeth less least \\\\\n",
      "or giving or giving two days & improves apart improves apart two days \\\\\n",
      "no not from here no no well you know that paris is complicated it not like here & couldn back well know paris complicated inhabitants feels \\\\\n",
      "eighteen zero one & eighteenth eighteen zero \\\\\n",
      "ah yeah okay twenty third of november no & oh ah okay another three fourth november \\\\\n",
      "it was very very tough and only god can give the strength that need that that we need to move forward because really & image agencies alone minute god cannot sentence give fortitude really us really us affairs keep ahead forward really yes felt yes \\\\\n",
      "well here in the in the in the chama chama have to call the central university of venezuela and ask a modem & good well inhabitants feels co girl chama call university central venezuela give modem \\\\\n",
      "yeah and then to write you to that number & things played many else hello grandma long yes number many else hello grandma \\\\\n",
      "+----------------------------------------------------------------------------------------------------------------------+--------------------------------------------------------------------------------------------------------------------------------------+\n",
      "|                                                         gold                                                         |                                                             oracle pred                                                              |\n",
      "+----------------------------------------------------------------------------------------------------------------------+--------------------------------------------------------------------------------------------------------------------------------------+\n",
      "|                                             how is the school plan going                                             |                                                  things ´ whoa mean plan school \\\\                                                   |\n",
      "|                                                tell him that i say hi                                                |                                                        tell send best says \\\\                                                        |\n",
      "|                                               yeah with two teeth less                                               |                                                       two teeth less least \\\\                                                        |\n",
      "|                                             or giving or giving two days                                             |                                              improves apart improves apart two days \\\\                                               |\n",
      "|                   no not from here no no well you know that paris is complicated it not like here                    |                                     couldn back well know paris complicated inhabitants feels \\\\                                     |\n",
      "|                                                  eighteen zero one                                                   |                                                     eighteenth eighteen zero \\\\                                                      |\n",
      "|                                       ah yeah okay twenty third of november no                                       |                                             oh ah okay another three fourth november \\\\                                              |\n",
      "| it was very very tough and only god can give the strength that need that that we need to move forward because really | image agencies alone minute god cannot sentence give fortitude really us really us affairs keep ahead forward really yes felt yes \\\\ |\n",
      "|     well here in the in the in the chama chama have to call the central university of venezuela and ask a modem      |                      good well inhabitants feels co girl chama call university central venezuela give modem \\\\                       |\n",
      "|                                      yeah and then to write you to that number                                       |                           things played many else hello grandma long yes number many else hello grandma \\\\                           |\n",
      "+----------------------------------------------------------------------------------------------------------------------+--------------------------------------------------------------------------------------------------------------------------------------+\n"
     ]
    },
    {
     "name": "stderr",
     "output_type": "stream",
     "text": [
      "/disk/scratch/s1444673/zero/miniconda2/envs/zrt/lib/python2.7/site-packages/ipykernel/__main__.py:13: UnicodeWarning: Unicode equal comparison failed to convert both arguments to Unicode - interpreting them as being unequal\n"
     ]
    }
   ],
   "source": [
    "display_oracle_preds(best_preds, align_dict, mt_gold_pred_dict[K])"
   ]
  },
  {
   "cell_type": "code",
   "execution_count": 110,
   "metadata": {
    "collapsed": false
   },
   "outputs": [
    {
     "data": {
      "text/plain": [
       "False"
      ]
     },
     "execution_count": 110,
     "metadata": {},
     "output_type": "execute_result"
    }
   ],
   "source": [
    "\"school\" in nltk.corpus.stopwords.words('english')"
   ]
  },
  {
   "cell_type": "code",
   "execution_count": 111,
   "metadata": {
    "collapsed": false
   },
   "outputs": [
    {
     "name": "stdout",
     "output_type": "stream",
     "text": [
      "gold trans & gold pred & model pred\n",
      "\\noindent{{\\color{lightgray} pero}} \\noindent{{\\color{lightgray} esa}} \\noindent{{\\color{lightgray} es}} \\noindent{{\\color{lightgray} mi}} planificación inicial \\noindent{{\\color{lightgray} no}} sé si irá \\noindent{{\\color{lightgray} a}} ocurrir así voy \\noindent{{\\color{lightgray} a}} hacer \\noindent{{\\color{lightgray} todo}} \\noindent{{\\color{lightgray} lo}} posible \\noindent{{\\color{lightgray} para}} \\noindent{{\\color{lightgray} que}} ocurra \\noindent{{\\color{lightgray} y}} bueno pues \\noindent{{\\color{lightgray} ya}} veremos \\noindent{{\\color{lightgray} qué}} \\noindent{{\\color{lightgray} es}} \\noindent{{\\color{lightgray} lo}} \\noindent{{\\color{lightgray} que}} pasa \\noindent{{\\color{lightgray} no}} \\noindent{{\\color{lightgray} es}} \\noindent{{\\color{lightgray} mucho}} tiempo & \\noindent{{\\color{lightgray} but}} \\noindent{{\\color{lightgray} that}} tentative tentative plan \\noindent{{\\color{lightgray} don}} know \\noindent{{\\color{lightgray} if}} \\noindent{{\\color{lightgray} do}} \\noindent{{\\color{lightgray} it}} \\noindent{{\\color{lightgray} it}} going \\noindent{{\\color{lightgray} to}} try hard \\noindent{{\\color{lightgray} but}} \\noindent{{\\color{lightgray} we}} see \\noindent{{\\color{lightgray} what}} happens happens \\noindent{{\\color{lightgray} not}} \\noindent{{\\color{lightgray} a}} long time & choose playing choose playing \\\\\n",
      "si \\noindent{{\\color{lightgray} cuando}} \\noindent{{\\color{lightgray} fue}} \\noindent{{\\color{lightgray} a}} méxico años atrás llegó hablando igual \\noindent{{\\color{lightgray} como}} \\noindent{{\\color{lightgray} los}} mexicanos ahí pues ay si \\noindent{{\\color{lightgray} nos}} reíamos \\noindent{{\\color{lightgray} tanto}} \\noindent{{\\color{lightgray} nosotros}} \\noindent{{\\color{lightgray} fue}} tan cómico & \\noindent{{\\color{lightgray} if}} \\noindent{{\\color{lightgray} when}} went \\noindent{{\\color{lightgray} to}} mexico \\noindent{{\\color{lightgray} few}} years back returned talking like like mexicans mexicans oh well oh yeah \\noindent{{\\color{lightgray} we}} laughed \\noindent{{\\color{lightgray} so}} hard \\noindent{{\\color{lightgray} was}} \\noindent{{\\color{lightgray} so}} funny & exception seems \\\\\n",
      "ahá okey entonces \\noindent{{\\color{lightgray} yo}} voy \\noindent{{\\color{lightgray} a}} mandársela mañana \\noindent{{\\color{lightgray} a}} matox & aha ok \\noindent{{\\color{lightgray} then}} \\noindent{{\\color{lightgray} i}} \\noindent{{\\color{lightgray} will}} \\noindent{{\\color{lightgray} will}} send matox tomorrow & cha pervert consciously purpose eighty one ah told like three monica says everything account great early \\\\\n",
      "entonces \\noindent{{\\color{lightgray} me}} dice \\noindent{{\\color{lightgray} que}} \\noindent{{\\color{lightgray} en}} \\noindent{{\\color{lightgray} la}} \\noindent{{\\color{lightgray} otra}} vida va \\noindent{{\\color{lightgray} a}} seguir \\noindent{{\\color{lightgray} con}} \\noindent{{\\color{lightgray} la}} misma esposa <laugh> & \\noindent{{\\color{lightgray} so}} tells \\noindent{{\\color{lightgray} me}} \\noindent{{\\color{lightgray} that}} \\noindent{{\\color{lightgray} in}} another life \\noindent{{\\color{lightgray} will}} \\noindent{{\\color{lightgray} will}} stay \\noindent{{\\color{lightgray} with}} \\noindent{{\\color{lightgray} the}} \\noindent{{\\color{lightgray} same}} wife & see bad firm operation \\\\\n",
      "ajá \\noindent{{\\color{lightgray} ya}} claro claro \\noindent{{\\color{lightgray} pero}} \\noindent{{\\color{lightgray} hay}} algún problema \\noindent{{\\color{lightgray} de}} \\noindent{{\\color{lightgray} que}} \\noindent{{\\color{lightgray} por}} ejemplo \\noindent{{\\color{lightgray} te}} pueda mandar \\noindent{{\\color{lightgray} algo}} \\noindent{{\\color{lightgray} de}} plata \\noindent{{\\color{lightgray} a}} través \\noindent{{\\color{lightgray} del}} correo & aha okay sure sure \\noindent{{\\color{lightgray} but}} \\noindent{{\\color{lightgray} is}} \\noindent{{\\color{lightgray} there}} \\noindent{{\\color{lightgray} any}} problem \\noindent{{\\color{lightgray} of}} \\noindent{{\\color{lightgray} for}} example \\noindent{{\\color{lightgray} being}} able send \\noindent{{\\color{lightgray} some}} money \\noindent{{\\color{lightgray} through}} \\noindent{{\\color{lightgray} the}} mail & someone eh \\\\\n",
      "eh creo \\noindent{{\\color{lightgray} que}} \\noindent{{\\color{lightgray} la}} llamada \\noindent{{\\color{lightgray} era}} \\noindent{{\\color{lightgray} para}} dos personas \\noindent{{\\color{lightgray} no}} \\noindent{{\\color{lightgray} mi}} amor & eh think \\noindent{{\\color{lightgray} that}} \\noindent{{\\color{lightgray} the}} call \\noindent{{\\color{lightgray} was}} \\noindent{{\\color{lightgray} for}} two people \\noindent{{\\color{lightgray} no}} \\noindent{{\\color{lightgray} my}} love & dialect language like ah \\\\\n",
      "\\noindent{{\\color{lightgray} a}} ver si después \\noindent{{\\color{lightgray} otra}} vez graban \\noindent{{\\color{lightgray} otro}} casette & let see \\noindent{{\\color{lightgray} if}} later record another cassette \\noindent{{\\color{lightgray} again}} \\noindent{{\\color{lightgray} again}} & ah earlier next day \\\\\n",
      "bien \\noindent{{\\color{lightgray} no}} \\noindent{{\\color{lightgray} ha}} \\noindent{{\\color{lightgray} tenido}} problema \\noindent{{\\color{lightgray} de}} \\noindent{{\\color{lightgray} nada}} & fine hasn \\noindent{{\\color{lightgray} had}} \\noindent{{\\color{lightgray} any}} problems & great oh \\\\\n",
      "ahá bien \\noindent{{\\color{lightgray} ya}} \\noindent{{\\color{lightgray} te}} entendí \\noindent{{\\color{lightgray} mi}} amor \\noindent{{\\color{lightgray} no}} \\noindent{{\\color{lightgray} te}} preocupes \\noindent{{\\color{lightgray} yo}} \\noindent{{\\color{lightgray} se}} \\noindent{{\\color{lightgray} lo}} pido \\noindent{{\\color{lightgray} a}} freddy \\noindent{{\\color{lightgray} de}} salud cómo \\noindent{{\\color{lightgray} estás}} \\noindent{{\\color{lightgray} mi}} hijo & oh fine \\noindent{{\\color{lightgray} i}} understand \\noindent{{\\color{lightgray} my}} love \\noindent{{\\color{lightgray} don}} worry \\noindent{{\\color{lightgray} i}} ask freddy \\noindent{{\\color{lightgray} it}} \\noindent{{\\color{lightgray} how}} \\noindent{{\\color{lightgray} your}} health \\noindent{{\\color{lightgray} my}} son & think rest \\\\\n",
      "ve \\noindent{{\\color{lightgray} tú}} \\noindent{{\\color{lightgray} a}} saber si \\noindent{{\\color{lightgray} sea}} cierto debe ser \\noindent{{\\color{lightgray} porque}} \\noindent{{\\color{lightgray} yo}} \\noindent{{\\color{lightgray} por}} ejemplo \\noindent{{\\color{lightgray} en}} \\noindent{{\\color{lightgray} la}} noche si \\noindent{{\\color{lightgray} yo}} \\noindent{{\\color{lightgray} no}} salgo \\noindent{{\\color{lightgray} a}} darle champú \\noindent{{\\color{lightgray} de}} cariño acariciarle hablarle bonito \\noindent{{\\color{lightgray} el}} perro \\noindent{{\\color{lightgray} no}} \\noindent{{\\color{lightgray} se}} duerme anda asomándose \\noindent{{\\color{lightgray} por}} \\noindent{{\\color{lightgray} las}} ventanas desesperado ladrando \\noindent{{\\color{lightgray} y}} \\noindent{{\\color{lightgray} todo}} \\noindent{{\\color{lightgray} ya}} \\noindent{{\\color{lightgray} no}} \\noindent{{\\color{lightgray} más}} salgo \\noindent{{\\color{lightgray} lo}} acaricio \\noindent{{\\color{lightgray} y}} \\noindent{{\\color{lightgray} se}} duerme aunque \\noindent{{\\color{lightgray} no}} \\noindent{{\\color{lightgray} lo}} creas & see \\noindent{{\\color{lightgray} who}} \\noindent{{\\color{lightgray} who}} knows \\noindent{{\\color{lightgray} if}} \\noindent{{\\color{lightgray} it}} true \\noindent{{\\color{lightgray} should}} \\noindent{{\\color{lightgray} be}} \\noindent{{\\color{lightgray} because}} \\noindent{{\\color{lightgray} i}} \\noindent{{\\color{lightgray} for}} example \\noindent{{\\color{lightgray} if}} \\noindent{{\\color{lightgray} i}} \\noindent{{\\color{lightgray} don}} go \\noindent{{\\color{lightgray} out}} \\noindent{{\\color{lightgray} at}} \\noindent{{\\color{lightgray} at}} night \\noindent{{\\color{lightgray} to}} shower shower \\noindent{{\\color{lightgray} him}} \\noindent{{\\color{lightgray} with}} love caresses sweet talk \\noindent{{\\color{lightgray} the}} dog \\noindent{{\\color{lightgray} will}} \\noindent{{\\color{lightgray} not}} sleep goes goes around around peeking \\noindent{{\\color{lightgray} through}} windows desperate \\noindent{{\\color{lightgray} and}} everything \\noindent{{\\color{lightgray} just}} go \\noindent{{\\color{lightgray} out}} caress \\noindent{{\\color{lightgray} him}} \\noindent{{\\color{lightgray} and}} \\noindent{{\\color{lightgray} he}} falls asleep believe \\noindent{{\\color{lightgray} or}} \\noindent{{\\color{lightgray} not}} & hang asking hang asking hang asking thirty know second plane maybe ´ suddenly generated parallel yes notes listen baltazar rough rocha look exactly look exactly money minute sending good \\\\\n",
      "+---------------------------------------------------------------------------------------------------------------------------------------------------------------------------------------------------------------------------------------------------------------------------------------------------------------------------------------------------------------------------------------------------------------------------------------------------------------------------------------------------------------------------------------------------------------------------------------------------------------------------------------------------------------------------------------------------------------------------------------------------------------------------------------------------------------------------------------------------------------------------------------------------------------------------------------------------------------------------------------------------------------------------------------------------------------------------------------------------------------------------------------------------------------+-------------------------------------------------------------------------------------------------------------------------------------------------------------------------------------------------------------------------------------------------------------------------------------------------------------------------------------------------------------------------------------------------------------------------------------------------------------------------------------------------------------------------------------------------------------------------------------------------------------------------------------------------------------------------------------------------------------------------------------------------------------------------------------------------------------------------------------------------------------------------------------------------------------------------------------------------------------------------------------------------------------------------------------------------------------------------------------------------------------------------------------------------------------------------------------------------------------------------------------------------------------------------+-----------------------------------------------------------------------------------------------------------------------------------------------------------------------------------------------+\n",
      "|                                                                                                                                                                                                                                                                                                                                                                                                                                                                                                                                                                           gold trans                                                                                                                                                                                                                                                                                                                                                                                                                                                                                                                                                                          |                                                                                                                                                                                                                                                                                                                                                                                                                                                                                                                                                                                                                                gold pred                                                                                                                                                                                                                                                                                                                                                                                                                                                                                                                                                                                                                                |                                                                                           model pred                                                                                          |\n",
      "+---------------------------------------------------------------------------------------------------------------------------------------------------------------------------------------------------------------------------------------------------------------------------------------------------------------------------------------------------------------------------------------------------------------------------------------------------------------------------------------------------------------------------------------------------------------------------------------------------------------------------------------------------------------------------------------------------------------------------------------------------------------------------------------------------------------------------------------------------------------------------------------------------------------------------------------------------------------------------------------------------------------------------------------------------------------------------------------------------------------------------------------------------------------+-------------------------------------------------------------------------------------------------------------------------------------------------------------------------------------------------------------------------------------------------------------------------------------------------------------------------------------------------------------------------------------------------------------------------------------------------------------------------------------------------------------------------------------------------------------------------------------------------------------------------------------------------------------------------------------------------------------------------------------------------------------------------------------------------------------------------------------------------------------------------------------------------------------------------------------------------------------------------------------------------------------------------------------------------------------------------------------------------------------------------------------------------------------------------------------------------------------------------------------------------------------------------+-----------------------------------------------------------------------------------------------------------------------------------------------------------------------------------------------+\n",
      "|                                                                                                                                                                     \\noindent{{\\color{lightgray} pero}} \\noindent{{\\color{lightgray} esa}} \\noindent{{\\color{lightgray} es}} \\noindent{{\\color{lightgray} mi}} planificación inicial \\noindent{{\\color{lightgray} no}} sé si irá \\noindent{{\\color{lightgray} a}} ocurrir así voy \\noindent{{\\color{lightgray} a}} hacer \\noindent{{\\color{lightgray} todo}} \\noindent{{\\color{lightgray} lo}} posible \\noindent{{\\color{lightgray} para}} \\noindent{{\\color{lightgray} que}} ocurra \\noindent{{\\color{lightgray} y}} bueno pues \\noindent{{\\color{lightgray} ya}} veremos \\noindent{{\\color{lightgray} qué}} \\noindent{{\\color{lightgray} es}} \\noindent{{\\color{lightgray} lo}} \\noindent{{\\color{lightgray} que}} pasa \\noindent{{\\color{lightgray} no}} \\noindent{{\\color{lightgray} es}} \\noindent{{\\color{lightgray} mucho}} tiempo                                                                                                                                                                     |                                                                                                                                                                                                                                                                                                                                                               \\noindent{{\\color{lightgray} but}} \\noindent{{\\color{lightgray} that}} tentative tentative plan \\noindent{{\\color{lightgray} don}} know \\noindent{{\\color{lightgray} if}} \\noindent{{\\color{lightgray} do}} \\noindent{{\\color{lightgray} it}} \\noindent{{\\color{lightgray} it}} going \\noindent{{\\color{lightgray} to}} try hard \\noindent{{\\color{lightgray} but}} \\noindent{{\\color{lightgray} we}} see \\noindent{{\\color{lightgray} what}} happens happens \\noindent{{\\color{lightgray} not}} \\noindent{{\\color{lightgray} a}} long time                                                                                                                                                                                                                                                                                                                                                               |                                                                                choose playing choose playing \\\\                                                                               |\n",
      "|                                                                                                                                                                                                                                                                                                                                                                   si \\noindent{{\\color{lightgray} cuando}} \\noindent{{\\color{lightgray} fue}} \\noindent{{\\color{lightgray} a}} méxico años atrás llegó hablando igual \\noindent{{\\color{lightgray} como}} \\noindent{{\\color{lightgray} los}} mexicanos ahí pues ay si \\noindent{{\\color{lightgray} nos}} reíamos \\noindent{{\\color{lightgray} tanto}} \\noindent{{\\color{lightgray} nosotros}} \\noindent{{\\color{lightgray} fue}} tan cómico                                                                                                                                                                                                                                                                                                                                                                   |                                                                                                                                                                                                                                                                                                                                                                                                                                        \\noindent{{\\color{lightgray} if}} \\noindent{{\\color{lightgray} when}} went \\noindent{{\\color{lightgray} to}} mexico \\noindent{{\\color{lightgray} few}} years back returned talking like like mexicans mexicans oh well oh yeah \\noindent{{\\color{lightgray} we}} laughed \\noindent{{\\color{lightgray} so}} hard \\noindent{{\\color{lightgray} was}} \\noindent{{\\color{lightgray} so}} funny                                                                                                                                                                                                                                                                                                                                                                                                                                       |                                                                                       exception seems \\\\                                                                                      |\n",
      "|                                                                                                                                                                                                                                                                                                                                                                                                                                                                                                       ahá okey entonces \\noindent{{\\color{lightgray} yo}} voy \\noindent{{\\color{lightgray} a}} mandársela mañana \\noindent{{\\color{lightgray} a}} matox                                                                                                                                                                                                                                                                                                                                                                                                                                                                                                       |                                                                                                                                                                                                                                                                                                                                                                                                                                                                                                                                                 aha ok \\noindent{{\\color{lightgray} then}} \\noindent{{\\color{lightgray} i}} \\noindent{{\\color{lightgray} will}} \\noindent{{\\color{lightgray} will}} send matox tomorrow                                                                                                                                                                                                                                                                                                                                                                                                                                                                                                                                                 |                                          cha pervert consciously purpose eighty one ah told like three monica says everything account great early \\\\                                          |\n",
      "|                                                                                                                                                                                                                                                                                                                                                                                                              entonces \\noindent{{\\color{lightgray} me}} dice \\noindent{{\\color{lightgray} que}} \\noindent{{\\color{lightgray} en}} \\noindent{{\\color{lightgray} la}} \\noindent{{\\color{lightgray} otra}} vida va \\noindent{{\\color{lightgray} a}} seguir \\noindent{{\\color{lightgray} con}} \\noindent{{\\color{lightgray} la}} misma esposa <laugh>                                                                                                                                                                                                                                                                                                                                                                                                             |                                                                                                                                                                                                                                                                                                                                                                                                                                                        \\noindent{{\\color{lightgray} so}} tells \\noindent{{\\color{lightgray} me}} \\noindent{{\\color{lightgray} that}} \\noindent{{\\color{lightgray} in}} another life \\noindent{{\\color{lightgray} will}} \\noindent{{\\color{lightgray} will}} stay \\noindent{{\\color{lightgray} with}} \\noindent{{\\color{lightgray} the}} \\noindent{{\\color{lightgray} same}} wife                                                                                                                                                                                                                                                                                                                                                                                                                                                        |                                                                                   see bad firm operation \\\\                                                                                   |\n",
      "|                                                                                                                                                                                                                                                                                                                                              ajá \\noindent{{\\color{lightgray} ya}} claro claro \\noindent{{\\color{lightgray} pero}} \\noindent{{\\color{lightgray} hay}} algún problema \\noindent{{\\color{lightgray} de}} \\noindent{{\\color{lightgray} que}} \\noindent{{\\color{lightgray} por}} ejemplo \\noindent{{\\color{lightgray} te}} pueda mandar \\noindent{{\\color{lightgray} algo}} \\noindent{{\\color{lightgray} de}} plata \\noindent{{\\color{lightgray} a}} través \\noindent{{\\color{lightgray} del}} correo                                                                                                                                                                                                                                                                                                                                             |                                                                                                                                                                                                                                                                                                                                                                                                                       aha okay sure sure \\noindent{{\\color{lightgray} but}} \\noindent{{\\color{lightgray} is}} \\noindent{{\\color{lightgray} there}} \\noindent{{\\color{lightgray} any}} problem \\noindent{{\\color{lightgray} of}} \\noindent{{\\color{lightgray} for}} example \\noindent{{\\color{lightgray} being}} able send \\noindent{{\\color{lightgray} some}} money \\noindent{{\\color{lightgray} through}} \\noindent{{\\color{lightgray} the}} mail                                                                                                                                                                                                                                                                                                                                                                                                                      |                                                                                         someone eh \\\\                                                                                         |\n",
      "|                                                                                                                                                                                                                                                                                                                                                                                                                                                       eh creo \\noindent{{\\color{lightgray} que}} \\noindent{{\\color{lightgray} la}} llamada \\noindent{{\\color{lightgray} era}} \\noindent{{\\color{lightgray} para}} dos personas \\noindent{{\\color{lightgray} no}} \\noindent{{\\color{lightgray} mi}} amor                                                                                                                                                                                                                                                                                                                                                                                                                                                       |                                                                                                                                                                                                                                                                                                                                                                                                                                                                                                              eh think \\noindent{{\\color{lightgray} that}} \\noindent{{\\color{lightgray} the}} call \\noindent{{\\color{lightgray} was}} \\noindent{{\\color{lightgray} for}} two people \\noindent{{\\color{lightgray} no}} \\noindent{{\\color{lightgray} my}} love                                                                                                                                                                                                                                                                                                                                                                                                                                                                                                             |                                                                                  dialect language like ah \\\\                                                                                  |\n",
      "|                                                                                                                                                                                                                                                                                                                                                                                                                                                                                                           \\noindent{{\\color{lightgray} a}} ver si después \\noindent{{\\color{lightgray} otra}} vez graban \\noindent{{\\color{lightgray} otro}} casette                                                                                                                                                                                                                                                                                                                                                                                                                                                                                                          |                                                                                                                                                                                                                                                                                                                                                                                                                                                                                                                                                            let see \\noindent{{\\color{lightgray} if}} later record another cassette \\noindent{{\\color{lightgray} again}} \\noindent{{\\color{lightgray} again}}                                                                                                                                                                                                                                                                                                                                                                                                                                                                                                                                                            |                                                                                     ah earlier next day \\\\                                                                                    |\n",
      "|                                                                                                                                                                                                                                                                                                                                                                                                                                                                                 bien \\noindent{{\\color{lightgray} no}} \\noindent{{\\color{lightgray} ha}} \\noindent{{\\color{lightgray} tenido}} problema \\noindent{{\\color{lightgray} de}} \\noindent{{\\color{lightgray} nada}}                                                                                                                                                                                                                                                                                                                                                                                                                                                                                 |                                                                                                                                                                                                                                                                                                                                                                                                                                                                                                                                                                                         fine hasn \\noindent{{\\color{lightgray} had}} \\noindent{{\\color{lightgray} any}} problems                                                                                                                                                                                                                                                                                                                                                                                                                                                                                                                                                                                        |                                                                                          great oh \\\\                                                                                          |\n",
      "|                                                                                                                                                                                                                                                                                                                                     ahá bien \\noindent{{\\color{lightgray} ya}} \\noindent{{\\color{lightgray} te}} entendí \\noindent{{\\color{lightgray} mi}} amor \\noindent{{\\color{lightgray} no}} \\noindent{{\\color{lightgray} te}} preocupes \\noindent{{\\color{lightgray} yo}} \\noindent{{\\color{lightgray} se}} \\noindent{{\\color{lightgray} lo}} pido \\noindent{{\\color{lightgray} a}} freddy \\noindent{{\\color{lightgray} de}} salud cómo \\noindent{{\\color{lightgray} estás}} \\noindent{{\\color{lightgray} mi}} hijo                                                                                                                                                                                                                                                                                                                                     |                                                                                                                                                                                                                                                                                                                                                                                                                                                                  oh fine \\noindent{{\\color{lightgray} i}} understand \\noindent{{\\color{lightgray} my}} love \\noindent{{\\color{lightgray} don}} worry \\noindent{{\\color{lightgray} i}} ask freddy \\noindent{{\\color{lightgray} it}} \\noindent{{\\color{lightgray} how}} \\noindent{{\\color{lightgray} your}} health \\noindent{{\\color{lightgray} my}} son                                                                                                                                                                                                                                                                                                                                                                                                                                                                  |                                                                                         think rest \\\\                                                                                         |\n",
      "| ve \\noindent{{\\color{lightgray} tú}} \\noindent{{\\color{lightgray} a}} saber si \\noindent{{\\color{lightgray} sea}} cierto debe ser \\noindent{{\\color{lightgray} porque}} \\noindent{{\\color{lightgray} yo}} \\noindent{{\\color{lightgray} por}} ejemplo \\noindent{{\\color{lightgray} en}} \\noindent{{\\color{lightgray} la}} noche si \\noindent{{\\color{lightgray} yo}} \\noindent{{\\color{lightgray} no}} salgo \\noindent{{\\color{lightgray} a}} darle champú \\noindent{{\\color{lightgray} de}} cariño acariciarle hablarle bonito \\noindent{{\\color{lightgray} el}} perro \\noindent{{\\color{lightgray} no}} \\noindent{{\\color{lightgray} se}} duerme anda asomándose \\noindent{{\\color{lightgray} por}} \\noindent{{\\color{lightgray} las}} ventanas desesperado ladrando \\noindent{{\\color{lightgray} y}} \\noindent{{\\color{lightgray} todo}} \\noindent{{\\color{lightgray} ya}} \\noindent{{\\color{lightgray} no}} \\noindent{{\\color{lightgray} más}} salgo \\noindent{{\\color{lightgray} lo}} acaricio \\noindent{{\\color{lightgray} y}} \\noindent{{\\color{lightgray} se}} duerme aunque \\noindent{{\\color{lightgray} no}} \\noindent{{\\color{lightgray} lo}} creas | see \\noindent{{\\color{lightgray} who}} \\noindent{{\\color{lightgray} who}} knows \\noindent{{\\color{lightgray} if}} \\noindent{{\\color{lightgray} it}} true \\noindent{{\\color{lightgray} should}} \\noindent{{\\color{lightgray} be}} \\noindent{{\\color{lightgray} because}} \\noindent{{\\color{lightgray} i}} \\noindent{{\\color{lightgray} for}} example \\noindent{{\\color{lightgray} if}} \\noindent{{\\color{lightgray} i}} \\noindent{{\\color{lightgray} don}} go \\noindent{{\\color{lightgray} out}} \\noindent{{\\color{lightgray} at}} \\noindent{{\\color{lightgray} at}} night \\noindent{{\\color{lightgray} to}} shower shower \\noindent{{\\color{lightgray} him}} \\noindent{{\\color{lightgray} with}} love caresses sweet talk \\noindent{{\\color{lightgray} the}} dog \\noindent{{\\color{lightgray} will}} \\noindent{{\\color{lightgray} not}} sleep goes goes around around peeking \\noindent{{\\color{lightgray} through}} windows desperate \\noindent{{\\color{lightgray} and}} everything \\noindent{{\\color{lightgray} just}} go \\noindent{{\\color{lightgray} out}} caress \\noindent{{\\color{lightgray} him}} \\noindent{{\\color{lightgray} and}} \\noindent{{\\color{lightgray} he}} falls asleep believe \\noindent{{\\color{lightgray} or}} \\noindent{{\\color{lightgray} not}} | hang asking hang asking hang asking thirty know second plane maybe ´ suddenly generated parallel yes notes listen baltazar rough rocha look exactly look exactly money minute sending good \\\\ |\n",
      "+---------------------------------------------------------------------------------------------------------------------------------------------------------------------------------------------------------------------------------------------------------------------------------------------------------------------------------------------------------------------------------------------------------------------------------------------------------------------------------------------------------------------------------------------------------------------------------------------------------------------------------------------------------------------------------------------------------------------------------------------------------------------------------------------------------------------------------------------------------------------------------------------------------------------------------------------------------------------------------------------------------------------------------------------------------------------------------------------------------------------------------------------------------------+-------------------------------------------------------------------------------------------------------------------------------------------------------------------------------------------------------------------------------------------------------------------------------------------------------------------------------------------------------------------------------------------------------------------------------------------------------------------------------------------------------------------------------------------------------------------------------------------------------------------------------------------------------------------------------------------------------------------------------------------------------------------------------------------------------------------------------------------------------------------------------------------------------------------------------------------------------------------------------------------------------------------------------------------------------------------------------------------------------------------------------------------------------------------------------------------------------------------------------------------------------------------------+-----------------------------------------------------------------------------------------------------------------------------------------------------------------------------------------------+\n"
     ]
    }
   ],
   "source": [
    "display_preds(bad_preds, align_dict, mt_pseudo_pred_dict[K])"
   ]
  },
  {
   "cell_type": "code",
   "execution_count": 112,
   "metadata": {
    "collapsed": false
   },
   "outputs": [],
   "source": [
    "def get_top_matched_words(align_dict, pred_list, sid_list, num=10, reverse=False):\n",
    "    \n",
    "    dev_en_gold = []\n",
    "    dev_en_remain = []\n",
    "    \n",
    "    for i, sid in enumerate([s for s in pred_list if s in sid_list]):\n",
    "        gold_seg_en = get_en_words(align_dict, sid, \"en_cnt\")\n",
    "        dev_en_gold.extend(gold_seg_en)\n",
    "        for pred_word in pred_list[sid]:\n",
    "            if pred_word in gold_seg_en:\n",
    "                gold_seg_en.remove(pred_word)\n",
    "        dev_en_remain.extend(gold_seg_en)\n",
    "\n",
    "    dev_en_gold_counter = Counter(dev_en_gold)\n",
    "    dev_en_remain_counter = Counter(dev_en_remain)\n",
    "    \n",
    "    return dev_en_gold_counter, dev_en_remain_counter\n"
   ]
  },
  {
   "cell_type": "code",
   "execution_count": 113,
   "metadata": {
    "collapsed": false
   },
   "outputs": [
    {
     "name": "stdout",
     "output_type": "stream",
     "text": [
      "No content word found in 088.141 segment\n",
      "No content word found in 086.150 segment\n",
      "No content word found in 117.058 segment\n",
      "No content word found in 085.015 segment\n",
      "No content word found in 085.253 segment\n",
      "No content word found in 083.018 segment\n",
      "No content word found in 100.076 segment\n",
      "No content word found in 093.070 segment\n",
      "No content word found in 093.071 segment\n",
      "No content word found in 086.152 segment\n",
      "No content word found in 077.027 segment\n",
      "No content word found in 113.163 segment\n",
      "No content word found in 111.184 segment\n",
      "No content word found in 065.202 segment\n",
      "No content word found in 092.092 segment\n",
      "No content word found in 067.056 segment\n",
      "No content word found in 094.023 segment\n",
      "No content word found in 111.106 segment\n",
      "No content word found in 115.021 segment\n",
      "No content word found in 090.149 segment\n",
      "No content word found in 113.068 segment\n"
     ]
    }
   ],
   "source": [
    "# %%timeit -r1 -n1\n",
    "dev_en_gold_counter, dev_en_remain_counter = \\\n",
    "            get_top_matched_words(align_dict, pred_list=mt_pseudo_pred_dict[K], \\\n",
    "                                  sid_list=dev_sids, num=PRED_NUM)"
   ]
  },
  {
   "cell_type": "code",
   "execution_count": 132,
   "metadata": {
    "collapsed": false
   },
   "outputs": [
    {
     "data": {
      "text/plain": [
       "(8094, 872, 2.6439337781072396)"
      ]
     },
     "execution_count": 132,
     "metadata": {},
     "output_type": "execute_result"
    }
   ],
   "source": [
    "len(train_sids), len(dev_sids), 214/8094 * 100"
   ]
  },
  {
   "cell_type": "code",
   "execution_count": 114,
   "metadata": {
    "collapsed": false
   },
   "outputs": [
    {
     "name": "stdout",
     "output_type": "stream",
     "text": [
      "3.05454545455\n"
     ]
    }
   ],
   "source": [
    "tot = sum(dev_en_gold_counter.values())\n",
    "rem = sum(dev_en_remain_counter.values())\n",
    "rec = (tot-rem) / tot * 100\n",
    "print(rec)"
   ]
  },
  {
   "cell_type": "code",
   "execution_count": 115,
   "metadata": {
    "collapsed": false
   },
   "outputs": [],
   "source": [
    "dev_en_match_counter = (dev_en_gold_counter-dev_en_remain_counter)"
   ]
  },
  {
   "cell_type": "code",
   "execution_count": 116,
   "metadata": {
    "collapsed": false
   },
   "outputs": [],
   "source": [
    "dev_en_match_dict = {w:(dev_en_match_counter[w],dev_en_gold_counter[w]) for w in dev_en_gold_counter}"
   ]
  },
  {
   "cell_type": "code",
   "execution_count": 117,
   "metadata": {
    "collapsed": false
   },
   "outputs": [],
   "source": [
    "sorted_dev_en_match = sorted([(w.lower(),v[0],v[1]) for w,v in dev_en_match_dict.items()], \\\n",
    "                             reverse=True, key=lambda t:t[1]/t[2])"
   ]
  },
  {
   "cell_type": "code",
   "execution_count": 118,
   "metadata": {
    "collapsed": false
   },
   "outputs": [
    {
     "name": "stdout",
     "output_type": "stream",
     "text": [
      "word & match & tot\n",
      "bottles & 1 & 1\n",
      "chinese & 1 & 1\n",
      "water & 1 & 1\n",
      "argentina & 1 & 1\n",
      "truth & 1 & 1\n",
      "monterrey & 1 & 1\n",
      "days & 1 & 1\n",
      "honorary & 1 & 1\n",
      "movement & 1 & 1\n",
      "strength & 1 & 1\n",
      "+-----------+-------+-----+\n",
      "|    word   | match | tot |\n",
      "+-----------+-------+-----+\n",
      "|  bottles  |   1   |  1  |\n",
      "|  chinese  |   1   |  1  |\n",
      "|   water   |   1   |  1  |\n",
      "| argentina |   1   |  1  |\n",
      "|   truth   |   1   |  1  |\n",
      "| monterrey |   1   |  1  |\n",
      "|    days   |   1   |  1  |\n",
      "|  honorary |   1   |  1  |\n",
      "|  movement |   1   |  1  |\n",
      "|  strength |   1   |  1  |\n",
      "+-----------+-------+-----+\n"
     ]
    }
   ],
   "source": [
    "mini_print([\"word\", \"match\", \"tot\"], \\\n",
    "           sorted_dev_en_match[:MATCH_NUM])"
   ]
  },
  {
   "cell_type": "code",
   "execution_count": 119,
   "metadata": {
    "collapsed": false
   },
   "outputs": [],
   "source": [
    "# mini_print([\"word\", \"match\", \"tot\"], \\\n",
    "#            sorted_dev_en_match[-MATCH_NUM:])"
   ]
  },
  {
   "cell_type": "code",
   "execution_count": 120,
   "metadata": {
    "collapsed": false
   },
   "outputs": [],
   "source": [
    "sorted_dev_en_match = sorted([(w.lower(),v[0],v[1]) for w,v in dev_en_match_dict.items() if v[0] > 0], \\\n",
    "                             reverse=True, key=lambda t:t[2])"
   ]
  },
  {
   "cell_type": "code",
   "execution_count": 121,
   "metadata": {
    "collapsed": false
   },
   "outputs": [
    {
     "name": "stdout",
     "output_type": "stream",
     "text": [
      "word & match & tot\n",
      "yes & 7 & 175\n",
      "well & 5 & 85\n",
      "ah & 2 & 69\n",
      "see & 1 & 64\n",
      "yeah & 1 & 62\n",
      "oh & 1 & 59\n",
      "know & 6 & 53\n",
      "like & 2 & 44\n",
      "right & 1 & 42\n",
      "going & 2 & 41\n",
      "+-------+-------+-----+\n",
      "|  word | match | tot |\n",
      "+-------+-------+-----+\n",
      "|  yes  |   7   | 175 |\n",
      "|  well |   5   |  85 |\n",
      "|   ah  |   2   |  69 |\n",
      "|  see  |   1   |  64 |\n",
      "|  yeah |   1   |  62 |\n",
      "|   oh  |   1   |  59 |\n",
      "|  know |   6   |  53 |\n",
      "|  like |   2   |  44 |\n",
      "| right |   1   |  42 |\n",
      "| going |   2   |  41 |\n",
      "+-------+-------+-----+\n"
     ]
    }
   ],
   "source": [
    "mini_print([\"word\", \"match\", \"tot\"], \\\n",
    "           sorted_dev_en_match[:MATCH_NUM])"
   ]
  },
  {
   "cell_type": "code",
   "execution_count": 122,
   "metadata": {
    "collapsed": false
   },
   "outputs": [
    {
     "data": {
      "text/plain": [
       "126"
      ]
     },
     "execution_count": 122,
     "metadata": {},
     "output_type": "execute_result"
    }
   ],
   "source": [
    "sum(dev_en_match_counter.values())"
   ]
  },
  {
   "cell_type": "code",
   "execution_count": 123,
   "metadata": {
    "collapsed": false
   },
   "outputs": [
    {
     "data": {
      "text/plain": [
       "'funny bottles knowledge people explain back truth stores strength chinese say movement week apartment yeah brazilian go party school aha look oh money water yes yet twelve code says palace susan four going november hundred find happy modem exactly sick around geraldine five said days mom mexico sure know works work think see weather ask hasn knoxville number need argentina come like thirty twenty yesterday \\xc2\\xb4 matter hi tell monday boston honorary two understand lot university well one policy called told monterrey good okay ah study thing computer teeth tomorrow right vice make salta call buckets bought'"
      ]
     },
     "execution_count": 123,
     "metadata": {},
     "output_type": "execute_result"
    }
   ],
   "source": [
    "\" \".join([w.lower() for w in dev_en_match_counter])"
   ]
  },
  {
   "cell_type": "code",
   "execution_count": 124,
   "metadata": {
    "collapsed": false
   },
   "outputs": [
    {
     "data": {
      "text/plain": [
       "'ago grown life everyone buddy spite text age later dramatic environment courses strange thanks fall growing killing dedicated furrow among sister printer last ringing tells hmm things tinso platelets concrete thermal much honestly stays aunt cases dress santi maria saying six raining grabbing kisses fix foam anyway least hand kiko caress pesos sweet phone weird bye venezuela stitches beautiful catholic staying gets specially visiting may house review accent telephone comfortable person near traveling uncle vacations telling law structures realize happiness man great used destiny psychiatrist movie expense friday ximena tests fucked defender guy invented eh arrives doctor painted company huh denver manuelita talking camera arrived something pays starting wow western sending lazy necessarily paris thousand responsible dude else ridden put woman baby christian agree cool envelope try tumour ma lies mm saved uhm lessen gonna public traffic listening pictures degrees pulled ina swim augusto central read philosophy dog whatever hurt hair moment cost marta home promotion general meeting dot heart remember mario didn romero fabiola stayed heard critical teachers words car medicine president lease friend left different paolita italy anymore package december average joghn expenses jump employee granny trujillo handle went sweetie even offprints liter smaller advantage sitting pussy bad mmm wrong regards supposed lose roads making ninety michel notice calls inheritance suddenly elders dollars hopefully single'"
      ]
     },
     "execution_count": 124,
     "metadata": {},
     "output_type": "execute_result"
    }
   ],
   "source": [
    "\" \".join([w.lower() for w in \\\n",
    "          set(dev_en_gold_counter.keys())-set(dev_en_match_counter.keys())][:217])"
   ]
  },
  {
   "cell_type": "code",
   "execution_count": 125,
   "metadata": {
    "collapsed": false
   },
   "outputs": [
    {
     "data": {
      "text/plain": [
       "['MECHITA', 'MANDADO', 'QUI\\xc3\\xa9N', 'POCHO']"
      ]
     },
     "execution_count": 125,
     "metadata": {},
     "output_type": "execute_result"
    }
   ],
   "source": [
    "[w.word for w in align_dict['001']['001.001']['es_cnt']]"
   ]
  },
  {
   "cell_type": "code",
   "execution_count": 183,
   "metadata": {
    "collapsed": false
   },
   "outputs": [
    {
     "name": "stdout",
     "output_type": "stream",
     "text": [
      "No content word found in 065.128 segment\n",
      "No content word found in 110.031 segment\n",
      "No content word found in 071.070 segment\n",
      "No content word found in 084.094 segment\n",
      "No content word found in 085.088 segment\n",
      "No content word found in 063.171 segment\n",
      "No content word found in 115.149 segment\n",
      "No content word found in 094.174 segment\n",
      "No content word found in 097.009 segment\n",
      "No content word found in 105.021 segment\n",
      "No content word found in 105.020 segment\n",
      "No content word found in 063.159 segment\n",
      "No content word found in 087.145 segment\n",
      "No content word found in 073.117 segment\n",
      "No content word found in 082.039 segment\n",
      "No content word found in 107.124 segment\n",
      "No content word found in 087.083 segment\n",
      "No content word found in 114.036 segment\n",
      "No content word found in 086.137 segment\n",
      "No content word found in 070.170 segment\n",
      "No content word found in 077.111 segment\n",
      "No content word found in 077.112 segment\n",
      "No content word found in 087.163 segment\n",
      "No content word found in 119.140 segment\n",
      "No content word found in 115.109 segment\n",
      "No content word found in 106.031 segment\n",
      "No content word found in 100.056 segment\n",
      "No content word found in 091.069 segment\n",
      "No content word found in 117.050 segment\n",
      "No content word found in 063.075 segment\n",
      "No content word found in 083.138 segment\n",
      "No content word found in 108.009 segment\n",
      "No content word found in 082.038 segment\n",
      "No content word found in 079.021 segment\n",
      "No content word found in 120.175 segment\n",
      "No content word found in 105.180 segment\n",
      "No content word found in 092.088 segment\n",
      "No content word found in 082.042 segment\n",
      "No content word found in 081.111 segment\n",
      "No content word found in 082.058 segment\n",
      "No content word found in 066.167 segment\n",
      "No content word found in 081.170 segment\n",
      "No content word found in 081.171 segment\n",
      "No content word found in 081.173 segment\n",
      "No content word found in 073.221 segment\n",
      "No content word found in 091.125 segment\n",
      "No content word found in 072.099 segment\n",
      "No content word found in 085.273 segment\n",
      "No content word found in 085.277 segment\n",
      "No content word found in 115.067 segment\n",
      "No content word found in 093.313 segment\n",
      "No content word found in 114.114 segment\n",
      "No content word found in 081.159 segment\n",
      "No content word found in 081.152 segment\n",
      "No content word found in 086.193 segment\n",
      "No content word found in 084.150 segment\n",
      "No content word found in 082.099 segment\n",
      "No content word found in 082.097 segment\n",
      "No content word found in 115.042 segment\n",
      "No content word found in 082.130 segment\n",
      "No content word found in 108.088 segment\n",
      "No content word found in 084.170 segment\n",
      "No content word found in 081.052 segment\n",
      "No content word found in 113.033 segment\n",
      "No content word found in 081.265 segment\n",
      "No content word found in 081.263 segment\n",
      "No content word found in 119.041 segment\n",
      "No content word found in 096.123 segment\n",
      "No content word found in 104.005 segment\n",
      "No content word found in 113.211 segment\n",
      "No content word found in 082.171 segment\n",
      "No content word found in 082.177 segment\n",
      "No content word found in 107.102 segment\n",
      "No content word found in 107.100 segment\n",
      "No content word found in 082.111 segment\n",
      "No content word found in 101.017 segment\n",
      "No content word found in 082.012 segment\n",
      "No content word found in 104.044 segment\n",
      "No content word found in 104.046 segment\n",
      "No content word found in 070.121 segment\n",
      "No content word found in 119.194 segment\n",
      "No content word found in 075.206 segment\n",
      "No content word found in 075.201 segment\n",
      "No content word found in 077.022 segment\n",
      "No content word found in 085.130 segment\n",
      "No content word found in 085.139 segment\n",
      "No content word found in 079.101 segment\n",
      "No content word found in 079.102 segment\n",
      "No content word found in 063.126 segment\n",
      "No content word found in 104.061 segment\n",
      "No content word found in 108.112 segment\n",
      "No content word found in 072.140 segment\n",
      "No content word found in 085.074 segment\n",
      "No content word found in 079.120 segment\n",
      "No content word found in 117.125 segment\n",
      "No content word found in 082.193 segment\n",
      "No content word found in 077.184 segment\n",
      "No content word found in 072.169 segment\n",
      "No content word found in 077.065 segment\n",
      "No content word found in 111.135 segment\n",
      "No content word found in 065.139 segment\n",
      "No content word found in 065.132 segment\n",
      "No content word found in 093.011 segment\n",
      "No content word found in 116.163 segment\n",
      "No content word found in 116.161 segment\n",
      "No content word found in 094.160 segment\n",
      "No content word found in 070.200 segment\n",
      "No content word found in 066.017 segment\n",
      "No content word found in 097.039 segment\n",
      "No content word found in 111.150 segment\n",
      "No content word found in 111.152 segment\n",
      "No content word found in 116.211 segment\n",
      "No content word found in 107.170 segment\n",
      "No content word found in 076.070 segment\n",
      "No content word found in 075.123 segment\n",
      "No content word found in 105.245 segment\n",
      "No content word found in 070.071 segment\n",
      "No content word found in 108.190 segment\n",
      "No content word found in 078.083 segment\n",
      "No content word found in 082.218 segment\n",
      "No content word found in 083.106 segment\n",
      "No content word found in 093.248 segment\n",
      "No content word found in 108.078 segment\n",
      "No content word found in 086.125 segment\n",
      "No content word found in 105.012 segment\n",
      "No content word found in 082.008 segment\n",
      "No content word found in 075.141 segment\n",
      "No content word found in 094.026 segment\n",
      "No content word found in 094.022 segment\n",
      "No content word found in 091.032 segment\n",
      "No content word found in 097.059 segment\n",
      "No content word found in 107.166 segment\n",
      "No content word found in 089.205 segment\n",
      "No content word found in 084.067 segment\n",
      "No content word found in 111.013 segment\n",
      "No content word found in 066.172 segment\n",
      "No content word found in 107.038 segment\n",
      "No content word found in 077.148 segment\n",
      "No content word found in 101.105 segment\n",
      "No content word found in 117.060 segment\n",
      "No content word found in 093.115 segment\n",
      "No content word found in 079.018 segment\n",
      "No content word found in 094.040 segment\n",
      "No content word found in 070.124 segment\n",
      "No content word found in 114.124 segment\n",
      "No content word found in 114.127 segment\n",
      "No content word found in 070.094 segment\n",
      "No content word found in 117.006 segment\n",
      "No content word found in 065.051 segment\n",
      "No content word found in 065.052 segment\n",
      "No content word found in 087.073 segment\n",
      "No content word found in 115.054 segment\n",
      "No content word found in 082.081 segment\n",
      "No content word found in 082.007 segment\n",
      "No content word found in 066.138 segment\n",
      "No content word found in 065.192 segment\n",
      "No content word found in 077.097 segment\n",
      "No content word found in 093.155 segment\n",
      "No content word found in 120.086 segment\n",
      "No content word found in 107.159 segment\n",
      "No content word found in 108.092 segment\n",
      "No content word found in 096.014 segment\n",
      "No content word found in 064.014 segment\n",
      "No content word found in 114.166 segment\n",
      "No content word found in 077.106 segment\n",
      "No content word found in 077.107 segment\n",
      "No content word found in 092.015 segment\n",
      "No content word found in 105.119 segment\n",
      "No content word found in 073.059 segment\n",
      "No content word found in 082.126 segment\n",
      "No content word found in 082.122 segment\n",
      "No content word found in 077.226 segment\n",
      "No content word found in 084.165 segment\n",
      "No content word found in 091.159 segment\n",
      "No content word found in 081.043 segment\n",
      "No content word found in 093.344 segment\n",
      "No content word found in 092.032 segment\n",
      "No content word found in 119.225 segment\n",
      "No content word found in 063.081 segment\n",
      "No content word found in 085.169 segment\n",
      "No content word found in 079.151 segment\n",
      "No content word found in 081.063 segment\n",
      "No content word found in 116.097 segment\n",
      "No content word found in 088.222 segment\n",
      "No content word found in 073.019 segment\n",
      "No content word found in 105.093 segment\n",
      "No content word found in 096.076 segment\n",
      "No content word found in 096.073 segment\n",
      "No content word found in 113.026 segment\n",
      "No content word found in 113.022 segment\n",
      "No content word found in 067.097 segment\n",
      "No content word found in 114.094 segment\n",
      "No content word found in 114.095 segment\n",
      "No content word found in 114.096 segment\n",
      "No content word found in 119.217 segment\n",
      "No content word found in 097.083 segment\n",
      "No content word found in 108.104 segment\n",
      "No content word found in 086.010 segment\n",
      "No content word found in 072.135 segment\n",
      "No content word found in 119.237 segment\n",
      "No content word found in 086.249 segment\n",
      "No content word found in 085.049 segment\n",
      "No content word found in 085.046 segment\n",
      "No content word found in 085.105 segment\n",
      "No content word found in 071.012 segment\n",
      "No content word found in 101.181 segment\n",
      "No content word found in 093.029 segment\n",
      "No content word found in 093.023 segment\n",
      "No content word found in 113.061 segment\n",
      "No content word found in 076.101 segment\n",
      "No content word found in 115.181 segment\n",
      "No content word found in 077.223 segment\n",
      "No content word found in 077.055 segment\n",
      "No content word found in 091.230 segment\n"
     ]
    }
   ],
   "source": [
    "es_w_set = []\n",
    "en_w_set = []\n",
    "for seg in train_sids:\n",
    "    es_w_set.extend(gold_feats_dict[seg])\n",
    "    en_w_set.extend(get_en_words(align_dict, seg, 'en_cnt'))\n",
    "    "
   ]
  },
  {
   "cell_type": "code",
   "execution_count": 184,
   "metadata": {
    "collapsed": false
   },
   "outputs": [
    {
     "name": "stdout",
     "output_type": "stream",
     "text": [
      "38042 6638\n",
      "38499 4425\n"
     ]
    }
   ],
   "source": [
    "print(len(es_w_set), len(set(es_w_set)))\n",
    "print(len(en_w_set), len(set(en_w_set)))\n",
    "    "
   ]
  },
  {
   "cell_type": "code",
   "execution_count": 181,
   "metadata": {
    "collapsed": false
   },
   "outputs": [
    {
     "ename": "SyntaxError",
     "evalue": "invalid syntax (<ipython-input-181-3797b1ae3a97>, line 1)",
     "output_type": "error",
     "traceback": [
      "\u001b[0;36m  File \u001b[0;32m\"<ipython-input-181-3797b1ae3a97>\"\u001b[0;36m, line \u001b[0;32m1\u001b[0m\n\u001b[0;31m    38042 6638\u001b[0m\n\u001b[0m             ^\u001b[0m\n\u001b[0;31mSyntaxError\u001b[0m\u001b[0;31m:\u001b[0m invalid syntax\n"
     ]
    }
   ],
   "source": [
    "38042 6638\n",
    "38057 4366"
   ]
  },
  {
   "cell_type": "code",
   "execution_count": 176,
   "metadata": {
    "collapsed": false
   },
   "outputs": [],
   "source": [
    "A = []\n",
    "A.extend(gold_feats_dict['111.111'])"
   ]
  },
  {
   "cell_type": "code",
   "execution_count": 177,
   "metadata": {
    "collapsed": false
   },
   "outputs": [
    {
     "data": {
      "text/plain": [
       "['SALUDARLA', 'LLAM\\xc3\\xb3', 'AH']"
      ]
     },
     "execution_count": 177,
     "metadata": {},
     "output_type": "execute_result"
    }
   ],
   "source": [
    "A"
   ]
  },
  {
   "cell_type": "code",
   "execution_count": 16,
   "metadata": {
    "collapsed": false
   },
   "outputs": [
    {
     "data": {
      "text/plain": [
       "[Align(word='OKEY', start=12, end=56),\n",
       " Align(word='QU\\xc3\\xa9DENSE', start=136, end=159),\n",
       " Align(word='EL', start=159, end=165),\n",
       " Align(word='EL', start=165, end=171),\n",
       " Align(word='MIAMI', start=171, end=202),\n",
       " Align(word='DADE', start=202, end=218),\n",
       " Align(word='YO', start=266, end=278),\n",
       " Align(word='PUEDE', start=278, end=296),\n",
       " Align(word='QUE', start=296, end=307),\n",
       " Align(word='BAJE', start=307, end=332),\n",
       " Align(word='ENTONCES', start=332, end=369)]"
      ]
     },
     "execution_count": 16,
     "metadata": {},
     "output_type": "execute_result"
    }
   ],
   "source": [
    "align_dict[\"081\"][\"081.002\"][\"es\"]"
   ]
  },
  {
   "cell_type": "markdown",
   "metadata": {},
   "source": [
    "### EACL Talk"
   ]
  },
  {
   "cell_type": "code",
   "execution_count": 12,
   "metadata": {
    "collapsed": false
   },
   "outputs": [
    {
     "name": "stdout",
     "output_type": "stream",
     "text": [
      "+---------+-------+------------------------+---------------------------------------------------+\n",
      "| pair id |  nid  |     ES transcript      |                   EN translation                  |\n",
      "+---------+-------+------------------------+---------------------------------------------------+\n",
      "|  16210  | 19997 | CINCO OCHO CUATRO SEIS |                FIVE EIGHT FOUR SIX                |\n",
      "+---------+-------+------------------------+---------------------------------------------------+\n",
      "|  16210  | 19998 | CINCO OCHO CUATRO SEIS | EH SEE FOUR THE ONLY THING WANT KNOW IS THAT THAT |\n",
      "|         |       |                        |   THE PHONE IS RIGHT FOUR EIGHT THREE FIVE EIGHT  |\n",
      "|         |       |                        |  FOUR SIX IS THE MOST IMPORTANT THING BECAUSE THE |\n",
      "|         |       |                        |                  WASHINGTON CODE                  |\n",
      "+---------+-------+------------------------+---------------------------------------------------+\n"
     ]
    },
    {
     "data": {
      "text/html": [
       "\n",
       "                <audio controls=\"controls\" >\n",
       "                    <source src=\"data:audio/x-wav;base64,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\" type=\"audio/x-wav\" />\n",
       "                    Your browser does not support the audio element.\n",
       "                </audio>\n",
       "              "
      ],
      "text/plain": [
       "<IPython.lib.display.Audio object>"
      ]
     },
     "metadata": {},
     "output_type": "display_data"
    },
    {
     "data": {
      "text/html": [
       "\n",
       "                <audio controls=\"controls\" >\n",
       "                    <source src=\"data:audio/x-wav;base64,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\" type=\"audio/x-wav\" />\n",
       "                    Your browser does not support the audio element.\n",
       "                </audio>\n",
       "              "
      ],
      "text/plain": [
       "<IPython.lib.display.Audio object>"
      ]
     },
     "metadata": {},
     "output_type": "display_data"
    }
   ],
   "source": [
    "display_pair(16210, eval_dict, nodes_dict, align_dict, utd_wavs_path, es_merge_wavs_path, segment_map)"
   ]
  },
  {
   "cell_type": "code",
   "execution_count": 82,
   "metadata": {
    "collapsed": false
   },
   "outputs": [
    {
     "name": "stdout",
     "output_type": "stream",
     "text": [
      "../../../ZRTools/exp/callhome/matches/config0.87-0.90-0.80-50/wavs/wavs/114.134.wav\n"
     ]
    },
    {
     "data": {
      "text/html": [
       "\n",
       "                <audio controls=\"controls\" >\n",
       "                    <source src=\"data:audio/x-wav;base64,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\" type=\"audio/x-wav\" />\n",
       "                    Your browser does not support the audio element.\n",
       "                </audio>\n",
       "              "
      ],
      "text/plain": [
       "<IPython.lib.display.Audio object>"
      ]
     },
     "execution_count": 82,
     "metadata": {},
     "output_type": "execute_result"
    }
   ],
   "source": [
    "segid = nodes_dict[19997].seg\n",
    "segid = '114.134'\n",
    "seg_wav = gen_seg_wav(segid, utd_wavs_path, es_merge_wavs_path, segment_map)\n",
    "print(seg_wav)\n",
    "Audio(seg_wav)"
   ]
  },
  {
   "cell_type": "code",
   "execution_count": 102,
   "metadata": {
    "collapsed": false
   },
   "outputs": [],
   "source": [
    "def plot_seg_wav(segid):\n",
    "    seg_wav = gen_seg_wav(segid, utd_wavs_path, es_merge_wavs_path, segment_map)\n",
    "    fig = plt.figure()\n",
    "    fig.set_size_inches(20, 1)\n",
    "    ax = fig.add_subplot(111)\n",
    "    sr, wav_data = scipy.io.wavfile.read(seg_wav)\n",
    "    wav_data = (wav_data - wav_data.mean()) / wav_data.std()\n",
    "    ax.plot(wav_data[:len(wav_data)//1], c=tableau20[0])\n",
    "    for lbl in ax.get_xticklabels() + ax.get_yticklabels():\n",
    "        lbl.set_visible(False)\n",
    "\n",
    "    print(\" \".join([w.word.lower() for w in align_dict[segid.split('.')[0]][segid]['es']]))\n",
    "    print(\" \".join([w.word.lower() for w in align_dict[segid.split('.')[0]][segid]['en']]))"
   ]
  },
  {
   "cell_type": "code",
   "execution_count": 114,
   "metadata": {
    "collapsed": false
   },
   "outputs": [
    {
     "name": "stdout",
     "output_type": "stream",
     "text": [
      "43781 44336\n",
      "sí pues vaya está bueno y seguís y qué tal vas con la corrida bien\n",
      "yes well that 's good and so and how 's going with the running good\n",
      "47684 48103\n",
      "sí pues y el carrito felicitaciones por el carro ya me contaron\n",
      "yes well and the car congratulations for the car already told me\n",
      "9812 10475\n",
      "o sea él le llama del trabajo mi papá le llama del trabajo así es que no se han con el de contacto <noise>\n",
      "so so he call him from work my dad calls him from work so so they have not lost the contact\n",
      "22476 23034\n",
      "imagínese si a mi papá le sale esta co este trabajo y se tiene que ir a perú y tendríamos que irnos por dos años\n",
      "go figure if my dad gets gets this job and he has to go to peru would have to go for two years\n"
     ]
    },
    {
     "data": {
      "image/png": "[encoded data removed]",
      "text/plain": [
       "<matplotlib.figure.Figure at 0x7f427c60fe90>"
      ]
     },
     "metadata": {},
     "output_type": "display_data"
    },
    {
     "data": {
      "image/png": "[encoded data removed]",
      "text/plain": [
       "<matplotlib.figure.Figure at 0x7f4265432d10>"
      ]
     },
     "metadata": {},
     "output_type": "display_data"
    },
    {
     "data": {
      "image/png": "[encoded data removed]",
      "text/plain": [
       "<matplotlib.figure.Figure at 0x7f42653b7ed0>"
      ]
     },
     "metadata": {},
     "output_type": "display_data"
    },
    {
     "data": {
      "image/png": "[encoded data removed]",
      "text/plain": [
       "<matplotlib.figure.Figure at 0x7f426545b890>"
      ]
     },
     "metadata": {},
     "output_type": "display_data"
    }
   ],
   "source": [
    "eacl_segids = ['114.134', '114.142', '091.044', '091.107']\n",
    "\n",
    "for segid in eacl_segids:\n",
    "    plot_seg_wav(segid)"
   ]
  },
  {
   "cell_type": "code",
   "execution_count": 95,
   "metadata": {
    "collapsed": false
   },
   "outputs": [
    {
     "data": {
      "text/plain": [
       "u'../../../ZRTools/exp/callhome/matches/config0.87-0.90-0.80-50/wavs'"
      ]
     },
     "execution_count": 95,
     "metadata": {},
     "output_type": "execute_result"
    }
   ],
   "source": [
    "utd_wavs_path"
   ]
  },
  {
   "cell_type": "code",
   "execution_count": 42,
   "metadata": {
    "collapsed": false
   },
   "outputs": [
    {
     "data": {
      "text/html": [
       "\n",
       "                <audio controls=\"controls\" >\n",
       "                    <source src=\"data:audio/x-wav;base64,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\" type=\"audio/x-wav\" />\n",
       "                    Your browser does not support the audio element.\n",
       "                </audio>\n",
       "              "
      ],
      "text/plain": [
       "<IPython.lib.display.Audio object>"
      ]
     },
     "metadata": {},
     "output_type": "display_data"
    }
   ],
   "source": [
    "display(gen_node_wav(19997, nodes_dict, utd_wavs_path, es_merge_wavs_path, segment_map))"
   ]
  },
  {
   "cell_type": "code",
   "execution_count": 36,
   "metadata": {
    "collapsed": true
   },
   "outputs": [],
   "source": [
    "freq_words = [w for w in clusters_stats['most_common']]"
   ]
  },
  {
   "cell_type": "code",
   "execution_count": 37,
   "metadata": {
    "collapsed": true
   },
   "outputs": [],
   "source": [
    "freq_words_cntr = Counter(freq_words)"
   ]
  },
  {
   "cell_type": "code",
   "execution_count": 42,
   "metadata": {
    "collapsed": false
   },
   "outputs": [
    {
     "name": "stdout",
     "output_type": "stream",
     "text": [
      "aquí\n",
      "bien\n",
      "pues\n",
      "va\n",
      "si\n"
     ]
    }
   ],
   "source": [
    "print(\"\\n\".join([w[0] for w in freq_words_cntr.most_common(5)]))"
   ]
  },
  {
   "cell_type": "code",
   "execution_count": 131,
   "metadata": {
    "collapsed": false
   },
   "outputs": [
    {
     "data": {
      "text/plain": [
       "['fids', 'avg_purity', 'sids', 'purity', 'words', 'most_common']"
      ]
     },
     "execution_count": 131,
     "metadata": {},
     "output_type": "execute_result"
    }
   ],
   "source": [
    "clusters_stats.keys()"
   ]
  },
  {
   "cell_type": "code",
   "execution_count": 43,
   "metadata": {
    "collapsed": false
   },
   "outputs": [
    {
     "name": "stdout",
     "output_type": "stream",
     "text": [
      "288 ,312 ,920 ,1503 ,1584 ,1701 ,2205 ,2443 ,2739 ,2917 ,2935 ,2987 ,2996 ,3455 ,5053 ,5198 ,5209 ,6075 ,6244 ,6441 ,7872 ,8026 ,8275 ,8388 ,8576 ,8662 ,9789 ,11098 ,11105 ,11121 ,11129 ,11699 ,13323 ,13382 ,13599 ,13744 ,14475\n",
      "271\n"
     ]
    }
   ],
   "source": [
    "print(\" ,\".join([str(i) for i, w in enumerate(clusters_stats['most_common']) if w == u'trabajo' and \n",
    " clusters_stats['purity'][i] >= 0.0 and clusters_stats['purity'][i] <= 1]))\n",
    "print(len([str(i) for i, w in enumerate(clusters_stats['most_common']) if w == u'bien' and \n",
    " clusters_stats['purity'][i] >= 0.0 and clusters_stats['purity'][i] <= 1]))"
   ]
  },
  {
   "cell_type": "code",
   "execution_count": 145,
   "metadata": {
    "collapsed": false
   },
   "outputs": [
    {
     "data": {
      "text/plain": [
       "'412 ,2358 ,6290 ,12221'"
      ]
     },
     "execution_count": 145,
     "metadata": {},
     "output_type": "execute_result"
    }
   ],
   "source": [
    "\" ,\".join([str(i) for i, w in enumerate(clusters_stats['most_common']) if w == 'pues' and \n",
    " len(set(clusters_stats['sids'][i]) & set(eacl_segids)) > 0])"
   ]
  },
  {
   "cell_type": "code",
   "execution_count": 128,
   "metadata": {
    "collapsed": false
   },
   "outputs": [
    {
     "name": "stdout",
     "output_type": "stream",
     "text": [
      "clusters.p\t\t\tmt_corpus_train_pseudo.bi\r\n",
      "clusters_stats.dict\t\tmt_gold_eval_dict.p\r\n",
      "eval.p\t\t\t\tmt_gold_pred_dict.p\r\n",
      "master_graph.clusters\t\tmt_probs_dict_gold.p\r\n",
      "master_graph.dedups\t\tmt_probs_dict_pseudo.p\r\n",
      "master_graph.edges\t\tmt_probs_gold.txt\r\n",
      "master_graph.nodes\t\tmt_probs_pseudo.txt\r\n",
      "master_graph.olapedges\t\tmt_pseudo_eval_dict.p\r\n",
      "master_graph_pairs_debug.match\tmt_pseudo_pred_dict.p\r\n",
      "master_graph.segnodes\t\tnodes_dict.p\r\n",
      "master_graph.vedges\t\tpseudowords.dict\r\n",
      "master_graph.zclusters\t\tpseudowords.feats\r\n",
      "master_graph.zedges\t\tscore_pairs.p\r\n",
      "master_match\t\t\twavs\r\n",
      "mt_corpus_train_gold.bi\r\n"
     ]
    }
   ],
   "source": [
    "!ls ../../../ZRTools/exp/callhome/matches/config0.87-0.90-0.80-50/"
   ]
  },
  {
   "cell_type": "code",
   "execution_count": 48,
   "metadata": {
    "collapsed": false
   },
   "outputs": [
    {
     "name": "stdout",
     "output_type": "stream",
     "text": [
      "../../../ZRTools/exp/callhome/matches/config0.87-0.90-0.80-50/tmpwav/0289.wav\n",
      "['002.061', '050.066', '114.155', '076.114', '091.107', '025.092', '091.044', '114.134', '100.129', '101.082', '110.139']\n",
      "siete, días, haití, cómo, gracias, besote, trabajo, trabajo, trata, llama, trabajo, tal, vas, llave, pongo, queridos, poquito\n",
      "0.176470588235\n"
     ]
    }
   ],
   "source": [
    "cid=288\n",
    "# cid = 10758\n",
    "cid_fname = play_cluster(cid)\n",
    "print(cid_fname)\n",
    "print(clusters_stats['sids'][cid])\n",
    "Audio(cid_fname)\n",
    "print(\", \".join(clusters_stats['words'][cid]))\n",
    "print(clusters_stats['purity'][cid])"
   ]
  },
  {
   "cell_type": "code",
   "execution_count": 39,
   "metadata": {
    "collapsed": false
   },
   "outputs": [
    {
     "name": "stdout",
     "output_type": "stream",
     "text": [
      "../../../ZRTools/exp/callhome/matches/config0.87-0.90-0.80-50/tmpwav/14582.wav\n"
     ]
    },
    {
     "data": {
      "text/html": [
       "\n",
       "                <audio controls=\"controls\" >\n",
       "                    <source src=\"data:audio/x-wav;base64,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\" type=\"audio/x-wav\" />\n",
       "                    Your browser does not support the audio element.\n",
       "                </audio>\n",
       "              "
      ],
      "text/plain": [
       "<IPython.lib.display.Audio object>"
      ]
     },
     "execution_count": 39,
     "metadata": {},
     "output_type": "execute_result"
    }
   ],
   "source": [
    "cid_fname = play_cluster(cid=14581)\n",
    "print(cid_fname)\n",
    "Audio(cid_fname)"
   ]
  },
  {
   "cell_type": "code",
   "execution_count": 168,
   "metadata": {
    "collapsed": false
   },
   "outputs": [
    {
     "name": "stdout",
     "output_type": "stream",
     "text": [
      "translation probability table for 289\n",
      "prob sum: 0.4797\n",
      "en word & prob\n",
      "job & 1.0000\n",
      "+---------+--------+\n",
      "| en word |  prob  |\n",
      "+---------+--------+\n",
      "|   job   | 1.0000 |\n",
      "+---------+--------+\n"
     ]
    }
   ],
   "source": [
    "show_translation_prob(\"289\", pseudo_probs_dict)"
   ]
  },
  {
   "cell_type": "code",
   "execution_count": 117,
   "metadata": {
    "collapsed": false
   },
   "outputs": [
    {
     "data": {
      "text/plain": [
       "['train_depth',\n",
       " 'cross_seg',\n",
       " 'cross_file',\n",
       " 'dev_depth',\n",
       " 'fids',\n",
       " 'avg_purity',\n",
       " 'sids',\n",
       " 'in_vocab',\n",
       " 'same_seg',\n",
       " 'is_dev',\n",
       " 'oov',\n",
       " 'purity',\n",
       " 'words',\n",
       " 'most_common',\n",
       " 'is_train']"
      ]
     },
     "execution_count": 117,
     "metadata": {},
     "output_type": "execute_result"
    }
   ],
   "source": [
    "clusters_stats.keys()"
   ]
  },
  {
   "cell_type": "code",
   "execution_count": 118,
   "metadata": {
    "collapsed": false
   },
   "outputs": [
    {
     "data": {
      "text/plain": [
       "[(0, ['001.033', '001.033']),\n",
       " (1, ['001.084', '001.084']),\n",
       " (2, ['001.159', '001.159']),\n",
       " (3, ['001.224', '001.224']),\n",
       " (4, ['001.249', '001.249']),\n",
       " (5, ['001.141', '001.143']),\n",
       " (6, ['001.141', '001.143']),\n",
       " (7, ['001.001', '001.003', '001.260', '009.096']),\n",
       " (8, ['001.229', '001.233', '023.080']),\n",
       " (9, ['001.021', '001.027']),\n",
       " (10, ['001.027', '001.033']),\n",
       " (11, ['001.132', '001.143']),\n",
       " (12, ['001.084', '001.096']),\n",
       " (13, ['001.023', '001.033']),\n",
       " (14, ['001.159', '001.174']),\n",
       " (15, ['001.174', '001.185']),\n",
       " (16, ['001.212', '001.223']),\n",
       " (17, ['001.258', '001.271']),\n",
       " (18,\n",
       "  ['001.229',\n",
       "   '001.247',\n",
       "   '078.036',\n",
       "   '049.190',\n",
       "   '114.070',\n",
       "   '066.196',\n",
       "   '066.042',\n",
       "   '067.028',\n",
       "   '060.097',\n",
       "   '078.119',\n",
       "   '066.051',\n",
       "   '119.007']),\n",
       " (19, ['001.100', '001.118']),\n",
       " (20, ['001.249', '001.267', '001.249', '023.065']),\n",
       " (21, ['001.247', '001.267']),\n",
       " (22, ['001.148', '001.174']),\n",
       " (23, ['001.159', '001.185']),\n",
       " (24, ['001.240', '001.270']),\n",
       " (25, ['001.216', '001.249']),\n",
       " (26, ['001.162', '001.192']),\n",
       " (27, ['001.082', '001.124']),\n",
       " (28, ['001.090', '001.143']),\n",
       " (29, ['001.124', '001.190']),\n",
       " (30, ['001.056', '001.194']),\n",
       " (31, ['001.019', '001.194']),\n",
       " (32, ['001.039', '001.220']),\n",
       " (33, ['001.006', '001.244']),\n",
       " (34, ['001.006', '001.255']),\n",
       " (35, ['001.006', '001.274']),\n",
       " (36, ['001.189', '002.165']),\n",
       " (37, ['001.049', '005.155']),\n",
       " (38, ['001.078', '007.088', '108.153']),\n",
       " (39, ['001.233', '009.180']),\n",
       " (40, ['001.021', '010.003']),\n",
       " (41, ['001.229', '012.199']),\n",
       " (42, ['001.231', '014.090', '094.068', '093.041']),\n",
       " (43, ['001.194', '015.012']),\n",
       " (44, ['001.217', '015.151']),\n",
       " (45, ['001.048', '015.095', '049.062']),\n",
       " (46, ['001.247', '018.046']),\n",
       " (47, ['001.100', '018.061', '091.087']),\n",
       " (48, ['001.013', '018.116']),\n",
       " (49, ['001.100', '018.186']),\n",
       " (50, ['001.210', '021.108', '009.044', '018.196']),\n",
       " (51, ['001.273', '022.009']),\n",
       " (52, ['001.132', '024.079']),\n",
       " (53, ['001.019', '024.074']),\n",
       " (54, ['001.109', '027.033']),\n",
       " (55, ['001.236', '028.033']),\n",
       " (56, ['001.096', '028.042', '066.051']),\n",
       " (57, ['001.131', '030.052', '081.153', '081.174', '030.032']),\n",
       " (58,\n",
       "  ['001.100',\n",
       "   '030.072',\n",
       "   '052.224',\n",
       "   '088.032',\n",
       "   '081.056',\n",
       "   '001.240',\n",
       "   '046.143']),\n",
       " (59, ['001.150', '031.043']),\n",
       " (60, ['001.178', '032.058', '044.041']),\n",
       " (61, ['001.204', '034.030']),\n",
       " (62, ['001.178', '034.022', '066.211']),\n",
       " (63, ['001.222', '037.016']),\n",
       " (64, ['001.274', '039.024', '024.019']),\n",
       " (65, ['001.189', '039.004', '077.174', '101.108']),\n",
       " (66, ['001.089', '040.011']),\n",
       " (67, ['001.181', '041.147']),\n",
       " (68, ['001.229', '042.060']),\n",
       " (69, ['001.229', '042.104']),\n",
       " (70, ['001.190', '042.080', '079.066']),\n",
       " (71, ['001.189', '042.098', '049.065']),\n",
       " (72, ['001.249', '042.168', '086.140']),\n",
       " (73, ['001.159', '042.171', '042.173', '042.182']),\n",
       " (74, ['001.006', '042.225']),\n",
       " (75, ['001.267', '043.065', '072.072', '088.009', '045.241']),\n",
       " (76, ['001.066', '044.006']),\n",
       " (77, ['001.220', '045.013']),\n",
       " (78, ['001.188', '045.260']),\n",
       " (79,\n",
       "  ['001.100',\n",
       "   '046.143',\n",
       "   '114.016',\n",
       "   '070.130',\n",
       "   '070.140',\n",
       "   '078.041',\n",
       "   '031.076',\n",
       "   '078.124',\n",
       "   '015.085',\n",
       "   '042.065']),\n",
       " (80, ['001.084', '048.271']),\n",
       " (81, ['001.127', '052.151']),\n",
       " (82, ['001.233', '053.060']),\n",
       " (83, ['001.189', '053.311']),\n",
       " (84, ['001.003', '057.189']),\n",
       " (85, ['001.220', '058.154']),\n",
       " (86, ['001.019', '058.154']),\n",
       " (87, ['001.213', '059.126']),\n",
       " (88, ['001.184', '059.175', '041.194']),\n",
       " (89, ['001.033', '060.216', '024.021', '018.107']),\n",
       " (90, ['001.204', '061.192']),\n",
       " (91, ['001.247', '062.120']),\n",
       " (92, ['001.124', '062.219']),\n",
       " (93, ['001.220', '063.004']),\n",
       " (94, ['001.090', '065.077']),\n",
       " (95,\n",
       "  ['001.274',\n",
       "   '072.241',\n",
       "   '120.154',\n",
       "   '067.019',\n",
       "   '021.061',\n",
       "   '044.028',\n",
       "   '049.190']),\n",
       " (96, ['001.109', '072.094', '110.160', '085.136']),\n",
       " (97, ['001.274', '076.016']),\n",
       " (98, ['001.192', '076.022']),\n",
       " (99, ['001.229', '076.053']),\n",
       " (100, ['001.236', '076.080']),\n",
       " (101, ['001.113', '076.114']),\n",
       " (102, ['001.184', '078.007']),\n",
       " (103,\n",
       "  ['001.217',\n",
       "   '078.036',\n",
       "   '005.155',\n",
       "   '078.043',\n",
       "   '009.121',\n",
       "   '049.192',\n",
       "   '010.178',\n",
       "   '076.142',\n",
       "   '066.183',\n",
       "   '078.138',\n",
       "   '087.020',\n",
       "   '120.125',\n",
       "   '053.252',\n",
       "   '040.065',\n",
       "   '049.192',\n",
       "   '012.202',\n",
       "   '107.085',\n",
       "   '111.009',\n",
       "   '120.089',\n",
       "   '120.087',\n",
       "   '041.035',\n",
       "   '042.164']),\n",
       " (104, ['001.164', '078.020']),\n",
       " (105, ['001.102', '078.020', '042.095', '041.175']),\n",
       " (106, ['001.109', '082.144']),\n",
       " (107, ['001.181', '083.133']),\n",
       " (108, ['001.131', '083.243']),\n",
       " (109, ['001.141', '086.155']),\n",
       " (110, ['001.096', '086.162']),\n",
       " (111, ['001.274', '087.020']),\n",
       " (112, ['001.274', '087.046', '042.004']),\n",
       " (113, ['001.229', '087.128']),\n",
       " (114, ['001.181', '087.094']),\n",
       " (115, ['001.185', '087.173']),\n",
       " (116, ['001.012', '088.099', '120.124', '018.038']),\n",
       " (117, ['001.274', '089.138']),\n",
       " (118, ['001.178', '090.113', '023.060']),\n",
       " (119, ['001.023', '091.117']),\n",
       " (120, ['001.189', '092.068']),\n",
       " (121, ['001.273', '093.021']),\n",
       " (122, ['001.267', '093.237']),\n",
       " (123, ['001.031', '095.005']),\n",
       " (124, ['001.031', '095.048']),\n",
       " (125, ['001.100', '095.149', '095.014', '095.003', '015.052']),\n",
       " (126, ['001.131', '103.049']),\n",
       " (127, ['001.274', '104.008', '041.138']),\n",
       " (128, ['001.033', '106.005']),\n",
       " (129, ['001.263', '107.148']),\n",
       " (130, ['001.181', '108.004']),\n",
       " (131, ['001.045', '108.060']),\n",
       " (132, ['001.235', '110.150']),\n",
       " (133, ['001.235', '110.150']),\n",
       " (134, ['001.178', '111.001']),\n",
       " (135, ['001.084', '111.067']),\n",
       " (136, ['001.222', '111.180', '040.046']),\n",
       " (137, ['001.138', '113.214']),\n",
       " (138, ['001.019', '113.152', '027.023', '065.067']),\n",
       " (139, ['001.178', '119.012']),\n",
       " (140, ['001.214', '120.125']),\n",
       " (141, ['001.096', '120.176']),\n",
       " (142, ['001.084', '120.179', '107.106']),\n",
       " (143, ['002.122', '001.184']),\n",
       " (144, ['002.110', '001.201']),\n",
       " (145, ['002.201', '002.201']),\n",
       " (146, ['002.201', '002.201']),\n",
       " (147, ['002.114', '002.114']),\n",
       " (148, ['002.151', '002.151']),\n",
       " (149, ['002.022', '002.022']),\n",
       " (150, ['002.151', '002.151', '053.002']),\n",
       " (151, ['002.101', '002.101']),\n",
       " (152, ['002.087', '002.087']),\n",
       " (153, ['002.165', '002.165']),\n",
       " (154, ['002.067', '002.067', '006.105', '114.134']),\n",
       " (155, ['002.079', '002.079']),\n",
       " (156, ['002.163', '002.165']),\n",
       " (157, ['002.076', '002.076']),\n",
       " (158, ['002.206', '002.206']),\n",
       " (159, ['002.146', '002.146']),\n",
       " (160, ['002.187', '002.187']),\n",
       " (161, ['002.028', '002.030']),\n",
       " (162, ['002.092', '002.094']),\n",
       " (163, ['002.114', '002.116']),\n",
       " (164, ['002.114', '002.116']),\n",
       " (165, ['002.163', '002.165', '002.010', '111.180', '062.102']),\n",
       " (166, ['002.017', '002.019']),\n",
       " (167, ['002.017', '002.019']),\n",
       " (168, ['002.132', '002.134', '002.119']),\n",
       " (169, ['002.213', '002.217']),\n",
       " (170, ['002.033', '002.035']),\n",
       " (171, ['002.110', '002.117']),\n",
       " (172, ['002.086', '002.096']),\n",
       " (173, ['002.105', '002.120', '002.103']),\n",
       " (174, ['002.140', '002.167']),\n",
       " (175, ['002.180', '002.198', '116.032']),\n",
       " (176, ['002.189', '002.213']),\n",
       " (177, ['002.126', '002.161']),\n",
       " (178, ['002.165', '002.198']),\n",
       " (179, ['002.121', '002.161']),\n",
       " (180, ['002.138', '002.187']),\n",
       " (181, ['002.012', '002.070']),\n",
       " (182, ['002.024', '002.080']),\n",
       " (183, ['002.122', '002.184']),\n",
       " (184, ['002.064', '002.175']),\n",
       " (185, ['002.046', '002.163']),\n",
       " (186, ['002.026', '002.146', '042.198', '083.005', '120.114']),\n",
       " (187, ['002.094', '002.217']),\n",
       " (188, ['002.006', '002.146']),\n",
       " (189, ['002.031', '002.186']),\n",
       " (190, ['002.064', '002.217']),\n",
       " (191, ['002.033', '002.206']),\n",
       " (192, ['002.140', '005.182', '072.253', '012.100', '086.186']),\n",
       " (193,\n",
       "  ['002.071',\n",
       "   '006.028',\n",
       "   '034.028',\n",
       "   '063.069',\n",
       "   '038.037',\n",
       "   '052.159',\n",
       "   '117.113',\n",
       "   '014.165']),\n",
       " (194, ['002.111', '006.080']),\n",
       " (195, ['002.189', '007.043']),\n",
       " (196, ['002.047', '007.127']),\n",
       " (197, ['002.205', '009.116']),\n",
       " (198, ['002.121', '009.024']),\n",
       " (199, ['002.156', '009.153']),\n",
       " (200, ['002.083', '009.116']),\n",
       " (201, ['002.110', '009.157', '082.172']),\n",
       " (202, ['002.036', '009.081']),\n",
       " (203, ['002.037', '009.114']),\n",
       " (204, ['002.112', '011.072', '111.173']),\n",
       " (205, ['002.020', '012.100']),\n",
       " (206, ['002.073', '012.210', '061.217']),\n",
       " (207, ['002.010', '014.218']),\n",
       " (208, ['002.216', '015.164']),\n",
       " (209,\n",
       "  ['002.047',\n",
       "   '015.004',\n",
       "   '002.122',\n",
       "   '031.076',\n",
       "   '002.084',\n",
       "   '037.016',\n",
       "   '002.132',\n",
       "   '039.061',\n",
       "   '002.138',\n",
       "   '046.234',\n",
       "   '002.135',\n",
       "   '066.025',\n",
       "   '002.019',\n",
       "   '078.124',\n",
       "   '002.021',\n",
       "   '088.032',\n",
       "   '002.015',\n",
       "   '088.165',\n",
       "   '002.025',\n",
       "   '100.001',\n",
       "   '005.171',\n",
       "   '005.182',\n",
       "   '005.155',\n",
       "   '006.158',\n",
       "   '005.019',\n",
       "   '014.006',\n",
       "   '005.155',\n",
       "   '024.042',\n",
       "   '037.059',\n",
       "   '052.224',\n",
       "   '005.124',\n",
       "   '059.081',\n",
       "   '061.165',\n",
       "   '061.172',\n",
       "   '005.081',\n",
       "   '061.184',\n",
       "   '075.105',\n",
       "   '082.083',\n",
       "   '092.045',\n",
       "   '005.155',\n",
       "   '114.070',\n",
       "   '006.134',\n",
       "   '010.198',\n",
       "   '006.151',\n",
       "   '012.088',\n",
       "   '006.034',\n",
       "   '006.021',\n",
       "   '006.143',\n",
       "   '028.061',\n",
       "   '006.150',\n",
       "   '030.022',\n",
       "   '006.143',\n",
       "   '030.076',\n",
       "   '031.033',\n",
       "   '006.134',\n",
       "   '031.019',\n",
       "   '034.062',\n",
       "   '006.062',\n",
       "   '034.052',\n",
       "   '006.134',\n",
       "   '041.014',\n",
       "   '006.038',\n",
       "   '041.039',\n",
       "   '058.017',\n",
       "   '006.140',\n",
       "   '058.036',\n",
       "   '006.021',\n",
       "   '060.116',\n",
       "   '006.084',\n",
       "   '066.033',\n",
       "   '006.085',\n",
       "   '087.211',\n",
       "   '006.143',\n",
       "   '104.125',\n",
       "   '006.031',\n",
       "   '111.159',\n",
       "   '114.011',\n",
       "   '007.045',\n",
       "   '027.055',\n",
       "   '007.254',\n",
       "   '041.110',\n",
       "   '007.255',\n",
       "   '007.127',\n",
       "   '066.163',\n",
       "   '009.049',\n",
       "   '009.057',\n",
       "   '009.167',\n",
       "   '015.004',\n",
       "   '009.210',\n",
       "   '044.010',\n",
       "   '009.202',\n",
       "   '054.268',\n",
       "   '009.010',\n",
       "   '061.023',\n",
       "   '009.157',\n",
       "   '067.035',\n",
       "   '009.206',\n",
       "   '078.124',\n",
       "   '079.032',\n",
       "   '009.167',\n",
       "   '087.026',\n",
       "   '009.071',\n",
       "   '088.061',\n",
       "   '092.115',\n",
       "   '010.112',\n",
       "   '010.205',\n",
       "   '034.008',\n",
       "   '010.041',\n",
       "   '042.131',\n",
       "   '010.207',\n",
       "   '060.040',\n",
       "   '078.036',\n",
       "   '010.200',\n",
       "   '088.217',\n",
       "   '010.164',\n",
       "   '091.035',\n",
       "   '010.207',\n",
       "   '104.050',\n",
       "   '010.203',\n",
       "   '111.104',\n",
       "   '010.207',\n",
       "   '114.022',\n",
       "   '114.070',\n",
       "   '114.082',\n",
       "   '010.176',\n",
       "   '114.082',\n",
       "   '010.176',\n",
       "   '114.109',\n",
       "   '011.011',\n",
       "   '035.109',\n",
       "   '012.060',\n",
       "   '012.201',\n",
       "   '012.053',\n",
       "   '015.004',\n",
       "   '012.187',\n",
       "   '025.013',\n",
       "   '012.201',\n",
       "   '031.078',\n",
       "   '012.187',\n",
       "   '034.012',\n",
       "   '012.187',\n",
       "   '034.062',\n",
       "   '012.092',\n",
       "   '034.044',\n",
       "   '012.029',\n",
       "   '037.048',\n",
       "   '049.175',\n",
       "   '078.020',\n",
       "   '049.171',\n",
       "   '049.227',\n",
       "   '082.125',\n",
       "   '049.190',\n",
       "   '114.013',\n",
       "   '114.055',\n",
       "   '049.157',\n",
       "   '119.001',\n",
       "   '050.121',\n",
       "   '007.002',\n",
       "   '050.057',\n",
       "   '050.115',\n",
       "   '021.087',\n",
       "   '050.157',\n",
       "   '030.029',\n",
       "   '030.031',\n",
       "   '050.062',\n",
       "   '033.106',\n",
       "   '050.129',\n",
       "   '034.038',\n",
       "   '050.157',\n",
       "   '034.062',\n",
       "   '050.129',\n",
       "   '034.052',\n",
       "   '050.066',\n",
       "   '034.048',\n",
       "   '050.147',\n",
       "   '035.108',\n",
       "   '040.069',\n",
       "   '050.147',\n",
       "   '042.140',\n",
       "   '050.062',\n",
       "   '042.130',\n",
       "   '050.062',\n",
       "   '042.164',\n",
       "   '045.104',\n",
       "   '045.171',\n",
       "   '076.016',\n",
       "   '076.022',\n",
       "   '078.020',\n",
       "   '050.129',\n",
       "   '078.138',\n",
       "   '050.157',\n",
       "   '079.020',\n",
       "   '083.102',\n",
       "   '088.040',\n",
       "   '050.147',\n",
       "   '088.070',\n",
       "   '050.147',\n",
       "   '091.099',\n",
       "   '091.041',\n",
       "   '094.060',\n",
       "   '104.004',\n",
       "   '111.015',\n",
       "   '111.027',\n",
       "   '114.105',\n",
       "   '114.013',\n",
       "   '050.062',\n",
       "   '114.024',\n",
       "   '114.128',\n",
       "   '114.142',\n",
       "   '114.082',\n",
       "   '052.235',\n",
       "   '037.017',\n",
       "   '052.271',\n",
       "   '052.246',\n",
       "   '054.198',\n",
       "   '053.290',\n",
       "   '034.066',\n",
       "   '053.109',\n",
       "   '053.060',\n",
       "   '039.098',\n",
       "   '053.142',\n",
       "   '083.131',\n",
       "   '053.266',\n",
       "   '091.205',\n",
       "   '053.010',\n",
       "   '104.011',\n",
       "   '053.149',\n",
       "   '107.146',\n",
       "   '053.241',\n",
       "   '053.011',\n",
       "   '120.021',\n",
       "   '054.094',\n",
       "   '028.024',\n",
       "   '054.051',\n",
       "   '031.019',\n",
       "   '054.261',\n",
       "   '054.281',\n",
       "   '054.155',\n",
       "   '034.012',\n",
       "   '054.289',\n",
       "   '036.074',\n",
       "   '043.058',\n",
       "   '044.133',\n",
       "   '054.064',\n",
       "   '044.103',\n",
       "   '054.051',\n",
       "   '060.210',\n",
       "   '054.144',\n",
       "   '061.067',\n",
       "   '054.286',\n",
       "   '072.135',\n",
       "   '054.303',\n",
       "   '078.043',\n",
       "   '078.138',\n",
       "   '054.229',\n",
       "   '054.192',\n",
       "   '081.180',\n",
       "   '054.003',\n",
       "   '112.042',\n",
       "   '056.004',\n",
       "   '056.089',\n",
       "   '088.032',\n",
       "   '057.186',\n",
       "   '021.008',\n",
       "   '039.093',\n",
       "   '057.024',\n",
       "   '042.182',\n",
       "   '057.026',\n",
       "   '045.143',\n",
       "   '057.040',\n",
       "   '060.122',\n",
       "   '067.025',\n",
       "   '057.186',\n",
       "   '077.110',\n",
       "   '057.058',\n",
       "   '079.020',\n",
       "   '120.116',\n",
       "   '018.186',\n",
       "   '058.138',\n",
       "   '027.010',\n",
       "   '058.054',\n",
       "   '034.066',\n",
       "   '058.115',\n",
       "   '037.084',\n",
       "   '037.050',\n",
       "   '039.030',\n",
       "   '045.116',\n",
       "   '058.103',\n",
       "   '076.109',\n",
       "   '058.115',\n",
       "   '081.281',\n",
       "   '081.256',\n",
       "   '087.138',\n",
       "   '058.131',\n",
       "   '088.013',\n",
       "   '058.162',\n",
       "   '114.018',\n",
       "   '120.128',\n",
       "   '059.013',\n",
       "   '059.173',\n",
       "   '059.066',\n",
       "   '028.104',\n",
       "   '059.079',\n",
       "   '043.050',\n",
       "   '059.166',\n",
       "   '044.087',\n",
       "   '059.064',\n",
       "   '059.160',\n",
       "   '066.033',\n",
       "   '059.175',\n",
       "   '072.036',\n",
       "   '059.160',\n",
       "   '076.114',\n",
       "   '059.146',\n",
       "   '078.138',\n",
       "   '087.014',\n",
       "   '059.048',\n",
       "   '088.110',\n",
       "   '059.019',\n",
       "   '110.044',\n",
       "   '059.128',\n",
       "   '114.153',\n",
       "   '059.152',\n",
       "   '120.082',\n",
       "   '060.116',\n",
       "   '024.062',\n",
       "   '060.210',\n",
       "   '028.095',\n",
       "   '060.047',\n",
       "   '060.187',\n",
       "   '047.190',\n",
       "   '060.210',\n",
       "   '060.059',\n",
       "   '060.170',\n",
       "   '060.059',\n",
       "   '078.036',\n",
       "   '060.011',\n",
       "   '078.036',\n",
       "   '114.018',\n",
       "   '114.018',\n",
       "   '060.011',\n",
       "   '114.132',\n",
       "   '061.005',\n",
       "   '061.142',\n",
       "   '014.165',\n",
       "   '061.039',\n",
       "   '061.105',\n",
       "   '015.059',\n",
       "   '061.126',\n",
       "   '015.108',\n",
       "   '061.043',\n",
       "   '015.059',\n",
       "   '061.145',\n",
       "   '021.106',\n",
       "   '025.074',\n",
       "   '061.186',\n",
       "   '028.057',\n",
       "   '061.169',\n",
       "   '028.057',\n",
       "   '061.105',\n",
       "   '032.025',\n",
       "   '061.203',\n",
       "   '033.033',\n",
       "   '061.217',\n",
       "   '034.022',\n",
       "   '061.229',\n",
       "   '034.044',\n",
       "   '061.230',\n",
       "   '061.197',\n",
       "   '034.070',\n",
       "   '061.049',\n",
       "   '034.022',\n",
       "   '061.025',\n",
       "   '061.066',\n",
       "   '061.145',\n",
       "   '037.053',\n",
       "   '061.207',\n",
       "   '039.011',\n",
       "   '039.063',\n",
       "   '061.153',\n",
       "   '039.004',\n",
       "   '039.063',\n",
       "   '061.142',\n",
       "   '041.052',\n",
       "   '041.025',\n",
       "   '041.079',\n",
       "   '061.117',\n",
       "   '041.207',\n",
       "   '061.165',\n",
       "   '042.104',\n",
       "   '061.165',\n",
       "   '042.109',\n",
       "   '061.025',\n",
       "   '042.093',\n",
       "   '061.142',\n",
       "   '043.105',\n",
       "   '043.146',\n",
       "   '044.096',\n",
       "   '061.114',\n",
       "   '061.105',\n",
       "   '045.104',\n",
       "   '046.119',\n",
       "   '061.145',\n",
       "   '046.296',\n",
       "   '061.043',\n",
       "   '053.059',\n",
       "   '058.015',\n",
       "   '059.010',\n",
       "   '061.163',\n",
       "   '059.066',\n",
       "   '061.195',\n",
       "   '061.197',\n",
       "   '061.117',\n",
       "   '061.145',\n",
       "   '061.117',\n",
       "   '061.025',\n",
       "   '061.049',\n",
       "   '061.217',\n",
       "   '061.041',\n",
       "   '061.214',\n",
       "   '065.035',\n",
       "   '067.005',\n",
       "   '067.102',\n",
       "   '061.045',\n",
       "   '067.116',\n",
       "   '061.225',\n",
       "   '072.047',\n",
       "   '072.050',\n",
       "   '061.126',\n",
       "   '072.001',\n",
       "   '072.012',\n",
       "   '072.050',\n",
       "   '072.066',\n",
       "   '072.047',\n",
       "   '072.156',\n",
       "   '061.207',\n",
       "   '073.236',\n",
       "   '076.099',\n",
       "   '076.134',\n",
       "   '077.178',\n",
       "   '061.025',\n",
       "   '077.174',\n",
       "   '077.206',\n",
       "   '061.145',\n",
       "   '078.036',\n",
       "   '078.042',\n",
       "   '078.138',\n",
       "   '078.141',\n",
       "   '078.120',\n",
       "   '081.091',\n",
       "   '081.259',\n",
       "   '061.192',\n",
       "   '082.140',\n",
       "   '061.203',\n",
       "   '082.196',\n",
       "   '083.027',\n",
       "   '083.097',\n",
       "   '083.102',\n",
       "   '083.109',\n",
       "   '083.184',\n",
       "   '083.190',\n",
       "   '061.158',\n",
       "   '087.030',\n",
       "   '061.105',\n",
       "   '087.194',\n",
       "   '061.203',\n",
       "   '088.029',\n",
       "   '061.172',\n",
       "   '088.032',\n",
       "   '088.070',\n",
       "   '088.089',\n",
       "   '088.016',\n",
       "   '088.151',\n",
       "   '061.114',\n",
       "   '088.070',\n",
       "   '061.229',\n",
       "   '088.194',\n",
       "   '088.143',\n",
       "   '061.043',\n",
       "   '061.028',\n",
       "   '088.159',\n",
       "   '088.061',\n",
       "   '061.041',\n",
       "   '088.091',\n",
       "   '088.191',\n",
       "   '061.011',\n",
       "   '088.191',\n",
       "   '061.148',\n",
       "   '094.024',\n",
       "   '100.109',\n",
       "   '100.109',\n",
       "   '101.115',\n",
       "   '104.152',\n",
       "   '110.130',\n",
       "   '061.168',\n",
       "   '111.007',\n",
       "   '111.035',\n",
       "   '111.149',\n",
       "   '114.064',\n",
       "   '061.223',\n",
       "   '061.062',\n",
       "   '114.018',\n",
       "   '061.172',\n",
       "   '114.134',\n",
       "   '114.016',\n",
       "   '061.066',\n",
       "   '114.064',\n",
       "   '114.142',\n",
       "   '114.097',\n",
       "   '061.068',\n",
       "   '115.010',\n",
       "   '118.046',\n",
       "   '061.077',\n",
       "   '120.108',\n",
       "   '062.037',\n",
       "   '037.001',\n",
       "   '062.259',\n",
       "   '046.358',\n",
       "   '062.148',\n",
       "   '090.011',\n",
       "   '114.016',\n",
       "   '063.118',\n",
       "   '065.060',\n",
       "   '065.068',\n",
       "   '039.011',\n",
       "   '065.058',\n",
       "   '065.119',\n",
       "   '065.068',\n",
       "   '083.188',\n",
       "   '066.187',\n",
       "   '012.136',\n",
       "   '066.067',\n",
       "   '066.059',\n",
       "   '015.010',\n",
       "   '066.051',\n",
       "   '031.048',\n",
       "   '066.067',\n",
       "   '066.067',\n",
       "   '034.042',\n",
       "   '035.054',\n",
       "   '066.025',\n",
       "   '037.003',\n",
       "   '066.203',\n",
       "   '066.030',\n",
       "   '041.021',\n",
       "   '066.001',\n",
       "   '041.122',\n",
       "   '042.085',\n",
       "   '042.110',\n",
       "   '066.042',\n",
       "   '043.008',\n",
       "   '066.163',\n",
       "   '043.094',\n",
       "   '066.085',\n",
       "   '045.090',\n",
       "   '066.085',\n",
       "   '047.078',\n",
       "   '047.256',\n",
       "   '066.051',\n",
       "   '059.052',\n",
       "   '066.033',\n",
       "   '061.163',\n",
       "   '066.163',\n",
       "   '066.073',\n",
       "   '076.109',\n",
       "   '066.183',\n",
       "   '066.203',\n",
       "   '078.097',\n",
       "   '066.033',\n",
       "   '078.141',\n",
       "   '078.141',\n",
       "   '066.045',\n",
       "   '079.111',\n",
       "   '066.097',\n",
       "   '088.176',\n",
       "   '100.109',\n",
       "   '104.115',\n",
       "   '111.057',\n",
       "   '112.044',\n",
       "   '114.013',\n",
       "   '066.035',\n",
       "   '114.132',\n",
       "   '114.153',\n",
       "   '018.112',\n",
       "   '067.116',\n",
       "   '037.040',\n",
       "   '067.012',\n",
       "   '042.010',\n",
       "   '067.038',\n",
       "   '076.053',\n",
       "   '081.047',\n",
       "   '081.099',\n",
       "   '088.213',\n",
       "   '067.131',\n",
       "   '093.113',\n",
       "   '067.103',\n",
       "   '104.087',\n",
       "   '067.069',\n",
       "   '070.021',\n",
       "   '070.069',\n",
       "   '034.022',\n",
       "   '070.169',\n",
       "   '082.129',\n",
       "   '114.018',\n",
       "   '070.004',\n",
       "   '114.013',\n",
       "   '071.103',\n",
       "   '071.048',\n",
       "   '045.090',\n",
       "   '071.041',\n",
       "   '046.179',\n",
       "   '071.041',\n",
       "   '071.020',\n",
       "   '071.023',\n",
       "   '076.109',\n",
       "   '071.201',\n",
       "   '078.138',\n",
       "   '078.153',\n",
       "   '114.003',\n",
       "   '072.062',\n",
       "   '012.008',\n",
       "   '072.024',\n",
       "   '024.098',\n",
       "   '072.253',\n",
       "   '072.050',\n",
       "   '030.042',\n",
       "   '072.251',\n",
       "   '072.156',\n",
       "   '072.062',\n",
       "   '072.055',\n",
       "   '034.038',\n",
       "   '072.094',\n",
       "   '037.049',\n",
       "   '072.053',\n",
       "   '072.001',\n",
       "   '039.102',\n",
       "   '072.197',\n",
       "   '041.004',\n",
       "   '072.094',\n",
       "   '041.175',\n",
       "   '072.253',\n",
       "   '072.055',\n",
       "   '042.023',\n",
       "   '072.072',\n",
       "   '042.079',\n",
       "   '042.104',\n",
       "   '046.136',\n",
       "   '072.091',\n",
       "   '067.019',\n",
       "   '072.062',\n",
       "   '072.149',\n",
       "   '077.091',\n",
       "   '077.197',\n",
       "   '072.225',\n",
       "   '072.225',\n",
       "   '081.046',\n",
       "   '082.101',\n",
       "   '072.199',\n",
       "   '083.004',\n",
       "   '087.142',\n",
       "   '088.096',\n",
       "   '072.008',\n",
       "   '072.199',\n",
       "   '091.037',\n",
       "   '092.097',\n",
       "   '072.032',\n",
       "   '101.125',\n",
       "   '072.062',\n",
       "   '108.049',\n",
       "   '110.141',\n",
       "   '111.069',\n",
       "   '072.001',\n",
       "   '111.144',\n",
       "   '112.082',\n",
       "   '114.013',\n",
       "   '072.040',\n",
       "   '114.037',\n",
       "   '073.223',\n",
       "   '073.236',\n",
       "   '076.033',\n",
       "   '076.140',\n",
       "   '015.034',\n",
       "   '076.086',\n",
       "   '015.081',\n",
       "   '076.057',\n",
       "   '031.017',\n",
       "   '076.039',\n",
       "   '076.154',\n",
       "   '034.070',\n",
       "   '076.140',\n",
       "   '076.045',\n",
       "   '034.022',\n",
       "   '076.039',\n",
       "   '039.011',\n",
       "   '076.082',\n",
       "   '042.111',\n",
       "   '076.022',\n",
       "   '076.039',\n",
       "   '042.164',\n",
       "   '076.016',\n",
       "   '042.209',\n",
       "   '045.143',\n",
       "   '076.062',\n",
       "   '047.220',\n",
       "   '065.053',\n",
       "   '082.083',\n",
       "   '087.023',\n",
       "   '076.030',\n",
       "   '110.176',\n",
       "   '076.044',\n",
       "   '120.178',\n",
       "   '077.174',\n",
       "   '012.102',\n",
       "   '077.216',\n",
       "   '032.025',\n",
       "   '077.201',\n",
       "   '034.022',\n",
       "   '035.092',\n",
       "   '077.216',\n",
       "   '041.135',\n",
       "   '042.140',\n",
       "   '077.206',\n",
       "   '042.140',\n",
       "   '077.147',\n",
       "   '042.117',\n",
       "   '045.149',\n",
       "   '046.029',\n",
       "   '077.078',\n",
       "   '046.185',\n",
       "   '077.110',\n",
       "   '077.147',\n",
       "   '067.094',\n",
       "   '077.066',\n",
       "   '077.197',\n",
       "   '104.140',\n",
       "   '077.201',\n",
       "   '078.141',\n",
       "   '078.090',\n",
       "   '012.078',\n",
       "   '014.128',\n",
       "   '078.071',\n",
       "   '078.081',\n",
       "   '078.036',\n",
       "   '018.064',\n",
       "   '021.116',\n",
       "   '024.102',\n",
       "   '078.043',\n",
       "   '024.070',\n",
       "   '028.084',\n",
       "   '028.104',\n",
       "   '078.036',\n",
       "   '030.029',\n",
       "   '030.031',\n",
       "   '078.052',\n",
       "   '078.043',\n",
       "   '078.141',\n",
       "   '037.047',\n",
       "   '037.049',\n",
       "   '078.004',\n",
       "   '078.138',\n",
       "   '078.043',\n",
       "   '039.061',\n",
       "   '078.043',\n",
       "   '039.098',\n",
       "   '039.093',\n",
       "   '041.019',\n",
       "   '078.036',\n",
       "   '041.040',\n",
       "   '078.138',\n",
       "   '042.162',\n",
       "   '042.019',\n",
       "   '078.043',\n",
       "   '042.219',\n",
       "   '044.155',\n",
       "   '045.013',\n",
       "   '045.139',\n",
       "   '045.210',\n",
       "   '061.172',\n",
       "   '078.043',\n",
       "   '078.043',\n",
       "   '078.020',\n",
       "   '078.043',\n",
       "   '078.081',\n",
       "   '079.032',\n",
       "   '081.061',\n",
       "   '078.036',\n",
       "   '081.099',\n",
       "   '081.116',\n",
       "   '078.043',\n",
       "   '088.046',\n",
       "   '088.094',\n",
       "   '088.209',\n",
       "   '088.094',\n",
       "   '089.138',\n",
       "   '091.099',\n",
       "   '091.207',\n",
       "   '078.138',\n",
       "   '101.102',\n",
       "   '104.036',\n",
       "   '104.008',\n",
       "   '078.138',\n",
       "   '078.138',\n",
       "   '104.142',\n",
       "   '105.130',\n",
       "   '107.053',\n",
       "   '111.144',\n",
       "   '111.092',\n",
       "   '112.080',\n",
       "   '112.082',\n",
       "   '114.018',\n",
       "   '114.003',\n",
       "   '114.009',\n",
       "   '114.128',\n",
       "   '078.043',\n",
       "   '114.018',\n",
       "   '114.018',\n",
       "   '078.036',\n",
       "   '114.024',\n",
       "   '078.138',\n",
       "   '114.151',\n",
       "   '114.026',\n",
       "   '114.109',\n",
       "   '078.040',\n",
       "   '114.070',\n",
       "   '078.043',\n",
       "   '116.119',\n",
       "   '120.134',\n",
       "   '012.053',\n",
       "   '079.153',\n",
       "   '079.020',\n",
       "   '041.019',\n",
       "   '042.107',\n",
       "   '079.031',\n",
       "   '042.140',\n",
       "   '079.020',\n",
       "   '057.046',\n",
       "   '079.153',\n",
       "   '079.091',\n",
       "   '088.061',\n",
       "   '079.020',\n",
       "   '088.207',\n",
       "   '079.031',\n",
       "   '088.219',\n",
       "   '104.006',\n",
       "   '079.115',\n",
       "   '079.022',\n",
       "   '114.018',\n",
       "   '114.099',\n",
       "   '114.082',\n",
       "   '117.147',\n",
       "   '081.116',\n",
       "   '042.104',\n",
       "   '044.136',\n",
       "   '081.220',\n",
       "   '101.051',\n",
       "   '081.029',\n",
       "   '105.050',\n",
       "   '018.183',\n",
       "   '082.075',\n",
       "   '027.055',\n",
       "   '082.123',\n",
       "   '031.059',\n",
       "   '037.053',\n",
       "   '041.001',\n",
       "   '082.141',\n",
       "   '082.216',\n",
       "   '015.019',\n",
       "   '083.027',\n",
       "   '083.190',\n",
       "   '083.190',\n",
       "   '034.008',\n",
       "   '083.186',\n",
       "   '083.190',\n",
       "   '034.038',\n",
       "   '083.004',\n",
       "   '035.092',\n",
       "   '083.200',\n",
       "   '083.200',\n",
       "   '083.209',\n",
       "   '041.022',\n",
       "   '083.084',\n",
       "   '041.073',\n",
       "   '083.108',\n",
       "   '083.004',\n",
       "   '045.104',\n",
       "   '046.284',\n",
       "   '083.112',\n",
       "   '083.183',\n",
       "   '083.108',\n",
       "   '083.244',\n",
       "   '083.008',\n",
       "   '083.131',\n",
       "   '088.068',\n",
       "   '083.109',\n",
       "   '088.094',\n",
       "   '093.173',\n",
       "   '101.175',\n",
       "   '083.209',\n",
       "   '083.190',\n",
       "   '114.022',\n",
       "   '114.022',\n",
       "   '083.131',\n",
       "   '027.023',\n",
       "   '087.004',\n",
       "   '034.030',\n",
       "   '047.027',\n",
       "   '087.213',\n",
       "   '087.173',\n",
       "   '066.004',\n",
       "   '087.020',\n",
       "   '087.182',\n",
       "   '111.159',\n",
       "   '087.034',\n",
       "   '114.082',\n",
       "   '114.082',\n",
       "   '087.030',\n",
       "   '114.082',\n",
       "   '088.032',\n",
       "   '012.035',\n",
       "   '088.165',\n",
       "   '014.167',\n",
       "   '088.048',\n",
       "   '015.051',\n",
       "   '088.223',\n",
       "   '028.054',\n",
       "   '028.054',\n",
       "   '028.059',\n",
       "   '028.001',\n",
       "   '088.029',\n",
       "   '088.058',\n",
       "   '028.092',\n",
       "   '088.209',\n",
       "   '030.029',\n",
       "   '088.165',\n",
       "   '030.029',\n",
       "   '030.005',\n",
       "   '088.133',\n",
       "   '034.042',\n",
       "   '088.153',\n",
       "   '034.051',\n",
       "   '088.099',\n",
       "   '088.040',\n",
       "   '088.046',\n",
       "   '036.064',\n",
       "   '088.163',\n",
       "   '037.017',\n",
       "   '088.113',\n",
       "   '041.014',\n",
       "   '041.179',\n",
       "   '088.165',\n",
       "   '042.026',\n",
       "   '088.191',\n",
       "   '042.110',\n",
       "   '088.188',\n",
       "   '088.179',\n",
       "   '042.114',\n",
       "   '042.225',\n",
       "   '042.220',\n",
       "   '088.191',\n",
       "   '043.009',\n",
       "   '043.011',\n",
       "   '043.054',\n",
       "   '043.146',\n",
       "   '044.096',\n",
       "   '088.113',\n",
       "   '044.103',\n",
       "   '088.126',\n",
       "   '046.117',\n",
       "   '088.070',\n",
       "   '088.013',\n",
       "   '088.032',\n",
       "   '046.259',\n",
       "   '088.151',\n",
       "   '047.208',\n",
       "   '088.061',\n",
       "   '088.070',\n",
       "   '088.165',\n",
       "   '088.211',\n",
       "   '061.097',\n",
       "   '077.147',\n",
       "   '078.138',\n",
       "   '088.217',\n",
       "   '088.009',\n",
       "   '083.004',\n",
       "   '088.027',\n",
       "   '088.157',\n",
       "   '088.213',\n",
       "   '088.232',\n",
       "   '088.229',\n",
       "   '091.121',\n",
       "   '091.056',\n",
       "   '088.040',\n",
       "   '101.058',\n",
       "   '101.020',\n",
       "   '101.156',\n",
       "   '104.004',\n",
       "   '105.142',\n",
       "   '105.136',\n",
       "   '107.011',\n",
       "   '088.229',\n",
       "   ...]),\n",
       " (210, ['002.217', '018.162', '061.168']),\n",
       " (211, ['002.103', '018.030']),\n",
       " (212, ['002.163', '018.122']),\n",
       " (213, ['002.216', '021.015']),\n",
       " (214, ['002.128', '023.017']),\n",
       " (215, ['002.190', '025.016', '087.203']),\n",
       " (216, ['002.198', '025.081']),\n",
       " (217, ['002.043', '025.086']),\n",
       " (218,\n",
       "  ['002.003',\n",
       "   '025.078',\n",
       "   '076.114',\n",
       "   '012.146',\n",
       "   '076.148',\n",
       "   '092.157',\n",
       "   '107.090']),\n",
       " (219, ['002.064', '027.051']),\n",
       " (220, ['002.039', '027.052', '058.087', '089.213']),\n",
       " (221,\n",
       "  ['002.120',\n",
       "   '028.026',\n",
       "   '002.103',\n",
       "   '101.095',\n",
       "   '028.020',\n",
       "   '046.139',\n",
       "   '028.026']),\n",
       " (222, ['002.050', '028.066', '100.107', '036.059']),\n",
       " (223, ['002.220', '030.007']),\n",
       " (224, ['002.105', '030.012']),\n",
       " (225, ['002.017', '030.001', '041.022', '041.053', '110.048']),\n",
       " (226, ['002.217', '031.033']),\n",
       " (227, ['002.021', '031.048']),\n",
       " (228, ['002.037', '031.078', '047.223']),\n",
       " (229, ['002.030', '031.076', '002.028', '110.071']),\n",
       " (230, ['002.120', '032.015', '076.013']),\n",
       " (231, ['002.088', '032.054']),\n",
       " (232, ['002.053', '032.046', '058.138', '092.094', '027.033', '053.268']),\n",
       " (233, ['002.128', '034.012']),\n",
       " (234, ['002.084', '034.022', '061.223']),\n",
       " (235, ['002.002', '034.070', '087.146']),\n",
       " (236, ['002.146', '035.009', '088.197']),\n",
       " (237, ['002.112', '036.052']),\n",
       " (238, ['002.094', '036.072']),\n",
       " (239, ['002.203', '037.050', '056.004', '093.313', '050.115']),\n",
       " (240, ['002.187', '037.062', '009.175', '050.121', '115.063', '115.065']),\n",
       " (241, ['002.165', '037.050', '076.099', '038.040', '032.028']),\n",
       " (242,\n",
       "  ['002.118',\n",
       "   '037.021',\n",
       "   '088.144',\n",
       "   '061.125',\n",
       "   '061.133',\n",
       "   '061.022',\n",
       "   '061.095',\n",
       "   '088.144',\n",
       "   '088.212',\n",
       "   '110.018',\n",
       "   '110.018',\n",
       "   '042.199']),\n",
       " (243, ['002.096', '037.042']),\n",
       " (244, ['002.061', '037.029']),\n",
       " (245, ['002.017', '037.021']),\n",
       " (246, ['002.187', '038.082', '084.197', '095.014', '089.083', '040.007']),\n",
       " (247, ['002.106', '038.092', '065.048', '065.156', '103.117', '072.024']),\n",
       " (248, ['002.216', '039.053', '061.153']),\n",
       " (249, ['002.175', '039.034', '120.088', '046.232']),\n",
       " (250, ['002.216', '039.098']),\n",
       " (251, ['002.213', '039.100']),\n",
       " (252, ['002.117', '039.004', '083.081', '002.117', '088.229', '050.157']),\n",
       " (253,\n",
       "  ['002.004',\n",
       "   '039.028',\n",
       "   '012.089',\n",
       "   '012.089',\n",
       "   '120.066',\n",
       "   '111.085',\n",
       "   '047.092',\n",
       "   '116.153',\n",
       "   '117.002',\n",
       "   '112.035',\n",
       "   '044.069']),\n",
       " (254, ['002.203', '040.033']),\n",
       " (255, ['002.156', '041.040']),\n",
       " (256, ['002.198', '041.115']),\n",
       " (257, ['002.084', '041.130']),\n",
       " (258, ['002.023', '041.055', '050.057']),\n",
       " (259, ['002.019', '041.175']),\n",
       " (260, ['002.165', '042.004']),\n",
       " (261, ['002.217', '042.107', '111.193']),\n",
       " (262, ['002.198', '042.135', '042.134']),\n",
       " (263, ['002.060', '042.002', '066.097', '112.022']),\n",
       " (264,\n",
       "  ['002.117',\n",
       "   '042.104',\n",
       "   '050.157',\n",
       "   '082.043',\n",
       "   '088.129',\n",
       "   '104.036',\n",
       "   '037.052',\n",
       "   '034.030',\n",
       "   '035.092']),\n",
       " (265, ['002.036', '042.002', '108.011', '114.128']),\n",
       " (266, ['002.010', '042.010']),\n",
       " (267,\n",
       "  ['002.006',\n",
       "   '042.020',\n",
       "   '050.073',\n",
       "   '031.025',\n",
       "   '070.160',\n",
       "   '111.047',\n",
       "   '059.062',\n",
       "   '061.153',\n",
       "   '032.008',\n",
       "   '072.207',\n",
       "   '018.034',\n",
       "   '111.188',\n",
       "   '072.094',\n",
       "   '088.032',\n",
       "   '018.034',\n",
       "   '018.040',\n",
       "   '100.123',\n",
       "   '100.123',\n",
       "   '100.123',\n",
       "   '111.188',\n",
       "   '088.179',\n",
       "   '112.075',\n",
       "   '078.103',\n",
       "   '119.118',\n",
       "   '018.162',\n",
       "   '040.073']),\n",
       " (268, ['002.015', '042.164']),\n",
       " (269, ['002.041', '042.216', '071.209', '072.070']),\n",
       " (270, ['002.067', '043.080']),\n",
       " (271, ['002.154', '044.087']),\n",
       " (272, ['002.084', '044.192']),\n",
       " (273, ['002.084', '044.202']),\n",
       " (274,\n",
       "  ['002.122',\n",
       "   '045.051',\n",
       "   '006.147',\n",
       "   '057.073',\n",
       "   '071.209',\n",
       "   '079.010',\n",
       "   '104.008',\n",
       "   '110.164',\n",
       "   '120.052',\n",
       "   '041.142']),\n",
       " (275, ['002.081', '045.001']),\n",
       " (276, ['002.076', '045.149']),\n",
       " (277, ['002.006', '045.152', '034.022', '039.079']),\n",
       " (278, ['002.187', '046.177']),\n",
       " (279, ['002.157', '046.177']),\n",
       " (280, ['002.128', '047.225', '052.074']),\n",
       " (281, ['002.015', '047.090']),\n",
       " (282, ['002.154', '048.178', '048.084']),\n",
       " (283, ['002.140', '048.243']),\n",
       " (284, ['002.175', '049.062']),\n",
       " (285, ['002.203', '049.190', '101.178', '104.049', '046.195']),\n",
       " (286, ['002.030', '049.082', '002.028', '049.098']),\n",
       " (287, ['002.131', '050.129']),\n",
       " (288,\n",
       "  ['002.061',\n",
       "   '050.066',\n",
       "   '114.155',\n",
       "   '076.114',\n",
       "   '091.107',\n",
       "   '025.092',\n",
       "   '091.044',\n",
       "   '114.134',\n",
       "   '100.129',\n",
       "   '101.082',\n",
       "   '110.139']),\n",
       " (289, ['002.012', '050.093']),\n",
       " (290, ['002.128', '052.074']),\n",
       " (291, ['002.177', '053.022']),\n",
       " (292, ['002.008', '053.167']),\n",
       " (293, ['002.186', '054.023', '054.255']),\n",
       " (294, ['002.101', '054.225']),\n",
       " (295, ['002.034', '056.005']),\n",
       " (296, ['002.189', '057.177']),\n",
       " (297, ['002.187', '058.115']),\n",
       " (298, ['002.069', '058.115']),\n",
       " (299, ['002.156', '059.030']),\n",
       " (300, ['002.206', '059.089']),\n",
       " (301, ['002.187', '059.097', '039.030', '061.096']),\n",
       " (302, ['002.149', '059.097']),\n",
       " (303, ['002.047', '059.175']),\n",
       " (304, ['002.053', '059.179']),\n",
       " (305, ['002.111', '061.068', '076.042']),\n",
       " (306, ['002.117', '061.107']),\n",
       " (307, ['002.117', '061.122', '062.259', '112.027', '058.115']),\n",
       " (308, ['002.050', '061.041', '088.089']),\n",
       " (309, ['002.023', '061.032', '061.016', '076.106']),\n",
       " (310, ['002.021', '061.043']),\n",
       " (311, ['002.029', '061.145', '075.131']),\n",
       " (312, ['002.097', '062.114']),\n",
       " (313, ['002.034', '062.053']),\n",
       " (314, ['002.189', '065.004']),\n",
       " (315, ['002.133', '065.186']),\n",
       " (316, ['002.004', '065.156']),\n",
       " (317, ['002.015', '066.160']),\n",
       " (318, ['002.177', '067.028']),\n",
       " (319, ['002.177', '067.062']),\n",
       " (320, ['002.132', '067.023']),\n",
       " (321, ['002.073', '067.035']),\n",
       " (322, ['002.043', '070.017']),\n",
       " (323, ['002.131', '070.166']),\n",
       " (324, ['002.021', '071.145']),\n",
       " (325, ['002.179', '072.001']),\n",
       " (326, ['002.023', '072.072']),\n",
       " (327, ['002.049', '073.054']),\n",
       " (328, ['002.213', '076.038']),\n",
       " (329, ['002.187', '076.051']),\n",
       " (330, ['002.203', '076.154']),\n",
       " (331, ['002.067', '076.114']),\n",
       " (332, ['002.205', '077.130']),\n",
       " (333, ['002.187', '077.203']),\n",
       " (334, ['002.122', '077.180']),\n",
       " (335, ['002.146', '078.011']),\n",
       " (336, ['002.151', '078.018', '104.111']),\n",
       " (337, ['002.169', '078.081']),\n",
       " (338, ['002.084', '078.119', '039.079']),\n",
       " (339, ['002.075', '078.143', '093.264']),\n",
       " (340, ['002.179', '079.051']),\n",
       " (341, ['002.031', '079.145', '093.190']),\n",
       " (342, ['002.003', '079.135']),\n",
       " (343, ['002.205', '081.272']),\n",
       " (344, ['002.001', '082.043', '047.192', '110.139', '100.156', '104.152']),\n",
       " (345, ['002.187', '083.081']),\n",
       " (346, ['002.069', '083.113']),\n",
       " (347, ['002.008', '083.165']),\n",
       " (348, ['002.184', '084.104']),\n",
       " (349, ['002.179', '084.138']),\n",
       " (350, ['002.193', '087.020']),\n",
       " (351, ['002.187', '087.046']),\n",
       " (352, ['002.133', '087.208']),\n",
       " (353, ['002.089', '087.217']),\n",
       " (354, ['002.151', '088.005']),\n",
       " (355, ['002.187', '088.083']),\n",
       " (356, ['002.111', '088.072']),\n",
       " (357, ['002.105', '088.076']),\n",
       " (358, ['002.095', '088.062', '021.001', '046.185', '108.006']),\n",
       " (359, ['002.177', '088.181']),\n",
       " (360, ['002.125', '088.165']),\n",
       " (361, ['002.010', '088.003', '049.197', '112.028']),\n",
       " (362, ['002.179', '088.236']),\n",
       " (363, ['002.041', '088.203']),\n",
       " (364, ['002.045', '089.099', '059.126', '024.085']),\n",
       " (365, ['002.071', '090.141', '050.129']),\n",
       " (366, ['002.080', '091.039']),\n",
       " (367, ['002.036', '091.117', '049.182']),\n",
       " (368, ['002.125', '092.088', '067.025', '072.098', '108.146']),\n",
       " (369, ['002.053', '092.047', '041.018']),\n",
       " (370, ['002.189', '093.031']),\n",
       " (371, ['002.184', '093.179']),\n",
       " (372, ['002.120', '093.186']),\n",
       " (373, ['002.028', '093.175', '002.030']),\n",
       " (374, ['002.001', '093.179']),\n",
       " (375, ['002.001', '094.100']),\n",
       " (376, ['002.200', '097.045']),\n",
       " (377, ['002.173', '100.075']),\n",
       " (378, ['002.008', '100.077']),\n",
       " (379, ['002.184', '101.035']),\n",
       " (380, ['002.076', '101.035']),\n",
       " (381, ['002.120', '101.095', '027.055', '101.089']),\n",
       " (382, ['002.088', '101.181']),\n",
       " (383, ['002.010', '101.139']),\n",
       " (384, ['002.053', '103.129']),\n",
       " (385, ['002.189', '104.156']),\n",
       " (386, ['002.029', '104.041']),\n",
       " (387,\n",
       "  ['002.002',\n",
       "   '104.152',\n",
       "   '005.019',\n",
       "   '093.156',\n",
       "   '009.024',\n",
       "   '066.004',\n",
       "   '104.115',\n",
       "   '091.121',\n",
       "   '025.023',\n",
       "   '092.095',\n",
       "   '094.100',\n",
       "   '045.106']),\n",
       " (388, ['002.218', '105.030']),\n",
       " (389, ['002.017', '105.130']),\n",
       " (390, ['002.025', '105.205']),\n",
       " (391, ['002.203', '107.134']),\n",
       " (392, ['002.212', '107.171', '050.115']),\n",
       " (393, ['002.120', '107.075']),\n",
       " (394, ['002.111', '107.068']),\n",
       " (395, ['002.011', '107.070']),\n",
       " (396, ['002.011', '107.114', '111.182']),\n",
       " (397, ['002.003', '107.112']),\n",
       " (398, ['002.184', '108.002']),\n",
       " (399, ['002.128', '108.214']),\n",
       " (400, ['002.217', '110.160']),\n",
       " (401, ['002.059', '110.010']),\n",
       " (402, ['002.117', '110.130', '072.253']),\n",
       " (403, ['002.006', '110.046']),\n",
       " (404, ['002.047', '110.152']),\n",
       " (405, ['002.203', '111.035']),\n",
       " (406, ['002.178', '111.074']),\n",
       " (407, ['002.117', '111.058', '111.137']),\n",
       " (408, ['002.172', '112.086']),\n",
       " (409, ['002.024', '112.050']),\n",
       " (410, ['002.084', '114.149']),\n",
       " (411, ['002.084', '114.151']),\n",
       " (412, ['002.029', '114.130', '114.181', '114.026', '114.142', '027.044']),\n",
       " (413, ['002.084', '115.059']),\n",
       " (414, ['002.003', '115.129']),\n",
       " (415, ['002.150', '116.105']),\n",
       " (416, ['002.171', '116.194']),\n",
       " (417, ['002.140', '116.218']),\n",
       " (418, ['002.177', '117.026']),\n",
       " (419, ['002.060', '120.028']),\n",
       " (420, ['002.051', '120.041']),\n",
       " (421, ['002.096', '120.137']),\n",
       " (422, ['002.030', '120.130', '002.028']),\n",
       " (423, ['002.021', '120.179']),\n",
       " (424, ['005.155', '005.155']),\n",
       " (425, ['005.071', '005.071']),\n",
       " (426, ['005.026', '005.030']),\n",
       " (427, ['005.112', '005.113']),\n",
       " (428, ['005.038', '005.058']),\n",
       " (429, ['005.019', '005.035']),\n",
       " (430, ['005.058', '005.081']),\n",
       " (431, ['005.030', '005.074']),\n",
       " (432, ['005.139', '005.179']),\n",
       " (433, ['005.076', '005.171']),\n",
       " (434, ['005.076', '005.173']),\n",
       " (435, ['005.064', '005.179']),\n",
       " (436, ['005.058', '005.178', '038.027']),\n",
       " (437, ['005.008', '006.047']),\n",
       " (438, ['005.019', '009.101']),\n",
       " (439, ['005.030', '009.208']),\n",
       " (440, ['005.111', '011.051']),\n",
       " (441, ['005.182', '012.193', '061.005']),\n",
       " (442, ['005.111', '014.226']),\n",
       " (443, ['005.136', '015.087', '114.011']),\n",
       " (444, ['005.161', '018.183']),\n",
       " (445, ['005.165', '024.062']),\n",
       " (446, ['005.175', '024.091']),\n",
       " (447, ['005.180', '025.035']),\n",
       " (448, ['005.178', '026.094', '112.022']),\n",
       " (449, ['005.035', '027.030']),\n",
       " (450, ['005.180', '028.016']),\n",
       " (451, ['005.038', '028.055']),\n",
       " (452, ['005.035', '029.024']),\n",
       " (453, ['005.173', '030.081']),\n",
       " (454, ['005.038', '030.076']),\n",
       " (455, ['005.178', '031.001', '101.182', '101.005', '115.002', '105.211']),\n",
       " (456, ['005.046', '032.062']),\n",
       " (457, ['005.182', '033.040']),\n",
       " (458,\n",
       "  ['005.130',\n",
       "   '034.012',\n",
       "   '059.050',\n",
       "   '061.067',\n",
       "   '088.055',\n",
       "   '088.046',\n",
       "   '104.138']),\n",
       " (459, ['005.058', '035.058']),\n",
       " (460,\n",
       "  ['005.155',\n",
       "   '037.017',\n",
       "   '064.190',\n",
       "   '006.083',\n",
       "   '006.087',\n",
       "   '006.025',\n",
       "   '023.070',\n",
       "   '033.038',\n",
       "   '114.125',\n",
       "   '077.115',\n",
       "   '027.018',\n",
       "   '030.032',\n",
       "   '015.081',\n",
       "   '107.086',\n",
       "   '120.134',\n",
       "   '037.017',\n",
       "   '042.134',\n",
       "   '043.054']),\n",
       " (461, ['005.182', '037.049', '054.269', '042.134']),\n",
       " (462, ['005.180', '037.084']),\n",
       " (463, ['005.100', '037.078', '072.122', '078.141', '032.076', '111.108']),\n",
       " (464, ['005.121', '039.013']),\n",
       " (465, ['005.038', '039.028', '058.174']),\n",
       " (466, ['005.052', '039.063', '044.166']),\n",
       " (467, ['005.052', '039.085']),\n",
       " (468, ['005.180', '041.035', '015.081', '112.054']),\n",
       " (469, ['005.130', '041.032']),\n",
       " (470, ['005.175', '041.202']),\n",
       " (471, ['005.038', '041.142']),\n",
       " (472, ['005.117', '044.202']),\n",
       " (473, ['005.026', '044.130']),\n",
       " (474, ['005.024', '044.129', '092.067']),\n",
       " (475, ['005.052', '046.185']),\n",
       " (476, ['005.071', '046.323', '041.022', '066.190', '083.011', '005.052']),\n",
       " (477,\n",
       "  ['005.173',\n",
       "   '047.032',\n",
       "   '053.306',\n",
       "   '015.175',\n",
       "   '059.093',\n",
       "   '015.092',\n",
       "   '087.213',\n",
       "   '047.032',\n",
       "   '039.061']),\n",
       " (478, ['005.035', '049.036', '049.156', '116.110']),\n",
       " (479,\n",
       "  ['005.175',\n",
       "   '049.227',\n",
       "   '054.016',\n",
       "   '059.004',\n",
       "   '041.136',\n",
       "   '101.175',\n",
       "   '071.119',\n",
       "   '120.080',\n",
       "   '107.011',\n",
       "   '111.180',\n",
       "   '045.125',\n",
       "   '070.021',\n",
       "   '111.007',\n",
       "   '042.020',\n",
       "   '046.234',\n",
       "   '049.227',\n",
       "   '100.060',\n",
       "   '067.076',\n",
       "   '111.171']),\n",
       " (480,\n",
       "  ['005.150',\n",
       "   '050.069',\n",
       "   '078.077',\n",
       "   '114.016',\n",
       "   '012.165',\n",
       "   '070.100',\n",
       "   '046.143']),\n",
       " (481, ['005.035', '050.120']),\n",
       " (482, ['005.149', '051.118']),\n",
       " (483, ['005.071', '052.102']),\n",
       " (484, ['005.097', '053.087', '071.041', '088.215']),\n",
       " (485, ['005.019', '053.218']),\n",
       " (486, ['005.074', '057.175']),\n",
       " (487, ['005.165', '058.048']),\n",
       " (488, ['005.019', '058.162']),\n",
       " (489, ['005.130', '059.097']),\n",
       " (490, ['005.155', '060.170', '092.130']),\n",
       " (491,\n",
       "  ['005.175',\n",
       "   '061.023',\n",
       "   '112.012',\n",
       "   '049.227',\n",
       "   '078.138',\n",
       "   '061.223',\n",
       "   '033.106',\n",
       "   '066.051',\n",
       "   '067.025',\n",
       "   '078.138',\n",
       "   '072.066',\n",
       "   '060.047',\n",
       "   '072.246',\n",
       "   '076.008',\n",
       "   '087.012',\n",
       "   '025.006',\n",
       "   '037.066',\n",
       "   '100.003',\n",
       "   '111.007',\n",
       "   '111.104',\n",
       "   '078.151',\n",
       "   '088.009',\n",
       "   '100.109',\n",
       "   '054.189',\n",
       "   '041.202',\n",
       "   '111.025',\n",
       "   '083.194',\n",
       "   '037.084',\n",
       "   '024.019',\n",
       "   '032.078',\n",
       "   '046.143',\n",
       "   '042.023',\n",
       "   '046.183',\n",
       "   '047.098']),\n",
       " (492, ['005.062', '061.132']),\n",
       " (493, ['005.024', '061.165']),\n",
       " (494, ['005.105', '065.146']),\n",
       " (495, ['005.001', '066.004']),\n",
       " (496, ['005.058', '067.076']),\n",
       " (497, ['005.175', '070.160', '054.231', '054.244']),\n",
       " (498, ['005.046', '070.187']),\n",
       " (499, ['005.176', '072.042']),\n",
       " (500, ['005.058', '072.116']),\n",
       " (501, ['005.014', '073.160']),\n",
       " (502, ['005.182', '078.001', '023.079', '112.016', '045.092']),\n",
       " (503, ['005.182', '078.031']),\n",
       " (504, ['005.035', '078.141']),\n",
       " (505, ['005.173', '079.049', '114.029', '059.062']),\n",
       " (506,\n",
       "  ['005.058',\n",
       "   '079.036',\n",
       "   '006.171',\n",
       "   '088.087',\n",
       "   '061.005',\n",
       "   '067.076',\n",
       "   '015.179',\n",
       "   '091.162',\n",
       "   '012.037',\n",
       "   '042.134',\n",
       "   '105.009',\n",
       "   '110.130',\n",
       "   '120.112',\n",
       "   '043.137']),\n",
       " (507, ['005.169', '082.115', '005.180']),\n",
       " (508, ['005.173', '082.127']),\n",
       " (509, ['005.058', '082.050']),\n",
       " (510, ['005.080', '082.172']),\n",
       " (511, ['005.046', '082.199']),\n",
       " (512, ['005.182', '083.228']),\n",
       " (513, ['005.005', '083.002']),\n",
       " (514, ['005.124', '083.177']),\n",
       " (515, ['005.165', '084.109']),\n",
       " (516, ['005.155', '084.109']),\n",
       " (517, ['005.052', '084.035']),\n",
       " (518, ['005.019', '084.146']),\n",
       " (519, ['005.108', '085.094']),\n",
       " (520, ['005.061', '086.180']),\n",
       " (521, ['005.182', '088.046', '083.243']),\n",
       " (522, ['005.182', '088.168', '084.061']),\n",
       " (523,\n",
       "  ['005.165',\n",
       "   '088.159',\n",
       "   '120.128',\n",
       "   '006.094',\n",
       "   '042.166',\n",
       "   '111.100',\n",
       "   '078.143']),\n",
       " (524, ['005.160', '091.027']),\n",
       " (525, ['005.153', '091.126']),\n",
       " (526, ['005.035', '091.016', '104.022']),\n",
       " (527, ['005.005', '093.113']),\n",
       " (528, ['005.005', '101.090']),\n",
       " (529, ['005.079', '104.008']),\n",
       " (530, ['005.019', '106.056']),\n",
       " (531, ['005.104', '108.065']),\n",
       " (532, ['005.080', '111.140']),\n",
       " (533, ['005.038', '112.073']),\n",
       " (534, ['005.180', '119.106']),\n",
       " (535, ['006.135', '001.274']),\n",
       " (536, ['006.097', '005.038']),\n",
       " (537, ['006.056', '006.056']),\n",
       " (538, ['006.076', '006.076']),\n",
       " (539, ['006.026', '006.026', '006.005']),\n",
       " (540, ['006.140', '006.140']),\n",
       " (541, ['006.060', '006.060']),\n",
       " (542, ['006.148', '006.148']),\n",
       " (543, ['006.020', '006.020']),\n",
       " (544, ['006.030', '006.030']),\n",
       " (545, ['006.041', '006.041']),\n",
       " (546, ['006.171', '006.173']),\n",
       " (547, ['006.180', '006.182']),\n",
       " (548, ['006.085', '006.087']),\n",
       " (549, ['006.031', '006.034']),\n",
       " (550, ['006.097', '006.099', '006.107', '054.147', '015.164']),\n",
       " (551, ['006.023', '006.026']),\n",
       " (552, ['006.149', '006.151', '060.170', '112.082', '114.024']),\n",
       " (553, ['006.023', '006.026']),\n",
       " (554, ['006.139', '006.141', '083.031']),\n",
       " (555, ['006.107', '006.111', '111.007']),\n",
       " (556, ['006.164', '006.169']),\n",
       " (557, ['006.056', '006.062', '006.056']),\n",
       " (558, ['006.058', '006.066']),\n",
       " (559, ['006.021', '006.031']),\n",
       " (560, ['006.068', '006.080']),\n",
       " (561, ['006.135', '006.146']),\n",
       " (562, ['006.023', '006.038']),\n",
       " (563, ['006.023', '006.038']),\n",
       " (564, ['006.011', '006.024']),\n",
       " (565, ['006.042', '006.062']),\n",
       " (566, ['006.005', '006.023']),\n",
       " (567, ['006.005', '006.023']),\n",
       " (568, ['006.135', '006.158']),\n",
       " (569, ['006.031', '006.056']),\n",
       " (570, ['006.064', '006.090']),\n",
       " (571, ['006.005', '006.026']),\n",
       " (572, ['006.062', '006.090']),\n",
       " (573, ['006.026', '006.056']),\n",
       " (574, ['006.062', '006.090', '006.099', '108.133']),\n",
       " (575, ['006.028', '006.058']),\n",
       " (576, ['006.073', '006.107']),\n",
       " (577, ['006.030', '006.073']),\n",
       " (578, ['006.073', '006.113']),\n",
       " (579, ['006.005', '006.049']),\n",
       " (580, ['006.020', '006.066']),\n",
       " (581,\n",
       "  ['006.094',\n",
       "   '006.140',\n",
       "   '031.013',\n",
       "   '100.105',\n",
       "   '007.220',\n",
       "   '027.011',\n",
       "   '066.004']),\n",
       " (582, ['006.005', '006.056']),\n",
       " (583, ['006.071', '006.118']),\n",
       " (584, ['006.073', '006.120']),\n",
       " (585,\n",
       "  ['006.091',\n",
       "   '006.139',\n",
       "   '021.035',\n",
       "   '006.139',\n",
       "   '049.115',\n",
       "   '085.007',\n",
       "   '014.159']),\n",
       " (586, ['006.080', '006.131']),\n",
       " (587, ['006.049', '006.105']),\n",
       " (588, ['006.001', '006.060']),\n",
       " (589, ['006.024', '006.088', '021.085']),\n",
       " (590, ['006.103', '006.161']),\n",
       " (591, ['006.073', '006.134']),\n",
       " (592, ['006.003', '006.068']),\n",
       " (593, ['006.020', '006.088', '078.001', '036.008']),\n",
       " (594, ['006.049', '006.123']),\n",
       " (595, ['006.049', '006.134']),\n",
       " (596, ['006.004', '006.091']),\n",
       " (597, ['006.088', '006.185']),\n",
       " (598, ['006.051', '006.159']),\n",
       " (599, ['006.049', '006.171']),\n",
       " (600, ['006.041', '006.175']),\n",
       " (601,\n",
       "  ['006.135',\n",
       "   '007.029',\n",
       "   '007.036',\n",
       "   '082.185',\n",
       "   '085.139',\n",
       "   '011.149',\n",
       "   '011.170',\n",
       "   '049.134',\n",
       "   '053.164',\n",
       "   '031.094',\n",
       "   '053.165',\n",
       "   '103.111',\n",
       "   '009.007',\n",
       "   '033.040',\n",
       "   '033.040']),\n",
       " (602,\n",
       "  ['006.085',\n",
       "   '007.013',\n",
       "   '079.066',\n",
       "   '104.086',\n",
       "   '043.037',\n",
       "   '009.149',\n",
       "   '060.081',\n",
       "   '088.013']),\n",
       " (603, ['006.056', '007.134']),\n",
       " (604, ['006.008', '007.138', '021.094', '039.085']),\n",
       " (605, ['006.049', '007.251']),\n",
       " (606, ['006.134', '009.059']),\n",
       " (607, ['006.111', '009.099']),\n",
       " (608,\n",
       "  ['006.062',\n",
       "   '009.059',\n",
       "   '052.224',\n",
       "   '078.153',\n",
       "   '049.162',\n",
       "   '052.172',\n",
       "   '066.166',\n",
       "   '071.048',\n",
       "   '041.025']),\n",
       " (609, ['006.165', '010.011']),\n",
       " (610, ['006.139', '010.029']),\n",
       " (611, ['006.165', '010.089', '058.077']),\n",
       " (612, ['006.139', '010.082']),\n",
       " (613, ['006.097', '010.132']),\n",
       " (614, ['006.124', '010.183']),\n",
       " (615, ['006.105', '010.166']),\n",
       " (616, ['006.076', '010.157']),\n",
       " (617, ['006.017', '010.130', '084.031', '009.027']),\n",
       " (618, ['006.003', '010.184']),\n",
       " (619, ['006.128', '011.058', '043.115', '021.052']),\n",
       " (620, ['006.058', '011.193']),\n",
       " (621, ['006.094', '012.064']),\n",
       " (622, ['006.118', '012.104']),\n",
       " (623, ['006.066', '012.184']),\n",
       " (624, ['006.037', '013.080']),\n",
       " (625, ['006.135', '014.174']),\n",
       " (626, ['006.087', '014.134']),\n",
       " (627, ['006.123', '018.093']),\n",
       " (628, ['006.026', '018.030', '018.118']),\n",
       " (629, ['006.015', '021.063']),\n",
       " (630, ['006.087', '022.060']),\n",
       " (631, ['006.111', '023.006', '018.017', '029.015', '061.138']),\n",
       " (632, ['006.173', '023.079']),\n",
       " (633, ['006.152', '023.068']),\n",
       " (634, ['006.076', '023.065']),\n",
       " (635, ['006.019', '023.070']),\n",
       " (636, ['006.180', '024.042', '023.053', '024.042']),\n",
       " (637, ['006.139', '024.021', '095.005']),\n",
       " (638, ['006.152', '024.054']),\n",
       " (639, ['006.083', '024.021']),\n",
       " (640, ['006.087', '024.037', '024.025']),\n",
       " (641, ['006.134', '025.008']),\n",
       " (642, ['006.120', '025.001']),\n",
       " (643, ['006.131', '025.031', '030.076', '046.125']),\n",
       " (644, ['006.030', '025.008']),\n",
       " (645, ['006.041', '025.047']),\n",
       " (646, ['006.031', '025.093']),\n",
       " (647, ['006.084', '027.026']),\n",
       " (648, ['006.084', '027.052']),\n",
       " (649, ['006.038', '027.044', '015.017', '046.237']),\n",
       " (650, ['006.034', '027.052']),\n",
       " (651, ['006.179', '028.097']),\n",
       " (652, ['006.034', '028.069']),\n",
       " (653, ['006.031', '028.098']),\n",
       " (654, ['006.021', '028.098']),\n",
       " (655, ['006.139', '030.032', '030.030']),\n",
       " (656, ['006.118', '030.007']),\n",
       " (657, ['006.161', '030.065']),\n",
       " (658, ['006.094', '030.007']),\n",
       " (659, ['006.135', '030.058', '118.180']),\n",
       " (660, ['006.131', '030.069', '066.077']),\n",
       " (661, ['006.140', '030.086']),\n",
       " (662, ['006.111', '030.055']),\n",
       " (663,\n",
       "  ['006.107',\n",
       "   '030.055',\n",
       "   '054.053',\n",
       "   '030.055',\n",
       "   '070.067',\n",
       "   '110.171',\n",
       "   '047.190',\n",
       "   '054.141',\n",
       "   '066.038',\n",
       "   '114.041',\n",
       "   '114.005',\n",
       "   '006.084',\n",
       "   '041.080',\n",
       "   '112.075',\n",
       "   '043.151']),\n",
       " (664, ['006.115', '030.076']),\n",
       " (665, ['006.056', '030.014']),\n",
       " (666, ['006.084', '030.055', '111.047']),\n",
       " (667,\n",
       "  ['006.034',\n",
       "   '030.014',\n",
       "   '051.018',\n",
       "   '075.192',\n",
       "   '077.094',\n",
       "   '082.112',\n",
       "   '006.066']),\n",
       " (668, ['006.031', '030.014']),\n",
       " (669, ['006.042', '030.044', '114.107']),\n",
       " (670, ['006.031', '030.036']),\n",
       " (671, ['006.031', '030.055', '046.026']),\n",
       " (672, ['006.046', '030.076']),\n",
       " (673, ['006.088', '031.043']),\n",
       " (674, ['006.064', '031.033', '092.108']),\n",
       " (675, ['006.084', '031.113', '120.123']),\n",
       " (676, ['006.097', '032.052', '100.011', '108.140', '044.002', '065.025']),\n",
       " (677, ['006.058', '033.035']),\n",
       " (678, ['006.161', '034.022']),\n",
       " (679, ['006.139', '034.011']),\n",
       " (680, ['006.056', '034.020']),\n",
       " (681, ['006.056', '034.022', '104.140', '021.057']),\n",
       " (682, ['006.094', '034.062', '058.005']),\n",
       " (683, ['006.041', '034.022']),\n",
       " (684, ['006.045', '034.077']),\n",
       " (685, ['006.167', '035.002']),\n",
       " (686, ['006.137', '035.085']),\n",
       " (687, ['006.041', '036.066', '083.094', '083.167']),\n",
       " (688, ['006.111', '037.070']),\n",
       " (689, ['006.024', '037.029']),\n",
       " (690, ['006.019', '038.027', '044.118', '090.064', '022.003']),\n",
       " (691, ['006.031', '039.079']),\n",
       " (692, ['006.028', '040.046']),\n",
       " (693, ['006.137', '041.118']),\n",
       " (694, ['006.118', '041.091']),\n",
       " (695, ['006.118', '041.091']),\n",
       " (696, ['006.161', '041.162']),\n",
       " (697, ['006.162', '041.176']),\n",
       " (698, ['006.041', '041.024']),\n",
       " (699, ['006.031', '041.101']),\n",
       " (700, ['006.038', '041.136', '014.094']),\n",
       " (701, ['006.031', '041.172']),\n",
       " (702, ['006.087', '042.020']),\n",
       " (703, ['006.120', '042.191', '050.115', '070.187', '034.022', '027.035']),\n",
       " (704, ['006.112', '043.056', '053.060', '043.084']),\n",
       " (705, ['006.135', '044.118']),\n",
       " (706, ['006.085', '044.041']),\n",
       " (707, ['006.111', '045.133']),\n",
       " (708, ['006.028', '046.147']),\n",
       " (709, ['006.030', '046.259']),\n",
       " (710, ['006.141', '047.228']),\n",
       " (711, ['006.020', '047.095']),\n",
       " (712, ['006.085', '047.247', '073.122']),\n",
       " (713, ['006.141', '049.014']),\n",
       " (714, ['006.141', '049.054']),\n",
       " (715, ['006.139', '049.073']),\n",
       " (716, ['006.139', '049.078']),\n",
       " (717, ['006.015', '049.200', '015.081', '041.037']),\n",
       " (718, ['006.085', '050.015']),\n",
       " (719, ['006.179', '050.111']),\n",
       " (720, ['006.143', '050.078']),\n",
       " (721, ['006.062', '050.062', '077.096']),\n",
       " (722, ['006.073', '050.121']),\n",
       " (723, ['006.030', '050.157', '058.133', '087.014', '110.141', '034.020']),\n",
       " (724, ['006.073', '052.224']),\n",
       " (725, ['006.148', '053.270', '091.091']),\n",
       " (726, ['006.090', '054.112']),\n",
       " (727, ['006.097', '054.147']),\n",
       " (728, ['006.041', '054.111', '100.051', '041.019']),\n",
       " (729, ['006.011', '054.057']),\n",
       " (730, ['006.115', '054.289']),\n",
       " (731, ['006.020', '056.076']),\n",
       " (732, ['006.087', '057.044']),\n",
       " (733, ['006.056', '058.145']),\n",
       " (734, ['006.020', '058.133']),\n",
       " (735, ['006.118', '059.015']),\n",
       " (736, ['006.088', '059.175']),\n",
       " (737, ['006.080', '060.179', '060.101']),\n",
       " (738, ['006.135', '061.009']),\n",
       " (739, ['006.051', '061.055']),\n",
       " (740, ['006.080', '061.183', '114.013']),\n",
       " (741, ['006.150', '062.094']),\n",
       " (742, ['006.112', '065.096']),\n",
       " (743, ['006.134', '066.004']),\n",
       " (744, ['006.134', '066.008', '015.087']),\n",
       " (745, ['006.118', '066.025']),\n",
       " (746,\n",
       "  ['006.151',\n",
       "   '066.069',\n",
       "   '060.135',\n",
       "   '025.021',\n",
       "   '035.058',\n",
       "   '079.113',\n",
       "   '088.121',\n",
       "   '007.134']),\n",
       " (747, ['006.131', '066.069']),\n",
       " (748, ['006.056', '066.001']),\n",
       " (749, ['006.068', '066.190']),\n",
       " (750, ['006.120', '070.021']),\n",
       " (751, ['006.021', '070.008']),\n",
       " (752, ['006.062', '070.154']),\n",
       " (753, ['006.179', '071.053']),\n",
       " (754, ['006.151', '071.105']),\n",
       " (755, ['006.174', '071.188']),\n",
       " (756, ['006.064', '071.169', '057.021']),\n",
       " (757, ['006.139', '072.167', '073.094']),\n",
       " (758, ['006.023', '072.217']),\n",
       " (759, ['006.031', '072.253', '009.144', '060.077', '114.042']),\n",
       " (760, ['006.085', '073.236']),\n",
       " (761, ['006.135', '075.085', '050.047']),\n",
       " (762, ['006.041', '076.045', '043.024', '111.094']),\n",
       " (763, ['006.161', '078.124']),\n",
       " (764, ['006.030', '078.036', '034.004', '041.001']),\n",
       " (765, ['006.034', '078.077', '100.123', '119.188', '111.173']),\n",
       " (766, ['006.169', '079.051']),\n",
       " (767, ['006.146', '081.233']),\n",
       " (768, ['006.026', '081.009']),\n",
       " (769,\n",
       "  ['006.133',\n",
       "   '082.134',\n",
       "   '049.044',\n",
       "   '120.177',\n",
       "   '118.189',\n",
       "   '093.314',\n",
       "   '118.073',\n",
       "   '049.156']),\n",
       " (770, ['006.118', '082.123', '047.032', '087.184']),\n",
       " (771, ['006.118', '082.123', '042.124', '001.049']),\n",
       " (772, ['006.141', '083.031', '081.248']),\n",
       " (773, ['006.049', '083.137']),\n",
       " (774, ['006.167', '084.055', '010.003', '079.113', '091.167', '091.227']),\n",
       " (775, ['006.124', '084.036']),\n",
       " (776, ['006.004', '084.098']),\n",
       " (777, ['006.179', '085.107']),\n",
       " (778, ['006.135', '085.109']),\n",
       " (779, ['006.128', '085.235']),\n",
       " (780, ['006.068', '088.099', '101.095']),\n",
       " (781, ['006.015', '088.096', '027.055', '095.044', '058.154', '028.061']),\n",
       " (782, ['006.004', '088.159']),\n",
       " (783, ['006.148', '089.059']),\n",
       " (784, ['006.019', '089.122']),\n",
       " (785, ['006.161', '090.099']),\n",
       " (786, ['006.167', '091.087', '011.049']),\n",
       " (787, ['006.140', '091.162', '076.007']),\n",
       " (788, ['006.103', '091.171']),\n",
       " (789, ['006.108', '091.219', '058.066', '061.110', '081.135', '112.014']),\n",
       " (790, ['006.034', '092.007', '115.177']),\n",
       " (791, ['006.004', '092.068', '063.109', '092.047', '092.094']),\n",
       " (792, ['006.051', '093.169', '111.027', '066.200', '111.001']),\n",
       " (793, ['006.147', '094.082']),\n",
       " (794, ['006.139', '095.169']),\n",
       " (795, ['006.141', '095.180', '030.052']),\n",
       " (796, ['006.076', '095.122', '114.006']),\n",
       " (797, ['006.085', '095.161']),\n",
       " (798, ['006.180', '100.039', '111.029']),\n",
       " (799, ['006.118', '100.011', '006.064']),\n",
       " (800, ['006.056', '100.003']),\n",
       " (801, ['006.126', '100.066']),\n",
       " (802, ['006.131', '100.073', '100.009']),\n",
       " (803, ['006.123', '100.099']),\n",
       " (804, ['006.047', '100.040']),\n",
       " (805, ['006.041', '100.039', '100.051']),\n",
       " (806, ['006.140', '100.127']),\n",
       " (807, ['006.088', '100.083']),\n",
       " (808, ['006.120', '100.135']),\n",
       " (809, ['006.062', '100.081']),\n",
       " (810, ['006.023', '100.073']),\n",
       " (811, ['006.011', '100.083']),\n",
       " (812, ['006.020', '100.105']),\n",
       " (813, ['006.051', '100.156', '034.036']),\n",
       " (814, ['006.021', '100.129']),\n",
       " (815, ['006.038', '100.154', '037.062']),\n",
       " (816, ['006.023', '100.141']),\n",
       " (817, ['006.041', '101.035']),\n",
       " (818,\n",
       "  ['006.105',\n",
       "   '101.124',\n",
       "   '014.161',\n",
       "   '042.020',\n",
       "   '088.005',\n",
       "   '007.127',\n",
       "   '047.169']),\n",
       " (819, ['006.090', '101.146']),\n",
       " (820, ['006.056', '103.068', '106.073', '103.068', '103.054']),\n",
       " (821, ['006.087', '103.115']),\n",
       " (822, ['006.034', '105.114']),\n",
       " (823, ['006.087', '106.062', '106.143']),\n",
       " (824, ['006.112', '107.038']),\n",
       " (825, ['006.030', '108.065', '114.109', '032.017']),\n",
       " (826, ['006.111', '108.192']),\n",
       " (827, ['006.120', '110.185']),\n",
       " (828, ['006.015', '110.130']),\n",
       " (829, ['006.011', '110.199']),\n",
       " (830, ['006.138', '111.015']),\n",
       " (831, ['006.118', '111.015']),\n",
       " (832, ['006.084', '111.015', '088.188', '077.147', '100.001']),\n",
       " (833, ['006.030', '111.001', '028.106', '015.161']),\n",
       " (834, ['006.021', '111.011']),\n",
       " (835, ['006.073', '111.104']),\n",
       " (836, ['006.167', '112.027']),\n",
       " (837, ['006.139', '112.020', '044.166']),\n",
       " (838,\n",
       "  ['006.161',\n",
       "   '112.042',\n",
       "   '006.064',\n",
       "   '057.048',\n",
       "   '035.058',\n",
       "   '058.159',\n",
       "   '041.166',\n",
       "   '061.153',\n",
       "   '061.097',\n",
       "   '076.045',\n",
       "   '093.090',\n",
       "   '112.042',\n",
       "   '015.087',\n",
       "   '040.065',\n",
       "   '110.171',\n",
       "   '037.059',\n",
       "   '047.078',\n",
       "   '059.015',\n",
       "   '037.050',\n",
       "   '041.166',\n",
       "   '041.154',\n",
       "   '041.176',\n",
       "   '041.059',\n",
       "   '115.065',\n",
       "   '045.001']),\n",
       " (839, ['006.112', '112.043']),\n",
       " (840, ['006.135', '112.069']),\n",
       " (841, ['006.143', '112.080']),\n",
       " (842, ['006.094', '112.044']),\n",
       " (843, ['006.030', '112.003']),\n",
       " (844,\n",
       "  ['006.111',\n",
       "   '112.068',\n",
       "   '056.181',\n",
       "   '103.043',\n",
       "   '058.055',\n",
       "   '084.124',\n",
       "   '073.160',\n",
       "   '033.044',\n",
       "   '119.146',\n",
       "   '120.093',\n",
       "   '096.102',\n",
       "   '114.141',\n",
       "   '103.123',\n",
       "   '103.043']),\n",
       " (845, ['006.134', '112.082']),\n",
       " (846, ['006.097', '112.086', '042.137']),\n",
       " (847, ['006.180', '114.013', '050.073', '114.149']),\n",
       " (848, ['006.134', '114.013']),\n",
       " (849, ['006.120', '114.053']),\n",
       " (850, ['006.015', '114.016', '067.019', '092.048', '042.124']),\n",
       " (851, ['006.008', '114.016']),\n",
       " (852, ['006.026', '114.064', '079.032']),\n",
       " (853, ['006.017', '114.102']),\n",
       " (854, ['006.139', '115.041']),\n",
       " (855,\n",
       "  ['006.137',\n",
       "   '115.117',\n",
       "   '058.077',\n",
       "   '024.037',\n",
       "   '058.087',\n",
       "   '103.090',\n",
       "   '103.018']),\n",
       " (856, ['006.041', '115.065']),\n",
       " (857, ['006.030', '115.069']),\n",
       " (858, ['006.008', '115.061', '015.094']),\n",
       " (859, ['006.034', '115.156', '049.044']),\n",
       " (860, ['006.139', '117.124']),\n",
       " (861, ['006.139', '118.022']),\n",
       " (862, ['006.179', '118.075']),\n",
       " (863, ['006.003', '119.001']),\n",
       " (864, ['006.094', '119.104']),\n",
       " (865, ['006.087', '119.112']),\n",
       " (866, ['006.041', '119.075']),\n",
       " (867, ['006.111', '119.228']),\n",
       " (868, ['006.028', '119.201']),\n",
       " (869, ['006.020', '120.143']),\n",
       " (870, ['006.020', '120.154']),\n",
       " (871, ['007.259', '005.062']),\n",
       " (872, ['007.251', '006.049']),\n",
       " (873, ['007.120', '007.120']),\n",
       " (874, ['007.169', '007.171']),\n",
       " (875, ['007.067', '007.067', '007.070']),\n",
       " (876, ['007.254', '007.254', '007.251']),\n",
       " (877, ['007.195', '007.197']),\n",
       " (878, ['007.072', '007.076']),\n",
       " (879, ['007.076', '007.078']),\n",
       " (880, ['007.165', '007.167']),\n",
       " (881, ['007.023', '007.025']),\n",
       " (882, ['007.118', '007.120']),\n",
       " (883, ['007.216', '007.220']),\n",
       " (884, ['007.254', '007.255']),\n",
       " (885, ['007.251', '007.254']),\n",
       " (886, ['007.185', '007.191']),\n",
       " (887, ['007.185', '007.191']),\n",
       " (888, ['007.127', '007.131', '007.117']),\n",
       " (889, ['007.131', '007.134']),\n",
       " (890, ['007.251', '007.255']),\n",
       " (891, ['007.216', '007.222']),\n",
       " (892, ['007.129', '007.134']),\n",
       " (893, ['007.142', '007.156']),\n",
       " (894, ['007.035', '007.045']),\n",
       " (895, ['007.049', '007.064']),\n",
       " (896, ['007.129', '007.143']),\n",
       " (897, ['007.054', '007.067']),\n",
       " (898, ['007.009', '007.031']),\n",
       " (899, ['007.001', '007.031']),\n",
       " (900, ['007.016', '007.056']),\n",
       " (901, ['007.020', '007.067']),\n",
       " (902, ['007.169', '007.226', '007.044']),\n",
       " (903, ['007.156', '007.226']),\n",
       " (904, ['007.131', '007.216']),\n",
       " (905, ['007.134', '007.222']),\n",
       " (906, ['007.013', '007.106']),\n",
       " (907, ['007.031', '007.150']),\n",
       " (908, ['007.013', '007.134']),\n",
       " (909, ['007.089', '007.231']),\n",
       " (910, ['007.073', '007.220']),\n",
       " (911, ['007.005', '007.139']),\n",
       " (912, ['007.031', '007.180']),\n",
       " (913, ['007.067', '007.232']),\n",
       " (914, ['007.016', '007.180']),\n",
       " (915, ['007.014', '007.180']),\n",
       " (916, ['007.047', '007.255']),\n",
       " (917, ['007.231', '009.071', '083.243', '040.071']),\n",
       " (918, ['007.094', '010.184']),\n",
       " (919, ['007.076', '011.075']),\n",
       " (920, ['007.009', '011.165']),\n",
       " (921, ['007.213', '012.089']),\n",
       " (922, ['007.150', '014.005']),\n",
       " (923, ['007.134', '015.004', '047.083', '107.048']),\n",
       " (924, ['007.259', '015.152']),\n",
       " (925, ['007.117', '018.112']),\n",
       " (926, ['007.116', '021.001']),\n",
       " (927, ['007.150', '021.035']),\n",
       " (928, ['007.064', '021.120']),\n",
       " (929, ['007.037', '023.079']),\n",
       " (930, ['007.150', '024.079', '024.043', '049.007']),\n",
       " (931, ['007.064', '025.084']),\n",
       " (932, ['007.180', '026.030']),\n",
       " (933, ['007.054', '026.026']),\n",
       " (934, ['007.243', '027.027', '082.211']),\n",
       " (935, ['007.015', '027.055', '045.139']),\n",
       " (936, ['007.231', '028.061']),\n",
       " (937, ['007.134', '028.055', '120.035', '079.098', '028.008']),\n",
       " (938, ['007.013', '028.061']),\n",
       " (939, ['007.083', '030.076']),\n",
       " (940,\n",
       "  ['007.134',\n",
       "   '032.008',\n",
       "   '009.122',\n",
       "   '088.096',\n",
       "   '050.031',\n",
       "   '061.023',\n",
       "   '042.116',\n",
       "   '061.096',\n",
       "   '061.209',\n",
       "   '072.066',\n",
       "   '042.220',\n",
       "   '023.060']),\n",
       " (941, ['007.085', '032.031']),\n",
       " (942, ['007.156', '033.022']),\n",
       " (943,\n",
       "  ['007.254',\n",
       "   '034.042',\n",
       "   '052.271',\n",
       "   '075.173',\n",
       "   '113.136',\n",
       "   '104.033',\n",
       "   '044.218',\n",
       "   '111.195',\n",
       "   '024.079',\n",
       "   '113.136',\n",
       "   '049.059']),\n",
       " (944, ['007.100', '034.038', '014.026']),\n",
       " (945,\n",
       "  ['007.113',\n",
       "   '034.070',\n",
       "   '009.179',\n",
       "   '067.028',\n",
       "   '009.195',\n",
       "   '088.179',\n",
       "   '056.089',\n",
       "   '006.105',\n",
       "   '059.175',\n",
       "   '061.151',\n",
       "   '120.096',\n",
       "   '066.051',\n",
       "   '035.084',\n",
       "   '066.051',\n",
       "   '042.120',\n",
       "   '078.018',\n",
       "   '078.141',\n",
       "   '046.259',\n",
       "   '110.009',\n",
       "   '111.029',\n",
       "   '082.032',\n",
       "   '088.070',\n",
       "   '025.062',\n",
       "   '034.070',\n",
       "   '042.020',\n",
       "   '088.179',\n",
       "   '091.202',\n",
       "   '030.007',\n",
       "   '111.011',\n",
       "   '041.157',\n",
       "   '043.073',\n",
       "   '043.132',\n",
       "   '114.070',\n",
       "   '014.084',\n",
       "   '031.087',\n",
       "   '041.157']),\n",
       " (946, ['007.222', '035.058']),\n",
       " (947, ['007.066', '036.017']),\n",
       " (948, ['007.190', '037.008']),\n",
       " (949, ['007.013', '037.049']),\n",
       " (950, ['007.031', '038.076', '114.137', '117.158']),\n",
       " (951,\n",
       "  ['007.127',\n",
       "   '039.011',\n",
       "   '066.042',\n",
       "   '028.093',\n",
       "   '078.036',\n",
       "   '111.029',\n",
       "   '036.098',\n",
       "   '041.032']),\n",
       " (952,\n",
       "  ['007.043',\n",
       "   '039.034',\n",
       "   '009.067',\n",
       "   '052.067',\n",
       "   '010.178',\n",
       "   '039.034',\n",
       "   '052.059',\n",
       "   '052.102',\n",
       "   '052.224',\n",
       "   '094.068',\n",
       "   '111.032']),\n",
       " (953, ['007.232', '040.013']),\n",
       " (954, ['007.134', '040.040']),\n",
       " (955, ['007.131', '041.018', '053.011']),\n",
       " (956, ['007.222', '041.129']),\n",
       " (957, ['007.019', '041.006']),\n",
       " (958, ['007.096', '041.122']),\n",
       " (959,\n",
       "  ['007.251',\n",
       "   '042.051',\n",
       "   '053.005',\n",
       "   '078.138',\n",
       "   '088.009',\n",
       "   '033.015',\n",
       "   '113.048']),\n",
       " (960, ['007.113', '042.137']),\n",
       " (961, ['007.023', '042.088']),\n",
       " (962, ['007.113', '045.106']),\n",
       " (963, ['007.064', '045.065']),\n",
       " (964, ['007.035', '046.153']),\n",
       " (965, ['007.220', '049.175']),\n",
       " (966, ['007.181', '050.062']),\n",
       " (967, ['007.226', '050.097']),\n",
       " (968, ['007.067', '050.020']),\n",
       " (969, ['007.020', '050.010']),\n",
       " (970, ['007.031', '050.051']),\n",
       " (971, ['007.139', '050.148']),\n",
       " (972, ['007.001', '050.048']),\n",
       " (973, ['007.054', '050.152']),\n",
       " (974, ['007.009', '050.140', '071.188']),\n",
       " (975, ['007.020', '050.148', '108.215']),\n",
       " (976, ['007.009', '050.146', '084.197']),\n",
       " (977, ['007.043', '053.066']),\n",
       " (978, ['007.016', '053.151', '114.106']),\n",
       " (979, ['007.029', '053.249', '007.036']),\n",
       " (980, ['007.255', '054.029', '114.107', '100.013']),\n",
       " (981, ['007.216', '054.016']),\n",
       " (982, ['007.243', '054.058']),\n",
       " (983, ['007.160', '054.070', '114.018', '058.156', '077.198']),\n",
       " (984, ['007.033', '054.261', '041.115']),\n",
       " (985, ['007.080', '056.174']),\n",
       " (986, ['007.142', '058.077']),\n",
       " (987, ['007.156', '058.145']),\n",
       " (988, ['007.243', '060.263']),\n",
       " (989, ['007.117', '060.170', '114.013', '031.019', '042.026']),\n",
       " (990,\n",
       "  ['007.104',\n",
       "   '061.005',\n",
       "   '071.179',\n",
       "   '010.065',\n",
       "   '062.086',\n",
       "   '082.001',\n",
       "   '041.122']),\n",
       " (991, ['007.028', '061.123']),\n",
       " (992, ['007.127', '062.147']),\n",
       " (993, ['007.014', '063.050']),\n",
       " (994, ['007.035', '063.135']),\n",
       " (995, ['007.064', '066.211']),\n",
       " (996, ['007.023', '067.083']),\n",
       " (997, ['007.104', '070.004']),\n",
       " (998, ['007.072', '070.030']),\n",
       " (999, ['007.100', '072.238']),\n",
       " ...]"
      ]
     },
     "execution_count": 118,
     "metadata": {},
     "output_type": "execute_result"
    }
   ],
   "source": [
    "[i for i in enumerate(clusters_stats['sids'])]"
   ]
  },
  {
   "cell_type": "code",
   "execution_count": 122,
   "metadata": {
    "collapsed": false
   },
   "outputs": [
    {
     "data": {
      "text/plain": [
       "['fids', 'avg_purity', 'sids', 'purity', 'words', 'most_common']"
      ]
     },
     "execution_count": 122,
     "metadata": {},
     "output_type": "execute_result"
    }
   ],
   "source": [
    "clusters_stats.keys()"
   ]
  },
  {
   "cell_type": "markdown",
   "metadata": {
    "collapsed": true
   },
   "source": [
    "## Keywords"
   ]
  },
  {
   "cell_type": "code",
   "execution_count": 15,
   "metadata": {
    "collapsed": false
   },
   "outputs": [
    {
     "data": {
      "text/plain": [
       "[Align(word='OH', start=3, end=15),\n",
       " Align(word='HE', start=113, end=128),\n",
       " Align(word='NOW', start=40, end=72),\n",
       " Align(word='HAS', start=72, end=99),\n",
       " Align(word='NEW', start=128, end=152),\n",
       " Align(word='PARTNER', start=152, end=209),\n",
       " Align(word='THAT', start=209, end=219),\n",
       " Align(word='HAS', start=219, end=241),\n",
       " Align(word=\"'S\", start=270, end=278),\n",
       " Align(word='A', start=278, end=295),\n",
       " Align(word='GRINGO', start=295, end=329),\n",
       " Align(word='GRINGO', start=329, end=348),\n",
       " Align(word='OH', start=373, end=395)]"
      ]
     },
     "execution_count": 15,
     "metadata": {},
     "output_type": "execute_result"
    }
   ],
   "source": [
    "align_dict['088']['088.194']['en']"
   ]
  },
  {
   "cell_type": "code",
   "execution_count": null,
   "metadata": {
    "collapsed": true
   },
   "outputs": [],
   "source": []
  }
 ],
 "metadata": {
  "kernelspec": {
   "display_name": "Python 2",
   "language": "python",
   "name": "python2"
  },
  "language_info": {
   "codemirror_mode": {
    "name": "ipython",
    "version": 2
   },
   "file_extension": ".py",
   "mimetype": "text/x-python",
   "name": "python",
   "nbconvert_exporter": "python",
   "pygments_lexer": "ipython2",
   "version": "2.7.12"
  }
 },
 "nbformat": 4,
 "nbformat_minor": 0
}
