{
 "cells": [
  {
   "cell_type": "code",
   "execution_count": 1,
   "metadata": {
    "collapsed": false
   },
   "outputs": [],
   "source": [
    "from __future__ import print_function\n",
    "from __future__ import division\n",
    "import os\n",
    "import cPickle as pickle\n",
    "import json\n",
    "import subprocess\n",
    "from IPython.display import display\n",
    "from IPython.display import Audio\n",
    "import bisect\n",
    "from collections import namedtuple\n",
    "import numpy as np\n",
    "import pandas as pd\n",
    "from collections import Counter\n",
    "from prettytable import PrettyTable\n",
    "import matplotlib.pyplot as plt\n",
    "import seaborn as sns\n",
    "import textwrap\n",
    "import nltk\n",
    "from nltk.corpus import stopwords\n",
    "\n",
    "from matplotlib.ticker import MultipleLocator, \\\n",
    "     FormatStrFormatter, AutoMinorLocator\n",
    "%matplotlib inline"
   ]
  },
  {
   "cell_type": "code",
   "execution_count": 2,
   "metadata": {
    "collapsed": true
   },
   "outputs": [],
   "source": [
    "with open(\"config.json\") as json_data_file:\n",
    "    config = json.load(json_data_file)"
   ]
  },
  {
   "cell_type": "code",
   "execution_count": 3,
   "metadata": {
    "collapsed": false
   },
   "outputs": [],
   "source": [
    "nodes_fname = config[\"es\"]['nodes_fname']\n",
    "seg_nodes_fname = config[\"es\"]['seg_nodes_fname']\n",
    "nodes_dict_fname = config[\"es\"]['nodes_dict_fname']\n",
    "\n",
    "edges_utd_fname = config[\"es\"]['edges_utd_fname']\n",
    "edges_olap_fname = config[\"es\"]['edges_olap_fname']\n",
    "edges_all_fname = config[\"es\"]['edges_all_fname']\n",
    "edges_score_fname = config[\"es\"]['edges_score_fname']\n",
    "\n",
    "clusters_utd_fname = config['es']['clusters_utd_fname']\n",
    "clusters_fname = config['es']['clusters_fname']\n",
    "clusters_stats_fname = config['es']['clusters_stats_fname']\n",
    "\n",
    "pairs_fname = config['es']['score_pairs_fname']\n",
    "eval_fname = config['es']['eval_pairs_fname']\n",
    "\n",
    "feats_fname = config['es']['feats_fname']\n",
    "\n",
    "# Gold feats\n",
    "gold_feats_dict_fname = config['es']['gold_feats']\n",
    "# Pseudo feats\n",
    "feats_dict_fname = config['es']['feats_dict_fname']\n",
    "\n",
    "gold_probs_fname = config['es']['mt_probs_gold']\n",
    "gold_probs_dict_fname = config['es']['mt_probs_dict_gold']\n",
    "\n",
    "pseudo_probs_fname = config['es']['mt_probs_pseudo']\n",
    "pseudo_probs_dict_fname = config['es']['mt_probs_dict_pseudo']\n",
    "\n",
    "train_segment_list_fname = config['es']['mt_train_files']\n",
    "dev_segment_list_fname = config['es']['mt_dev_files']\n",
    "\n",
    "gold_corpus_fname = config['es']['mt_corpus_train_gold']\n",
    "pseudo_corpus_fname = config['es']['mt_corpus_train_pseudo']\n",
    "\n",
    "mt_gold_pred_dict_fname = config['es']['mt_gold_pred_dict']\n",
    "mt_pseudo_pred_dict_fname = config['es']['mt_pseudo_pred_dict']\n",
    "\n",
    "mt_gold_eval_dict_fname = config['es']['mt_gold_eval_dict']\n",
    "mt_pseudo_eval_dict_fname = config['es']['mt_pseudo_eval_dict']\n",
    "\n",
    "es_merge_wavs_path = config['es']['es_merge_wavs']\n",
    "utd_wavs_path = config['es']['utd_wavs']\n",
    "\n",
    "utd_tmp_wav_path = config['es']['utd_wavs']"
   ]
  },
  {
   "cell_type": "code",
   "execution_count": 4,
   "metadata": {
    "collapsed": true
   },
   "outputs": [],
   "source": [
    "Align = namedtuple('Align', ['word', 'start', 'end'])\n",
    "Node = namedtuple('Node', ['file', 'seg', 'start', 'end', 'es', 'es_cnt'])\n",
    "Eval = namedtuple('Eval', ['n1', 'n2', 'dtw', 'es_sim', 'es_cnt_sim', 'en_j_sim'])"
   ]
  },
  {
   "cell_type": "code",
   "execution_count": 5,
   "metadata": {
    "collapsed": false
   },
   "outputs": [],
   "source": [
    "segment_map = pickle.load(open(config['es']['segment_dict_fname'], \"rb\"))\n",
    "align_dict = pickle.load(open(config['es']['align_dict_fname'], \"rb\"))\n",
    "nodes_dict = pickle.load(open(nodes_dict_fname, \"rb\"))\n",
    "pairs_list = pickle.load(open(pairs_fname, \"rb\"))\n",
    "eval_dict = pickle.load(open(eval_fname, \"rb\"))\n",
    "clusters = pickle.load(open(clusters_fname, \"rb\"))\n",
    "clusters_stats = pickle.load(open(clusters_stats_fname, \"rb\"))\n",
    "feats_dict = pickle.load(open(feats_dict_fname, \"rb\"))\n",
    "gold_feats_dict = pickle.load(open(gold_feats_dict_fname, \"rb\"))\n",
    "\n",
    "if os.path.exists(gold_probs_dict_fname):\n",
    "    gold_probs_dict = pickle.load(open(gold_probs_dict_fname, \"rb\"))\n",
    "\n",
    "if os.path.exists(pseudo_probs_dict_fname):\n",
    "    pseudo_probs_dict = pickle.load(open(pseudo_probs_dict_fname, \"rb\"))\n",
    "\n",
    "if os.path.exists(mt_gold_pred_dict_fname):\n",
    "    mt_gold_pred_dict = pickle.load(open(mt_gold_pred_dict_fname, \"rb\"))\n",
    "    \n",
    "if os.path.exists(mt_pseudo_pred_dict_fname):\n",
    "    mt_pseudo_pred_dict = pickle.load(open(mt_pseudo_pred_dict_fname, \"rb\"))\n",
    "    \n",
    "if os.path.exists(mt_gold_eval_dict_fname):\n",
    "    mt_gold_eval_dict = pickle.load(open(mt_gold_eval_dict_fname, \"rb\"))\n",
    "    \n",
    "if os.path.exists(mt_pseudo_eval_dict_fname):\n",
    "    mt_pseudo_eval_dict = pickle.load(open(mt_pseudo_eval_dict_fname, \"rb\"))    "
   ]
  },
  {
   "cell_type": "code",
   "execution_count": 6,
   "metadata": {
    "collapsed": true
   },
   "outputs": [],
   "source": [
    "def gen_node_wav(nid, nodes_dict, utd_wavs_path, src_wavs_path, segment_map):\n",
    "    pair_wavs_path = os.path.join(utd_wavs_path, \"wavs\")\n",
    "    nid_fname = os.path.join(pair_wavs_path, \"%d.wav\" % nid)\n",
    "    if not os.path.exists(pair_wavs_path):\n",
    "        os.makedirs(pair_wavs_path)\n",
    "    #if os.path.exists(nid_fname):\n",
    "    #    return\n",
    "    \n",
    "    segid = nodes_dict[nid].seg\n",
    "    fid = (segid.split('.')[0]).strip()\n",
    "    \n",
    "    merge_wav_start = segment_map[fid][segid] + nodes_dict[nid].start\n",
    "    merge_wav_end = segment_map[fid][segid] + nodes_dict[nid].end\n",
    "    \n",
    "    merge_wav_fname = os.path.join(src_wavs_path, fid+\".wav\")\n",
    "    \n",
    "    start_time = \"{0:0.2f}\".format(merge_wav_start/100)\n",
    "    end_time = \"={0:0.2f}\".format(merge_wav_end/100)\n",
    "    subprocess.call([\"sox\", merge_wav_fname, nid_fname, \\\n",
    "                     \"trim\", start_time, \"{0:s}\".format(end_time)])\n",
    "    \n",
    "    return Audio(nid_fname)\n",
    "    \n",
    "    "
   ]
  },
  {
   "cell_type": "code",
   "execution_count": 7,
   "metadata": {
    "collapsed": false
   },
   "outputs": [
    {
     "data": {
      "text/html": [
       "\n",
       "                <audio controls=\"controls\" >\n",
       "                    <source src=\"data:audio/x-wav;base64,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\" type=\"audio/x-wav\" />\n",
       "                    Your browser does not support the audio element.\n",
       "                </audio>\n",
       "              "
      ],
      "text/plain": [
       "<IPython.lib.display.Audio object>"
      ]
     },
     "metadata": {},
     "output_type": "display_data"
    }
   ],
   "source": [
    "display(gen_node_wav(1, nodes_dict, utd_wavs_path, es_merge_wavs_path, segment_map))"
   ]
  },
  {
   "cell_type": "code",
   "execution_count": 8,
   "metadata": {
    "collapsed": true
   },
   "outputs": [],
   "source": [
    "def display_pair(pid, eval_dict, nodes_dict, align_dict, utd_wavs_path, src_wavs_path, segment_map):\n",
    "    headers = [\"pair id\", \"nid\", \"ES transcript\", \"EN translation\"]\n",
    "    display_pp = PrettyTable(headers, hrules=True)\n",
    "    \n",
    "    n1 = eval_dict[pid].n1\n",
    "    n2 = eval_dict[pid].n2\n",
    "    \n",
    "    en_1 = ' '.join([x.word for x in align_dict[nodes_dict[n1].file][nodes_dict[n1].seg]['en']])\n",
    "    en_2 = ' '.join([x.word for x in align_dict[nodes_dict[n2].file][nodes_dict[n2].seg]['en']])\n",
    "    \n",
    "    row_1 = [pid, n1, ' '.join(nodes_dict[n1].es), textwrap.fill(en_1,50)]\n",
    "    \n",
    "    row_2 = [pid, n2, ' '.join(nodes_dict[n2].es), textwrap.fill(en_2,50)]\n",
    "    \n",
    "    display_pp.add_row(row_1)\n",
    "    display_pp.add_row(row_2)\n",
    "    print(display_pp)\n",
    "    \n",
    "    display(gen_node_wav(n1, nodes_dict, utd_wavs_path, es_merge_wavs_path, segment_map))\n",
    "    display(gen_node_wav(n2, nodes_dict, utd_wavs_path, es_merge_wavs_path, segment_map))\n",
    "    #print(display_pp.get_html_string())\n",
    "\n",
    "    "
   ]
  },
  {
   "cell_type": "code",
   "execution_count": 9,
   "metadata": {
    "collapsed": false
   },
   "outputs": [
    {
     "name": "stdout",
     "output_type": "stream",
     "text": [
      "+---------+-------+----------------+----------------------------------------------------+\n",
      "| pair id |  nid  | ES transcript  |                   EN translation                   |\n",
      "+---------+-------+----------------+----------------------------------------------------+\n",
      "|  16210  | 14185 |  CUIDADO PERO  |  NO NO IT IS NO SO SERIOUS BUT SHE HAS THAT THAT   |\n",
      "|         |       |                | WORRY WHO KNOWS MAYBE IS JUST MASS SOMETHING IS A  |\n",
      "|         |       |                |                  LITTLE BALL THAT                  |\n",
      "+---------+-------+----------------+----------------------------------------------------+\n",
      "|  16210  | 14186 | LLAMAROS Y QUE | WELL SHE SAID THAT SHE SHE WAS GOING TO CALL SO I  |\n",
      "|         |       |                | SHE HAD LEFT PHONE NUMBER BECAUSE SHE WAS SLEEPING |\n",
      "|         |       |                | IT NOW TWO TIMES THAT HAS CALLED AND SHE 'S ASLEEP |\n",
      "|         |       |                |                SO SHE CAN 'T ANSWER                |\n",
      "+---------+-------+----------------+----------------------------------------------------+\n"
     ]
    },
    {
     "data": {
      "text/html": [
       "\n",
       "                <audio controls=\"controls\" >\n",
       "                    <source src=\"data:audio/x-wav;base64,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\" type=\"audio/x-wav\" />\n",
       "                    Your browser does not support the audio element.\n",
       "                </audio>\n",
       "              "
      ],
      "text/plain": [
       "<IPython.lib.display.Audio object>"
      ]
     },
     "metadata": {},
     "output_type": "display_data"
    },
    {
     "data": {
      "text/html": [
       "\n",
       "                <audio controls=\"controls\" >\n",
       "                    <source src=\"data:audio/x-wav;base64,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\" type=\"audio/x-wav\" />\n",
       "                    Your browser does not support the audio element.\n",
       "                </audio>\n",
       "              "
      ],
      "text/plain": [
       "<IPython.lib.display.Audio object>"
      ]
     },
     "metadata": {},
     "output_type": "display_data"
    }
   ],
   "source": [
    "display_pair(16210, eval_dict, nodes_dict, align_dict, utd_wavs_path, es_merge_wavs_path, segment_map)"
   ]
  },
  {
   "cell_type": "markdown",
   "metadata": {},
   "source": [
    "## Pseudotext analysis"
   ]
  },
  {
   "cell_type": "code",
   "execution_count": 10,
   "metadata": {
    "collapsed": false
   },
   "outputs": [
    {
     "data": {
      "text/plain": [
       "(u'../files-train-segments-sf-10.txt', u'../files-dev-segments-sf-10.txt')"
      ]
     },
     "execution_count": 10,
     "metadata": {},
     "output_type": "execute_result"
    }
   ],
   "source": [
    "train_segment_list_fname, dev_segment_list_fname"
   ]
  },
  {
   "cell_type": "code",
   "execution_count": 11,
   "metadata": {
    "collapsed": true
   },
   "outputs": [],
   "source": [
    "train_fids = []\n",
    "train_sids = []\n",
    "with open(train_segment_list_fname, \"r\") as in_f:\n",
    "    for line in in_f:\n",
    "        train_fids.append(line.strip().split(\".\")[0])\n",
    "        train_sids.append(line.strip())\n",
    "train_fids = set(train_fids)\n",
    "train_sids = set(train_sids)"
   ]
  },
  {
   "cell_type": "code",
   "execution_count": 12,
   "metadata": {
    "collapsed": true
   },
   "outputs": [],
   "source": [
    "dev_fids = []\n",
    "dev_sids = []\n",
    "with open(dev_segment_list_fname, \"r\") as in_f:\n",
    "    for line in in_f:\n",
    "        dev_fids.append(line.strip().split(\".\")[0])\n",
    "        dev_sids.append(line.strip())\n",
    "dev_fids = set(dev_fids)\n",
    "dev_sids = set(dev_sids)"
   ]
  },
  {
   "cell_type": "code",
   "execution_count": 13,
   "metadata": {
    "collapsed": false
   },
   "outputs": [],
   "source": [
    "clusters_stats['is_dev'] = []\n",
    "clusters_stats['is_train'] = []\n",
    "clusters_stats['oov'] = []\n",
    "clusters_stats['cross_seg'] = []\n",
    "clusters_stats['cross_file'] = []\n",
    "clusters_stats['same_seg'] = []\n",
    "clusters_stats['in_vocab'] = []\n",
    "for sids in clusters_stats['sids']:\n",
    "    is_in_dev = len(dev_sids & set(sids)) > 0\n",
    "    is_in_train = len(train_sids & set(sids)) > 0\n",
    "    clusters_stats['is_dev'].append(is_in_dev)\n",
    "    clusters_stats['is_train'].append(is_in_train)\n",
    "    clusters_stats['oov'].append(is_in_dev and not is_in_train)\n",
    "    clusters_stats['in_vocab'].append(is_in_dev and is_in_train)\n",
    "    cross_seg = False\n",
    "    cross_file = False\n",
    "    same_seg = False\n",
    "    if is_in_dev and is_in_train:\n",
    "        common_sids = (dev_sids & set(sids)) | (train_sids & set(sids))\n",
    "        cross_seg = (len(common_sids) > 1)\n",
    "        cross_file = (len(set([s.split('.')[0] for s in common_sids])) > 1)\n",
    "        \n",
    "    if is_in_dev or is_in_train:\n",
    "        same_seg = (len(set(sids)) == 1)\n",
    "        \n",
    "    clusters_stats['cross_seg'].append(cross_seg)\n",
    "    clusters_stats['cross_file'].append(cross_file)\n",
    "    clusters_stats['same_seg'].append(same_seg)\n",
    "        \n",
    "        \n",
    "\n",
    "clusters_stats['dev_depth'] = []\n",
    "clusters_stats['train_depth'] = []\n",
    "for nlist in clusters_stats['sids']:\n",
    "    clusters_stats['dev_depth'].append(len([i for i in nlist if i in dev_sids]))\n",
    "    clusters_stats['train_depth'].append(len([i for i in nlist if i in train_sids]))\n"
   ]
  },
  {
   "cell_type": "code",
   "execution_count": 14,
   "metadata": {
    "collapsed": false
   },
   "outputs": [
    {
     "name": "stdout",
     "output_type": "stream",
     "text": [
      "583\n",
      "627\n",
      "1329\n"
     ]
    }
   ],
   "source": [
    "num_oov = sum([i for i in clusters_stats['oov']])\n",
    "print(num_oov)\n",
    "sum_oov = sum([d for i, d in enumerate(clusters_stats['dev_depth']) if clusters_stats['oov'][i]])\n",
    "total_pwords = sum([d for i, d in enumerate(clusters_stats['dev_depth']) if clusters_stats['is_dev'][i]])\n",
    "print(sum_oov)\n",
    "print(total_pwords)"
   ]
  },
  {
   "cell_type": "code",
   "execution_count": 15,
   "metadata": {
    "collapsed": true
   },
   "outputs": [],
   "source": [
    "def mini_print(out_cols, out_rows):\n",
    "    out_line = PrettyTable(out_cols)\n",
    "    print(\" & \".join(out_cols))\n",
    "    if len(out_rows) > 1 and type(out_rows[0]) == list:\n",
    "        for row in out_rows:\n",
    "            out_line.add_row(row)\n",
    "            print(\" & \".join(map(str, row)))\n",
    "    else:\n",
    "        out_line.add_row(out_rows)\n",
    "        print(\" & \".join(map(str, out_rows)))\n",
    "    print(out_line)"
   ]
  },
  {
   "cell_type": "code",
   "execution_count": 16,
   "metadata": {
    "collapsed": false
   },
   "outputs": [],
   "source": [
    "def oov_summary(dev_sids, feats_dict):\n",
    "    dev_words = []\n",
    "    train_words = []\n",
    "    oov_pwords = []\n",
    "    for did in dev_sids:\n",
    "        dev_words.extend([w.decode('utf-8') for w in feats_dict[did]])\n",
    "    for tid in train_sids:\n",
    "        train_words.extend([w.decode('utf-8') for w in feats_dict[tid]])\n",
    "    set_train_words = set(train_words)\n",
    "    oov_words = [cid for cid in dev_words if cid not in set_train_words and cid != \"-1\"]\n",
    "    missing_train_words = [cid for cid in train_words if cid == \"-1\"]\n",
    "    missing_words = [cid for cid in dev_words if cid == \"-1\"]\n",
    "    out_cols = [\"train words\", \"dev words\", \"oov\", \"oov types\", \"miss.\", \"oov + miss.\", \"vocab\", \"oov vocab\"]\n",
    "    out_rows = [len(train_words), len(dev_words), len(oov_words), len(set(oov_words)), \\\n",
    "                len(missing_words), len(oov_words) + len(missing_words), len(set(dev_words)), len(set(oov_words))]\n",
    "    mini_print(out_cols, out_rows)\n",
    "    return Counter(train_words), Counter(dev_words), Counter(oov_words)"
   ]
  },
  {
   "cell_type": "code",
   "execution_count": 17,
   "metadata": {
    "collapsed": false
   },
   "outputs": [
    {
     "name": "stdout",
     "output_type": "stream",
     "text": [
      "train words & dev words & oov & oov types & miss. & oov + miss. & vocab & oov vocab\n",
      "15165 & 1660 & 627 & 583 & 331 & 958 & 1218 & 583\n",
      "+-------------+-----------+-----+-----------+-------+-------------+-------+-----------+\n",
      "| train words | dev words | oov | oov types | miss. | oov + miss. | vocab | oov vocab |\n",
      "+-------------+-----------+-----+-----------+-------+-------------+-------+-----------+\n",
      "|    15165    |    1660   | 627 |    583    |  331  |     958     |  1218 |    583    |\n",
      "+-------------+-----------+-----+-----------+-------+-------------+-------+-----------+\n",
      "train words & dev words & oov & oov types & miss. & oov + miss. & vocab & oov vocab\n",
      "27597 & 2862 & 291 & 272 & 0 & 291 & 1287 & 272\n",
      "+-------------+-----------+-----+-----------+-------+-------------+-------+-----------+\n",
      "| train words | dev words | oov | oov types | miss. | oov + miss. | vocab | oov vocab |\n",
      "+-------------+-----------+-----+-----------+-------+-------------+-------+-----------+\n",
      "|    27597    |    2862   | 291 |    272    |   0   |     291     |  1287 |    272    |\n",
      "+-------------+-----------+-----+-----------+-------+-------------+-------+-----------+\n"
     ]
    }
   ],
   "source": [
    "train_pwords, dev_pwords, oov_pwords = oov_summary(dev_sids, feats_dict)\n",
    "train_gold_words, dev_gold_words, oov_gold_words = oov_summary(dev_sids, gold_feats_dict)"
   ]
  },
  {
   "cell_type": "code",
   "execution_count": 18,
   "metadata": {
    "collapsed": false
   },
   "outputs": [],
   "source": [
    "train_pwords_es = Counter([clusters_stats['most_common'][int(cid)].upper() for cid in train_pwords if cid != -1])\n",
    "dev_pwords_es = Counter([clusters_stats['most_common'][int(cid)].upper() for cid in dev_pwords if cid != -1])\n",
    "oov_pwords_es = Counter([clusters_stats['most_common'][int(cid)].upper() for cid in oov_pwords if cid != -1])"
   ]
  },
  {
   "cell_type": "code",
   "execution_count": 19,
   "metadata": {
    "collapsed": false
   },
   "outputs": [
    {
     "name": "stdout",
     "output_type": "stream",
     "text": [
      "train/dev/oov & total & types\n",
      "train & 8062 & 2352\n",
      "dev & 1218 & 650\n",
      "oov & 583 & 376\n",
      "+---------------+-------+-------+\n",
      "| train/dev/oov | total | types |\n",
      "+---------------+-------+-------+\n",
      "|     train     |  8062 |  2352 |\n",
      "|      dev      |  1218 |  650  |\n",
      "|      oov      |  583  |  376  |\n",
      "+---------------+-------+-------+\n"
     ]
    }
   ],
   "source": [
    "out_cols = [\"train/dev/oov\", \"total\", \"types\"]\n",
    "out_rows = []\n",
    "out_rows.append(['train', sum(train_pwords_es.values()), len(train_pwords_es)])\n",
    "out_rows.append(['dev', sum(dev_pwords_es.values()), len(dev_pwords_es)])\n",
    "out_rows.append(['oov', sum(oov_pwords_es.values()), len(oov_pwords_es)])\n",
    "mini_print(out_cols, out_rows)"
   ]
  },
  {
   "cell_type": "code",
   "execution_count": 20,
   "metadata": {
    "collapsed": false
   },
   "outputs": [
    {
     "name": "stdout",
     "output_type": "stream",
     "text": [
      "dev pwords in train vocab: 635\n",
      "translations missing for: 1\n"
     ]
    }
   ],
   "source": [
    "inv_words = [cid for cid in set(dev_pwords) - set(oov_pwords)]\n",
    "print(\"dev pwords in train vocab: %d\" % len(inv_words))\n",
    "missing_translations = [cid for cid in inv_words if cid not in pseudo_probs_dict]\n",
    "print(\"translations missing for: %d\" %len(missing_translations))"
   ]
  },
  {
   "cell_type": "code",
   "execution_count": 21,
   "metadata": {
    "collapsed": true
   },
   "outputs": [],
   "source": [
    "def recall_summary(eval_dict, dev_sids, feats_dict, oov_words, k):\n",
    "    k = 10\n",
    "    num_en_oov = sum([eval_dict['dev'][k][sid]['t'] for sid in set(dev_sids) \\\n",
    "                      if len(set(feats_dict[sid])-set(oov_words)) == 0])\n",
    "    num_inv_and_oov = sum([1 for sid in set(dev_sids) if len(set(feats_dict[sid])-set(oov_words)) > 0])\n",
    "    num_only_oov = sum([1 for sid in set(dev_sids) if len(set(feats_dict[sid])-set(oov_words)) == 0])\n",
    "    num_en = sum([eval_dict['dev'][k][sid]['t'] for sid in set(dev_sids)])\n",
    "    num_en_missing = sum([eval_dict['dev'][k][sid]['t'] for sid in set(dev_sids) \\\n",
    "                      if feats_dict[sid] == ['-1']])\n",
    "\n",
    "    num_en_pred = sum([eval_dict['dev'][k][sid]['tp'] for sid in set(dev_sids)])\n",
    "    num_en_corr_pred = sum([eval_dict['dev'][k][sid]['cp'] for sid in set(dev_sids)])\n",
    "\n",
    "    out_cols = [\"total en\", \"en oov\", \"en missing\", \"upper bound recall\"]\n",
    "    out_rows = [num_en, num_en_oov, num_en_missing, \"{0:.3f}\".format((num_en-num_en_oov-num_en_missing)/num_en)]\n",
    "\n",
    "    mini_print(out_cols, out_rows)\n",
    "\n",
    "    out_cols = [\"k\", \"\\\\# corr.\", \"\\\\# pred\", \"prec.\", \"rec.\", \"rec. w/o miss.\", \"rec. w/o oov\", \"rec. w/o miss.+oov\"]\n",
    "    out_rows = map(lambda v: \"{0:.2f} \\%\".format(v*100) if type(v) != int else v, \\\n",
    "                   [k, num_en_corr_pred, num_en_pred, (num_en_corr_pred/num_en_pred), (num_en_corr_pred/num_en), num_en_corr_pred/(num_en-num_en_missing), \\\n",
    "                    num_en_corr_pred/(num_en-num_en_oov), num_en_corr_pred/(num_en-num_en_missing-num_en_oov)])\n",
    "    mini_print(out_cols, out_rows)\n",
    "    mini_print(['inv+oov', 'only oov'], [num_inv_and_oov, num_only_oov])"
   ]
  },
  {
   "cell_type": "code",
   "execution_count": 22,
   "metadata": {
    "collapsed": false
   },
   "outputs": [
    {
     "name": "stdout",
     "output_type": "stream",
     "text": [
      "total en & en oov & en missing & upper bound recall\n",
      "2899 & 271 & 862 & 0.609\n",
      "+----------+--------+------------+--------------------+\n",
      "| total en | en oov | en missing | upper bound recall |\n",
      "+----------+--------+------------+--------------------+\n",
      "|   2899   |  271   |    862     |       0.609        |\n",
      "+----------+--------+------------+--------------------+\n",
      "k & \\# corr. & \\# pred & prec. & rec. & rec. w/o miss. & rec. w/o oov & rec. w/o miss.+oov\n",
      "10 & 210 & 3982 & 5.27 \\% & 7.24 \\% & 10.31 \\% & 7.99 \\% & 11.89 \\%\n",
      "+----+----------+---------+---------+---------+----------------+--------------+--------------------+\n",
      "| k  | \\# corr. | \\# pred |  prec.  |   rec.  | rec. w/o miss. | rec. w/o oov | rec. w/o miss.+oov |\n",
      "+----+----------+---------+---------+---------+----------------+--------------+--------------------+\n",
      "| 10 |   210    |   3982  | 5.27 \\% | 7.24 \\% |    10.31 \\%    |   7.99 \\%    |      11.89 \\%      |\n",
      "+----+----------+---------+---------+---------+----------------+--------------+--------------------+\n",
      "inv+oov & only oov\n",
      "577 & 62\n",
      "+---------+----------+\n",
      "| inv+oov | only oov |\n",
      "+---------+----------+\n",
      "|   577   |    62    |\n",
      "+---------+----------+\n"
     ]
    }
   ],
   "source": [
    "k=10\n",
    "recall_summary(mt_pseudo_eval_dict, dev_sids, feats_dict, oov_pwords, k)"
   ]
  },
  {
   "cell_type": "code",
   "execution_count": 23,
   "metadata": {
    "collapsed": false
   },
   "outputs": [
    {
     "name": "stdout",
     "output_type": "stream",
     "text": [
      "total en & en oov & en missing & upper bound recall\n",
      "2899 & 21 & 0 & 0.993\n",
      "+----------+--------+------------+--------------------+\n",
      "| total en | en oov | en missing | upper bound recall |\n",
      "+----------+--------+------------+--------------------+\n",
      "|   2899   |   21   |     0      |       0.993        |\n",
      "+----------+--------+------------+--------------------+\n",
      "k & \\# corr. & \\# pred & prec. & rec. & rec. w/o miss. & rec. w/o oov & rec. w/o miss.+oov\n",
      "10 & 1698 & 8654 & 19.62 \\% & 58.57 \\% & 58.57 \\% & 59.00 \\% & 59.00 \\%\n",
      "+----+----------+---------+----------+----------+----------------+--------------+--------------------+\n",
      "| k  | \\# corr. | \\# pred |  prec.   |   rec.   | rec. w/o miss. | rec. w/o oov | rec. w/o miss.+oov |\n",
      "+----+----------+---------+----------+----------+----------------+--------------+--------------------+\n",
      "| 10 |   1698   |   8654  | 19.62 \\% | 58.57 \\% |    58.57 \\%    |   59.00 \\%   |      59.00 \\%      |\n",
      "+----+----------+---------+----------+----------+----------------+--------------+--------------------+\n",
      "inv+oov & only oov\n",
      "630 & 9\n",
      "+---------+----------+\n",
      "| inv+oov | only oov |\n",
      "+---------+----------+\n",
      "|   630   |    9     |\n",
      "+---------+----------+\n"
     ]
    },
    {
     "data": {
      "text/plain": [
       "'\\nThe impact of oov words is less in the case of gold features, \\nas other words in the utterances still make predictions. \\n\\nHowever, due to the sparse nature of pseudotext, generally there are no in vocab words for the utterance when\\noov words are encountered\\n'"
      ]
     },
     "execution_count": 23,
     "metadata": {},
     "output_type": "execute_result"
    }
   ],
   "source": [
    "recall_summary(mt_gold_eval_dict, dev_sids, gold_feats_dict, oov_gold_words, k)\n",
    "'''\n",
    "The impact of oov words is less in the case of gold features, \n",
    "as other words in the utterances still make predictions. \n",
    "\n",
    "However, due to the sparse nature of pseudotext, generally there are no in vocab words for the utterance when\n",
    "oov words are encountered\n",
    "'''"
   ]
  },
  {
   "cell_type": "code",
   "execution_count": 24,
   "metadata": {
    "collapsed": false
   },
   "outputs": [
    {
     "name": "stdout",
     "output_type": "stream",
     "text": [
      "train fids & dev fids & train sids & dev sids\n",
      "36 & 36 & 5930 & 639\n",
      "+------------+----------+------------+----------+\n",
      "| train fids | dev fids | train sids | dev sids |\n",
      "+------------+----------+------------+----------+\n",
      "|     36     |    36    |    5930    |   639    |\n",
      "+------------+----------+------------+----------+\n"
     ]
    }
   ],
   "source": [
    "mini_print([\"train fids\", \"dev fids\", \"train sids\", \"dev sids\"], \\\n",
    "          [len(train_fids), len(dev_fids), len(train_sids), len(dev_sids)])"
   ]
  },
  {
   "cell_type": "code",
   "execution_count": 25,
   "metadata": {
    "collapsed": false
   },
   "outputs": [],
   "source": [
    "def show_common(counter_A, counter_B):\n",
    "    set_A = set(counter_A.keys())\n",
    "    set_B = set(counter_B.keys())\n",
    "    common = set_A & set_B\n",
    "    return common, len(common)"
   ]
  },
  {
   "cell_type": "code",
   "execution_count": 26,
   "metadata": {
    "collapsed": false
   },
   "outputs": [
    {
     "name": "stdout",
     "output_type": "stream",
     "text": [
      "21\n",
      "1538 2352 5389\n"
     ]
    }
   ],
   "source": [
    "_, k = show_common(oov_pwords_es, oov_gold_words)\n",
    "print(k)\n",
    "_, k = show_common(train_pwords_es, train_gold_words)\n",
    "print(k, len(train_pwords_es), len(train_gold_words))"
   ]
  },
  {
   "cell_type": "code",
   "execution_count": 27,
   "metadata": {
    "collapsed": true
   },
   "outputs": [],
   "source": [
    "def get_dur_for_sids(sids, align_dict):\n",
    "    dur = 0\n",
    "    for sid in sids:\n",
    "        dur += sum([word.end-word.start for word in align_dict[sid.split('.')[0]][sid]['es']])\n",
    "    return dur / (100 * 3600)"
   ]
  },
  {
   "cell_type": "code",
   "execution_count": 28,
   "metadata": {
    "collapsed": false
   },
   "outputs": [
    {
     "name": "stdout",
     "output_type": "stream",
     "text": [
      "train sid dur & dev sid dur\n",
      "4.418 & 0.450\n",
      "+---------------+-------------+\n",
      "| train sid dur | dev sid dur |\n",
      "+---------------+-------------+\n",
      "|     4.418     |    0.450    |\n",
      "+---------------+-------------+\n"
     ]
    }
   ],
   "source": [
    "# train sids duration\n",
    "train_sid_dur = \"%.3f\" % get_dur_for_sids(train_sids, align_dict)\n",
    "dev_sid_dur = \"%.3f\" % get_dur_for_sids(dev_sids, align_dict)\n",
    "mini_print([\"train sid dur\", \"dev sid dur\"], [train_sid_dur, dev_sid_dur])"
   ]
  },
  {
   "cell_type": "markdown",
   "metadata": {},
   "source": [
    "### pseudowords"
   ]
  },
  {
   "cell_type": "markdown",
   "metadata": {},
   "source": [
    "## Cluster Analysis"
   ]
  },
  {
   "cell_type": "code",
   "execution_count": 29,
   "metadata": {
    "collapsed": true
   },
   "outputs": [],
   "source": [
    "def plot_word_freq(count_dict, num=10, fig_name = '', prefix='', color='salmon'):\n",
    "    if prefix:\n",
    "        count_dict = {\"%s_%s\" % (prefix, k): v for k,v in count_dict.items()}\n",
    "    pd_es_df = pd.DataFrame(sorted(count_dict.items(), reverse=True, key=lambda t:t[1])[:num], index=range(num))\n",
    "    pd_es_df.columns = [\"word\", \"freq\"]\n",
    "    fig, ax = plt.subplots(figsize=(10,5))\n",
    "    sns.barplot(y='word', x=\"freq\", data=pd_es_df, label=fig_name, color=color)\n",
    "    ax.legend(ncol=1, loc=\"center right\", frameon=True, fontsize=20)\n",
    "\n",
    "    #ax.set(xlim=(0, 300))\n",
    "\n",
    "    plt.xlabel(\"word counts\", size=20)\n",
    "    plt.ylabel(\"word types\", size=20)\n",
    "\n",
    "    plt.yticks(rotation=0, size=18)\n",
    "    plt.xticks(rotation=0, size=18)\n",
    "\n",
    "    sns.despine(left=True, bottom=True)\n",
    "\n",
    "    fig.tight_layout()\n",
    "    "
   ]
  },
  {
   "cell_type": "code",
   "execution_count": 30,
   "metadata": {
    "collapsed": true
   },
   "outputs": [],
   "source": [
    "def get_en_words(align_dict, seg_id, en_key):\n",
    "    en_words = [w.word for w in align_dict[seg_id.split('.')[0]][seg_id][en_key] if \"'\" not in w.word]\n",
    "    if not en_words:\n",
    "        en_words = [w.word for w in align_dict[seg_id.split('.')[0]][seg_id]['en'] if \"'\" not in w.word]\n",
    "    return en_words"
   ]
  },
  {
   "cell_type": "code",
   "execution_count": 31,
   "metadata": {
    "collapsed": true
   },
   "outputs": [],
   "source": [
    "def get_word_counts(w_key, feats_dict, align_dict, sids):\n",
    "    if w_key.startswith('es'):\n",
    "        wrds = [a.decode(\"utf-8\") for sid in feats_dict for a in feats_dict[sid] if sid in sids]\n",
    "    else:\n",
    "        wrds = [a for sid in sids for a in get_en_words(align_dict, sid, w_key)]\n",
    "    return Counter(wrds)"
   ]
  },
  {
   "cell_type": "code",
   "execution_count": 32,
   "metadata": {
    "collapsed": false
   },
   "outputs": [],
   "source": [
    "def calc_avg_purity(clusters_df):\n",
    "    num = sum(clusters_df.apply(lambda row: \\\n",
    "                            Counter(row.words).most_common(1)[0][1] \\\n",
    "                            if len(row.words) > 0 else 0, axis=1))\n",
    "    den = sum(clusters_df.apply(lambda row: len(row.words), axis=1))\n",
    "    return (num / den)"
   ]
  },
  {
   "cell_type": "code",
   "execution_count": 33,
   "metadata": {
    "collapsed": true
   },
   "outputs": [],
   "source": [
    "def play_cluster(cid):\n",
    "    cid_wav_path = os.path.join(config[\"es\"][\"zrt_tmp_wav\"], \"%04d.wav\" %(cid+1))\n",
    "    return Audio(cid_wav_path)"
   ]
  },
  {
   "cell_type": "code",
   "execution_count": 34,
   "metadata": {
    "collapsed": false
   },
   "outputs": [
    {
     "data": {
      "text/plain": [
       "[(u'11542', 3), (u'11543', 2), (u'11540', 2), (u'11541', 1), (u'11546', 2)]"
      ]
     },
     "execution_count": 34,
     "metadata": {},
     "output_type": "execute_result"
    }
   ],
   "source": [
    "temp_train_pwords = {k:v for k, v in train_pwords.items()}\n",
    "del temp_train_pwords['-1']\n",
    "temp_train_pwords.items()[:5]"
   ]
  },
  {
   "cell_type": "code",
   "execution_count": 35,
   "metadata": {
    "collapsed": false
   },
   "outputs": [
    {
     "data": {
      "image/png": "[encoded data removed]",
      "text/plain": [
       "<matplotlib.figure.Figure at 0x7f6153f9e910>"
      ]
     },
     "metadata": {},
     "output_type": "display_data"
    }
   ],
   "source": [
    "plot_word_freq(train_gold_words, fig_name=\"haha\", color='grey')"
   ]
  },
  {
   "cell_type": "code",
   "execution_count": 36,
   "metadata": {
    "collapsed": false
   },
   "outputs": [
    {
     "data": {
      "image/png": "[encoded data removed]",
      "text/plain": [
       "<matplotlib.figure.Figure at 0x7f6153f9e450>"
      ]
     },
     "metadata": {},
     "output_type": "display_data"
    }
   ],
   "source": [
    "plot_word_freq(temp_train_pwords, fig_name=\"hehe\", prefix='c', color=\"salmon\")"
   ]
  },
  {
   "cell_type": "code",
   "execution_count": 37,
   "metadata": {
    "collapsed": false
   },
   "outputs": [],
   "source": [
    "eval_df = pd.DataFrame(eval_dict, columns=Eval._fields)\n",
    "clusters_df = pd.DataFrame(clusters_stats)\n",
    "del clusters_df['avg_purity']\n",
    "clusters_df['depth'] = clusters_df.apply(lambda row: len(row['words']), axis=1)"
   ]
  },
  {
   "cell_type": "code",
   "execution_count": 38,
   "metadata": {
    "collapsed": false
   },
   "outputs": [
    {
     "name": "stdout",
     "output_type": "stream",
     "text": [
      "197 15089\n"
     ]
    }
   ],
   "source": [
    "print(len(clusters_df[clusters_df['same_seg']== True]), len(clusters_df))"
   ]
  },
  {
   "cell_type": "code",
   "execution_count": 39,
   "metadata": {
    "collapsed": false
   },
   "outputs": [
    {
     "name": "stdout",
     "output_type": "stream",
     "text": [
      "634 15089\n"
     ]
    }
   ],
   "source": [
    "print(len(clusters_df[clusters_df['cross_seg']== True]), len(clusters_df))"
   ]
  },
  {
   "cell_type": "code",
   "execution_count": 40,
   "metadata": {
    "collapsed": false
   },
   "outputs": [
    {
     "name": "stdout",
     "output_type": "stream",
     "text": [
      "414 15089\n"
     ]
    }
   ],
   "source": [
    "print(len(clusters_df[clusters_df['cross_file']== True]), len(clusters_df))"
   ]
  },
  {
   "cell_type": "code",
   "execution_count": 99,
   "metadata": {
    "collapsed": false
   },
   "outputs": [],
   "source": [
    "cross_seg_cids = {s for s, c in enumerate(clusters_stats['cross_seg']) if c == True}"
   ]
  },
  {
   "cell_type": "code",
   "execution_count": 42,
   "metadata": {
    "collapsed": false
   },
   "outputs": [],
   "source": [
    "cross_file_cids = {s for s, c in enumerate(clusters_stats['cross_file']) if c == True}"
   ]
  },
  {
   "cell_type": "code",
   "execution_count": 101,
   "metadata": {
    "collapsed": false
   },
   "outputs": [
    {
     "name": "stdout",
     "output_type": "stream",
     "text": [
      "635\n"
     ]
    }
   ],
   "source": [
    "print(len(set(train_pwords) & set(dev_pwords)))\n",
    "hmm = {int(i) for i in set(train_pwords) & set(dev_pwords)}"
   ]
  },
  {
   "cell_type": "markdown",
   "metadata": {},
   "source": [
    "### View clusters"
   ]
  },
  {
   "cell_type": "code",
   "execution_count": 49,
   "metadata": {
    "collapsed": false
   },
   "outputs": [],
   "source": [
    "view_cols = ['most_common', 'oov', 'purity', 'words', 'depth', 'cross_seg', 'cross_file']"
   ]
  },
  {
   "cell_type": "code",
   "execution_count": 50,
   "metadata": {
    "collapsed": false
   },
   "outputs": [
    {
     "data": {
      "text/html": [
       "<div>\n",
       "<table border=\"1\" class=\"dataframe\">\n",
       "  <thead>\n",
       "    <tr style=\"text-align: right;\">\n",
       "      <th></th>\n",
       "      <th>most_common</th>\n",
       "      <th>oov</th>\n",
       "      <th>purity</th>\n",
       "      <th>words</th>\n",
       "      <th>depth</th>\n",
       "      <th>cross_seg</th>\n",
       "      <th>cross_file</th>\n",
       "    </tr>\n",
       "  </thead>\n",
       "  <tbody>\n",
       "    <tr>\n",
       "      <th>205</th>\n",
       "      <td>así</td>\n",
       "      <td>False</td>\n",
       "      <td>0.035620</td>\n",
       "      <td>[llamó, miguel, temprano, entonces, contenta, ...</td>\n",
       "      <td>2274</td>\n",
       "      <td>True</td>\n",
       "      <td>True</td>\n",
       "    </tr>\n",
       "    <tr>\n",
       "      <th>2041</th>\n",
       "      <td>cualquier</td>\n",
       "      <td>False</td>\n",
       "      <td>0.048387</td>\n",
       "      <td>[principios, difícil, ataque, ataque, tarjetas...</td>\n",
       "      <td>62</td>\n",
       "      <td>True</td>\n",
       "      <td>True</td>\n",
       "    </tr>\n",
       "    <tr>\n",
       "      <th>470</th>\n",
       "      <td>tanta</td>\n",
       "      <td>False</td>\n",
       "      <td>0.054545</td>\n",
       "      <td>[totalmente, trucho, cuestan, disparate, toman...</td>\n",
       "      <td>55</td>\n",
       "      <td>False</td>\n",
       "      <td>False</td>\n",
       "    </tr>\n",
       "    <tr>\n",
       "      <th>3678</th>\n",
       "      <td>cómo</td>\n",
       "      <td>False</td>\n",
       "      <td>0.090909</td>\n",
       "      <td>[papá, entonces, pones, sabo, cómo, súper, con...</td>\n",
       "      <td>44</td>\n",
       "      <td>True</td>\n",
       "      <td>True</td>\n",
       "    </tr>\n",
       "    <tr>\n",
       "      <th>905</th>\n",
       "      <td>regalitos</td>\n",
       "      <td>False</td>\n",
       "      <td>0.047619</td>\n",
       "      <td>[empezaste, voy, empezar, diciendo, sumamente,...</td>\n",
       "      <td>42</td>\n",
       "      <td>False</td>\n",
       "      <td>False</td>\n",
       "    </tr>\n",
       "  </tbody>\n",
       "</table>\n",
       "</div>"
      ],
      "text/plain": [
       "     most_common    oov    purity  \\\n",
       "205          así  False  0.035620   \n",
       "2041   cualquier  False  0.048387   \n",
       "470        tanta  False  0.054545   \n",
       "3678        cómo  False  0.090909   \n",
       "905    regalitos  False  0.047619   \n",
       "\n",
       "                                                  words  depth cross_seg  \\\n",
       "205   [llamó, miguel, temprano, entonces, contenta, ...   2274      True   \n",
       "2041  [principios, difícil, ataque, ataque, tarjetas...     62      True   \n",
       "470   [totalmente, trucho, cuestan, disparate, toman...     55     False   \n",
       "3678  [papá, entonces, pones, sabo, cómo, súper, con...     44      True   \n",
       "905   [empezaste, voy, empezar, diciendo, sumamente,...     42     False   \n",
       "\n",
       "     cross_file  \n",
       "205        True  \n",
       "2041       True  \n",
       "470       False  \n",
       "3678       True  \n",
       "905       False  "
      ]
     },
     "execution_count": 50,
     "metadata": {},
     "output_type": "execute_result"
    }
   ],
   "source": [
    "(clusters_df[view_cols].sort_values('depth', ascending=False, inplace=False)).head(5)"
   ]
  },
  {
   "cell_type": "code",
   "execution_count": 51,
   "metadata": {
    "collapsed": false
   },
   "outputs": [
    {
     "data": {
      "text/html": [
       "<div>\n",
       "<table border=\"1\" class=\"dataframe\">\n",
       "  <thead>\n",
       "    <tr style=\"text-align: right;\">\n",
       "      <th></th>\n",
       "      <th>most_common</th>\n",
       "      <th>oov</th>\n",
       "      <th>purity</th>\n",
       "      <th>words</th>\n",
       "      <th>depth</th>\n",
       "      <th>cross_seg</th>\n",
       "      <th>cross_file</th>\n",
       "    </tr>\n",
       "  </thead>\n",
       "  <tbody>\n",
       "    <tr>\n",
       "      <th>342</th>\n",
       "      <td>claro</td>\n",
       "      <td>False</td>\n",
       "      <td>1.000000</td>\n",
       "      <td>[claro, claro, claro, claro, claro, claro, cla...</td>\n",
       "      <td>11</td>\n",
       "      <td>True</td>\n",
       "      <td>True</td>\n",
       "    </tr>\n",
       "    <tr>\n",
       "      <th>4167</th>\n",
       "      <td>claro</td>\n",
       "      <td>False</td>\n",
       "      <td>1.000000</td>\n",
       "      <td>[claro, claro, claro, claro, claro, claro, cla...</td>\n",
       "      <td>16</td>\n",
       "      <td>False</td>\n",
       "      <td>False</td>\n",
       "    </tr>\n",
       "    <tr>\n",
       "      <th>4217</th>\n",
       "      <td>&lt;laugh&gt;</td>\n",
       "      <td>False</td>\n",
       "      <td>0.951220</td>\n",
       "      <td>[importante, &lt;laugh&gt;, &lt;laugh&gt;, &lt;laugh&gt;, &lt;laugh...</td>\n",
       "      <td>41</td>\n",
       "      <td>False</td>\n",
       "      <td>False</td>\n",
       "    </tr>\n",
       "    <tr>\n",
       "      <th>8995</th>\n",
       "      <td>okey</td>\n",
       "      <td>False</td>\n",
       "      <td>0.833333</td>\n",
       "      <td>[okey, okey, okey, pueda, okey, okey, okey, ok...</td>\n",
       "      <td>18</td>\n",
       "      <td>False</td>\n",
       "      <td>False</td>\n",
       "    </tr>\n",
       "    <tr>\n",
       "      <th>10368</th>\n",
       "      <td>mmm</td>\n",
       "      <td>False</td>\n",
       "      <td>1.000000</td>\n",
       "      <td>[mmm, mmm, mmm, mmm, mmm, mmm, mmm, mmm, mmm, ...</td>\n",
       "      <td>12</td>\n",
       "      <td>False</td>\n",
       "      <td>False</td>\n",
       "    </tr>\n",
       "    <tr>\n",
       "      <th>12387</th>\n",
       "      <td>entiendes</td>\n",
       "      <td>False</td>\n",
       "      <td>0.740741</td>\n",
       "      <td>[entiendes, entiendes, entiendes, tiempo, enti...</td>\n",
       "      <td>27</td>\n",
       "      <td>True</td>\n",
       "      <td>False</td>\n",
       "    </tr>\n",
       "  </tbody>\n",
       "</table>\n",
       "</div>"
      ],
      "text/plain": [
       "      most_common    oov    purity  \\\n",
       "342         claro  False  1.000000   \n",
       "4167        claro  False  1.000000   \n",
       "4217      <laugh>  False  0.951220   \n",
       "8995         okey  False  0.833333   \n",
       "10368         mmm  False  1.000000   \n",
       "12387   entiendes  False  0.740741   \n",
       "\n",
       "                                                   words  depth cross_seg  \\\n",
       "342    [claro, claro, claro, claro, claro, claro, cla...     11      True   \n",
       "4167   [claro, claro, claro, claro, claro, claro, cla...     16     False   \n",
       "4217   [importante, <laugh>, <laugh>, <laugh>, <laugh...     41     False   \n",
       "8995   [okey, okey, okey, pueda, okey, okey, okey, ok...     18     False   \n",
       "10368  [mmm, mmm, mmm, mmm, mmm, mmm, mmm, mmm, mmm, ...     12     False   \n",
       "12387  [entiendes, entiendes, entiendes, tiempo, enti...     27      True   \n",
       "\n",
       "      cross_file  \n",
       "342         True  \n",
       "4167       False  \n",
       "4217       False  \n",
       "8995       False  \n",
       "10368      False  \n",
       "12387      False  "
      ]
     },
     "execution_count": 51,
     "metadata": {},
     "output_type": "execute_result"
    }
   ],
   "source": [
    "clusters_df[view_cols][(clusters_df.depth >= 10) & (clusters_df.purity >= 0.7)].head(10)"
   ]
  },
  {
   "cell_type": "code",
   "execution_count": 52,
   "metadata": {
    "collapsed": false
   },
   "outputs": [
    {
     "data": {
      "text/html": [
       "\n",
       "                <audio controls=\"controls\" >\n",
       "                    <source src=\"data:audio/x-wav;base64,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\" type=\"audio/x-wav\" />\n",
       "                    Your browser does not support the audio element.\n",
       "                </audio>\n",
       "              "
      ],
      "text/plain": [
       "<IPython.lib.display.Audio object>"
      ]
     },
     "metadata": {},
     "output_type": "display_data"
    },
    {
     "data": {
      "text/plain": [
       "cross_file                                                  True\n",
       "cross_seg                                                   True\n",
       "dev_depth                                                     42\n",
       "fids           [002, 015, 002, 031, 002, 037, 002, 039, 002, ...\n",
       "in_vocab                                                    True\n",
       "is_dev                                                      True\n",
       "is_train                                                    True\n",
       "most_common                                                  así\n",
       "oov                                                        False\n",
       "purity                                                 0.0356201\n",
       "same_seg                                                   False\n",
       "sids           [002.047, 015.004, 002.122, 031.076, 002.084, ...\n",
       "train_depth                                                  448\n",
       "words          [llamó, miguel, temprano, entonces, contenta, ...\n",
       "depth                                                       2274\n",
       "Name: 205, dtype: object"
      ]
     },
     "metadata": {},
     "output_type": "display_data"
    }
   ],
   "source": [
    "display(play_cluster(205))\n",
    "display(clusters_df.ix[205])"
   ]
  },
  {
   "cell_type": "code",
   "execution_count": 53,
   "metadata": {
    "collapsed": true
   },
   "outputs": [],
   "source": [
    "def sid_to_cid_mapping(clusters_stats):\n",
    "    sid_to_cids = {}\n",
    "    for cid, sids in enumerate(clusters_stats['sids']):\n",
    "        for sid in sids:\n",
    "            if sid not in sid_to_cids:\n",
    "                sid_to_cids[sid] = set()\n",
    "            sid_to_cids[sid] |= {cid}\n",
    "    return sid_to_cids\n",
    "            "
   ]
  },
  {
   "cell_type": "code",
   "execution_count": 54,
   "metadata": {
    "collapsed": false
   },
   "outputs": [],
   "source": [
    "sid_to_cids = sid_to_cid_mapping(clusters_stats)"
   ]
  },
  {
   "cell_type": "code",
   "execution_count": 55,
   "metadata": {
    "collapsed": true
   },
   "outputs": [],
   "source": [
    "def get_cids_for_sid(sid, clusters_stats):\n",
    "    sid_cids = [cid for cid, sids in enumerate(clusters_stats[\"sids\"]) if sid in sids]\n",
    "    return sid_cids"
   ]
  },
  {
   "cell_type": "code",
   "execution_count": 56,
   "metadata": {
    "collapsed": false
   },
   "outputs": [],
   "source": [
    "def find_sids_with_common_pwords(clusters_stats, filter_sids, sid_to_cids):\n",
    "    check_sids = list(filter_sids)\n",
    "    sid_overlap = []\n",
    "    for i in range(len(check_sids)):\n",
    "        if i % 1000 == 0:\n",
    "            print(\"at %d out of %d ... \" %(i, len(check_sids)) )\n",
    "        for j in range(i+1, len(check_sids)):\n",
    "            if check_sids[i] in sid_to_cids and check_sids[j] in sid_to_cids:\n",
    "                t1 = sid_to_cids[check_sids[i]]\n",
    "                t2 = sid_to_cids[check_sids[j]]\n",
    "                if len(t1 & t2) > 0:\n",
    "                    sid_overlap.append((check_sids[i], check_sids[j], len(t1 & t2), t1&t2))\n",
    "    return sid_overlap"
   ]
  },
  {
   "cell_type": "code",
   "execution_count": 96,
   "metadata": {
    "collapsed": true
   },
   "outputs": [],
   "source": [
    "def find_cids_with_common_sids(clusters_stats, filter_sids):\n",
    "    cid_overlap = []\n",
    "    for i in range(len(clusters_stats['sids'])):\n",
    "        if i % 1000 == 0:\n",
    "            print(\"at %d out of %d ... \" %(i, len(clusters_stats['sids'])) )\n",
    "        for j in range(i+1, len(clusters_stats['sids'])):\n",
    "            t1 = set(clusters_stats['sids'][i]) & filter_sids\n",
    "            t2 = set(clusters_stats['sids'][j]) & filter_sids\n",
    "            if len(t1 & t2) > 0:\n",
    "                cid_overlap.append((i, j, len(t1 & t2), t1&t2))\n",
    "    return cid_overlap"
   ]
  },
  {
   "cell_type": "code",
   "execution_count": 58,
   "metadata": {
    "collapsed": false
   },
   "outputs": [
    {
     "name": "stdout",
     "output_type": "stream",
     "text": [
      "at 0 out of 5930 ... \n",
      "at 1000 out of 5930 ... \n",
      "at 2000 out of 5930 ... \n",
      "at 3000 out of 5930 ... \n",
      "at 4000 out of 5930 ... \n",
      "at 5000 out of 5930 ... \n"
     ]
    }
   ],
   "source": [
    "sid_overlap = find_sids_with_common_pwords(clusters_stats, train_sids, sid_to_cids)"
   ]
  },
  {
   "cell_type": "code",
   "execution_count": 59,
   "metadata": {
    "collapsed": false
   },
   "outputs": [
    {
     "data": {
      "text/plain": [
       "[('106.026', '106.025', 4, {10528, 10532, 10537, 10538}),\n",
       " ('111.029', '111.015', 4, {205, 4101, 11188, 11189}),\n",
       " ('090.028', '090.031', 4, {8195, 8199, 8201, 8204}),\n",
       " ('083.205', '110.166', 4, {205, 6971, 7102, 10895}),\n",
       " ('114.151', '114.142', 4, {205, 2267, 3837, 11845}),\n",
       " ('105.256', '105.266', 4, {10372, 10381, 10382, 10383}),\n",
       " ('116.012', '116.218', 3, {12031, 12076, 12111}),\n",
       " ('101.083', '101.065', 3, {1244, 9847, 9856}),\n",
       " ('111.144', '111.007', 3, {205, 3082, 5665}),\n",
       " ('111.144', '114.026', 3, {205, 11220, 11825})]"
      ]
     },
     "metadata": {},
     "output_type": "display_data"
    }
   ],
   "source": [
    "display(sorted(sid_overlap, reverse=True, key=lambda t:t[2])[:10])"
   ]
  },
  {
   "cell_type": "code",
   "execution_count": 60,
   "metadata": {
    "collapsed": true
   },
   "outputs": [
    {
     "name": "stdout",
     "output_type": "stream",
     "text": [
      "at 0 out of 15089 ... \n",
      "at 200 out of 15089 ... \n",
      "at 400 out of 15089 ... \n",
      "at 600 out of 15089 ... \n",
      "at 800 out of 15089 ... \n",
      "at 1000 out of 15089 ... \n",
      "at 1200 out of 15089 ... \n",
      "at 1400 out of 15089 ... \n",
      "at 1600 out of 15089 ... \n",
      "at 1800 out of 15089 ... \n",
      "at 2000 out of 15089 ... \n",
      "at 2200 out of 15089 ... \n",
      "at 2400 out of 15089 ... \n",
      "at 2600 out of 15089 ... \n",
      "at 2800 out of 15089 ... \n",
      "at 3000 out of 15089 ... \n",
      "at 3200 out of 15089 ... \n",
      "at 3400 out of 15089 ... \n",
      "at 3600 out of 15089 ... \n",
      "at 3800 out of 15089 ... \n",
      "at 4000 out of 15089 ... \n",
      "at 4200 out of 15089 ... \n",
      "at 4400 out of 15089 ... \n",
      "at 4600 out of 15089 ... \n",
      "at 4800 out of 15089 ... \n",
      "at 5000 out of 15089 ... \n",
      "at 5200 out of 15089 ... \n",
      "at 5400 out of 15089 ... \n",
      "at 5600 out of 15089 ... \n",
      "at 5800 out of 15089 ... \n",
      "at 6000 out of 15089 ... \n",
      "at 6200 out of 15089 ... \n",
      "at 6400 out of 15089 ... \n",
      "at 6600 out of 15089 ... \n",
      "at 6800 out of 15089 ... \n",
      "at 7000 out of 15089 ... \n",
      "at 7200 out of 15089 ... \n",
      "at 7400 out of 15089 ... \n",
      "at 7600 out of 15089 ... \n",
      "at 7800 out of 15089 ... \n",
      "at 8000 out of 15089 ... \n",
      "at 8200 out of 15089 ... \n",
      "at 8400 out of 15089 ... \n",
      "at 8600 out of 15089 ... \n",
      "at 8800 out of 15089 ... \n",
      "at 9000 out of 15089 ... \n",
      "at 9200 out of 15089 ... \n",
      "at 9400 out of 15089 ... \n",
      "at 9600 out of 15089 ... \n",
      "at 9800 out of 15089 ... \n",
      "at 10000 out of 15089 ... \n",
      "at 10200 out of 15089 ... \n",
      "at 10400 out of 15089 ... \n",
      "at 10600 out of 15089 ... \n",
      "at 10800 out of 15089 ... \n",
      "at 11000 out of 15089 ... \n",
      "at 11200 out of 15089 ... \n",
      "at 11400 out of 15089 ... \n",
      "at 11600 out of 15089 ... \n",
      "at 11800 out of 15089 ... \n",
      "at 12000 out of 15089 ... \n",
      "at 12200 out of 15089 ... \n",
      "at 12400 out of 15089 ... \n",
      "at 12600 out of 15089 ... \n",
      "at 12800 out of 15089 ... \n",
      "at 13000 out of 15089 ... \n",
      "at 13200 out of 15089 ... \n",
      "at 13400 out of 15089 ... \n",
      "at 13600 out of 15089 ... \n",
      "at 13800 out of 15089 ... \n",
      "at 14000 out of 15089 ... \n",
      "at 14200 out of 15089 ... \n",
      "at 14400 out of 15089 ... \n",
      "at 14600 out of 15089 ... \n",
      "at 14800 out of 15089 ... \n",
      "at 15000 out of 15089 ... \n"
     ]
    }
   ],
   "source": [
    "cid_overlap = find_cids_with_common_sids(clusters_stats, train_sids)"
   ]
  },
  {
   "cell_type": "code",
   "execution_count": 139,
   "metadata": {
    "collapsed": true
   },
   "outputs": [],
   "source": [
    "purity_cid_overlap = [cid for cid in cid_overlap if \\\n",
    "                      clusters_stats['purity'][cid[0]] >= 0.5 or \\\n",
    "                      clusters_stats['purity'][cid[1]] >= 0.5]"
   ]
  },
  {
   "cell_type": "code",
   "execution_count": 141,
   "metadata": {
    "collapsed": false
   },
   "outputs": [
    {
     "data": {
      "text/plain": [
       "[(205, 12649, 2, {'120.139', '120.179'}),\n",
       " (257, 7961, 2, {'088.032', '088.179'}),\n",
       " (275, 4077, 2, {'091.107', '100.129'}),\n",
       " (275, 8283, 2, {'091.044', '091.107'}),\n",
       " (275, 11800, 2, {'091.044', '114.134'}),\n",
       " (413, 11851, 2, {'114.007', '114.013'}),\n",
       " (470, 1000, 2, {'111.007', '111.104'}),\n",
       " (470, 3082, 2, {'111.007', '112.012'}),\n",
       " (470, 9687, 2, {'100.003', '100.109'}),\n",
       " (759, 8545, 2, {'092.047', '092.094'}),\n",
       " (773, 9705, 2, {'100.039', '100.051'}),\n",
       " (786, 9937, 2, {'103.054', '103.068'}),\n",
       " (786, 10028, 2, {'103.054', '103.068'}),\n",
       " (1216, 7231, 2, {'084.158', '084.160'}),\n",
       " (1244, 9847, 2, {'101.065', '101.083'}),\n",
       " (1244, 9856, 2, {'101.065', '101.083'}),\n",
       " (1265, 8144, 2, {'090.028', '116.075'}),\n",
       " (1265, 12080, 2, {'116.075', '116.102'}),\n",
       " (1266, 12165, 2, {'117.042', '117.044'}),\n",
       " (1359, 7648, 2, {'087.026', '087.217'}),\n",
       " (1434, 7386, 2, {'085.073', '085.118'}),\n",
       " (1447, 8369, 2, {'091.200', '091.202'}),\n",
       " (1627, 11542, 2, {'104.016', '114.123'}),\n",
       " (1739, 7098, 2, {'083.137', '110.009'}),\n",
       " (1795, 11877, 2, {'114.013', '114.043'}),\n",
       " (1864, 8819, 2, {'095.003', '103.102'}),\n",
       " (1893, 10080, 2, {'103.153', '117.174'}),\n",
       " (1937, 3921, 2, {'111.029', '114.013'}),\n",
       " (1942, 8457, 2, {'091.202', '116.075'}),\n",
       " (2267, 3682, 2, {'114.134', '114.142'}),\n",
       " (2267, 3837, 2, {'114.142', '114.151'}),\n",
       " (2267, 6069, 2, {'114.107', '114.142'}),\n",
       " (2267, 10200, 2, {'114.107', '114.134'}),\n",
       " (2267, 11427, 2, {'114.107', '114.140'}),\n",
       " (2267, 11845, 2, {'114.142', '114.151'}),\n",
       " (2267, 11862, 2, {'114.122', '114.140'}),\n",
       " (2885, 4094, 2, {'110.160', '111.032'}),\n",
       " (3073, 11182, 2, {'111.017', '111.025'}),\n",
       " (3082, 5665, 2, {'111.007', '111.144'}),\n",
       " (3247, 12593, 2, {'104.008', '120.122'}),\n",
       " (3461, 7620, 2, {'087.199', '087.217'}),\n",
       " (3504, 10278, 2, {'104.008', '114.016'}),\n",
       " (3650, 7587, 2, {'087.026', '087.041'}),\n",
       " (3678, 7977, 2, {'088.219', '091.222'}),\n",
       " (3678, 9650, 2, {'100.129', '114.035'}),\n",
       " (3678, 11695, 2, {'083.109', '114.022'}),\n",
       " (3837, 11845, 2, {'114.142', '114.151'}),\n",
       " (3921, 4803, 2, {'111.061', '114.013'}),\n",
       " (4100, 7877, 2, {'088.241', '111.017'}),\n",
       " (4101, 11188, 2, {'111.015', '111.029'}),\n",
       " (4101, 11189, 2, {'111.015', '111.029'}),\n",
       " (4935, 11819, 2, {'108.230', '114.016'}),\n",
       " (5044, 8541, 2, {'092.121', '092.130'}),\n",
       " (5649, 6056, 2, {'088.179', '103.069'}),\n",
       " (5898, 11174, 2, {'111.102', '111.104'}),\n",
       " (6195, 7056, 2, {'083.165', '083.184'}),\n",
       " (6235, 7224, 2, {'084.142', '084.143'}),\n",
       " (6235, 7232, 2, {'084.142', '084.143'}),\n",
       " (6454, 9908, 2, {'101.082', '111.009'}),\n",
       " (6479, 11864, 2, {'114.005', '114.020'}),\n",
       " (6669, 6692, 2, {'081.150', '081.236'}),\n",
       " (6693, 6694, 2, {'081.164', '081.244'}),\n",
       " (6701, 7214, 2, {'081.160', '084.019'}),\n",
       " (6739, 6850, 2, {'082.184', '082.199'}),\n",
       " (6783, 6901, 2, {'082.043', '114.097'}),\n",
       " (6971, 7102, 2, {'083.205', '110.166'}),\n",
       " (6971, 10895, 2, {'083.205', '110.166'}),\n",
       " (7033, 7039, 2, {'083.153', '083.155'}),\n",
       " (7036, 7040, 2, {'083.081', '083.084'}),\n",
       " (7044, 7045, 2, {'083.019', '083.021'}),\n",
       " (7054, 7055, 2, {'083.058', '083.071'}),\n",
       " (7073, 7364, 2, {'083.007', '085.116'}),\n",
       " (7100, 10897, 2, {'083.184', '110.110'}),\n",
       " (7102, 10895, 2, {'083.205', '110.166'}),\n",
       " (7224, 7232, 2, {'084.142', '084.143'}),\n",
       " (7302, 9522, 2, {'084.143', '096.124'}),\n",
       " (7323, 11527, 2, {'084.187', '113.136'}),\n",
       " (7347, 12233, 2, {'084.110', '118.100'}),\n",
       " (7382, 7383, 2, {'085.094', '085.096'}),\n",
       " (7383, 7386, 2, {'085.094', '085.118'}),\n",
       " (7383, 7390, 2, {'085.107', '085.118'}),\n",
       " (7384, 7385, 2, {'085.107', '085.109'}),\n",
       " (7386, 7396, 2, {'085.073', '085.116'}),\n",
       " (7442, 7446, 2, {'086.008', '086.018'}),\n",
       " (7442, 7453, 2, {'086.008', '086.018'}),\n",
       " (7446, 7453, 2, {'086.008', '086.018'}),\n",
       " (7447, 7449, 2, {'086.144', '086.154'}),\n",
       " (7608, 7610, 2, {'087.041', '087.046'}),\n",
       " (7608, 7611, 2, {'087.041', '087.046'}),\n",
       " (7608, 7640, 2, {'087.046', '087.180'}),\n",
       " (7609, 7624, 2, {'087.074', '087.109'}),\n",
       " (7610, 7611, 2, {'087.041', '087.046'}),\n",
       " (7617, 7618, 2, {'087.173', '087.184'}),\n",
       " (7628, 7629, 2, {'087.120', '087.148'}),\n",
       " (7636, 7637, 2, {'087.173', '087.222'}),\n",
       " (7644, 7645, 2, {'087.046', '087.217'}),\n",
       " (7673, 10037, 2, {'103.001', '103.033'}),\n",
       " (7700, 11349, 2, {'087.068', '112.093'}),\n",
       " (7743, 7958, 2, {'088.061', '088.176'}),\n",
       " (7837, 7966, 2, {'088.048', '088.241'}),\n",
       " (7924, 7928, 2, {'088.168', '088.172'}),\n",
       " (7925, 7927, 2, {'088.001', '088.005'}),\n",
       " (7932, 7933, 2, {'088.077', '088.081'}),\n",
       " (7932, 7934, 2, {'088.077', '088.081'}),\n",
       " (7933, 7934, 2, {'088.077', '088.081'}),\n",
       " (7997, 7998, 2, {'088.077', '104.036'}),\n",
       " (8040, 11797, 2, {'088.005', '114.128'}),\n",
       " (8042, 11966, 2, {'088.072', '115.051'}),\n",
       " (8045, 12236, 2, {'088.099', '118.036'}),\n",
       " (8090, 8092, 2, {'089.051', '089.053'}),\n",
       " (8090, 8095, 2, {'089.051', '089.189'}),\n",
       " (8090, 8116, 2, {'089.053', '089.189'}),\n",
       " (8195, 8199, 2, {'090.028', '090.031'}),\n",
       " (8195, 8201, 2, {'090.028', '090.031'}),\n",
       " (8195, 8204, 2, {'090.028', '090.031'}),\n",
       " (8199, 8201, 2, {'090.028', '090.031'}),\n",
       " (8199, 8204, 2, {'090.028', '090.031'}),\n",
       " (8201, 8204, 2, {'090.028', '090.031'}),\n",
       " (8363, 8410, 2, {'091.194', '091.196'}),\n",
       " (8391, 8392, 2, {'091.046', '091.087'}),\n",
       " (8400, 8401, 2, {'091.167', '091.213'}),\n",
       " (8406, 8408, 2, {'091.053', '091.132'}),\n",
       " (8454, 8455, 2, {'091.086', '114.022'}),\n",
       " (8529, 8537, 2, {'092.023', '092.025'}),\n",
       " (8529, 8549, 2, {'092.023', '092.094'}),\n",
       " (8540, 8566, 2, {'092.144', '119.031'}),\n",
       " (8562, 11535, 2, {'092.130', '113.115'}),\n",
       " (8601, 9929, 2, {'093.121', '103.102'}),\n",
       " (8714, 12242, 2, {'094.068', '118.177'}),\n",
       " (8782, 8787, 2, {'095.147', '095.149'}),\n",
       " (8782, 8789, 2, {'095.145', '095.149'}),\n",
       " (8792, 8794, 2, {'095.147', '095.155'}),\n",
       " (8793, 8795, 2, {'095.149', '095.157'}),\n",
       " (8796, 8798, 2, {'095.157', '095.163'}),\n",
       " (8803, 8804, 2, {'095.145', '095.157'}),\n",
       " (8806, 8807, 2, {'095.132', '095.145'}),\n",
       " (8830, 10677, 2, {'108.133', '108.136'}),\n",
       " (9532, 9533, 2, {'096.002', '096.022'}),\n",
       " (9532, 9534, 2, {'096.002', '096.022'}),\n",
       " (9533, 9534, 2, {'096.002', '096.022'}),\n",
       " (9571, 9572, 2, {'097.178', '097.180'}),\n",
       " (9583, 9585, 2, {'097.004', '097.055'}),\n",
       " (9632, 9698, 2, {'100.068', '100.073'}),\n",
       " (9719, 10208, 2, {'100.081', '104.111'}),\n",
       " (9840, 9841, 2, {'101.041', '101.043'}),\n",
       " (9840, 9842, 2, {'101.035', '101.041'}),\n",
       " (9840, 9889, 2, {'101.043', '101.109'}),\n",
       " (9840, 9892, 2, {'101.041', '101.109'}),\n",
       " (9845, 9873, 2, {'101.092', '101.127'}),\n",
       " (9846, 9889, 2, {'101.043', '101.109'}),\n",
       " (9847, 9856, 2, {'101.065', '101.083'}),\n",
       " (9848, 9849, 2, {'101.025', '101.035'}),\n",
       " (9851, 9852, 2, {'101.025', '101.038'}),\n",
       " (9851, 9854, 2, {'101.025', '101.038'}),\n",
       " (9852, 9854, 2, {'101.025', '101.038'}),\n",
       " (9859, 9861, 2, {'101.029', '101.043'}),\n",
       " (9863, 9865, 2, {'101.025', '101.043'}),\n",
       " (9863, 9866, 2, {'101.025', '101.043'}),\n",
       " (9865, 9866, 2, {'101.025', '101.043'}),\n",
       " (9871, 9873, 2, {'101.060', '101.092'}),\n",
       " (9878, 9879, 2, {'101.091', '101.131'}),\n",
       " (9894, 9895, 2, {'101.029', '101.118'}),\n",
       " (9902, 10630, 2, {'105.114', '107.048'}),\n",
       " (9937, 10028, 2, {'103.054', '103.068'}),\n",
       " (10015, 10016, 2, {'103.033', '103.035'}),\n",
       " (10015, 10019, 2, {'103.033', '103.035'}),\n",
       " (10016, 10019, 2, {'103.033', '103.035'}),\n",
       " (10020, 10021, 2, {'103.048', '103.054'}),\n",
       " (10020, 10022, 2, {'103.048', '103.054'}),\n",
       " (10021, 10022, 2, {'103.048', '103.054'}),\n",
       " (10025, 10026, 2, {'103.088', '103.102'}),\n",
       " (10025, 10042, 2, {'103.102', '103.145'}),\n",
       " (10142, 10251, 2, {'104.036', '104.140'}),\n",
       " (10200, 11802, 2, {'091.005', '114.043'}),\n",
       " (10200, 11883, 2, {'114.043', '114.107'}),\n",
       " (10200, 11887, 2, {'114.033', '114.107'}),\n",
       " (10200, 11891, 2, {'114.107', '114.183'}),\n",
       " (10221, 10224, 2, {'104.016', '104.024'}),\n",
       " (10221, 10229, 2, {'104.016', '104.024'}),\n",
       " (10222, 10224, 2, {'104.024', '104.026'})]"
      ]
     },
     "metadata": {},
     "output_type": "display_data"
    }
   ],
   "source": [
    "display(sorted(cid_overlap, reverse=True, key=lambda t:t[2])[270:450])"
   ]
  },
  {
   "cell_type": "code",
   "execution_count": 63,
   "metadata": {
    "collapsed": false
   },
   "outputs": [
    {
     "data": {
      "text/html": [
       "<div>\n",
       "<table border=\"1\" class=\"dataframe\">\n",
       "  <thead>\n",
       "    <tr style=\"text-align: right;\">\n",
       "      <th></th>\n",
       "      <th>most_common</th>\n",
       "      <th>oov</th>\n",
       "      <th>purity</th>\n",
       "      <th>words</th>\n",
       "      <th>depth</th>\n",
       "      <th>cross_seg</th>\n",
       "      <th>cross_file</th>\n",
       "    </tr>\n",
       "  </thead>\n",
       "  <tbody>\n",
       "    <tr>\n",
       "      <th>275</th>\n",
       "      <td>trabajo</td>\n",
       "      <td>False</td>\n",
       "      <td>0.176471</td>\n",
       "      <td>[siete, días, haití, cómo, gracias, besote, tr...</td>\n",
       "      <td>17</td>\n",
       "      <td>False</td>\n",
       "      <td>False</td>\n",
       "    </tr>\n",
       "    <tr>\n",
       "      <th>8283</th>\n",
       "      <td>trabajo</td>\n",
       "      <td>False</td>\n",
       "      <td>0.666667</td>\n",
       "      <td>[trabajo, mejor, trabajo, trabajo, trabajo, papá]</td>\n",
       "      <td>6</td>\n",
       "      <td>False</td>\n",
       "      <td>False</td>\n",
       "    </tr>\n",
       "    <tr>\n",
       "      <th>11800</th>\n",
       "      <td>tal</td>\n",
       "      <td>False</td>\n",
       "      <td>0.333333</td>\n",
       "      <td>[tal, vas, trabajo]</td>\n",
       "      <td>3</td>\n",
       "      <td>False</td>\n",
       "      <td>False</td>\n",
       "    </tr>\n",
       "  </tbody>\n",
       "</table>\n",
       "</div>"
      ],
      "text/plain": [
       "      most_common    oov    purity  \\\n",
       "275       trabajo  False  0.176471   \n",
       "8283      trabajo  False  0.666667   \n",
       "11800         tal  False  0.333333   \n",
       "\n",
       "                                                   words  depth cross_seg  \\\n",
       "275    [siete, días, haití, cómo, gracias, besote, tr...     17     False   \n",
       "8283   [trabajo, mejor, trabajo, trabajo, trabajo, papá]      6     False   \n",
       "11800                                [tal, vas, trabajo]      3     False   \n",
       "\n",
       "      cross_file  \n",
       "275        False  \n",
       "8283       False  \n",
       "11800      False  "
      ]
     },
     "metadata": {},
     "output_type": "display_data"
    },
    {
     "data": {
      "text/html": [
       "<div>\n",
       "<table border=\"1\" class=\"dataframe\">\n",
       "  <thead>\n",
       "    <tr style=\"text-align: right;\">\n",
       "      <th></th>\n",
       "      <th>most_common</th>\n",
       "      <th>oov</th>\n",
       "      <th>purity</th>\n",
       "      <th>words</th>\n",
       "      <th>depth</th>\n",
       "      <th>cross_seg</th>\n",
       "      <th>cross_file</th>\n",
       "    </tr>\n",
       "  </thead>\n",
       "  <tbody>\n",
       "    <tr>\n",
       "      <th>205</th>\n",
       "      <td>así</td>\n",
       "      <td>False</td>\n",
       "      <td>0.035620</td>\n",
       "      <td>[llamó, miguel, temprano, entonces, contenta, ...</td>\n",
       "      <td>2274</td>\n",
       "      <td>True</td>\n",
       "      <td>True</td>\n",
       "    </tr>\n",
       "    <tr>\n",
       "      <th>6971</th>\n",
       "      <td>pañal</td>\n",
       "      <td>False</td>\n",
       "      <td>0.200000</td>\n",
       "      <td>[tocaya, fabiola, interesante, cambié, pañal]</td>\n",
       "      <td>5</td>\n",
       "      <td>False</td>\n",
       "      <td>False</td>\n",
       "    </tr>\n",
       "    <tr>\n",
       "      <th>7102</th>\n",
       "      <td>pañal</td>\n",
       "      <td>False</td>\n",
       "      <td>0.333333</td>\n",
       "      <td>[fabiola, cambié, pañal]</td>\n",
       "      <td>3</td>\n",
       "      <td>False</td>\n",
       "      <td>False</td>\n",
       "    </tr>\n",
       "    <tr>\n",
       "      <th>10895</th>\n",
       "      <td>pañal</td>\n",
       "      <td>False</td>\n",
       "      <td>0.333333</td>\n",
       "      <td>[cambié, pañal, fabiola]</td>\n",
       "      <td>3</td>\n",
       "      <td>False</td>\n",
       "      <td>False</td>\n",
       "    </tr>\n",
       "  </tbody>\n",
       "</table>\n",
       "</div>"
      ],
      "text/plain": [
       "      most_common    oov    purity  \\\n",
       "205           así  False  0.035620   \n",
       "6971        pañal  False  0.200000   \n",
       "7102        pañal  False  0.333333   \n",
       "10895       pañal  False  0.333333   \n",
       "\n",
       "                                                   words  depth cross_seg  \\\n",
       "205    [llamó, miguel, temprano, entonces, contenta, ...   2274      True   \n",
       "6971       [tocaya, fabiola, interesante, cambié, pañal]      5     False   \n",
       "7102                            [fabiola, cambié, pañal]      3     False   \n",
       "10895                           [cambié, pañal, fabiola]      3     False   \n",
       "\n",
       "      cross_file  \n",
       "205         True  \n",
       "6971       False  \n",
       "7102       False  \n",
       "10895      False  "
      ]
     },
     "metadata": {},
     "output_type": "display_data"
    }
   ],
   "source": [
    "display(clusters_df[view_cols].ix[[275, 8283, 11800]])\n",
    "display(clusters_df[view_cols].ix[[205, 6971, 7102, 10895]])"
   ]
  },
  {
   "cell_type": "code",
   "execution_count": 64,
   "metadata": {
    "collapsed": false
   },
   "outputs": [
    {
     "data": {
      "text/html": [
       "<div>\n",
       "<table border=\"1\" class=\"dataframe\">\n",
       "  <thead>\n",
       "    <tr style=\"text-align: right;\">\n",
       "      <th></th>\n",
       "      <th>cross_file</th>\n",
       "      <th>cross_seg</th>\n",
       "      <th>dev_depth</th>\n",
       "      <th>fids</th>\n",
       "      <th>in_vocab</th>\n",
       "      <th>is_dev</th>\n",
       "      <th>is_train</th>\n",
       "      <th>most_common</th>\n",
       "      <th>oov</th>\n",
       "      <th>purity</th>\n",
       "      <th>same_seg</th>\n",
       "      <th>sids</th>\n",
       "      <th>train_depth</th>\n",
       "      <th>words</th>\n",
       "      <th>depth</th>\n",
       "    </tr>\n",
       "  </thead>\n",
       "  <tbody>\n",
       "    <tr>\n",
       "      <th>10528</th>\n",
       "      <td>False</td>\n",
       "      <td>False</td>\n",
       "      <td>0</td>\n",
       "      <td>[106, 106]</td>\n",
       "      <td>False</td>\n",
       "      <td>False</td>\n",
       "      <td>True</td>\n",
       "      <td>alemán</td>\n",
       "      <td>False</td>\n",
       "      <td>1.000000</td>\n",
       "      <td>False</td>\n",
       "      <td>[106.025, 106.026]</td>\n",
       "      <td>2</td>\n",
       "      <td>[alemán, alemán]</td>\n",
       "      <td>2</td>\n",
       "    </tr>\n",
       "    <tr>\n",
       "      <th>10532</th>\n",
       "      <td>False</td>\n",
       "      <td>False</td>\n",
       "      <td>0</td>\n",
       "      <td>[106, 106]</td>\n",
       "      <td>False</td>\n",
       "      <td>False</td>\n",
       "      <td>True</td>\n",
       "      <td>alemán</td>\n",
       "      <td>False</td>\n",
       "      <td>0.333333</td>\n",
       "      <td>False</td>\n",
       "      <td>[106.025, 106.026]</td>\n",
       "      <td>2</td>\n",
       "      <td>[alemania, alemán, después]</td>\n",
       "      <td>3</td>\n",
       "    </tr>\n",
       "    <tr>\n",
       "      <th>10537</th>\n",
       "      <td>False</td>\n",
       "      <td>False</td>\n",
       "      <td>0</td>\n",
       "      <td>[106, 106]</td>\n",
       "      <td>False</td>\n",
       "      <td>False</td>\n",
       "      <td>True</td>\n",
       "      <td>alemán</td>\n",
       "      <td>False</td>\n",
       "      <td>0.500000</td>\n",
       "      <td>False</td>\n",
       "      <td>[106.025, 106.026]</td>\n",
       "      <td>2</td>\n",
       "      <td>[castellano, alemán, castellano, alemán]</td>\n",
       "      <td>4</td>\n",
       "    </tr>\n",
       "    <tr>\n",
       "      <th>10538</th>\n",
       "      <td>False</td>\n",
       "      <td>False</td>\n",
       "      <td>0</td>\n",
       "      <td>[106, 106]</td>\n",
       "      <td>False</td>\n",
       "      <td>False</td>\n",
       "      <td>True</td>\n",
       "      <td>alemán</td>\n",
       "      <td>False</td>\n",
       "      <td>0.666667</td>\n",
       "      <td>False</td>\n",
       "      <td>[106.025, 106.026]</td>\n",
       "      <td>2</td>\n",
       "      <td>[alemán, castellano, alemán]</td>\n",
       "      <td>3</td>\n",
       "    </tr>\n",
       "  </tbody>\n",
       "</table>\n",
       "</div>"
      ],
      "text/plain": [
       "      cross_file cross_seg  dev_depth        fids in_vocab is_dev is_train  \\\n",
       "10528      False     False          0  [106, 106]    False  False     True   \n",
       "10532      False     False          0  [106, 106]    False  False     True   \n",
       "10537      False     False          0  [106, 106]    False  False     True   \n",
       "10538      False     False          0  [106, 106]    False  False     True   \n",
       "\n",
       "      most_common    oov    purity same_seg                sids  train_depth  \\\n",
       "10528      alemán  False  1.000000    False  [106.025, 106.026]            2   \n",
       "10532      alemán  False  0.333333    False  [106.025, 106.026]            2   \n",
       "10537      alemán  False  0.500000    False  [106.025, 106.026]            2   \n",
       "10538      alemán  False  0.666667    False  [106.025, 106.026]            2   \n",
       "\n",
       "                                          words  depth  \n",
       "10528                          [alemán, alemán]      2  \n",
       "10532               [alemania, alemán, después]      3  \n",
       "10537  [castellano, alemán, castellano, alemán]      4  \n",
       "10538              [alemán, castellano, alemán]      3  "
      ]
     },
     "execution_count": 64,
     "metadata": {},
     "output_type": "execute_result"
    }
   ],
   "source": [
    "clusters_df.ix[[10528, 10532, 10537, 10538]]"
   ]
  },
  {
   "cell_type": "code",
   "execution_count": 126,
   "metadata": {
    "collapsed": false
   },
   "outputs": [
    {
     "data": {
      "text/plain": [
       "cross_file                                         True\n",
       "cross_seg                                          True\n",
       "dev_depth                                             1\n",
       "fids                               [061, 100, 088, 091]\n",
       "in_vocab                                           True\n",
       "is_dev                                             True\n",
       "is_train                                           True\n",
       "most_common                                       forma\n",
       "oov                                               False\n",
       "purity                                         0.166667\n",
       "same_seg                                          False\n",
       "sids               [061.142, 100.129, 088.027, 091.107]\n",
       "train_depth                                           2\n",
       "words          [fin, semana, forma, temporal, sale, co]\n",
       "depth                                                 6\n",
       "Name: 4077, dtype: object"
      ]
     },
     "execution_count": 126,
     "metadata": {},
     "output_type": "execute_result"
    }
   ],
   "source": [
    "clusters_df.ix[4077]"
   ]
  },
  {
   "cell_type": "code",
   "execution_count": 129,
   "metadata": {
    "collapsed": false
   },
   "outputs": [
    {
     "data": {
      "text/plain": [
       "[(10679,\n",
       "  Node(file='061', seg='061.142', start=429, end=480, es=('FIN', 'DE', 'SEMANA'), es_cnt=('FIN', 'SEMANA'))),\n",
       " (10680,\n",
       "  Node(file='100', seg='100.129', start=10, end=62, es=('S\\xc3\\xad', 'YO', 'ESTOY', 'CON'), es_cnt=())),\n",
       " (23911,\n",
       "  Node(file='088', seg='088.027', start=186, end=239, es=('FORMA', 'TEMPORAL'), es_cnt=('FORMA', 'TEMPORAL'))),\n",
       " (25197,\n",
       "  Node(file='091', seg='091.107', start=138, end=194, es=('SALE', 'ESTA', 'CO'), es_cnt=('SALE', 'CO')))]"
      ]
     },
     "execution_count": 129,
     "metadata": {},
     "output_type": "execute_result"
    }
   ],
   "source": [
    "map(lambda t: (t, nodes_dict[t]), clusters[4077])"
   ]
  },
  {
   "cell_type": "code",
   "execution_count": 121,
   "metadata": {
    "collapsed": false
   },
   "outputs": [
    {
     "data": {
      "text/plain": [
       "u'tal'"
      ]
     },
     "execution_count": 121,
     "metadata": {},
     "output_type": "execute_result"
    }
   ],
   "source": [
    "clusters_stats['most_common'][11800]"
   ]
  },
  {
   "cell_type": "code",
   "execution_count": 128,
   "metadata": {
    "collapsed": false
   },
   "outputs": [
    {
     "data": {
      "text/plain": [
       "(['205',\n",
       "  '205',\n",
       "  '275',\n",
       "  '2430',\n",
       "  '4077',\n",
       "  '5635',\n",
       "  '7082',\n",
       "  '8283',\n",
       "  '8343',\n",
       "  '8405',\n",
       "  '8465',\n",
       "  '11803',\n",
       "  '13969'],\n",
       " ['205', '275', '781', '3678', '4077', '5640', '8033', '9640', '9650', '9730'])"
      ]
     },
     "execution_count": 128,
     "metadata": {},
     "output_type": "execute_result"
    }
   ],
   "source": [
    "feats_dict['091.107'], feats_dict['100.129']"
   ]
  },
  {
   "cell_type": "code",
   "execution_count": 116,
   "metadata": {
    "collapsed": false
   },
   "outputs": [
    {
     "data": {
      "text/plain": [
       "(Node(file='091', seg='091.044', start=122, end=177, es=('DEL', 'TRABAJO', 'MI'), es_cnt=('TRABAJO',)),\n",
       " Node(file='091', seg='091.107', start=235, end=291, es=('ESTE', 'TRABAJO', 'Y', 'SE'), es_cnt=('TRABAJO',)),\n",
       " Node(file='114', seg='114.134', start=241, end=298, es=('QU\\xc3\\xa9', 'TAL', 'VAS', 'CON', 'LA'), es_cnt=('TAL', 'VAS')),\n",
       " Node(file='091', seg='091.041', start=493, end=552, es=('TRABAJO', 'EN', 'TRABAJO'), es_cnt=('TRABAJO', 'TRABAJO')))"
      ]
     },
     "execution_count": 116,
     "metadata": {},
     "output_type": "execute_result"
    }
   ],
   "source": [
    "nodes_dict[38714], nodes_dict[24855], nodes_dict[38713], nodes_dict[25249]"
   ]
  },
  {
   "cell_type": "code",
   "execution_count": 117,
   "metadata": {
    "collapsed": false
   },
   "outputs": [
    {
     "data": {
      "text/plain": [
       "[38713, 38714]"
      ]
     },
     "metadata": {},
     "output_type": "display_data"
    },
    {
     "data": {
      "text/html": [
       "\n",
       "                <audio controls=\"controls\" >\n",
       "                    <source src=\"data:audio/x-wav;base64,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\" type=\"audio/x-wav\" />\n",
       "                    Your browser does not support the audio element.\n",
       "                </audio>\n",
       "              "
      ],
      "text/plain": [
       "<IPython.lib.display.Audio object>"
      ]
     },
     "metadata": {},
     "output_type": "display_data"
    },
    {
     "name": "stdout",
     "output_type": "stream",
     "text": [
      "ESTE TRABAJO Y SE\n"
     ]
    },
    {
     "data": {
      "text/html": [
       "\n",
       "                <audio controls=\"controls\" >\n",
       "                    <source src=\"data:audio/x-wav;base64,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\" type=\"audio/x-wav\" />\n",
       "                    Your browser does not support the audio element.\n",
       "                </audio>\n",
       "              "
      ],
      "text/plain": [
       "<IPython.lib.display.Audio object>"
      ]
     },
     "metadata": {},
     "output_type": "display_data"
    },
    {
     "name": "stdout",
     "output_type": "stream",
     "text": [
      "QUé TAL VAS CON LA\n"
     ]
    },
    {
     "data": {
      "text/html": [
       "\n",
       "                <audio controls=\"controls\" >\n",
       "                    <source src=\"data:audio/x-wav;base64,UklGRoQiAABXQVZFZm10IBAAAAABAAEAQB8AAIA+AAACABAAZGF0YWAiAACE3yT6PA68CvwT/Bz8GNwGJPwkAWT5xPUU/VwHvAzcBrwN/BK8DTwN/BD8E+T4BOQE6QTjhNuE30T0PAo8C/wT/B38GrwJlP2sAaT6xPKk+xwEPAmcBTwL/BM8DLwLPA/8FNwDBOYE5gTihNmE1wTq3AUcB7wL/B38HDwOJAGcBAAAxPKk+QwDPAjcBbwJ/BU8DzwM/BL8GLwLBOsE5wTrhNmE1wTkZPsMApwF/Bb8GvwP3AScBEwCRPRE9tD/7AEMAtwG/A88DrwK/BH8F/wSRPgE6wTuBOGE2QThRPMM/0wC/BL8GvwTPAycBhwERPfE8qT7ZPzk+2AAPAo8DbwI/A/8FvwTLAIE8ATuBOKE04TbBOpE+JT9PAr8GfwVvA68CRwGZPzE8UT2ZPnE9+T7nAS8C7wIPA38FfwYPA5E8wTwBOuE1YTXBOJE8eT63AP8GPwb/BQ8D7wKXARE9sT15PnE90T4HP+8BzwIvAr8FPwZ/BH0/MTyxPCE34TThN0E7ET0JPu8DvwZ/BT8D7wOPAqk+0T15PlE9sTzxPf0ABwGnAU8DfwX/Be8B0T3RPUE6YTbhNsE5UTyRPYsA/wT/Bb8FPwPvA68B2T7ZPpk+kT2xPZk/AwDHAW8CvwT/Bj8EuQAxPbE8QTkhNuE3QToxPKk+BwH/BL8FfwT/BH8ELwHdP4U/ST75PhE92T8jAJcBLwL/BX8GbwOLP/k+sTyBOSE3wTkBO7E8qT4XAf8EfwR/A/8EfwQ3AaMAYQA1Pzk+cT35PuUAMwCvAn8EfwVPAhk++T6RPIE54TfBObE8UTypPi8B/wP/A+8DfwR/BK8CdwDTANMAuT7RPj0/UwC3AQ8CfwR/BQcB5T9lP3E9gTuBOkE7MT0RPXk+JwEvAw8DTwMPA/8ELwMnAacAxwEsP8k+zT+jAGcA1wFvAm8DZwE5Puk+0T4xPIE7ATuRPdE+ET43P7cBrwJPAg8CrwNvAy8CBwFXAXcA/D/7P7o/wwC7AKcBNwG3APM/mT85Pqk+MT0xPTE92T5ZPkk+/z+rAJMAxwE3AW8B7wH3AVcBZwF3AScA2wCbANMA8wCbALsARQBbP+M/vT9NP10/ZT8JPwk/GT8JPwk/HT9vP6o/1AABAEMAiwCDAJsAkwDnANMA5wDnAPsAswBJAGUAAAATP88//z+NP40/ST85Puk+2T7pPvk++T7JPxk/DT9NP2U/fT9VP4c//D/1ACsAQwCTAIsAswBjAEkAQQBxACEAGAAAAD8/nT+jP40/rT9FP20/GT8JPxk/LT8ZPxk/PT8tP1U/vz+OAAkASQBNAGsAcwBVAG0AAQBjAE0AYQARAHsAXQBtAAYAJD/VP7U/CT8pPuk+uT55Pqk+2T8VP0U/nT+9P00/uz+DP+8/tz+LP88/xz/+P+MAYwCrAKMAkwCJAFc/9z+rP7U/VT9FP00/fT8lPw0/TT99Pz0/HT9tP00/VT99P1U/tz+wP9UAWwCrALsAgwDrALMAWQBVAHUAIQApAAEARQBtABAACAA8P/I/5D/HP+M/vT9FP20/LT8VP10/uD/9ADMAYwCTALMAUQBVAHEADgAeACUAIQAlAA0AcwBzAGsAQQBxAAQACz/vP50/jT+FP6c/vz+XP9QAMQAxABYALj/iP+Y/3z/yP94AJQAtABEAcwBDALsAewB7AGMASQBFAEkAdQAxAA0AcwBDAKMAkwDDAMsAowBRAHUAEAAQAA4AGAAUABIAAQBdAGMAcwBLAIsAowBVAHkAIQAWABwACQB7AFsAswCLAMMA6wCTAIMAowBJAHEAIQASAAgAFAAMABQAHAASAAQAKD/LP/8/rz+/P4c/5D/AAC0AMwB7AGsAcwBrAE0AeQAFAH0AOQAxADUAEQBVAE0AQQBLAKsAhQB5ABwAHz/PP/M/vz+bP+w/3AAxACkAJQAtACUAGAAtAC0AHAAIAAwAMQABAEUAawB7AHMAYwBdAEUAWgA8P+o/6D/mP98/7j/CADA/5D/PP/8/nT+9P0U/rT9dP10/ZT9FP7M/jz/fP+g/4j/PP9s//z+rP7s/hz/yP/Q/wAApABoADAAyP+w/3z/dP4U/hT+1P3U/fT9FP50/vz+HP/s/pz+VP50/lT+VP7c/lz/mP+o/wAAhACEAEAAOAAgAOj/kP+I/3z/DP8M/+z+3P4s/1z/fP8s/6z+nP6c/nT+dP50/nT+nP7M/nT+rP7M/sz+vP50/nT+dP4U/vT9tP20/fT9VP68/sz+/P7s/pz+jP6s/rz+zP50/pz+nP6c/pT9tPzEAJwD7AF0AUQBqP/k++T4FP6EAHT+1Pxk+vT9rAFEAdwDnAWMAtz+nP4M/5z+NP50/RAA7AHkAPQAlAAU/Zz+nANsAswCnAXMAqD/bP8s/3T+zP5U/bz+QAAU/jT+VP5s/xAAjP4s/9z+6P/kAAQBTAOcBBwE7AFEAeQAVP60/JT89P2s/tz+sP8kAWwCRAG0AIwBZAEIAMz+oP8IALz+1Pz0/SQBZAEUAQwDHAQMA+QAtACMAWAAjP5s/yQBJAH0AAQBjAEMAlQB7AGsAkwCNAFEAQwCzAF0AUwC7AKMAkwCrAGMAcwBtAC0AOQAWAAgAHz/qP8YAKj/vP5M/8wBbAIMAowCDAKsASQBOAAUAawBjAEMAowCzAIMAgwCbANMAswB7AG0ACgAqP9U/jT+nP4U/jT+7P6o/1AAbP98/6j/XP8oAMQAxACMAawBNAFkAYwBLAJsAqwCzAKMAowCjAH0ADQBlACUAGAAcADkAHAA+P88/zz/0P/o//D/4P84AGAA2P/I/zgAhACUAIQAtAC0AHAASADI/+D/MABIAJQAGADY/0AAfP8c/9D/0P+Y/1z/DP+Y/6D/bP/Q/1z/rP6s/nT+FP4U/nT+rP6M/vT91P10/jT+NP5U/nT+7P4c//z+vP6s/jz/4P8QAAAAlACkAMj/EADg/1z/TP8s/+z+iP98/zz/HP8c/5z+NP5U/jT+NP4U/tT9NP5U/jT+jP7c/iz/fP/g/9D/4P/w/+D/4P/I/6D/EAAYACgAcAAoADz/3P6s/lT+FP4U/vT99P20/TT91Pw0/bT91P2M/pz+dP6s/jT+jP50/nT+3P5s/7D/oP9s/xz/HP88/xz/iP98/xz/PP/8/nT+VP6c/rz+7P7M/jz/TP/s/vz+3P5s/1z/8P+UAOD/pAAoAND/cADQ/1gAUAAIACAAXP+Q/9D/0P/4/wAAxACsAVQBdAGUAJz+RAHMAowBDAJsAkwCYAA0/hz/HP90/jT99P08/9T9lP3U/bT91P2c/lz/IADkAOQApACMAcwBDAKMAUwCXATsAqwBTAJMAowCeAAkAVwEjALU/WT6RPhE+MT2RPck+/T9lAAMApwD3AXcBBwEXATcBJwEHAScBBwF3AScAxwEHAa8B7wHvAicBST6RPHE8ETyRPHE80z/vAo8DLwLPAu8ChwHFAE0/kAAnANcBEwD3AY8CrwIHAZcBTwIvAu8CFz/xPAE6gTpBOgE60TznAP8D7wOPA08C7wJDAJE+MT35PusAZwDXAQ8CrwMvApcB5wFPAi8CzwK9P0E6ATkBOoE6ATqRPO8CPwV/BA8DbwMvA3EAETyRPbM/twEXAScBbwOvA48CtwFnAU8CbwJvArY/wTohN8E5wTqBOYE8DwK/Bf8EbwNvAm8CFz/BPBE8nT+nAUcBlwGPA68DbwH3APkABwHPAm8CRwEBOyE3wToBOUE5gTubAP8FvwSvAicBbwHlADE8ATwdP2cBRwHHAc8CzwNvAdMAlz/DAO8CTwJvAnE9oTfBOME6QTpBOvU/fwX/BS8CdwDHATsAkT1BO4k+7wIvArcBrwIvAw8CVQBlP0EARwHPAu8CmT7hN+E3QTqBOkE68T2PA/8GLwN3AV0AQwDRPgE60T2nAM8CjwKvAc8C7wJTAJU/tT9bAO8CbwJnAME7YTdBOcE7ATsBO8cBvwa/BM8CHz/DP/0/QTwxPDUALwKPA08CjwIvAlcBvD/5Puw/7wHPAw8C0T0hN0E4wTqBOoE7WT8/BX8FzwNrAF0/cwBRPgE8OT7vAr8D7wNvAk8CrwJHAR8/1z/HAY8DbwNDAIE6ITfBOoE7wTwxPU8CvwZ/BScBjT9tP10/UT0xPSUALwK/BA8C5wFHAccBgwDFP4gALwI/A88DMTyhN0E5gTuxPBE8uz+/BT8GvwPjAIk+jT9JPzE9GT6XAX8EPwSvArcBhwG3ASMAtT9LAI8DPwP1AAE5ITbBOdE8kT2xPY8CPwX/Ba8DGT85Pg0/rT8lPy0ALwH/BL8ErwJLAOcA5wGXAfcBJwGPA08DET2hN2E3wTpxPQk+/z+PAz8FfwUvAlk+uT4ZPq0/OQAxAC8B7wOPA28CSwDYABcBJwGvAc8CTwJHP8E7QTkBOME7MT3NP5cBbwO/BH8DzwIzP4k/LT8bP9kAawCHAe8CbwJHAcMA0wC3AQcB7wIPAu8B8T3BOcE4gToBO9E9xT9HAU8DPwP/A88CBQBNP50/cD/zAIMA9wD3AXcBRwG3AScAxwF3AU8CLwI9ABE8QTnBOYE6kTzxPfk+8wBHAc8CbwIXATY/zT9jP7MAUwDTAPsAeQArAHMAYwBJAHsARwEHAfcBnAARPYE8ATuBO9E9ET4ZPoU/SQBHAVcB5wGbAPUAMwB3AMcBEwCQACM/gz/1AB0AQwCzAIcBFwGXAWkAOT5xPRE8UTyxPVE+OT5ZPtU/fQAnAQcBYwC7AHsAlwEHAVsAyQBvP70/dz+rP7M/pD/tACsApwDDAJU/eT5xPfE9UT2xPfE90T4ZPkk/LQA3APcA0wDHAQcBZwEbAN0AQAAEABgACgAMAD0AAwCjAKsAswBbP+k++T4RPfE9yT55Pnk+eT5JPv0/cQATAJMAswC3AQcBpwFnARMA8wCDAPMAgwCbAIMA5wDXAQcBRwE9ABU/WT6RPhE+OT4xPfE90T4pPqs/owBDAJsApwDHASMAowBdAGsAcwBzAHsAtwDHAUcBZwEnAScBCwDAAA0/WT7JPpk+yT7ZPok+uT6lPz0/bj/1ADMAYwCTALsApwDHAScA4wCzAJMA9wDnAMcBBwF3AWcBpwENAGw//T9NP0U/ST8ZPzU/PT8VP60AIwCrAKMAowCzALsAqwCLAIsAswCLAOcAxwEnAScBJwEXAScAzQBVP6U/GT8lPwU/VT9FP3U/DT9bP8kASQBBAHMAcwCnAOcA5wDbAPMAgwC7AHsAewBzAFMAgwD3ANsA7QAFP7k++T6ZPtk+yT7ZPtk+3T9hACMAuwCDAPcAxwEXARcBNwDbALsAYwCzAJsA9wDnANcBBwFHAR0AfT8JPok+WT5pPok/GT8FP00/rD/jAHMARQBdAHMApwD3APcAwwDzAF0AWQBjAHsAcwB7AGsAkwDFAFk/ET4RPZE9kT4JPlk+iT7JPwU/jAABAFkAYwBTAIMA8wCjAJ0Afj/fP/Y/8QArAEsAiwDHAUcBPz+5PjE80TyRPTE9+T69P0AAOwBXATcBAwD9AC4/7QA7AGMAowCpAAgAHgApAB0AcwBLAOcBFwFBAFE9gTwBO0E70T3JPwQAJwDnAY8CDwIXAVAAHT+XP/sAZwD3APMAgQBBAGMAeQA0P9AAJwD3ARU/gTvBOUE5QTsRPZk/EAAXAU8CbwLPArMAtT8JPnk+4wBnAMcBBwE3ANcBZwG3AXcBJwFvAlcBkT1BOSE3QTkRPK0/IwCvAi8DfwRvA6cA2T5RPXE93z/HAWcBrwHvAi8CrwKHAZsAkwDvAe8DUwDBOeE2QTixPBQAFwGvAf8D/wR/A+sAsTxBO5E9Lz+HAYcB7wJPAs8C7wIKADk+sD/PAn8DxwFBOeE2QTjBPCM/pwDXAb8EvwY/A/s/gTwxPBk+ZwDvAo8C7wN/A+8C2wCpPik+MQAvAq8DjwMxPWE24TfBO8k+lQB3AX8FPwX/BBUAQTvxPBk+0wDPAk8DPwS/BU8DowB5Phk+cwBPAu8DrwOpPsE44TfBOdE8ZD/3AT8EvwZ/BAMA0TyBO/E96j/PAg8DfwP/BS8CwgARPjE96QAPAk8DfwRtAAE5ITbBOPE8fT93AT8EvwZ/BOcBMTxBO3E9Vz/HAe8DfwT/BY8Drz+xPZE9/D/vAk8DvwP5AAE5YTdBOQE7GT63AX8EPwZ/BQcBETzBO/E9Qz/vAe8DfwR/Ba8DDT+xPZE97D/PAk8DvwQjAEE44TXhN0E7LT8TAP8D/wb/BVsAgTwBOtE9Hz/nAY8DfwV/Be8C+T7RPXE9zQBPAm8DfwTnAQE4YTVhNsE6WT63AT8Evwb/BEU/QTsBOjE8VT9nAY8D/wV/BY8CaT4xPNE+EwDvAr8EPwTFP6E34TbhN8E77QAvAn8FPwZvAzk+ATsBOvE9QQBPAj8EPwY/BIcBET4RPPk+VwEvAn8ELwLxPGE2YTXBOPE8yQBPAv8F/wXXAUE8AToBO9k/BwFvAv8E/wXvA5k/MTzRPbI/7wIPAv8D7wHBOuE2YTbBOek+ZwDPA38F/wP7P4E7gTpRPL8/pwGvAz8FPwVPAlk+UT25PvcA7wJPA78EuQABOKE2QThBO44ALwH/BL8GTwNRPgE7ATu5PisAjwK/BH8FfwP7AJE9+T4hAC8B7wN/BI8CgTwhNuE2wToRPfcBvwQ/Bj8FOD/BO8E68TwnP4cB/wP/Br8FLwJJPzE9mT7DAI8CjwOvA7U/QTihN0E4wTvfP+8DPwV/Be8CcT3BO0E72T5XAS8DfwW/Bj8D+QApPnk+WAAPAr8D/wRHAcE7ITbhN8E6UT4nAT8EfwZ/A/0/UTxBO7E9sQAvAn8E/wZ/BQ8COT7pPrkALwIPA38ELwLRPQE4QTkBOlE9dwEvAz8FvwTDALE8wTuxPMU/hwG/BD8F/wUPApc/+T5ZPtsArwJ/A88C2T7BOkE4wTlBOwk+7wK/BL8EzwIpPlE8kTzJPmcAzwO/BX8FbwOXAX0/dT8hACcBbwLvAvsAcTwBOUE5ATqRPZcBLwN/BG8C8D/RPXE8sT1fP88DPwR/BI8DjwJ3ASo/5z+TAM8CzwM3ATE9gTqBOgE5wTs5PicBbwNvAxsA6T6RPVE9GT5nAM8DfwQ/A+8C5wGpAAs/0wCXAYcBwwDNP1E8wTsBOkE6ETyXP/cBrwH7AEU/WT5RPVE91AAvAk8DbwMvAlcBcwCnAPcBJwEbAL8/qz+VP5E+ATwBPBE80T25PpU/mAAbALc/iT7pPp0/pwEXAdcB7wIvAk8CRwGrAEEAUwDHAQUAfT9ZPwk+kT1BPAE8ET15Pnk+UT45PvEAOQAFP7k+3T+HAScBRwFnAXcBrwInAXUAPD/NAGMAgQBVP70/GT75PjE9MTzRPfk+vT81Pz0/JT8pPuk+2T8UACcBFwHPAjcBQwDJAEoABQBzAFMAswCLAOsAdT9ZPnE9uT5VP4s/1T+dP0U/bT95Psk/Jz+zAFcBhwHHAQsAjQB+P9gAIwBTAMcBCwDZAH8/vT9zP4IAOj/LP9U/rT91P10/bT8NP00/lAAbAKMAfQAIACI/wQBBAH4/0gAOAAsAgwDFAE8/2z/WACUAAQBXP90/gz/wP+MAQQBrP70/bz+lACMAQwCDAIkAYwBJAHA/1z/tACsApwDbALkACAAxACMAmwC5ABoAAwCHARsA5QANP4AAAwCjAEUATQBrAFsAmQB0P8M/yAAzAFsAgwCbALMAgwCpADUAMwBjAIsA6wCpADw/0AA1ADMAcQA5ABMA8wCuP+0/ZT9iP9gAHz/IACsAUwC9ABM/xz/HP9AAGQBBAFUAaQA2P+kADQBSAA4AIwBTALMARgAPP/kAIwBFAGUABgAdAFsAsQAPP9c/3QBLAOcA4wBvP48/+QAZAFQAKD/aACsAcwCjAGI/9z+nP6I/8D/AACUAMwBTAKkAEz/kP/w/+QAJAGEAIj/LP/w/xAAvP40/oz+aAB0Afz+1P0U/tT9jP5U/tz+TP+s/lT+FP6c/rz+/P5IAMj/7P48/3z/CAAYAPz+tP2U/TT+XP98/zT+dP3U/bT9VP74/9QAMAAU/nT+fP8YALj/1P28/uQAFAHUABz/GACsAYQAHP/0/NT8jP7c/rD/AABc/7T9tP0s/yAAoP9U/rT9NP7c/nz/4P+4/9D/0P98/1AAVAH0AJj/1Pyk+/T8/P6Q/xT+NP20/Vz/+P8U/uT7ZPsU/Tz/8P9c/3T9tP3A/yQBxAC8/nT9vP5QAEQB0P9U/dT8NP44AAQB6P+U/WT8NP48/5z+lP00/bz+1ADMAeQAPP80/rz+1ACMAowCBAH8/sz+XP/o/6QAxACUAOQA5ABAABAAIAAoAPj/+P9IACAAwP8YADAAIAAQACAApACEACgAlABIAMD/bP9s/2z/PP84AOQAtABYAFz/PP8c/xz/kP98/7D/GACEAMQAcAAQAEgAtACMAUQBaAAYAKQArAGsASAAXP+I/3QBTAOsAkAAdP6M/tQAbAIMA0wCeAAM/5j/dAHsAgwDLAIEARQB7AFsAgwCUADA/zQBrAKcA4wC9ABoAHAANAEMAgwCLAIEAaQA5AAkAYwBBAFQAEAARAHsAowCzAHkAHgA5ACkAAAA+P9gAEQBDAKMAeD/NP70/SgADAJMA8wCJAG4/7z+zP6w/0AABAHMAcwCrAKMAaD/FP68/igAVAF0AaQA4P/o/7QAVAF0AQQBcAAgAEgAJAGMAWQB5ADo/3gADAIMA8wC9AAc/5z+kP/kAIwBrAEUAVAA2P9AAAQBdAFQAPz+VP4M/2AANAF0AbQA3P40/rz+GABEARQBCADc/nT+FP6s/sD/8P+Y/xz/nP6s/qz+7P4c/7z+zP6c/tz+HP/8/rz+FP50/bT9nP4oAFAAbP90/tT9dP5c/6D/fP88/6z+rP5M/3z/7P7c/hz/XP8wAGAAyP9s/xz//P5s/6D/0P+w/zz/rP5U/nT+nP4M/1z/fP98/1z/HP/8/pz+9P0U/tz+bP/I/yz/zP7M/rz+3P4c/7D/4P/A/1z/dP40/rT91P0M/7D/kP+s/tT9lP10/XT91P00/pz+LP/s/pz+NP4U/nT+9P1U/hz/vP68/gz//P4c/xz/3P7s/tD/tACkAFAAYAC4/6z+FP50/pD/4P/o/0gA+P98/5D/CABAAEgAlACkAMQAhADY/3z/HP+Q/1AAKAAgAEgAhAAUAeQAQADA/0z/iP9gAKQApACUAAgAqP98/wAA5AAEAdQA+P88//z+HP+w/8j/yP9AABAAkP+4/7D/TP9s/3z/XP+g/wAA6P8IACQBrAGsAcwBVAHUAMQA1AA0AWQBBAHEADAAQACUAIQAxAAkAUQBZAHUAKQA1ADUAEQBrAHMAewB7AFsAswCjAIMAlQB5AAEASQBFAG0AHAAeACkAAQBJAE0AYwBLAKMAgwDbANMA2wCFAFwAMQAzAFsAswBBAH4/1z//P68/pz+nP4s/+D/aAA0AcwB7AGsAYwBjAFMAqwCDAMMA0wCLAIMAqwBMAB0/uT75PhE+OT4ZPus/gQBbAJsA1wEHAWcBZwFXAScA2wDnAMcBJwFXAacBlwEfP+k+UT0RPHE8kT2pPtoAJwDXAWcBtwGHAdcBhwETAPsAkwDbAMsAxwEnAWcBhwENP3E9QTwBO5E8UT3VP1UAUwDnAXcBhwHXAYcBGQB2P9c/xAAcABIAGQB3AS8B1wENP1E9ATuBO3E8ET2VP0QAMwCnAUcBlwHvAfcBEwCeAA4AKwBxADs/jz/zAHcBlwHUADE9gTuBOzE8MT1pPtYAOQA7AIcBjwIvAmcBowCNAHI/4wBDAIc/zT+HP8cBLwIHAWk+0TyBO0E8MT1pPr8/qD/ZAGcBbwHvAi8BwwDOAB8/3gAbAJs/2T8ZPxYALwHXAUk+0TzBOsE7cTzRPiU/HT+/P7cA1wHvAg8CJwDCABwADQB7AI0AWT8JPwgAFwGvAgEAUT1BO4E70T0pPnU/HT+lABcBrwLPAy8CZwEHP8YAJwDXASMAvT9JPs8/9wGvAmsAkT4xPAE8ET2ZPsk/LT8FP7sAbwHPAs8CZwGTAJ0AdwEnARMAnT9pPlU/dwDPAkcB/T8xPRE80T15Pik+eT4ZPs4ABwHPAq8CJwGHAQsA9wEnAUsAxz/pPtk/KwBXAe8CEwCpPnE9UT1xPck+UT4ZPl0/twEvAk8C7wIXAecBhwHPAlcBkwCTP+U/cD/XAQ8CJwGqP/k+MT3xPdE+ET4xPfk+3QBnAU8CbwIHAdcB1wHvAe8B5wEZAE8/3T+lABcBJwGXAT0/aT5RPhE+ET4xPdE+CT89ABcBBwHvAccB7wHvAe8BxwG3AMUAVT+VP3I/0wDXAWsArT8pPnE90T3RPhE9yT5lPwwABwEHAc8CLwHXAe8B7wHvAccBSwCHP90/tD/zAIcBewCnP6k+0T4RPdE+ET4pPgk/Bz/bALcBRwHvAe8B5wGXAecBpwEzAHc/jT9NP6EAKwCTAOg/2T85PnE90T4xPfE9+T61Pzs/uwBbAMcBBwFHAQcBFwEDAOsAXz/dP20/VT+yP9UAXAAdP7U/OT6ZPnk+eT5pPrk+9T8dP7Y/0AARAEsAkwCrAJsAswBNAFgAPD/8P8AAHAA1AD0AKQAyP9U/vT8pPsk+2T7JPz0/DT9VP3U/dz+0P9wAKQAlADEAOQA9AAkAcQAtADUAAQBdAGMAcQAXP80/jT9lPxk/OT7pPuk++T7tPw0/bT99P0U/nT+DP+g//D/CADg/+j/WAC0AMQApABgAAgAbP+M/vT9FP1k/GT8ZPzU/DT9NP0U/VT9FP7M/lz/sP/g/xgApAAUASQBVAFkAWQBrAHMASQBSAB8/7z+dP68/tz+nP5U/hT+VP50/vz+kP/o/0gA1AA0AWQBjAGMAcwBTAKsAgwDDANMAmQBcACI/7z+FP5U/fT81PwU/XT9VP3U/az+XP8gAMQA5AD0AAQBjAEsAkwCbALMAiwDDAMsAsQAPP+U/dT8FP00/XT91P0U/oz+qP+kAEQBjAGMAcwBLALMAkwDnAOcAxwEnAQcBZwETAOsAfD/zP40/vT9lP0U/lT+7P4YAOQAdAGMAWQB7AFsAswCbAOcA9wDnAScBRwGHAYcBMwBcABU/nT9FP3U/NT8lP30/Zz+yP9AAKQANAFEAcwBLAIMAkwCjAIsAxwEXAUcBVwEjAKEAPz+VP20/LT8ZPzU/HT91P3s/nz/AADkACQBVAHMAcwBzAFMAowCnAOcBFwFnAVcBQwDjAHA/3T9FP0U/bT89Pw0/TT9dP6o/0AAVAGMAVQBzAHsAUwCDANsAxwE3ARcBZwFXARkAcj/1P3k++T7pPtk+6T7ZPvk+/T9zP4c/+D/fP9M/0AASABwAGQBjAGsAhwEHAUcBcwCSAB0/mT8pPqk+iT6pPlk+uT65Pv0/VT+nP5c//z+bP9YADAAhABkAcwB7AJcBFwFHAWsAlAAnP5k/OT65Pok+mT6JPtk+yT8lP0U/rz+mP+I/8j/QAAIAMQAzAFMApwDHAWcBRwFbAPEAKz+5Pvk+WT6JPok+qT6pPok+2T8NP30/fz+3P78/uD/yP9wAHQBrAHsAhwEnAVcBawCEACU/WT7JPrk+WT5ZPnk+eT5pPpk/LT8VP7c/tz+oP8QAGgA5ACMAUwCnAOcBdwGHAZMA0QBHP8k/GT7JPtk+uT5pPqk+qT7\" type=\"audio/x-wav\" />\n",
       "                    Your browser does not support the audio element.\n",
       "                </audio>\n",
       "              "
      ],
      "text/plain": [
       "<IPython.lib.display.Audio object>"
      ]
     },
     "metadata": {},
     "output_type": "display_data"
    },
    {
     "name": "stdout",
     "output_type": "stream",
     "text": [
      "DEL TRABAJO MI\n"
     ]
    },
    {
     "data": {
      "text/html": [
       "\n",
       "                <audio controls=\"controls\" >\n",
       "                    <source src=\"data:audio/x-wav;base64,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\" type=\"audio/x-wav\" />\n",
       "                    Your browser does not support the audio element.\n",
       "                </audio>\n",
       "              "
      ],
      "text/plain": [
       "<IPython.lib.display.Audio object>"
      ]
     },
     "metadata": {},
     "output_type": "display_data"
    },
    {
     "name": "stdout",
     "output_type": "stream",
     "text": [
      "TRABAJO EN TRABAJO\n"
     ]
    }
   ],
   "source": [
    "display(clusters[11800])\n",
    "display(gen_node_wav(24855, nodes_dict, utd_wavs_path, es_merge_wavs_path, segment_map))\n",
    "print(' '.join(nodes_dict[24855].es))\n",
    "\n",
    "display(gen_node_wav(38713, nodes_dict, utd_wavs_path, es_merge_wavs_path, segment_map))\n",
    "print(' '.join(nodes_dict[38713].es))\n",
    "display(gen_node_wav(38714, nodes_dict, utd_wavs_path, es_merge_wavs_path, segment_map))\n",
    "print(' '.join(nodes_dict[38714].es))\n",
    "display(gen_node_wav(25249, nodes_dict, utd_wavs_path, es_merge_wavs_path, segment_map))\n",
    "print(' '.join(nodes_dict[25249].es))"
   ]
  },
  {
   "cell_type": "code",
   "execution_count": 147,
   "metadata": {
    "collapsed": false
   },
   "outputs": [
    {
     "data": {
      "text/plain": [
       "23"
      ]
     },
     "metadata": {},
     "output_type": "display_data"
    },
    {
     "data": {
      "text/html": [
       "\n",
       "                <audio controls=\"controls\" >\n",
       "                    <source src=\"data:audio/x-wav;base64,UklGRkQmAABXQVZFZm10IBAAAAABAAEAQB8AAIA+AAACABAAZGF0YSAmAAC8B1wHXAdcB1wGnAQMA+wB5ADA/xT+FP20/GT8pPvk+qT6ZPvk+yT8tPy0/az+DP/w/9QAjAFMAiwD3AMcBJwEHAXcBJwEnAQcBNwDLAPMAkwCjAHkAFgAoP/8/sz+rP50/jT+9P0U/oz+3P48/6j/SADUAOQAjAFMAowCrALsAmwDnANMA5wDnANMA+wCrAIMAowBjAEEAfj/qP/Q/2z//P78/vz+PP9c/9z+/P6g//D/GABgAAQBjAFEAVQBDAJMAkwCbAKMAowCjAIMAkwCrAJsAuwBrAFEAaQAIAAAAJD/PP8c/4z+VP40/hT+jP6c/oz+DP98/7D/wP8wAOQAlABQALQApABQACAApAAEAeQA5ADEAHQBrAHkANQABAGkADgA0P/g/7D/TP9c/1z/LP9M/1z/HP+8/pz+HP+s/hT+zP5c/0z/HP/8/iz/7P50/lT+VP4U/jT+9P20/VT+3P68/rD/WAAQACgAhACEAEAAMABAAFgAlABoAEAAMAAAAPD/0P+g/xz/3P7c/nT+FP60/dT9tP10/dT9NP5U/vT91P10/jT+tP2U/fT9FP70/ZT9lP3U/ZT9NP10/RT+VP7c/qD/yP/Q/xAAWAD4/3z/8P8AAHz/wP/o/ygAQABwANQAYAAoAHAAhAAgAHz/bP98//z+zP7c/qz+NP60/RT+dP50/lT+dP5U/hT+FP40/vT91P30/RT+FP50/vz+bP9M//z+kP/w/wz/vP6I/3z/DP98//j/SABQAFgABAGMAXQBZAHMAUQBNAGMATQBtAC0APQA1ADkAIwB1ABIAIQAcAAgAJj/fP9s/wz/dP50/kz/TP/8/hgAFAGEABgAlACkAFgASAAQADgAYACY/xz/sP8gAPj/XP8wAAQBWABwAAQBBAEEAdQAFAEMAuwCjAKsAUwCzAKMAeQAjAFMAiwCzAFMAswCDAIkASQBDAKMAUgA8P8oAPj/XP+w/3AApADEAHAAUAAkAUQBxAAEATQBJAEkAZQAcAA0ATQBZAFMAqwCrAGMAcwBRAEkARQBBAEEAQgAfP8AAGgAGAAwAIwBDAKMAawBzAEMAqwB9ADEAPQAxAAoAGgAxABAALD/EAAUAYQA+P+kAMQAtACUAGgAlAAEAdQAUAC0AEQB9ADEAEQBdAFEAWQBdAGMAVQB5ADUAAQBaACw/6QANAH4/1z/2P98/3T+HP+w/8z+zP58/0z/zP68/iz/bP98/7j/4P/Y/4QAeAAQADAAWACUADgADP/c/qD/HP/U/Zz+IAA8/xT+bP9IAAz/dP48/1z/7P7c/gz/XP8c/4z+PP8oAJj/iP9gADgA4P/o/6j/+P8gAMj/qP+o//z+jP68/qz+rP7M/sz+vP4c/3z/DP+8/gz/HP/c/gz/fP8c/5z+VP50/nT+NP70/ZT9lP20/RT+9P1U/bT9VP40/pT91P3M/oz+9P28/nz/LP8M/5D/yP9c/wAApAB4AFgACADQ/5j/XP/c/nT+DP/8/sz+/P4M/3z/3P50/dT9dP5U/RT9FP68/nT+FP7M/oj/sP9c/3z/FAG0AKD/aAAEAbQA0P8QACQB9ABQAEAAWAD4/5j/fP+w/wgA6P+Q/3z/sP88/5z+zP78/iz/7P6c/kz//P5U/nT+XP8wAOj/GACkAHAAWADEAMQAaABIAFAAhABgAEAAhABoAEgAOAAgADAAaAAIAFz/0P9AAIQAlADUAMwBrAFkAUQBFAEsAqwBSAAkAQwCrAGUALQALAIEAUz/hADMASQBSADEAMwBNAFoAOQAVAEEAZQApAAkAawBRAGkAIwBzAHsAUwCFAFgAMQAQAB8/yAA9ACkAHAA1AB0AfQAtABkASQBJAE0AdQA9AAkATQBlAA4AIQABAHkAMQANAF0ASQBBAFkASwCLAJEAWQBTALMAVQBxABEASwCpABgAMwBdAFgABAABAFkAVAAKAAUAUQB1AAwAGAAVAGkAPj/1AAEAdQAUABwAHQBVAGEABAA+P84AHz/PP8gADgAfP9M/wAASADg/3z/GABgAOz+vP5gAKQAeADUADQBBAHkAIwBVAEkAYwB5ACEAJQA0P/g/xAAGACEAEgAmP98/5D/DP90/kz/bP80/hT+HP8c/5T9VP0c/1z/FP50/lz/oP+8/rz+TP88/8z+dP78/sj/HP/0/az+GACw/4z+DP9QAJD/9P3s/oQAqP/c/tD/hAAwAJj/AADkAFAA7P6Y/1gAHP80/lT+PP/8/vT9NP4c/xz/NP70/fz+7P60/ZT9jP7c/pT9NP28/hz/1P10/cz+TP80/rT97P6I/zT+9P3g/wgAVP5U/pj/fP+0/bT9TP/c/vT9jP6Q/1z/nP78/mz/6P8AAPz+kP9QANz+rP4QAPj/XP+4//D/sP98/9z+HP9M/7z+/P5c/9z+VP6c/mz/3P6c/mz/iP9s/4j/XP/A/2gAoP8M/4QA5ADQ/zAAFAEkATgA4P+EADgA8P/g/wgAhABc/yz/OADw/6D/bP+Q/zAAfP+M/sj/pABc/zz/1ADkAGz/PP8kAYQArP7EAGQBwP+EAPQApADEANQANAFEAUQB5AD0AIwBFAGEAKQAFAHEAGgAxACkACgA8P+UAAQBpABQAMQAJAFQAJQALAKMAVgArAEMA6wBZAEMAywD7AHMASwD7AJkASwCLANUARgA1ABgADT+1P3c/lT+tPx0/Uz/lP30/OD/qP80/nAAbAKMAuwCXAScBpwGHAc8CTwJPAi8CDwIXAYcBOwB2P+0/CT65PjE9sT0xPRE9ETzRPXE96T4pPo0/rQATAIcBjwKPAy8DvwS/BL8EvwT/BL8DzwMvAjcAxT+5PlE9QTwBO0E7ATqBOkE6gTtRPHE88T3JPw8/xwEPAk8DfwQ/BX8F/wX/Bf8GPwV/BG8C7wHDAKk+kT1RPEE7ATpBOgE6ATpBOoE7gTwxPNE+GT6rP4cBDwIPAz8EPwU/Bb8F/wZ/Bf8FfwSPA4cB0wDZPvE8wTwBOoE5gTmBOUE5gToBOsE8ETyRPak+jT+3AO8CbwN/BH8F/wZ/Bn8GfwZ/Bb8ErwNHAYkAaT5RPEE7QToBOQE5ATjBOUE5wTpBO5E8kT1pPnc/pwEvAm8DvwU/Bf8Gfwb/Br8GfwX/BK8DFwFSADk+ATvBOwE6ATiBOME5ATkBOcE6wTuxPJE9iT6IABcBjwL/A/8FfwZ/Bn8G/wb/Bj8FfwSPAycA7z+RPcE7gTqBOcE4wTiBOQE5ATnBOwE70TzxPbk+8wBHAc8DPwS/Bf8Gfwc/B78G/wa/Bf8EbwMnAT0/UT3BO4E6gTnBOIE4gTkBOUE6ATsBO/E9ET4JPuMArwIPAz8EfwY/Br8G3wg/B38GfwY/BO8DFwFHP+k+ATvBOoE6ATjBOIE5gTlBOcE7gTvxPNE+CT8LAK8BzwN/BL8GPwb/B58IPwe/Bz8GPwT/A+8B9z+pPnE8gTqBOgE5AThBOQE5gTnBOsE8MTzRPgk+4wBvAi8C/wR/Bn8GvwdfCB8IPwc/Br8FfwQvAoMAqT6RPQE7QToBOYE5ATjBOUE6ATrBO5E8sT35PpU/pwGPAy8DvwW/Bv8HHwgfCL8Hfwb/Bj8EjwNXAV0/UT3BPAE6QTnBOQE5ATkBOYE6QTsBPBE9CT5pPtkAbwJvAz8EfwZ/Bv8HHwgfCD8HfwZ/BT8EDwKjAFk+kT0BO4E6ATlBOQE5ATkBOcE6gTtBPBE9mT61PzsAjwKvA78EfwY/Bz8HPwd/B38G/wX/BK8DbwHDP9E98TxBOwE5wTjBOME5ATkBOcE6wTuxPBE9aT6FP7MArwIPA78EfwW/Bn8G/wc/Bv8F/wW/BG8DFwGPP9E+MTyBO0E6ATmBOUE5ATlBOcE6wTuBPBE9WT59PyUAJwFvAq8DvwS/BT8FfwX/Bf8FfwU/BA8DbwIDAP0/ET3xPIE7wTsBOkE6gTpBOsE7ATuBPBE88T1pPjk+5z+7AGcBTwIPAu8DfwP/BD8EfwR/BD8DzwNPAocB0wDHP9k+0T4RPVE88TxxPAE8ATvBO8E8ETxRPLE80T2RPjk+jT9mP8sApwEHAe8CbwLPA28DrwOvA68DbwNvAs8CRwHHAQkAXT+ZPvk+MT2xPRE88TxxPAE8ATwxPBE8kTzRPVE96T55Pt0/hQBnAPcBbwIvAq8DDwOPA88DzwPPA68DLwLPAncBhwENAGc/uT7pPlE90T1xPNE88TxRPHE8UTyxPNE9cT2ZPmk+zT+xABMA9wFPAg8CjwMvA28DrwOvA48DjwNPAy8CTwIHAacAxQBjP5k/OT5xPdE9kT1RPRE80TzxPPE9ET2xPfk+eT7NP6UAMwC3AScBrwIPAo8C7wLPAy8CzwMvAu8CrwJPAgcBpwEjAKUAIz+tPxk+2T5RPjE98T2xPZE90T3RPik+eT6ZPw0/tD/ZAEsA9wEHAYcBzwIvAg8CbwJPAm8CDwIXAdcBhwF3AOMAjQB8P+8/pT9tPzk+yT7pPqk+mT6pPpk+6T7ZPxU/TT+LP8wACQBLAIMA9wDXAScBBwFHAUcBdwEnAQcBJwDDANMAqwB9ABQAKj/DP+M/hT+lP10/RT9NP00/VT9lP30/TT+rP4s/4j/AACEANQAJAFkAawBzAHMAcwBzAGMAXQBNAHkAKQASAD4/6j/XP8c/7z+dP5U/lT+NP40/hT+VP5U/nT+nP7c/vz+LP9M/3z/oP/A/9j/8P8AABgAGAAAAPD/0P+g/3z/XP88//z+7P68/pz+dP50/lT+VP5U/lT+VP50/nT+nP6c/qz+3P7c/vz+HP8c/yz/PP9c/0z/PP88/zz/HP8c//z+7P7M/rz+rP6c/pz+nP6M/oz+dP50/oz+jP6c/pz+rP68/rz+zP7M/uz+/P78/gz/DP8c/xz/HP8c/xz/HP8c/xz/HP8c/xz/HP8c/xz/DP8c/wz/HP8c/xz/HP8c/xz/PP9M/0z/XP98/1z/bP9s/2z/fP98/2z/fP98/3z/fP+Q/3z/iP+Y/5j/qP+w/7j/uP/I/9D/4P/w//j/CAAYABAAKAAgADAAQABAADAAMAAwACgAKAAYACAAKAAgACgAMAAwADAAOABAAEgASABYAHAAeACEAJQApAC0AMQA5ADkAPQA9AD0AAQBBAHkAOQA5ADkAOQA5ADEAMQAxAC0ALQAtACkAMQAtADEAMQAxADEAOQA9AAUASQBNAEkAUQBVAFkAWQBZAFEAUQBVAFEAUQBNAEkATQBFAEUARQB9ADkAPQA5ADkAOQA9ADkAAQBFAEkATQBNAFEAVQBRAFUAWQBZAFEAVQBVAFEATQBNAEkARQBFAH0APQA5ADkANQAxAC0AKQApACkALQAxADEALQAxADEANQA5ADUAOQA5ADkANQAxADEAMQAtACkAKQApACUAIQAaABQAFAAQAAgACAAIAAAABAAGAAYACAAGAAgACAAMAAwADAAMAAwADAAKAAoACgAKAAgACgAKAAYACAAGAAQAAAA+P8AAOj/2P/g/9D/0P/Q/9j/2P/g/+D/6P/o//D/+P8QABAAEAAYABAAIAAgABgAIAAYABgAGAAQAAgA+P8IAPD/6P/w/9j/0P/Q/9j/4P/g/9j/4P/o/+j/8P8AAAgACAAQABAAGAAQABgAIAAYACAAIAAQABAAAAAQAAgA8P/w/+D/6P/o/+D/2P/g/9j/2P/o/+D/6P/w/wAAAAAIABAACAAQABgAEAAYACAAIAAQACAAGAAYAAgA+P8AAPD/6P/o/+D/4P/g/9j/4P/g/9D/4P/w/+j/8P8AAAAAAAAAAAgAGAAQABgAIAAgACgAIAAYABAACAAAAPj/AAAIAAAA8P/w/+j/4P/g/+D/2P/g//D/6P/o/+j/6P/w/wAACAAIABAAEAAQABgAGAAgABAAGAAQABAAEAAIAAAAAAAAAPD/8P/w/+D/6P/g/+j/8P/o/+j/6P/w/+j/8P8IAAAA+P8AAAgACAAIABAAEAAAAAAAAAAQAAgAAAAAAPD/8P/w//j/AAAAAPD/+P8IAAAA+P/w//D/+P8AAPD/+P8AAPD/AAAAAPj/+P8AAPj/AAAIAAAA8P8AABgACAAQAAAACAAQABAACAAIAAgACAAAAAgA+P/w//D/8P/w/+D/4P/o/+j/4P/g//D/6P/o/+D/6P/w//D/+P/4//j/CAAQABAAEAAgABgAGAAQABAAEAAQAAgAEAAAAPj/8P/4//j/+P8AAPD/+P8AAPD/6P/w//D/+P/w//D/+P8AAAAA+P8AAAAA+P8AAPj/+P8AAPD/8P/w//D/8P/w//D/8P8AAAAA+P/w//j/+P8AAPj/AAAYABAAAAAAABAAEAAQAAgAAAAAAAgAAAAIAAAA8P/w//D/+P/w/+j/8P/w/+j/6P/o//D/AADw/+j/+P/w//j/+P8AAAgAEAAYABAAGAAQAAgAEAAIAAgAAAAAAAAA+P/w//D/8P8AAPD/8P8AAPD/6P/w//D/+P/w//j/CAAAAAgAAAAIAAgAEAAAAPj/AAAIAAAA8P8AAAgA8P/w//D/8P8AAPD/+P/w/+j/6P8AAPj/+P8QAAgAAAAAAAAAEAAYABAAEAAQAAgAEAAIAPj/8P/w//D/6P/o//j/8P/g/+D/6P/o/+j/6P/w//j/+P/w//D/+P8AAPj/EAAYABgAEAAAAAgAEAAQAAgACAAQAAgACAAIAAgAAADw//j/8P/w//D/8P8AAPD/+P/w//D/8P8AAAAA+P8IAAAAAAAAAAgACAAIABAAAAAAAAAAAAAIAPj/+P8AAPj/8P/w//D/8P/w/+D/8P8AAPD/6P/w//D/+P8AAPj/+P8AAAAAAAAIAAAAAAAAAAAACAAIAPj/AAAAAPj/+P/w//j/8P8AAPD/CAAIAPj/AAAAAAAACAAQABAACAAAAAgAEAAQAAAACAAQAAAAAAAIAAAA8P/w//D/8P/w//D/8P/w/+j/4P/o//D/8P/w/+j/6P/o//D/6P/w/wAAAAAIAPj/+P8AAAgA+P/4/wgACAAAAAAACAAYAAAAEAAQABAAEAAQABAAEAAQAAgAAAAAAAgACAAAAAAAAAAAAAAA+P/w//D/8P/w//D/6P/g/+j/8P8AAOj/6P/w/+j/8P/w//D/+P8AAPD/AAAAAAAACAAAAPj/AAAAAAAA8P/w//D/8P8AAAAA8P/w//D/+P8AAPj/+P8AAAAACAAYABgAEAAQABAACAAQAAgAEAAQAAgAEAAQAAAAAAAAAAgACAAAAPj/8P/w//D/6P/w//j/8P/w//D/+P/w//D/8P/w/+j/+P/4//D/6P/w/+j/6P/I/8D/4P/g/9j/yP/Y//j/CAAgADAAcABoAHAAlACkAMQAxADUALQAxAAEAcwCzAGU/JT9wP/8/iAAjP5U/kwDXATk+8T1dP10AeT7RPZE9+T7tP30/MD/nAScBQAANP6sAhwE7AJMA5wDrAJsAxwGnAR0/eT69P1c/zT+lPzk+2T75Pu0/HT99P30/TT+3P7s/nT+dP78/nT+7P5YAEgAtACMAkwCtAAUAYwBhAAc/5j/uP/0/XT99P10/aT7pPok/DT91Pz0/DT9FP00/dz+KABwAOwBnAMcBRwHvAi8CLwHnAbcBGwDLALkALj/dP40/aT7JPtk+uT4pPgk+aT5ZPpk+mT7lP1AAGwDPAi8C7wO/A+8DrwLPAgcBQwD7AFUAcD/9P1k/GT6pPjE90T3xPdk+ST6pPpk+qT5ZPlE+KT51P2cAzwK/A/8E/wV/BM8DzwIzAKw/xz/yP9wAGz/ZPxE+ET1RPRE9iT5ZPyc/qz+ZPzk+MT1RPbk+UQBPAz8FPwb/B78GfwTPAq0AGT7pPlk+xT91Pwk+kT1xPFE8UT0pPrkAJwF3AXEAET4BPAE7kTzlAD8D/wdfCZ8JPwb/A8MA6T6RPdE+KT6JPtE+ETyBOwE6wTtRPXw/zwIPAu8B6z+xPIE6gTrxPa8CfwcfCh8KHwg/BLcA6T5RPdk+vT93P6k+sTxBOkE5ATnxPHs/rwJvA28Crj/RPIE6ATnRPS8CfwdfCp8Knwg/A+g/8T2xPUk+6D/uP/k+QTvBOUE4QTmxPOMAjwMvA48COT6BOwE5ATmRPW8DHwifCx8KPwdPA24/yT5JPo0/mz/pPtE8wTpBOIE5ATtpPrcBrwMvArMAkT2BOoE5QTpxPe8DPwefCh8JPwcvA5MAmT8ZPok/OT5xPQE7gTnBOUE6cTy3P68B7wLPAhwAMT1BOoE5AToxPW8CvwdfCh8KPwe/BDcBJT95Pnk+cT1BPAE7ATmBOcE7sT3LAI8CbwKnAbg/0T1BOoE5QTnxPO8CvwefCp8LHwi/BKcBRT9pPjE90TzBO4E6gTmBOnE8rT8HAW8CbwJnAVM/0T1BOoE4gTkxPA8CXwgfC58MHwm/BQcB/T8RPdE9QTwBOkE5wTpBO/k+SwDPAi8CrwI3AQAAMT1BOoE4YTfBOy8B3wkfDR8NHwq/Ba8B9T9xPZE8gTrBOUE5gTsxPXEABwHXAe8B1wHXAU0AcT2BOeE24TbBOlcB3wmfDh8OHwu/Bm8CgQBRPcE7ATkhN8E50T2bAK8CDwI3AOcBLwIPAiMAUTyhN+E1YTZBOwcB3wkfDZ8Onw0fCT8EwwCxPAE44TdBOEE7lT+vAi8CDwIPAi8CTwLHATE9wTqhN+E34TfBOlE9rwOfDB8QXxBfDD8FGT6BO0E5ITfBOEE58T3PAz8EfwRvAycBYwC3P5E9wTsBOSE3wTiBOlE8awCfCR8QXxFfDj8HfQAxPAE6ITdhNsE5MT1/A/8HfwXvAuMART9JPzE9ATnBOEE5ATpBO0E7MTxvA18NHxJfDz8HlwFxPME8ATmhNmE3QTvvAx8JHwgvAzM/pT8pPtE9gTmhN0E5sTyRPUE7ATmZPp8JnxJfD58IDwKtP0k+gTthNmE1wTsvAn8HfwdPAwwAPj/pPtE8QTjhN0E6kT3xPcE6wTiBO/8FXw8fDx8IvwRPA1MAwTwhNmE1QTr3AX8FfwX/BC8CNwF5PsE7ATjBOQE7ETzxPME7gTnBOycBHwofDh8KPwa/BMcB8TyBOGE1wTllPw8CvwT/Bf8DxwHJPsE7QTnBOcE6gTtxPJE9ATvBOlE8/wVfDR8Mvwe/BS8DWT8BOeE2YTfRPUcBbwO/Bb8FLwL7P5E8QTpBOkE6gTsRPJE+MTzBOkE7jwLfC58NHwi/Bb8FZwFBOyE24TdxPHMATwJ/BT8G/wPtABE8wTqBOoE6gToBPBk+kT3BOoE6EwDfCh8Nnwk/Bf8GzwMBO2E24TdxPD8/twE/BL8HfwUtABE8wTuBOwE6gToBPA0/aT6BOsE6EAAfCR8NHwm/Bl8IPwSBO+E3wTixPAk/GgA/BB8JPwZ9ABE9cTxBOwE5gTkBPC8/qT7BOsE5iT7/B58MHwm/Bt8JPwWxPEE4QTmRPHk+GT8/BB8JvwaJAHk+UT2BOwE5QTmxPKc/uT6BPAE6UT2/BN8LHwq/B58IvwcJPoE5ATmBPBE9eT6vA18IPwb3ATU/OT4BO0E5ATmxPIk/KT5RPME7MTxvAx8KHwsfCB8IPwe2P8E5QTkBO5E8sT3PAp8IPwdHAb0/KT7BO4E4wTmxPNk+kT4xPUE7gTwnAV8IHwufCD8HnwgHAUE5gTkBO0E8MT0XAX8HXwgPAhk/GT8xPAE4gTkxPJk+cT3xPUE8ATv5AD8HnwsfCL8HXwivAkE6QTlBOwE7sTyzAL8G/wevAc0/pD/BPAE4QTlRPJE98T0RPZE8gTs5Pv8GXwsfCT8HXwiPA4E7ATjBOwE7QTvTP/8Gfwc3AYgABAABPAE4gTkRPFE9UTxxPZE9ATpRPb8F3wqfCL8G3wi/BQE7wTiBOwE7gTspPr8FfwbvAlMAswBxPME5ATjBPBE9ATvxPVE9gTpxPL8EXwofCb8HHwi/BpE9gTjBOwE7QTpRPf8EfwcPAyMAlwFxPcE5gTkBO9E8wTtxPNE+ATqBO28CHwifCj8HXwgfCL8/gTjBOoE7gToRPG8C/wbPA8MA1wGvP4E6wTkBO9E8wTtRPLE9wTuBOxMAnwgfCp8IHwgfCa8BwToBOoE7gTnBO2cBPwY/BCcBbwJzAEE8ATnBO5E8gTsBPBE+ATuBOtU/vwZfCx8JHwgfCj8EgTuBOoE7gTnBOqs/vwU/BAcBzwLHAVE8wTsBO9E8wTtBO/E9wTwBOtk+vwSfCh8KHwifCj8G6T4BOwE8AToBOjk+bwM/A+8CLwIvAdk+QTwRPPE8wTuBPBE9QTvBOvE9bwJfCB8LHwqfCh8IjwJRPIE7ATpBOjE8hwFvAq8B7wKvAfk+sT0xPVE9cTwRPHE8wTtBOpE9dwE/Bh8KnwsfCp8JPwQ5PgE7QTpBOgE8OT7nAY8CBwGXAfA/8T3xPfE9kT0xPIE8ATtBO1E9WwC/Bh8LHwufCx8JvwTZPwE8ATqBOsE78TyNP2cBhwEuP8QALz+pPlE98T3xPUE6wTnxPFE98QA/Bp8KHwqfCp8JPwSdP0E7gTqBOkE6gTwpPng/7D/VP4kAdz+JPsk/KT4BO8E6ATsRPPE9rwLfCJ8KHwqfCp8JLwORPgE8ATrBOYE5gTuJPnk+GT57AHMAoz+9Pxk+8TyBOoE6wTuxPGMAvwXfCR8KHwqfCj8F9wDRPfE8QTlhN8E6MTwBPBE9Iz+3AOMAcz+1P3E9gTvBO4E7sTxTP/8D/wdfCZ8KHwofCA8DdT8RPIE5oTdBOIE6ATrxPDk+dQAJAE0/jT9RPhE9MTwBO9E+CwDvAv8F3wmfCZ8JHwg/BIcBMT2BOoE5gThBOIE6gTuRPQk+rT8tPzk+aT4RPjE8QTvRPhMArwK/BL8HnwmfCL8Hfwb/A/4/0T2BPAE6gTiBOUE7ATtxPBE92T6pPhE9+T5xPdE80TzpPucBbwJ/BL8HXwgfCD8HfwXPA+cA+T5RPQE7gTnBOkE7ATuxPFE9aT4ZPnk+aT6JPlE98T3/P4cBbwH/A/8Gvwb/Bj8GfwZ/BFcBVz/5PtE8gTrBOwE7wTuBO5E9ET4RPhk+fT81P3k+qT5dP4sA1wEPAn8EfwX/Bb8FPwW/BS8CpwDZAGU/ETzBO9E8cTxBO9E8cT2ZPlk+aT6NP20/WT65Pl0/SgAjALcBjwO/BT8E/wT/BX8EzwNHAecBNj/pPjE9UT1RPVE9ET1ZPnk+iT7ZPy0/KT7pPpk+uT71P2g/xwEvAk8DfwP/BH8EfwQPA48ClwHHARAAJT85Pnk+ST5pPjk+ST65Pgk+aT55Pjk+KT5pPqk+5T9GACMApwGPAk8CrwLvAu8CjwJHAdcBxwGbANMAuQA2P90/aT7pPvk+cT3pPgk+iT5pPjk+uT71Px0/sD/rAFMA9wD3ATcBVwGHAccBxwHPAi8B9wFXARMA0QBnP40/WT8JPtk+ST55Pkk+uT5pPrk+6T7lPy0/ZT9VP5c/zAARAGMAtwDHAWcBRwG3AbcBVwE3APMAswBwP+c/mz/9P20/BT9lPzk++T6ZPpk+yT65Pkk++T6pPv0/LT9bP94ABQBzAEMAgwDrAIUASwCrAJkAYwBRAF4AOD/LP9c/2z//P4U/hT9NP1k/KT6pPrk+yT85Ps0/Zz+NP50/bz+bP8c/2z/cAD0AIQAEABQANQAaABYAIwBDAIEAbj/PP/M/vT9lP30/Yz+FP7U/HT9VP60/RT9tP2M/pz+9P10/hz/zP5U/vz+2P8QALj/oP9gAFgAfP88/3z/6P88/8z+mP/A//z+zP5c/2z/nP70/XT+LP/8/nT+/P58/xz//P6Y/wgA2P/w//D/0P8QAEAA+P8gAPQAhACQ//j/OADw/zAAtADUAAgA8P9gAAgA4P+w/5j/CAAwABgA0P8YAFAAuP+w/4QAcADA/0gA5ADkAGgAhAAkAaQA5ADEAFAAlAAIAEAAFAHEANQAtADUAAQB9ADEAJQAhABoAIQA5ADkAKQAlAD0AMQAlAAEAYwBdAHkAMQARAEEAYQA1ABEASQBxACkACQBzAGMARQBZAHMASQBxABkAVQB5ABEAYwBNAFUAawBVAEkAWQBRAEEAeQA5ADkANQAxAA0AYwB5ADEAIwBZAEUAUQBZAEEAcQA1ADkABQBRAHkAMQA5ADkAAQBtADEABQBxABQAGAApACEAGgA1ACMAXQBeACkABQBpACkAKQAtADEAKQAaAD0AEQBlABQAAQBZAGEAAgAxABwAIj/oP94ANQAGAAwAMQAeAAQAPj/KABgAFgAGABIAIQAGADQ/wgAhABYAJj/yP8gAGz/vP4M/3z/DP+c/oj/KAB8//z+PP+g/xz/dP5M//D/8P8AAJQAjAGsAVQBrAHMAVQBWACo/6j/zP50/TT9VP0U/ZT8ZPx0/VT9lPw0/XT9NP00/VT99P1s/4QA8P+kAGwCjAIMAiwCrALMAowBeACEAFgADP80/jT+dP60/bT8FP20/dT8JPy0/HT9NP20/DT9FP70/fT9VP7c/gz/vP7s/nz/fP98/4j/oP/4/wAA0P8AACgAwP+Q/6j/TP/c/rz+3P6M/hT+dP7c/nT+9P00/hT+FP20/Rz/zP4U/qD/tABwAGgAxACsAYwBQACEALQAfP+c/lT+rP40/vT8lP10/vT9tP00/sz+/P50/tz+6P+g/zz/0P8gABgAyP/w/5QAKADI/zgAcABAABgAWADkAKQAUADEABQBpABwAHgApABQAMj/EAAYAKD/mP/Q//D/6P/Q/yAAaAAgAEAAcAB4AJQAlACkAPQApAC0APQA1ACkAKQAlACUAFAAWACEAFgAYACkAMQAxACkANQA9ADUAMQA5ADkAOQA9AD0AAQB9AAEASQBNAEkATQBVAFEATQBNAFUATQBNAFEAVQBRAFEAVQBVAEkASQBJAE0ASQBJAEkARQBJAEkATQBJAEkAUQBNAE0ASQBJAEkAQQBBAEUARQBBAEEARQBFAEUAQQBBAHkAPQA\" type=\"audio/x-wav\" />\n",
       "                    Your browser does not support the audio element.\n",
       "                </audio>\n",
       "              "
      ],
      "text/plain": [
       "<IPython.lib.display.Audio object>"
      ]
     },
     "metadata": {},
     "output_type": "display_data"
    },
    {
     "name": "stdout",
     "output_type": "stream",
     "text": [
      "Sí PUES Y\n"
     ]
    },
    {
     "data": {
      "text/html": [
       "\n",
       "                <audio controls=\"controls\" >\n",
       "                    <source src=\"data:audio/x-wav;base64,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\" type=\"audio/x-wav\" />\n",
       "                    Your browser does not support the audio element.\n",
       "                </audio>\n",
       "              "
      ],
      "text/plain": [
       "<IPython.lib.display.Audio object>"
      ]
     },
     "metadata": {},
     "output_type": "display_data"
    },
    {
     "name": "stdout",
     "output_type": "stream",
     "text": [
      "Sí PUES VAYA\n"
     ]
    }
   ],
   "source": [
    "# 2267, 3682, 2, {'114.134', '114.142'}\n",
    "display(len(clusters[2267]))\n",
    "\n",
    "for nid in clusters[2267]:\n",
    "    if nodes_dict[nid].seg in {'114.134', '114.142'}:\n",
    "        display(gen_node_wav(nid, nodes_dict, utd_wavs_path, es_merge_wavs_path, segment_map))\n",
    "        print(' '.join(nodes_dict[nid].es))"
   ]
  },
  {
   "cell_type": "code",
   "execution_count": 107,
   "metadata": {
    "collapsed": false
   },
   "outputs": [
    {
     "data": {
      "text/html": [
       "<div>\n",
       "<table border=\"1\" class=\"dataframe\">\n",
       "  <thead>\n",
       "    <tr style=\"text-align: right;\">\n",
       "      <th></th>\n",
       "      <th>most_common</th>\n",
       "      <th>oov</th>\n",
       "      <th>purity</th>\n",
       "      <th>words</th>\n",
       "      <th>depth</th>\n",
       "      <th>cross_seg</th>\n",
       "      <th>cross_file</th>\n",
       "      <th>sids</th>\n",
       "      <th>in_vocab</th>\n",
       "    </tr>\n",
       "  </thead>\n",
       "  <tbody>\n",
       "    <tr>\n",
       "      <th>394</th>\n",
       "      <td>pues</td>\n",
       "      <td>False</td>\n",
       "      <td>0.714286</td>\n",
       "      <td>[pues, pues, pues, pues, pues, bebido, parece]</td>\n",
       "      <td>7</td>\n",
       "      <td>True</td>\n",
       "      <td>False</td>\n",
       "      <td>[002.029, 114.130, 114.181, 114.026, 114.142, ...</td>\n",
       "      <td>True</td>\n",
       "    </tr>\n",
       "    <tr>\n",
       "      <th>1244</th>\n",
       "      <td>completo</td>\n",
       "      <td>False</td>\n",
       "      <td>0.600000</td>\n",
       "      <td>[concreto, completo, completo, completo, compl...</td>\n",
       "      <td>5</td>\n",
       "      <td>True</td>\n",
       "      <td>False</td>\n",
       "      <td>[009.179, 101.083, 101.065, 101.046, 101.091]</td>\n",
       "      <td>True</td>\n",
       "    </tr>\n",
       "    <tr>\n",
       "      <th>2020</th>\n",
       "      <td>entonces</td>\n",
       "      <td>False</td>\n",
       "      <td>0.625000</td>\n",
       "      <td>[entonces, entonces, tomé, después, entonces, ...</td>\n",
       "      <td>8</td>\n",
       "      <td>True</td>\n",
       "      <td>True</td>\n",
       "      <td>[050.121, 030.007, 105.005, 120.043, 111.173, ...</td>\n",
       "      <td>True</td>\n",
       "    </tr>\n",
       "    <tr>\n",
       "      <th>2758</th>\n",
       "      <td>así</td>\n",
       "      <td>False</td>\n",
       "      <td>0.750000</td>\n",
       "      <td>[boston, así, así, así]</td>\n",
       "      <td>4</td>\n",
       "      <td>True</td>\n",
       "      <td>True</td>\n",
       "      <td>[054.268, 111.108, 114.013, 087.213, 088.157, ...</td>\n",
       "      <td>True</td>\n",
       "    </tr>\n",
       "    <tr>\n",
       "      <th>7928</th>\n",
       "      <td>parece</td>\n",
       "      <td>False</td>\n",
       "      <td>0.750000</td>\n",
       "      <td>[parece, parece, parece, ser]</td>\n",
       "      <td>4</td>\n",
       "      <td>True</td>\n",
       "      <td>False</td>\n",
       "      <td>[088.165, 088.168, 088.172]</td>\n",
       "      <td>True</td>\n",
       "    </tr>\n",
       "    <tr>\n",
       "      <th>8801</th>\n",
       "      <td>ojalá</td>\n",
       "      <td>False</td>\n",
       "      <td>0.750000</td>\n",
       "      <td>[ah, ojalá, ojalá, ojalá]</td>\n",
       "      <td>4</td>\n",
       "      <td>True</td>\n",
       "      <td>False</td>\n",
       "      <td>[095.055, 095.064]</td>\n",
       "      <td>True</td>\n",
       "    </tr>\n",
       "    <tr>\n",
       "      <th>8808</th>\n",
       "      <td>carrera</td>\n",
       "      <td>False</td>\n",
       "      <td>0.600000</td>\n",
       "      <td>[estudian, carrera, carrera, entras, carrera]</td>\n",
       "      <td>5</td>\n",
       "      <td>True</td>\n",
       "      <td>False</td>\n",
       "      <td>[095.149, 095.166, 095.058]</td>\n",
       "      <td>True</td>\n",
       "    </tr>\n",
       "    <tr>\n",
       "      <th>10394</th>\n",
       "      <td>fotos</td>\n",
       "      <td>False</td>\n",
       "      <td>0.600000</td>\n",
       "      <td>[unas, fotos, unas, fotos, fotos]</td>\n",
       "      <td>5</td>\n",
       "      <td>True</td>\n",
       "      <td>False</td>\n",
       "      <td>[105.003, 105.017, 105.073]</td>\n",
       "      <td>True</td>\n",
       "    </tr>\n",
       "    <tr>\n",
       "      <th>11577</th>\n",
       "      <td>chi</td>\n",
       "      <td>False</td>\n",
       "      <td>0.666667</td>\n",
       "      <td>[tai, chi, chi, tai, chi, chi]</td>\n",
       "      <td>6</td>\n",
       "      <td>True</td>\n",
       "      <td>False</td>\n",
       "      <td>[113.197, 113.209]</td>\n",
       "      <td>True</td>\n",
       "    </tr>\n",
       "    <tr>\n",
       "      <th>12387</th>\n",
       "      <td>entiendes</td>\n",
       "      <td>False</td>\n",
       "      <td>0.740741</td>\n",
       "      <td>[entiendes, entiendes, entiendes, tiempo, enti...</td>\n",
       "      <td>27</td>\n",
       "      <td>True</td>\n",
       "      <td>False</td>\n",
       "      <td>[119.025, 119.029, 119.075, 119.079, 119.112, ...</td>\n",
       "      <td>True</td>\n",
       "    </tr>\n",
       "  </tbody>\n",
       "</table>\n",
       "</div>"
      ],
      "text/plain": [
       "      most_common    oov    purity  \\\n",
       "394          pues  False  0.714286   \n",
       "1244     completo  False  0.600000   \n",
       "2020     entonces  False  0.625000   \n",
       "2758          así  False  0.750000   \n",
       "7928       parece  False  0.750000   \n",
       "8801        ojalá  False  0.750000   \n",
       "8808      carrera  False  0.600000   \n",
       "10394       fotos  False  0.600000   \n",
       "11577         chi  False  0.666667   \n",
       "12387   entiendes  False  0.740741   \n",
       "\n",
       "                                                   words  depth cross_seg  \\\n",
       "394       [pues, pues, pues, pues, pues, bebido, parece]      7      True   \n",
       "1244   [concreto, completo, completo, completo, compl...      5      True   \n",
       "2020   [entonces, entonces, tomé, después, entonces, ...      8      True   \n",
       "2758                             [boston, así, así, así]      4      True   \n",
       "7928                       [parece, parece, parece, ser]      4      True   \n",
       "8801                           [ah, ojalá, ojalá, ojalá]      4      True   \n",
       "8808       [estudian, carrera, carrera, entras, carrera]      5      True   \n",
       "10394                  [unas, fotos, unas, fotos, fotos]      5      True   \n",
       "11577                     [tai, chi, chi, tai, chi, chi]      6      True   \n",
       "12387  [entiendes, entiendes, entiendes, tiempo, enti...     27      True   \n",
       "\n",
       "      cross_file                                               sids in_vocab  \n",
       "394        False  [002.029, 114.130, 114.181, 114.026, 114.142, ...     True  \n",
       "1244       False      [009.179, 101.083, 101.065, 101.046, 101.091]     True  \n",
       "2020        True  [050.121, 030.007, 105.005, 120.043, 111.173, ...     True  \n",
       "2758        True  [054.268, 111.108, 114.013, 087.213, 088.157, ...     True  \n",
       "7928       False                        [088.165, 088.168, 088.172]     True  \n",
       "8801       False                                 [095.055, 095.064]     True  \n",
       "8808       False                        [095.149, 095.166, 095.058]     True  \n",
       "10394      False                        [105.003, 105.017, 105.073]     True  \n",
       "11577      False                                 [113.197, 113.209]     True  \n",
       "12387      False  [119.025, 119.029, 119.075, 119.079, 119.112, ...     True  "
      ]
     },
     "execution_count": 107,
     "metadata": {},
     "output_type": "execute_result"
    }
   ],
   "source": [
    "clusters_df[view_cols+['sids', 'in_vocab']][(clusters_df.depth >=4) & (clusters_df.purity >= .6) \\\n",
    "                               & (clusters_df.purity <= 0.9) & (clusters_df.is_train == True) & \\\n",
    "                                           (clusters_df.in_vocab == True)]"
   ]
  },
  {
   "cell_type": "code",
   "execution_count": 67,
   "metadata": {
    "collapsed": false
   },
   "outputs": [
    {
     "data": {
      "text/html": [
       "<div>\n",
       "<table border=\"1\" class=\"dataframe\">\n",
       "  <thead>\n",
       "    <tr style=\"text-align: right;\">\n",
       "      <th></th>\n",
       "      <th>most_common</th>\n",
       "      <th>oov</th>\n",
       "      <th>purity</th>\n",
       "      <th>words</th>\n",
       "      <th>depth</th>\n",
       "      <th>cross_seg</th>\n",
       "      <th>cross_file</th>\n",
       "    </tr>\n",
       "  </thead>\n",
       "  <tbody>\n",
       "    <tr>\n",
       "      <th>6945</th>\n",
       "      <td>vereda</td>\n",
       "      <td>False</td>\n",
       "      <td>1.000000</td>\n",
       "      <td>[vereda]</td>\n",
       "      <td>1</td>\n",
       "      <td>False</td>\n",
       "      <td>False</td>\n",
       "    </tr>\n",
       "    <tr>\n",
       "      <th>6948</th>\n",
       "      <td>carta</td>\n",
       "      <td>False</td>\n",
       "      <td>0.500000</td>\n",
       "      <td>[carta, ligia]</td>\n",
       "      <td>2</td>\n",
       "      <td>False</td>\n",
       "      <td>False</td>\n",
       "    </tr>\n",
       "    <tr>\n",
       "      <th>7525</th>\n",
       "      <td>va</td>\n",
       "      <td>False</td>\n",
       "      <td>0.125000</td>\n",
       "      <td>[papá, menos, va, matar, van, acá, aplazó, fab...</td>\n",
       "      <td>8</td>\n",
       "      <td>False</td>\n",
       "      <td>False</td>\n",
       "    </tr>\n",
       "    <tr>\n",
       "      <th>6982</th>\n",
       "      <td>aquí</td>\n",
       "      <td>False</td>\n",
       "      <td>0.250000</td>\n",
       "      <td>[colombia, tocaya, aquí, ahora]</td>\n",
       "      <td>4</td>\n",
       "      <td>False</td>\n",
       "      <td>False</td>\n",
       "    </tr>\n",
       "    <tr>\n",
       "      <th>13964</th>\n",
       "      <td>consigo</td>\n",
       "      <td>False</td>\n",
       "      <td>0.250000</td>\n",
       "      <td>[igual, consigo, tocaya, fabiola]</td>\n",
       "      <td>4</td>\n",
       "      <td>False</td>\n",
       "      <td>False</td>\n",
       "    </tr>\n",
       "    <tr>\n",
       "      <th>205</th>\n",
       "      <td>así</td>\n",
       "      <td>False</td>\n",
       "      <td>0.035620</td>\n",
       "      <td>[llamó, miguel, temprano, entonces, contenta, ...</td>\n",
       "      <td>2274</td>\n",
       "      <td>True</td>\n",
       "      <td>True</td>\n",
       "    </tr>\n",
       "    <tr>\n",
       "      <th>3981</th>\n",
       "      <td>mota</td>\n",
       "      <td>False</td>\n",
       "      <td>0.333333</td>\n",
       "      <td>[mugre, fabiola, mota]</td>\n",
       "      <td>3</td>\n",
       "      <td>False</td>\n",
       "      <td>False</td>\n",
       "    </tr>\n",
       "    <tr>\n",
       "      <th>6963</th>\n",
       "      <td>septiembre</td>\n",
       "      <td>False</td>\n",
       "      <td>0.333333</td>\n",
       "      <td>[tocaya, veintitrés, septiembre]</td>\n",
       "      <td>3</td>\n",
       "      <td>False</td>\n",
       "      <td>False</td>\n",
       "    </tr>\n",
       "    <tr>\n",
       "      <th>6969</th>\n",
       "      <td>tocaya</td>\n",
       "      <td>False</td>\n",
       "      <td>0.250000</td>\n",
       "      <td>[tocaya, fabiola, ir, javier]</td>\n",
       "      <td>4</td>\n",
       "      <td>False</td>\n",
       "      <td>False</td>\n",
       "    </tr>\n",
       "    <tr>\n",
       "      <th>6971</th>\n",
       "      <td>pañal</td>\n",
       "      <td>False</td>\n",
       "      <td>0.200000</td>\n",
       "      <td>[tocaya, fabiola, interesante, cambié, pañal]</td>\n",
       "      <td>5</td>\n",
       "      <td>False</td>\n",
       "      <td>False</td>\n",
       "    </tr>\n",
       "    <tr>\n",
       "      <th>10895</th>\n",
       "      <td>pañal</td>\n",
       "      <td>False</td>\n",
       "      <td>0.333333</td>\n",
       "      <td>[cambié, pañal, fabiola]</td>\n",
       "      <td>3</td>\n",
       "      <td>False</td>\n",
       "      <td>False</td>\n",
       "    </tr>\n",
       "    <tr>\n",
       "      <th>7102</th>\n",
       "      <td>pañal</td>\n",
       "      <td>False</td>\n",
       "      <td>0.333333</td>\n",
       "      <td>[fabiola, cambié, pañal]</td>\n",
       "      <td>3</td>\n",
       "      <td>False</td>\n",
       "      <td>False</td>\n",
       "    </tr>\n",
       "  </tbody>\n",
       "</table>\n",
       "</div>"
      ],
      "text/plain": [
       "      most_common    oov    purity  \\\n",
       "6945       vereda  False  1.000000   \n",
       "6948        carta  False  0.500000   \n",
       "7525           va  False  0.125000   \n",
       "6982         aquí  False  0.250000   \n",
       "13964     consigo  False  0.250000   \n",
       "205           así  False  0.035620   \n",
       "3981         mota  False  0.333333   \n",
       "6963   septiembre  False  0.333333   \n",
       "6969       tocaya  False  0.250000   \n",
       "6971        pañal  False  0.200000   \n",
       "10895       pañal  False  0.333333   \n",
       "7102        pañal  False  0.333333   \n",
       "\n",
       "                                                   words  depth cross_seg  \\\n",
       "6945                                            [vereda]      1     False   \n",
       "6948                                      [carta, ligia]      2     False   \n",
       "7525   [papá, menos, va, matar, van, acá, aplazó, fab...      8     False   \n",
       "6982                     [colombia, tocaya, aquí, ahora]      4     False   \n",
       "13964                  [igual, consigo, tocaya, fabiola]      4     False   \n",
       "205    [llamó, miguel, temprano, entonces, contenta, ...   2274      True   \n",
       "3981                              [mugre, fabiola, mota]      3     False   \n",
       "6963                    [tocaya, veintitrés, septiembre]      3     False   \n",
       "6969                       [tocaya, fabiola, ir, javier]      4     False   \n",
       "6971       [tocaya, fabiola, interesante, cambié, pañal]      5     False   \n",
       "10895                           [cambié, pañal, fabiola]      3     False   \n",
       "7102                            [fabiola, cambié, pañal]      3     False   \n",
       "\n",
       "      cross_file  \n",
       "6945       False  \n",
       "6948       False  \n",
       "7525       False  \n",
       "6982       False  \n",
       "13964      False  \n",
       "205         True  \n",
       "3981       False  \n",
       "6963       False  \n",
       "6969       False  \n",
       "6971       False  \n",
       "10895      False  \n",
       "7102       False  "
      ]
     },
     "metadata": {},
     "output_type": "display_data"
    },
    {
     "name": "stdout",
     "output_type": "stream",
     "text": [
      "sí mira bueno esta es la de colombia y era mi tocaya también fabiola se llamaba fabiola mota\n"
     ]
    }
   ],
   "source": [
    "sid = '083.205'\n",
    "display(clusters_df[view_cols].ix[list(sid_to_cids[sid])])\n",
    "# display(clusters_df.sids[list(sid_to_cids[sid])])\n",
    "print(' '.join([a.word.lower() for a in align_dict[sid.split('.')[0]][sid]['es']]))"
   ]
  },
  {
   "cell_type": "code",
   "execution_count": 68,
   "metadata": {
    "collapsed": false
   },
   "outputs": [
    {
     "data": {
      "text/html": [
       "<div>\n",
       "<table border=\"1\" class=\"dataframe\">\n",
       "  <thead>\n",
       "    <tr style=\"text-align: right;\">\n",
       "      <th></th>\n",
       "      <th>n1</th>\n",
       "      <th>n2</th>\n",
       "      <th>dtw</th>\n",
       "      <th>es_sim</th>\n",
       "      <th>es_cnt_sim</th>\n",
       "      <th>en_j_sim</th>\n",
       "    </tr>\n",
       "  </thead>\n",
       "  <tbody>\n",
       "    <tr>\n",
       "      <th>4361</th>\n",
       "      <td>13465</td>\n",
       "      <td>13466</td>\n",
       "      <td>0.999</td>\n",
       "      <td>1</td>\n",
       "      <td>1</td>\n",
       "      <td>1.000000</td>\n",
       "    </tr>\n",
       "    <tr>\n",
       "      <th>2869</th>\n",
       "      <td>18715</td>\n",
       "      <td>18716</td>\n",
       "      <td>0.999</td>\n",
       "      <td>1</td>\n",
       "      <td>1</td>\n",
       "      <td>0.250000</td>\n",
       "    </tr>\n",
       "    <tr>\n",
       "      <th>12798</th>\n",
       "      <td>12919</td>\n",
       "      <td>12920</td>\n",
       "      <td>0.999</td>\n",
       "      <td>1</td>\n",
       "      <td>1</td>\n",
       "      <td>0.222222</td>\n",
       "    </tr>\n",
       "    <tr>\n",
       "      <th>4709</th>\n",
       "      <td>55845</td>\n",
       "      <td>55846</td>\n",
       "      <td>0.999</td>\n",
       "      <td>1</td>\n",
       "      <td>1</td>\n",
       "      <td>0.200000</td>\n",
       "    </tr>\n",
       "    <tr>\n",
       "      <th>9457</th>\n",
       "      <td>9885</td>\n",
       "      <td>9886</td>\n",
       "      <td>0.999</td>\n",
       "      <td>1</td>\n",
       "      <td>1</td>\n",
       "      <td>0.142857</td>\n",
       "    </tr>\n",
       "  </tbody>\n",
       "</table>\n",
       "</div>"
      ],
      "text/plain": [
       "          n1     n2    dtw  es_sim  es_cnt_sim  en_j_sim\n",
       "4361   13465  13466  0.999       1           1  1.000000\n",
       "2869   18715  18716  0.999       1           1  0.250000\n",
       "12798  12919  12920  0.999       1           1  0.222222\n",
       "4709   55845  55846  0.999       1           1  0.200000\n",
       "9457    9885   9886  0.999       1           1  0.142857"
      ]
     },
     "execution_count": 68,
     "metadata": {},
     "output_type": "execute_result"
    }
   ],
   "source": [
    "(eval_df.sort_values('dtw', ascending=False, inplace=False)).head(5)"
   ]
  },
  {
   "cell_type": "code",
   "execution_count": 69,
   "metadata": {
    "collapsed": false
   },
   "outputs": [
    {
     "data": {
      "text/plain": [
       "<matplotlib.axes._subplots.AxesSubplot at 0x7f61d854f450>"
      ]
     },
     "execution_count": 69,
     "metadata": {},
     "output_type": "execute_result"
    },
    {
     "data": {
      "image/png": "[encoded data removed]",
      "text/plain": [
       "<matplotlib.figure.Figure at 0x7f61d8519d10>"
      ]
     },
     "metadata": {},
     "output_type": "display_data"
    }
   ],
   "source": [
    "# clusters_df['purity'].hist()\n",
    "clusters_df.purity[clusters_df.cross_seg == True].hist(alpha=0.5, bins=5)\n",
    "clusters_df.purity[clusters_df.cross_file == True].hist(alpha=0.5, bins=5)"
   ]
  },
  {
   "cell_type": "code",
   "execution_count": 70,
   "metadata": {
    "collapsed": false
   },
   "outputs": [
    {
     "data": {
      "text/plain": [
       "0.339489235964542"
      ]
     },
     "execution_count": 70,
     "metadata": {},
     "output_type": "execute_result"
    }
   ],
   "source": [
    "calc_avg_purity(clusters_df)"
   ]
  },
  {
   "cell_type": "code",
   "execution_count": 71,
   "metadata": {
    "collapsed": false
   },
   "outputs": [
    {
     "data": {
      "text/plain": [
       "0.58412698412698416"
      ]
     },
     "execution_count": 71,
     "metadata": {},
     "output_type": "execute_result"
    }
   ],
   "source": [
    "calc_avg_purity(clusters_df[clusters_df.same_seg])"
   ]
  },
  {
   "cell_type": "code",
   "execution_count": 72,
   "metadata": {
    "collapsed": false
   },
   "outputs": [
    {
     "data": {
      "text/plain": [
       "414"
      ]
     },
     "execution_count": 72,
     "metadata": {},
     "output_type": "execute_result"
    }
   ],
   "source": [
    "len(clusters_df[(clusters_df.cross_seg ==  True) & (clusters_df.cross_file == True)])"
   ]
  },
  {
   "cell_type": "code",
   "execution_count": 73,
   "metadata": {
    "collapsed": false
   },
   "outputs": [
    {
     "data": {
      "text/plain": [
       "0.45785876993166286"
      ]
     },
     "execution_count": 73,
     "metadata": {},
     "output_type": "execute_result"
    }
   ],
   "source": [
    "calc_avg_purity(clusters_df[clusters_df.cross_seg & (clusters_df.cross_file == False)])"
   ]
  },
  {
   "cell_type": "code",
   "execution_count": 74,
   "metadata": {
    "collapsed": false
   },
   "outputs": [
    {
     "data": {
      "text/plain": [
       "0.13476230899830222"
      ]
     },
     "execution_count": 74,
     "metadata": {},
     "output_type": "execute_result"
    }
   ],
   "source": [
    "calc_avg_purity(clusters_df[clusters_df.cross_file])"
   ]
  },
  {
   "cell_type": "code",
   "execution_count": 75,
   "metadata": {
    "collapsed": false
   },
   "outputs": [
    {
     "data": {
      "text/plain": [
       "(0.22306684141546526, 0.30580337162464566)"
      ]
     },
     "execution_count": 75,
     "metadata": {},
     "output_type": "execute_result"
    }
   ],
   "source": [
    "calc_avg_purity(clusters_df[clusters_df.is_dev]), calc_avg_purity(clusters_df[clusters_df.is_train])"
   ]
  },
  {
   "cell_type": "code",
   "execution_count": 76,
   "metadata": {
    "collapsed": false
   },
   "outputs": [
    {
     "data": {
      "text/plain": [
       "(414, 15089)"
      ]
     },
     "execution_count": 76,
     "metadata": {},
     "output_type": "execute_result"
    }
   ],
   "source": [
    "len(clusters_df[clusters_df.cross_file]), len(clusters_df)"
   ]
  },
  {
   "cell_type": "code",
   "execution_count": 77,
   "metadata": {
    "collapsed": false
   },
   "outputs": [
    {
     "data": {
      "text/plain": [
       "1217"
      ]
     },
     "execution_count": 77,
     "metadata": {},
     "output_type": "execute_result"
    }
   ],
   "source": [
    "len(clusters_df[clusters_df.is_dev])"
   ]
  },
  {
   "cell_type": "code",
   "execution_count": 78,
   "metadata": {
    "collapsed": false
   },
   "outputs": [
    {
     "data": {
      "text/plain": [
       "583"
      ]
     },
     "execution_count": 78,
     "metadata": {},
     "output_type": "execute_result"
    }
   ],
   "source": [
    "len(clusters_df[(clusters_df.is_dev == True) & (clusters_df.is_train == False)])"
   ]
  },
  {
   "cell_type": "code",
   "execution_count": 79,
   "metadata": {
    "collapsed": false
   },
   "outputs": [],
   "source": [
    "# !ls ../../../ZRTools/exp/callhome/tmpwav/"
   ]
  },
  {
   "cell_type": "code",
   "execution_count": 80,
   "metadata": {
    "collapsed": true
   },
   "outputs": [],
   "source": [
    "k = 1\n",
    "uttr = \"010.169\"\n",
    "# uttr = \"011.178\"\n",
    "# uttr = \"002.008\""
   ]
  },
  {
   "cell_type": "code",
   "execution_count": 81,
   "metadata": {
    "collapsed": false
   },
   "outputs": [
    {
     "name": "stdout",
     "output_type": "stream",
     "text": [
      "AH BUENO ESA ES LA CUESTIóN OYE BUENO Y\n",
      "OH WELL 'S PROBLEM HEY WELL\n"
     ]
    }
   ],
   "source": [
    "print(\" \".join([w.word.decode(\"utf-8\") for w in align_dict[uttr.split(\".\")[0]][uttr]['es']]))\n",
    "print(\" \".join([w.word.decode(\"utf-8\") for w in align_dict[uttr.split(\".\")[0]][uttr]['en_cnt']]))"
   ]
  },
  {
   "cell_type": "code",
   "execution_count": 82,
   "metadata": {
    "collapsed": false
   },
   "outputs": [
    {
     "name": "stdout",
     "output_type": "stream",
     "text": [
      "AH BUENO CUESTIóN OYE BUENO\n",
      "1303\n"
     ]
    }
   ],
   "source": [
    "print(\" \".join([w.decode(\"utf-8\") for w in gold_feats_dict[uttr]])),\n",
    "print(\" \".join([w.decode(\"utf-8\") for w in feats_dict[uttr]]))"
   ]
  },
  {
   "cell_type": "code",
   "execution_count": 83,
   "metadata": {
    "collapsed": false
   },
   "outputs": [],
   "source": [
    "# pseudo_probs_dict['1354']"
   ]
  },
  {
   "cell_type": "code",
   "execution_count": 84,
   "metadata": {
    "collapsed": false
   },
   "outputs": [
    {
     "name": "stdout",
     "output_type": "stream",
     "text": [
      "YES WELL QUESTION HEY WELL\n",
      "\n"
     ]
    }
   ],
   "source": [
    "print(\" \".join([w.decode(\"utf-8\") for w in mt_gold_pred_dict[k][uttr]])),\n",
    "print(\" \".join([w.decode(\"utf-8\") for w in mt_pseudo_pred_dict[k][uttr]]))"
   ]
  },
  {
   "cell_type": "code",
   "execution_count": 85,
   "metadata": {
    "collapsed": false
   },
   "outputs": [
    {
     "data": {
      "text/plain": [
       "[('087.035', 6),\n",
       " ('108.158', 13),\n",
       " ('092.127', 4),\n",
       " ('083.185', 1),\n",
       " ('085.136', 6),\n",
       " ('096.104', 17),\n",
       " ('119.015', 17),\n",
       " ('104.022', 5),\n",
       " ('095.195', 11),\n",
       " ('085.126', 4),\n",
       " ('112.054', 5),\n",
       " ('117.106', 5),\n",
       " ('086.244', 5),\n",
       " ('106.184', 11),\n",
       " ('105.037', 3),\n",
       " ('088.165', 11),\n",
       " ('113.114', 1),\n",
       " ('085.038', 4),\n",
       " ('093.330', 3),\n",
       " ('114.130', 3),\n",
       " ('091.225', 9),\n",
       " ('103.002', 6),\n",
       " ('105.137', 4),\n",
       " ('111.110', 2),\n",
       " ('119.025', 16),\n",
       " ('114.009', 8),\n",
       " ('095.055', 7),\n",
       " ('111.167', 27),\n",
       " ('081.259', 40),\n",
       " ('115.170', 15),\n",
       " ('095.084', 6),\n",
       " ('106.113', 6),\n",
       " ('105.127', 1)]"
      ]
     },
     "execution_count": 85,
     "metadata": {},
     "output_type": "execute_result"
    }
   ],
   "source": [
    "[(key, v['t']) for key,v in mt_pseudo_eval_dict['dev'][k].items() if type(v) == dict and v['cp'] == 1]"
   ]
  },
  {
   "cell_type": "markdown",
   "metadata": {
    "collapsed": true
   },
   "source": [
    "## Calculate duration in dev, test, and training sets"
   ]
  },
  {
   "cell_type": "code",
   "execution_count": 86,
   "metadata": {
    "collapsed": false
   },
   "outputs": [],
   "source": [
    "merged_fa_vads_path = config['es']['es_merge_fa_vad']"
   ]
  },
  {
   "cell_type": "code",
   "execution_count": 87,
   "metadata": {
    "collapsed": true
   },
   "outputs": [],
   "source": [
    "dur = {\"tot\":{}, \"ge500ms\":{}}"
   ]
  },
  {
   "cell_type": "code",
   "execution_count": 88,
   "metadata": {
    "collapsed": false
   },
   "outputs": [],
   "source": [
    "vad_flist = [os.path.join(merged_fa_vads_path, fil) for fil in os.listdir(merged_fa_vads_path) if fil.endswith(\".vad\")]"
   ]
  },
  {
   "cell_type": "code",
   "execution_count": 89,
   "metadata": {
    "collapsed": false
   },
   "outputs": [
    {
     "name": "stdout",
     "output_type": "stream",
     "text": [
      "Completed calculating durations\n"
     ]
    }
   ],
   "source": [
    "for vad_fname in vad_flist:\n",
    "    with open(vad_fname, \"r\") as in_f:\n",
    "        dur_key = int(os.path.splitext(os.path.basename(vad_fname))[0])\n",
    "        dur[\"tot\"][dur_key] = 0\n",
    "        dur[\"ge500ms\"][dur_key] = 0\n",
    "        for line in in_f:\n",
    "            start, end = map(int, line.strip().split())\n",
    "            dur_ms = ((end-start) * 10)\n",
    "            dur[\"tot\"][dur_key] += dur_ms\n",
    "            dur[\"ge500ms\"][dur_key] += (dur_ms if dur_ms >= 500 else 0)\n",
    "print(\"Completed calculating durations\")"
   ]
  },
  {
   "cell_type": "code",
   "execution_count": 90,
   "metadata": {
    "collapsed": true
   },
   "outputs": [],
   "source": [
    "def check_dur(dur_list, startid, endid):\n",
    "    filtered_dur = [(f,d) for f, d in dur_list if f >= startid and f <= endid]\n",
    "    dur = sum([d for f, d in filtered_dur])\n",
    "    return filtered_dur, dur/(1000 * 3600)"
   ]
  },
  {
   "cell_type": "code",
   "execution_count": 91,
   "metadata": {
    "collapsed": false
   },
   "outputs": [
    {
     "name": "stdout",
     "output_type": "stream",
     "text": [
      "total dur: 9.565(hrs), dur >= 500ms: 8.527(hrs)\n",
      "71 71\n"
     ]
    }
   ],
   "source": [
    "# Train set duration\n",
    "train_dur_list, t_dur = check_dur(dur[\"tot\"].items(), 41, 120)\n",
    "train_dur_500ms_list, t_dur_500ms = check_dur(dur[\"ge500ms\"].items(), 41, 120)\n",
    "print(\"total dur: %.3f(hrs), dur >= 500ms: %.3f(hrs)\" %(t_dur, t_dur_500ms))\n",
    "t_files = sum([1 for f, d in train_dur_500ms_list if d > 0])\n",
    "print(t_files, len(train_dur_500ms_list))"
   ]
  },
  {
   "cell_type": "code",
   "execution_count": 92,
   "metadata": {
    "collapsed": false
   },
   "outputs": [
    {
     "name": "stdout",
     "output_type": "stream",
     "text": [
      "total dur: 1.788(hrs), dur >= 500ms: 1.584(hrs)\n",
      "13 13\n"
     ]
    }
   ],
   "source": [
    "# dev set duration\n",
    "dev_dur_list, d_dur = check_dur(dur[\"tot\"].items(), 1, 20)\n",
    "dev_dur_500ms_list, d_dur_500ms = check_dur(dur[\"ge500ms\"].items(), 1, 20)\n",
    "print(\"total dur: %.3f(hrs), dur >= 500ms: %.3f(hrs)\" %(d_dur, d_dur_500ms))\n",
    "d_files = sum([1 for f, d in dev_dur_500ms_list if d > 0])\n",
    "print(d_files, len(dev_dur_500ms_list))"
   ]
  },
  {
   "cell_type": "code",
   "execution_count": 93,
   "metadata": {
    "collapsed": false
   },
   "outputs": [
    {
     "name": "stdout",
     "output_type": "stream",
     "text": [
      "total dur (hrs) 1.351\n",
      "total dur (hrs) 1.218\n",
      "total dur: 1.351(hrs), dur >= 500ms: 1.218(hrs)\n",
      "20 20\n"
     ]
    }
   ],
   "source": [
    "# test set duration\n",
    "print(\"total dur (hrs) %.3f\" % (sum([d for f, d in dur[\"tot\"].items() if f >= 21 and f <= 40]) / (1000 * 3600)))\n",
    "print(\"total dur (hrs) %.3f\" % (sum([d for f, d in dur[\"ge500ms\"].items() if f >= 21 and f <= 40]) / (1000 * 3600)))\n",
    "\n",
    "test_dur_list, t_dur = check_dur(dur[\"tot\"].items(), 21, 40)\n",
    "test_dur_500ms_list, t_dur_500ms = check_dur(dur[\"ge500ms\"].items(), 21, 40)\n",
    "print(\"total dur: %.3f(hrs), dur >= 500ms: %.3f(hrs)\" %(t_dur, t_dur_500ms))\n",
    "t_files = sum([1 for f, d in test_dur_500ms_list if d > 0])\n",
    "print(t_files, len(test_dur_500ms_list))"
   ]
  },
  {
   "cell_type": "code",
   "execution_count": 94,
   "metadata": {
    "collapsed": false
   },
   "outputs": [
    {
     "name": "stdout",
     "output_type": "stream",
     "text": [
      "total dur: 4.360(hrs), dur >= 500ms: 3.886(hrs)\n",
      "32 32\n",
      "total dur: 0.509(hrs), dur >= 500ms: 0.446(hrs)\n",
      "4 4\n"
     ]
    }
   ],
   "source": [
    "# Train subset duration\n",
    "train_dur_list, t_dur = check_dur(dur[\"tot\"].items(), 85, 120)\n",
    "train_dur_500ms_list, t_dur_500ms = check_dur(dur[\"ge500ms\"].items(), 85, 120)\n",
    "print(\"total dur: %.3f(hrs), dur >= 500ms: %.3f(hrs)\" %(t_dur, t_dur_500ms))\n",
    "t_files = sum([1 for f, d in train_dur_500ms_list if d > 0])\n",
    "print(t_files, len(train_dur_500ms_list))\n",
    "\n",
    "# Dev subset duration\n",
    "train_dur_list, t_dur = check_dur(dur[\"tot\"].items(), 81, 84)\n",
    "train_dur_500ms_list, t_dur_500ms = check_dur(dur[\"ge500ms\"].items(), 81, 84)\n",
    "print(\"total dur: %.3f(hrs), dur >= 500ms: %.3f(hrs)\" %(t_dur, t_dur_500ms))\n",
    "t_files = sum([1 for f, d in train_dur_500ms_list if d > 0])\n",
    "print(t_files, len(train_dur_500ms_list))"
   ]
  }
 ],
 "metadata": {
  "kernelspec": {
   "display_name": "Python 2",
   "language": "python",
   "name": "python2"
  },
  "language_info": {
   "codemirror_mode": {
    "name": "ipython",
    "version": 2
   },
   "file_extension": ".py",
   "mimetype": "text/x-python",
   "name": "python",
   "nbconvert_exporter": "python",
   "pygments_lexer": "ipython2",
   "version": "2.7.12"
  }
 },
 "nbformat": 4,
 "nbformat_minor": 0
}
