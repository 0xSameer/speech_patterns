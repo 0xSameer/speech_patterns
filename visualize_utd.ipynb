{
 "cells": [
  {
   "cell_type": "code",
   "execution_count": 1,
   "metadata": {
    "collapsed": false
   },
   "outputs": [],
   "source": [
    "from __future__ import print_function\n",
    "from __future__ import division\n",
    "import os\n",
    "import cPickle as pickle\n",
    "import json\n",
    "import subprocess\n",
    "from IPython.display import display\n",
    "from IPython.display import Audio\n",
    "import bisect\n",
    "from collections import namedtuple\n",
    "import numpy as np\n",
    "import pandas as pd\n",
    "from collections import Counter\n",
    "from prettytable import PrettyTable\n",
    "import matplotlib.pyplot as plt\n",
    "import seaborn as sns\n",
    "import textwrap\n",
    "import nltk\n",
    "from nltk.corpus import stopwords\n",
    "\n",
    "from matplotlib.ticker import MultipleLocator, \\\n",
    "     FormatStrFormatter, AutoMinorLocator\n",
    "%matplotlib inline"
   ]
  },
  {
   "cell_type": "code",
   "execution_count": 2,
   "metadata": {
    "collapsed": false
   },
   "outputs": [
    {
     "data": {
      "text/plain": [
       "array([ 1,  2,  3,  4,  5,  6,  7,  8,  9, 10, 11, 12, 13, 14, 15, 16, 17,\n",
       "       18, 19])"
      ]
     },
     "execution_count": 2,
     "metadata": {},
     "output_type": "execute_result"
    }
   ],
   "source": [
    "np.arange(1,20)"
   ]
  },
  {
   "cell_type": "code",
   "execution_count": 3,
   "metadata": {
    "collapsed": false
   },
   "outputs": [
    {
     "data": {
      "image/png": "[encoded data removed]",
      "text/plain": [
       "<matplotlib.figure.Figure at 0x7f0ac81c8510>"
      ]
     },
     "metadata": {},
     "output_type": "display_data"
    }
   ],
   "source": [
    "# sns.palplot(sns.color_palette(\"Blues\", 10))\n",
    "\n",
    "# Set up the matplotlib figure\n",
    "f, ax1 = plt.subplots(1, 1, figsize=(10, 2), sharex=True)\n",
    "\n",
    "# Generate some sequential data\n",
    "x = np.arange(1,1001)\n",
    "y1 = 2*np.ones(1000)\n",
    "# sns.barplot(x, y1, palette=\"Blues_d\", edgecolor='0', ax=ax1, width=1)\n",
    "plt.bar(x, y1, width=1, color=[plt.cm.Blues((1.0*i/len(x))) for i in x], edgecolor='')\n",
    "# ax1.set_ylabel(\"Sequential\")\n",
    "ax1.set_xlim(1,1000)\n",
    "ax1.set_xticks([])\n",
    "ax1.set_yticks([])\n",
    "ax1.text(0, -.3, r'zero resource', fontsize=18)\n",
    "ax1.text(400, -.3, r'low resource', fontsize=18)\n",
    "ax1.text(800, -.3, r'high resource', fontsize=18)\n",
    "ax1.axvline(200, linestyle='--', color='k')\n",
    "ax1.axvline(800, linestyle='--', color='k')\n",
    "f.tight_layout()\n",
    "f.savefig(\"resource.png\")\n",
    "\n",
    "# # Center the data to make it diverging\n",
    "# y2 = y1 - 5\n",
    "# sns.barplot(x, y2, palette=\"RdBu_r\", ax=ax2)\n",
    "# ax2.set_ylabel(\"Diverging\")"
   ]
  },
  {
   "cell_type": "code",
   "execution_count": 4,
   "metadata": {
    "collapsed": true
   },
   "outputs": [],
   "source": [
    "with open(\"config.json\") as json_data_file:\n",
    "    config = json.load(json_data_file)"
   ]
  },
  {
   "cell_type": "code",
   "execution_count": 5,
   "metadata": {
    "collapsed": false
   },
   "outputs": [],
   "source": [
    "nodes_fname = config[\"es\"]['nodes_fname']\n",
    "seg_nodes_fname = config[\"es\"]['seg_nodes_fname']\n",
    "nodes_dict_fname = config[\"es\"]['nodes_dict_fname']\n",
    "\n",
    "edges_utd_fname = config[\"es\"]['edges_utd_fname']\n",
    "edges_olap_fname = config[\"es\"]['edges_olap_fname']\n",
    "edges_all_fname = config[\"es\"]['edges_all_fname']\n",
    "edges_score_fname = config[\"es\"]['edges_score_fname']\n",
    "\n",
    "clusters_utd_fname = config['es']['clusters_utd_fname']\n",
    "clusters_fname = config['es']['clusters_fname']\n",
    "clusters_stats_fname = config['es']['clusters_stats_fname']\n",
    "\n",
    "pairs_fname = config['es']['score_pairs_fname']\n",
    "eval_fname = config['es']['eval_pairs_fname']\n",
    "\n",
    "feats_fname = config['es']['feats_fname']\n",
    "\n",
    "# Gold feats\n",
    "gold_feats_dict_fname = config['es']['gold_feats']\n",
    "# Pseudo feats\n",
    "feats_dict_fname = config['es']['feats_dict_fname']\n",
    "\n",
    "gold_probs_fname = config['es']['mt_probs_gold']\n",
    "gold_probs_dict_fname = config['es']['mt_probs_dict_gold']\n",
    "\n",
    "pseudo_probs_fname = config['es']['mt_probs_pseudo']\n",
    "pseudo_probs_dict_fname = config['es']['mt_probs_dict_pseudo']\n",
    "\n",
    "train_segment_list_fname = config['es']['mt_train_files']\n",
    "dev_segment_list_fname = config['es']['mt_dev_files']\n",
    "\n",
    "gold_corpus_fname = config['es']['mt_corpus_train_gold']\n",
    "pseudo_corpus_fname = config['es']['mt_corpus_train_pseudo']\n",
    "\n",
    "mt_gold_pred_dict_fname = config['es']['mt_gold_pred_dict']\n",
    "mt_pseudo_pred_dict_fname = config['es']['mt_pseudo_pred_dict']\n",
    "\n",
    "mt_gold_eval_dict_fname = config['es']['mt_gold_eval_dict']\n",
    "mt_pseudo_eval_dict_fname = config['es']['mt_pseudo_eval_dict']\n",
    "\n",
    "es_merge_wavs_path = config['es']['es_merge_wavs']\n",
    "utd_wavs_path = config['es']['utd_wavs']\n",
    "\n",
    "utd_tmp_wav_path = config['es']['utd_wavs']"
   ]
  },
  {
   "cell_type": "code",
   "execution_count": 6,
   "metadata": {
    "collapsed": true
   },
   "outputs": [],
   "source": [
    "Align = namedtuple('Align', ['word', 'start', 'end'])\n",
    "Node = namedtuple('Node', ['file', 'seg', 'start', 'end', 'es', 'es_cnt'])\n",
    "Eval = namedtuple('Eval', ['n1', 'n2', 'dtw', 'es_sim', 'es_cnt_sim', 'en_j_sim'])"
   ]
  },
  {
   "cell_type": "code",
   "execution_count": 43,
   "metadata": {
    "collapsed": false
   },
   "outputs": [],
   "source": [
    "segment_map = pickle.load(open(config['es']['segment_dict_fname'], \"rb\"))\n",
    "align_dict = pickle.load(open(config['es']['align_dict_fname'], \"rb\"))\n",
    "nodes_dict = pickle.load(open(nodes_dict_fname, \"rb\"))\n",
    "pairs_list = pickle.load(open(pairs_fname, \"rb\"))\n",
    "eval_dict = pickle.load(open(eval_fname, \"rb\"))\n",
    "clusters = pickle.load(open(clusters_fname, \"rb\"))\n",
    "clusters_stats = pickle.load(open(clusters_stats_fname, \"rb\"))\n",
    "feats_dict = pickle.load(open(feats_dict_fname, \"rb\"))\n",
    "gold_feats_dict = pickle.load(open(gold_feats_dict_fname, \"rb\"))\n",
    "\n",
    "if os.path.exists(gold_probs_dict_fname):\n",
    "    gold_probs_dict = pickle.load(open(gold_probs_dict_fname, \"rb\"))\n",
    "\n",
    "if os.path.exists(pseudo_probs_dict_fname):\n",
    "    pseudo_probs_dict = pickle.load(open(pseudo_probs_dict_fname, \"rb\"))\n",
    "\n",
    "if os.path.exists(mt_gold_pred_dict_fname):\n",
    "    mt_gold_pred_dict = pickle.load(open(mt_gold_pred_dict_fname, \"rb\"))\n",
    "    \n",
    "if os.path.exists(mt_pseudo_pred_dict_fname):\n",
    "    mt_pseudo_pred_dict = pickle.load(open(mt_pseudo_pred_dict_fname, \"rb\"))\n",
    "    \n",
    "if os.path.exists(mt_gold_eval_dict_fname):\n",
    "    mt_gold_eval_dict = pickle.load(open(mt_gold_eval_dict_fname, \"rb\"))\n",
    "    \n",
    "if os.path.exists(mt_pseudo_eval_dict_fname):\n",
    "    mt_pseudo_eval_dict = pickle.load(open(mt_pseudo_eval_dict_fname, \"rb\"))    "
   ]
  },
  {
   "cell_type": "code",
   "execution_count": 46,
   "metadata": {
    "collapsed": false
   },
   "outputs": [
    {
     "data": {
      "text/plain": [
       "(True,\n",
       " u'../../../ZRTools/exp/callhome/matches/config0.87-0.90-0.80-50/mt_gold_pred_dict.p',\n",
       " True,\n",
       " u'../../../ZRTools/exp/callhome/matches/config0.87-0.90-0.80-50/mt_pseudo_eval_dict.p')"
      ]
     },
     "execution_count": 46,
     "metadata": {},
     "output_type": "execute_result"
    }
   ],
   "source": [
    "os.path.exists(mt_gold_pred_dict_fname), mt_gold_pred_dict_fname, os.path.exists(mt_pseudo_eval_dict_fname), mt_pseudo_eval_dict_fname"
   ]
  },
  {
   "cell_type": "code",
   "execution_count": 9,
   "metadata": {
    "collapsed": true
   },
   "outputs": [],
   "source": [
    "def gen_node_wav(nid, nodes_dict, utd_wavs_path, src_wavs_path, segment_map):\n",
    "    pair_wavs_path = os.path.join(utd_wavs_path, \"wavs\")\n",
    "    nid_fname = os.path.join(pair_wavs_path, \"%d.wav\" % nid)\n",
    "    if not os.path.exists(pair_wavs_path):\n",
    "        os.makedirs(pair_wavs_path)\n",
    "    #if os.path.exists(nid_fname):\n",
    "    #    return\n",
    "    \n",
    "    segid = nodes_dict[nid].seg\n",
    "    fid = (segid.split('.')[0]).strip()\n",
    "    \n",
    "    merge_wav_start = segment_map[fid][segid] + nodes_dict[nid].start\n",
    "    merge_wav_end = segment_map[fid][segid] + nodes_dict[nid].end\n",
    "    \n",
    "    merge_wav_fname = os.path.join(src_wavs_path, fid+\".wav\")\n",
    "    \n",
    "    start_time = \"{0:0.2f}\".format(merge_wav_start/100)\n",
    "    end_time = \"={0:0.2f}\".format(merge_wav_end/100)\n",
    "    subprocess.call([\"sox\", merge_wav_fname, nid_fname, \\\n",
    "                     \"trim\", start_time, \"{0:s}\".format(end_time)])\n",
    "    \n",
    "    return Audio(nid_fname)\n",
    "    \n",
    "    "
   ]
  },
  {
   "cell_type": "code",
   "execution_count": 10,
   "metadata": {
    "collapsed": false
   },
   "outputs": [
    {
     "data": {
      "text/html": [
       "\n",
       "                <audio controls=\"controls\" >\n",
       "                    <source src=\"data:audio/x-wav;base64,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\" type=\"audio/x-wav\" />\n",
       "                    Your browser does not support the audio element.\n",
       "                </audio>\n",
       "              "
      ],
      "text/plain": [
       "<IPython.lib.display.Audio object>"
      ]
     },
     "metadata": {},
     "output_type": "display_data"
    }
   ],
   "source": [
    "display(gen_node_wav(1, nodes_dict, utd_wavs_path, es_merge_wavs_path, segment_map))"
   ]
  },
  {
   "cell_type": "code",
   "execution_count": 11,
   "metadata": {
    "collapsed": true
   },
   "outputs": [],
   "source": [
    "def display_pair(pid, eval_dict, nodes_dict, align_dict, utd_wavs_path, src_wavs_path, segment_map):\n",
    "    headers = [\"pair id\", \"nid\", \"ES transcript\", \"EN translation\"]\n",
    "    display_pp = PrettyTable(headers, hrules=True)\n",
    "    \n",
    "    n1 = eval_dict[pid].n1\n",
    "    n2 = eval_dict[pid].n2\n",
    "    \n",
    "    en_1 = ' '.join([x.word for x in align_dict[nodes_dict[n1].file][nodes_dict[n1].seg]['en']])\n",
    "    en_2 = ' '.join([x.word for x in align_dict[nodes_dict[n2].file][nodes_dict[n2].seg]['en']])\n",
    "    \n",
    "    row_1 = [pid, n1, ' '.join(nodes_dict[n1].es), textwrap.fill(en_1,50)]\n",
    "    \n",
    "    row_2 = [pid, n2, ' '.join(nodes_dict[n2].es), textwrap.fill(en_2,50)]\n",
    "    \n",
    "    display_pp.add_row(row_1)\n",
    "    display_pp.add_row(row_2)\n",
    "    print(display_pp)\n",
    "    \n",
    "    display(gen_node_wav(n1, nodes_dict, utd_wavs_path, es_merge_wavs_path, segment_map))\n",
    "    display(gen_node_wav(n2, nodes_dict, utd_wavs_path, es_merge_wavs_path, segment_map))\n",
    "    #print(display_pp.get_html_string())\n",
    "\n",
    "    "
   ]
  },
  {
   "cell_type": "code",
   "execution_count": 14,
   "metadata": {
    "collapsed": false
   },
   "outputs": [
    {
     "name": "stdout",
     "output_type": "stream",
     "text": [
      "+---------+-------+------------------------+---------------------------------------------------+\n",
      "| pair id |  nid  |     ES transcript      |                   EN translation                  |\n",
      "+---------+-------+------------------------+---------------------------------------------------+\n",
      "|  16210  | 19997 | CINCO OCHO CUATRO SEIS |                FIVE EIGHT FOUR SIX                |\n",
      "+---------+-------+------------------------+---------------------------------------------------+\n",
      "|  16210  | 19998 | CINCO OCHO CUATRO SEIS | EH SEE FOUR THE ONLY THING WANT KNOW IS THAT THAT |\n",
      "|         |       |                        |   THE PHONE IS RIGHT FOUR EIGHT THREE FIVE EIGHT  |\n",
      "|         |       |                        |  FOUR SIX IS THE MOST IMPORTANT THING BECAUSE THE |\n",
      "|         |       |                        |                  WASHINGTON CODE                  |\n",
      "+---------+-------+------------------------+---------------------------------------------------+\n"
     ]
    },
    {
     "data": {
      "text/html": [
       "\n",
       "                <audio controls=\"controls\" >\n",
       "                    <source src=\"data:audio/x-wav;base64,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\" type=\"audio/x-wav\" />\n",
       "                    Your browser does not support the audio element.\n",
       "                </audio>\n",
       "              "
      ],
      "text/plain": [
       "<IPython.lib.display.Audio object>"
      ]
     },
     "metadata": {},
     "output_type": "display_data"
    },
    {
     "data": {
      "text/html": [
       "\n",
       "                <audio controls=\"controls\" >\n",
       "                    <source src=\"data:audio/x-wav;base64,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\" type=\"audio/x-wav\" />\n",
       "                    Your browser does not support the audio element.\n",
       "                </audio>\n",
       "              "
      ],
      "text/plain": [
       "<IPython.lib.display.Audio object>"
      ]
     },
     "metadata": {},
     "output_type": "display_data"
    }
   ],
   "source": [
    "display_pair(16210, eval_dict, nodes_dict, align_dict, utd_wavs_path, es_merge_wavs_path, segment_map)"
   ]
  },
  {
   "cell_type": "markdown",
   "metadata": {},
   "source": [
    "## Cluster analysis"
   ]
  },
  {
   "cell_type": "code",
   "execution_count": 15,
   "metadata": {
    "collapsed": false
   },
   "outputs": [
    {
     "data": {
      "text/plain": [
       "(u'../files-train-segments-sf-10.txt', u'../files-dev-segments-sf-10.txt')"
      ]
     },
     "execution_count": 15,
     "metadata": {},
     "output_type": "execute_result"
    }
   ],
   "source": [
    "train_segment_list_fname, dev_segment_list_fname"
   ]
  },
  {
   "cell_type": "code",
   "execution_count": 16,
   "metadata": {
    "collapsed": true
   },
   "outputs": [],
   "source": [
    "train_fids = []\n",
    "train_sids = []\n",
    "with open(train_segment_list_fname, \"r\") as in_f:\n",
    "    for line in in_f:\n",
    "        train_fids.append(line.strip().split(\".\")[0])\n",
    "        train_sids.append(line.strip())\n",
    "train_fids = set(train_fids)\n",
    "train_sids = set(train_sids)"
   ]
  },
  {
   "cell_type": "code",
   "execution_count": 17,
   "metadata": {
    "collapsed": true
   },
   "outputs": [],
   "source": [
    "dev_fids = []\n",
    "dev_sids = []\n",
    "with open(dev_segment_list_fname, \"r\") as in_f:\n",
    "    for line in in_f:\n",
    "        dev_fids.append(line.strip().split(\".\")[0])\n",
    "        dev_sids.append(line.strip())\n",
    "dev_fids = set(dev_fids)\n",
    "dev_sids = set(dev_sids)"
   ]
  },
  {
   "cell_type": "code",
   "execution_count": 18,
   "metadata": {
    "collapsed": false
   },
   "outputs": [],
   "source": [
    "clusters_stats['is_dev'] = []\n",
    "clusters_stats['is_train'] = []\n",
    "clusters_stats['oov'] = []\n",
    "for sids in clusters_stats['sids']:\n",
    "    is_in_dev = len(dev_sids & set(sids)) > 0\n",
    "    is_in_train = len(train_sids & set(sids)) > 0\n",
    "    clusters_stats['is_dev'].append(is_in_dev)\n",
    "    clusters_stats['is_train'].append(is_in_train)\n",
    "    clusters_stats['oov'].append(is_in_dev and not is_in_train)\n",
    "\n",
    "clusters_stats['dev_depth'] = []\n",
    "clusters_stats['train_depth'] = []\n",
    "for nlist in clusters_stats['sids']:\n",
    "    clusters_stats['dev_depth'].append(len([i for i in nlist if i in dev_sids]))\n",
    "    clusters_stats['train_depth'].append(len([i for i in nlist if i in train_sids]))\n"
   ]
  },
  {
   "cell_type": "code",
   "execution_count": 19,
   "metadata": {
    "collapsed": false
   },
   "outputs": [
    {
     "name": "stdout",
     "output_type": "stream",
     "text": [
      "597\n",
      "643\n",
      "1374\n"
     ]
    }
   ],
   "source": [
    "num_oov = sum([i for i in clusters_stats['oov']])\n",
    "print(num_oov)\n",
    "sum_oov = sum([d for i, d in enumerate(clusters_stats['dev_depth']) if clusters_stats['oov'][i]])\n",
    "total_pwords = sum([d for i, d in enumerate(clusters_stats['dev_depth']) if clusters_stats['is_dev'][i]])\n",
    "print(sum_oov)\n",
    "print(total_pwords)"
   ]
  },
  {
   "cell_type": "code",
   "execution_count": 20,
   "metadata": {
    "collapsed": false
   },
   "outputs": [
    {
     "data": {
      "text/plain": [
       "3324"
      ]
     },
     "execution_count": 20,
     "metadata": {},
     "output_type": "execute_result"
    }
   ],
   "source": [
    "2674 + 650"
   ]
  },
  {
   "cell_type": "code",
   "execution_count": 51,
   "metadata": {
    "collapsed": false
   },
   "outputs": [
    {
     "name": "stdout",
     "output_type": "stream",
     "text": [
      "+-------------+-----+---------+---------------+\n",
      "| Total words | oov | Missing | oov + missing |\n",
      "+-------------+-----+---------+---------------+\n",
      "|     1699    | 643 |   325   |      968      |\n",
      "+-------------+-----+---------+---------------+\n",
      "+-------------+-----------+\n",
      "| total vocab | oov vocab |\n",
      "+-------------+-----------+\n",
      "|     1255    |    597    |\n",
      "+-------------+-----------+\n",
      "3036\n"
     ]
    }
   ],
   "source": [
    "dev_pwords = []\n",
    "train_pwords = []\n",
    "oov_pwords = []\n",
    "for did in dev_sids:\n",
    "    dev_pwords.extend(feats_dict[did])\n",
    "for tid in train_sids:\n",
    "    train_pwords.extend(feats_dict[tid])\n",
    "set_train_pwords = set(train_pwords)\n",
    "oov_pwords = [cid for cid in dev_pwords if cid not in set_train_pwords and cid != \"-1\"]\n",
    "missing_train_words = [cid for cid in train_pwords if cid == \"-1\"]\n",
    "missing_words = [cid for cid in dev_pwords if cid == \"-1\"]\n",
    "out_line = PrettyTable([\"Total words\", \"oov\", \"Missing\", \"oov + missing\"])\n",
    "out_line.add_row([len(dev_pwords), len(oov_pwords), \\\n",
    "                  len(missing_words), \\\n",
    "                 len(oov_pwords) + len(missing_words)])\n",
    "print(out_line)\n",
    "\n",
    "out_line = PrettyTable([\"total vocab\", \"oov vocab\"])\n",
    "out_line.add_row([len(set(dev_pwords)), len(set(oov_pwords))])\n",
    "print(out_line)\n",
    "print(len(missing_train_words))"
   ]
  },
  {
   "cell_type": "code",
   "execution_count": 52,
   "metadata": {
    "collapsed": false
   },
   "outputs": [
    {
     "data": {
      "text/plain": [
       "['226', '11226', '10934', '10941', '10954']"
      ]
     },
     "execution_count": 52,
     "metadata": {},
     "output_type": "execute_result"
    }
   ],
   "source": [
    "oov_pwords[:5]"
   ]
  },
  {
   "cell_type": "code",
   "execution_count": 61,
   "metadata": {
    "collapsed": false
   },
   "outputs": [
    {
     "name": "stdout",
     "output_type": "stream",
     "text": [
      "dev pwords in train vocab: 658\n",
      "translations missing for: 1\n"
     ]
    }
   ],
   "source": [
    "inv_words = [cid for cid in set(dev_pwords) - set(oov_pwords)]\n",
    "print(\"dev pwords in train vocab: %d\" % len(inv_words))\n",
    "missing_translations = [cid for cid in inv_words if cid not in pseudo_probs_dict]\n",
    "print(\"translations missing for: %d\" %len(missing_translations))"
   ]
  },
  {
   "cell_type": "code",
   "execution_count": 72,
   "metadata": {
    "collapsed": false
   },
   "outputs": [
    {
     "data": {
      "text/plain": [
       "['8']"
      ]
     },
     "execution_count": 72,
     "metadata": {},
     "output_type": "execute_result"
    }
   ],
   "source": [
    "feats_dict['001.001']"
   ]
  },
  {
   "cell_type": "code",
   "execution_count": null,
   "metadata": {
    "collapsed": false
   },
   "outputs": [],
   "source": []
  },
  {
   "cell_type": "code",
   "execution_count": 89,
   "metadata": {
    "collapsed": false
   },
   "outputs": [
    {
     "name": "stdout",
     "output_type": "stream",
     "text": [
      "272 837 2899 0.617454294584\n",
      "2810 0.969299758537 0.0972067039106\n"
     ]
    }
   ],
   "source": [
    "k = 5\n",
    "num_en_oov = sum([mt_pseudo_eval_dict['dev'][k][sid]['t'] for sid in set(dev_sids) \\\n",
    "                  if len(set(feats_dict[sid])-set(oov_pwords)) == 0])\n",
    "num_en = sum([mt_pseudo_eval_dict['dev'][k][sid]['t'] for sid in set(dev_sids)])\n",
    "num_en_missing = sum([mt_pseudo_eval_dict['dev'][k][sid]['t'] for sid in set(dev_sids) \\\n",
    "                  if feats_dict[sid] == ['-1']])\n",
    "\n",
    "num_en_pred = sum([mt_pseudo_eval_dict['dev'][k][sid]['tp'] for sid in set(dev_sids)])\n",
    "num_en_corr_pred = sum([mt_pseudo_eval_dict['dev'][k][sid]['cp'] for sid in set(dev_sids)])\n",
    "\n",
    "print(num_en_oov, num_en_missing, num_en, (num_en-num_en_oov-num_en_missing)/num_en)\n",
    "print(num_en_pred, num_en_pred/num_en, num_en_corr_pred/(num_en-num_en_missing-num_en_oov))"
   ]
  },
  {
   "cell_type": "code",
   "execution_count": 22,
   "metadata": {
    "collapsed": false
   },
   "outputs": [
    {
     "data": {
      "text/plain": [
       "(1699, 1374, 1254)"
      ]
     },
     "execution_count": 22,
     "metadata": {},
     "output_type": "execute_result"
    }
   ],
   "source": [
    "len(dev_pwords), len([i for i in dev_pwords if i != '-1']), len(set([i for i in dev_pwords if i != '-1']))"
   ]
  },
  {
   "cell_type": "code",
   "execution_count": 23,
   "metadata": {
    "collapsed": false
   },
   "outputs": [],
   "source": [
    "eval_df = pd.DataFrame(eval_dict, columns=Eval._fields)\n",
    "clusters_df = pd.DataFrame(clusters_stats)\n",
    "del clusters_df['avg_purity']\n",
    "# clusters_df['depth'] = clusters_df.apply(lambda row: len(row['words']), axis=1)"
   ]
  },
  {
   "cell_type": "code",
   "execution_count": 24,
   "metadata": {
    "collapsed": false
   },
   "outputs": [
    {
     "data": {
      "text/plain": [
       "([1, 2],\n",
       " Node(file='001', seg='001.033', start=94, end=149, es=('EL', 'RADIOTERAPISTA'), es_cnt=('RADIOTERAPISTA',)),\n",
       " Node(file='001', seg='001.033', start=170, end=224, es=('RADIOTERAPISTA',), es_cnt=('RADIOTERAPISTA',)))"
      ]
     },
     "execution_count": 24,
     "metadata": {},
     "output_type": "execute_result"
    }
   ],
   "source": [
    "clusters[0], nodes_dict[1], nodes_dict[2]"
   ]
  },
  {
   "cell_type": "code",
   "execution_count": 25,
   "metadata": {
    "collapsed": false
   },
   "outputs": [
    {
     "data": {
      "text/html": [
       "<div>\n",
       "<table border=\"1\" class=\"dataframe\">\n",
       "  <thead>\n",
       "    <tr style=\"text-align: right;\">\n",
       "      <th></th>\n",
       "      <th>n1</th>\n",
       "      <th>n2</th>\n",
       "      <th>dtw</th>\n",
       "      <th>es_sim</th>\n",
       "      <th>es_cnt_sim</th>\n",
       "      <th>en_j_sim</th>\n",
       "    </tr>\n",
       "  </thead>\n",
       "  <tbody>\n",
       "    <tr>\n",
       "      <th>16210</th>\n",
       "      <td>19997</td>\n",
       "      <td>19998</td>\n",
       "      <td>0.999</td>\n",
       "      <td>1</td>\n",
       "      <td>1</td>\n",
       "      <td>0.266667</td>\n",
       "    </tr>\n",
       "    <tr>\n",
       "      <th>8637</th>\n",
       "      <td>34387</td>\n",
       "      <td>34388</td>\n",
       "      <td>0.999</td>\n",
       "      <td>1</td>\n",
       "      <td>1</td>\n",
       "      <td>0.095238</td>\n",
       "    </tr>\n",
       "    <tr>\n",
       "      <th>598</th>\n",
       "      <td>17526</td>\n",
       "      <td>37544</td>\n",
       "      <td>0.999</td>\n",
       "      <td>1</td>\n",
       "      <td>1</td>\n",
       "      <td>0.047619</td>\n",
       "    </tr>\n",
       "    <tr>\n",
       "      <th>14292</th>\n",
       "      <td>58275</td>\n",
       "      <td>58287</td>\n",
       "      <td>0.999</td>\n",
       "      <td>1</td>\n",
       "      <td>1</td>\n",
       "      <td>0.222222</td>\n",
       "    </tr>\n",
       "    <tr>\n",
       "      <th>3582</th>\n",
       "      <td>14075</td>\n",
       "      <td>14076</td>\n",
       "      <td>0.999</td>\n",
       "      <td>1</td>\n",
       "      <td>1</td>\n",
       "      <td>1.000000</td>\n",
       "    </tr>\n",
       "    <tr>\n",
       "      <th>10454</th>\n",
       "      <td>51185</td>\n",
       "      <td>51186</td>\n",
       "      <td>0.999</td>\n",
       "      <td>1</td>\n",
       "      <td>1</td>\n",
       "      <td>0.166667</td>\n",
       "    </tr>\n",
       "    <tr>\n",
       "      <th>21587</th>\n",
       "      <td>15745</td>\n",
       "      <td>15746</td>\n",
       "      <td>0.999</td>\n",
       "      <td>1</td>\n",
       "      <td>1</td>\n",
       "      <td>1.000000</td>\n",
       "    </tr>\n",
       "    <tr>\n",
       "      <th>1275</th>\n",
       "      <td>19551</td>\n",
       "      <td>19552</td>\n",
       "      <td>0.999</td>\n",
       "      <td>1</td>\n",
       "      <td>1</td>\n",
       "      <td>0.250000</td>\n",
       "    </tr>\n",
       "    <tr>\n",
       "      <th>24760</th>\n",
       "      <td>2567</td>\n",
       "      <td>2568</td>\n",
       "      <td>0.999</td>\n",
       "      <td>0</td>\n",
       "      <td>0</td>\n",
       "      <td>0.000000</td>\n",
       "    </tr>\n",
       "    <tr>\n",
       "      <th>8186</th>\n",
       "      <td>353</td>\n",
       "      <td>354</td>\n",
       "      <td>0.999</td>\n",
       "      <td>1</td>\n",
       "      <td>1</td>\n",
       "      <td>0.000000</td>\n",
       "    </tr>\n",
       "  </tbody>\n",
       "</table>\n",
       "</div>"
      ],
      "text/plain": [
       "          n1     n2    dtw  es_sim  es_cnt_sim  en_j_sim\n",
       "16210  19997  19998  0.999       1           1  0.266667\n",
       "8637   34387  34388  0.999       1           1  0.095238\n",
       "598    17526  37544  0.999       1           1  0.047619\n",
       "14292  58275  58287  0.999       1           1  0.222222\n",
       "3582   14075  14076  0.999       1           1  1.000000\n",
       "10454  51185  51186  0.999       1           1  0.166667\n",
       "21587  15745  15746  0.999       1           1  1.000000\n",
       "1275   19551  19552  0.999       1           1  0.250000\n",
       "24760   2567   2568  0.999       0           0  0.000000\n",
       "8186     353    354  0.999       1           1  0.000000"
      ]
     },
     "execution_count": 25,
     "metadata": {},
     "output_type": "execute_result"
    }
   ],
   "source": [
    "(eval_df.sort_values('dtw', ascending=False, inplace=False)).head(10)"
   ]
  },
  {
   "cell_type": "code",
   "execution_count": 26,
   "metadata": {
    "collapsed": false
   },
   "outputs": [],
   "source": [
    "clusters_df['cross_file'] = clusters_df.apply(lambda row: len(set(row['sids'])) > 1, axis=1)"
   ]
  },
  {
   "cell_type": "code",
   "execution_count": 27,
   "metadata": {
    "collapsed": true
   },
   "outputs": [],
   "source": [
    "clusters_df['fid_min'] = clusters_df.apply(lambda row: min(row['sids']), axis=1)"
   ]
  },
  {
   "cell_type": "code",
   "execution_count": 28,
   "metadata": {
    "collapsed": true
   },
   "outputs": [],
   "source": [
    "clusters_df['fid_max'] = clusters_df.apply(lambda row: max(row['sids']), axis=1)"
   ]
  },
  {
   "cell_type": "code",
   "execution_count": 29,
   "metadata": {
    "collapsed": true
   },
   "outputs": [],
   "source": [
    "clusters_df['oov'] = clusters_df.apply(lambda row: max(row['sids']) not in train_fids and \\\n",
    "                                                    min(row['sids']) in dev_fids, axis=1)"
   ]
  },
  {
   "cell_type": "code",
   "execution_count": 30,
   "metadata": {
    "collapsed": false
   },
   "outputs": [
    {
     "data": {
      "text/plain": [
       "15011"
      ]
     },
     "execution_count": 30,
     "metadata": {},
     "output_type": "execute_result"
    }
   ],
   "source": [
    "len([cid for cid in clusters_stats['sids'] if len(set(cid)) > 1])"
   ]
  },
  {
   "cell_type": "code",
   "execution_count": 31,
   "metadata": {
    "collapsed": false
   },
   "outputs": [
    {
     "data": {
      "text/html": [
       "<div>\n",
       "<table border=\"1\" class=\"dataframe\">\n",
       "  <thead>\n",
       "    <tr style=\"text-align: right;\">\n",
       "      <th></th>\n",
       "      <th>dev_depth</th>\n",
       "      <th>fids</th>\n",
       "      <th>is_dev</th>\n",
       "      <th>is_train</th>\n",
       "      <th>most_common</th>\n",
       "      <th>oov</th>\n",
       "      <th>purity</th>\n",
       "      <th>sids</th>\n",
       "      <th>train_depth</th>\n",
       "      <th>words</th>\n",
       "      <th>cross_file</th>\n",
       "      <th>fid_min</th>\n",
       "      <th>fid_max</th>\n",
       "    </tr>\n",
       "  </thead>\n",
       "  <tbody>\n",
       "    <tr>\n",
       "      <th>0</th>\n",
       "      <td>0</td>\n",
       "      <td>[001, 001]</td>\n",
       "      <td>False</td>\n",
       "      <td>False</td>\n",
       "      <td>radioterapista</td>\n",
       "      <td>False</td>\n",
       "      <td>1.000000</td>\n",
       "      <td>[001.033, 001.033]</td>\n",
       "      <td>0</td>\n",
       "      <td>[radioterapista, radioterapista]</td>\n",
       "      <td>False</td>\n",
       "      <td>001.033</td>\n",
       "      <td>001.033</td>\n",
       "    </tr>\n",
       "    <tr>\n",
       "      <th>1</th>\n",
       "      <td>0</td>\n",
       "      <td>[001, 001]</td>\n",
       "      <td>False</td>\n",
       "      <td>False</td>\n",
       "      <td>conoce</td>\n",
       "      <td>False</td>\n",
       "      <td>0.500000</td>\n",
       "      <td>[001.084, 001.084]</td>\n",
       "      <td>0</td>\n",
       "      <td>[conversa, conoce]</td>\n",
       "      <td>False</td>\n",
       "      <td>001.084</td>\n",
       "      <td>001.084</td>\n",
       "    </tr>\n",
       "    <tr>\n",
       "      <th>2</th>\n",
       "      <td>0</td>\n",
       "      <td>[001, 001]</td>\n",
       "      <td>False</td>\n",
       "      <td>False</td>\n",
       "      <td>maneras</td>\n",
       "      <td>False</td>\n",
       "      <td>0.333333</td>\n",
       "      <td>[001.159, 001.159]</td>\n",
       "      <td>0</td>\n",
       "      <td>[mandado, todas, maneras]</td>\n",
       "      <td>False</td>\n",
       "      <td>001.159</td>\n",
       "      <td>001.159</td>\n",
       "    </tr>\n",
       "    <tr>\n",
       "      <th>3</th>\n",
       "      <td>0</td>\n",
       "      <td>[001, 001]</td>\n",
       "      <td>False</td>\n",
       "      <td>False</td>\n",
       "      <td>ver</td>\n",
       "      <td>False</td>\n",
       "      <td>0.500000</td>\n",
       "      <td>[001.224, 001.224]</td>\n",
       "      <td>0</td>\n",
       "      <td>[vamos, ver, vamos, ver]</td>\n",
       "      <td>False</td>\n",
       "      <td>001.224</td>\n",
       "      <td>001.224</td>\n",
       "    </tr>\n",
       "    <tr>\n",
       "      <th>4</th>\n",
       "      <td>0</td>\n",
       "      <td>[001, 001]</td>\n",
       "      <td>False</td>\n",
       "      <td>False</td>\n",
       "      <td>año</td>\n",
       "      <td>False</td>\n",
       "      <td>0.666667</td>\n",
       "      <td>[001.249, 001.249]</td>\n",
       "      <td>0</td>\n",
       "      <td>[año, ser, año]</td>\n",
       "      <td>False</td>\n",
       "      <td>001.249</td>\n",
       "      <td>001.249</td>\n",
       "    </tr>\n",
       "    <tr>\n",
       "      <th>5</th>\n",
       "      <td>0</td>\n",
       "      <td>[001, 001]</td>\n",
       "      <td>False</td>\n",
       "      <td>False</td>\n",
       "      <td>interpretación</td>\n",
       "      <td>False</td>\n",
       "      <td>0.400000</td>\n",
       "      <td>[001.141, 001.143]</td>\n",
       "      <td>0</td>\n",
       "      <td>[necesita, interpretación, ley, necesita, inte...</td>\n",
       "      <td>True</td>\n",
       "      <td>001.141</td>\n",
       "      <td>001.143</td>\n",
       "    </tr>\n",
       "    <tr>\n",
       "      <th>6</th>\n",
       "      <td>0</td>\n",
       "      <td>[001, 001]</td>\n",
       "      <td>False</td>\n",
       "      <td>False</td>\n",
       "      <td>interpretación</td>\n",
       "      <td>False</td>\n",
       "      <td>1.000000</td>\n",
       "      <td>[001.141, 001.143]</td>\n",
       "      <td>0</td>\n",
       "      <td>[interpretación, interpretación]</td>\n",
       "      <td>True</td>\n",
       "      <td>001.141</td>\n",
       "      <td>001.143</td>\n",
       "    </tr>\n",
       "    <tr>\n",
       "      <th>7</th>\n",
       "      <td>0</td>\n",
       "      <td>[001, 001, 001, 009]</td>\n",
       "      <td>False</td>\n",
       "      <td>False</td>\n",
       "      <td>mandar</td>\n",
       "      <td>False</td>\n",
       "      <td>0.285714</td>\n",
       "      <td>[001.001, 001.003, 001.260, 009.096]</td>\n",
       "      <td>0</td>\n",
       "      <td>[mandado, dónde, mandado, vas, mandar, vamos, ...</td>\n",
       "      <td>True</td>\n",
       "      <td>001.001</td>\n",
       "      <td>009.096</td>\n",
       "    </tr>\n",
       "    <tr>\n",
       "      <th>8</th>\n",
       "      <td>0</td>\n",
       "      <td>[001, 001, 023]</td>\n",
       "      <td>False</td>\n",
       "      <td>False</td>\n",
       "      <td>averiguarlo</td>\n",
       "      <td>False</td>\n",
       "      <td>0.250000</td>\n",
       "      <td>[001.229, 001.233, 023.080]</td>\n",
       "      <td>0</td>\n",
       "      <td>[averiguar, averiguarlo, dice, dijo]</td>\n",
       "      <td>True</td>\n",
       "      <td>001.229</td>\n",
       "      <td>023.080</td>\n",
       "    </tr>\n",
       "    <tr>\n",
       "      <th>9</th>\n",
       "      <td>0</td>\n",
       "      <td>[001, 001]</td>\n",
       "      <td>False</td>\n",
       "      <td>False</td>\n",
       "      <td>variaciones</td>\n",
       "      <td>False</td>\n",
       "      <td>0.500000</td>\n",
       "      <td>[001.021, 001.027]</td>\n",
       "      <td>0</td>\n",
       "      <td>[operaciones, variaciones]</td>\n",
       "      <td>True</td>\n",
       "      <td>001.021</td>\n",
       "      <td>001.027</td>\n",
       "    </tr>\n",
       "  </tbody>\n",
       "</table>\n",
       "</div>"
      ],
      "text/plain": [
       "   dev_depth                  fids is_dev is_train     most_common    oov  \\\n",
       "0          0            [001, 001]  False    False  radioterapista  False   \n",
       "1          0            [001, 001]  False    False          conoce  False   \n",
       "2          0            [001, 001]  False    False         maneras  False   \n",
       "3          0            [001, 001]  False    False             ver  False   \n",
       "4          0            [001, 001]  False    False             año  False   \n",
       "5          0            [001, 001]  False    False  interpretación  False   \n",
       "6          0            [001, 001]  False    False  interpretación  False   \n",
       "7          0  [001, 001, 001, 009]  False    False          mandar  False   \n",
       "8          0       [001, 001, 023]  False    False     averiguarlo  False   \n",
       "9          0            [001, 001]  False    False     variaciones  False   \n",
       "\n",
       "     purity                                  sids  train_depth  \\\n",
       "0  1.000000                    [001.033, 001.033]            0   \n",
       "1  0.500000                    [001.084, 001.084]            0   \n",
       "2  0.333333                    [001.159, 001.159]            0   \n",
       "3  0.500000                    [001.224, 001.224]            0   \n",
       "4  0.666667                    [001.249, 001.249]            0   \n",
       "5  0.400000                    [001.141, 001.143]            0   \n",
       "6  1.000000                    [001.141, 001.143]            0   \n",
       "7  0.285714  [001.001, 001.003, 001.260, 009.096]            0   \n",
       "8  0.250000           [001.229, 001.233, 023.080]            0   \n",
       "9  0.500000                    [001.021, 001.027]            0   \n",
       "\n",
       "                                               words cross_file  fid_min  \\\n",
       "0                   [radioterapista, radioterapista]      False  001.033   \n",
       "1                                 [conversa, conoce]      False  001.084   \n",
       "2                          [mandado, todas, maneras]      False  001.159   \n",
       "3                           [vamos, ver, vamos, ver]      False  001.224   \n",
       "4                                    [año, ser, año]      False  001.249   \n",
       "5  [necesita, interpretación, ley, necesita, inte...       True  001.141   \n",
       "6                   [interpretación, interpretación]       True  001.141   \n",
       "7  [mandado, dónde, mandado, vas, mandar, vamos, ...       True  001.001   \n",
       "8               [averiguar, averiguarlo, dice, dijo]       True  001.229   \n",
       "9                         [operaciones, variaciones]       True  001.021   \n",
       "\n",
       "   fid_max  \n",
       "0  001.033  \n",
       "1  001.084  \n",
       "2  001.159  \n",
       "3  001.224  \n",
       "4  001.249  \n",
       "5  001.143  \n",
       "6  001.143  \n",
       "7  009.096  \n",
       "8  023.080  \n",
       "9  001.027  "
      ]
     },
     "execution_count": 31,
     "metadata": {},
     "output_type": "execute_result"
    }
   ],
   "source": [
    "clusters_df.head(10)"
   ]
  },
  {
   "cell_type": "code",
   "execution_count": 32,
   "metadata": {
    "collapsed": false
   },
   "outputs": [
    {
     "data": {
      "text/plain": [
       "(15011, 15533)"
      ]
     },
     "execution_count": 32,
     "metadata": {},
     "output_type": "execute_result"
    }
   ],
   "source": [
    "len(clusters_df[clusters_df.cross_file]), len(clusters_df)"
   ]
  },
  {
   "cell_type": "code",
   "execution_count": 33,
   "metadata": {
    "collapsed": false
   },
   "outputs": [
    {
     "data": {
      "text/plain": [
       "1254"
      ]
     },
     "execution_count": 33,
     "metadata": {},
     "output_type": "execute_result"
    }
   ],
   "source": [
    "len(clusters_df[clusters_df.is_dev])"
   ]
  },
  {
   "cell_type": "code",
   "execution_count": 34,
   "metadata": {
    "collapsed": false
   },
   "outputs": [
    {
     "data": {
      "text/plain": [
       "597"
      ]
     },
     "execution_count": 34,
     "metadata": {},
     "output_type": "execute_result"
    }
   ],
   "source": [
    "len(clusters_df[(clusters_df.is_dev == True) & (clusters_df.is_train == False)])"
   ]
  },
  {
   "cell_type": "code",
   "execution_count": 35,
   "metadata": {
    "collapsed": true
   },
   "outputs": [],
   "source": [
    "# !ls ../../../ZRTools/exp/callhome/tmpwav/"
   ]
  },
  {
   "cell_type": "code",
   "execution_count": 36,
   "metadata": {
    "collapsed": false
   },
   "outputs": [
    {
     "data": {
      "text/html": [
       "\n",
       "                <audio controls=\"controls\" >\n",
       "                    <source src=\"data:audio/x-wav;base64,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\" type=\"audio/x-wav\" />\n",
       "                    Your browser does not support the audio element.\n",
       "                </audio>\n",
       "              "
      ],
      "text/plain": [
       "<IPython.lib.display.Audio object>"
      ]
     },
     "execution_count": 36,
     "metadata": {},
     "output_type": "execute_result"
    }
   ],
   "source": [
    "Audio('../../../ZRTools/exp/callhome/tmpwav/0058.wav')"
   ]
  },
  {
   "cell_type": "code",
   "execution_count": 37,
   "metadata": {
    "collapsed": true
   },
   "outputs": [],
   "source": [
    "k = 1\n",
    "uttr = \"010.169\"\n",
    "# uttr = \"011.178\"\n",
    "# uttr = \"002.008\""
   ]
  },
  {
   "cell_type": "code",
   "execution_count": 38,
   "metadata": {
    "collapsed": false
   },
   "outputs": [
    {
     "name": "stdout",
     "output_type": "stream",
     "text": [
      "AH BUENO ESA ES LA CUESTIóN OYE BUENO Y\n",
      "OH WELL 'S PROBLEM HEY WELL\n"
     ]
    }
   ],
   "source": [
    "print(\" \".join([w.word.decode(\"utf-8\") for w in align_dict[uttr.split(\".\")[0]][uttr]['es']]))\n",
    "print(\" \".join([w.word.decode(\"utf-8\") for w in align_dict[uttr.split(\".\")[0]][uttr]['en_cnt']]))"
   ]
  },
  {
   "cell_type": "code",
   "execution_count": 39,
   "metadata": {
    "collapsed": false
   },
   "outputs": [
    {
     "name": "stdout",
     "output_type": "stream",
     "text": [
      "AH BUENO CUESTIóN OYE BUENO\n",
      "1354\n"
     ]
    }
   ],
   "source": [
    "print(\" \".join([w.decode(\"utf-8\") for w in gold_feats_dict[uttr]])),\n",
    "print(\" \".join([w.decode(\"utf-8\") for w in feats_dict[uttr]]))"
   ]
  },
  {
   "cell_type": "code",
   "execution_count": 40,
   "metadata": {
    "collapsed": false
   },
   "outputs": [],
   "source": [
    "# pseudo_probs_dict['1354']"
   ]
  },
  {
   "cell_type": "code",
   "execution_count": 41,
   "metadata": {
    "collapsed": false
   },
   "outputs": [
    {
     "name": "stdout",
     "output_type": "stream",
     "text": [
      "OH GOOD SEEING HEY GOOD\n",
      "\n"
     ]
    }
   ],
   "source": [
    "print(\" \".join([w.decode(\"utf-8\") for w in mt_gold_pred_dict[k][uttr]])),\n",
    "print(\" \".join([w.decode(\"utf-8\") for w in mt_pseudo_pred_dict[k][uttr]]))"
   ]
  },
  {
   "cell_type": "code",
   "execution_count": null,
   "metadata": {
    "collapsed": false
   },
   "outputs": [],
   "source": [
    "[(key, v['t']) for key,v in mt_pseudo_eval_dict['dev'][k].items() if type(v) == dict and v['cp'] == 1]"
   ]
  },
  {
   "cell_type": "code",
   "execution_count": null,
   "metadata": {
    "collapsed": false
   },
   "outputs": [],
   "source": [
    "feats_dict['001.001']"
   ]
  },
  {
   "cell_type": "code",
   "execution_count": null,
   "metadata": {
    "collapsed": false
   },
   "outputs": [],
   "source": [
    "print(\"%03d\" % (10,))"
   ]
  },
  {
   "cell_type": "code",
   "execution_count": null,
   "metadata": {
    "collapsed": true
   },
   "outputs": [],
   "source": [
    "aaa = [0.341, 0.185, 0.121]\n",
    "bbb = [0.583, 0.454, 0.354]"
   ]
  },
  {
   "cell_type": "code",
   "execution_count": null,
   "metadata": {
    "collapsed": false
   },
   "outputs": [],
   "source": [
    "for x, y in zip(aaa, bbb):\n",
    "    print((y-x)/x * 100)"
   ]
  },
  {
   "cell_type": "markdown",
   "metadata": {
    "collapsed": true
   },
   "source": [
    "## Calculate duration in dev, test, and training sets"
   ]
  },
  {
   "cell_type": "code",
   "execution_count": null,
   "metadata": {
    "collapsed": false
   },
   "outputs": [],
   "source": [
    "merged_fa_vads_path = config['es']['es_merge_fa_vad']"
   ]
  },
  {
   "cell_type": "code",
   "execution_count": null,
   "metadata": {
    "collapsed": true
   },
   "outputs": [],
   "source": [
    "dur = {\"tot\":{}, \"ge500ms\":{}}"
   ]
  },
  {
   "cell_type": "code",
   "execution_count": null,
   "metadata": {
    "collapsed": false
   },
   "outputs": [],
   "source": [
    "vad_flist = [os.path.join(merged_fa_vads_path, fil) for fil in os.listdir(merged_fa_vads_path) if fil.endswith(\".vad\")]"
   ]
  },
  {
   "cell_type": "code",
   "execution_count": null,
   "metadata": {
    "collapsed": false
   },
   "outputs": [],
   "source": [
    "for vad_fname in vad_flist:\n",
    "    with open(vad_fname, \"r\") as in_f:\n",
    "        dur_key = int(os.path.splitext(os.path.basename(vad_fname))[0])\n",
    "        dur[\"tot\"][dur_key] = 0\n",
    "        dur[\"ge500ms\"][dur_key] = 0\n",
    "        for line in in_f:\n",
    "            start, end = map(int, line.strip().split())\n",
    "            dur_ms = ((end-start) * 10)\n",
    "            dur[\"tot\"][dur_key] += dur_ms\n",
    "            dur[\"ge500ms\"][dur_key] += (dur_ms if dur_ms >= 500 else 0)\n",
    "print(\"Completed calculating durations\")"
   ]
  },
  {
   "cell_type": "code",
   "execution_count": null,
   "metadata": {
    "collapsed": true
   },
   "outputs": [],
   "source": [
    "def check_dur(dur_list, startid, endid):\n",
    "    filtered_dur = [(f,d) for f, d in dur_list if f >= startid and f <= endid]\n",
    "    dur = sum([d for f, d in filtered_dur])\n",
    "    return filtered_dur, dur/(1000 * 3600)"
   ]
  },
  {
   "cell_type": "code",
   "execution_count": null,
   "metadata": {
    "collapsed": false
   },
   "outputs": [],
   "source": [
    "# Train set duration\n",
    "train_dur_list, t_dur = check_dur(dur[\"tot\"].items(), 41, 120)\n",
    "train_dur_500ms_list, t_dur_500ms = check_dur(dur[\"ge500ms\"].items(), 41, 120)\n",
    "print(\"total dur: %.3f(hrs), dur >= 500ms: %.3f(hrs)\" %(t_dur, t_dur_500ms))\n",
    "t_files = sum([1 for f, d in train_dur_500ms_list if d > 0])\n",
    "print(t_files, len(train_dur_500ms_list))"
   ]
  },
  {
   "cell_type": "code",
   "execution_count": null,
   "metadata": {
    "collapsed": false
   },
   "outputs": [],
   "source": [
    "# dev set duration\n",
    "dev_dur_list, d_dur = check_dur(dur[\"tot\"].items(), 1, 20)\n",
    "dev_dur_500ms_list, d_dur_500ms = check_dur(dur[\"ge500ms\"].items(), 1, 20)\n",
    "print(\"total dur: %.3f(hrs), dur >= 500ms: %.3f(hrs)\" %(d_dur, d_dur_500ms))\n",
    "d_files = sum([1 for f, d in dev_dur_500ms_list if d > 0])\n",
    "print(d_files, len(dev_dur_500ms_list))"
   ]
  },
  {
   "cell_type": "code",
   "execution_count": null,
   "metadata": {
    "collapsed": false
   },
   "outputs": [],
   "source": [
    "# test set duration\n",
    "print(\"total dur (hrs) %.3f\" % (sum([d for f, d in dur[\"tot\"].items() if f >= 21 and f <= 40]) / (1000 * 3600)))\n",
    "print(\"total dur (hrs) %.3f\" % (sum([d for f, d in dur[\"ge500ms\"].items() if f >= 21 and f <= 40]) / (1000 * 3600)))\n",
    "\n",
    "test_dur_list, t_dur = check_dur(dur[\"tot\"].items(), 21, 40)\n",
    "test_dur_500ms_list, t_dur_500ms = check_dur(dur[\"ge500ms\"].items(), 21, 40)\n",
    "print(\"total dur: %.3f(hrs), dur >= 500ms: %.3f(hrs)\" %(t_dur, t_dur_500ms))\n",
    "t_files = sum([1 for f, d in test_dur_500ms_list if d > 0])\n",
    "print(t_files, len(test_dur_500ms_list))"
   ]
  },
  {
   "cell_type": "markdown",
   "metadata": {
    "collapsed": true
   },
   "source": [
    "## Fisher"
   ]
  },
  {
   "cell_type": "code",
   "execution_count": null,
   "metadata": {
    "collapsed": true
   },
   "outputs": [],
   "source": [
    "fish_path = \"../../fisher/\"\n",
    "fish_flist_fname = \"../../fisher/goodfiles-gdfa.txt\"\n",
    "fish_es_align_path = os.path.join(fish_path, \"wav2es-word-final\")\n",
    "fish_subfolders = [os.path.join(fish_es_align_path, f) for f in map(str, range(8))]"
   ]
  },
  {
   "cell_type": "code",
   "execution_count": null,
   "metadata": {
    "collapsed": true
   },
   "outputs": [],
   "source": [
    "es_words = [a.word for fid in align_dict for sid in align_dict[fid] for a in align_dict[fid][sid]['es']]\n",
    "es_cnt_words = [a.word for fid in align_dict for sid in align_dict[fid] for a in align_dict[fid][sid]['es_cnt']]\n",
    "en_words = [a.word for fid in align_dict for sid in align_dict[fid] for a in align_dict[fid][sid]['en']]\n",
    "en_cnt_words = [a.word for fid in align_dict for sid in align_dict[fid] for a in align_dict[fid][sid]['en_cnt']]"
   ]
  },
  {
   "cell_type": "code",
   "execution_count": null,
   "metadata": {
    "collapsed": false
   },
   "outputs": [],
   "source": [
    "print(len(es_words), len(set(es_words)))\n",
    "print(len(es_cnt_words), len(set(es_cnt_words)))\n",
    "print(len(en_words), len(set(en_words)))\n",
    "print(len(en_cnt_words), len(set(en_cnt_words)))"
   ]
  },
  {
   "cell_type": "code",
   "execution_count": null,
   "metadata": {
    "collapsed": false
   },
   "outputs": [],
   "source": [
    "def fisher_get_details(transcript_path):\n",
    "    es_words = []\n",
    "    fids = []\n",
    "    dur = 0\n",
    "    dur_500ms = 0\n",
    "    for fname in [f for f in os.listdir(transcript_path) if f.endswith(\".es\")]:\n",
    "        fids.append(os.path.splitext(fname)[0].split(\"_\")[2])\n",
    "        with open(os.path.join(transcript_path, fname), \"r\") as in_f:\n",
    "            for line in in_f:\n",
    "                line_items = line.strip().split()\n",
    "                start, end = map(float, line_items[1:])\n",
    "                es_words.append(line_items[0])\n",
    "                curr_dur = end-start\n",
    "                dur += curr_dur\n",
    "                dur_500ms += curr_dur if curr_dur >= 0.5 else 0\n",
    "    print(\"finished\")\n",
    "    return es_words, fids, dur, dur_500ms\n",
    "                \n",
    "            "
   ]
  },
  {
   "cell_type": "code",
   "execution_count": null,
   "metadata": {
    "collapsed": false
   },
   "outputs": [],
   "source": [
    "# fish_es, fish_fids, fish_dur, fish_dur_500ms = fisher_get_details(fish_subfolders[0])\n",
    "fish_es = []\n",
    "fish_fids = set()\n",
    "fish_dur = 0\n",
    "fish_dur_500ms = 0\n",
    "for subfolder in fish_subfolders[2:3]:\n",
    "    temp_es, temp_fids, temp_dur, temp_dur_500ms = fisher_get_details(subfolder)\n",
    "    fish_es.extend(temp_es)\n",
    "    fish_fids |= set(temp_fids)\n",
    "    fish_dur += temp_dur\n",
    "    fish_dur_500ms += temp_dur_500ms\n",
    "    print(\"missing es: %d\" % len(set(es_words)-set(temp_es)))\n",
    "    print(\"dur, total: %.2f, 500ms: %.2f\" % (temp_dur / 3600, temp_dur_500ms / 3600))"
   ]
  },
  {
   "cell_type": "code",
   "execution_count": null,
   "metadata": {
    "collapsed": false
   },
   "outputs": [],
   "source": [
    "fish_es_cnt = [w for w in list(set(fish_es)) if w.lower().decode(\"utf-8\") not in set(stopwords.words('spanish'))]\n",
    "    \n",
    "print(\"#es: %d, set: %d, #fids: %d\" % (len(fish_es), len(set(fish_es)), len(set(fish_fids))))\n",
    "print(\"tots dur: %.2f, min 500ms dur: %.2f\" %(fish_dur / 3600, fish_dur_500ms / 3600))\n",
    "print(\"# es cnt: %d,\" % (len(set(fish_es_cnt))))"
   ]
  },
  {
   "cell_type": "code",
   "execution_count": null,
   "metadata": {
    "collapsed": false
   },
   "outputs": [],
   "source": [
    "print(\"missing es\\t%d, overlap: %.1f%%\" % (len(set(es_words) - set(fish_es)), (len(set(es_words) & set(fish_es)) / len(set(es_words)) * 100)))\n",
    "print(\"missing es cnt\\t%d\" % len(set(es_cnt_words) - set(fish_es_cnt)))"
   ]
  },
  {
   "cell_type": "code",
   "execution_count": null,
   "metadata": {
    "collapsed": false
   },
   "outputs": [],
   "source": []
  },
  {
   "cell_type": "code",
   "execution_count": null,
   "metadata": {
    "collapsed": false
   },
   "outputs": [],
   "source": [
    "len(fish_fids)"
   ]
  },
  {
   "cell_type": "code",
   "execution_count": null,
   "metadata": {
    "collapsed": false
   },
   "outputs": [],
   "source": [
    "[os.path.splitext(f)[0] for f in os.listdir(os.path.join(fish_es_align_path, \"0\"))[:5]]"
   ]
  },
  {
   "cell_type": "code",
   "execution_count": null,
   "metadata": {
    "collapsed": false
   },
   "outputs": [],
   "source": [
    "train_segment_list_fname, dev_segment_list_fname"
   ]
  },
  {
   "cell_type": "code",
   "execution_count": null,
   "metadata": {
    "collapsed": true
   },
   "outputs": [],
   "source": []
  }
 ],
 "metadata": {
  "kernelspec": {
   "display_name": "Python 2",
   "language": "python",
   "name": "python2"
  },
  "language_info": {
   "codemirror_mode": {
    "name": "ipython",
    "version": 2
   },
   "file_extension": ".py",
   "mimetype": "text/x-python",
   "name": "python",
   "nbconvert_exporter": "python",
   "pygments_lexer": "ipython2",
   "version": "2.7.12"
  }
 },
 "nbformat": 4,
 "nbformat_minor": 0
}
