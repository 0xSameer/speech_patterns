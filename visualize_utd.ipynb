{
 "cells": [
  {
   "cell_type": "code",
   "execution_count": 85,
   "metadata": {
    "collapsed": false
   },
   "outputs": [],
   "source": [
    "from __future__ import print_function\n",
    "from __future__ import division\n",
    "import os\n",
    "import cPickle as pickle\n",
    "import json\n",
    "import subprocess\n",
    "from IPython.display import display\n",
    "from IPython.display import Audio\n",
    "import bisect\n",
    "from collections import namedtuple\n",
    "import numpy as np\n",
    "import pandas as pd\n",
    "from collections import Counter\n",
    "from prettytable import PrettyTable\n",
    "import matplotlib.pyplot as plt\n",
    "import seaborn as sns\n",
    "import textwrap\n",
    "\n",
    "from matplotlib.ticker import MultipleLocator, \\\n",
    "     FormatStrFormatter, AutoMinorLocator\n",
    "%matplotlib inline"
   ]
  },
  {
   "cell_type": "code",
   "execution_count": 54,
   "metadata": {
    "collapsed": false
   },
   "outputs": [
    {
     "data": {
      "text/plain": [
       "array([ 1,  2,  3,  4,  5,  6,  7,  8,  9, 10, 11, 12, 13, 14, 15, 16, 17,\n",
       "       18, 19])"
      ]
     },
     "execution_count": 54,
     "metadata": {},
     "output_type": "execute_result"
    }
   ],
   "source": [
    "np.arange(1,20)"
   ]
  },
  {
   "cell_type": "code",
   "execution_count": 55,
   "metadata": {
    "collapsed": false
   },
   "outputs": [
    {
     "data": {
      "image/png": "[encoded data removed]",
      "text/plain": [
       "<matplotlib.figure.Figure at 0x7f67e3729b50>"
      ]
     },
     "metadata": {},
     "output_type": "display_data"
    }
   ],
   "source": [
    "# sns.palplot(sns.color_palette(\"Blues\", 10))\n",
    "\n",
    "# Set up the matplotlib figure\n",
    "f, ax1 = plt.subplots(1, 1, figsize=(12, 2), sharex=True)\n",
    "\n",
    "# Generate some sequential data\n",
    "x = np.arange(1,1001)\n",
    "y1 = 2*np.ones(1000)\n",
    "# sns.barplot(x, y1, palette=\"Blues_d\", edgecolor='0', ax=ax1, width=1)\n",
    "plt.bar(x, y1, width=1, color=[plt.cm.Blues((1.0*i/len(x))) for i in x], edgecolor='')\n",
    "# ax1.set_ylabel(\"Sequential\")\n",
    "ax1.set_xlim(1,1000)\n",
    "ax1.set_xticks([])\n",
    "ax1.set_yticks([])\n",
    "ax1.text(0, -.3, r'zero resource', fontsize=18)\n",
    "ax1.text(400, -.3, r'low resource', fontsize=18)\n",
    "ax1.text(800, -.3, r'high resource', fontsize=18)\n",
    "ax1.axvline(200, linestyle='--', color='k')\n",
    "ax1.axvline(800, linestyle='--', color='k')\n",
    "plt.gcf().savefig(\"resource.png\")\n",
    "\n",
    "# # Center the data to make it diverging\n",
    "# y2 = y1 - 5\n",
    "# sns.barplot(x, y2, palette=\"RdBu_r\", ax=ax2)\n",
    "# ax2.set_ylabel(\"Diverging\")"
   ]
  },
  {
   "cell_type": "code",
   "execution_count": 56,
   "metadata": {
    "collapsed": true
   },
   "outputs": [],
   "source": [
    "with open(\"config.json\") as json_data_file:\n",
    "    config = json.load(json_data_file)"
   ]
  },
  {
   "cell_type": "code",
   "execution_count": 57,
   "metadata": {
    "collapsed": false
   },
   "outputs": [],
   "source": [
    "nodes_fname = config[\"es\"]['nodes_fname']\n",
    "seg_nodes_fname = config[\"es\"]['seg_nodes_fname']\n",
    "nodes_dict_fname = config[\"es\"]['nodes_dict_fname']\n",
    "\n",
    "edges_utd_fname = config[\"es\"]['edges_utd_fname']\n",
    "edges_olap_fname = config[\"es\"]['edges_olap_fname']\n",
    "edges_all_fname = config[\"es\"]['edges_all_fname']\n",
    "edges_score_fname = config[\"es\"]['edges_score_fname']\n",
    "\n",
    "clusters_utd_fname = config['es']['clusters_utd_fname']\n",
    "clusters_fname = config['es']['clusters_fname']\n",
    "clusters_stats_fname = config['es']['clusters_stats_fname']\n",
    "\n",
    "pairs_fname = config['es']['score_pairs_fname']\n",
    "eval_fname = config['es']['eval_pairs_fname']\n",
    "\n",
    "feats_fname = config['es']['feats_fname']\n",
    "\n",
    "# Gold feats\n",
    "gold_feats_dict_fname = config['es']['gold_feats']\n",
    "# Pseudo feats\n",
    "feats_dict_fname = config['es']['feats_dict_fname']\n",
    "\n",
    "gold_probs_fname = config['es']['mt_probs_gold']\n",
    "gold_probs_dict_fname = config['es']['mt_probs_dict_gold']\n",
    "\n",
    "pseudo_probs_fname = config['es']['mt_probs_pseudo']\n",
    "pseudo_probs_dict_fname = config['es']['mt_probs_dict_pseudo']\n",
    "\n",
    "train_segment_list_fname = config['es']['mt_train_files']\n",
    "dev_segment_list_fname = config['es']['mt_dev_files']\n",
    "\n",
    "gold_corpus_fname = config['es']['mt_corpus_train_gold']\n",
    "pseudo_corpus_fname = config['es']['mt_corpus_train_pseudo']\n",
    "\n",
    "mt_gold_pred_dict_fname = config['es']['mt_gold_pred_dict']\n",
    "mt_pseudo_pred_dict_fname = config['es']['mt_pseudo_pred_dict']\n",
    "\n",
    "mt_gold_eval_dict_fname = config['es']['mt_gold_eval_dict']\n",
    "mt_pseudo_eval_dict_fname = config['es']['mt_pseudo_eval_dict']\n",
    "\n",
    "es_merge_wavs_path = config['es']['es_merge_wavs']\n",
    "utd_wavs_path = config['es']['utd_wavs']"
   ]
  },
  {
   "cell_type": "code",
   "execution_count": 58,
   "metadata": {
    "collapsed": true
   },
   "outputs": [],
   "source": [
    "Align = namedtuple('Align', ['word', 'start', 'end'])\n",
    "Node = namedtuple('Node', ['file', 'seg', 'start', 'end', 'es', 'es_cnt'])\n",
    "Eval = namedtuple('Eval', ['n1', 'n2', 'dtw', 'es_sim', 'es_cnt_sim', 'en_j_sim'])"
   ]
  },
  {
   "cell_type": "code",
   "execution_count": 69,
   "metadata": {
    "collapsed": false
   },
   "outputs": [],
   "source": [
    "segment_map = pickle.load(open(config['es']['segment_dict_fname'], \"rb\"))\n",
    "align_dict = pickle.load(open(config['es']['align_dict_fname'], \"rb\"))\n",
    "nodes_dict = pickle.load(open(nodes_dict_fname, \"rb\"))\n",
    "pairs_list = pickle.load(open(pairs_fname, \"rb\"))\n",
    "eval_dict = pickle.load(open(eval_fname, \"rb\"))\n",
    "clusters = pickle.load(open(clusters_fname, \"rb\"))\n",
    "clusters_stats = pickle.load(open(clusters_stats_fname, \"rb\"))\n",
    "feats_dict = pickle.load(open(feats_dict_fname, \"rb\"))\n",
    "gold_feats_dict = pickle.load(open(gold_feats_dict_fname, \"rb\"))\n",
    "\n",
    "if os.path.exists(gold_probs_dict_fname):\n",
    "    gold_probs_dict = pickle.load(open(gold_probs_dict_fname, \"rb\"))\n",
    "\n",
    "if os.path.exists(pseudo_probs_dict_fname):\n",
    "    pseudo_probs_dict = pickle.load(open(pseudo_probs_dict_fname, \"rb\"))\n",
    "\n",
    "if os.path.exists(mt_gold_pred_dict_fname):\n",
    "    mt_gold_pred_dict = pickle.load(open(mt_gold_pred_dict_fname, \"rb\"))\n",
    "    \n",
    "if os.path.exists(mt_pseudo_pred_dict_fname):\n",
    "    mt_pseudo_pred_dict = pickle.load(open(mt_pseudo_pred_dict_fname, \"rb\"))"
   ]
  },
  {
   "cell_type": "code",
   "execution_count": 73,
   "metadata": {
    "collapsed": true
   },
   "outputs": [],
   "source": [
    "def gen_node_wav(nid, nodes_dict, utd_wavs_path, src_wavs_path, segment_map):\n",
    "    pair_wavs_path = os.path.join(utd_wavs_path, \"wavs\")\n",
    "    nid_fname = os.path.join(pair_wavs_path, \"%d.wav\" % nid)\n",
    "    if not os.path.exists(pair_wavs_path):\n",
    "        os.makedirs(pair_wavs_path)\n",
    "    if os.path.exists(nid_fname):\n",
    "        return\n",
    "    \n",
    "    segid = nodes_dict[nid].seg\n",
    "    fid = (segid.split('.')[0]).strip()\n",
    "    \n",
    "    merge_wav_start = segment_map[fid][segid] + nodes_dict[nid].start\n",
    "    merge_wav_end = segment_map[fid][segid] + nodes_dict[nid].end\n",
    "    \n",
    "    merge_wav_fname = os.path.join(src_wavs_path, fid+\".wav\")\n",
    "    \n",
    "    start_time = \"{0:0.2f}\".format(merge_wav_start/100)\n",
    "    end_time = \"={0:0.2f}\".format(merge_wav_end/100)\n",
    "    subprocess.call([\"sox\", merge_wav_fname, nid_fname, \\\n",
    "                     \"trim\", start_time, \"{0:s}\".format(end_time)])\n",
    "    \n",
    "    return Audio(nid_fname)\n",
    "    \n",
    "    "
   ]
  },
  {
   "cell_type": "code",
   "execution_count": 74,
   "metadata": {
    "collapsed": false
   },
   "outputs": [
    {
     "data": {
      "text/html": [
       "\n",
       "                <audio controls=\"controls\" >\n",
       "                    <source src=\"data:audio/x-wav;base64,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\" type=\"audio/x-wav\" />\n",
       "                    Your browser does not support the audio element.\n",
       "                </audio>\n",
       "              "
      ],
      "text/plain": [
       "<IPython.lib.display.Audio object>"
      ]
     },
     "metadata": {},
     "output_type": "display_data"
    }
   ],
   "source": [
    "display(gen_node_wav(1, nodes_dict, utd_wavs_path, es_merge_wavs_path, segment_map))"
   ]
  },
  {
   "cell_type": "code",
   "execution_count": 127,
   "metadata": {
    "collapsed": true
   },
   "outputs": [],
   "source": [
    "def display_pair(pid, eval_dict, nodes_dict, align_dict, utd_wavs_path, src_wavs_path, segment_map):\n",
    "    headers = [\"pair id\", \"nid\", \"ES transcript\", \"EN translation\"]\n",
    "    display_pp = PrettyTable(headers, hrules=False)\n",
    "    \n",
    "    n1 = eval_dict[pid].n1\n",
    "    n2 = eval_dict[pid].n2\n",
    "    \n",
    "    en_1 = ' '.join([x.word for x in align_dict[nodes_dict[n1].file][nodes_dict[n1].seg]['en']])\n",
    "    en_2 = ' '.join([x.word for x in align_dict[nodes_dict[n2].file][nodes_dict[n2].seg]['en']])\n",
    "    \n",
    "    row_1 = [pid, n1, ' '.join(nodes_dict[n1].es), textwrap.fill(en_1,50)]\n",
    "    \n",
    "    row_2 = [pid, n2, ' '.join(nodes_dict[n2].es), textwrap.fill(en_2,50)]\n",
    "    \n",
    "    display_pp.add_row(row_1)\n",
    "    display_pp.add_row(row_2)\n",
    "    print(display_pp)\n",
    "    \n",
    "    display(gen_node_wav(n1, nodes_dict, utd_wavs_path, es_merge_wavs_path, segment_map))\n",
    "    display(gen_node_wav(n2, nodes_dict, utd_wavs_path, es_merge_wavs_path, segment_map))\n",
    "    print(display_pp.get_html_string())\n",
    "\n",
    "    "
   ]
  },
  {
   "cell_type": "code",
   "execution_count": 128,
   "metadata": {
    "collapsed": false
   },
   "outputs": [
    {
     "data": {
      "text/plain": [
       "[Align(word='MECHITA', start=12, end=50),\n",
       " Align(word='WHAT', start=50, end=73),\n",
       " Align(word='SENT', start=129, end=169),\n",
       " Align(word='IT', start=126, end=129),\n",
       " Align(word='TO', start=169, end=176),\n",
       " Align(word='WHOM', start=176, end=192),\n",
       " Align(word='TO', start=192, end=198),\n",
       " Align(word='POCHO', start=198, end=225)]"
      ]
     },
     "execution_count": 128,
     "metadata": {},
     "output_type": "execute_result"
    }
   ],
   "source": [
    "align_dict['001']['001.001']['en']"
   ]
  },
  {
   "cell_type": "code",
   "execution_count": 129,
   "metadata": {
    "collapsed": false
   },
   "outputs": [
    {
     "name": "stdout",
     "output_type": "stream",
     "text": [
      "+---------+--------+--------------------+---------------------------------------------------+\n",
      "| pair id |  nid   |   ES transcript    |                   EN translation                  |\n",
      "+---------+--------+--------------------+---------------------------------------------------+\n",
      "|   9352  | 168961 |       PORQUE       | NO NO NO BECAUSE BETTER CALL WHEN THE TICKETS ARE |\n",
      "|         |        |                    |                 ALREADY CONFIRMED                 |\n",
      "|   9352  | 168962 | PORQUE EL TRAJE DE | BECAUSE THE TOP OF SUIT THE PANTS FIT ME WELL THE |\n",
      "|         |        |                    |                SUIT WAS THE JACKET                |\n",
      "+---------+--------+--------------------+---------------------------------------------------+\n"
     ]
    },
    {
     "data": {
      "text/plain": [
       "None"
      ]
     },
     "metadata": {},
     "output_type": "display_data"
    },
    {
     "data": {
      "text/plain": [
       "None"
      ]
     },
     "metadata": {},
     "output_type": "display_data"
    },
    {
     "name": "stdout",
     "output_type": "stream",
     "text": [
      "<table>\n",
      "    <tr>\n",
      "        <th>pair id</th>\n",
      "        <th>nid</th>\n",
      "        <th>ES transcript</th>\n",
      "        <th>EN translation</th>\n",
      "    </tr>\n",
      "    <tr>\n",
      "        <td>9352</td>\n",
      "        <td>168961</td>\n",
      "        <td>PORQUE</td>\n",
      "        <td>NO NO NO BECAUSE BETTER CALL WHEN THE TICKETS ARE<br>ALREADY CONFIRMED</td>\n",
      "    </tr>\n",
      "    <tr>\n",
      "        <td>9352</td>\n",
      "        <td>168962</td>\n",
      "        <td>PORQUE EL TRAJE DE</td>\n",
      "        <td>BECAUSE THE TOP OF SUIT THE PANTS FIT ME WELL THE<br>SUIT WAS THE JACKET</td>\n",
      "    </tr>\n",
      "</table>\n"
     ]
    }
   ],
   "source": [
    "display_pair(9352, eval_dict, nodes_dict, align_dict, utd_wavs_path, es_merge_wavs_path, segment_map)"
   ]
  },
  {
   "cell_type": "code",
   "execution_count": 10,
   "metadata": {
    "collapsed": false
   },
   "outputs": [],
   "source": [
    "eval_df = pd.DataFrame(eval_dict, columns=Eval._fields)\n",
    "clusters_df = pd.DataFrame(clusters_stats)\n",
    "del clusters_df['avg_purity']\n",
    "clusters_df['depth'] = clusters_df.apply(lambda row: len(row['words']), axis=1)"
   ]
  },
  {
   "cell_type": "code",
   "execution_count": 114,
   "metadata": {
    "collapsed": false
   },
   "outputs": [
    {
     "data": {
      "text/html": [
       "<div>\n",
       "<table border=\"1\" class=\"dataframe\">\n",
       "  <thead>\n",
       "    <tr style=\"text-align: right;\">\n",
       "      <th></th>\n",
       "      <th>n1</th>\n",
       "      <th>n2</th>\n",
       "      <th>dtw</th>\n",
       "      <th>es_sim</th>\n",
       "      <th>es_cnt_sim</th>\n",
       "      <th>en_j_sim</th>\n",
       "    </tr>\n",
       "  </thead>\n",
       "  <tbody>\n",
       "    <tr>\n",
       "      <th>78704</th>\n",
       "      <td>13189</td>\n",
       "      <td>13190</td>\n",
       "      <td>0.999</td>\n",
       "      <td>0</td>\n",
       "      <td>0</td>\n",
       "      <td>0.000000</td>\n",
       "    </tr>\n",
       "    <tr>\n",
       "      <th>9352</th>\n",
       "      <td>100589</td>\n",
       "      <td>100590</td>\n",
       "      <td>0.999</td>\n",
       "      <td>1</td>\n",
       "      <td>1</td>\n",
       "      <td>1.000000</td>\n",
       "    </tr>\n",
       "    <tr>\n",
       "      <th>85989</th>\n",
       "      <td>100589</td>\n",
       "      <td>100591</td>\n",
       "      <td>0.999</td>\n",
       "      <td>1</td>\n",
       "      <td>1</td>\n",
       "      <td>0.333333</td>\n",
       "    </tr>\n",
       "    <tr>\n",
       "      <th>55260</th>\n",
       "      <td>243685</td>\n",
       "      <td>243686</td>\n",
       "      <td>0.999</td>\n",
       "      <td>1</td>\n",
       "      <td>1</td>\n",
       "      <td>0.166667</td>\n",
       "    </tr>\n",
       "    <tr>\n",
       "      <th>12359</th>\n",
       "      <td>31965</td>\n",
       "      <td>31966</td>\n",
       "      <td>0.999</td>\n",
       "      <td>0</td>\n",
       "      <td>0</td>\n",
       "      <td>0.000000</td>\n",
       "    </tr>\n",
       "    <tr>\n",
       "      <th>73770</th>\n",
       "      <td>75343</td>\n",
       "      <td>75344</td>\n",
       "      <td>0.999</td>\n",
       "      <td>1</td>\n",
       "      <td>1</td>\n",
       "      <td>1.000000</td>\n",
       "    </tr>\n",
       "    <tr>\n",
       "      <th>9665</th>\n",
       "      <td>129547</td>\n",
       "      <td>129548</td>\n",
       "      <td>0.999</td>\n",
       "      <td>0</td>\n",
       "      <td>0</td>\n",
       "      <td>0.500000</td>\n",
       "    </tr>\n",
       "    <tr>\n",
       "      <th>120973</th>\n",
       "      <td>2135</td>\n",
       "      <td>2136</td>\n",
       "      <td>0.999</td>\n",
       "      <td>1</td>\n",
       "      <td>1</td>\n",
       "      <td>0.000000</td>\n",
       "    </tr>\n",
       "    <tr>\n",
       "      <th>49449</th>\n",
       "      <td>180933</td>\n",
       "      <td>180934</td>\n",
       "      <td>0.999</td>\n",
       "      <td>1</td>\n",
       "      <td>1</td>\n",
       "      <td>1.000000</td>\n",
       "    </tr>\n",
       "    <tr>\n",
       "      <th>7509</th>\n",
       "      <td>129539</td>\n",
       "      <td>129540</td>\n",
       "      <td>0.999</td>\n",
       "      <td>0</td>\n",
       "      <td>0</td>\n",
       "      <td>0.000000</td>\n",
       "    </tr>\n",
       "  </tbody>\n",
       "</table>\n",
       "</div>"
      ],
      "text/plain": [
       "            n1      n2    dtw  es_sim  es_cnt_sim  en_j_sim\n",
       "78704    13189   13190  0.999       0           0  0.000000\n",
       "9352    100589  100590  0.999       1           1  1.000000\n",
       "85989   100589  100591  0.999       1           1  0.333333\n",
       "55260   243685  243686  0.999       1           1  0.166667\n",
       "12359    31965   31966  0.999       0           0  0.000000\n",
       "73770    75343   75344  0.999       1           1  1.000000\n",
       "9665    129547  129548  0.999       0           0  0.500000\n",
       "120973    2135    2136  0.999       1           1  0.000000\n",
       "49449   180933  180934  0.999       1           1  1.000000\n",
       "7509    129539  129540  0.999       0           0  0.000000"
      ]
     },
     "execution_count": 114,
     "metadata": {},
     "output_type": "execute_result"
    }
   ],
   "source": [
    "(eval_df.sort_values('dtw', ascending=False, inplace=False)).head(10)"
   ]
  },
  {
   "cell_type": "code",
   "execution_count": 78,
   "metadata": {
    "collapsed": false
   },
   "outputs": [
    {
     "name": "stdout",
     "output_type": "stream",
     "text": [
      "39843 390\n"
     ]
    }
   ],
   "source": [
    "print(len(clusters_df), len(clusters_df[clusters_df['depth'] == 0]))"
   ]
  },
  {
   "cell_type": "code",
   "execution_count": 47,
   "metadata": {
    "collapsed": false
   },
   "outputs": [
    {
     "data": {
      "text/html": [
       "<div>\n",
       "<table border=\"1\" class=\"dataframe\">\n",
       "  <thead>\n",
       "    <tr style=\"text-align: right;\">\n",
       "      <th></th>\n",
       "      <th>most_common</th>\n",
       "      <th>purity</th>\n",
       "      <th>words</th>\n",
       "      <th>depth</th>\n",
       "    </tr>\n",
       "  </thead>\n",
       "  <tbody>\n",
       "    <tr>\n",
       "      <th>0</th>\n",
       "      <td>ver</td>\n",
       "      <td>0.500</td>\n",
       "      <td>[vamos, ver, vamos, ver]</td>\n",
       "      <td>4</td>\n",
       "    </tr>\n",
       "    <tr>\n",
       "      <th>1</th>\n",
       "      <td>mechita</td>\n",
       "      <td>0.375</td>\n",
       "      <td>[mechita, hablar, mechita, explicar, &lt;backgrou...</td>\n",
       "      <td>8</td>\n",
       "    </tr>\n",
       "    <tr>\n",
       "      <th>2</th>\n",
       "      <td>año</td>\n",
       "      <td>1.000</td>\n",
       "      <td>[año, año]</td>\n",
       "      <td>2</td>\n",
       "    </tr>\n",
       "    <tr>\n",
       "      <th>3</th>\n",
       "      <td>diez</td>\n",
       "      <td>0.500</td>\n",
       "      <td>[diez, días, diez, días]</td>\n",
       "      <td>4</td>\n",
       "    </tr>\n",
       "    <tr>\n",
       "      <th>4</th>\n",
       "      <td>cosas</td>\n",
       "      <td>0.500</td>\n",
       "      <td>[trae, cosas, traen, cosas]</td>\n",
       "      <td>4</td>\n",
       "    </tr>\n",
       "    <tr>\n",
       "      <th>5</th>\n",
       "      <td>interpretación</td>\n",
       "      <td>0.400</td>\n",
       "      <td>[necesita, interpretación, ley, necesita, inte...</td>\n",
       "      <td>5</td>\n",
       "    </tr>\n",
       "    <tr>\n",
       "      <th>6</th>\n",
       "      <td>interpretación</td>\n",
       "      <td>1.000</td>\n",
       "      <td>[interpretación, interpretación]</td>\n",
       "      <td>2</td>\n",
       "    </tr>\n",
       "    <tr>\n",
       "      <th>7</th>\n",
       "      <td>mandado</td>\n",
       "      <td>0.400</td>\n",
       "      <td>[mandado, dónde, mandado, vas, mandar]</td>\n",
       "      <td>5</td>\n",
       "    </tr>\n",
       "    <tr>\n",
       "      <th>8</th>\n",
       "      <td>ocho</td>\n",
       "      <td>0.500</td>\n",
       "      <td>[ocho, lunes, ocho, pues]</td>\n",
       "      <td>4</td>\n",
       "    </tr>\n",
       "    <tr>\n",
       "      <th>9</th>\n",
       "      <td>averiguarlo</td>\n",
       "      <td>0.500</td>\n",
       "      <td>[averiguar, averiguarlo]</td>\n",
       "      <td>2</td>\n",
       "    </tr>\n",
       "  </tbody>\n",
       "</table>\n",
       "</div>"
      ],
      "text/plain": [
       "      most_common  purity                                              words  \\\n",
       "0             ver   0.500                           [vamos, ver, vamos, ver]   \n",
       "1         mechita   0.375  [mechita, hablar, mechita, explicar, <backgrou...   \n",
       "2             año   1.000                                         [año, año]   \n",
       "3            diez   0.500                           [diez, días, diez, días]   \n",
       "4           cosas   0.500                        [trae, cosas, traen, cosas]   \n",
       "5  interpretación   0.400  [necesita, interpretación, ley, necesita, inte...   \n",
       "6  interpretación   1.000                   [interpretación, interpretación]   \n",
       "7         mandado   0.400             [mandado, dónde, mandado, vas, mandar]   \n",
       "8            ocho   0.500                          [ocho, lunes, ocho, pues]   \n",
       "9     averiguarlo   0.500                           [averiguar, averiguarlo]   \n",
       "\n",
       "   depth  \n",
       "0      4  \n",
       "1      8  \n",
       "2      2  \n",
       "3      4  \n",
       "4      4  \n",
       "5      5  \n",
       "6      2  \n",
       "7      5  \n",
       "8      4  \n",
       "9      2  "
      ]
     },
     "execution_count": 47,
     "metadata": {},
     "output_type": "execute_result"
    }
   ],
   "source": [
    "clusters_df.head(10)"
   ]
  },
  {
   "cell_type": "code",
   "execution_count": 37,
   "metadata": {
    "collapsed": false
   },
   "outputs": [
    {
     "data": {
      "text/html": [
       "<div>\n",
       "<table border=\"1\" class=\"dataframe\">\n",
       "  <thead>\n",
       "    <tr style=\"text-align: right;\">\n",
       "      <th></th>\n",
       "      <th>most_common</th>\n",
       "      <th>purity</th>\n",
       "      <th>words</th>\n",
       "      <th>depth</th>\n",
       "    </tr>\n",
       "  </thead>\n",
       "  <tbody>\n",
       "    <tr>\n",
       "      <th>654</th>\n",
       "      <td>extrañas</td>\n",
       "      <td>1.0</td>\n",
       "      <td>[extrañas, extrañas]</td>\n",
       "      <td>2</td>\n",
       "    </tr>\n",
       "    <tr>\n",
       "      <th>3897</th>\n",
       "      <td>sonará</td>\n",
       "      <td>1.0</td>\n",
       "      <td>[sonará]</td>\n",
       "      <td>1</td>\n",
       "    </tr>\n",
       "    <tr>\n",
       "      <th>3893</th>\n",
       "      <td>detalladamente</td>\n",
       "      <td>1.0</td>\n",
       "      <td>[detalladamente]</td>\n",
       "      <td>1</td>\n",
       "    </tr>\n",
       "    <tr>\n",
       "      <th>7739</th>\n",
       "      <td>difícil</td>\n",
       "      <td>1.0</td>\n",
       "      <td>[difícil, difícil]</td>\n",
       "      <td>2</td>\n",
       "    </tr>\n",
       "    <tr>\n",
       "      <th>6015</th>\n",
       "      <td>cuento</td>\n",
       "      <td>1.0</td>\n",
       "      <td>[cuento, cuento]</td>\n",
       "      <td>2</td>\n",
       "    </tr>\n",
       "    <tr>\n",
       "      <th>6013</th>\n",
       "      <td>entran</td>\n",
       "      <td>1.0</td>\n",
       "      <td>[entran, entran]</td>\n",
       "      <td>2</td>\n",
       "    </tr>\n",
       "    <tr>\n",
       "      <th>7745</th>\n",
       "      <td>accidente</td>\n",
       "      <td>1.0</td>\n",
       "      <td>[accidente, accidente]</td>\n",
       "      <td>2</td>\n",
       "    </tr>\n",
       "    <tr>\n",
       "      <th>3887</th>\n",
       "      <td>palabra</td>\n",
       "      <td>1.0</td>\n",
       "      <td>[palabra, palabra]</td>\n",
       "      <td>2</td>\n",
       "    </tr>\n",
       "    <tr>\n",
       "      <th>1653</th>\n",
       "      <td>año</td>\n",
       "      <td>1.0</td>\n",
       "      <td>[año, año]</td>\n",
       "      <td>2</td>\n",
       "    </tr>\n",
       "    <tr>\n",
       "      <th>6039</th>\n",
       "      <td>mitad</td>\n",
       "      <td>1.0</td>\n",
       "      <td>[mitad]</td>\n",
       "      <td>1</td>\n",
       "    </tr>\n",
       "  </tbody>\n",
       "</table>\n",
       "</div>"
      ],
      "text/plain": [
       "         most_common  purity                   words  depth\n",
       "654         extrañas     1.0    [extrañas, extrañas]      2\n",
       "3897          sonará     1.0                [sonará]      1\n",
       "3893  detalladamente     1.0        [detalladamente]      1\n",
       "7739         difícil     1.0      [difícil, difícil]      2\n",
       "6015          cuento     1.0        [cuento, cuento]      2\n",
       "6013          entran     1.0        [entran, entran]      2\n",
       "7745       accidente     1.0  [accidente, accidente]      2\n",
       "3887         palabra     1.0      [palabra, palabra]      2\n",
       "1653             año     1.0              [año, año]      2\n",
       "6039           mitad     1.0                 [mitad]      1"
      ]
     },
     "execution_count": 37,
     "metadata": {},
     "output_type": "execute_result"
    }
   ],
   "source": [
    "(clusters_df.sort_values('purity', ascending=False, inplace=False)).head(10)"
   ]
  },
  {
   "cell_type": "code",
   "execution_count": 49,
   "metadata": {
    "collapsed": false
   },
   "outputs": [
    {
     "data": {
      "text/html": [
       "\n",
       "                <audio controls=\"controls\" >\n",
       "                    <source src=\"data:audio/x-wav;base64,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\" type=\"audio/x-wav\" />\n",
       "                    Your browser does not support the audio element.\n",
       "                </audio>\n",
       "              "
      ],
      "text/plain": [
       "<IPython.lib.display.Audio object>"
      ]
     },
     "execution_count": 49,
     "metadata": {},
     "output_type": "execute_result"
    }
   ],
   "source": [
    "Audio('../../../ZRTools/exp/callhome/tmpwav/0008.wav')"
   ]
  },
  {
   "cell_type": "code",
   "execution_count": null,
   "metadata": {
    "collapsed": true
   },
   "outputs": [],
   "source": []
  }
 ],
 "metadata": {
  "kernelspec": {
   "display_name": "Python 2",
   "language": "python",
   "name": "python2"
  },
  "language_info": {
   "codemirror_mode": {
    "name": "ipython",
    "version": 2
   },
   "file_extension": ".py",
   "mimetype": "text/x-python",
   "name": "python",
   "nbconvert_exporter": "python",
   "pygments_lexer": "ipython2",
   "version": "2.7.12"
  }
 },
 "nbformat": 4,
 "nbformat_minor": 0
}
