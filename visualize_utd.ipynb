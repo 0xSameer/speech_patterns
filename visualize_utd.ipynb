{
 "cells": [
  {
   "cell_type": "code",
   "execution_count": 1,
   "metadata": {
    "collapsed": false
   },
   "outputs": [],
   "source": [
    "from __future__ import print_function\n",
    "from __future__ import division\n",
    "import os\n",
    "import cPickle as pickle\n",
    "import json\n",
    "import subprocess\n",
    "from IPython.display import display\n",
    "from IPython.display import Audio\n",
    "import bisect\n",
    "from collections import namedtuple\n",
    "import numpy as np\n",
    "import pandas as pd\n",
    "from collections import Counter\n",
    "from prettytable import PrettyTable\n",
    "import matplotlib.pyplot as plt\n",
    "import seaborn as sns\n",
    "import textwrap\n",
    "import nltk\n",
    "import math\n",
    "from nltk.corpus import stopwords\n",
    "\n",
    "from matplotlib.ticker import MultipleLocator, \\\n",
    "     FormatStrFormatter, AutoMinorLocator\n",
    "%matplotlib inline"
   ]
  },
  {
   "cell_type": "code",
   "execution_count": 2,
   "metadata": {
    "collapsed": true
   },
   "outputs": [],
   "source": [
    "with open(\"config.json\") as json_data_file:\n",
    "    config = json.load(json_data_file)"
   ]
  },
  {
   "cell_type": "code",
   "execution_count": 3,
   "metadata": {
    "collapsed": false
   },
   "outputs": [],
   "source": [
    "nodes_fname = config[\"es\"]['nodes_fname']\n",
    "seg_nodes_fname = config[\"es\"]['seg_nodes_fname']\n",
    "nodes_dict_fname = config[\"es\"]['nodes_dict_fname']\n",
    "\n",
    "edges_utd_fname = config[\"es\"]['edges_utd_fname']\n",
    "edges_olap_fname = config[\"es\"]['edges_olap_fname']\n",
    "edges_all_fname = config[\"es\"]['edges_all_fname']\n",
    "edges_score_fname = config[\"es\"]['edges_score_fname']\n",
    "\n",
    "clusters_utd_fname = config['es']['clusters_utd_fname']\n",
    "clusters_fname = config['es']['clusters_fname']\n",
    "clusters_stats_fname = config['es']['clusters_stats_fname']\n",
    "\n",
    "pairs_fname = config['es']['score_pairs_fname']\n",
    "eval_fname = config['es']['eval_pairs_fname']\n",
    "\n",
    "feats_fname = config['es']['feats_fname']\n",
    "\n",
    "# Gold feats\n",
    "gold_feats_dict_fname = config['es']['gold_feats']\n",
    "# Pseudo feats\n",
    "feats_dict_fname = config['es']['feats_dict_fname']\n",
    "\n",
    "gold_probs_fname = config['es']['mt_probs_gold']\n",
    "gold_probs_dict_fname = config['es']['mt_probs_dict_gold']\n",
    "\n",
    "pseudo_probs_fname = config['es']['mt_probs_pseudo']\n",
    "pseudo_probs_dict_fname = config['es']['mt_probs_dict_pseudo']\n",
    "\n",
    "train_segment_list_fname = config['es']['mt_train_files']\n",
    "dev_segment_list_fname = config['es']['mt_dev_files']\n",
    "\n",
    "gold_corpus_fname = config['es']['mt_corpus_train_gold']\n",
    "pseudo_corpus_fname = config['es']['mt_corpus_train_pseudo']\n",
    "\n",
    "mt_gold_pred_dict_fname = config['es']['mt_gold_pred_dict']\n",
    "mt_pseudo_pred_dict_fname = config['es']['mt_pseudo_pred_dict']\n",
    "\n",
    "mt_gold_eval_dict_fname = config['es']['mt_gold_eval_dict']\n",
    "mt_pseudo_eval_dict_fname = config['es']['mt_pseudo_eval_dict']\n",
    "\n",
    "es_merge_wavs_path = config['es']['es_merge_wavs']\n",
    "utd_wavs_path = config['es']['utd_wavs']\n",
    "\n",
    "utd_tmp_wav_path = config['es']['utd_wavs']"
   ]
  },
  {
   "cell_type": "code",
   "execution_count": 4,
   "metadata": {
    "collapsed": true
   },
   "outputs": [],
   "source": [
    "Align = namedtuple('Align', ['word', 'start', 'end'])\n",
    "Node = namedtuple('Node', ['file', 'seg', 'start', 'end', 'es', 'es_cnt'])\n",
    "Eval = namedtuple('Eval', ['n1', 'n2', 'dtw', 'es_sim', 'es_cnt_sim', 'en_j_sim'])"
   ]
  },
  {
   "cell_type": "code",
   "execution_count": 5,
   "metadata": {
    "collapsed": false
   },
   "outputs": [],
   "source": [
    "segment_map = pickle.load(open(config['es']['segment_dict_fname'], \"rb\"))\n",
    "align_dict = pickle.load(open(config['es']['align_dict_fname'], \"rb\"))\n",
    "nodes_dict = pickle.load(open(nodes_dict_fname, \"rb\"))\n",
    "pairs_list = pickle.load(open(pairs_fname, \"rb\"))\n",
    "eval_dict = pickle.load(open(eval_fname, \"rb\"))\n",
    "clusters = pickle.load(open(clusters_fname, \"rb\"))\n",
    "clusters_stats = pickle.load(open(clusters_stats_fname, \"rb\"))\n",
    "feats_dict = pickle.load(open(feats_dict_fname, \"rb\"))\n",
    "gold_feats_dict = pickle.load(open(gold_feats_dict_fname, \"rb\"))\n",
    "\n",
    "if os.path.exists(gold_probs_dict_fname):\n",
    "    gold_probs_dict = pickle.load(open(gold_probs_dict_fname, \"rb\"))\n",
    "\n",
    "if os.path.exists(pseudo_probs_dict_fname):\n",
    "    pseudo_probs_dict = pickle.load(open(pseudo_probs_dict_fname, \"rb\"))\n",
    "\n",
    "if os.path.exists(mt_gold_pred_dict_fname):\n",
    "    mt_gold_pred_dict = pickle.load(open(mt_gold_pred_dict_fname, \"rb\"))\n",
    "    \n",
    "if os.path.exists(mt_pseudo_pred_dict_fname):\n",
    "    mt_pseudo_pred_dict = pickle.load(open(mt_pseudo_pred_dict_fname, \"rb\"))\n",
    "    \n",
    "if os.path.exists(mt_gold_eval_dict_fname):\n",
    "    mt_gold_eval_dict = pickle.load(open(mt_gold_eval_dict_fname, \"rb\"))\n",
    "    \n",
    "if os.path.exists(mt_pseudo_eval_dict_fname):\n",
    "    mt_pseudo_eval_dict = pickle.load(open(mt_pseudo_eval_dict_fname, \"rb\"))    "
   ]
  },
  {
   "cell_type": "code",
   "execution_count": 6,
   "metadata": {
    "collapsed": true
   },
   "outputs": [],
   "source": [
    "def gen_node_wav(nid, nodes_dict, utd_wavs_path, src_wavs_path, segment_map):\n",
    "    pair_wavs_path = os.path.join(utd_wavs_path, \"wavs\")\n",
    "    nid_fname = os.path.join(pair_wavs_path, \"%d.wav\" % nid)\n",
    "    if not os.path.exists(pair_wavs_path):\n",
    "        os.makedirs(pair_wavs_path)\n",
    "    #if os.path.exists(nid_fname):\n",
    "    #    return\n",
    "    \n",
    "    segid = nodes_dict[nid].seg\n",
    "    fid = (segid.split('.')[0]).strip()\n",
    "    \n",
    "    merge_wav_start = segment_map[fid][segid] + nodes_dict[nid].start\n",
    "    merge_wav_end = segment_map[fid][segid] + nodes_dict[nid].end\n",
    "    \n",
    "    merge_wav_fname = os.path.join(src_wavs_path, fid+\".wav\")\n",
    "    \n",
    "    start_time = \"{0:0.2f}\".format(merge_wav_start/100)\n",
    "    end_time = \"={0:0.2f}\".format(merge_wav_end/100)\n",
    "    subprocess.call([\"sox\", merge_wav_fname, nid_fname, \\\n",
    "                     \"trim\", start_time, \"{0:s}\".format(end_time)])\n",
    "    \n",
    "    return Audio(nid_fname)\n",
    "    \n",
    "    "
   ]
  },
  {
   "cell_type": "code",
   "execution_count": 7,
   "metadata": {
    "collapsed": false
   },
   "outputs": [
    {
     "data": {
      "text/html": [
       "\n",
       "                <audio controls=\"controls\" >\n",
       "                    <source src=\"data:audio/x-wav;base64,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\" type=\"audio/x-wav\" />\n",
       "                    Your browser does not support the audio element.\n",
       "                </audio>\n",
       "              "
      ],
      "text/plain": [
       "<IPython.lib.display.Audio object>"
      ]
     },
     "metadata": {},
     "output_type": "display_data"
    }
   ],
   "source": [
    "display(gen_node_wav(1, nodes_dict, utd_wavs_path, es_merge_wavs_path, segment_map))"
   ]
  },
  {
   "cell_type": "code",
   "execution_count": 8,
   "metadata": {
    "collapsed": true
   },
   "outputs": [],
   "source": [
    "def display_pair(pid, eval_dict, nodes_dict, align_dict, utd_wavs_path, src_wavs_path, segment_map):\n",
    "    headers = [\"pair id\", \"nid\", \"ES transcript\", \"EN translation\"]\n",
    "    display_pp = PrettyTable(headers, hrules=True)\n",
    "    \n",
    "    n1 = eval_dict[pid].n1\n",
    "    n2 = eval_dict[pid].n2\n",
    "    \n",
    "    en_1 = ' '.join([x.word for x in align_dict[nodes_dict[n1].file][nodes_dict[n1].seg]['en']])\n",
    "    en_2 = ' '.join([x.word for x in align_dict[nodes_dict[n2].file][nodes_dict[n2].seg]['en']])\n",
    "    \n",
    "    row_1 = [pid, n1, ' '.join(nodes_dict[n1].es), textwrap.fill(en_1,50)]\n",
    "    \n",
    "    row_2 = [pid, n2, ' '.join(nodes_dict[n2].es), textwrap.fill(en_2,50)]\n",
    "    \n",
    "    display_pp.add_row(row_1)\n",
    "    display_pp.add_row(row_2)\n",
    "    print(display_pp)\n",
    "    \n",
    "    display(gen_node_wav(n1, nodes_dict, utd_wavs_path, es_merge_wavs_path, segment_map))\n",
    "    display(gen_node_wav(n2, nodes_dict, utd_wavs_path, es_merge_wavs_path, segment_map))\n",
    "    #print(display_pp.get_html_string())\n",
    "\n",
    "    "
   ]
  },
  {
   "cell_type": "code",
   "execution_count": 9,
   "metadata": {
    "collapsed": false
   },
   "outputs": [
    {
     "name": "stdout",
     "output_type": "stream",
     "text": [
      "+---------+-------+----------------+----------------------------------------------------+\n",
      "| pair id |  nid  | ES transcript  |                   EN translation                   |\n",
      "+---------+-------+----------------+----------------------------------------------------+\n",
      "|  16210  | 14185 |  CUIDADO PERO  |  NO NO IT IS NO SO SERIOUS BUT SHE HAS THAT THAT   |\n",
      "|         |       |                | WORRY WHO KNOWS MAYBE IS JUST MASS SOMETHING IS A  |\n",
      "|         |       |                |                  LITTLE BALL THAT                  |\n",
      "+---------+-------+----------------+----------------------------------------------------+\n",
      "|  16210  | 14186 | LLAMAROS Y QUE | WELL SHE SAID THAT SHE SHE WAS GOING TO CALL SO I  |\n",
      "|         |       |                | SHE HAD LEFT PHONE NUMBER BECAUSE SHE WAS SLEEPING |\n",
      "|         |       |                | IT NOW TWO TIMES THAT HAS CALLED AND SHE 'S ASLEEP |\n",
      "|         |       |                |                SO SHE CAN 'T ANSWER                |\n",
      "+---------+-------+----------------+----------------------------------------------------+\n"
     ]
    },
    {
     "data": {
      "text/html": [
       "\n",
       "                <audio controls=\"controls\" >\n",
       "                    <source src=\"data:audio/x-wav;base64,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\" type=\"audio/x-wav\" />\n",
       "                    Your browser does not support the audio element.\n",
       "                </audio>\n",
       "              "
      ],
      "text/plain": [
       "<IPython.lib.display.Audio object>"
      ]
     },
     "metadata": {},
     "output_type": "display_data"
    },
    {
     "data": {
      "text/html": [
       "\n",
       "                <audio controls=\"controls\" >\n",
       "                    <source src=\"data:audio/x-wav;base64,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\" type=\"audio/x-wav\" />\n",
       "                    Your browser does not support the audio element.\n",
       "                </audio>\n",
       "              "
      ],
      "text/plain": [
       "<IPython.lib.display.Audio object>"
      ]
     },
     "metadata": {},
     "output_type": "display_data"
    }
   ],
   "source": [
    "display_pair(16210, eval_dict, nodes_dict, align_dict, utd_wavs_path, es_merge_wavs_path, segment_map)"
   ]
  },
  {
   "cell_type": "markdown",
   "metadata": {},
   "source": [
    "## Pseudotext analysis"
   ]
  },
  {
   "cell_type": "code",
   "execution_count": 10,
   "metadata": {
    "collapsed": false
   },
   "outputs": [
    {
     "data": {
      "text/plain": [
       "(u'../files-train-calls-63-120-10.txt', u'../files-dev-calls-63-120-10.txt')"
      ]
     },
     "execution_count": 10,
     "metadata": {},
     "output_type": "execute_result"
    }
   ],
   "source": [
    "train_segment_list_fname, dev_segment_list_fname"
   ]
  },
  {
   "cell_type": "code",
   "execution_count": 11,
   "metadata": {
    "collapsed": true
   },
   "outputs": [],
   "source": [
    "train_fids = []\n",
    "train_sids = []\n",
    "with open(train_segment_list_fname, \"r\") as in_f:\n",
    "    for line in in_f:\n",
    "        train_fids.append(line.strip().split(\".\")[0])\n",
    "        train_sids.append(line.strip())\n",
    "train_fids = set(train_fids)\n",
    "train_sids = set(train_sids)"
   ]
  },
  {
   "cell_type": "code",
   "execution_count": 12,
   "metadata": {
    "collapsed": true
   },
   "outputs": [],
   "source": [
    "dev_fids = []\n",
    "dev_sids = []\n",
    "with open(dev_segment_list_fname, \"r\") as in_f:\n",
    "    for line in in_f:\n",
    "        dev_fids.append(line.strip().split(\".\")[0])\n",
    "        dev_sids.append(line.strip())\n",
    "dev_fids = set(dev_fids)\n",
    "dev_sids = set(dev_sids)"
   ]
  },
  {
   "cell_type": "code",
   "execution_count": 13,
   "metadata": {
    "collapsed": false
   },
   "outputs": [],
   "source": [
    "clusters_stats['is_dev'] = []\n",
    "clusters_stats['is_train'] = []\n",
    "clusters_stats['oov'] = []\n",
    "clusters_stats['cross_seg'] = []\n",
    "clusters_stats['cross_file'] = []\n",
    "clusters_stats['same_seg'] = []\n",
    "clusters_stats['in_vocab'] = []\n",
    "for sids in clusters_stats['sids']:\n",
    "    is_in_dev = len(dev_sids & set(sids)) > 0\n",
    "    is_in_train = len(train_sids & set(sids)) > 0\n",
    "    clusters_stats['is_dev'].append(is_in_dev)\n",
    "    clusters_stats['is_train'].append(is_in_train)\n",
    "    clusters_stats['oov'].append(is_in_dev and not is_in_train)\n",
    "    clusters_stats['in_vocab'].append(is_in_dev and is_in_train)\n",
    "    cross_seg = False\n",
    "    cross_file = False\n",
    "    same_seg = False\n",
    "    if is_in_dev and is_in_train:\n",
    "        common_sids = (dev_sids & set(sids)) | (train_sids & set(sids))\n",
    "        cross_seg = (len(common_sids) > 1)\n",
    "        cross_file = (len(set([s.split('.')[0] for s in common_sids])) > 1)\n",
    "        \n",
    "    if is_in_dev or is_in_train:\n",
    "        same_seg = (len(set(sids)) == 1)\n",
    "        \n",
    "    clusters_stats['cross_seg'].append(cross_seg)\n",
    "    clusters_stats['cross_file'].append(cross_file)\n",
    "    clusters_stats['same_seg'].append(same_seg)\n",
    "        \n",
    "        \n",
    "\n",
    "clusters_stats['dev_depth'] = []\n",
    "clusters_stats['train_depth'] = []\n",
    "for nlist in clusters_stats['sids']:\n",
    "    clusters_stats['dev_depth'].append(len([i for i in nlist if i in dev_sids]))\n",
    "    clusters_stats['train_depth'].append(len([i for i in nlist if i in train_sids]))\n"
   ]
  },
  {
   "cell_type": "code",
   "execution_count": 14,
   "metadata": {
    "collapsed": false
   },
   "outputs": [
    {
     "name": "stdout",
     "output_type": "stream",
     "text": [
      "697\n",
      "892\n",
      "1516\n"
     ]
    }
   ],
   "source": [
    "num_oov = sum([i for i in clusters_stats['oov']])\n",
    "print(num_oov)\n",
    "sum_oov = sum([d for i, d in enumerate(clusters_stats['dev_depth']) if clusters_stats['oov'][i]])\n",
    "total_pwords = sum([d for i, d in enumerate(clusters_stats['dev_depth']) if clusters_stats['is_dev'][i]])\n",
    "print(sum_oov)\n",
    "print(total_pwords)"
   ]
  },
  {
   "cell_type": "code",
   "execution_count": 15,
   "metadata": {
    "collapsed": true
   },
   "outputs": [],
   "source": [
    "def mini_print(out_cols, out_rows):\n",
    "    out_line = PrettyTable(out_cols)\n",
    "    print(\" & \".join(out_cols))\n",
    "    if type(out_rows[0]) == list:\n",
    "        for row in out_rows:\n",
    "            out_line.add_row(row)\n",
    "            print(\" & \".join(map(str, row)))\n",
    "    else:\n",
    "        out_line.add_row(out_rows)\n",
    "        print(\" & \".join(map(str, out_rows)))\n",
    "    print(out_line)"
   ]
  },
  {
   "cell_type": "code",
   "execution_count": 16,
   "metadata": {
    "collapsed": false
   },
   "outputs": [],
   "source": [
    "def oov_summary(dev_sids, feats_dict):\n",
    "    dev_words = []\n",
    "    train_words = []\n",
    "    oov_pwords = []\n",
    "    for did in dev_sids:\n",
    "        dev_words.extend([w.decode('utf-8') for w in feats_dict[did]])\n",
    "    for tid in train_sids:\n",
    "        train_words.extend([w.decode('utf-8') for w in feats_dict[tid]])\n",
    "    set_train_words = set(train_words)\n",
    "    oov_words = [cid for cid in dev_words if cid not in set_train_words and cid != \"-1\"]\n",
    "    missing_train_words = [cid for cid in train_words if cid == \"-1\"]\n",
    "    missing_words = [cid for cid in dev_words if cid == \"-1\"]\n",
    "    out_cols = [\"train words\", \"dev words\", \"oov\", \"oov types\", \"miss.\", \"oov + miss.\", \"vocab\", \"oov vocab\"]\n",
    "    out_rows = [len(train_words), len(dev_words), len(oov_words), len(set(oov_words)), \\\n",
    "                len(missing_words), len(oov_words) + len(missing_words), len(set(dev_words)), len(set(oov_words))]\n",
    "    mini_print(out_cols, out_rows)\n",
    "    return Counter(train_words), Counter(dev_words), Counter(oov_words)"
   ]
  },
  {
   "cell_type": "code",
   "execution_count": 17,
   "metadata": {
    "collapsed": false
   },
   "outputs": [
    {
     "name": "stdout",
     "output_type": "stream",
     "text": [
      "train words & dev words & oov & oov types & miss. & oov + miss. & vocab & oov vocab\n",
      "20944 & 2029 & 892 & 697 & 513 & 1405 & 1265 & 697\n",
      "+-------------+-----------+-----+-----------+-------+-------------+-------+-----------+\n",
      "| train words | dev words | oov | oov types | miss. | oov + miss. | vocab | oov vocab |\n",
      "+-------------+-----------+-----+-----------+-------+-------------+-------+-----------+\n",
      "|    20944    |    2029   | 892 |    697    |  513  |     1405    |  1265 |    697    |\n",
      "+-------------+-----------+-----+-----------+-------+-------------+-------+-----------+\n",
      "train words & dev words & oov & oov types & miss. & oov + miss. & vocab & oov vocab\n",
      "37985 & 4129 & 719 & 526 & 0 & 719 & 1561 & 526\n",
      "+-------------+-----------+-----+-----------+-------+-------------+-------+-----------+\n",
      "| train words | dev words | oov | oov types | miss. | oov + miss. | vocab | oov vocab |\n",
      "+-------------+-----------+-----+-----------+-------+-------------+-------+-----------+\n",
      "|    37985    |    4129   | 719 |    526    |   0   |     719     |  1561 |    526    |\n",
      "+-------------+-----------+-----+-----------+-------+-------------+-------+-----------+\n"
     ]
    }
   ],
   "source": [
    "train_pwords, dev_pwords, oov_pwords = oov_summary(dev_sids, feats_dict)\n",
    "train_gold_words, dev_gold_words, oov_gold_words = oov_summary(dev_sids, gold_feats_dict)"
   ]
  },
  {
   "cell_type": "code",
   "execution_count": 18,
   "metadata": {
    "collapsed": false
   },
   "outputs": [],
   "source": [
    "train_pwords_es = Counter([clusters_stats['most_common'][int(cid)].upper() for cid in train_pwords if cid != -1])\n",
    "dev_pwords_es = Counter([clusters_stats['most_common'][int(cid)].upper() for cid in dev_pwords if cid != -1])\n",
    "oov_pwords_es = Counter([clusters_stats['most_common'][int(cid)].upper() for cid in oov_pwords if cid != -1])"
   ]
  },
  {
   "cell_type": "code",
   "execution_count": 19,
   "metadata": {
    "collapsed": false
   },
   "outputs": [
    {
     "name": "stdout",
     "output_type": "stream",
     "text": [
      "train/dev/oov & total & types\n",
      "train & 10203 & 2719\n",
      "dev & 1265 & 664\n",
      "oov & 697 & 413\n",
      "+---------------+-------+-------+\n",
      "| train/dev/oov | total | types |\n",
      "+---------------+-------+-------+\n",
      "|     train     | 10203 |  2719 |\n",
      "|      dev      |  1265 |  664  |\n",
      "|      oov      |  697  |  413  |\n",
      "+---------------+-------+-------+\n"
     ]
    }
   ],
   "source": [
    "out_cols = [\"train/dev/oov\", \"total\", \"types\"]\n",
    "out_rows = []\n",
    "out_rows.append(['train', sum(train_pwords_es.values()), len(train_pwords_es)])\n",
    "out_rows.append(['dev', sum(dev_pwords_es.values()), len(dev_pwords_es)])\n",
    "out_rows.append(['oov', sum(oov_pwords_es.values()), len(oov_pwords_es)])\n",
    "mini_print(out_cols, out_rows)"
   ]
  },
  {
   "cell_type": "code",
   "execution_count": 20,
   "metadata": {
    "collapsed": false
   },
   "outputs": [
    {
     "name": "stdout",
     "output_type": "stream",
     "text": [
      "dev pwords in train vocab: 568\n",
      "translations missing for: 1\n"
     ]
    }
   ],
   "source": [
    "inv_words = [cid for cid in set(dev_pwords) - set(oov_pwords)]\n",
    "print(\"dev pwords in train vocab: %d\" % len(inv_words))\n",
    "missing_translations = [cid for cid in inv_words if cid not in pseudo_probs_dict]\n",
    "print(\"translations missing for: %d\" %len(missing_translations))"
   ]
  },
  {
   "cell_type": "code",
   "execution_count": 21,
   "metadata": {
    "collapsed": true
   },
   "outputs": [],
   "source": [
    "def recall_summary(eval_dict, dev_sids, feats_dict, oov_words, k):\n",
    "    k = 10\n",
    "    num_en_oov = sum([eval_dict['dev'][k][sid]['t'] for sid in set(dev_sids) \\\n",
    "                      if len(set(feats_dict[sid])-set(oov_words)) == 0])\n",
    "    num_inv_and_oov = sum([1 for sid in set(dev_sids) if len(set(feats_dict[sid])-set(oov_words)) > 0])\n",
    "    num_only_oov = sum([1 for sid in set(dev_sids) if len(set(feats_dict[sid])-set(oov_words)) == 0])\n",
    "    num_en = sum([eval_dict['dev'][k][sid]['t'] for sid in set(dev_sids)])\n",
    "    num_en_missing = sum([eval_dict['dev'][k][sid]['t'] for sid in set(dev_sids) \\\n",
    "                      if feats_dict[sid] == ['-1']])\n",
    "\n",
    "    num_en_pred = sum([eval_dict['dev'][k][sid]['tp'] for sid in set(dev_sids)])\n",
    "    num_en_corr_pred = sum([eval_dict['dev'][k][sid]['cp'] for sid in set(dev_sids)])\n",
    "\n",
    "    out_cols = [\"total en\", \"en oov\", \"en missing\", \"upper bound recall\"]\n",
    "    out_rows = [num_en, num_en_oov, num_en_missing, \"{0:.3f}\".format((num_en-num_en_oov-num_en_missing)/num_en)]\n",
    "\n",
    "    mini_print(out_cols, out_rows)\n",
    "\n",
    "    out_cols = [\"k\", \"\\\\# corr.\", \"\\\\# pred\", \"prec.\", \"rec.\", \"rec. w/o miss.\", \"rec. w/o oov\", \"rec. w/o miss.+oov\"]\n",
    "    out_rows = map(lambda v: \"{0:.2f} \\%\".format(v*100) if type(v) != int else v, \\\n",
    "                   [k, num_en_corr_pred, num_en_pred, (num_en_corr_pred/num_en_pred), (num_en_corr_pred/num_en), num_en_corr_pred/(num_en-num_en_missing), \\\n",
    "                    num_en_corr_pred/(num_en-num_en_oov), num_en_corr_pred/(num_en-num_en_missing-num_en_oov)])\n",
    "    mini_print(out_cols, out_rows)\n",
    "    mini_print(['inv+oov', 'only oov'], [num_inv_and_oov, num_only_oov])"
   ]
  },
  {
   "cell_type": "code",
   "execution_count": 22,
   "metadata": {
    "collapsed": false
   },
   "outputs": [
    {
     "name": "stdout",
     "output_type": "stream",
     "text": [
      "total en & en oov & en missing & upper bound recall\n",
      "4290 & 765 & 1545 & 0.462\n",
      "+----------+--------+------------+--------------------+\n",
      "| total en | en oov | en missing | upper bound recall |\n",
      "+----------+--------+------------+--------------------+\n",
      "|   4290   |  765   |    1545    |       0.462        |\n",
      "+----------+--------+------------+--------------------+\n",
      "k & \\# corr. & \\# pred & prec. & rec. & rec. w/o miss. & rec. w/o oov & rec. w/o miss.+oov\n",
      "10 & 90 & 3504 & 2.57 \\% & 2.10 \\% & 3.28 \\% & 2.55 \\% & 4.55 \\%\n",
      "+----+----------+---------+---------+---------+----------------+--------------+--------------------+\n",
      "| k  | \\# corr. | \\# pred |  prec.  |   rec.  | rec. w/o miss. | rec. w/o oov | rec. w/o miss.+oov |\n",
      "+----+----------+---------+---------+---------+----------------+--------------+--------------------+\n",
      "| 10 |    90    |   3504  | 2.57 \\% | 2.10 \\% |    3.28 \\%     |   2.55 \\%    |      4.55 \\%       |\n",
      "+----+----------+---------+---------+---------+----------------+--------------+--------------------+\n",
      "inv+oov & only oov\n",
      "772 & 139\n",
      "+---------+----------+\n",
      "| inv+oov | only oov |\n",
      "+---------+----------+\n",
      "|   772   |   139    |\n",
      "+---------+----------+\n"
     ]
    }
   ],
   "source": [
    "k=10\n",
    "recall_summary(mt_pseudo_eval_dict, dev_sids, feats_dict, oov_pwords, k)"
   ]
  },
  {
   "cell_type": "code",
   "execution_count": 23,
   "metadata": {
    "collapsed": false
   },
   "outputs": [
    {
     "name": "stdout",
     "output_type": "stream",
     "text": [
      "total en & en oov & en missing & upper bound recall\n",
      "4290 & 52 & 0 & 0.988\n",
      "+----------+--------+------------+--------------------+\n",
      "| total en | en oov | en missing | upper bound recall |\n",
      "+----------+--------+------------+--------------------+\n",
      "|   4290   |   52   |     0      |       0.988        |\n",
      "+----------+--------+------------+--------------------+\n",
      "k & \\# corr. & \\# pred & prec. & rec. & rec. w/o miss. & rec. w/o oov & rec. w/o miss.+oov\n",
      "10 & 2224 & 11845 & 18.78 \\% & 51.84 \\% & 51.84 \\% & 52.48 \\% & 52.48 \\%\n",
      "+----+----------+---------+----------+----------+----------------+--------------+--------------------+\n",
      "| k  | \\# corr. | \\# pred |  prec.   |   rec.   | rec. w/o miss. | rec. w/o oov | rec. w/o miss.+oov |\n",
      "+----+----------+---------+----------+----------+----------------+--------------+--------------------+\n",
      "| 10 |   2224   |  11845  | 18.78 \\% | 51.84 \\% |    51.84 \\%    |   52.48 \\%   |      52.48 \\%      |\n",
      "+----+----------+---------+----------+----------+----------------+--------------+--------------------+\n",
      "inv+oov & only oov\n",
      "883 & 28\n",
      "+---------+----------+\n",
      "| inv+oov | only oov |\n",
      "+---------+----------+\n",
      "|   883   |    28    |\n",
      "+---------+----------+\n"
     ]
    },
    {
     "data": {
      "text/plain": [
       "'\\nThe impact of oov words is less in the case of gold features, \\nas other words in the utterances still make predictions. \\n\\nHowever, due to the sparse nature of pseudotext, generally there are no in vocab words for the utterance when\\noov words are encountered\\n'"
      ]
     },
     "execution_count": 23,
     "metadata": {},
     "output_type": "execute_result"
    }
   ],
   "source": [
    "recall_summary(mt_gold_eval_dict, dev_sids, gold_feats_dict, oov_gold_words, k)\n",
    "'''\n",
    "The impact of oov words is less in the case of gold features, \n",
    "as other words in the utterances still make predictions. \n",
    "\n",
    "However, due to the sparse nature of pseudotext, generally there are no in vocab words for the utterance when\n",
    "oov words are encountered\n",
    "'''"
   ]
  },
  {
   "cell_type": "code",
   "execution_count": 24,
   "metadata": {
    "collapsed": false
   },
   "outputs": [
    {
     "name": "stdout",
     "output_type": "stream",
     "text": [
      "train fids & dev fids & train sids & dev sids\n",
      "45 & 5 & 8055 & 911\n",
      "+------------+----------+------------+----------+\n",
      "| train fids | dev fids | train sids | dev sids |\n",
      "+------------+----------+------------+----------+\n",
      "|     45     |    5     |    8055    |   911    |\n",
      "+------------+----------+------------+----------+\n"
     ]
    }
   ],
   "source": [
    "mini_print([\"train fids\", \"dev fids\", \"train sids\", \"dev sids\"], \\\n",
    "          [len(train_fids), len(dev_fids), len(train_sids), len(dev_sids)])"
   ]
  },
  {
   "cell_type": "code",
   "execution_count": 25,
   "metadata": {
    "collapsed": false
   },
   "outputs": [],
   "source": [
    "def show_common(counter_A, counter_B):\n",
    "    set_A = set(counter_A.keys())\n",
    "    set_B = set(counter_B.keys())\n",
    "    common = set_A & set_B\n",
    "    return common, len(common)"
   ]
  },
  {
   "cell_type": "code",
   "execution_count": 26,
   "metadata": {
    "collapsed": false
   },
   "outputs": [
    {
     "name": "stdout",
     "output_type": "stream",
     "text": [
      "55\n",
      "1870 2719 6511\n"
     ]
    }
   ],
   "source": [
    "_, k = show_common(oov_pwords_es, oov_gold_words)\n",
    "print(k)\n",
    "_, k = show_common(train_pwords_es, train_gold_words)\n",
    "print(k, len(train_pwords_es), len(train_gold_words))"
   ]
  },
  {
   "cell_type": "code",
   "execution_count": 27,
   "metadata": {
    "collapsed": true
   },
   "outputs": [],
   "source": [
    "def get_dur_for_sids(sids, align_dict):\n",
    "    dur = 0\n",
    "    for sid in sids:\n",
    "        dur += sum([word.end-word.start for word in align_dict[sid.split('.')[0]][sid]['es']])\n",
    "    return dur / (100 * 3600)"
   ]
  },
  {
   "cell_type": "code",
   "execution_count": 28,
   "metadata": {
    "collapsed": false
   },
   "outputs": [
    {
     "name": "stdout",
     "output_type": "stream",
     "text": [
      "train sid dur & dev sid dur\n",
      "6.035 & 0.659\n",
      "+---------------+-------------+\n",
      "| train sid dur | dev sid dur |\n",
      "+---------------+-------------+\n",
      "|     6.035     |    0.659    |\n",
      "+---------------+-------------+\n"
     ]
    }
   ],
   "source": [
    "# train sids duration\n",
    "train_sid_dur = \"%.3f\" % get_dur_for_sids(train_sids, align_dict)\n",
    "dev_sid_dur = \"%.3f\" % get_dur_for_sids(dev_sids, align_dict)\n",
    "mini_print([\"train sid dur\", \"dev sid dur\"], [train_sid_dur, dev_sid_dur])"
   ]
  },
  {
   "cell_type": "markdown",
   "metadata": {},
   "source": [
    "### pseudowords"
   ]
  },
  {
   "cell_type": "markdown",
   "metadata": {},
   "source": [
    "## Cluster Analysis"
   ]
  },
  {
   "cell_type": "code",
   "execution_count": 29,
   "metadata": {
    "collapsed": true
   },
   "outputs": [],
   "source": [
    "def plot_word_freq(count_dict, num=10, fig_name = '', prefix='', color='salmon'):\n",
    "    if prefix:\n",
    "        count_dict = {\"%s_%s\" % (prefix, k): v for k,v in count_dict.items()}\n",
    "    pd_es_df = pd.DataFrame(sorted(count_dict.items(), reverse=True, key=lambda t:t[1])[:num], index=range(num))\n",
    "    pd_es_df.columns = [\"word\", \"freq\"]\n",
    "    fig, ax = plt.subplots(figsize=(10,5))\n",
    "    sns.barplot(y='word', x=\"freq\", data=pd_es_df, label=fig_name, color=color)\n",
    "    ax.legend(ncol=1, loc=\"center right\", frameon=True, fontsize=20)\n",
    "\n",
    "    #ax.set(xlim=(0, 300))\n",
    "\n",
    "    plt.xlabel(\"word counts\", size=20)\n",
    "    plt.ylabel(\"word types\", size=20)\n",
    "\n",
    "    plt.yticks(rotation=0, size=18)\n",
    "    plt.xticks(rotation=0, size=18)\n",
    "\n",
    "    sns.despine(left=True, bottom=True)\n",
    "\n",
    "    fig.tight_layout()\n",
    "    "
   ]
  },
  {
   "cell_type": "code",
   "execution_count": 30,
   "metadata": {
    "collapsed": true
   },
   "outputs": [],
   "source": [
    "def get_en_words(align_dict, seg_id, en_key):\n",
    "    en_words = [w.word for w in align_dict[seg_id.split('.')[0]][seg_id][en_key] if \"'\" not in w.word]\n",
    "    if not en_words:\n",
    "        en_words = [w.word for w in align_dict[seg_id.split('.')[0]][seg_id]['en'] if \"'\" not in w.word]\n",
    "    return en_words"
   ]
  },
  {
   "cell_type": "code",
   "execution_count": 31,
   "metadata": {
    "collapsed": true
   },
   "outputs": [],
   "source": [
    "def get_word_counts(w_key, feats_dict, align_dict, sids):\n",
    "    if w_key.startswith('es'):\n",
    "        wrds = [a.decode(\"utf-8\") for sid in feats_dict for a in feats_dict[sid] if sid in sids]\n",
    "    else:\n",
    "        wrds = [a for sid in sids for a in get_en_words(align_dict, sid, w_key)]\n",
    "    return Counter(wrds)"
   ]
  },
  {
   "cell_type": "code",
   "execution_count": 32,
   "metadata": {
    "collapsed": false
   },
   "outputs": [],
   "source": [
    "def calc_avg_purity(clusters_df):\n",
    "    num = sum(clusters_df.apply(lambda row: \\\n",
    "                            Counter(row.words).most_common(1)[0][1] \\\n",
    "                            if len(row.words) > 0 else 0, axis=1))\n",
    "    den = sum(clusters_df.apply(lambda row: len(row.words), axis=1))\n",
    "    return (num / den)"
   ]
  },
  {
   "cell_type": "code",
   "execution_count": 33,
   "metadata": {
    "collapsed": true
   },
   "outputs": [],
   "source": [
    "def play_cluster(cid):\n",
    "    cid_wav_path = os.path.join(config[\"es\"][\"zrt_tmp_wav\"], \"%04d.wav\" %(cid+1))\n",
    "    return Audio(cid_wav_path)"
   ]
  },
  {
   "cell_type": "code",
   "execution_count": 34,
   "metadata": {
    "collapsed": true
   },
   "outputs": [],
   "source": [
    "def show_translation_prob(wid, probs_dict):\n",
    "    if wid.upper() not in probs_dict:\n",
    "        print(\"%s not found in tm model\" %wid)\n",
    "        return\n",
    "    print(\"translation probability table for %s\" %wid)\n",
    "    cols = ['en word', 'prob']\n",
    "    rows = []\n",
    "    prob_sum = sum([math.exp(prob) for prob in probs_dict[wid.upper()].values()])\n",
    "    \n",
    "    print(\"prob sum: %.4f\" % prob_sum)\n",
    "    \n",
    "    for enw, prob in probs_dict[wid.upper()].items():\n",
    "        rows.append([enw.lower(), \"%.4f\" % (math.exp(prob) / prob_sum)])\n",
    "    mini_print(cols, rows)"
   ]
  },
  {
   "cell_type": "code",
   "execution_count": 35,
   "metadata": {
    "collapsed": false
   },
   "outputs": [
    {
     "data": {
      "image/png": "[encoded data removed]",
      "text/plain": [
       "<matplotlib.figure.Figure at 0x7f35abfcdb90>"
      ]
     },
     "metadata": {},
     "output_type": "display_data"
    }
   ],
   "source": [
    "plot_word_freq(train_gold_words, fig_name=\"haha\", color='grey')"
   ]
  },
  {
   "cell_type": "code",
   "execution_count": 37,
   "metadata": {
    "collapsed": false
   },
   "outputs": [
    {
     "data": {
      "image/png": "[encoded data removed]",
      "text/plain": [
       "<matplotlib.figure.Figure at 0x7f35c4007450>"
      ]
     },
     "metadata": {},
     "output_type": "display_data"
    }
   ],
   "source": [
    "plot_word_freq(train_pwords, fig_name=\"hehe\", prefix='c', color=\"salmon\")"
   ]
  },
  {
   "cell_type": "code",
   "execution_count": 38,
   "metadata": {
    "collapsed": false
   },
   "outputs": [],
   "source": [
    "eval_df = pd.DataFrame(eval_dict, columns=Eval._fields)\n",
    "clusters_df = pd.DataFrame(clusters_stats)\n",
    "del clusters_df['avg_purity']\n",
    "clusters_df['depth'] = clusters_df.apply(lambda row: len(row['words']), axis=1)"
   ]
  },
  {
   "cell_type": "code",
   "execution_count": 39,
   "metadata": {
    "collapsed": false
   },
   "outputs": [
    {
     "name": "stdout",
     "output_type": "stream",
     "text": [
      "267 15089\n"
     ]
    }
   ],
   "source": [
    "print(len(clusters_df[clusters_df['same_seg']== True]), len(clusters_df))"
   ]
  },
  {
   "cell_type": "code",
   "execution_count": 40,
   "metadata": {
    "collapsed": false
   },
   "outputs": [
    {
     "name": "stdout",
     "output_type": "stream",
     "text": [
      "567 15089\n"
     ]
    }
   ],
   "source": [
    "print(len(clusters_df[clusters_df['cross_seg']== True]), len(clusters_df))"
   ]
  },
  {
   "cell_type": "code",
   "execution_count": 41,
   "metadata": {
    "collapsed": false
   },
   "outputs": [
    {
     "name": "stdout",
     "output_type": "stream",
     "text": [
      "567 15089\n"
     ]
    }
   ],
   "source": [
    "print(len(clusters_df[clusters_df['cross_file']== True]), len(clusters_df))"
   ]
  },
  {
   "cell_type": "code",
   "execution_count": 42,
   "metadata": {
    "collapsed": false
   },
   "outputs": [],
   "source": [
    "cross_seg_cids = {s for s, c in enumerate(clusters_stats['cross_seg']) if c == True}"
   ]
  },
  {
   "cell_type": "code",
   "execution_count": 43,
   "metadata": {
    "collapsed": false
   },
   "outputs": [],
   "source": [
    "cross_file_cids = {s for s, c in enumerate(clusters_stats['cross_file']) if c == True}"
   ]
  },
  {
   "cell_type": "code",
   "execution_count": 44,
   "metadata": {
    "collapsed": false
   },
   "outputs": [
    {
     "name": "stdout",
     "output_type": "stream",
     "text": [
      "568\n"
     ]
    }
   ],
   "source": [
    "print(len(set(train_pwords) & set(dev_pwords)))\n",
    "hmm = {int(i) for i in set(train_pwords) & set(dev_pwords)}"
   ]
  },
  {
   "cell_type": "markdown",
   "metadata": {},
   "source": [
    "### View clusters"
   ]
  },
  {
   "cell_type": "code",
   "execution_count": 45,
   "metadata": {
    "collapsed": false
   },
   "outputs": [],
   "source": [
    "view_cols = ['most_common', 'oov', 'purity', 'words', 'depth', 'cross_seg', 'cross_file']"
   ]
  },
  {
   "cell_type": "code",
   "execution_count": 46,
   "metadata": {
    "collapsed": true
   },
   "outputs": [],
   "source": [
    "def sid_to_cid_mapping(clusters_stats):\n",
    "    sid_to_cids = {}\n",
    "    for cid, sids in enumerate(clusters_stats['sids']):\n",
    "        for sid in sids:\n",
    "            if sid not in sid_to_cids:\n",
    "                sid_to_cids[sid] = set()\n",
    "            sid_to_cids[sid] |= {cid}\n",
    "    return sid_to_cids\n",
    "            "
   ]
  },
  {
   "cell_type": "code",
   "execution_count": 47,
   "metadata": {
    "collapsed": false
   },
   "outputs": [],
   "source": [
    "sid_to_cids = sid_to_cid_mapping(clusters_stats)"
   ]
  },
  {
   "cell_type": "code",
   "execution_count": 48,
   "metadata": {
    "collapsed": true
   },
   "outputs": [],
   "source": [
    "def get_cids_for_sid(sid, clusters_stats):\n",
    "    sid_cids = [cid for cid, sids in enumerate(clusters_stats[\"sids\"]) if sid in sids]\n",
    "    return sid_cids"
   ]
  },
  {
   "cell_type": "code",
   "execution_count": 49,
   "metadata": {
    "collapsed": false
   },
   "outputs": [],
   "source": [
    "def find_sids_with_common_pwords(clusters_stats, filter_sids, sid_to_cids):\n",
    "    check_sids = list(filter_sids)\n",
    "    sid_overlap = []\n",
    "    for i in range(len(check_sids)):\n",
    "        if i % 1000 == 0:\n",
    "            print(\"at %d out of %d ... \" %(i, len(check_sids)) )\n",
    "        for j in range(i+1, len(check_sids)):\n",
    "            if check_sids[i] in sid_to_cids and check_sids[j] in sid_to_cids:\n",
    "                t1 = sid_to_cids[check_sids[i]]\n",
    "                t2 = sid_to_cids[check_sids[j]]\n",
    "                if len(t1 & t2) > 0:\n",
    "                    sid_overlap.append((check_sids[i], check_sids[j], len(t1 & t2), t1&t2))\n",
    "    return sid_overlap"
   ]
  },
  {
   "cell_type": "code",
   "execution_count": 50,
   "metadata": {
    "collapsed": true
   },
   "outputs": [],
   "source": [
    "def find_cids_with_common_sids(clusters_stats, filter_sids):\n",
    "    cid_overlap = []\n",
    "    for i in range(len(clusters_stats['sids'])):\n",
    "        if i % 1000 == 0:\n",
    "            print(\"at %d out of %d ... \" %(i, len(clusters_stats['sids'])) )\n",
    "        for j in range(i+1, len(clusters_stats['sids'])):\n",
    "            t1 = set(clusters_stats['sids'][i]) & filter_sids\n",
    "            t2 = set(clusters_stats['sids'][j]) & filter_sids\n",
    "            if len(t1 & t2) > 0:\n",
    "                cid_overlap.append((i, j, len(t1 & t2), t1&t2))\n",
    "    return cid_overlap"
   ]
  },
  {
   "cell_type": "code",
   "execution_count": 51,
   "metadata": {
    "collapsed": false
   },
   "outputs": [
    {
     "name": "stdout",
     "output_type": "stream",
     "text": [
      "at 0 out of 8055 ... \n",
      "at 1000 out of 8055 ... \n",
      "at 2000 out of 8055 ... \n",
      "at 3000 out of 8055 ... \n",
      "at 4000 out of 8055 ... \n",
      "at 5000 out of 8055 ... \n",
      "at 6000 out of 8055 ... \n",
      "at 7000 out of 8055 ... \n",
      "at 8000 out of 8055 ... \n"
     ]
    }
   ],
   "source": [
    "sid_overlap = find_sids_with_common_pwords(clusters_stats, train_sids, sid_to_cids)"
   ]
  },
  {
   "cell_type": "code",
   "execution_count": 52,
   "metadata": {
    "collapsed": false
   },
   "outputs": [
    {
     "name": "stdout",
     "output_type": "stream",
     "text": [
      "at 0 out of 15089 ... \n",
      "at 1000 out of 15089 ... \n",
      "at 2000 out of 15089 ... \n",
      "at 3000 out of 15089 ... \n",
      "at 4000 out of 15089 ... \n",
      "at 5000 out of 15089 ... \n",
      "at 6000 out of 15089 ... \n",
      "at 7000 out of 15089 ... \n",
      "at 8000 out of 15089 ... \n",
      "at 9000 out of 15089 ... \n",
      "at 10000 out of 15089 ... \n",
      "at 11000 out of 15089 ... \n",
      "at 12000 out of 15089 ... \n",
      "at 13000 out of 15089 ... \n",
      "at 14000 out of 15089 ... \n",
      "at 15000 out of 15089 ... \n"
     ]
    }
   ],
   "source": [
    "cid_overlap = find_cids_with_common_sids(clusters_stats, train_sids)"
   ]
  },
  {
   "cell_type": "code",
   "execution_count": 53,
   "metadata": {
    "collapsed": false
   },
   "outputs": [
    {
     "name": "stdout",
     "output_type": "stream",
     "text": [
      "0.30 & 0.50 & 0.70 & "
     ]
    }
   ],
   "source": [
    "corr = [3, 5, 7]\n",
    "pred = [5, 10, 15]\n",
    "gold = [10, 10, 10]\n",
    "for i in range(3):\n",
    "    print(\"%.2f\" % (corr[i]/gold[i]), end=\" & \")\n",
    "#     print(corr[i]/pred[i])"
   ]
  },
  {
   "cell_type": "code",
   "execution_count": 54,
   "metadata": {
    "collapsed": false
   },
   "outputs": [
    {
     "data": {
      "text/html": [
       "<div>\n",
       "<table border=\"1\" class=\"dataframe\">\n",
       "  <thead>\n",
       "    <tr style=\"text-align: right;\">\n",
       "      <th></th>\n",
       "      <th>n1</th>\n",
       "      <th>n2</th>\n",
       "      <th>dtw</th>\n",
       "      <th>es_sim</th>\n",
       "      <th>es_cnt_sim</th>\n",
       "      <th>en_j_sim</th>\n",
       "    </tr>\n",
       "  </thead>\n",
       "  <tbody>\n",
       "    <tr>\n",
       "      <th>4361</th>\n",
       "      <td>13465</td>\n",
       "      <td>13466</td>\n",
       "      <td>0.999</td>\n",
       "      <td>1</td>\n",
       "      <td>1</td>\n",
       "      <td>1.000000</td>\n",
       "    </tr>\n",
       "    <tr>\n",
       "      <th>2869</th>\n",
       "      <td>18715</td>\n",
       "      <td>18716</td>\n",
       "      <td>0.999</td>\n",
       "      <td>1</td>\n",
       "      <td>1</td>\n",
       "      <td>0.250000</td>\n",
       "    </tr>\n",
       "    <tr>\n",
       "      <th>12798</th>\n",
       "      <td>12919</td>\n",
       "      <td>12920</td>\n",
       "      <td>0.999</td>\n",
       "      <td>1</td>\n",
       "      <td>1</td>\n",
       "      <td>0.222222</td>\n",
       "    </tr>\n",
       "    <tr>\n",
       "      <th>4709</th>\n",
       "      <td>55845</td>\n",
       "      <td>55846</td>\n",
       "      <td>0.999</td>\n",
       "      <td>1</td>\n",
       "      <td>1</td>\n",
       "      <td>0.200000</td>\n",
       "    </tr>\n",
       "    <tr>\n",
       "      <th>9457</th>\n",
       "      <td>9885</td>\n",
       "      <td>9886</td>\n",
       "      <td>0.999</td>\n",
       "      <td>1</td>\n",
       "      <td>1</td>\n",
       "      <td>0.142857</td>\n",
       "    </tr>\n",
       "  </tbody>\n",
       "</table>\n",
       "</div>"
      ],
      "text/plain": [
       "          n1     n2    dtw  es_sim  es_cnt_sim  en_j_sim\n",
       "4361   13465  13466  0.999       1           1  1.000000\n",
       "2869   18715  18716  0.999       1           1  0.250000\n",
       "12798  12919  12920  0.999       1           1  0.222222\n",
       "4709   55845  55846  0.999       1           1  0.200000\n",
       "9457    9885   9886  0.999       1           1  0.142857"
      ]
     },
     "execution_count": 54,
     "metadata": {},
     "output_type": "execute_result"
    }
   ],
   "source": [
    "(eval_df.sort_values('dtw', ascending=False, inplace=False)).head(5)"
   ]
  },
  {
   "cell_type": "code",
   "execution_count": 55,
   "metadata": {
    "collapsed": false
   },
   "outputs": [
    {
     "data": {
      "text/plain": [
       "<matplotlib.axes._subplots.AxesSubplot at 0x7f35a8b117d0>"
      ]
     },
     "execution_count": 55,
     "metadata": {},
     "output_type": "execute_result"
    },
    {
     "data": {
      "image/png": "[encoded data removed]",
      "text/plain": [
       "<matplotlib.figure.Figure at 0x7f35a8b1b110>"
      ]
     },
     "metadata": {},
     "output_type": "display_data"
    }
   ],
   "source": [
    "# clusters_df['purity'].hist()\n",
    "clusters_df.purity[clusters_df.cross_seg == True].hist(alpha=0.5, bins=5)\n",
    "clusters_df.purity[clusters_df.cross_file == True].hist(alpha=0.5, bins=5)"
   ]
  },
  {
   "cell_type": "code",
   "execution_count": 56,
   "metadata": {
    "collapsed": false
   },
   "outputs": [
    {
     "data": {
      "text/plain": [
       "0.339489235964542"
      ]
     },
     "execution_count": 56,
     "metadata": {},
     "output_type": "execute_result"
    }
   ],
   "source": [
    "calc_avg_purity(clusters_df)"
   ]
  },
  {
   "cell_type": "code",
   "execution_count": 57,
   "metadata": {
    "collapsed": false
   },
   "outputs": [
    {
     "data": {
      "text/plain": [
       "0.59246171967020023"
      ]
     },
     "execution_count": 57,
     "metadata": {},
     "output_type": "execute_result"
    }
   ],
   "source": [
    "calc_avg_purity(clusters_df[clusters_df.same_seg])"
   ]
  },
  {
   "cell_type": "code",
   "execution_count": 58,
   "metadata": {
    "collapsed": false
   },
   "outputs": [
    {
     "data": {
      "text/plain": [
       "567"
      ]
     },
     "execution_count": 58,
     "metadata": {},
     "output_type": "execute_result"
    }
   ],
   "source": [
    "len(clusters_df[(clusters_df.cross_seg ==  True) & (clusters_df.cross_file == True)])"
   ]
  },
  {
   "cell_type": "code",
   "execution_count": 62,
   "metadata": {
    "collapsed": false
   },
   "outputs": [],
   "source": [
    "# calc_avg_purity(clusters_df[(clusters_df.cross_seg == True) & (clusters_df.cross_file == False)])"
   ]
  },
  {
   "cell_type": "code",
   "execution_count": 63,
   "metadata": {
    "collapsed": false
   },
   "outputs": [
    {
     "data": {
      "text/plain": [
       "0.1437908496732026"
      ]
     },
     "execution_count": 63,
     "metadata": {},
     "output_type": "execute_result"
    }
   ],
   "source": [
    "calc_avg_purity(clusters_df[clusters_df.cross_file])"
   ]
  },
  {
   "cell_type": "code",
   "execution_count": 64,
   "metadata": {
    "collapsed": false
   },
   "outputs": [
    {
     "data": {
      "text/plain": [
       "(0.20904755767495811, 0.31689036935436465)"
      ]
     },
     "execution_count": 64,
     "metadata": {},
     "output_type": "execute_result"
    }
   ],
   "source": [
    "calc_avg_purity(clusters_df[clusters_df.is_dev]), calc_avg_purity(clusters_df[clusters_df.is_train])"
   ]
  },
  {
   "cell_type": "code",
   "execution_count": 65,
   "metadata": {
    "collapsed": false
   },
   "outputs": [
    {
     "data": {
      "text/plain": [
       "(567, 15089)"
      ]
     },
     "execution_count": 65,
     "metadata": {},
     "output_type": "execute_result"
    }
   ],
   "source": [
    "len(clusters_df[clusters_df.cross_file]), len(clusters_df)"
   ]
  },
  {
   "cell_type": "code",
   "execution_count": 66,
   "metadata": {
    "collapsed": false
   },
   "outputs": [
    {
     "data": {
      "text/plain": [
       "1264"
      ]
     },
     "execution_count": 66,
     "metadata": {},
     "output_type": "execute_result"
    }
   ],
   "source": [
    "len(clusters_df[clusters_df.is_dev])"
   ]
  },
  {
   "cell_type": "code",
   "execution_count": 67,
   "metadata": {
    "collapsed": false
   },
   "outputs": [
    {
     "data": {
      "text/plain": [
       "697"
      ]
     },
     "execution_count": 67,
     "metadata": {},
     "output_type": "execute_result"
    }
   ],
   "source": [
    "len(clusters_df[(clusters_df.is_dev == True) & (clusters_df.is_train == False)])"
   ]
  },
  {
   "cell_type": "markdown",
   "metadata": {
    "collapsed": true
   },
   "source": [
    "## Calculate duration in dev, test, and training sets"
   ]
  },
  {
   "cell_type": "code",
   "execution_count": 68,
   "metadata": {
    "collapsed": false
   },
   "outputs": [],
   "source": [
    "merged_fa_vads_path = config['es']['es_merge_fa_vad']"
   ]
  },
  {
   "cell_type": "code",
   "execution_count": 69,
   "metadata": {
    "collapsed": true
   },
   "outputs": [],
   "source": [
    "dur = {\"tot\":{}, \"ge500ms\":{}}"
   ]
  },
  {
   "cell_type": "code",
   "execution_count": 70,
   "metadata": {
    "collapsed": false
   },
   "outputs": [],
   "source": [
    "vad_flist = [os.path.join(merged_fa_vads_path, fil) for fil in os.listdir(merged_fa_vads_path) if fil.endswith(\".vad\")]"
   ]
  },
  {
   "cell_type": "code",
   "execution_count": 71,
   "metadata": {
    "collapsed": false
   },
   "outputs": [
    {
     "name": "stdout",
     "output_type": "stream",
     "text": [
      "Completed calculating durations\n"
     ]
    }
   ],
   "source": [
    "for vad_fname in vad_flist:\n",
    "    with open(vad_fname, \"r\") as in_f:\n",
    "        dur_key = int(os.path.splitext(os.path.basename(vad_fname))[0])\n",
    "        dur[\"tot\"][dur_key] = 0\n",
    "        dur[\"ge500ms\"][dur_key] = 0\n",
    "        for line in in_f:\n",
    "            start, end = map(int, line.strip().split())\n",
    "            dur_ms = ((end-start) * 10)\n",
    "            dur[\"tot\"][dur_key] += dur_ms\n",
    "            dur[\"ge500ms\"][dur_key] += (dur_ms if dur_ms >= 500 else 0)\n",
    "print(\"Completed calculating durations\")"
   ]
  },
  {
   "cell_type": "code",
   "execution_count": 72,
   "metadata": {
    "collapsed": true
   },
   "outputs": [],
   "source": [
    "def check_dur(dur_list, startid, endid):\n",
    "    filtered_dur = [(f,d) for f, d in dur_list if f >= startid and f <= endid]\n",
    "    dur = sum([d for f, d in filtered_dur])\n",
    "    return filtered_dur, dur/(1000 * 3600)"
   ]
  },
  {
   "cell_type": "code",
   "execution_count": 73,
   "metadata": {
    "collapsed": false
   },
   "outputs": [
    {
     "name": "stdout",
     "output_type": "stream",
     "text": [
      "total dur: 9.565(hrs), dur >= 500ms: 8.527(hrs)\n",
      "71 71\n"
     ]
    }
   ],
   "source": [
    "# Train set duration\n",
    "train_dur_list, t_dur = check_dur(dur[\"tot\"].items(), 41, 120)\n",
    "train_dur_500ms_list, t_dur_500ms = check_dur(dur[\"ge500ms\"].items(), 41, 120)\n",
    "print(\"total dur: %.3f(hrs), dur >= 500ms: %.3f(hrs)\" %(t_dur, t_dur_500ms))\n",
    "t_files = sum([1 for f, d in train_dur_500ms_list if d > 0])\n",
    "print(t_files, len(train_dur_500ms_list))"
   ]
  },
  {
   "cell_type": "code",
   "execution_count": 74,
   "metadata": {
    "collapsed": false
   },
   "outputs": [
    {
     "name": "stdout",
     "output_type": "stream",
     "text": [
      "total dur: 1.788(hrs), dur >= 500ms: 1.584(hrs)\n",
      "13 13\n"
     ]
    }
   ],
   "source": [
    "# dev set duration\n",
    "dev_dur_list, d_dur = check_dur(dur[\"tot\"].items(), 1, 20)\n",
    "dev_dur_500ms_list, d_dur_500ms = check_dur(dur[\"ge500ms\"].items(), 1, 20)\n",
    "print(\"total dur: %.3f(hrs), dur >= 500ms: %.3f(hrs)\" %(d_dur, d_dur_500ms))\n",
    "d_files = sum([1 for f, d in dev_dur_500ms_list if d > 0])\n",
    "print(d_files, len(dev_dur_500ms_list))"
   ]
  },
  {
   "cell_type": "code",
   "execution_count": 75,
   "metadata": {
    "collapsed": false
   },
   "outputs": [
    {
     "name": "stdout",
     "output_type": "stream",
     "text": [
      "total dur (hrs) 1.351\n",
      "total dur (hrs) 1.218\n",
      "total dur: 1.351(hrs), dur >= 500ms: 1.218(hrs)\n",
      "20 20\n"
     ]
    }
   ],
   "source": [
    "# test set duration\n",
    "print(\"total dur (hrs) %.3f\" % (sum([d for f, d in dur[\"tot\"].items() if f >= 21 and f <= 40]) / (1000 * 3600)))\n",
    "print(\"total dur (hrs) %.3f\" % (sum([d for f, d in dur[\"ge500ms\"].items() if f >= 21 and f <= 40]) / (1000 * 3600)))\n",
    "\n",
    "test_dur_list, ts_dur = check_dur(dur[\"tot\"].items(), 21, 40)\n",
    "test_dur_500ms_list, ts_dur_500ms = check_dur(dur[\"ge500ms\"].items(), 21, 40)\n",
    "print(\"total dur: %.3f(hrs), dur >= 500ms: %.3f(hrs)\" %(ts_dur, ts_dur_500ms))\n",
    "ts_files = sum([1 for f, d in test_dur_500ms_list if d > 0])\n",
    "print(ts_files, len(test_dur_500ms_list))"
   ]
  },
  {
   "cell_type": "code",
   "execution_count": 76,
   "metadata": {
    "collapsed": false
   },
   "outputs": [
    {
     "name": "stdout",
     "output_type": "stream",
     "text": [
      "Total hrs of speech in Callhome: 12.70 (hrs), 11.33 (hrs>500ms)\n"
     ]
    }
   ],
   "source": [
    "print(\"Total hrs of speech in Callhome: %.2f (hrs), %.2f (hrs>500ms)\" % ((t_dur+d_dur+ts_dur), \\\n",
    "                                                    (t_dur_500ms+d_dur_500ms+ts_dur_500ms)))"
   ]
  },
  {
   "cell_type": "code",
   "execution_count": 77,
   "metadata": {
    "collapsed": false
   },
   "outputs": [
    {
     "name": "stdout",
     "output_type": "stream",
     "text": [
      "total dur: 6.841(hrs), dur >= 500ms: 6.104(hrs)\n",
      "51 51\n",
      "total dur: 0.509(hrs), dur >= 500ms: 0.446(hrs)\n",
      "4 4\n"
     ]
    }
   ],
   "source": [
    "# Train subset duration\n",
    "train_dur_list, t_dur = check_dur(dur[\"tot\"].items(), 62, 120)\n",
    "train_dur_500ms_list, t_dur_500ms = check_dur(dur[\"ge500ms\"].items(), 62, 120)\n",
    "print(\"total dur: %.3f(hrs), dur >= 500ms: %.3f(hrs)\" %(t_dur, t_dur_500ms))\n",
    "t_files = sum([1 for f, d in train_dur_500ms_list if d > 0])\n",
    "print(t_files, len(train_dur_500ms_list))\n",
    "\n",
    "# Dev subset duration\n",
    "train_dur_list, t_dur = check_dur(dur[\"tot\"].items(), 81, 84)\n",
    "train_dur_500ms_list, t_dur_500ms = check_dur(dur[\"ge500ms\"].items(), 81, 84)\n",
    "print(\"total dur: %.3f(hrs), dur >= 500ms: %.3f(hrs)\" %(t_dur, t_dur_500ms))\n",
    "t_files = sum([1 for f, d in train_dur_500ms_list if d > 0])\n",
    "print(t_files, len(train_dur_500ms_list))"
   ]
  },
  {
   "cell_type": "markdown",
   "metadata": {},
   "source": [
    "### EACL plots"
   ]
  },
  {
   "cell_type": "code",
   "execution_count": 83,
   "metadata": {
    "collapsed": true
   },
   "outputs": [],
   "source": [
    "tableau20 = [(31, 119, 180), (174, 199, 232), (255, 127, 14), (255, 187, 120),    \n",
    "             (44, 160, 44), (152, 223, 138), (214, 39, 40), (255, 152, 150),    \n",
    "             (148, 103, 189), (197, 176, 213), (140, 86, 75), (196, 156, 148),    \n",
    "             (227, 119, 194), (247, 182, 210), (127, 127, 127), (199, 199, 199),    \n",
    "             (188, 189, 34), (219, 219, 141), (23, 190, 207), (158, 218, 229)]    \n",
    "# Scale the RGB values to the [0, 1] range, which is the format matplotlib accepts.    \n",
    "for i in range(len(tableau20)):    \n",
    "    r, g, b = tableau20[i]    \n",
    "    tableau20[i] = (r / 255., g / 255., b / 255.)"
   ]
  },
  {
   "cell_type": "code",
   "execution_count": 222,
   "metadata": {
    "collapsed": false
   },
   "outputs": [],
   "source": [
    "def plot_eacl_results(data_array, plotname=\"\", title=\"\"):\n",
    "    alpha =  np.arange(1,11,1)\n",
    "    markers = [\"o\",\"v\",\"o\",\"v\"]\n",
    "    labels = ['gold:seg', 'gold:call', 'pseudo:seg', 'pseudo:call']\n",
    "    colors = [0, 4, 0, 4]\n",
    "    linestyles = ['--','--', '-','-']\n",
    "    \n",
    "    y_tick_values = [0.05, .2, .4, .6, .8, .9, 1]\n",
    "    \n",
    "    fig_size = (8,6)\n",
    "    fig, ax = plt.subplots(figsize=fig_size)\n",
    "    for i, arr_data in enumerate(data_array):\n",
    "        ax.plot(alpha, arr_data, marker=markers[i], color=tableau20[colors[i]], \\\n",
    "                label=labels[i], markersize=8, linestyle=linestyles[i])\n",
    "    #ax.yaxis.set_major_locator(MultipleLocator(.05))\n",
    "    ax.set_xlabel(r'$@K$', size=24)\n",
    "    #ax.set_title(plotname, size=20, y=1.02)\n",
    "    ax.legend(loc='upper center', bbox_to_anchor=(0.5, 0.45),\n",
    "                      ncol=2, fancybox=True, shadow=True, fontsize=18)\n",
    "    ax.set_ylabel(title, size=24)\n",
    "    #ax.set_xticklabels([\"{0:0.1f}\".format(x) for x in alpha], size=18)\n",
    "    ax.set_xticklabels([\"{0:d}\".format(x) for x in alpha], size=18)\n",
    "    ax.set_xticks(alpha)\n",
    "    ax.set_yticklabels([\"{0:d}%\".format(int(y*100.0)) for y in y_tick_values], size=15)\n",
    "    plt.xticks(rotation=0)\n",
    "    ax.set_xlim(1,10.5)\n",
    "    for tick in ax.yaxis.get_major_ticks():\n",
    "                    tick.label.set_fontsize(18)\n",
    "    \n",
    "#     for label in ax.get_yticklabels()[::]:\n",
    "#         label.set_visible(False)\n",
    "#     ax.get_yticklabels()[-1].set_visible(True)\n",
    "    \n",
    "    ax.yaxis.set_ticks(np.array(y_tick_values))\n",
    "    ax.set_ylim(0,np.max(data_array)+.05)\n",
    "    \n",
    "    fig.tight_layout()\n",
    "    if plotname:\n",
    "        fig.savefig(plotname)\n",
    "    "
   ]
  },
  {
   "cell_type": "code",
   "execution_count": 223,
   "metadata": {
    "collapsed": true
   },
   "outputs": [],
   "source": [
    "gold_seg_train_prec = \\\n",
    "    np.array([0.4776, 0.4147, 0.3731, 0.3438, 0.3217, 0.3032, 0.2881, 0.2748, 0.2635, 0.2543])\n",
    "gold_seg_train_rec = \\\n",
    "    np.array([.4719, 0.6398, 0.7163, 0.7626, 0.7930, 0.8115, 0.8262, 0.8338, 0.8409, 0.8483])\n",
    "gold_seg_dev_prec = \\\n",
    "    np.array([0.3866, 0.3277, 0.2865, 0.2629, 0.2462, 0.2326, 0.2216, 0.2108, 0.2021, 0.1958])\n",
    "gold_seg_dev_rec = \\\n",
    "    np.array([.3384, 0.4475, 0.4873, 0.5197, 0.5441, 0.5614, 0.5755, 0.5808, 0.5872, 0.5952])\n",
    "pseudo_seg_train_prec = \\\n",
    "    np.array([0.4217, 0.3884, 0.3671, 0.3498, 0.3351, 0.3222, 0.3103, 0.2994, 0.2898, 0.2813])\n",
    "pseudo_seg_train_rec = \\\n",
    "    np.array([.1839, 0.3017, 0.3914, 0.4612, 0.5143, 0.5543, 0.5838, 0.6051, 0.6215, 0.6338])\n",
    "pseudo_seg_dev_prec = \\\n",
    "    np.array([0.0789, 0.0710, 0.0643, 0.0628, 0.0588, 0.0562, 0.0544, 0.0537, 0.0526, 0.0512])\n",
    "pseudo_seg_dev_rec = \\\n",
    "    np.array([.0185, 0.0307, 0.0388, 0.0472, 0.0518, 0.0556, 0.0590, 0.0626, 0.0650, 0.0664])\n",
    "\n",
    "gold_call_train_prec = \\\n",
    "    np.array([0.4753, 0.4118, 0.3704, 0.3414, 0.3180, 0.2993, 0.2838, 0.2712, 0.2603, 0.2513])\n",
    "gold_call_train_rec = \\\n",
    "    np.array([.4704, 0.6396, 0.7198, 0.7648, 0.7895, 0.8079, 0.8209, 0.8331, 0.8427, 0.8500])\n",
    "gold_call_dev_prec = \\\n",
    "    np.array([0.3572, 0.3069, 0.2701, 0.2494, 0.2315, 0.2174, 0.2082, 0.1986, 0.1929, 0.1878])\n",
    "gold_call_dev_rec = \\\n",
    "    np.array([.2839, 0.3802, 0.4179, 0.4478, 0.4639, 0.4762, 0.4897, 0.4967, 0.5096, 0.5184])\n",
    "pseudo_call_train_prec = \\\n",
    "    np.array([0.4223, 0.3882, 0.3669, 0.3500, 0.3350, 0.3222, 0.3105, 0.2995, 0.2895, 0.2812])\n",
    "pseudo_call_train_rec = \\\n",
    "    np.array([.1854, 0.3044, 0.3950, 0.4659, 0.5185, 0.5590, 0.5891, 0.6104, 0.6261, 0.6385])\n",
    "pseudo_call_dev_prec = \\\n",
    "    np.array([0.0401, 0.0343, 0.0298, 0.0277, 0.0273, 0.0267, 0.0254, 0.0247, 0.0252, 0.0257])\n",
    "pseudo_call_dev_rec = \\\n",
    "    np.array([.0058, 0.0093, 0.0114, 0.0133, 0.0154, 0.0170, 0.0177, 0.0184, 0.0198, 0.0210])"
   ]
  },
  {
   "cell_type": "code",
   "execution_count": 224,
   "metadata": {
    "collapsed": false
   },
   "outputs": [
    {
     "data": {
      "image/png": "[encoded data removed]",
      "text/plain": [
       "<matplotlib.figure.Figure at 0x7f353195be50>"
      ]
     },
     "metadata": {},
     "output_type": "display_data"
    },
    {
     "data": {
      "image/png": "[encoded data removed]",
      "text/plain": [
       "<matplotlib.figure.Figure at 0x7f352f92ff90>"
      ]
     },
     "metadata": {},
     "output_type": "display_data"
    },
    {
     "data": {
      "image/png": "[encoded data removed]",
      "text/plain": [
       "<matplotlib.figure.Figure at 0x7f352f8344d0>"
      ]
     },
     "metadata": {},
     "output_type": "display_data"
    },
    {
     "data": {
      "image/png": "[encoded data removed]",
      "text/plain": [
       "<matplotlib.figure.Figure at 0x7f352f945810>"
      ]
     },
     "metadata": {},
     "output_type": "display_data"
    }
   ],
   "source": [
    "p_train = [gold_seg_train_prec, gold_call_train_prec, pseudo_seg_train_prec, pseudo_call_train_prec]\n",
    "p_dev = [gold_seg_dev_prec, gold_call_dev_prec, pseudo_seg_dev_prec, pseudo_call_dev_prec]\n",
    "\n",
    "r_train = [gold_seg_train_rec, gold_call_train_rec, pseudo_seg_train_rec, pseudo_call_train_rec]\n",
    "r_dev = [gold_seg_dev_rec, gold_call_dev_rec, pseudo_seg_dev_rec, pseudo_call_dev_rec]\n",
    "\n",
    "titles = [\"precision\", \"precision\", \"recall\", \"recall\"]\n",
    "plot_names = [\"p_train.png\", \"p_dev.png\", \"r_train.png\", \"r_dev.png\"]\n",
    "all_arrays = [p_train, p_dev, r_train, r_dev]\n",
    "for i, data_array in enumerate(all_arrays):\n",
    "    plot_eacl_results(data_array, plotname=plot_names[i], title=titles[i])"
   ]
  },
  {
   "cell_type": "code",
   "execution_count": null,
   "metadata": {
    "collapsed": true
   },
   "outputs": [],
   "source": []
  },
  {
   "cell_type": "code",
   "execution_count": null,
   "metadata": {
    "collapsed": true
   },
   "outputs": [],
   "source": []
  }
 ],
 "metadata": {
  "kernelspec": {
   "display_name": "Python 2",
   "language": "python",
   "name": "python2"
  },
  "language_info": {
   "codemirror_mode": {
    "name": "ipython",
    "version": 2
   },
   "file_extension": ".py",
   "mimetype": "text/x-python",
   "name": "python",
   "nbconvert_exporter": "python",
   "pygments_lexer": "ipython2",
   "version": "2.7.12"
  }
 },
 "nbformat": 4,
 "nbformat_minor": 0
}
